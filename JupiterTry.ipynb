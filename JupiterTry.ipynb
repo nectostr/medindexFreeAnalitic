{
 "cells": [
  {
   "cell_type": "code",
   "execution_count": 2,
   "metadata": {
    "collapsed": true
   },
   "outputs": [],
   "source": [
    "from scipy import stats\n",
    "import pandas as pd\n",
    "import numpy as np\n",
    "import math\n",
    "import matplotlib.pyplot as plt\n",
    "\n",
    "# Getting the data from conver excel format\n",
    "# !!!\n",
    "# pdata Pandas data frame\n",
    "# !!!\n",
    "pdata = pd.read_csv('analysis.csv', delimiter=';')\n",
    "\n",
    "# a = set()\n",
    "rdata = pd.DataFrame(columns = [])\n",
    "# pdata.__len__()\n",
    "\n",
    "for i in range(0, 900000):\n",
    "    try:\n",
    "        rdata.set_value(pdata.iloc[i, 0], pdata.iloc[i, 6], pdata.iloc[i, 10])\n",
    "    except:\n",
    "        rdata.set_value(pdata.iloc[i, 0], pdata.iloc[i, 6], 0)"
   ]
  },
  {
   "cell_type": "code",
   "execution_count": 3,
   "metadata": {},
   "outputs": [
    {
     "name": "stdout",
     "output_type": "stream",
     "text": [
      "Empty DataFrame\nColumns: [0, 1]\nIndex: []\nEmpty DataFrame\nColumns: []\nIndex: []\nEmpty DataFrame\nColumns: [0, 2]\nIndex: []\nEmpty DataFrame\nColumns: []\nIndex: []\nEmpty DataFrame\nColumns: [0, 3]\nIndex: []\n    3\n3 NaN\n      0     4\n3014  8  77,9\n3025  8  77,9\n3026  8  77,9\n3027  8  77,9\n3028  8  77,9\n3029  8  77,9\n3036  8  77,9\n3037  8  77,9\n3038  8  77,9\n3030  8  77,9\n3031  8  77,9\n3032  8  77,9\n3033  8  77,9\n3034  8  77,9\n3035  8  77,9\nEmpty DataFrame\nColumns: []\nIndex: []\n      0    5\n3014  8  5,3\n3025  8  5,3\n3026  8  5,3\n3027  8  5,3\n3028  8  5,3\n3029  8  5,3\n3036  8  5,3\n3037  8  5,3\n3038  8  5,3\n3030  8  5,3\n3031  8  5,3\n3032  8  5,3\n3033  8  5,3\n3034  8  5,3\n3035  8  5,3\nEmpty DataFrame\nColumns: []\nIndex: []\n      0     6\n3014  8  23,4\n3025  8  23,4\n3026  8  23,4\n3027  8  23,4\n3028  8  23,4\n3029  8  23,4\n3036  8  23,4\n3037  8  23,4\n3038  8  23,4\n3030  8  23,4\n3031  8  23,4\n3032  8  23,4\n3033  8  23,4\n3034  8  23,4\n3035  8  23,4\nEmpty DataFrame\nColumns: []\nIndex: []\n      0      7\n3014  8  243,6\n3025  8  243,6\n3026  8  243,6\n3027  8  243,6\n3028  8  243,6\n3029  8  243,6\n3036  8  243,6\n3037  8  243,6\n3038  8  243,6\n3030  8  243,6\n3031  8  243,6\n3032  8  243,6\n3033  8  243,6\n3034  8  243,6\n3035  8  243,6\nEmpty DataFrame\nColumns: []\nIndex: []\n      0  8\n3014  8  0\n3025  8  0\n3026  8  0\n3027  8  0\n3028  8  0\n3029  8  0\n3036  8  0\n3037  8  0\n3038  8  0\n3030  8  0\n3031  8  0\n3032  8  0\n3033  8  0\n3034  8  0\n3035  8  0\nEmpty DataFrame\nColumns: []\nIndex: []\n      0     9\n3014  8  5,41\n3025  8  5,41\n3026  8  5,41\n3027  8  5,41\n3028  8  5,41\n3029  8  5,41\n3036  8  5,41\n3037  8  5,41\n3038  8  5,41\n3030  8  5,41\n3031  8  5,41\n3032  8  5,41\n3033  8  5,41\n3034  8  5,41\n3035  8  5,41\nEmpty DataFrame\nColumns: []\nIndex: []\nEmpty DataFrame\nColumns: [0, 10]\nIndex: []\nEmpty DataFrame\nColumns: []\nIndex: []\n     0     11\n3014  8  11,1\n3025  8  11,1\n3026  8  11,1\n3027  8  11,1\n3028  8  11,1\n3029  8  11,1\n3036  8  11,1\n3037  8  11,1\n3038  8  11,1\n3030  8  11,1\n3031  8  11,1\n3032  8  11,1\n3033  8  11,1\n3034  8  11,1\n3035  8  11,1\nEmpty DataFrame\nColumns: []\nIndex: []\nEmpty DataFrame\nColumns: [0, 12]\nIndex: []\nEmpty DataFrame\nColumns: []\nIndex: []\n     0     13\n3014  8  62,5\n3025  8  62,5\n3026  8  62,5\n3027  8  62,5\n3028  8  62,5\n3029  8  62,5\n3036  8  62,5\n3037  8  62,5\n3038  8  62,5\n3030  8  62,5\n3031  8  62,5\n3032  8  62,5\n3033  8  62,5\n3034  8  62,5\n3035  8  62,5\nEmpty DataFrame\nColumns: []\nIndex: []\n     0     14\n3014  8  32,5\n3025  8  32,5\n3026  8  32,5\n3027  8  32,5\n3028  8  32,5\n3029  8  32,5\n3036  8  32,5\n3037  8  32,5\n3038  8  32,5\n3030  8  32,5\n3031  8  32,5\n3032  8  32,5\n3033  8  32,5\n3034  8  32,5\n3035  8  32,5\nEmpty DataFrame\nColumns: []\nIndex: []\n     0      15\n3014  8  21,59\n3025  8  21,59\n3026  8  21,59\n3027  8  21,59\n3028  8  21,59\n3029  8  21,59\n3036  8  21,59\n3037  8  21,59\n3038  8  21,59\n3030  8  21,59\n3031  8  21,59\n3032  8  21,59\n3033  8  21,59\n3034  8  21,59\n3035  8  21,59\nEmpty DataFrame\nColumns: []\nIndex: []\n     0     16\n3014  8  15,5\n3025  8  15,5\n3026  8  15,5\n3027  8  15,5\n3028  8  15,5\n3029  8  15,5\n3036  8  15,5\n3037  8  15,5\n3038  8  15,5\n3030  8  15,5\n3031  8  15,5\n3032  8  15,5\n3033  8  15,5\n3034  8  15,5\n3035  8  15,5\nEmpty DataFrame\nColumns: []\nIndex: []\n"
     ]
    },
    {
     "name": "stdout",
     "output_type": "stream",
     "text": [
      "     0     17\n3014  8  42,5\n3025  8  42,5\n3026  8  42,5\n3027  8  42,5\n3028  8  42,5\n3029  8  42,5\n3036  8  42,5\n3037  8  42,5\n3038  8  42,5\n3030  8  42,5\n3031  8  42,5\n3032  8  42,5\n3033  8  42,5\n3034  8  42,5\n3035  8  42,5\nEmpty DataFrame\nColumns: []\nIndex: []\n     0     18\n3014  8  15,2\n3025  8  15,2\n3026  8  15,2\n3027  8  15,2\n3028  8  15,2\n3029  8  15,2\n3036  8  15,2\n3037  8  15,2\n3038  8  15,2\n3030  8  15,2\n3031  8  15,2\n3032  8  15,2\n3033  8  15,2\n3034  8  15,2\n3035  8  15,2\nEmpty DataFrame\nColumns: []\nIndex: []\nEmpty DataFrame\nColumns: [0, 19]\nIndex: []\n    19\n19 NaN\nEmpty DataFrame\nColumns: [0, 20]\nIndex: []\nEmpty DataFrame\nColumns: []\nIndex: []\nEmpty DataFrame\nColumns: [0, 21]\nIndex: []\nEmpty DataFrame\nColumns: []\nIndex: []\nEmpty DataFrame\nColumns: [0, 22]\nIndex: []\nEmpty DataFrame\nColumns: []\nIndex: []\nEmpty DataFrame\nColumns: [0, 23]\nIndex: []\nEmpty DataFrame\nColumns: []\nIndex: []\nEmpty DataFrame\nColumns: [0, 24]\nIndex: []\nEmpty DataFrame\nColumns: []\nIndex: []\nEmpty DataFrame\nColumns: [0, 25]\nIndex: []\n    25\n25 NaN\nEmpty DataFrame\nColumns: [0, 26]\nIndex: []\nEmpty DataFrame\nColumns: []\nIndex: []\nEmpty DataFrame\nColumns: [0, 27]\nIndex: []\nEmpty DataFrame\nColumns: []\nIndex: []\nEmpty DataFrame\nColumns: [0, 28]\nIndex: []\nEmpty DataFrame\nColumns: []\nIndex: []\nEmpty DataFrame\nColumns: [0, 29]\nIndex: []\nEmpty DataFrame\nColumns: []\nIndex: []\nEmpty DataFrame\nColumns: [0, 30]\nIndex: []\nEmpty DataFrame\nColumns: []\nIndex: []\nEmpty DataFrame\nColumns: [0, 31]\nIndex: []\nEmpty DataFrame\nColumns: []\nIndex: []\nEmpty DataFrame\nColumns: [0, 32]\nIndex: []\nEmpty DataFrame\nColumns: []\nIndex: []"
     ]
    },
    {
     "name": "stdout",
     "output_type": "stream",
     "text": [
      "\nEmpty DataFrame\nColumns: [0, 33]\nIndex: []\n    33\n33 NaN\nEmpty DataFrame\nColumns: [0, 34]\nIndex: []\n    34\n34 NaN\nEmpty DataFrame\nColumns: [0, 35]\nIndex: []\n    35\n35 NaN\nEmpty DataFrame\nColumns: [0, 36]\nIndex: []\n    36\n36 NaN\nEmpty DataFrame\nColumns: [0, 37]\nIndex: []\n    37\n37 NaN\nEmpty DataFrame\nColumns: [0, 38]\nIndex: []\n    38\n38 NaN\nEmpty DataFrame\nColumns: [0, 39]\nIndex: []\n    39\n39 NaN\nEmpty DataFrame\nColumns: [0, 40]\nIndex: []\n    40\n40 NaN\nEmpty DataFrame\nColumns: [0, 41]\nIndex: []\nEmpty DataFrame\nColumns: []\nIndex: []\nEmpty DataFrame\nColumns: [0, 42]\nIndex: []\nEmpty DataFrame\nColumns: []\nIndex: []\nEmpty DataFrame\nColumns: [0, 43]\nIndex: []\nEmpty DataFrame\nColumns: []\nIndex: []\nEmpty DataFrame\nColumns: [0, 44]\nIndex: []\nEmpty DataFrame\nColumns: []\nIndex: []\n"
     ]
    },
    {
     "name": "stdout",
     "output_type": "stream",
     "text": [
      "Empty DataFrame\nColumns: [0, 45]\nIndex: []\nEmpty DataFrame\nColumns: []\nIndex: []\nEmpty DataFrame\nColumns: [0, 46]\nIndex: []\nEmpty DataFrame\nColumns: []\nIndex: []\nEmpty DataFrame\nColumns: [0, 47]\nIndex: []\nEmpty DataFrame\nColumns: []\nIndex: []\nEmpty DataFrame\nColumns: [0, 48]\nIndex: []\nEmpty DataFrame\nColumns: []\nIndex: []\nEmpty DataFrame\nColumns: [0, 49]\nIndex: []\n    49\n49 NaN\nEmpty DataFrame\nColumns: [0, 50]\nIndex: []\nEmpty DataFrame\nColumns: []\nIndex: []\nEmpty DataFrame\nColumns: [0, 51]\nIndex: []\nEmpty DataFrame\nColumns: []\nIndex: []\nEmpty DataFrame\nColumns: [0, 52]\nIndex: []\nEmpty DataFrame\nColumns: []\nIndex: []\nEmpty DataFrame\nColumns: [0, 53]\nIndex: []\nEmpty DataFrame\nColumns: []\nIndex: []\nEmpty DataFrame\nColumns: [0, 54]\nIndex: []\nEmpty DataFrame\nColumns: []\nIndex: []\nEmpty DataFrame\nColumns: [0, 55]\nIndex: []\n"
     ]
    },
    {
     "name": "stdout",
     "output_type": "stream",
     "text": [
      "Empty DataFrame\nColumns: []\nIndex: []\nEmpty DataFrame\nColumns: [0, 56]\nIndex: []\nEmpty DataFrame\nColumns: []\nIndex: []\nEmpty DataFrame\nColumns: [0, 57]\nIndex: []\nEmpty DataFrame\nColumns: []\nIndex: []\nEmpty DataFrame\nColumns: [0, 58]\nIndex: []\nEmpty DataFrame\nColumns: []\nIndex: []\nEmpty DataFrame\nColumns: [0, 59]\nIndex: []\nEmpty DataFrame\nColumns: []\nIndex: []\nEmpty DataFrame\nColumns: [0, 60]\nIndex: []\nEmpty DataFrame\nColumns: []\nIndex: []\nEmpty DataFrame\nColumns: [0, 61]\nIndex: []\nEmpty DataFrame\nColumns: []\nIndex: []\nEmpty DataFrame\nColumns: [0, 62]\nIndex: []\nEmpty DataFrame\nColumns: []\nIndex: []\nEmpty DataFrame\nColumns: [0, 63]\nIndex: []\nEmpty DataFrame\nColumns: []\nIndex: []\nEmpty DataFrame\nColumns: [0, 64]\nIndex: []\nEmpty DataFrame\nColumns: []\nIndex: []\nEmpty DataFrame\nColumns: [0, 65]\nIndex: []\nEmpty DataFrame\nColumns: []\nIndex: []\nEmpty DataFrame\nColumns: [0, 66]\nIndex: []\nEmpty DataFrame\nColumns: []\nIndex: []\nEmpty DataFrame\nColumns: [0, 67]\nIndex: []\nEmpty DataFrame\nColumns: []\nIndex: []\nEmpty DataFrame\nColumns: [0, 68]\nIndex: []\n"
     ]
    },
    {
     "name": "stdout",
     "output_type": "stream",
     "text": [
      "Empty DataFrame\nColumns: []\nIndex: []\nEmpty DataFrame\nColumns: [0, 69]\nIndex: []\n    69\n69 NaN\nEmpty DataFrame\nColumns: [0, 70]\nIndex: []\n    70\n70 NaN\nEmpty DataFrame\nColumns: [0, 71]\nIndex: []\nEmpty DataFrame\nColumns: []\nIndex: []\nEmpty DataFrame\nColumns: [0, 72]\nIndex: []\nEmpty DataFrame\nColumns: []\nIndex: []\nEmpty DataFrame\nColumns: [0, 73]\nIndex: []\nEmpty DataFrame\nColumns: []\nIndex: []\nEmpty DataFrame\nColumns: [0, 74]\nIndex: []\n    74\n74 NaN\nEmpty DataFrame\nColumns: [0, 75]\nIndex: []\nEmpty DataFrame\nColumns: []\nIndex: []\nEmpty DataFrame\nColumns: [0, 76]\nIndex: []\nEmpty DataFrame\nColumns: []\nIndex: []\nEmpty DataFrame\nColumns: [0, 77]\nIndex: []\n    77\n77 NaN\nEmpty DataFrame\nColumns: [0, 78]\nIndex: []\n    78\n78 NaN\nEmpty DataFrame\nColumns: [0, 79]\nIndex: []\nEmpty DataFrame\nColumns: []\nIndex: []\nEmpty DataFrame\nColumns: [0, 80]\nIndex: []\nEmpty DataFrame\nColumns: []\nIndex: []\nEmpty DataFrame\nColumns: [0, 81]\nIndex: []\nEmpty DataFrame\nColumns: []\nIndex: []\n"
     ]
    },
    {
     "name": "stdout",
     "output_type": "stream",
     "text": [
      "Empty DataFrame\nColumns: [0, 82]\nIndex: []\n    82\n82 NaN\nEmpty DataFrame\nColumns: [0, 83]\nIndex: []\nEmpty DataFrame\nColumns: []\nIndex: []\nEmpty DataFrame\nColumns: [0, 84]\nIndex: []\nEmpty DataFrame\nColumns: []\nIndex: []\nEmpty DataFrame\nColumns: [0, 85]\nIndex: []\n    85\n85 NaN\nEmpty DataFrame\nColumns: [0, 86]\nIndex: []\n    86\n86 NaN\nEmpty DataFrame\nColumns: [0, 87]\nIndex: []\n    87\n87 NaN\n     0     88\n3014  8  2,41\n3025  8  2,41\n3026  8  2,41\n3027  8  2,41\n3028  8  2,41\n3029  8  2,41\n3036  8  2,41\n3037  8  2,41\n3038  8  2,41\n3030  8  2,41\n3031  8  2,41\n3032  8  2,41\n3033  8  2,41\n3034  8  2,41\n3035  8  2,41\nEmpty DataFrame\nColumns: []\nIndex: []\n     0     89\n3014  8  2,11\n3025  8  2,11\n3026  8  2,11\n3027  8  2,11\n3028  8  2,11\n3029  8  2,11\n3036  8  2,11\n3037  8  2,11\n3038  8  2,11\n3030  8  2,11\n3031  8  2,11\n3032  8  2,11\n3033  8  2,11\n3034  8  2,11\n3035  8  2,11\nEmpty DataFrame\nColumns: []\nIndex: []\n     0     90\n3014  8  4,97\n3025  8  4,97\n3026  8  4,97\n3027  8  4,97\n3028  8  4,97\n3029  8  4,97\n3036  8  4,97\n3037  8  4,97\n3038  8  4,97\n3030  8  4,97\n3031  8  4,97\n3032  8  4,97\n3033  8  4,97\n3034  8  4,97\n3035  8  4,97\nEmpty DataFrame\nColumns: []\nIndex: []\nEmpty DataFrame\nColumns: [0, 91]\nIndex: []\nEmpty DataFrame\nColumns: []\nIndex: []\n"
     ]
    },
    {
     "name": "stdout",
     "output_type": "stream",
     "text": [
      "Empty DataFrame\nColumns: [0, 92]\nIndex: []\nEmpty DataFrame\nColumns: []\nIndex: []\nEmpty DataFrame\nColumns: [0, 93]\nIndex: []\nEmpty DataFrame\nColumns: []\nIndex: []\nEmpty DataFrame\nColumns: [0, 94]\nIndex: []\n    94\n94 NaN\nEmpty DataFrame\nColumns: [0, 95]\nIndex: []\n    95\n95 NaN\nEmpty DataFrame\nColumns: [0, 96]\nIndex: []\nEmpty DataFrame\nColumns: []\nIndex: []\n     0    97\n3014  8  0.0\n3025  8  0.0\n3026  8  0.0\n3027  8  0.0\n3028  8  0.0\n3029  8  0.0\n3036  8  0.0\n3037  8  0.0\n3038  8  0.0\n3030  8  0.0\n3031  8  0.0\n3032  8  0.0\n3033  8  0.0\n3034  8  0.0\n3035  8  0.0\n    97\n97 NaN\nEmpty DataFrame\nColumns: [0, 98]\nIndex: []\n    98\n98 NaN\nEmpty DataFrame\nColumns: [0, 99]\nIndex: []\nEmpty DataFrame\nColumns: []\nIndex: []\nEmpty DataFrame\nColumns: [0, 100]\nIndex: []\n     100\n100  NaN\nEmpty DataFrame\nColumns: [0, 101]\nIndex: []\nEmpty DataFrame\nColumns: []\nIndex: []\n"
     ]
    },
    {
     "name": "stdout",
     "output_type": "stream",
     "text": [
      "Empty DataFrame\nColumns: [0, 102]\nIndex: []\nEmpty DataFrame\nColumns: []\nIndex: []\nEmpty DataFrame\nColumns: [0, 103]\nIndex: []\nEmpty DataFrame\nColumns: []\nIndex: []\nEmpty DataFrame\nColumns: [0, 104]\nIndex: []\nEmpty DataFrame\nColumns: []\nIndex: []\nEmpty DataFrame\nColumns: [0, 105]\nIndex: []\n     105\n105  NaN\nEmpty DataFrame\nColumns: [0, 106]\nIndex: []\n     106\n106  NaN\nEmpty DataFrame\nColumns: [0, 107]\nIndex: []\n     107\n107  NaN\nEmpty DataFrame\nColumns: [0, 108]\nIndex: []\n     108\n108  NaN\nEmpty DataFrame\nColumns: [0, 109]\nIndex: []\n     109\n109  NaN\nEmpty DataFrame\nColumns: [0, 110]\nIndex: []\n     110\n110  NaN\nEmpty DataFrame\nColumns: [0, 111]\nIndex: []\n     111\n111  NaN\nEmpty DataFrame\nColumns: [0, 112]\nIndex: []\n"
     ]
    },
    {
     "name": "stdout",
     "output_type": "stream",
     "text": [
      "Empty DataFrame\nColumns: []\nIndex: []\nEmpty DataFrame\nColumns: [0, 113]\nIndex: []\nEmpty DataFrame\nColumns: []\nIndex: []\nEmpty DataFrame\nColumns: [0, 114]\nIndex: []\nEmpty DataFrame\nColumns: []\nIndex: []\nEmpty DataFrame\nColumns: [0, 115]\nIndex: []\nEmpty DataFrame\nColumns: []\nIndex: []\nEmpty DataFrame\nColumns: [0, 116]\nIndex: []\nEmpty DataFrame\nColumns: []\nIndex: []\nEmpty DataFrame\nColumns: [0, 117]\nIndex: []\n     117\n117  NaN\nEmpty DataFrame\nColumns: [0, 118]\nIndex: []\n     118\n118  NaN\nEmpty DataFrame\nColumns: [0, 119]\nIndex: []\n     119\n119  NaN\nEmpty DataFrame\nColumns: [0, 120]\nIndex: []\n     120\n120  NaN\nEmpty DataFrame\nColumns: [0, 121]\nIndex: []\n     121\n121  NaN\nEmpty DataFrame\nColumns: [0, 122]\nIndex: []\n"
     ]
    },
    {
     "name": "stdout",
     "output_type": "stream",
     "text": [
      "     122\n122  NaN\nEmpty DataFrame\nColumns: [0, 123]\nIndex: []\n     123\n123  NaN\nEmpty DataFrame\nColumns: [0, 124]\nIndex: []\n     124\n124  NaN\nEmpty DataFrame\nColumns: [0, 125]\nIndex: []\n     125\n125  NaN\nEmpty DataFrame\nColumns: [0, 126]\nIndex: []\nEmpty DataFrame\nColumns: []\nIndex: []\nEmpty DataFrame\nColumns: [0, 127]\nIndex: []\nEmpty DataFrame\nColumns: []\nIndex: []\nEmpty DataFrame\nColumns: [0, 128]\nIndex: []\nEmpty DataFrame\nColumns: []\nIndex: []\nEmpty DataFrame\nColumns: [0, 129]\nIndex: []\nEmpty DataFrame\nColumns: []\nIndex: []\nEmpty DataFrame\nColumns: [0, 130]\nIndex: []\n     130\n130  NaN\nEmpty DataFrame\nColumns: [0, 131]\nIndex: []\nEmpty DataFrame\nColumns: []\nIndex: []\nEmpty DataFrame\nColumns: [0, 132]\nIndex: []\nEmpty DataFrame\nColumns: []\nIndex: []\nEmpty DataFrame\nColumns: [0, 133]\nIndex: []\nEmpty DataFrame\nColumns: []\nIndex: []\nEmpty DataFrame\nColumns: [0, 134]\nIndex: []\nEmpty DataFrame\nColumns: []\nIndex: []\n"
     ]
    },
    {
     "name": "stdout",
     "output_type": "stream",
     "text": [
      "Empty DataFrame\nColumns: [0, 135]\nIndex: []\nEmpty DataFrame\nColumns: []\nIndex: []\nEmpty DataFrame\nColumns: [0, 136]\nIndex: []\nEmpty DataFrame\nColumns: []\nIndex: []\nEmpty DataFrame\nColumns: [0, 137]\nIndex: []\nEmpty DataFrame\nColumns: []\nIndex: []\nEmpty DataFrame\nColumns: [0, 138]\nIndex: []\nEmpty DataFrame\nColumns: []\nIndex: []\nEmpty DataFrame\nColumns: [0, 139]\nIndex: []\nEmpty DataFrame\nColumns: []\nIndex: []\nEmpty DataFrame\nColumns: [0, 140]\nIndex: []\nEmpty DataFrame\nColumns: []\nIndex: []\nEmpty DataFrame\nColumns: [0, 141]\nIndex: []\nEmpty DataFrame\nColumns: []\nIndex: []\nEmpty DataFrame\nColumns: [0, 142]\nIndex: []\nEmpty DataFrame\nColumns: []\nIndex: []\nEmpty DataFrame\nColumns: [0, 143]\nIndex: []\nEmpty DataFrame\nColumns: []\nIndex: []\nEmpty DataFrame\nColumns: [0, 144]\nIndex: []\nEmpty DataFrame\nColumns: []\nIndex: []\nEmpty DataFrame\nColumns: [0, 145]\nIndex: []\nEmpty DataFrame\nColumns: []\nIndex: []"
     ]
    },
    {
     "name": "stdout",
     "output_type": "stream",
     "text": [
      "\nEmpty DataFrame\nColumns: [0, 146]\nIndex: []\nEmpty DataFrame\nColumns: []\nIndex: []\nEmpty DataFrame\nColumns: [0, 147]\nIndex: []\nEmpty DataFrame\nColumns: []\nIndex: []\nEmpty DataFrame\nColumns: [0, 148]\nIndex: []\nEmpty DataFrame\nColumns: []\nIndex: []\nEmpty DataFrame\nColumns: [0, 149]\nIndex: []\nEmpty DataFrame\nColumns: []\nIndex: []\nEmpty DataFrame\nColumns: [0, 150]\nIndex: []\nEmpty DataFrame\nColumns: []\nIndex: []\nEmpty DataFrame\nColumns: [0, 151]\nIndex: []\nEmpty DataFrame\nColumns: []\nIndex: []\nEmpty DataFrame\nColumns: [0, 152]\nIndex: []\n     152\n152  NaN\nEmpty DataFrame\nColumns: [0, 153]\nIndex: []\n     153\n153  NaN\nEmpty DataFrame\nColumns: [0, 154]\nIndex: []\n     154\n154  NaN\nEmpty DataFrame\nColumns: [0, 155]\nIndex: []\nEmpty DataFrame\nColumns: []\nIndex: []\nEmpty DataFrame\nColumns: [0, 156]\nIndex: []\nEmpty DataFrame\nColumns: []\nIndex: []\nEmpty DataFrame\nColumns: [0, 157]\nIndex: []\nEmpty DataFrame\nColumns: []\nIndex: []\n"
     ]
    },
    {
     "name": "stdout",
     "output_type": "stream",
     "text": [
      "Empty DataFrame\nColumns: [0, 158]\nIndex: []\nEmpty DataFrame\nColumns: []\nIndex: []\nEmpty DataFrame\nColumns: [0, 159]\nIndex: []\nEmpty DataFrame\nColumns: []\nIndex: []\nEmpty DataFrame\nColumns: [0, 160]\nIndex: []\nEmpty DataFrame\nColumns: []\nIndex: []\nEmpty DataFrame\nColumns: [0, 161]\nIndex: []\nEmpty DataFrame\nColumns: []\nIndex: []\nEmpty DataFrame\nColumns: [0, 162]\nIndex: []\n     162\n162  NaN\nEmpty DataFrame\nColumns: [0, 163]\nIndex: []\nEmpty DataFrame\nColumns: []\nIndex: []\nEmpty DataFrame\nColumns: [0, 164]\nIndex: []\nEmpty DataFrame\nColumns: []\nIndex: []\nEmpty DataFrame\nColumns: [0, 165]\nIndex: []\n     165\n165  NaN\nEmpty DataFrame\nColumns: [0, 166]\nIndex: []\nEmpty DataFrame\nColumns: []\nIndex: []\nEmpty DataFrame\nColumns: [0, 167]\nIndex: []\nEmpty DataFrame\nColumns: []\nIndex: []\nEmpty DataFrame\nColumns: [0, 168]\nIndex: []\nEmpty DataFrame\nColumns: []\nIndex: []\nEmpty DataFrame\nColumns: [0, 169]\nIndex: []"
     ]
    },
    {
     "name": "stdout",
     "output_type": "stream",
     "text": [
      "\nEmpty DataFrame\nColumns: []\nIndex: []\nEmpty DataFrame\nColumns: [0, 170]\nIndex: []\nEmpty DataFrame\nColumns: []\nIndex: []\nEmpty DataFrame\nColumns: [0, 171]\nIndex: []\nEmpty DataFrame\nColumns: []\nIndex: []\nEmpty DataFrame\nColumns: [0, 172]\nIndex: []\nEmpty DataFrame\nColumns: []\nIndex: []\nEmpty DataFrame\nColumns: [0, 173]\nIndex: []\nEmpty DataFrame\nColumns: []\nIndex: []\nEmpty DataFrame\nColumns: [0, 174]\nIndex: []\nEmpty DataFrame\nColumns: []\nIndex: []\nEmpty DataFrame\nColumns: [0, 175]\nIndex: []\nEmpty DataFrame\nColumns: []\nIndex: []\nEmpty DataFrame\nColumns: [0, 176]\nIndex: []\n     176\n176  NaN\nEmpty DataFrame\nColumns: [0, 177]\nIndex: []\nEmpty DataFrame\nColumns: []\nIndex: []\nEmpty DataFrame\nColumns: [0, 178]\nIndex: []\nEmpty DataFrame\nColumns: []\nIndex: []\nEmpty DataFrame\nColumns: [0, 179]\nIndex: []\nEmpty DataFrame\nColumns: []\nIndex: []\nEmpty DataFrame\nColumns: [0, 180]\nIndex: []\nEmpty DataFrame\nColumns: []\nIndex: []\nEmpty DataFrame\nColumns: [0, 181]\nIndex: []\nEmpty DataFrame\nColumns: []\nIndex: []\nEmpty DataFrame\nColumns: [0, 182]\nIndex: []\nEmpty DataFrame\nColumns: []\nIndex: []\nEmpty DataFrame\nColumns: [0, 183]\nIndex: []\n     183\n183  NaN\nEmpty DataFrame\nColumns: [0, 184]\nIndex: []\nEmpty DataFrame\nColumns: []\nIndex: []\n"
     ]
    },
    {
     "name": "stdout",
     "output_type": "stream",
     "text": [
      "Empty DataFrame\nColumns: [0, 185]\nIndex: []\nEmpty DataFrame\nColumns: []\nIndex: []\nEmpty DataFrame\nColumns: [0, 186]\nIndex: []\nEmpty DataFrame\nColumns: []\nIndex: []\nEmpty DataFrame\nColumns: [0, 187]\nIndex: []\nEmpty DataFrame\nColumns: []\nIndex: []\nEmpty DataFrame\nColumns: [0, 188]\nIndex: []\nEmpty DataFrame\nColumns: []\nIndex: []\nEmpty DataFrame\nColumns: [0, 189]\nIndex: []\nEmpty DataFrame\nColumns: []\nIndex: []\nEmpty DataFrame\nColumns: [0, 190]\nIndex: []\nEmpty DataFrame\nColumns: []\nIndex: []\nEmpty DataFrame\nColumns: [0, 191]\nIndex: []\n     191\n191  NaN\nEmpty DataFrame\nColumns: [0, 192]\nIndex: []\n     192\n192  NaN\nEmpty DataFrame\nColumns: [0, 193]\nIndex: []\n     193\n193  NaN\nEmpty DataFrame\nColumns: [0, 194]\nIndex: []\n     194\n194  NaN\nEmpty DataFrame\nColumns: [0, 195]\nIndex: []\nEmpty DataFrame\nColumns: []\nIndex: []\nEmpty DataFrame\nColumns: [0, 196]\nIndex: []\n     196\n196  NaN\nEmpty DataFrame\nColumns: [0, 197]\nIndex: []\n     197\n197  NaN\nEmpty DataFrame\nColumns: [0, 198]\nIndex: []\n     198\n198  NaN\nEmpty DataFrame\nColumns: [0, 199]\nIndex: []\n     199\n199  NaN\nEmpty DataFrame\nColumns: [0, 200]\nIndex: []\n     200\n200  NaN\n"
     ]
    },
    {
     "name": "stdout",
     "output_type": "stream",
     "text": [
      "Empty DataFrame\nColumns: [0, 201]\nIndex: []\n     201\n201  NaN\nEmpty DataFrame\nColumns: [0, 202]\nIndex: []\nEmpty DataFrame\nColumns: []\nIndex: []\nEmpty DataFrame\nColumns: [0, 203]\nIndex: []\nEmpty DataFrame\nColumns: []\nIndex: []\nEmpty DataFrame\nColumns: [0, 204]\nIndex: []\nEmpty DataFrame\nColumns: []\nIndex: []\nEmpty DataFrame\nColumns: [0, 205]\nIndex: []\nEmpty DataFrame\nColumns: []\nIndex: []\nEmpty DataFrame\nColumns: [0, 206]\nIndex: []\nEmpty DataFrame\nColumns: []\nIndex: []\nEmpty DataFrame\nColumns: [0, 207]\nIndex: []\nEmpty DataFrame\nColumns: []\nIndex: []\nEmpty DataFrame\nColumns: [0, 208]\nIndex: []\nEmpty DataFrame\nColumns: []\nIndex: []\nEmpty DataFrame\nColumns: [0, 209]\nIndex: []\nEmpty DataFrame\nColumns: []\nIndex: []\nEmpty DataFrame\nColumns: [0, 210]\nIndex: []\nEmpty DataFrame\nColumns: []\nIndex: []\nEmpty DataFrame\nColumns: [0, 211]\nIndex: []\nEmpty DataFrame\nColumns: []\nIndex: []\nEmpty DataFrame\nColumns: [0, 212]\nIndex: []\nEmpty DataFrame\nColumns: []\nIndex: []\nEmpty DataFrame\nColumns: [0, 213]\nIndex: []\nEmpty DataFrame\nColumns: []\nIndex: []\nEmpty DataFrame\nColumns: [0, 214]\nIndex: []\nEmpty DataFrame\nColumns: []\nIndex: []\nEmpty DataFrame\nColumns: [0, 215]\nIndex: []\nEmpty DataFrame\nColumns: []\nIndex: []\nEmpty DataFrame\nColumns: [0, 216]\nIndex: []\nEmpty DataFrame\nColumns: []\nIndex: []\nEmpty DataFrame\nColumns: [0, 217]\nIndex: []\nEmpty DataFrame\nColumns: []\nIndex: []\nEmpty DataFrame\nColumns: [0, 218]\nIndex: []\n     218\n218  NaN\n"
     ]
    },
    {
     "name": "stdout",
     "output_type": "stream",
     "text": [
      "Empty DataFrame\nColumns: [0, 219]\nIndex: []\n     219\n219  NaN\nEmpty DataFrame\nColumns: [0, 220]\nIndex: []\n     220\n220  NaN\nEmpty DataFrame\nColumns: [0, 221]\nIndex: []\n     221\n221  NaN\nEmpty DataFrame\nColumns: [0, 222]\nIndex: []\n     222\n222  NaN\nEmpty DataFrame\nColumns: [0, 223]\nIndex: []\nEmpty DataFrame\nColumns: []\nIndex: []\nEmpty DataFrame\nColumns: [0, 224]\nIndex: []\nEmpty DataFrame\nColumns: []\nIndex: []\nEmpty DataFrame\nColumns: [0, 225]\nIndex: []\nEmpty DataFrame\nColumns: []\nIndex: []\nEmpty DataFrame\nColumns: [0, 226]\nIndex: []\n     226\n226  NaN\nEmpty DataFrame\nColumns: [0, 227]\nIndex: []\n     227\n227  NaN\nEmpty DataFrame\nColumns: [0, 228]\nIndex: []\n     228\n228  NaN\nEmpty DataFrame\nColumns: [0, 229]\nIndex: []\nEmpty DataFrame\nColumns: []\nIndex: []\nEmpty DataFrame\nColumns: [0, 230]\nIndex: []\n     230\n230  NaN\nEmpty DataFrame\nColumns: [0, 231]\nIndex: []\n     231\n231  NaN\nEmpty DataFrame\nColumns: [0, 232]\nIndex: []\n     232\n232  NaN\nEmpty DataFrame\nColumns: [0, 233]\nIndex: []\nEmpty DataFrame\nColumns: []\nIndex: []\nEmpty DataFrame\nColumns: [0, 234]\nIndex: []\n     234\n234  NaN\n"
     ]
    },
    {
     "name": "stdout",
     "output_type": "stream",
     "text": [
      "Empty DataFrame\nColumns: [0, 235]\nIndex: []\n     235\n235  NaN\nEmpty DataFrame\nColumns: [0, 236]\nIndex: []\nEmpty DataFrame\nColumns: []\nIndex: []\nEmpty DataFrame\nColumns: [0, 237]\nIndex: []\n     237\n237  NaN\nEmpty DataFrame\nColumns: [0, 238]\nIndex: []\n     238\n238  NaN\nEmpty DataFrame\nColumns: [0, 239]\nIndex: []\nEmpty DataFrame\nColumns: []\nIndex: []\nEmpty DataFrame\nColumns: [0, 240]\nIndex: []\nEmpty DataFrame\nColumns: []\nIndex: []\nEmpty DataFrame\nColumns: [0, 241]\nIndex: []\nEmpty DataFrame\nColumns: []\nIndex: []\nEmpty DataFrame\nColumns: [0, 242]\nIndex: []\nEmpty DataFrame\nColumns: []\nIndex: []\nEmpty DataFrame\nColumns: [0, 243]\nIndex: []\nEmpty DataFrame\nColumns: []\nIndex: []\nEmpty DataFrame\nColumns: [0, 244]\nIndex: []\n     244\n244  NaN\nEmpty DataFrame\nColumns: [0, 245]\nIndex: []\nEmpty DataFrame\nColumns: []\nIndex: []\nEmpty DataFrame\nColumns: [0, 246]\nIndex: []\n     246\n246  NaN\nEmpty DataFrame\nColumns: [0, 247]\nIndex: []\n     247\n247  NaN\nEmpty DataFrame\nColumns: [0, 248]\nIndex: []\n     248\n248  NaN\nEmpty DataFrame\nColumns: [0, 249]\nIndex: []\nEmpty DataFrame\nColumns: []\nIndex: []\nEmpty DataFrame\nColumns: [0, 250]\nIndex: []\n     250\n250  NaN\n"
     ]
    },
    {
     "name": "stdout",
     "output_type": "stream",
     "text": [
      "Empty DataFrame\nColumns: [0, 251]\nIndex: []\n     251\n251  NaN\nEmpty DataFrame\nColumns: [0, 252]\nIndex: []\nEmpty DataFrame\nColumns: []\nIndex: []\nEmpty DataFrame\nColumns: [0, 253]\nIndex: []\n     253\n253  NaN\nEmpty DataFrame\nColumns: [0, 254]\nIndex: []\n     254\n254  NaN\nEmpty DataFrame\nColumns: [0, 255]\nIndex: []\nEmpty DataFrame\nColumns: []\nIndex: []\nEmpty DataFrame\nColumns: [0, 256]\nIndex: []\nEmpty DataFrame\nColumns: []\nIndex: []\nEmpty DataFrame\nColumns: [0, 257]\nIndex: []\n     257\n257  NaN\nEmpty DataFrame\nColumns: [0, 258]\nIndex: []\n     258\n258  NaN\nEmpty DataFrame\nColumns: [0, 259]\nIndex: []\nEmpty DataFrame\nColumns: []\nIndex: []\nEmpty DataFrame\nColumns: [0, 260]\nIndex: []\nEmpty DataFrame\nColumns: []\nIndex: []\nEmpty DataFrame\nColumns: [0, 261]\nIndex: []\nEmpty DataFrame\nColumns: []\nIndex: []\nEmpty DataFrame\nColumns: [0, 262]\nIndex: []\nEmpty DataFrame\nColumns: []\nIndex: []\nEmpty DataFrame\nColumns: [0, 263]\nIndex: []\nEmpty DataFrame\nColumns: []\nIndex: []\nEmpty DataFrame\nColumns: [0, 264]\nIndex: []\nEmpty DataFrame\nColumns: []\nIndex: []\nEmpty DataFrame\nColumns: [0, 265]\nIndex: []\nEmpty DataFrame\nColumns: []\nIndex: []\nEmpty DataFrame\nColumns: [0, 266]\nIndex: []\n     266\n266  NaN\nEmpty DataFrame\nColumns: [0, 267]\nIndex: []\n     267\n267  NaN\n"
     ]
    },
    {
     "name": "stdout",
     "output_type": "stream",
     "text": [
      "Empty DataFrame\nColumns: [0, 268]\nIndex: []\nEmpty DataFrame\nColumns: []\nIndex: []\nEmpty DataFrame\nColumns: [0, 269]\nIndex: []\nEmpty DataFrame\nColumns: []\nIndex: []\nEmpty DataFrame\nColumns: [0, 270]\nIndex: []\nEmpty DataFrame\nColumns: []\nIndex: []\nEmpty DataFrame\nColumns: [0, 271]\nIndex: []\n     271\n271  NaN\nEmpty DataFrame\nColumns: [0, 272]\nIndex: []\n     272\n272  NaN\nEmpty DataFrame\nColumns: [0, 273]\nIndex: []\nEmpty DataFrame\nColumns: []\nIndex: []\nEmpty DataFrame\nColumns: [0, 274]\nIndex: []\nEmpty DataFrame\nColumns: []\nIndex: []\nEmpty DataFrame\nColumns: [0, 275]\nIndex: []\nEmpty DataFrame\nColumns: []\nIndex: []\nEmpty DataFrame\nColumns: [0, 276]\nIndex: []\nEmpty DataFrame\nColumns: []\nIndex: []\nEmpty DataFrame\nColumns: [0, 277]\nIndex: []\nEmpty DataFrame\nColumns: []\nIndex: []\nEmpty DataFrame\nColumns: [0, 278]\nIndex: []\nEmpty DataFrame\nColumns: []\nIndex: []\nEmpty DataFrame\nColumns: [0, 279]\nIndex: []\n     279\n279  NaN\nEmpty DataFrame\nColumns: [0, 280]\nIndex: []\nEmpty DataFrame\nColumns: []\nIndex: []\n"
     ]
    },
    {
     "name": "stdout",
     "output_type": "stream",
     "text": [
      "Empty DataFrame\nColumns: [0, 281]\nIndex: []\nEmpty DataFrame\nColumns: []\nIndex: []\nEmpty DataFrame\nColumns: [0, 282]\nIndex: []\nEmpty DataFrame\nColumns: []\nIndex: []\nEmpty DataFrame\nColumns: [0, 283]\nIndex: []\nEmpty DataFrame\nColumns: []\nIndex: []\nEmpty DataFrame\nColumns: [0, 284]\nIndex: []\nEmpty DataFrame\nColumns: []\nIndex: []\nEmpty DataFrame\nColumns: [0, 285]\nIndex: []\n     285\n285  NaN\nEmpty DataFrame\nColumns: [0, 286]\nIndex: []\nEmpty DataFrame\nColumns: []\nIndex: []\nEmpty DataFrame\nColumns: [0, 287]\nIndex: []\nEmpty DataFrame\nColumns: []\nIndex: []\nEmpty DataFrame\nColumns: [0, 288]\nIndex: []\nEmpty DataFrame\nColumns: []\nIndex: []\nEmpty DataFrame\nColumns: [0, 289]\nIndex: []\nEmpty DataFrame\nColumns: []\nIndex: []\nEmpty DataFrame\nColumns: [0, 290]\nIndex: []\n     290\n290  NaN\nEmpty DataFrame\nColumns: [0, 291]\nIndex: []\n     291\n291  NaN\nEmpty DataFrame\nColumns: [0, 292]\nIndex: []\nEmpty DataFrame\nColumns: []\nIndex: []\nEmpty DataFrame\nColumns: [0, 293]\nIndex: []\n     293\n293  NaN\nEmpty DataFrame\nColumns: [0, 294]\nIndex: []\nEmpty DataFrame\nColumns: []\nIndex: []\nEmpty DataFrame\nColumns: [0, 295]\nIndex: []\n     295\n295  NaN\nEmpty DataFrame\nColumns: [0, 296]\nIndex: []\n     296\n296  NaN\n"
     ]
    },
    {
     "name": "stdout",
     "output_type": "stream",
     "text": [
      "Empty DataFrame\nColumns: [0, 297]\nIndex: []\n     297\n297  NaN\nEmpty DataFrame\nColumns: [0, 298]\nIndex: []\nEmpty DataFrame\nColumns: []\nIndex: []\nEmpty DataFrame\nColumns: [0, 299]\nIndex: []\nEmpty DataFrame\nColumns: []\nIndex: []\nEmpty DataFrame\nColumns: [0, 300]\nIndex: []\nEmpty DataFrame\nColumns: []\nIndex: []\nEmpty DataFrame\nColumns: [0, 301]\nIndex: []\nEmpty DataFrame\nColumns: []\nIndex: []\nEmpty DataFrame\nColumns: [0, 302]\nIndex: []\nEmpty DataFrame\nColumns: []\nIndex: []\nEmpty DataFrame\nColumns: [0, 303]\nIndex: []\nEmpty DataFrame\nColumns: []\nIndex: []\nEmpty DataFrame\nColumns: [0, 304]\nIndex: []\nEmpty DataFrame\nColumns: []\nIndex: []\nEmpty DataFrame\nColumns: [0, 305]\nIndex: []\nEmpty DataFrame\nColumns: []\nIndex: []\nEmpty DataFrame\nColumns: [0, 306]\nIndex: []\nEmpty DataFrame\nColumns: []\nIndex: []\nEmpty DataFrame\nColumns: [0, 307]\nIndex: []\n     307\n307  NaN\nEmpty DataFrame\nColumns: [0, 308]\nIndex: []\n     308\n308  NaN\nEmpty DataFrame\nColumns: [0, 309]\nIndex: []\n     309\n309  NaN\nEmpty DataFrame\nColumns: [0, 310]\nIndex: []\n     310\n310  NaN\n"
     ]
    },
    {
     "name": "stdout",
     "output_type": "stream",
     "text": [
      "Empty DataFrame\nColumns: [0, 311]\nIndex: []\nEmpty DataFrame\nColumns: []\nIndex: []\nEmpty DataFrame\nColumns: [0, 312]\nIndex: []\nEmpty DataFrame\nColumns: []\nIndex: []\nEmpty DataFrame\nColumns: [0, 313]\nIndex: []\nEmpty DataFrame\nColumns: []\nIndex: []\nEmpty DataFrame\nColumns: [0, 314]\nIndex: []\n     314\n314  NaN\nEmpty DataFrame\nColumns: [0, 315]\nIndex: []\n     315\n315  NaN\nEmpty DataFrame\nColumns: [0, 316]\nIndex: []\nEmpty DataFrame\nColumns: []\nIndex: []\nEmpty DataFrame\nColumns: [0, 317]\nIndex: []\nEmpty DataFrame\nColumns: []\nIndex: []\nEmpty DataFrame\nColumns: [0, 318]\nIndex: []\nEmpty DataFrame\nColumns: []\nIndex: []\nEmpty DataFrame\nColumns: [0, 319]\nIndex: []\n     319\n319  NaN\nEmpty DataFrame\nColumns: [0, 320]\nIndex: []\n     320\n320  NaN\nEmpty DataFrame\nColumns: [0, 321]\nIndex: []\n     321\n321  NaN\nEmpty DataFrame\nColumns: [0, 322]\nIndex: []\nEmpty DataFrame\nColumns: []\nIndex: []\nEmpty DataFrame\nColumns: [0, 323]\nIndex: []\nEmpty DataFrame\nColumns: []\nIndex: []\nEmpty DataFrame\nColumns: [0, 324]\nIndex: []\nEmpty DataFrame\nColumns: []\nIndex: []\nEmpty DataFrame\nColumns: [0, 325]\nIndex: []\nEmpty DataFrame\nColumns: []\nIndex: []\nEmpty DataFrame\nColumns: [0, 326]\nIndex: []\nEmpty DataFrame\nColumns: []\nIndex: []\n"
     ]
    },
    {
     "name": "stdout",
     "output_type": "stream",
     "text": [
      "Empty DataFrame\nColumns: [0, 327]\nIndex: []\nEmpty DataFrame\nColumns: []\nIndex: []\nEmpty DataFrame\nColumns: [0, 328]\nIndex: []\nEmpty DataFrame\nColumns: []\nIndex: []\nEmpty DataFrame\nColumns: [0, 329]\nIndex: []\nEmpty DataFrame\nColumns: []\nIndex: []\nEmpty DataFrame\nColumns: [0, 330]\nIndex: []\nEmpty DataFrame\nColumns: []\nIndex: []\nEmpty DataFrame\nColumns: [0, 331]\nIndex: []\nEmpty DataFrame\nColumns: []\nIndex: []\nEmpty DataFrame\nColumns: [0, 332]\nIndex: []\nEmpty DataFrame\nColumns: []\nIndex: []\nEmpty DataFrame\nColumns: [0, 333]\nIndex: []\n     333\n333  NaN\nEmpty DataFrame\nColumns: [0, 334]\nIndex: []\n     334\n334  NaN\nEmpty DataFrame\nColumns: [0, 335]\nIndex: []\nEmpty DataFrame\nColumns: []\nIndex: []\nEmpty DataFrame\nColumns: [0, 336]\nIndex: []\nEmpty DataFrame\nColumns: []\nIndex: []\nEmpty DataFrame\nColumns: [0, 337]\nIndex: []\n     337\n337  NaN\nEmpty DataFrame\nColumns: [0, 338]\nIndex: []\n     338\n338  NaN\nEmpty DataFrame\nColumns: [0, 339]\nIndex: []\n     339\n339  NaN\nEmpty DataFrame\nColumns: [0, 340]\nIndex: []\nEmpty DataFrame\nColumns: []\nIndex: []\nEmpty DataFrame\nColumns: [0, 341]\nIndex: []\nEmpty DataFrame\nColumns: []\nIndex: []\nEmpty DataFrame\nColumns: [0, 342]\nIndex: []\nEmpty DataFrame\nColumns: []\nIndex: []\n"
     ]
    },
    {
     "name": "stdout",
     "output_type": "stream",
     "text": [
      "Empty DataFrame\nColumns: [0, 343]\nIndex: []\nEmpty DataFrame\nColumns: []\nIndex: []\nEmpty DataFrame\nColumns: [0, 344]\nIndex: []\nEmpty DataFrame\nColumns: []\nIndex: []\nEmpty DataFrame\nColumns: [0, 345]\nIndex: []\n     345\n345  NaN\nEmpty DataFrame\nColumns: [0, 346]\nIndex: []\nEmpty DataFrame\nColumns: []\nIndex: []\nEmpty DataFrame\nColumns: [0, 347]\nIndex: []\nEmpty DataFrame\nColumns: []\nIndex: []\nEmpty DataFrame\nColumns: [0, 348]\nIndex: []\n     348\n348  NaN\nEmpty DataFrame\nColumns: [0, 349]\nIndex: []\nEmpty DataFrame\nColumns: []\nIndex: []\nEmpty DataFrame\nColumns: [0, 350]\nIndex: []\nEmpty DataFrame\nColumns: []\nIndex: []\nEmpty DataFrame\nColumns: [0, 351]\nIndex: []\n     351\n351  NaN\nEmpty DataFrame\nColumns: [0, 352]\nIndex: []\nEmpty DataFrame\nColumns: []\nIndex: []\nEmpty DataFrame\nColumns: [0, 353]\nIndex: []\nEmpty DataFrame\nColumns: []\nIndex: []\nEmpty DataFrame\nColumns: [0, 354]\nIndex: []\n     354\n354  NaN\nEmpty DataFrame\nColumns: [0, 355]\nIndex: []\n     355\n355  NaN\nEmpty DataFrame\nColumns: [0, 356]\nIndex: []\n     356\n356  NaN\nEmpty DataFrame\nColumns: [0, 357]\nIndex: []\n     357\n357  NaN\nEmpty DataFrame\nColumns: [0, 358]\nIndex: []\n     358\n358  NaN\nEmpty DataFrame\nColumns: [0, 359]\nIndex: []\n     359\n359  NaN\n"
     ]
    },
    {
     "name": "stdout",
     "output_type": "stream",
     "text": [
      "Empty DataFrame\nColumns: [0, 360]\nIndex: []\n     360\n360  NaN\nEmpty DataFrame\nColumns: [0, 361]\nIndex: []\n     361\n361  NaN\nEmpty DataFrame\nColumns: [0, 362]\nIndex: []\n     362\n362  NaN\nEmpty DataFrame\nColumns: [0, 363]\nIndex: []\nEmpty DataFrame\nColumns: []\nIndex: []\nEmpty DataFrame\nColumns: [0, 364]\nIndex: []\nEmpty DataFrame\nColumns: []\nIndex: []\nEmpty DataFrame\nColumns: [0, 365]\nIndex: []\nEmpty DataFrame\nColumns: []\nIndex: []\nEmpty DataFrame\nColumns: [0, 366]\nIndex: []\nEmpty DataFrame\nColumns: []\nIndex: []\nEmpty DataFrame\nColumns: [0, 367]\nIndex: []\n     367\n367  NaN\nEmpty DataFrame\nColumns: [0, 368]\nIndex: []\nEmpty DataFrame\nColumns: []\nIndex: []\nEmpty DataFrame\nColumns: [0, 369]\nIndex: []\n     369\n369  NaN\nEmpty DataFrame\nColumns: [0, 370]\nIndex: []\nEmpty DataFrame\nColumns: []\nIndex: []\nEmpty DataFrame\nColumns: [0, 371]\nIndex: []\nEmpty DataFrame\nColumns: []\nIndex: []\nEmpty DataFrame\nColumns: [0, 372]\nIndex: []\nEmpty DataFrame\nColumns: []\nIndex: []\nEmpty DataFrame\nColumns: [0, 373]\nIndex: []\nEmpty DataFrame\nColumns: []\nIndex: []\nEmpty DataFrame\nColumns: [0, 374]\nIndex: []\nEmpty DataFrame\nColumns: []\nIndex: []\nEmpty DataFrame\nColumns: [0, 375]\nIndex: []\n     375\n375  NaN\nEmpty DataFrame\nColumns: [0, 376]\nIndex: []\n"
     ]
    },
    {
     "name": "stdout",
     "output_type": "stream",
     "text": [
      "     376\n376  NaN\nEmpty DataFrame\nColumns: [0, 377]\nIndex: []\nEmpty DataFrame\nColumns: []\nIndex: []\nEmpty DataFrame\nColumns: [0, 378]\nIndex: []\n     378\n378  NaN\nEmpty DataFrame\nColumns: [0, 379]\nIndex: []\nEmpty DataFrame\nColumns: []\nIndex: []\nEmpty DataFrame\nColumns: [0, 380]\nIndex: []\nEmpty DataFrame\nColumns: []\nIndex: []\nEmpty DataFrame\nColumns: [0, 381]\nIndex: []\nEmpty DataFrame\nColumns: []\nIndex: []\nEmpty DataFrame\nColumns: [0, 382]\nIndex: []\nEmpty DataFrame\nColumns: []\nIndex: []\nEmpty DataFrame\nColumns: [0, 383]\nIndex: []\nEmpty DataFrame\nColumns: []\nIndex: []\nEmpty DataFrame\nColumns: [0, 384]\nIndex: []\nEmpty DataFrame\nColumns: []\nIndex: []\nEmpty DataFrame\nColumns: [0, 385]\nIndex: []\nEmpty DataFrame\nColumns: []\nIndex: []\nEmpty DataFrame\nColumns: [0, 386]\nIndex: []\n     386\n386  NaN\nEmpty DataFrame\nColumns: [0, 387]\nIndex: []\n     387\n387  NaN\nEmpty DataFrame\nColumns: [0, 388]\nIndex: []\nEmpty DataFrame\nColumns: []\nIndex: []\nEmpty DataFrame\nColumns: [0, 389]\nIndex: []\nEmpty DataFrame\nColumns: []\nIndex: []\nEmpty DataFrame\nColumns: [0, 390]\nIndex: []\nEmpty DataFrame\nColumns: []\nIndex: []\nEmpty DataFrame\nColumns: [0, 391]\nIndex: []\nEmpty DataFrame\nColumns: []\nIndex: []\nEmpty DataFrame\nColumns: [0, 392]\nIndex: []\nEmpty DataFrame\nColumns: []\nIndex: []\n"
     ]
    },
    {
     "name": "stdout",
     "output_type": "stream",
     "text": [
      "Empty DataFrame\nColumns: [0, 393]\nIndex: []\nEmpty DataFrame\nColumns: []\nIndex: []\nEmpty DataFrame\nColumns: [0, 394]\nIndex: []\nEmpty DataFrame\nColumns: []\nIndex: []\nEmpty DataFrame\nColumns: [0, 395]\nIndex: []\nEmpty DataFrame\nColumns: []\nIndex: []\nEmpty DataFrame\nColumns: [0, 396]\nIndex: []\nEmpty DataFrame\nColumns: []\nIndex: []\nEmpty DataFrame\nColumns: [0, 397]\nIndex: []\nEmpty DataFrame\nColumns: []\nIndex: []\nEmpty DataFrame\nColumns: [0, 398]\nIndex: []\nEmpty DataFrame\nColumns: []\nIndex: []\nEmpty DataFrame\nColumns: [0, 399]\nIndex: []\n     399\n399  NaN\nEmpty DataFrame\nColumns: [0, 400]\nIndex: []\n     400\n400  NaN\nEmpty DataFrame\nColumns: [0, 401]\nIndex: []\nEmpty DataFrame\nColumns: []\nIndex: []\nEmpty DataFrame\nColumns: [0, 402]\nIndex: []\n     402\n402  NaN\nEmpty DataFrame\nColumns: [0, 403]\nIndex: []\n     403\n403  NaN\nEmpty DataFrame\nColumns: [0, 404]\nIndex: []\nEmpty DataFrame\nColumns: []\nIndex: []\nEmpty DataFrame\nColumns: [0, 405]\nIndex: []\nEmpty DataFrame\nColumns: []\nIndex: []\nEmpty DataFrame\nColumns: [0, 406]\nIndex: []\nEmpty DataFrame\nColumns: []\nIndex: []\nEmpty DataFrame\nColumns: [0, 407]\nIndex: []\n     407\n407  NaN\nEmpty DataFrame\nColumns: [0, 408]\nIndex: []\n     408\n408  NaN\nEmpty DataFrame\nColumns: [0, 409]\nIndex: []\n     409\n409  NaN"
     ]
    },
    {
     "name": "stdout",
     "output_type": "stream",
     "text": [
      "\nEmpty DataFrame\nColumns: [0, 410]\nIndex: []\n     410\n410  NaN\nEmpty DataFrame\nColumns: [0, 411]\nIndex: []\n     411\n411  NaN\nEmpty DataFrame\nColumns: [0, 412]\nIndex: []\n     412\n412  NaN\nEmpty DataFrame\nColumns: [0, 413]\nIndex: []\n     413\n413  NaN\nEmpty DataFrame\nColumns: [0, 414]\nIndex: []\n     414\n414  NaN\nEmpty DataFrame\nColumns: [0, 415]\nIndex: []\n     415\n415  NaN\nEmpty DataFrame\nColumns: [0, 416]\nIndex: []\n     416\n416  NaN\nEmpty DataFrame\nColumns: [0, 417]\nIndex: []\n     417\n417  NaN\nEmpty DataFrame\nColumns: [0, 418]\nIndex: []\nEmpty DataFrame\nColumns: []\nIndex: []\nEmpty DataFrame\nColumns: [0, 419]\nIndex: []\nEmpty DataFrame\nColumns: []\nIndex: []\nEmpty DataFrame\nColumns: [0, 420]\nIndex: []\nEmpty DataFrame\nColumns: []\nIndex: []\nEmpty DataFrame\nColumns: [0, 421]\nIndex: []\n     421\n421  NaN\nEmpty DataFrame\nColumns: [0, 422]\nIndex: []\n     422\n422  NaN\nEmpty DataFrame\nColumns: [0, 423]\nIndex: []\n     423\n423  NaN\nEmpty DataFrame\nColumns: [0, 424]\nIndex: []\n     424\n424  NaN\nEmpty DataFrame\nColumns: [0, 425]\nIndex: []\nEmpty DataFrame\nColumns: []\nIndex: []\nEmpty DataFrame\nColumns: [0, 426]\nIndex: []\n     426\n426  NaN\n"
     ]
    },
    {
     "name": "stdout",
     "output_type": "stream",
     "text": [
      "Empty DataFrame\nColumns: [0, 427]\nIndex: []\nEmpty DataFrame\nColumns: []\nIndex: []\nEmpty DataFrame\nColumns: [0, 428]\nIndex: []\n     428\n428  NaN\nEmpty DataFrame\nColumns: [0, 429]\nIndex: []\n     429\n429  NaN\nEmpty DataFrame\nColumns: [0, 430]\nIndex: []\n     430\n430  NaN\nEmpty DataFrame\nColumns: [0, 431]\nIndex: []\nEmpty DataFrame\nColumns: []\nIndex: []\nEmpty DataFrame\nColumns: [0, 432]\nIndex: []\nEmpty DataFrame\nColumns: []\nIndex: []\nEmpty DataFrame\nColumns: [0, 433]\nIndex: []\n     433\n433  NaN\nEmpty DataFrame\nColumns: [0, 434]\nIndex: []\nEmpty DataFrame\nColumns: []\nIndex: []\nEmpty DataFrame\nColumns: [0, 435]\nIndex: []\n     435\n435  NaN\nEmpty DataFrame\nColumns: [0, 436]\nIndex: []\n     436\n436  NaN\nEmpty DataFrame\nColumns: [0, 437]\nIndex: []\nEmpty DataFrame\nColumns: []\nIndex: []\nEmpty DataFrame\nColumns: [0, 438]\nIndex: []\n     438\n438  NaN\nEmpty DataFrame\nColumns: [0, 439]\nIndex: []\nEmpty DataFrame\nColumns: []\nIndex: []\nEmpty DataFrame\nColumns: [0, 440]\nIndex: []\nEmpty DataFrame\nColumns: []\nIndex: []\nEmpty DataFrame\nColumns: [0, 441]\nIndex: []\n     441\n441  NaN\n"
     ]
    },
    {
     "name": "stdout",
     "output_type": "stream",
     "text": [
      "Empty DataFrame\nColumns: [0, 442]\nIndex: []\nEmpty DataFrame\nColumns: []\nIndex: []\nEmpty DataFrame\nColumns: [0, 443]\nIndex: []\nEmpty DataFrame\nColumns: []\nIndex: []\nEmpty DataFrame\nColumns: [0, 444]\nIndex: []\nEmpty DataFrame\nColumns: []\nIndex: []\nEmpty DataFrame\nColumns: [0, 445]\nIndex: []\nEmpty DataFrame\nColumns: []\nIndex: []\nEmpty DataFrame\nColumns: [0, 446]\nIndex: []\nEmpty DataFrame\nColumns: []\nIndex: []\nEmpty DataFrame\nColumns: [0, 447]\nIndex: []\nEmpty DataFrame\nColumns: []\nIndex: []\nEmpty DataFrame\nColumns: [0, 448]\nIndex: []\nEmpty DataFrame\nColumns: []\nIndex: []\nEmpty DataFrame\nColumns: [0, 449]\nIndex: []\n     449\n449  NaN\nEmpty DataFrame\nColumns: [0, 450]\nIndex: []\nEmpty DataFrame\nColumns: []\nIndex: []\nEmpty DataFrame\nColumns: [0, 451]\nIndex: []\nEmpty DataFrame\nColumns: []\nIndex: []\nEmpty DataFrame\nColumns: [0, 452]\nIndex: []\nEmpty DataFrame\nColumns: []\nIndex: []\nEmpty DataFrame\nColumns: [0, 453]\nIndex: []\nEmpty DataFrame\nColumns: []\nIndex: []\nEmpty DataFrame\nColumns: [0, 454]\nIndex: []\nEmpty DataFrame\nColumns: []\nIndex: []\nEmpty DataFrame\nColumns: [0, 455]\nIndex: []\nEmpty DataFrame\nColumns: []\nIndex: []\nEmpty DataFrame\nColumns: [0, 456]\nIndex: []\nEmpty DataFrame\nColumns: []\nIndex: []\n"
     ]
    },
    {
     "name": "stdout",
     "output_type": "stream",
     "text": [
      "Empty DataFrame\nColumns: [0, 457]\nIndex: []\nEmpty DataFrame\nColumns: []\nIndex: []\nEmpty DataFrame\nColumns: [0, 458]\nIndex: []\nEmpty DataFrame\nColumns: []\nIndex: []\nEmpty DataFrame\nColumns: [0, 459]\nIndex: []\n     459\n459  NaN\nEmpty DataFrame\nColumns: [0, 460]\nIndex: []\n     460\n460  NaN\nEmpty DataFrame\nColumns: [0, 461]\nIndex: []\nEmpty DataFrame\nColumns: []\nIndex: []\nEmpty DataFrame\nColumns: [0, 462]\nIndex: []\nEmpty DataFrame\nColumns: []\nIndex: []\nEmpty DataFrame\nColumns: [0, 463]\nIndex: []\nEmpty DataFrame\nColumns: []\nIndex: []\nEmpty DataFrame\nColumns: [0, 464]\nIndex: []\n     464\n464  NaN\nEmpty DataFrame\nColumns: [0, 465]\nIndex: []\nEmpty DataFrame\nColumns: []\nIndex: []\nEmpty DataFrame\nColumns: [0, 466]\nIndex: []\nEmpty DataFrame\nColumns: []\nIndex: []\nEmpty DataFrame\nColumns: [0, 467]\nIndex: []\nEmpty DataFrame\nColumns: []\nIndex: []\nEmpty DataFrame\nColumns: [0, 468]\nIndex: []\nEmpty DataFrame\nColumns: []\nIndex: []\nEmpty DataFrame\nColumns: [0, 469]\nIndex: []\nEmpty DataFrame\nColumns: []\nIndex: []\nEmpty DataFrame\nColumns: [0, 470]\nIndex: []\nEmpty DataFrame\nColumns: []\nIndex: []\nEmpty DataFrame\nColumns: [0, 471]\nIndex: []\nEmpty DataFrame\nColumns: []\nIndex: []\nEmpty DataFrame\nColumns: [0, 472]\nIndex: []\nEmpty DataFrame\nColumns: []\nIndex: []\nEmpty DataFrame\nColumns: [0, 473]\nIndex: []\nEmpty DataFrame\nColumns: []\nIndex: []\n"
     ]
    },
    {
     "name": "stdout",
     "output_type": "stream",
     "text": [
      "Empty DataFrame\nColumns: [0, 474]\nIndex: []\nEmpty DataFrame\nColumns: []\nIndex: []\nEmpty DataFrame\nColumns: [0, 475]\nIndex: []\nEmpty DataFrame\nColumns: []\nIndex: []\nEmpty DataFrame\nColumns: [0, 476]\nIndex: []\nEmpty DataFrame\nColumns: []\nIndex: []\nEmpty DataFrame\nColumns: [0, 477]\nIndex: []\nEmpty DataFrame\nColumns: []\nIndex: []\nEmpty DataFrame\nColumns: [0, 478]\nIndex: []\n     478\n478  NaN\nEmpty DataFrame\nColumns: [0, 479]\nIndex: []\nEmpty DataFrame\nColumns: []\nIndex: []\nEmpty DataFrame\nColumns: [0, 480]\nIndex: []\n     480\n480  NaN\nEmpty DataFrame\nColumns: [0, 481]\nIndex: []\nEmpty DataFrame\nColumns: []\nIndex: []\nEmpty DataFrame\nColumns: [0, 482]\nIndex: []\n     482\n482  NaN\nEmpty DataFrame\nColumns: [0, 483]\nIndex: []\n     483\n483  NaN\nEmpty DataFrame\nColumns: [0, 484]\nIndex: []\n     484\n484  NaN\nEmpty DataFrame\nColumns: [0, 485]\nIndex: []\n     485\n485  NaN\nEmpty DataFrame\nColumns: [0, 486]\nIndex: []\n     486\n486  NaN\nEmpty DataFrame\nColumns: [0, 487]\nIndex: []\nEmpty DataFrame\nColumns: []\nIndex: []\nEmpty DataFrame\nColumns: [0, 488]\nIndex: []\n     488\n488  NaN\nEmpty DataFrame\nColumns: [0, 489]\nIndex: []\n     489\n489  NaN\nEmpty DataFrame\nColumns: [0, 490]\nIndex: []\nEmpty DataFrame\nColumns: []\nIndex: []\n"
     ]
    },
    {
     "name": "stdout",
     "output_type": "stream",
     "text": [
      "Empty DataFrame\nColumns: [0, 491]\nIndex: []\nEmpty DataFrame\nColumns: []\nIndex: []\nEmpty DataFrame\nColumns: [0, 492]\nIndex: []\n     492\n492  NaN\nEmpty DataFrame\nColumns: [0, 493]\nIndex: []\nEmpty DataFrame\nColumns: []\nIndex: []\nEmpty DataFrame\nColumns: [0, 494]\nIndex: []\nEmpty DataFrame\nColumns: []\nIndex: []\nEmpty DataFrame\nColumns: [0, 495]\nIndex: []\nEmpty DataFrame\nColumns: []\nIndex: []\nEmpty DataFrame\nColumns: [0, 496]\nIndex: []\nEmpty DataFrame\nColumns: []\nIndex: []\nEmpty DataFrame\nColumns: [0, 497]\nIndex: []\n     497\n497  NaN\nEmpty DataFrame\nColumns: [0, 498]\nIndex: []\n     498\n498  NaN\nEmpty DataFrame\nColumns: [0, 499]\nIndex: []\n     499\n499  NaN\nEmpty DataFrame\nColumns: [0, 500]\nIndex: []\n     500\n500  NaN\nEmpty DataFrame\nColumns: [0, 501]\nIndex: []\nEmpty DataFrame\nColumns: []\nIndex: []\nEmpty DataFrame\nColumns: [0, 502]\nIndex: []\nEmpty DataFrame\nColumns: []\nIndex: []\nEmpty DataFrame\nColumns: [0, 503]\nIndex: []\nEmpty DataFrame\nColumns: []\nIndex: []\nEmpty DataFrame\nColumns: [0, 504]\nIndex: []\nEmpty DataFrame\nColumns: []\nIndex: []\nEmpty DataFrame\nColumns: [0, 505]\nIndex: []\nEmpty DataFrame\nColumns: []\nIndex: []\nEmpty DataFrame\nColumns: [0, 506]\nIndex: []\nEmpty DataFrame\nColumns: []\nIndex: []\nEmpty DataFrame\nColumns: [0, 507]\nIndex: []"
     ]
    },
    {
     "name": "stdout",
     "output_type": "stream",
     "text": [
      "\nEmpty DataFrame\nColumns: []\nIndex: []\nEmpty DataFrame\nColumns: [0, 508]\nIndex: []\nEmpty DataFrame\nColumns: []\nIndex: []\nEmpty DataFrame\nColumns: [0, 509]\nIndex: []\nEmpty DataFrame\nColumns: []\nIndex: []\nEmpty DataFrame\nColumns: [0, 510]\nIndex: []\nEmpty DataFrame\nColumns: []\nIndex: []\nEmpty DataFrame\nColumns: [0, 511]\nIndex: []\nEmpty DataFrame\nColumns: []\nIndex: []\nEmpty DataFrame\nColumns: [0, 512]\nIndex: []\nEmpty DataFrame\nColumns: []\nIndex: []\nEmpty DataFrame\nColumns: [0, 513]\nIndex: []\nEmpty DataFrame\nColumns: []\nIndex: []\nEmpty DataFrame\nColumns: [0, 514]\nIndex: []\nEmpty DataFrame\nColumns: []\nIndex: []\nEmpty DataFrame\nColumns: [0, 515]\nIndex: []\nEmpty DataFrame\nColumns: []\nIndex: []\nEmpty DataFrame\nColumns: [0, 516]\nIndex: []\nEmpty DataFrame\nColumns: []\nIndex: []\nEmpty DataFrame\nColumns: [0, 517]\nIndex: []\nEmpty DataFrame\nColumns: []\nIndex: []\nEmpty DataFrame\nColumns: [0, 518]\nIndex: []\nEmpty DataFrame\nColumns: []\nIndex: []\nEmpty DataFrame\nColumns: [0, 519]\nIndex: []\nEmpty DataFrame\nColumns: []\nIndex: []\nEmpty DataFrame\nColumns: [0, 520]\nIndex: []\nEmpty DataFrame\nColumns: []\nIndex: []\nEmpty DataFrame\nColumns: [0, 521]\nIndex: []\n     521\n521  NaN\nEmpty DataFrame\nColumns: [0, 522]\nIndex: []\n     522\n522  NaN\nEmpty DataFrame\nColumns: [0, 523]\nIndex: []\nEmpty DataFrame\nColumns: []\nIndex: []\nEmpty DataFrame\nColumns: [0, 524]\nIndex: []\nEmpty DataFrame\nColumns: []\nIndex: []"
     ]
    },
    {
     "name": "stdout",
     "output_type": "stream",
     "text": [
      "\nEmpty DataFrame\nColumns: [0, 525]\nIndex: []\n     525\n525  NaN\nEmpty DataFrame\nColumns: [0, 526]\nIndex: []\nEmpty DataFrame\nColumns: []\nIndex: []\nEmpty DataFrame\nColumns: [0, 527]\nIndex: []\nEmpty DataFrame\nColumns: []\nIndex: []\nEmpty DataFrame\nColumns: [0, 528]\nIndex: []\nEmpty DataFrame\nColumns: []\nIndex: []\nEmpty DataFrame\nColumns: [0, 529]\nIndex: []\nEmpty DataFrame\nColumns: []\nIndex: []\nEmpty DataFrame\nColumns: [0, 530]\nIndex: []\nEmpty DataFrame\nColumns: []\nIndex: []\nEmpty DataFrame\nColumns: [0, 531]\nIndex: []\nEmpty DataFrame\nColumns: []\nIndex: []\nEmpty DataFrame\nColumns: [0, 532]\nIndex: []\nEmpty DataFrame\nColumns: []\nIndex: []\nEmpty DataFrame\nColumns: [0, 533]\nIndex: []\n     533\n533  NaN\nEmpty DataFrame\nColumns: [0, 534]\nIndex: []\nEmpty DataFrame\nColumns: []\nIndex: []\nEmpty DataFrame\nColumns: [0, 535]\nIndex: []\nEmpty DataFrame\nColumns: []\nIndex: []\nEmpty DataFrame\nColumns: [0, 536]\nIndex: []\n     536\n536  NaN\nEmpty DataFrame\nColumns: [0, 537]\nIndex: []\nEmpty DataFrame\nColumns: []\nIndex: []\nEmpty DataFrame\nColumns: [0, 538]\nIndex: []\n     538\n538  NaN\nEmpty DataFrame\nColumns: [0, 539]\nIndex: []\n     539\n539  NaN\nEmpty DataFrame\nColumns: [0, 540]\nIndex: []\n"
     ]
    },
    {
     "name": "stdout",
     "output_type": "stream",
     "text": [
      "Empty DataFrame\nColumns: []\nIndex: []\nEmpty DataFrame\nColumns: [0, 541]\nIndex: []\nEmpty DataFrame\nColumns: []\nIndex: []\nEmpty DataFrame\nColumns: [0, 542]\nIndex: []\nEmpty DataFrame\nColumns: []\nIndex: []\nEmpty DataFrame\nColumns: [0, 543]\nIndex: []\nEmpty DataFrame\nColumns: []\nIndex: []\nEmpty DataFrame\nColumns: [0, 544]\nIndex: []\nEmpty DataFrame\nColumns: []\nIndex: []\nEmpty DataFrame\nColumns: [0, 545]\nIndex: []\nEmpty DataFrame\nColumns: []\nIndex: []\nEmpty DataFrame\nColumns: [0, 546]\nIndex: []\nEmpty DataFrame\nColumns: []\nIndex: []\nEmpty DataFrame\nColumns: [0, 547]\nIndex: []\nEmpty DataFrame\nColumns: []\nIndex: []\nEmpty DataFrame\nColumns: [0, 548]\nIndex: []\nEmpty DataFrame\nColumns: []\nIndex: []\nEmpty DataFrame\nColumns: [0, 549]\nIndex: []\nEmpty DataFrame\nColumns: []\nIndex: []\nEmpty DataFrame\nColumns: [0, 550]\nIndex: []\nEmpty DataFrame\nColumns: []\nIndex: []\nEmpty DataFrame\nColumns: [0, 551]\nIndex: []\nEmpty DataFrame\nColumns: []\nIndex: []\nEmpty DataFrame\nColumns: [0, 552]\nIndex: []\n     552\n552  NaN\nEmpty DataFrame\nColumns: [0, 553]\nIndex: []\n     553\n553  NaN\nEmpty DataFrame\nColumns: [0, 554]\nIndex: []\nEmpty DataFrame\nColumns: []\nIndex: []\nEmpty DataFrame\nColumns: [0, 555]\nIndex: []\nEmpty DataFrame\nColumns: []\nIndex: []\nEmpty DataFrame\nColumns: [0, 556]\nIndex: []\nEmpty DataFrame\nColumns: []\nIndex: []\nEmpty DataFrame\nColumns: [0, 557]\nIndex: []\n     557\n557  NaN\n"
     ]
    },
    {
     "name": "stdout",
     "output_type": "stream",
     "text": [
      "Empty DataFrame\nColumns: [0, 558]\nIndex: []\nEmpty DataFrame\nColumns: []\nIndex: []\nEmpty DataFrame\nColumns: [0, 559]\nIndex: []\nEmpty DataFrame\nColumns: []\nIndex: []\nEmpty DataFrame\nColumns: [0, 560]\nIndex: []\nEmpty DataFrame\nColumns: []\nIndex: []\nEmpty DataFrame\nColumns: [0, 561]\nIndex: []\nEmpty DataFrame\nColumns: []\nIndex: []\nEmpty DataFrame\nColumns: [0, 562]\nIndex: []\nEmpty DataFrame\nColumns: []\nIndex: []\nEmpty DataFrame\nColumns: [0, 563]\nIndex: []\nEmpty DataFrame\nColumns: []\nIndex: []\nEmpty DataFrame\nColumns: [0, 564]\nIndex: []\nEmpty DataFrame\nColumns: []\nIndex: []\nEmpty DataFrame\nColumns: [0, 565]\nIndex: []\nEmpty DataFrame\nColumns: []\nIndex: []\nEmpty DataFrame\nColumns: [0, 566]\nIndex: []\n     566\n566  NaN\nEmpty DataFrame\nColumns: [0, 567]\nIndex: []\nEmpty DataFrame\nColumns: []\nIndex: []\nEmpty DataFrame\nColumns: [0, 568]\nIndex: []\nEmpty DataFrame\nColumns: []\nIndex: []\nEmpty DataFrame\nColumns: [0, 569]\nIndex: []\nEmpty DataFrame\nColumns: []\nIndex: []\nEmpty DataFrame\nColumns: [0, 570]\nIndex: []\n     570\n570  NaN\nEmpty DataFrame\nColumns: [0, 571]\nIndex: []\nEmpty DataFrame\nColumns: []\nIndex: []\nEmpty DataFrame\nColumns: [0, 572]\nIndex: []\nEmpty DataFrame\nColumns: []\nIndex: []\nEmpty DataFrame\nColumns: [0, 573]\nIndex: []\nEmpty DataFrame\nColumns: []\nIndex: []\nEmpty DataFrame\nColumns: [0, 574]\nIndex: []"
     ]
    },
    {
     "name": "stdout",
     "output_type": "stream",
     "text": [
      "\nEmpty DataFrame\nColumns: []\nIndex: []\nEmpty DataFrame\nColumns: [0, 575]\nIndex: []\n     575\n575  NaN\nEmpty DataFrame\nColumns: [0, 576]\nIndex: []\n     576\n576  NaN\nEmpty DataFrame\nColumns: [0, 577]\nIndex: []\n     577\n577  NaN\nEmpty DataFrame\nColumns: [0, 578]\nIndex: []\n     578\n578  NaN\nEmpty DataFrame\nColumns: [0, 579]\nIndex: []\n     579\n579  NaN\nEmpty DataFrame\nColumns: [0, 580]\nIndex: []\nEmpty DataFrame\nColumns: []\nIndex: []\nEmpty DataFrame\nColumns: [0, 581]\nIndex: []\nEmpty DataFrame\nColumns: []\nIndex: []\nEmpty DataFrame\nColumns: [0, 582]\nIndex: []\nEmpty DataFrame\nColumns: []\nIndex: []\nEmpty DataFrame\nColumns: [0, 583]\nIndex: []\nEmpty DataFrame\nColumns: []\nIndex: []\nEmpty DataFrame\nColumns: [0, 584]\nIndex: []\nEmpty DataFrame\nColumns: []\nIndex: []\nEmpty DataFrame\nColumns: [0, 585]\nIndex: []\nEmpty DataFrame\nColumns: []\nIndex: []\nEmpty DataFrame\nColumns: [0, 586]\nIndex: []\n     586\n586  NaN\nEmpty DataFrame\nColumns: [0, 587]\nIndex: []\n     587\n587  NaN\nEmpty DataFrame\nColumns: [0, 588]\nIndex: []\n     588\n588  NaN\nEmpty DataFrame\nColumns: [0, 589]\nIndex: []\nEmpty DataFrame\nColumns: []\nIndex: []\nEmpty DataFrame\nColumns: [0, 590]\nIndex: []\n     590\n590  NaN\nEmpty DataFrame\nColumns: [0, 591]\nIndex: []\n     591\n591  NaN\n"
     ]
    },
    {
     "name": "stdout",
     "output_type": "stream",
     "text": [
      "Empty DataFrame\nColumns: [0, 592]\nIndex: []\n     592\n592  NaN\nEmpty DataFrame\nColumns: [0, 593]\nIndex: []\n     593\n593  NaN\nEmpty DataFrame\nColumns: [0, 594]\nIndex: []\n     594\n594  NaN\nEmpty DataFrame\nColumns: [0, 595]\nIndex: []\n     595\n595  NaN\nEmpty DataFrame\nColumns: [0, 596]\nIndex: []\n     596\n596  NaN\nEmpty DataFrame\nColumns: [0, 597]\nIndex: []\n     597\n597  NaN\nEmpty DataFrame\nColumns: [0, 598]\nIndex: []\n     598\n598  NaN\nEmpty DataFrame\nColumns: [0, 599]\nIndex: []\nEmpty DataFrame\nColumns: []\nIndex: []\nEmpty DataFrame\nColumns: [0, 600]\nIndex: []\nEmpty DataFrame\nColumns: []\nIndex: []\nEmpty DataFrame\nColumns: [0, 601]\nIndex: []\nEmpty DataFrame\nColumns: []\nIndex: []\nEmpty DataFrame\nColumns: [0, 602]\nIndex: []\nEmpty DataFrame\nColumns: []\nIndex: []\nEmpty DataFrame\nColumns: [0, 603]\nIndex: []\n     603\n603  NaN\nEmpty DataFrame\nColumns: [0, 604]\nIndex: []\n     604\n604  NaN\nEmpty DataFrame\nColumns: [0, 605]\nIndex: []\nEmpty DataFrame\nColumns: []\nIndex: []\nEmpty DataFrame\nColumns: [0, 606]\nIndex: []\nEmpty DataFrame\nColumns: []\nIndex: []\nEmpty DataFrame\nColumns: [0, 607]\nIndex: []\nEmpty DataFrame\nColumns: []\nIndex: []\n"
     ]
    },
    {
     "name": "stdout",
     "output_type": "stream",
     "text": [
      "Empty DataFrame\nColumns: [0, 608]\nIndex: []\nEmpty DataFrame\nColumns: []\nIndex: []\nEmpty DataFrame\nColumns: [0, 609]\nIndex: []\nEmpty DataFrame\nColumns: []\nIndex: []\nEmpty DataFrame\nColumns: [0, 610]\nIndex: []\nEmpty DataFrame\nColumns: []\nIndex: []\nEmpty DataFrame\nColumns: [0, 611]\nIndex: []\nEmpty DataFrame\nColumns: []\nIndex: []\nEmpty DataFrame\nColumns: [0, 612]\nIndex: []\nEmpty DataFrame\nColumns: []\nIndex: []\nEmpty DataFrame\nColumns: [0, 613]\nIndex: []\nEmpty DataFrame\nColumns: []\nIndex: []\nEmpty DataFrame\nColumns: [0, 614]\nIndex: []\n     614\n614  NaN\nEmpty DataFrame\nColumns: [0, 615]\nIndex: []\n     615\n615  NaN\nEmpty DataFrame\nColumns: [0, 616]\nIndex: []\nEmpty DataFrame\nColumns: []\nIndex: []\nEmpty DataFrame\nColumns: [0, 617]\nIndex: []\nEmpty DataFrame\nColumns: []\nIndex: []\nEmpty DataFrame\nColumns: [0, 618]\nIndex: []\n     618\n618  NaN\nEmpty DataFrame\nColumns: [0, 619]\nIndex: []\nEmpty DataFrame\nColumns: []\nIndex: []\nEmpty DataFrame\nColumns: [0, 620]\nIndex: []\n     620\n620  NaN\nEmpty DataFrame\nColumns: [0, 621]\nIndex: []\nEmpty DataFrame\nColumns: []\nIndex: []\nEmpty DataFrame\nColumns: [0, 622]\nIndex: []\nEmpty DataFrame\nColumns: []\nIndex: []\nEmpty DataFrame\nColumns: [0, 623]\nIndex: []\n     623\n623  NaN\nEmpty DataFrame\nColumns: [0, 624]\nIndex: []\n     624\n624  NaN\n"
     ]
    },
    {
     "name": "stdout",
     "output_type": "stream",
     "text": [
      "Empty DataFrame\nColumns: [0, 625]\nIndex: []\n     625\n625  NaN\nEmpty DataFrame\nColumns: [0, 626]\nIndex: []\nEmpty DataFrame\nColumns: []\nIndex: []\nEmpty DataFrame\nColumns: [0, 627]\nIndex: []\nEmpty DataFrame\nColumns: []\nIndex: []\nEmpty DataFrame\nColumns: [0, 628]\nIndex: []\nEmpty DataFrame\nColumns: []\nIndex: []\nEmpty DataFrame\nColumns: [0, 629]\nIndex: []\nEmpty DataFrame\nColumns: []\nIndex: []\nEmpty DataFrame\nColumns: [0, 630]\nIndex: []\nEmpty DataFrame\nColumns: []\nIndex: []\nEmpty DataFrame\nColumns: [0, 631]\nIndex: []\nEmpty DataFrame\nColumns: []\nIndex: []\nEmpty DataFrame\nColumns: [0, 632]\nIndex: []\nEmpty DataFrame\nColumns: []\nIndex: []\nEmpty DataFrame\nColumns: [0, 633]\nIndex: []\nEmpty DataFrame\nColumns: []\nIndex: []\nEmpty DataFrame\nColumns: [0, 634]\nIndex: []\nEmpty DataFrame\nColumns: []\nIndex: []\nEmpty DataFrame\nColumns: [0, 635]\nIndex: []\nEmpty DataFrame\nColumns: []\nIndex: []\nEmpty DataFrame\nColumns: [0, 636]\nIndex: []\nEmpty DataFrame\nColumns: []\nIndex: []\nEmpty DataFrame\nColumns: [0, 637]\nIndex: []\nEmpty DataFrame\nColumns: []\nIndex: []\nEmpty DataFrame\nColumns: [0, 638]\nIndex: []\nEmpty DataFrame\nColumns: []\nIndex: []\nEmpty DataFrame\nColumns: [0, 639]\nIndex: []\nEmpty DataFrame\nColumns: []\nIndex: []\nEmpty DataFrame\nColumns: [0, 640]\nIndex: []\nEmpty DataFrame\nColumns: []\nIndex: []\nEmpty DataFrame\nColumns: [0, 641]\nIndex: []\nEmpty DataFrame\nColumns: []\nIndex: []\n"
     ]
    },
    {
     "name": "stdout",
     "output_type": "stream",
     "text": [
      "Empty DataFrame\nColumns: [0, 642]\nIndex: []\nEmpty DataFrame\nColumns: []\nIndex: []\nEmpty DataFrame\nColumns: [0, 643]\nIndex: []\nEmpty DataFrame\nColumns: []\nIndex: []\nEmpty DataFrame\nColumns: [0, 644]\nIndex: []\nEmpty DataFrame\nColumns: []\nIndex: []\nEmpty DataFrame\nColumns: [0, 645]\nIndex: []\nEmpty DataFrame\nColumns: []\nIndex: []\nEmpty DataFrame\nColumns: [0, 646]\nIndex: []\nEmpty DataFrame\nColumns: []\nIndex: []\nEmpty DataFrame\nColumns: [0, 647]\nIndex: []\nEmpty DataFrame\nColumns: []\nIndex: []\nEmpty DataFrame\nColumns: [0, 648]\nIndex: []\nEmpty DataFrame\nColumns: []\nIndex: []\nEmpty DataFrame\nColumns: [0, 649]\nIndex: []\nEmpty DataFrame\nColumns: []\nIndex: []\nEmpty DataFrame\nColumns: [0, 650]\nIndex: []\nEmpty DataFrame\nColumns: []\nIndex: []\nEmpty DataFrame\nColumns: [0, 651]\nIndex: []\nEmpty DataFrame\nColumns: []\nIndex: []\nEmpty DataFrame\nColumns: [0, 652]\nIndex: []\nEmpty DataFrame\nColumns: []\nIndex: []\nEmpty DataFrame\nColumns: [0, 653]\nIndex: []\nEmpty DataFrame\nColumns: []\nIndex: []\nEmpty DataFrame\nColumns: [0, 654]\nIndex: []\nEmpty DataFrame\nColumns: []\nIndex: []\nEmpty DataFrame\nColumns: [0, 655]\nIndex: []\nEmpty DataFrame\nColumns: []\nIndex: []\nEmpty DataFrame\nColumns: [0, 656]\nIndex: []\nEmpty DataFrame\nColumns: []\nIndex: []\nEmpty DataFrame\nColumns: [0, 657]\nIndex: []\nEmpty DataFrame\nColumns: []\nIndex: []\nEmpty DataFrame\nColumns: [0, 658]\nIndex: []\nEmpty DataFrame\nColumns: []\nIndex: []\n"
     ]
    },
    {
     "name": "stdout",
     "output_type": "stream",
     "text": [
      "Empty DataFrame\nColumns: [0, 659]\nIndex: []\nEmpty DataFrame\nColumns: []\nIndex: []\nEmpty DataFrame\nColumns: [0, 660]\nIndex: []\nEmpty DataFrame\nColumns: []\nIndex: []\nEmpty DataFrame\nColumns: [0, 661]\nIndex: []\nEmpty DataFrame\nColumns: []\nIndex: []\nEmpty DataFrame\nColumns: [0, 662]\nIndex: []\nEmpty DataFrame\nColumns: []\nIndex: []\nEmpty DataFrame\nColumns: [0, 663]\nIndex: []\nEmpty DataFrame\nColumns: []\nIndex: []\nEmpty DataFrame\nColumns: [0, 664]\nIndex: []\nEmpty DataFrame\nColumns: []\nIndex: []\nEmpty DataFrame\nColumns: [0, 665]\nIndex: []\nEmpty DataFrame\nColumns: []\nIndex: []\nEmpty DataFrame\nColumns: [0, 666]\nIndex: []\nEmpty DataFrame\nColumns: []\nIndex: []\nEmpty DataFrame\nColumns: [0, 667]\nIndex: []\nEmpty DataFrame\nColumns: []\nIndex: []\nEmpty DataFrame\nColumns: [0, 668]\nIndex: []\nEmpty DataFrame\nColumns: []\nIndex: []\nEmpty DataFrame\nColumns: [0, 669]\nIndex: []\nEmpty DataFrame\nColumns: []\nIndex: []\nEmpty DataFrame\nColumns: [0, 670]\nIndex: []\nEmpty DataFrame\nColumns: []\nIndex: []\nEmpty DataFrame\nColumns: [0, 671]\nIndex: []\nEmpty DataFrame\nColumns: []\nIndex: []\nEmpty DataFrame\nColumns: [0, 672]\nIndex: []\nEmpty DataFrame\nColumns: []\nIndex: []\nEmpty DataFrame\nColumns: [0, 673]\nIndex: []\nEmpty DataFrame\nColumns: []\nIndex: []\nEmpty DataFrame\nColumns: [0, 674]\nIndex: []\nEmpty DataFrame\nColumns: []\nIndex: []\nEmpty DataFrame\nColumns: [0, 675]\nIndex: []\nEmpty DataFrame\nColumns: []\nIndex: []"
     ]
    },
    {
     "name": "stdout",
     "output_type": "stream",
     "text": [
      "\nEmpty DataFrame\nColumns: [0, 676]\nIndex: []\nEmpty DataFrame\nColumns: []\nIndex: []\nEmpty DataFrame\nColumns: [0, 677]\nIndex: []\nEmpty DataFrame\nColumns: []\nIndex: []\nEmpty DataFrame\nColumns: [0, 678]\nIndex: []\nEmpty DataFrame\nColumns: []\nIndex: []\nEmpty DataFrame\nColumns: [0, 679]\nIndex: []\nEmpty DataFrame\nColumns: []\nIndex: []\nEmpty DataFrame\nColumns: [0, 680]\nIndex: []\nEmpty DataFrame\nColumns: []\nIndex: []\nEmpty DataFrame\nColumns: [0, 681]\nIndex: []\nEmpty DataFrame\nColumns: []\nIndex: []\nEmpty DataFrame\nColumns: [0, 682]\nIndex: []\nEmpty DataFrame\nColumns: []\nIndex: []\nEmpty DataFrame\nColumns: [0, 683]\nIndex: []\nEmpty DataFrame\nColumns: []\nIndex: []\nEmpty DataFrame\nColumns: [0, 684]\nIndex: []\nEmpty DataFrame\nColumns: []\nIndex: []\nEmpty DataFrame\nColumns: [0, 685]\nIndex: []\nEmpty DataFrame\nColumns: []\nIndex: []\nEmpty DataFrame\nColumns: [0, 686]\nIndex: []\nEmpty DataFrame\nColumns: []\nIndex: []\nEmpty DataFrame\nColumns: [0, 687]\nIndex: []\nEmpty DataFrame\nColumns: []\nIndex: []\nEmpty DataFrame\nColumns: [0, 688]\nIndex: []\nEmpty DataFrame\nColumns: []\nIndex: []\nEmpty DataFrame\nColumns: [0, 689]\nIndex: []\n     689\n689  NaN\nEmpty DataFrame\nColumns: [0, 690]\nIndex: []\n     690\n690  NaN\nEmpty DataFrame\nColumns: [0, 691]\nIndex: []"
     ]
    },
    {
     "name": "stdout",
     "output_type": "stream",
     "text": [
      "\nEmpty DataFrame\nColumns: []\nIndex: []\nEmpty DataFrame\nColumns: [0, 692]\nIndex: []\nEmpty DataFrame\nColumns: []\nIndex: []\nEmpty DataFrame\nColumns: [0, 693]\nIndex: []\n     693\n693  NaN\nEmpty DataFrame\nColumns: [0, 694]\nIndex: []\n     694\n694  NaN\nEmpty DataFrame\nColumns: [0, 695]\nIndex: []\n     695\n695  NaN\nEmpty DataFrame\nColumns: [0, 696]\nIndex: []\n     696\n696  NaN\nEmpty DataFrame\nColumns: [0, 697]\nIndex: []\n     697\n697  NaN\nEmpty DataFrame\nColumns: [0, 698]\nIndex: []\n     698\n698  NaN\nEmpty DataFrame\nColumns: [0, 699]\nIndex: []\n     699\n699  NaN\nEmpty DataFrame\nColumns: [0, 700]\nIndex: []\n     700\n700  NaN\nEmpty DataFrame\nColumns: [0, 701]\nIndex: []\n     701\n701  NaN\nEmpty DataFrame\nColumns: [0, 702]\nIndex: []\nEmpty DataFrame\nColumns: []\nIndex: []\nEmpty DataFrame\nColumns: [0, 703]\nIndex: []\nEmpty DataFrame\nColumns: []\nIndex: []\nEmpty DataFrame\nColumns: [0, 704]\nIndex: []\n     704\n704  NaN\nEmpty DataFrame\nColumns: [0, 705]\nIndex: []\nEmpty DataFrame\nColumns: []\nIndex: []\n"
     ]
    },
    {
     "name": "stdout",
     "output_type": "stream",
     "text": [
      "Empty DataFrame\nColumns: [0, 706]\nIndex: []\nEmpty DataFrame\nColumns: []\nIndex: []\nEmpty DataFrame\nColumns: [0, 707]\nIndex: []\nEmpty DataFrame\nColumns: []\nIndex: []\nEmpty DataFrame\nColumns: [0, 708]\nIndex: []\nEmpty DataFrame\nColumns: []\nIndex: []\nEmpty DataFrame\nColumns: [0, 709]\nIndex: []\nEmpty DataFrame\nColumns: []\nIndex: []\nEmpty DataFrame\nColumns: [0, 710]\nIndex: []\nEmpty DataFrame\nColumns: []\nIndex: []\nEmpty DataFrame\nColumns: [0, 711]\nIndex: []\nEmpty DataFrame\nColumns: []\nIndex: []\nEmpty DataFrame\nColumns: [0, 712]\nIndex: []\nEmpty DataFrame\nColumns: []\nIndex: []\nEmpty DataFrame\nColumns: [0, 713]\nIndex: []\nEmpty DataFrame\nColumns: []\nIndex: []\nEmpty DataFrame\nColumns: [0, 714]\nIndex: []\nEmpty DataFrame\nColumns: []\nIndex: []\nEmpty DataFrame\nColumns: [0, 715]\nIndex: []\n     715\n715  NaN\nEmpty DataFrame\nColumns: [0, 716]\nIndex: []\nEmpty DataFrame\nColumns: []\nIndex: []\nEmpty DataFrame\nColumns: [0, 717]\nIndex: []\nEmpty DataFrame\nColumns: []\nIndex: []\nEmpty DataFrame\nColumns: [0, 718]\nIndex: []\nEmpty DataFrame\nColumns: []\nIndex: []\nEmpty DataFrame\nColumns: [0, 719]\nIndex: []\nEmpty DataFrame\nColumns: []\nIndex: []\nEmpty DataFrame\nColumns: [0, 720]\nIndex: []\nEmpty DataFrame\nColumns: []\nIndex: []\nEmpty DataFrame\nColumns: [0, 721]\nIndex: []\n     721\n721  NaN\nEmpty DataFrame\nColumns: [0, 722]\nIndex: []"
     ]
    },
    {
     "name": "stdout",
     "output_type": "stream",
     "text": [
      "\n     722\n722  NaN\nEmpty DataFrame\nColumns: [0, 723]\nIndex: []\n     723\n723  NaN\nEmpty DataFrame\nColumns: [0, 724]\nIndex: []\n     724\n724  NaN\nEmpty DataFrame\nColumns: [0, 725]\nIndex: []\n     725\n725  NaN\nEmpty DataFrame\nColumns: [0, 726]\nIndex: []\n     726\n726  NaN\nEmpty DataFrame\nColumns: [0, 727]\nIndex: []\n     727\n727  NaN\nEmpty DataFrame\nColumns: [0, 728]\nIndex: []\nEmpty DataFrame\nColumns: []\nIndex: []\nEmpty DataFrame\nColumns: [0, 729]\nIndex: []\n     729\n729  NaN\nEmpty DataFrame\nColumns: [0, 730]\nIndex: []\n     730\n730  NaN\nEmpty DataFrame\nColumns: [0, 731]\nIndex: []\n     731\n731  NaN\nEmpty DataFrame\nColumns: [0, 732]\nIndex: []\nEmpty DataFrame\nColumns: []\nIndex: []\nEmpty DataFrame\nColumns: [0, 733]\nIndex: []\nEmpty DataFrame\nColumns: []\nIndex: []\nEmpty DataFrame\nColumns: [0, 734]\nIndex: []\nEmpty DataFrame\nColumns: []\nIndex: []\nEmpty DataFrame\nColumns: [0, 735]\nIndex: []\nEmpty DataFrame\nColumns: []\nIndex: []\nEmpty DataFrame\nColumns: [0, 736]\nIndex: []\nEmpty DataFrame\nColumns: []\nIndex: []\nEmpty DataFrame\nColumns: [0, 737]\nIndex: []\nEmpty DataFrame\nColumns: []\nIndex: []\nEmpty DataFrame\nColumns: [0, 738]\nIndex: []"
     ]
    },
    {
     "name": "stdout",
     "output_type": "stream",
     "text": [
      "\nEmpty DataFrame\nColumns: []\nIndex: []\nEmpty DataFrame\nColumns: [0, 739]\nIndex: []\n     739\n739  NaN\nEmpty DataFrame\nColumns: [0, 740]\nIndex: []\nEmpty DataFrame\nColumns: []\nIndex: []\nEmpty DataFrame\nColumns: [0, 741]\nIndex: []\nEmpty DataFrame\nColumns: []\nIndex: []\nEmpty DataFrame\nColumns: [0, 742]\nIndex: []\nEmpty DataFrame\nColumns: []\nIndex: []\nEmpty DataFrame\nColumns: [0, 743]\nIndex: []\nEmpty DataFrame\nColumns: []\nIndex: []\nEmpty DataFrame\nColumns: [0, 744]\nIndex: []\n     744\n744  NaN\nEmpty DataFrame\nColumns: [0, 745]\nIndex: []\nEmpty DataFrame\nColumns: []\nIndex: []\nEmpty DataFrame\nColumns: [0, 746]\nIndex: []\nEmpty DataFrame\nColumns: []\nIndex: []\nEmpty DataFrame\nColumns: [0, 747]\nIndex: []\nEmpty DataFrame\nColumns: []\nIndex: []\nEmpty DataFrame\nColumns: [0, 748]\nIndex: []\nEmpty DataFrame\nColumns: []\nIndex: []\nEmpty DataFrame\nColumns: [0, 749]\nIndex: []\nEmpty DataFrame\nColumns: []\nIndex: []\nEmpty DataFrame\nColumns: [0, 750]\nIndex: []\n     750\n750  NaN\nEmpty DataFrame\nColumns: [0, 751]\nIndex: []\nEmpty DataFrame\nColumns: []\nIndex: []\nEmpty DataFrame\nColumns: [0, 752]\nIndex: []\n"
     ]
    },
    {
     "name": "stdout",
     "output_type": "stream",
     "text": [
      "Empty DataFrame\nColumns: []\nIndex: []\nEmpty DataFrame\nColumns: [0, 753]\nIndex: []\nEmpty DataFrame\nColumns: []\nIndex: []\nEmpty DataFrame\nColumns: [0, 754]\nIndex: []\nEmpty DataFrame\nColumns: []\nIndex: []\nEmpty DataFrame\nColumns: [0, 755]\nIndex: []\nEmpty DataFrame\nColumns: []\nIndex: []\nEmpty DataFrame\nColumns: [0, 756]\nIndex: []\nEmpty DataFrame\nColumns: []\nIndex: []\nEmpty DataFrame\nColumns: [0, 757]\nIndex: []\nEmpty DataFrame\nColumns: []\nIndex: []\nEmpty DataFrame\nColumns: [0, 758]\nIndex: []\nEmpty DataFrame\nColumns: []\nIndex: []\nEmpty DataFrame\nColumns: [0, 759]\nIndex: []\nEmpty DataFrame\nColumns: []\nIndex: []\nEmpty DataFrame\nColumns: [0, 760]\nIndex: []\nEmpty DataFrame\nColumns: []\nIndex: []\nEmpty DataFrame\nColumns: [0, 761]\nIndex: []\nEmpty DataFrame\nColumns: []\nIndex: []\nEmpty DataFrame\nColumns: [0, 762]\nIndex: []\nEmpty DataFrame\nColumns: []\nIndex: []\nEmpty DataFrame\nColumns: [0, 763]\nIndex: []\nEmpty DataFrame\nColumns: []\nIndex: []\nEmpty DataFrame\nColumns: [0, 764]\nIndex: []\nEmpty DataFrame\nColumns: []\nIndex: []\nEmpty DataFrame\nColumns: [0, 765]\nIndex: []\nEmpty DataFrame\nColumns: []\nIndex: []\nEmpty DataFrame\nColumns: [0, 766]\nIndex: []\n     766\n766  NaN\nEmpty DataFrame\nColumns: [0, 767]\nIndex: []\nEmpty DataFrame\nColumns: []\nIndex: []\n"
     ]
    },
    {
     "name": "stdout",
     "output_type": "stream",
     "text": [
      "Empty DataFrame\nColumns: [0, 768]\nIndex: []\nEmpty DataFrame\nColumns: []\nIndex: []\nEmpty DataFrame\nColumns: [0, 769]\nIndex: []\nEmpty DataFrame\nColumns: []\nIndex: []\nEmpty DataFrame\nColumns: [0, 770]\nIndex: []\nEmpty DataFrame\nColumns: []\nIndex: []\nEmpty DataFrame\nColumns: [0, 771]\nIndex: []\nEmpty DataFrame\nColumns: []\nIndex: []\nEmpty DataFrame\nColumns: [0, 772]\nIndex: []\nEmpty DataFrame\nColumns: []\nIndex: []\nEmpty DataFrame\nColumns: [0, 773]\nIndex: []\nEmpty DataFrame\nColumns: []\nIndex: []\nEmpty DataFrame\nColumns: [0, 774]\nIndex: []\nEmpty DataFrame\nColumns: []\nIndex: []\nEmpty DataFrame\nColumns: [0, 775]\nIndex: []\nEmpty DataFrame\nColumns: []\nIndex: []\nEmpty DataFrame\nColumns: [0, 776]\nIndex: []\n     776\n776  NaN\nEmpty DataFrame\nColumns: [0, 777]\nIndex: []\nEmpty DataFrame\nColumns: []\nIndex: []\nEmpty DataFrame\nColumns: [0, 778]\nIndex: []\n     778\n778  NaN\nEmpty DataFrame\nColumns: [0, 779]\nIndex: []\nEmpty DataFrame\nColumns: []\nIndex: []\nEmpty DataFrame\nColumns: [0, 780]\nIndex: []\n     780\n780  NaN\nEmpty DataFrame\nColumns: [0, 781]\nIndex: []\n     781\n781  NaN\nEmpty DataFrame\nColumns: [0, 782]\nIndex: []\nEmpty DataFrame\nColumns: []\nIndex: []\n"
     ]
    },
    {
     "name": "stdout",
     "output_type": "stream",
     "text": [
      "Empty DataFrame\nColumns: [0, 783]\nIndex: []\nEmpty DataFrame\nColumns: []\nIndex: []\nEmpty DataFrame\nColumns: [0, 784]\nIndex: []\nEmpty DataFrame\nColumns: []\nIndex: []\nEmpty DataFrame\nColumns: [0, 785]\nIndex: []\nEmpty DataFrame\nColumns: []\nIndex: []\nEmpty DataFrame\nColumns: [0, 786]\nIndex: []\nEmpty DataFrame\nColumns: []\nIndex: []\nEmpty DataFrame\nColumns: [0, 787]\nIndex: []\n     787\n787  NaN\nEmpty DataFrame\nColumns: [0, 788]\nIndex: []\nEmpty DataFrame\nColumns: []\nIndex: []\nEmpty DataFrame\nColumns: [0, 789]\nIndex: []\nEmpty DataFrame\nColumns: []\nIndex: []\nEmpty DataFrame\nColumns: [0, 790]\nIndex: []\nEmpty DataFrame\nColumns: []\nIndex: []\nEmpty DataFrame\nColumns: [0, 791]\nIndex: []\n     791\n791  NaN\nEmpty DataFrame\nColumns: [0, 792]\nIndex: []\nEmpty DataFrame\nColumns: []\nIndex: []\nEmpty DataFrame\nColumns: [0, 793]\nIndex: []\nEmpty DataFrame\nColumns: []\nIndex: []\nEmpty DataFrame\nColumns: [0, 794]\nIndex: []\nEmpty DataFrame\nColumns: []\nIndex: []\nEmpty DataFrame\nColumns: [0, 795]\nIndex: []\nEmpty DataFrame\nColumns: []\nIndex: []\nEmpty DataFrame\nColumns: [0, 796]\nIndex: []\n     796\n796  NaN\n"
     ]
    },
    {
     "name": "stdout",
     "output_type": "stream",
     "text": [
      "Empty DataFrame\nColumns: [0, 797]\nIndex: []\nEmpty DataFrame\nColumns: []\nIndex: []\nEmpty DataFrame\nColumns: [0, 798]\nIndex: []\nEmpty DataFrame\nColumns: []\nIndex: []\nEmpty DataFrame\nColumns: [0, 799]\nIndex: []\nEmpty DataFrame\nColumns: []\nIndex: []\nEmpty DataFrame\nColumns: [0, 800]\nIndex: []\nEmpty DataFrame\nColumns: []\nIndex: []\nEmpty DataFrame\nColumns: [0, 801]\nIndex: []\nEmpty DataFrame\nColumns: []\nIndex: []\nEmpty DataFrame\nColumns: [0, 802]\nIndex: []\nEmpty DataFrame\nColumns: []\nIndex: []\nEmpty DataFrame\nColumns: [0, 803]\nIndex: []\nEmpty DataFrame\nColumns: []\nIndex: []\nEmpty DataFrame\nColumns: [0, 804]\nIndex: []\n     804\n804  NaN\nEmpty DataFrame\nColumns: [0, 805]\nIndex: []\n     805\n805  NaN\nEmpty DataFrame\nColumns: [0, 806]\nIndex: []\nEmpty DataFrame\nColumns: []\nIndex: []\nEmpty DataFrame\nColumns: [0, 807]\nIndex: []\n     807\n807  NaN\nEmpty DataFrame\nColumns: [0, 808]\nIndex: []\n     808\n808  NaN\nEmpty DataFrame\nColumns: [0, 809]\nIndex: []\n     809\n809  NaN\nEmpty DataFrame\nColumns: [0, 810]\nIndex: []\n     810\n810  NaN\nEmpty DataFrame\nColumns: [0, 811]\nIndex: []\nEmpty DataFrame\nColumns: []\nIndex: []\nEmpty DataFrame\nColumns: [0, 812]\nIndex: []\nEmpty DataFrame\nColumns: []\nIndex: []"
     ]
    },
    {
     "name": "stdout",
     "output_type": "stream",
     "text": [
      "\nEmpty DataFrame\nColumns: [0, 813]\nIndex: []\nEmpty DataFrame\nColumns: []\nIndex: []\nEmpty DataFrame\nColumns: [0, 814]\nIndex: []\nEmpty DataFrame\nColumns: []\nIndex: []\nEmpty DataFrame\nColumns: [0, 815]\nIndex: []\nEmpty DataFrame\nColumns: []\nIndex: []\nEmpty DataFrame\nColumns: [0, 816]\nIndex: []\nEmpty DataFrame\nColumns: []\nIndex: []\nEmpty DataFrame\nColumns: [0, 817]\nIndex: []\nEmpty DataFrame\nColumns: []\nIndex: []\nEmpty DataFrame\nColumns: [0, 818]\nIndex: []\nEmpty DataFrame\nColumns: []\nIndex: []\nEmpty DataFrame\nColumns: [0, 819]\nIndex: []\nEmpty DataFrame\nColumns: []\nIndex: []\nEmpty DataFrame\nColumns: [0, 820]\nIndex: []\n     820\n820  NaN\nEmpty DataFrame\nColumns: [0, 821]\nIndex: []\n     821\n821  NaN\nEmpty DataFrame\nColumns: [0, 822]\nIndex: []\nEmpty DataFrame\nColumns: []\nIndex: []\nEmpty DataFrame\nColumns: [0, 823]\nIndex: []\nEmpty DataFrame\nColumns: []\nIndex: []\nEmpty DataFrame\nColumns: [0, 824]\nIndex: []\n     824\n824  NaN\nEmpty DataFrame\nColumns: [0, 825]\nIndex: []\nEmpty DataFrame\nColumns: []\nIndex: []\nEmpty DataFrame\nColumns: [0, 826]\nIndex: []\nEmpty DataFrame\nColumns: []\nIndex: []\nEmpty DataFrame\nColumns: [0, 827]\nIndex: []\nEmpty DataFrame\nColumns: []\nIndex: []\nEmpty DataFrame\nColumns: [0, 828]\nIndex: []\n     828\n828  NaN\n"
     ]
    },
    {
     "name": "stdout",
     "output_type": "stream",
     "text": [
      "Empty DataFrame\nColumns: [0, 829]\nIndex: []\nEmpty DataFrame\nColumns: []\nIndex: []\nEmpty DataFrame\nColumns: [0, 830]\nIndex: []\n     830\n830  NaN\nEmpty DataFrame\nColumns: [0, 831]\nIndex: []\nEmpty DataFrame\nColumns: []\nIndex: []\nEmpty DataFrame\nColumns: [0, 832]\nIndex: []\nEmpty DataFrame\nColumns: []\nIndex: []\nEmpty DataFrame\nColumns: [0, 833]\nIndex: []\nEmpty DataFrame\nColumns: []\nIndex: []\nEmpty DataFrame\nColumns: [0, 834]\nIndex: []\nEmpty DataFrame\nColumns: []\nIndex: []\nEmpty DataFrame\nColumns: [0, 835]\nIndex: []\nEmpty DataFrame\nColumns: []\nIndex: []\nEmpty DataFrame\nColumns: [0, 836]\nIndex: []\nEmpty DataFrame\nColumns: []\nIndex: []\nEmpty DataFrame\nColumns: [0, 837]\nIndex: []\nEmpty DataFrame\nColumns: []\nIndex: []\nEmpty DataFrame\nColumns: [0, 838]\nIndex: []\nEmpty DataFrame\nColumns: []\nIndex: []\nEmpty DataFrame\nColumns: [0, 839]\nIndex: []\nEmpty DataFrame\nColumns: []\nIndex: []\nEmpty DataFrame\nColumns: [0, 840]\nIndex: []\nEmpty DataFrame\nColumns: []\nIndex: []\n"
     ]
    },
    {
     "name": "stdout",
     "output_type": "stream",
     "text": [
      "Empty DataFrame\nColumns: [0, 841]\nIndex: []\nEmpty DataFrame\nColumns: []\nIndex: []\nEmpty DataFrame\nColumns: [0, 842]\nIndex: []\nEmpty DataFrame\nColumns: []\nIndex: []\nEmpty DataFrame\nColumns: [0, 843]\nIndex: []\n     843\n843  NaN\nEmpty DataFrame\nColumns: [0, 844]\nIndex: []\nEmpty DataFrame\nColumns: []\nIndex: []\nEmpty DataFrame\nColumns: [0, 845]\nIndex: []\nEmpty DataFrame\nColumns: []\nIndex: []\nEmpty DataFrame\nColumns: [0, 846]\nIndex: []\nEmpty DataFrame\nColumns: []\nIndex: []\nEmpty DataFrame\nColumns: [0, 847]\nIndex: []\nEmpty DataFrame\nColumns: []\nIndex: []\nEmpty DataFrame\nColumns: [0, 848]\nIndex: []\nEmpty DataFrame\nColumns: []\nIndex: []\nEmpty DataFrame\nColumns: [0, 849]\nIndex: []\nEmpty DataFrame\nColumns: []\nIndex: []\nEmpty DataFrame\nColumns: [0, 850]\nIndex: []\nEmpty DataFrame\nColumns: []\nIndex: []\nEmpty DataFrame\nColumns: [0, 851]\nIndex: []\nEmpty DataFrame\nColumns: []\nIndex: []\nEmpty DataFrame\nColumns: [0, 852]\nIndex: []\nEmpty DataFrame\nColumns: []\nIndex: []\nEmpty DataFrame\nColumns: [0, 853]\nIndex: []\nEmpty DataFrame\nColumns: []\nIndex: []\nEmpty DataFrame\nColumns: [0, 854]\nIndex: []\nEmpty DataFrame\nColumns: []\nIndex: []\nEmpty DataFrame\nColumns: [0, 855]\nIndex: []\nEmpty DataFrame\nColumns: []\nIndex: []\nEmpty DataFrame\nColumns: [0, 856]\nIndex: []\n"
     ]
    },
    {
     "name": "stdout",
     "output_type": "stream",
     "text": [
      "Empty DataFrame\nColumns: []\nIndex: []\nEmpty DataFrame\nColumns: [0, 857]\nIndex: []\n     857\n857  NaN\nEmpty DataFrame\nColumns: [0, 858]\nIndex: []\n     858\n858  NaN\nEmpty DataFrame\nColumns: [0, 859]\nIndex: []\n     859\n859  NaN\nEmpty DataFrame\nColumns: [0, 860]\nIndex: []\n     860\n860  NaN\nEmpty DataFrame\nColumns: [0, 861]\nIndex: []\n     861\n861  NaN\nEmpty DataFrame\nColumns: [0, 862]\nIndex: []\nEmpty DataFrame\nColumns: []\nIndex: []\nEmpty DataFrame\nColumns: [0, 863]\nIndex: []\n     863\n863  NaN\nEmpty DataFrame\nColumns: [0, 864]\nIndex: []\n     864\n864  NaN\nEmpty DataFrame\nColumns: [0, 865]\nIndex: []\nEmpty DataFrame\nColumns: []\nIndex: []\nEmpty DataFrame\nColumns: [0, 866]\nIndex: []\nEmpty DataFrame\nColumns: []\nIndex: []\nEmpty DataFrame\nColumns: [0, 867]\nIndex: []\n     867\n867  NaN\nEmpty DataFrame\nColumns: [0, 868]\nIndex: []\nEmpty DataFrame\nColumns: []\nIndex: []\nEmpty DataFrame\nColumns: [0, 869]\nIndex: []\nEmpty DataFrame\nColumns: []\nIndex: []\nEmpty DataFrame\nColumns: [0, 870]\nIndex: []\nEmpty DataFrame\nColumns: []\nIndex: []\nEmpty DataFrame\nColumns: [0, 871]\nIndex: []\nEmpty DataFrame\nColumns: []\nIndex: []\n"
     ]
    },
    {
     "name": "stdout",
     "output_type": "stream",
     "text": [
      "Empty DataFrame\nColumns: [0, 872]\nIndex: []\nEmpty DataFrame\nColumns: []\nIndex: []\nEmpty DataFrame\nColumns: [0, 873]\nIndex: []\nEmpty DataFrame\nColumns: []\nIndex: []\nEmpty DataFrame\nColumns: [0, 874]\nIndex: []\nEmpty DataFrame\nColumns: []\nIndex: []\nEmpty DataFrame\nColumns: [0, 875]\nIndex: []\nEmpty DataFrame\nColumns: []\nIndex: []\nEmpty DataFrame\nColumns: [0, 876]\nIndex: []\nEmpty DataFrame\nColumns: []\nIndex: []\nEmpty DataFrame\nColumns: [0, 877]\nIndex: []\nEmpty DataFrame\nColumns: []\nIndex: []\nEmpty DataFrame\nColumns: [0, 878]\nIndex: []\nEmpty DataFrame\nColumns: []\nIndex: []\nEmpty DataFrame\nColumns: [0, 879]\nIndex: []\nEmpty DataFrame\nColumns: []\nIndex: []\nEmpty DataFrame\nColumns: [0, 880]\nIndex: []\nEmpty DataFrame\nColumns: []\nIndex: []\nEmpty DataFrame\nColumns: [0, 881]\nIndex: []\nEmpty DataFrame\nColumns: []\nIndex: []\nEmpty DataFrame\nColumns: [0, 882]\nIndex: []\nEmpty DataFrame\nColumns: []\nIndex: []\nEmpty DataFrame\nColumns: [0, 883]\nIndex: []\nEmpty DataFrame\nColumns: []\nIndex: []\nEmpty DataFrame\nColumns: [0, 884]\nIndex: []\nEmpty DataFrame\nColumns: []\nIndex: []\nEmpty DataFrame\nColumns: [0, 885]\nIndex: []\nEmpty DataFrame\nColumns: []\nIndex: []\nEmpty DataFrame\nColumns: [0, 886]\nIndex: []"
     ]
    },
    {
     "name": "stdout",
     "output_type": "stream",
     "text": [
      "\nEmpty DataFrame\nColumns: []\nIndex: []\nEmpty DataFrame\nColumns: [0, 887]\nIndex: []\nEmpty DataFrame\nColumns: []\nIndex: []\nEmpty DataFrame\nColumns: [0, 888]\nIndex: []\nEmpty DataFrame\nColumns: []\nIndex: []\nEmpty DataFrame\nColumns: [0, 889]\nIndex: []\nEmpty DataFrame\nColumns: []\nIndex: []\nEmpty DataFrame\nColumns: [0, 890]\nIndex: []\nEmpty DataFrame\nColumns: []\nIndex: []\nEmpty DataFrame\nColumns: [0, 891]\nIndex: []\n     891\n891  NaN\nEmpty DataFrame\nColumns: [0, 892]\nIndex: []\nEmpty DataFrame\nColumns: []\nIndex: []\nEmpty DataFrame\nColumns: [0, 893]\nIndex: []\n     893\n893  NaN\nEmpty DataFrame\nColumns: [0, 894]\nIndex: []\nEmpty DataFrame\nColumns: []\nIndex: []\nEmpty DataFrame\nColumns: [0, 895]\nIndex: []\nEmpty DataFrame\nColumns: []\nIndex: []\nEmpty DataFrame\nColumns: [0, 896]\nIndex: []\nEmpty DataFrame\nColumns: []\nIndex: []\nEmpty DataFrame\nColumns: [0, 897]\nIndex: []\nEmpty DataFrame\nColumns: []\nIndex: []\nEmpty DataFrame\nColumns: [0, 898]\nIndex: []\n     898\n898  NaN\nEmpty DataFrame\nColumns: [0, 899]\nIndex: []\nEmpty DataFrame\nColumns: []\nIndex: []\nEmpty DataFrame\nColumns: [0, 900]\nIndex: []\nEmpty DataFrame\nColumns: []\nIndex: []\nEmpty DataFrame\nColumns: [0, 901]\nIndex: []\nEmpty DataFrame\nColumns: []\nIndex: []\nEmpty DataFrame\nColumns: [0, 902]\nIndex: []\nEmpty DataFrame\nColumns: []\nIndex: []\n"
     ]
    },
    {
     "name": "stdout",
     "output_type": "stream",
     "text": [
      "Empty DataFrame\nColumns: [0, 903]\nIndex: []\n     903\n903  NaN\nEmpty DataFrame\nColumns: [0, 904]\nIndex: []\n     904\n904  NaN\nEmpty DataFrame\nColumns: [0, 905]\nIndex: []\nEmpty DataFrame\nColumns: []\nIndex: []\nEmpty DataFrame\nColumns: [0, 906]\nIndex: []\nEmpty DataFrame\nColumns: []\nIndex: []\nEmpty DataFrame\nColumns: [0, 907]\nIndex: []\n     907\n907  NaN\nEmpty DataFrame\nColumns: [0, 908]\nIndex: []\nEmpty DataFrame\nColumns: []\nIndex: []\nEmpty DataFrame\nColumns: [0, 909]\nIndex: []\nEmpty DataFrame\nColumns: []\nIndex: []\nEmpty DataFrame\nColumns: [0, 910]\nIndex: []\nEmpty DataFrame\nColumns: []\nIndex: []\nEmpty DataFrame\nColumns: [0, 911]\nIndex: []\nEmpty DataFrame\nColumns: []\nIndex: []\nEmpty DataFrame\nColumns: [0, 912]\nIndex: []\nEmpty DataFrame\nColumns: []\nIndex: []\nEmpty DataFrame\nColumns: [0, 913]\nIndex: []\nEmpty DataFrame\nColumns: []\nIndex: []\nEmpty DataFrame\nColumns: [0, 914]\nIndex: []\nEmpty DataFrame\nColumns: []\nIndex: []\nEmpty DataFrame\nColumns: [0, 915]\nIndex: []\nEmpty DataFrame\nColumns: []\nIndex: []"
     ]
    },
    {
     "name": "stdout",
     "output_type": "stream",
     "text": [
      "\nEmpty DataFrame\nColumns: [0, 916]\nIndex: []\nEmpty DataFrame\nColumns: []\nIndex: []\nEmpty DataFrame\nColumns: [0, 917]\nIndex: []\nEmpty DataFrame\nColumns: []\nIndex: []\nEmpty DataFrame\nColumns: [0, 918]\nIndex: []\nEmpty DataFrame\nColumns: []\nIndex: []\nEmpty DataFrame\nColumns: [0, 919]\nIndex: []\nEmpty DataFrame\nColumns: []\nIndex: []\nEmpty DataFrame\nColumns: [0, 920]\nIndex: []\nEmpty DataFrame\nColumns: []\nIndex: []\nEmpty DataFrame\nColumns: [0, 921]\nIndex: []\nEmpty DataFrame\nColumns: []\nIndex: []\nEmpty DataFrame\nColumns: [0, 922]\nIndex: []\nEmpty DataFrame\nColumns: []\nIndex: []\nEmpty DataFrame\nColumns: [0, 923]\nIndex: []\nEmpty DataFrame\nColumns: []\nIndex: []\nEmpty DataFrame\nColumns: [0, 924]\nIndex: []\nEmpty DataFrame\nColumns: []\nIndex: []\nEmpty DataFrame\nColumns: [0, 925]\nIndex: []\n     925\n925  NaN\nEmpty DataFrame\nColumns: [0, 926]\nIndex: []\nEmpty DataFrame\nColumns: []\nIndex: []\nEmpty DataFrame\nColumns: [0, 927]\nIndex: []\nEmpty DataFrame\nColumns: []\nIndex: []\nEmpty DataFrame\nColumns: [0, 928]\nIndex: []\nEmpty DataFrame\nColumns: []\nIndex: []\nEmpty DataFrame\nColumns: [0, 929]\nIndex: []\nEmpty DataFrame\nColumns: []\nIndex: []\n"
     ]
    },
    {
     "name": "stdout",
     "output_type": "stream",
     "text": [
      "Empty DataFrame\nColumns: [0, 930]\nIndex: []\nEmpty DataFrame\nColumns: []\nIndex: []\nEmpty DataFrame\nColumns: [0, 931]\nIndex: []\nEmpty DataFrame\nColumns: []\nIndex: []\nEmpty DataFrame\nColumns: [0, 932]\nIndex: []\n     932\n932  NaN\nEmpty DataFrame\nColumns: [0, 933]\nIndex: []\nEmpty DataFrame\nColumns: []\nIndex: []\nEmpty DataFrame\nColumns: [0, 934]\nIndex: []\nEmpty DataFrame\nColumns: []\nIndex: []\nEmpty DataFrame\nColumns: [0, 935]\nIndex: []\nEmpty DataFrame\nColumns: []\nIndex: []\nEmpty DataFrame\nColumns: [0, 936]\nIndex: []\nEmpty DataFrame\nColumns: []\nIndex: []\nEmpty DataFrame\nColumns: [0, 937]\nIndex: []\nEmpty DataFrame\nColumns: []\nIndex: []\nEmpty DataFrame\nColumns: [0, 938]\nIndex: []\nEmpty DataFrame\nColumns: []\nIndex: []\nEmpty DataFrame\nColumns: [0, 939]\nIndex: []\nEmpty DataFrame\nColumns: []\nIndex: []\nEmpty DataFrame\nColumns: [0, 940]\nIndex: []\nEmpty DataFrame\nColumns: []\nIndex: []\nEmpty DataFrame\nColumns: [0, 941]\nIndex: []\nEmpty DataFrame\nColumns: []\nIndex: []\nEmpty DataFrame\nColumns: [0, 942]\nIndex: []\nEmpty DataFrame\nColumns: []\nIndex: []\nEmpty DataFrame\nColumns: [0, 943]\nIndex: []\nEmpty DataFrame\nColumns: []\nIndex: []\nEmpty DataFrame\nColumns: [0, 944]\nIndex: []\nEmpty DataFrame\nColumns: []\nIndex: []\nEmpty DataFrame\nColumns: [0, 945]\nIndex: []\nEmpty DataFrame\nColumns: []\nIndex: []\nEmpty DataFrame\nColumns: [0, 946]\nIndex: []"
     ]
    },
    {
     "name": "stdout",
     "output_type": "stream",
     "text": [
      "\nEmpty DataFrame\nColumns: []\nIndex: []\nEmpty DataFrame\nColumns: [0, 947]\nIndex: []\n     947\n947  NaN\nEmpty DataFrame\nColumns: [0, 948]\nIndex: []\nEmpty DataFrame\nColumns: []\nIndex: []\nEmpty DataFrame\nColumns: [0, 949]\nIndex: []\n     949\n949  NaN\nEmpty DataFrame\nColumns: [0, 950]\nIndex: []\nEmpty DataFrame\nColumns: []\nIndex: []\nEmpty DataFrame\nColumns: [0, 951]\nIndex: []\nEmpty DataFrame\nColumns: []\nIndex: []\nEmpty DataFrame\nColumns: [0, 952]\nIndex: []\n     952\n952  NaN\nEmpty DataFrame\nColumns: [0, 953]\nIndex: []\nEmpty DataFrame\nColumns: []\nIndex: []\nEmpty DataFrame\nColumns: [0, 954]\nIndex: []\nEmpty DataFrame\nColumns: []\nIndex: []\nEmpty DataFrame\nColumns: [0, 955]\nIndex: []\nEmpty DataFrame\nColumns: []\nIndex: []\nEmpty DataFrame\nColumns: [0, 956]\nIndex: []\nEmpty DataFrame\nColumns: []\nIndex: []\nEmpty DataFrame\nColumns: [0, 957]\nIndex: []\nEmpty DataFrame\nColumns: []\nIndex: []\nEmpty DataFrame\nColumns: [0, 958]\nIndex: []\nEmpty DataFrame\nColumns: []\nIndex: []\nEmpty DataFrame\nColumns: [0, 959]\nIndex: []\nEmpty DataFrame\nColumns: []\nIndex: []\nEmpty DataFrame\nColumns: [0, 960]\nIndex: []\nEmpty DataFrame\nColumns: []\nIndex: []\nEmpty DataFrame\nColumns: [0, 961]\nIndex: []"
     ]
    },
    {
     "name": "stdout",
     "output_type": "stream",
     "text": [
      "\nEmpty DataFrame\nColumns: []\nIndex: []\nEmpty DataFrame\nColumns: [0, 962]\nIndex: []\nEmpty DataFrame\nColumns: []\nIndex: []\nEmpty DataFrame\nColumns: [0, 963]\nIndex: []\nEmpty DataFrame\nColumns: []\nIndex: []\nEmpty DataFrame\nColumns: [0, 964]\nIndex: []\nEmpty DataFrame\nColumns: []\nIndex: []\nEmpty DataFrame\nColumns: [0, 965]\nIndex: []\nEmpty DataFrame\nColumns: []\nIndex: []\nEmpty DataFrame\nColumns: [0, 966]\nIndex: []\nEmpty DataFrame\nColumns: []\nIndex: []\nEmpty DataFrame\nColumns: [0, 967]\nIndex: []\nEmpty DataFrame\nColumns: []\nIndex: []\nEmpty DataFrame\nColumns: [0, 968]\nIndex: []\nEmpty DataFrame\nColumns: []\nIndex: []\nEmpty DataFrame\nColumns: [0, 969]\nIndex: []\nEmpty DataFrame\nColumns: []\nIndex: []\nEmpty DataFrame\nColumns: [0, 970]\nIndex: []\nEmpty DataFrame\nColumns: []\nIndex: []\nEmpty DataFrame\nColumns: [0, 971]\nIndex: []\nEmpty DataFrame\nColumns: []\nIndex: []\nEmpty DataFrame\nColumns: [0, 972]\nIndex: []\nEmpty DataFrame\nColumns: []\nIndex: []\nEmpty DataFrame\nColumns: [0, 973]\nIndex: []\nEmpty DataFrame\nColumns: []\nIndex: []\nEmpty DataFrame\nColumns: [0, 974]\nIndex: []\nEmpty DataFrame\nColumns: []\nIndex: []\nEmpty DataFrame\nColumns: [0, 975]\nIndex: []\nEmpty DataFrame\nColumns: []\nIndex: []\n"
     ]
    },
    {
     "name": "stdout",
     "output_type": "stream",
     "text": [
      "Empty DataFrame\nColumns: [0, 976]\nIndex: []\nEmpty DataFrame\nColumns: []\nIndex: []\nEmpty DataFrame\nColumns: [0, 977]\nIndex: []\nEmpty DataFrame\nColumns: []\nIndex: []\nEmpty DataFrame\nColumns: [0, 978]\nIndex: []\nEmpty DataFrame\nColumns: []\nIndex: []\nEmpty DataFrame\nColumns: [0, 979]\nIndex: []\n     979\n979  NaN\nEmpty DataFrame\nColumns: [0, 980]\nIndex: []\nEmpty DataFrame\nColumns: []\nIndex: []\nEmpty DataFrame\nColumns: [0, 981]\nIndex: []\n     981\n981  NaN\nEmpty DataFrame\nColumns: [0, 982]\nIndex: []\n     982\n982  NaN\nEmpty DataFrame\nColumns: [0, 983]\nIndex: []\nEmpty DataFrame\nColumns: []\nIndex: []\nEmpty DataFrame\nColumns: [0, 984]\nIndex: []\nEmpty DataFrame\nColumns: []\nIndex: []\nEmpty DataFrame\nColumns: [0, 985]\nIndex: []\nEmpty DataFrame\nColumns: []\nIndex: []\nEmpty DataFrame\nColumns: [0, 986]\nIndex: []\n     986\n986  NaN\nEmpty DataFrame\nColumns: [0, 987]\nIndex: []\nEmpty DataFrame\nColumns: []\nIndex: []\nEmpty DataFrame\nColumns: [0, 988]\nIndex: []\nEmpty DataFrame\nColumns: []\nIndex: []\nEmpty DataFrame\nColumns: [0, 989]\nIndex: []\n     989\n989  NaN\nEmpty DataFrame\nColumns: [0, 990]\nIndex: []\nEmpty DataFrame\nColumns: []\nIndex: []\nEmpty DataFrame\nColumns: [0, 991]\nIndex: []\n     991\n991  NaN\nEmpty DataFrame\nColumns: [0, 992]\nIndex: []"
     ]
    },
    {
     "name": "stdout",
     "output_type": "stream",
     "text": [
      "\n     992\n992  NaN\nEmpty DataFrame\nColumns: [0, 993]\nIndex: []\nEmpty DataFrame\nColumns: []\nIndex: []\nEmpty DataFrame\nColumns: [0, 994]\nIndex: []\nEmpty DataFrame\nColumns: []\nIndex: []\nEmpty DataFrame\nColumns: [0, 995]\nIndex: []\nEmpty DataFrame\nColumns: []\nIndex: []\nEmpty DataFrame\nColumns: [0, 996]\nIndex: []\nEmpty DataFrame\nColumns: []\nIndex: []\nEmpty DataFrame\nColumns: [0, 997]\nIndex: []\n     997\n997  NaN\nEmpty DataFrame\nColumns: [0, 998]\nIndex: []\n     998\n998  NaN\nEmpty DataFrame\nColumns: [0, 999]\nIndex: []\nEmpty DataFrame\nColumns: []\nIndex: []\nEmpty DataFrame\nColumns: [0, 1000]\nIndex: []\nEmpty DataFrame\nColumns: []\nIndex: []\nEmpty DataFrame\nColumns: [0, 1001]\nIndex: []\nEmpty DataFrame\nColumns: []\nIndex: []\nEmpty DataFrame\nColumns: [0, 1002]\nIndex: []\nEmpty DataFrame\nColumns: []\nIndex: []\nEmpty DataFrame\nColumns: [0, 1003]\nIndex: []\n      1003\n1003   NaN\nEmpty DataFrame\nColumns: [0, 1004]\nIndex: []\n      1004\n1004   NaN\nEmpty DataFrame\nColumns: [0, 1005]\nIndex: []\n      1005\n1005   NaN\nEmpty DataFrame\nColumns: [0, 1006]\nIndex: []\n      1006\n1006   NaN\nEmpty DataFrame\nColumns: [0, 1007]\nIndex: []\n"
     ]
    },
    {
     "name": "stdout",
     "output_type": "stream",
     "text": [
      "      1007\n1007   NaN\nEmpty DataFrame\nColumns: [0, 1008]\nIndex: []\nEmpty DataFrame\nColumns: []\nIndex: []\nEmpty DataFrame\nColumns: [0, 1009]\nIndex: []\n      1009\n1009   NaN\nEmpty DataFrame\nColumns: [0, 1010]\nIndex: []\n      1010\n1010   NaN\nEmpty DataFrame\nColumns: [0, 1011]\nIndex: []\nEmpty DataFrame\nColumns: []\nIndex: []\nEmpty DataFrame\nColumns: [0, 1012]\nIndex: []\n      1012\n1012   NaN\nEmpty DataFrame\nColumns: [0, 1013]\nIndex: []\nEmpty DataFrame\nColumns: []\nIndex: []\nEmpty DataFrame\nColumns: [0, 1014]\nIndex: []\n      1014\n1014   NaN\nEmpty DataFrame\nColumns: [0, 1015]\nIndex: []\n      1015\n1015   NaN\nEmpty DataFrame\nColumns: [0, 1016]\nIndex: []\n      1016\n1016   NaN\nEmpty DataFrame\nColumns: [0, 1017]\nIndex: []\nEmpty DataFrame\nColumns: []\nIndex: []\nEmpty DataFrame\nColumns: [0, 1018]\nIndex: []\nEmpty DataFrame\nColumns: []\nIndex: []\nEmpty DataFrame\nColumns: [0, 1019]\nIndex: []\nEmpty DataFrame\nColumns: []\nIndex: []\nEmpty DataFrame\nColumns: [0, 1020]\nIndex: []\n      1020\n1020   NaN\nEmpty DataFrame\nColumns: [0, 1021]\nIndex: []\nEmpty DataFrame\nColumns: []\nIndex: []\nEmpty DataFrame\nColumns: [0, 1022]\nIndex: []\nEmpty DataFrame\nColumns: []\nIndex: []\n"
     ]
    },
    {
     "name": "stdout",
     "output_type": "stream",
     "text": [
      "Empty DataFrame\nColumns: [0, 1023]\nIndex: []\n      1023\n1023   NaN\nEmpty DataFrame\nColumns: [0, 1024]\nIndex: []\n      1024\n1024   NaN\nEmpty DataFrame\nColumns: [0, 1025]\nIndex: []\n      1025\n1025   NaN\nEmpty DataFrame\nColumns: [0, 1026]\nIndex: []\n      1026\n1026   NaN\nEmpty DataFrame\nColumns: [0, 1027]\nIndex: []\n      1027\n1027   NaN\nEmpty DataFrame\nColumns: [0, 1028]\nIndex: []\n      1028\n1028   NaN\nEmpty DataFrame\nColumns: [0, 1029]\nIndex: []\n      1029\n1029   NaN\nEmpty DataFrame\nColumns: [0, 1030]\nIndex: []\n      1030\n1030   NaN\nEmpty DataFrame\nColumns: [0, 1031]\nIndex: []\n      1031\n1031   NaN\nEmpty DataFrame\nColumns: [0, 1032]\nIndex: []\n      1032\n1032   NaN\nEmpty DataFrame\nColumns: [0, 1033]\nIndex: []\nEmpty DataFrame\nColumns: []\nIndex: []\nEmpty DataFrame\nColumns: [0, 1034]\nIndex: []\nEmpty DataFrame\nColumns: []\nIndex: []\nEmpty DataFrame\nColumns: [0, 1035]\nIndex: []\n      1035\n1035   NaN\nEmpty DataFrame\nColumns: [0, 1036]\nIndex: []\n      1036\n1036   NaN\nEmpty DataFrame\nColumns: [0, 1037]\nIndex: []\n      1037\n1037   NaN\nEmpty DataFrame\nColumns: [0, 1038]\nIndex: []\n      1038\n1038   NaN\nEmpty DataFrame\nColumns: [1, 2]\nIndex: []\n"
     ]
    },
    {
     "name": "stdout",
     "output_type": "stream",
     "text": [
      "Empty DataFrame\nColumns: []\nIndex: []\nEmpty DataFrame\nColumns: [1, 3]\nIndex: []\n    3\n3 NaN\n         1     4\n19657  0,3  68,3\n19654  0,3  68,3\nEmpty DataFrame\nColumns: []\nIndex: []\n         1      5\n19657  0,3  96,17\n19654  0,3  96,17\nEmpty DataFrame\nColumns: []\nIndex: []\n         1    6\n19657  0,3  3,3\n19654  0,3  3,3\nEmpty DataFrame\nColumns: []\nIndex: []\nEmpty DataFrame\nColumns: [1, 7]\nIndex: []\nEmpty DataFrame\nColumns: []\nIndex: []\nEmpty DataFrame\nColumns: [1, 8]\nIndex: []\nEmpty DataFrame\nColumns: []\nIndex: []\n         1     9\n19657  0,3  4,46\n19654  0,3  4,46\nEmpty DataFrame\nColumns: []\nIndex: []\nEmpty DataFrame\nColumns: [1, 10]\nIndex: []\nEmpty DataFrame\nColumns: []\nIndex: []\nEmpty DataFrame\nColumns: [1, 11]\nIndex: []\nEmpty DataFrame\nColumns: []\nIndex: []\nEmpty DataFrame\nColumns: [1, 12]\nIndex: []\nEmpty DataFrame\nColumns: []\nIndex: []\n        1     13\n19657  0,3  1,33\n19654  0,3  1,33\nEmpty DataFrame\nColumns: []\nIndex: []\n        1     14\n19657  0,3  18,6\n19654  0,3  18,6\nEmpty DataFrame\nColumns: []\nIndex: []\n        1     15\n19657  0,3  10,8\n19654  0,3  10,8\nEmpty DataFrame\nColumns: []\nIndex: []\nEmpty DataFrame\nColumns: [1, 16]\nIndex: []\nEmpty DataFrame\nColumns: []\nIndex: []\n"
     ]
    },
    {
     "name": "stdout",
     "output_type": "stream",
     "text": [
      "Empty DataFrame\nColumns: [1, 17]\nIndex: []\nEmpty DataFrame\nColumns: []\nIndex: []\nEmpty DataFrame\nColumns: [1, 18]\nIndex: []\nEmpty DataFrame\nColumns: []\nIndex: []\nEmpty DataFrame\nColumns: [1, 19]\nIndex: []\n    19\n19 NaN\nEmpty DataFrame\nColumns: [1, 20]\nIndex: []\nEmpty DataFrame\nColumns: []\nIndex: []\nEmpty DataFrame\nColumns: [1, 21]\nIndex: []\nEmpty DataFrame\nColumns: []\nIndex: []\nEmpty DataFrame\nColumns: [1, 22]\nIndex: []\nEmpty DataFrame\nColumns: []\nIndex: []\nEmpty DataFrame\nColumns: [1, 23]\nIndex: []\nEmpty DataFrame\nColumns: []\nIndex: []\n        1   24\n19657  0,3  26\n19654  0,3  26\nEmpty DataFrame\nColumns: []\nIndex: []\nEmpty DataFrame\nColumns: [1, 25]\nIndex: []\n    25\n25 NaN\nEmpty DataFrame\nColumns: [1, 26]\nIndex: []\nEmpty DataFrame\nColumns: []\nIndex: []\nEmpty DataFrame\nColumns: [1, 27]\nIndex: []\nEmpty DataFrame\nColumns: []\nIndex: []\n        1     28\n19657  0,3  1,53\n19654  0,3  1,53\nEmpty DataFrame\nColumns: []\nIndex: []\n        1     29\n19657  0,3  8,85\n19654  0,3  8,85\nEmpty DataFrame\nColumns: []\nIndex: []\n        1   30\n19657  0,3  13\n19654  0,3  13\nEmpty DataFrame\nColumns: []\nIndex: []\n        1     31\n19657  0,3  4,37\n19654  0,3  4,37\nEmpty DataFrame\nColumns: []\nIndex: []\n        1     32\n19657  0,3  16,9\n19654  0,3  16,9\nEmpty DataFrame\nColumns: []\nIndex: []\n"
     ]
    },
    {
     "name": "stdout",
     "output_type": "stream",
     "text": [
      "Empty DataFrame\nColumns: [1, 33]\nIndex: []\n    33\n33 NaN\nEmpty DataFrame\nColumns: [1, 34]\nIndex: []\n    34\n34 NaN\nEmpty DataFrame\nColumns: [1, 35]\nIndex: []\n    35\n35 NaN\nEmpty DataFrame\nColumns: [1, 36]\nIndex: []\n    36\n36 NaN\nEmpty DataFrame\nColumns: [1, 37]\nIndex: []\n    37\n37 NaN\nEmpty DataFrame\nColumns: [1, 38]\nIndex: []\n    38\n38 NaN\nEmpty DataFrame\nColumns: [1, 39]\nIndex: []\n    39\n39 NaN\nEmpty DataFrame\nColumns: [1, 40]\nIndex: []\n    40\n40 NaN\nEmpty DataFrame\nColumns: [1, 41]\nIndex: []\nEmpty DataFrame\nColumns: []\nIndex: []\nEmpty DataFrame\nColumns: [1, 42]\nIndex: []\nEmpty DataFrame\nColumns: []\nIndex: []\nEmpty DataFrame\nColumns: [1, 43]\nIndex: []\nEmpty DataFrame\nColumns: []\nIndex: []\nEmpty DataFrame\nColumns: [1, 44]\nIndex: []\nEmpty DataFrame\nColumns: []\nIndex: []\nEmpty DataFrame\nColumns: [1, 45]\nIndex: []\nEmpty DataFrame\nColumns: []\nIndex: []\nEmpty DataFrame\nColumns: [1, 46]\nIndex: []\nEmpty DataFrame\nColumns: []\nIndex: []\nEmpty DataFrame\nColumns: [1, 47]\nIndex: []\nEmpty DataFrame\nColumns: []\nIndex: []\n"
     ]
    },
    {
     "name": "stdout",
     "output_type": "stream",
     "text": [
      "Empty DataFrame\nColumns: [1, 48]\nIndex: []\nEmpty DataFrame\nColumns: []\nIndex: []\nEmpty DataFrame\nColumns: [1, 49]\nIndex: []\n    49\n49 NaN\nEmpty DataFrame\nColumns: [1, 50]\nIndex: []\nEmpty DataFrame\nColumns: []\nIndex: []\nEmpty DataFrame\nColumns: [1, 51]\nIndex: []\nEmpty DataFrame\nColumns: []\nIndex: []\nEmpty DataFrame\nColumns: [1, 52]\nIndex: []\nEmpty DataFrame\nColumns: []\nIndex: []\nEmpty DataFrame\nColumns: [1, 53]\nIndex: []\nEmpty DataFrame\nColumns: []\nIndex: []\nEmpty DataFrame\nColumns: [1, 54]\nIndex: []\nEmpty DataFrame\nColumns: []\nIndex: []\nEmpty DataFrame\nColumns: [1, 55]\nIndex: []\nEmpty DataFrame\nColumns: []\nIndex: []\nEmpty DataFrame\nColumns: [1, 56]\nIndex: []\nEmpty DataFrame\nColumns: []\nIndex: []\nEmpty DataFrame\nColumns: [1, 57]\nIndex: []\nEmpty DataFrame\nColumns: []\nIndex: []\nEmpty DataFrame\nColumns: [1, 58]\nIndex: []\nEmpty DataFrame\nColumns: []\nIndex: []\nEmpty DataFrame\nColumns: [1, 59]\nIndex: []\nEmpty DataFrame\nColumns: []\nIndex: []\nEmpty DataFrame\nColumns: [1, 60]\nIndex: []\nEmpty DataFrame\nColumns: []\nIndex: []\nEmpty DataFrame\nColumns: [1, 61]\nIndex: []\nEmpty DataFrame\nColumns: []\nIndex: []\nEmpty DataFrame\nColumns: [1, 62]\nIndex: []\nEmpty DataFrame\nColumns: []\nIndex: []\nEmpty DataFrame\nColumns: [1, 63]\nIndex: []\nEmpty DataFrame\nColumns: []\nIndex: []\nEmpty DataFrame\nColumns: [1, 64]\nIndex: []"
     ]
    },
    {
     "name": "stdout",
     "output_type": "stream",
     "text": [
      "\nEmpty DataFrame\nColumns: []\nIndex: []\nEmpty DataFrame\nColumns: [1, 65]\nIndex: []\nEmpty DataFrame\nColumns: []\nIndex: []\nEmpty DataFrame\nColumns: [1, 66]\nIndex: []\nEmpty DataFrame\nColumns: []\nIndex: []\nEmpty DataFrame\nColumns: [1, 67]\nIndex: []\nEmpty DataFrame\nColumns: []\nIndex: []\nEmpty DataFrame\nColumns: [1, 68]\nIndex: []\nEmpty DataFrame\nColumns: []\nIndex: []\nEmpty DataFrame\nColumns: [1, 69]\nIndex: []\n    69\n69 NaN\nEmpty DataFrame\nColumns: [1, 70]\nIndex: []\n    70\n70 NaN\nEmpty DataFrame\nColumns: [1, 71]\nIndex: []\nEmpty DataFrame\nColumns: []\nIndex: []\nEmpty DataFrame\nColumns: [1, 72]\nIndex: []\nEmpty DataFrame\nColumns: []\nIndex: []\nEmpty DataFrame\nColumns: [1, 73]\nIndex: []\nEmpty DataFrame\nColumns: []\nIndex: []\nEmpty DataFrame\nColumns: [1, 74]\nIndex: []\n    74\n74 NaN\nEmpty DataFrame\nColumns: [1, 75]\nIndex: []\nEmpty DataFrame\nColumns: []\nIndex: []\nEmpty DataFrame\nColumns: [1, 76]\nIndex: []\nEmpty DataFrame\nColumns: []\nIndex: []\nEmpty DataFrame\nColumns: [1, 77]\nIndex: []\n    77\n77 NaN\nEmpty DataFrame\nColumns: [1, 78]\nIndex: []\n    78\n78 NaN\nEmpty DataFrame\nColumns: [1, 79]\nIndex: []\nEmpty DataFrame\nColumns: []\nIndex: []\nEmpty DataFrame\nColumns: [1, 80]\nIndex: []"
     ]
    },
    {
     "name": "stdout",
     "output_type": "stream",
     "text": [
      "\nEmpty DataFrame\nColumns: []\nIndex: []\nEmpty DataFrame\nColumns: [1, 81]\nIndex: []\nEmpty DataFrame\nColumns: []\nIndex: []\nEmpty DataFrame\nColumns: [1, 82]\nIndex: []\n    82\n82 NaN\nEmpty DataFrame\nColumns: [1, 83]\nIndex: []\nEmpty DataFrame\nColumns: []\nIndex: []\nEmpty DataFrame\nColumns: [1, 84]\nIndex: []\nEmpty DataFrame\nColumns: []\nIndex: []\nEmpty DataFrame\nColumns: [1, 85]\nIndex: []\n    85\n85 NaN\nEmpty DataFrame\nColumns: [1, 86]\nIndex: []\n    86\n86 NaN\nEmpty DataFrame\nColumns: [1, 87]\nIndex: []\n    87\n87 NaN\nEmpty DataFrame\nColumns: [1, 88]\nIndex: []\nEmpty DataFrame\nColumns: []\nIndex: []\nEmpty DataFrame\nColumns: [1, 89]\nIndex: []\nEmpty DataFrame\nColumns: []\nIndex: []\nEmpty DataFrame\nColumns: [1, 90]\nIndex: []\nEmpty DataFrame\nColumns: []\nIndex: []\nEmpty DataFrame\nColumns: [1, 91]\nIndex: []\nEmpty DataFrame\nColumns: []\nIndex: []\nEmpty DataFrame\nColumns: [1, 92]\nIndex: []\nEmpty DataFrame\nColumns: []\nIndex: []\nEmpty DataFrame\nColumns: [1, 93]\nIndex: []\nEmpty DataFrame\nColumns: []\nIndex: []\n"
     ]
    },
    {
     "name": "stdout",
     "output_type": "stream",
     "text": [
      "Empty DataFrame\nColumns: [1, 94]\nIndex: []\n    94\n94 NaN\n        1    95\n19657  0,3  1.0\n19654  0,3  1.0\n    95\n95 NaN\n        1     96\n19657  0,3  40,6\n19654  0,3  40,6\nEmpty DataFrame\nColumns: []\nIndex: []\n        1    97\n19657  0,3  0.0\n19654  0,3  0.0\n    97\n97 NaN\nEmpty DataFrame\nColumns: [1, 98]\nIndex: []\n    98\n98 NaN\nEmpty DataFrame\nColumns: [1, 99]\nIndex: []\nEmpty DataFrame\nColumns: []\nIndex: []\nEmpty DataFrame\nColumns: [1, 100]\nIndex: []\n     100\n100  NaN\nEmpty DataFrame\nColumns: [1, 101]\nIndex: []\nEmpty DataFrame\nColumns: []\nIndex: []\nEmpty DataFrame\nColumns: [1, 102]\nIndex: []\nEmpty DataFrame\nColumns: []\nIndex: []\nEmpty DataFrame\nColumns: [1, 103]\nIndex: []\nEmpty DataFrame\nColumns: []\nIndex: []\nEmpty DataFrame\nColumns: [1, 104]\nIndex: []\nEmpty DataFrame\nColumns: []\nIndex: []\nEmpty DataFrame\nColumns: [1, 105]\nIndex: []\n     105\n105  NaN\nEmpty DataFrame\nColumns: [1, 106]\nIndex: []\n     106\n106  NaN\nEmpty DataFrame\nColumns: [1, 107]\nIndex: []\n     107\n107  NaN\nEmpty DataFrame\nColumns: [1, 108]\nIndex: []\n     108\n108  NaN\n"
     ]
    },
    {
     "name": "stdout",
     "output_type": "stream",
     "text": [
      "Empty DataFrame\nColumns: [1, 109]\nIndex: []\n     109\n109  NaN\nEmpty DataFrame\nColumns: [1, 110]\nIndex: []\n     110\n110  NaN\nEmpty DataFrame\nColumns: [1, 111]\nIndex: []\n     111\n111  NaN\nEmpty DataFrame\nColumns: [1, 112]\nIndex: []\nEmpty DataFrame\nColumns: []\nIndex: []\nEmpty DataFrame\nColumns: [1, 113]\nIndex: []\nEmpty DataFrame\nColumns: []\nIndex: []\nEmpty DataFrame\nColumns: [1, 114]\nIndex: []\nEmpty DataFrame\nColumns: []\nIndex: []\nEmpty DataFrame\nColumns: [1, 115]\nIndex: []\nEmpty DataFrame\nColumns: []\nIndex: []\nEmpty DataFrame\nColumns: [1, 116]\nIndex: []\nEmpty DataFrame\nColumns: []\nIndex: []\nEmpty DataFrame\nColumns: [1, 117]\nIndex: []\n     117\n117  NaN\nEmpty DataFrame\nColumns: [1, 118]\nIndex: []\n     118\n118  NaN\nEmpty DataFrame\nColumns: [1, 119]\nIndex: []\n     119\n119  NaN\nEmpty DataFrame\nColumns: [1, 120]\nIndex: []\n     120\n120  NaN\nEmpty DataFrame\nColumns: [1, 121]\nIndex: []\n     121\n121  NaN\nEmpty DataFrame\nColumns: [1, 122]\nIndex: []\n     122\n122  NaN\nEmpty DataFrame\nColumns: [1, 123]\nIndex: []\n     123\n123  NaN\nEmpty DataFrame\nColumns: [1, 124]\nIndex: []\n     124\n124  NaN\n"
     ]
    },
    {
     "name": "stdout",
     "output_type": "stream",
     "text": [
      "Empty DataFrame\nColumns: [1, 125]\nIndex: []\n     125\n125  NaN\nEmpty DataFrame\nColumns: [1, 126]\nIndex: []\nEmpty DataFrame\nColumns: []\nIndex: []\nEmpty DataFrame\nColumns: [1, 127]\nIndex: []\nEmpty DataFrame\nColumns: []\nIndex: []\nEmpty DataFrame\nColumns: [1, 128]\nIndex: []\nEmpty DataFrame\nColumns: []\nIndex: []\nEmpty DataFrame\nColumns: [1, 129]\nIndex: []\nEmpty DataFrame\nColumns: []\nIndex: []\nEmpty DataFrame\nColumns: [1, 130]\nIndex: []\n     130\n130  NaN\nEmpty DataFrame\nColumns: [1, 131]\nIndex: []\nEmpty DataFrame\nColumns: []\nIndex: []\nEmpty DataFrame\nColumns: [1, 132]\nIndex: []\nEmpty DataFrame\nColumns: []\nIndex: []\nEmpty DataFrame\nColumns: [1, 133]\nIndex: []\nEmpty DataFrame\nColumns: []\nIndex: []\nEmpty DataFrame\nColumns: [1, 134]\nIndex: []\nEmpty DataFrame\nColumns: []\nIndex: []\nEmpty DataFrame\nColumns: [1, 135]\nIndex: []\nEmpty DataFrame\nColumns: []\nIndex: []\nEmpty DataFrame\nColumns: [1, 136]\nIndex: []\nEmpty DataFrame\nColumns: []\nIndex: []\nEmpty DataFrame\nColumns: [1, 137]\nIndex: []\nEmpty DataFrame\nColumns: []\nIndex: []\nEmpty DataFrame\nColumns: [1, 138]\nIndex: []\nEmpty DataFrame\nColumns: []\nIndex: []\nEmpty DataFrame\nColumns: [1, 139]\nIndex: []\nEmpty DataFrame\nColumns: []\nIndex: []\nEmpty DataFrame\nColumns: [1, 140]\nIndex: []\nEmpty DataFrame\nColumns: []\nIndex: []\n"
     ]
    },
    {
     "name": "stdout",
     "output_type": "stream",
     "text": [
      "Empty DataFrame\nColumns: [1, 141]\nIndex: []\nEmpty DataFrame\nColumns: []\nIndex: []\nEmpty DataFrame\nColumns: [1, 142]\nIndex: []\nEmpty DataFrame\nColumns: []\nIndex: []\nEmpty DataFrame\nColumns: [1, 143]\nIndex: []\nEmpty DataFrame\nColumns: []\nIndex: []\nEmpty DataFrame\nColumns: [1, 144]\nIndex: []\nEmpty DataFrame\nColumns: []\nIndex: []\nEmpty DataFrame\nColumns: [1, 145]\nIndex: []\nEmpty DataFrame\nColumns: []\nIndex: []\nEmpty DataFrame\nColumns: [1, 146]\nIndex: []\nEmpty DataFrame\nColumns: []\nIndex: []\nEmpty DataFrame\nColumns: [1, 147]\nIndex: []\nEmpty DataFrame\nColumns: []\nIndex: []\nEmpty DataFrame\nColumns: [1, 148]\nIndex: []\nEmpty DataFrame\nColumns: []\nIndex: []\nEmpty DataFrame\nColumns: [1, 149]\nIndex: []\nEmpty DataFrame\nColumns: []\nIndex: []\nEmpty DataFrame\nColumns: [1, 150]\nIndex: []\nEmpty DataFrame\nColumns: []\nIndex: []\nEmpty DataFrame\nColumns: [1, 151]\nIndex: []\nEmpty DataFrame\nColumns: []\nIndex: []\nEmpty DataFrame\nColumns: [1, 152]\nIndex: []\n     152\n152  NaN\nEmpty DataFrame\nColumns: [1, 153]\nIndex: []\n     153\n153  NaN\nEmpty DataFrame\nColumns: [1, 154]\nIndex: []\n     154\n154  NaN\nEmpty DataFrame\nColumns: [1, 155]\nIndex: []\nEmpty DataFrame\nColumns: []\nIndex: []\nEmpty DataFrame\nColumns: [1, 156]\nIndex: []\nEmpty DataFrame\nColumns: []\nIndex: []\n"
     ]
    },
    {
     "name": "stdout",
     "output_type": "stream",
     "text": [
      "Empty DataFrame\nColumns: [1, 157]\nIndex: []\nEmpty DataFrame\nColumns: []\nIndex: []\nEmpty DataFrame\nColumns: [1, 158]\nIndex: []\nEmpty DataFrame\nColumns: []\nIndex: []\nEmpty DataFrame\nColumns: [1, 159]\nIndex: []\nEmpty DataFrame\nColumns: []\nIndex: []\nEmpty DataFrame\nColumns: [1, 160]\nIndex: []\nEmpty DataFrame\nColumns: []\nIndex: []\nEmpty DataFrame\nColumns: [1, 161]\nIndex: []\nEmpty DataFrame\nColumns: []\nIndex: []\nEmpty DataFrame\nColumns: [1, 162]\nIndex: []\n     162\n162  NaN\nEmpty DataFrame\nColumns: [1, 163]\nIndex: []\nEmpty DataFrame\nColumns: []\nIndex: []\nEmpty DataFrame\nColumns: [1, 164]\nIndex: []\nEmpty DataFrame\nColumns: []\nIndex: []\nEmpty DataFrame\nColumns: [1, 165]\nIndex: []\n     165\n165  NaN\nEmpty DataFrame\nColumns: [1, 166]\nIndex: []\nEmpty DataFrame\nColumns: []\nIndex: []\nEmpty DataFrame\nColumns: [1, 167]\nIndex: []\nEmpty DataFrame\nColumns: []\nIndex: []\nEmpty DataFrame\nColumns: [1, 168]\nIndex: []\nEmpty DataFrame\nColumns: []\nIndex: []\nEmpty DataFrame\nColumns: [1, 169]\nIndex: []\nEmpty DataFrame\nColumns: []\nIndex: []\n"
     ]
    },
    {
     "name": "stdout",
     "output_type": "stream",
     "text": [
      "Empty DataFrame\nColumns: [1, 170]\nIndex: []\nEmpty DataFrame\nColumns: []\nIndex: []\nEmpty DataFrame\nColumns: [1, 171]\nIndex: []\nEmpty DataFrame\nColumns: []\nIndex: []\nEmpty DataFrame\nColumns: [1, 172]\nIndex: []\nEmpty DataFrame\nColumns: []\nIndex: []\nEmpty DataFrame\nColumns: [1, 173]\nIndex: []\nEmpty DataFrame\nColumns: []\nIndex: []\nEmpty DataFrame\nColumns: [1, 174]\nIndex: []\nEmpty DataFrame\nColumns: []\nIndex: []\nEmpty DataFrame\nColumns: [1, 175]\nIndex: []\nEmpty DataFrame\nColumns: []\nIndex: []\nEmpty DataFrame\nColumns: [1, 176]\nIndex: []\n     176\n176  NaN\nEmpty DataFrame\nColumns: [1, 177]\nIndex: []\nEmpty DataFrame\nColumns: []\nIndex: []\nEmpty DataFrame\nColumns: [1, 178]\nIndex: []\nEmpty DataFrame\nColumns: []\nIndex: []\nEmpty DataFrame\nColumns: [1, 179]\nIndex: []\nEmpty DataFrame\nColumns: []\nIndex: []\nEmpty DataFrame\nColumns: [1, 180]\nIndex: []\nEmpty DataFrame\nColumns: []\nIndex: []\nEmpty DataFrame\nColumns: [1, 181]\nIndex: []\nEmpty DataFrame\nColumns: []\nIndex: []\nEmpty DataFrame\nColumns: [1, 182]\nIndex: []\nEmpty DataFrame\nColumns: []\nIndex: []\nEmpty DataFrame\nColumns: [1, 183]\nIndex: []\n     183\n183  NaN\nEmpty DataFrame\nColumns: [1, 184]\nIndex: []\nEmpty DataFrame\nColumns: []\nIndex: []\nEmpty DataFrame\nColumns: [1, 185]\nIndex: []\nEmpty DataFrame\nColumns: []\nIndex: []\n"
     ]
    },
    {
     "name": "stdout",
     "output_type": "stream",
     "text": [
      "Empty DataFrame\nColumns: [1, 186]\nIndex: []\nEmpty DataFrame\nColumns: []\nIndex: []\nEmpty DataFrame\nColumns: [1, 187]\nIndex: []\nEmpty DataFrame\nColumns: []\nIndex: []\nEmpty DataFrame\nColumns: [1, 188]\nIndex: []\nEmpty DataFrame\nColumns: []\nIndex: []\nEmpty DataFrame\nColumns: [1, 189]\nIndex: []\nEmpty DataFrame\nColumns: []\nIndex: []\nEmpty DataFrame\nColumns: [1, 190]\nIndex: []\nEmpty DataFrame\nColumns: []\nIndex: []\nEmpty DataFrame\nColumns: [1, 191]\nIndex: []\n     191\n191  NaN\nEmpty DataFrame\nColumns: [1, 192]\nIndex: []\n     192\n192  NaN\nEmpty DataFrame\nColumns: [1, 193]\nIndex: []\n     193\n193  NaN\nEmpty DataFrame\nColumns: [1, 194]\nIndex: []\n     194\n194  NaN\nEmpty DataFrame\nColumns: [1, 195]\nIndex: []\nEmpty DataFrame\nColumns: []\nIndex: []\nEmpty DataFrame\nColumns: [1, 196]\nIndex: []\n     196\n196  NaN\nEmpty DataFrame\nColumns: [1, 197]\nIndex: []\n     197\n197  NaN\nEmpty DataFrame\nColumns: [1, 198]\nIndex: []\n     198\n198  NaN\nEmpty DataFrame\nColumns: [1, 199]\nIndex: []\n     199\n199  NaN\nEmpty DataFrame\nColumns: [1, 200]\nIndex: []\n     200\n200  NaN\nEmpty DataFrame\nColumns: [1, 201]\nIndex: []\n     201\n201  NaN\n"
     ]
    },
    {
     "name": "stdout",
     "output_type": "stream",
     "text": [
      "Empty DataFrame\nColumns: [1, 202]\nIndex: []\nEmpty DataFrame\nColumns: []\nIndex: []\nEmpty DataFrame\nColumns: [1, 203]\nIndex: []\nEmpty DataFrame\nColumns: []\nIndex: []\nEmpty DataFrame\nColumns: [1, 204]\nIndex: []\nEmpty DataFrame\nColumns: []\nIndex: []\nEmpty DataFrame\nColumns: [1, 205]\nIndex: []\nEmpty DataFrame\nColumns: []\nIndex: []\nEmpty DataFrame\nColumns: [1, 206]\nIndex: []\nEmpty DataFrame\nColumns: []\nIndex: []\nEmpty DataFrame\nColumns: [1, 207]\nIndex: []\nEmpty DataFrame\nColumns: []\nIndex: []\nEmpty DataFrame\nColumns: [1, 208]\nIndex: []\nEmpty DataFrame\nColumns: []\nIndex: []\nEmpty DataFrame\nColumns: [1, 209]\nIndex: []\nEmpty DataFrame\nColumns: []\nIndex: []\nEmpty DataFrame\nColumns: [1, 210]\nIndex: []\nEmpty DataFrame\nColumns: []\nIndex: []\nEmpty DataFrame\nColumns: [1, 211]\nIndex: []\nEmpty DataFrame\nColumns: []\nIndex: []\nEmpty DataFrame\nColumns: [1, 212]\nIndex: []\nEmpty DataFrame\nColumns: []\nIndex: []\nEmpty DataFrame\nColumns: [1, 213]\nIndex: []\nEmpty DataFrame\nColumns: []\nIndex: []\nEmpty DataFrame\nColumns: [1, 214]\nIndex: []\nEmpty DataFrame\nColumns: []\nIndex: []\nEmpty DataFrame\nColumns: [1, 215]\nIndex: []\nEmpty DataFrame\nColumns: []\nIndex: []\nEmpty DataFrame\nColumns: [1, 216]\nIndex: []\nEmpty DataFrame\nColumns: []\nIndex: []\nEmpty DataFrame\nColumns: [1, 217]\nIndex: []\nEmpty DataFrame\nColumns: []\nIndex: []\n"
     ]
    },
    {
     "name": "stdout",
     "output_type": "stream",
     "text": [
      "Empty DataFrame\nColumns: [1, 218]\nIndex: []\n     218\n218  NaN\nEmpty DataFrame\nColumns: [1, 219]\nIndex: []\n     219\n219  NaN\nEmpty DataFrame\nColumns: [1, 220]\nIndex: []\n     220\n220  NaN\nEmpty DataFrame\nColumns: [1, 221]\nIndex: []\n     221\n221  NaN\nEmpty DataFrame\nColumns: [1, 222]\nIndex: []\n     222\n222  NaN\nEmpty DataFrame\nColumns: [1, 223]\nIndex: []\nEmpty DataFrame\nColumns: []\nIndex: []\nEmpty DataFrame\nColumns: [1, 224]\nIndex: []\nEmpty DataFrame\nColumns: []\nIndex: []\nEmpty DataFrame\nColumns: [1, 225]\nIndex: []\nEmpty DataFrame\nColumns: []\nIndex: []\nEmpty DataFrame\nColumns: [1, 226]\nIndex: []\n     226\n226  NaN\nEmpty DataFrame\nColumns: [1, 227]\nIndex: []\n     227\n227  NaN\nEmpty DataFrame\nColumns: [1, 228]\nIndex: []\n     228\n228  NaN\nEmpty DataFrame\nColumns: [1, 229]\nIndex: []\nEmpty DataFrame\nColumns: []\nIndex: []\nEmpty DataFrame\nColumns: [1, 230]\nIndex: []\n     230\n230  NaN\nEmpty DataFrame\nColumns: [1, 231]\nIndex: []\n     231\n231  NaN\nEmpty DataFrame\nColumns: [1, 232]\nIndex: []\n     232\n232  NaN\nEmpty DataFrame\nColumns: [1, 233]\nIndex: []\n"
     ]
    },
    {
     "name": "stdout",
     "output_type": "stream",
     "text": [
      "Empty DataFrame\nColumns: []\nIndex: []\nEmpty DataFrame\nColumns: [1, 234]\nIndex: []\n     234\n234  NaN\nEmpty DataFrame\nColumns: [1, 235]\nIndex: []\n     235\n235  NaN\nEmpty DataFrame\nColumns: [1, 236]\nIndex: []\nEmpty DataFrame\nColumns: []\nIndex: []\nEmpty DataFrame\nColumns: [1, 237]\nIndex: []\n     237\n237  NaN\nEmpty DataFrame\nColumns: [1, 238]\nIndex: []\n     238\n238  NaN\nEmpty DataFrame\nColumns: [1, 239]\nIndex: []\nEmpty DataFrame\nColumns: []\nIndex: []\nEmpty DataFrame\nColumns: [1, 240]\nIndex: []\nEmpty DataFrame\nColumns: []\nIndex: []\nEmpty DataFrame\nColumns: [1, 241]\nIndex: []\nEmpty DataFrame\nColumns: []\nIndex: []\nEmpty DataFrame\nColumns: [1, 242]\nIndex: []\nEmpty DataFrame\nColumns: []\nIndex: []\nEmpty DataFrame\nColumns: [1, 243]\nIndex: []\nEmpty DataFrame\nColumns: []\nIndex: []\nEmpty DataFrame\nColumns: [1, 244]\nIndex: []\n     244\n244  NaN\nEmpty DataFrame\nColumns: [1, 245]\nIndex: []\nEmpty DataFrame\nColumns: []\nIndex: []\nEmpty DataFrame\nColumns: [1, 246]\nIndex: []\n     246\n246  NaN\nEmpty DataFrame\nColumns: [1, 247]\nIndex: []\n     247\n247  NaN\nEmpty DataFrame\nColumns: [1, 248]\nIndex: []\n     248\n248  NaN\n"
     ]
    },
    {
     "name": "stdout",
     "output_type": "stream",
     "text": [
      "Empty DataFrame\nColumns: [1, 249]\nIndex: []\nEmpty DataFrame\nColumns: []\nIndex: []\nEmpty DataFrame\nColumns: [1, 250]\nIndex: []\n     250\n250  NaN\nEmpty DataFrame\nColumns: [1, 251]\nIndex: []\n     251\n251  NaN\nEmpty DataFrame\nColumns: [1, 252]\nIndex: []\nEmpty DataFrame\nColumns: []\nIndex: []\nEmpty DataFrame\nColumns: [1, 253]\nIndex: []\n     253\n253  NaN\nEmpty DataFrame\nColumns: [1, 254]\nIndex: []\n     254\n254  NaN\nEmpty DataFrame\nColumns: [1, 255]\nIndex: []\nEmpty DataFrame\nColumns: []\nIndex: []\nEmpty DataFrame\nColumns: [1, 256]\nIndex: []\nEmpty DataFrame\nColumns: []\nIndex: []\nEmpty DataFrame\nColumns: [1, 257]\nIndex: []\n     257\n257  NaN\nEmpty DataFrame\nColumns: [1, 258]\nIndex: []\n     258\n258  NaN\nEmpty DataFrame\nColumns: [1, 259]\nIndex: []\nEmpty DataFrame\nColumns: []\nIndex: []\nEmpty DataFrame\nColumns: [1, 260]\nIndex: []\nEmpty DataFrame\nColumns: []\nIndex: []\nEmpty DataFrame\nColumns: [1, 261]\nIndex: []\nEmpty DataFrame\nColumns: []\nIndex: []\nEmpty DataFrame\nColumns: [1, 262]\nIndex: []\nEmpty DataFrame\nColumns: []\nIndex: []\nEmpty DataFrame\nColumns: [1, 263]\nIndex: []\nEmpty DataFrame\nColumns: []\nIndex: []\n"
     ]
    },
    {
     "name": "stdout",
     "output_type": "stream",
     "text": [
      "Empty DataFrame\nColumns: [1, 264]\nIndex: []\nEmpty DataFrame\nColumns: []\nIndex: []\nEmpty DataFrame\nColumns: [1, 265]\nIndex: []\nEmpty DataFrame\nColumns: []\nIndex: []\nEmpty DataFrame\nColumns: [1, 266]\nIndex: []\n     266\n266  NaN\nEmpty DataFrame\nColumns: [1, 267]\nIndex: []\n     267\n267  NaN\nEmpty DataFrame\nColumns: [1, 268]\nIndex: []\nEmpty DataFrame\nColumns: []\nIndex: []\nEmpty DataFrame\nColumns: [1, 269]\nIndex: []\nEmpty DataFrame\nColumns: []\nIndex: []\nEmpty DataFrame\nColumns: [1, 270]\nIndex: []\nEmpty DataFrame\nColumns: []\nIndex: []\nEmpty DataFrame\nColumns: [1, 271]\nIndex: []\n     271\n271  NaN\nEmpty DataFrame\nColumns: [1, 272]\nIndex: []\n     272\n272  NaN\nEmpty DataFrame\nColumns: [1, 273]\nIndex: []\nEmpty DataFrame\nColumns: []\nIndex: []\nEmpty DataFrame\nColumns: [1, 274]\nIndex: []\nEmpty DataFrame\nColumns: []\nIndex: []\nEmpty DataFrame\nColumns: [1, 275]\nIndex: []\nEmpty DataFrame\nColumns: []\nIndex: []\nEmpty DataFrame\nColumns: [1, 276]\nIndex: []\nEmpty DataFrame\nColumns: []\nIndex: []\nEmpty DataFrame\nColumns: [1, 277]\nIndex: []\nEmpty DataFrame\nColumns: []\nIndex: []\nEmpty DataFrame\nColumns: [1, 278]\nIndex: []\nEmpty DataFrame\nColumns: []\nIndex: []\n"
     ]
    },
    {
     "name": "stdout",
     "output_type": "stream",
     "text": [
      "Empty DataFrame\nColumns: [1, 279]\nIndex: []\n     279\n279  NaN\nEmpty DataFrame\nColumns: [1, 280]\nIndex: []\nEmpty DataFrame\nColumns: []\nIndex: []\nEmpty DataFrame\nColumns: [1, 281]\nIndex: []\nEmpty DataFrame\nColumns: []\nIndex: []\nEmpty DataFrame\nColumns: [1, 282]\nIndex: []\nEmpty DataFrame\nColumns: []\nIndex: []\nEmpty DataFrame\nColumns: [1, 283]\nIndex: []\nEmpty DataFrame\nColumns: []\nIndex: []\nEmpty DataFrame\nColumns: [1, 284]\nIndex: []\nEmpty DataFrame\nColumns: []\nIndex: []\nEmpty DataFrame\nColumns: [1, 285]\nIndex: []\n     285\n285  NaN\nEmpty DataFrame\nColumns: [1, 286]\nIndex: []\nEmpty DataFrame\nColumns: []\nIndex: []\nEmpty DataFrame\nColumns: [1, 287]\nIndex: []\nEmpty DataFrame\nColumns: []\nIndex: []\nEmpty DataFrame\nColumns: [1, 288]\nIndex: []\nEmpty DataFrame\nColumns: []\nIndex: []\nEmpty DataFrame\nColumns: [1, 289]\nIndex: []\nEmpty DataFrame\nColumns: []\nIndex: []\nEmpty DataFrame\nColumns: [1, 290]\nIndex: []\n     290\n290  NaN\nEmpty DataFrame\nColumns: [1, 291]\nIndex: []\n     291\n291  NaN\nEmpty DataFrame\nColumns: [1, 292]\nIndex: []\nEmpty DataFrame\nColumns: []\nIndex: []\n"
     ]
    },
    {
     "name": "stdout",
     "output_type": "stream",
     "text": [
      "Empty DataFrame\nColumns: [1, 293]\nIndex: []\n     293\n293  NaN\nEmpty DataFrame\nColumns: [1, 294]\nIndex: []\nEmpty DataFrame\nColumns: []\nIndex: []\nEmpty DataFrame\nColumns: [1, 295]\nIndex: []\n     295\n295  NaN\nEmpty DataFrame\nColumns: [1, 296]\nIndex: []\n     296\n296  NaN\nEmpty DataFrame\nColumns: [1, 297]\nIndex: []\n     297\n297  NaN\nEmpty DataFrame\nColumns: [1, 298]\nIndex: []\nEmpty DataFrame\nColumns: []\nIndex: []\nEmpty DataFrame\nColumns: [1, 299]\nIndex: []\nEmpty DataFrame\nColumns: []\nIndex: []\nEmpty DataFrame\nColumns: [1, 300]\nIndex: []\nEmpty DataFrame\nColumns: []\nIndex: []\nEmpty DataFrame\nColumns: [1, 301]\nIndex: []\nEmpty DataFrame\nColumns: []\nIndex: []\nEmpty DataFrame\nColumns: [1, 302]\nIndex: []\nEmpty DataFrame\nColumns: []\nIndex: []\nEmpty DataFrame\nColumns: [1, 303]\nIndex: []\nEmpty DataFrame\nColumns: []\nIndex: []\nEmpty DataFrame\nColumns: [1, 304]\nIndex: []\nEmpty DataFrame\nColumns: []\nIndex: []\nEmpty DataFrame\nColumns: [1, 305]\nIndex: []\nEmpty DataFrame\nColumns: []\nIndex: []\nEmpty DataFrame\nColumns: [1, 306]\nIndex: []\nEmpty DataFrame\nColumns: []\nIndex: []\nEmpty DataFrame\nColumns: [1, 307]\nIndex: []\n     307\n307  NaN\nEmpty DataFrame\nColumns: [1, 308]\nIndex: []\n     308\n308  NaN\n"
     ]
    },
    {
     "name": "stdout",
     "output_type": "stream",
     "text": [
      "Empty DataFrame\nColumns: [1, 309]\nIndex: []\n     309\n309  NaN\nEmpty DataFrame\nColumns: [1, 310]\nIndex: []\n     310\n310  NaN\nEmpty DataFrame\nColumns: [1, 311]\nIndex: []\nEmpty DataFrame\nColumns: []\nIndex: []\nEmpty DataFrame\nColumns: [1, 312]\nIndex: []\nEmpty DataFrame\nColumns: []\nIndex: []\nEmpty DataFrame\nColumns: [1, 313]\nIndex: []\nEmpty DataFrame\nColumns: []\nIndex: []\nEmpty DataFrame\nColumns: [1, 314]\nIndex: []\n     314\n314  NaN\nEmpty DataFrame\nColumns: [1, 315]\nIndex: []\n     315\n315  NaN\nEmpty DataFrame\nColumns: [1, 316]\nIndex: []\nEmpty DataFrame\nColumns: []\nIndex: []\nEmpty DataFrame\nColumns: [1, 317]\nIndex: []\nEmpty DataFrame\nColumns: []\nIndex: []\nEmpty DataFrame\nColumns: [1, 318]\nIndex: []\nEmpty DataFrame\nColumns: []\nIndex: []\nEmpty DataFrame\nColumns: [1, 319]\nIndex: []\n     319\n319  NaN\nEmpty DataFrame\nColumns: [1, 320]\nIndex: []\n     320\n320  NaN\nEmpty DataFrame\nColumns: [1, 321]\nIndex: []\n     321\n321  NaN\nEmpty DataFrame\nColumns: [1, 322]\nIndex: []\nEmpty DataFrame\nColumns: []\nIndex: []\nEmpty DataFrame\nColumns: [1, 323]\nIndex: []\nEmpty DataFrame\nColumns: []\nIndex: []\nEmpty DataFrame\nColumns: [1, 324]\nIndex: []\nEmpty DataFrame\nColumns: []\nIndex: []\n"
     ]
    },
    {
     "name": "stdout",
     "output_type": "stream",
     "text": [
      "Empty DataFrame\nColumns: [1, 325]\nIndex: []\nEmpty DataFrame\nColumns: []\nIndex: []\nEmpty DataFrame\nColumns: [1, 326]\nIndex: []\nEmpty DataFrame\nColumns: []\nIndex: []\nEmpty DataFrame\nColumns: [1, 327]\nIndex: []\nEmpty DataFrame\nColumns: []\nIndex: []\nEmpty DataFrame\nColumns: [1, 328]\nIndex: []\nEmpty DataFrame\nColumns: []\nIndex: []\nEmpty DataFrame\nColumns: [1, 329]\nIndex: []\nEmpty DataFrame\nColumns: []\nIndex: []\nEmpty DataFrame\nColumns: [1, 330]\nIndex: []\nEmpty DataFrame\nColumns: []\nIndex: []\nEmpty DataFrame\nColumns: [1, 331]\nIndex: []\nEmpty DataFrame\nColumns: []\nIndex: []\nEmpty DataFrame\nColumns: [1, 332]\nIndex: []\nEmpty DataFrame\nColumns: []\nIndex: []\nEmpty DataFrame\nColumns: [1, 333]\nIndex: []\n     333\n333  NaN\nEmpty DataFrame\nColumns: [1, 334]\nIndex: []\n     334\n334  NaN\nEmpty DataFrame\nColumns: [1, 335]\nIndex: []\nEmpty DataFrame\nColumns: []\nIndex: []\nEmpty DataFrame\nColumns: [1, 336]\nIndex: []\nEmpty DataFrame\nColumns: []\nIndex: []\nEmpty DataFrame\nColumns: [1, 337]\nIndex: []\n     337\n337  NaN\nEmpty DataFrame\nColumns: [1, 338]\nIndex: []\n     338\n338  NaN\nEmpty DataFrame\nColumns: [1, 339]\nIndex: []\n     339\n339  NaN\nEmpty DataFrame\nColumns: [1, 340]\nIndex: []\nEmpty DataFrame\nColumns: []\nIndex: []\n"
     ]
    },
    {
     "name": "stdout",
     "output_type": "stream",
     "text": [
      "Empty DataFrame\nColumns: [1, 341]\nIndex: []\nEmpty DataFrame\nColumns: []\nIndex: []\nEmpty DataFrame\nColumns: [1, 342]\nIndex: []\nEmpty DataFrame\nColumns: []\nIndex: []\nEmpty DataFrame\nColumns: [1, 343]\nIndex: []\nEmpty DataFrame\nColumns: []\nIndex: []\nEmpty DataFrame\nColumns: [1, 344]\nIndex: []\nEmpty DataFrame\nColumns: []\nIndex: []\nEmpty DataFrame\nColumns: [1, 345]\nIndex: []\n     345\n345  NaN\nEmpty DataFrame\nColumns: [1, 346]\nIndex: []\nEmpty DataFrame\nColumns: []\nIndex: []\nEmpty DataFrame\nColumns: [1, 347]\nIndex: []\nEmpty DataFrame\nColumns: []\nIndex: []\nEmpty DataFrame\nColumns: [1, 348]\nIndex: []\n     348\n348  NaN\nEmpty DataFrame\nColumns: [1, 349]\nIndex: []\nEmpty DataFrame\nColumns: []\nIndex: []\nEmpty DataFrame\nColumns: [1, 350]\nIndex: []\nEmpty DataFrame\nColumns: []\nIndex: []\nEmpty DataFrame\nColumns: [1, 351]\nIndex: []\n     351\n351  NaN\nEmpty DataFrame\nColumns: [1, 352]\nIndex: []\nEmpty DataFrame\nColumns: []\nIndex: []\nEmpty DataFrame\nColumns: [1, 353]\nIndex: []\nEmpty DataFrame\nColumns: []\nIndex: []\nEmpty DataFrame\nColumns: [1, 354]\nIndex: []\n     354\n354  NaN\nEmpty DataFrame\nColumns: [1, 355]\nIndex: []\n     355\n355  NaN\nEmpty DataFrame\nColumns: [1, 356]\nIndex: []\n     356\n356  NaN\n"
     ]
    },
    {
     "name": "stdout",
     "output_type": "stream",
     "text": [
      "Empty DataFrame\nColumns: [1, 357]\nIndex: []\n     357\n357  NaN\nEmpty DataFrame\nColumns: [1, 358]\nIndex: []\n     358\n358  NaN\nEmpty DataFrame\nColumns: [1, 359]\nIndex: []\n     359\n359  NaN\nEmpty DataFrame\nColumns: [1, 360]\nIndex: []\n     360\n360  NaN\nEmpty DataFrame\nColumns: [1, 361]\nIndex: []\n     361\n361  NaN\nEmpty DataFrame\nColumns: [1, 362]\nIndex: []\n     362\n362  NaN\nEmpty DataFrame\nColumns: [1, 363]\nIndex: []\nEmpty DataFrame\nColumns: []\nIndex: []\nEmpty DataFrame\nColumns: [1, 364]\nIndex: []\nEmpty DataFrame\nColumns: []\nIndex: []\nEmpty DataFrame\nColumns: [1, 365]\nIndex: []\nEmpty DataFrame\nColumns: []\nIndex: []\nEmpty DataFrame\nColumns: [1, 366]\nIndex: []\nEmpty DataFrame\nColumns: []\nIndex: []\nEmpty DataFrame\nColumns: [1, 367]\nIndex: []\n     367\n367  NaN\nEmpty DataFrame\nColumns: [1, 368]\nIndex: []\nEmpty DataFrame\nColumns: []\nIndex: []\nEmpty DataFrame\nColumns: [1, 369]\nIndex: []\n     369\n369  NaN\nEmpty DataFrame\nColumns: [1, 370]\nIndex: []\nEmpty DataFrame\nColumns: []\nIndex: []\nEmpty DataFrame\nColumns: [1, 371]\nIndex: []\nEmpty DataFrame\nColumns: []\nIndex: []\nEmpty DataFrame\nColumns: [1, 372]\nIndex: []\nEmpty DataFrame\nColumns: []\nIndex: []"
     ]
    },
    {
     "name": "stdout",
     "output_type": "stream",
     "text": [
      "\nEmpty DataFrame\nColumns: [1, 373]\nIndex: []\nEmpty DataFrame\nColumns: []\nIndex: []\nEmpty DataFrame\nColumns: [1, 374]\nIndex: []\nEmpty DataFrame\nColumns: []\nIndex: []\nEmpty DataFrame\nColumns: [1, 375]\nIndex: []\n     375\n375  NaN\nEmpty DataFrame\nColumns: [1, 376]\nIndex: []\n     376\n376  NaN\nEmpty DataFrame\nColumns: [1, 377]\nIndex: []\nEmpty DataFrame\nColumns: []\nIndex: []\nEmpty DataFrame\nColumns: [1, 378]\nIndex: []\n     378\n378  NaN\nEmpty DataFrame\nColumns: [1, 379]\nIndex: []\nEmpty DataFrame\nColumns: []\nIndex: []\nEmpty DataFrame\nColumns: [1, 380]\nIndex: []\nEmpty DataFrame\nColumns: []\nIndex: []\nEmpty DataFrame\nColumns: [1, 381]\nIndex: []\nEmpty DataFrame\nColumns: []\nIndex: []\nEmpty DataFrame\nColumns: [1, 382]\nIndex: []\nEmpty DataFrame\nColumns: []\nIndex: []\nEmpty DataFrame\nColumns: [1, 383]\nIndex: []\nEmpty DataFrame\nColumns: []\nIndex: []\nEmpty DataFrame\nColumns: [1, 384]\nIndex: []\nEmpty DataFrame\nColumns: []\nIndex: []\nEmpty DataFrame\nColumns: [1, 385]\nIndex: []\nEmpty DataFrame\nColumns: []\nIndex: []\nEmpty DataFrame\nColumns: [1, 386]\nIndex: []\n     386\n386  NaN\nEmpty DataFrame\nColumns: [1, 387]\nIndex: []\n     387\n387  NaN\nEmpty DataFrame\nColumns: [1, 388]\nIndex: []\nEmpty DataFrame\nColumns: []\nIndex: []\n"
     ]
    },
    {
     "name": "stdout",
     "output_type": "stream",
     "text": [
      "Empty DataFrame\nColumns: [1, 389]\nIndex: []\nEmpty DataFrame\nColumns: []\nIndex: []\nEmpty DataFrame\nColumns: [1, 390]\nIndex: []\nEmpty DataFrame\nColumns: []\nIndex: []\nEmpty DataFrame\nColumns: [1, 391]\nIndex: []\nEmpty DataFrame\nColumns: []\nIndex: []\nEmpty DataFrame\nColumns: [1, 392]\nIndex: []\nEmpty DataFrame\nColumns: []\nIndex: []\nEmpty DataFrame\nColumns: [1, 393]\nIndex: []\nEmpty DataFrame\nColumns: []\nIndex: []\nEmpty DataFrame\nColumns: [1, 394]\nIndex: []\nEmpty DataFrame\nColumns: []\nIndex: []\nEmpty DataFrame\nColumns: [1, 395]\nIndex: []\nEmpty DataFrame\nColumns: []\nIndex: []\nEmpty DataFrame\nColumns: [1, 396]\nIndex: []\nEmpty DataFrame\nColumns: []\nIndex: []\nEmpty DataFrame\nColumns: [1, 397]\nIndex: []\nEmpty DataFrame\nColumns: []\nIndex: []\nEmpty DataFrame\nColumns: [1, 398]\nIndex: []\nEmpty DataFrame\nColumns: []\nIndex: []\nEmpty DataFrame\nColumns: [1, 399]\nIndex: []\n     399\n399  NaN\nEmpty DataFrame\nColumns: [1, 400]\nIndex: []\n     400\n400  NaN\nEmpty DataFrame\nColumns: [1, 401]\nIndex: []\nEmpty DataFrame\nColumns: []\nIndex: []\nEmpty DataFrame\nColumns: [1, 402]\nIndex: []\n     402\n402  NaN\nEmpty DataFrame\nColumns: [1, 403]\nIndex: []\n     403\n403  NaN\nEmpty DataFrame\nColumns: [1, 404]\nIndex: []\nEmpty DataFrame\nColumns: []\nIndex: []\n"
     ]
    },
    {
     "name": "stdout",
     "output_type": "stream",
     "text": [
      "Empty DataFrame\nColumns: [1, 405]\nIndex: []\nEmpty DataFrame\nColumns: []\nIndex: []\nEmpty DataFrame\nColumns: [1, 406]\nIndex: []\nEmpty DataFrame\nColumns: []\nIndex: []\nEmpty DataFrame\nColumns: [1, 407]\nIndex: []\n     407\n407  NaN\nEmpty DataFrame\nColumns: [1, 408]\nIndex: []\n     408\n408  NaN\nEmpty DataFrame\nColumns: [1, 409]\nIndex: []\n     409\n409  NaN\nEmpty DataFrame\nColumns: [1, 410]\nIndex: []\n     410\n410  NaN\nEmpty DataFrame\nColumns: [1, 411]\nIndex: []\n     411\n411  NaN\nEmpty DataFrame\nColumns: [1, 412]\nIndex: []\n     412\n412  NaN\nEmpty DataFrame\nColumns: [1, 413]\nIndex: []\n     413\n413  NaN\nEmpty DataFrame\nColumns: [1, 414]\nIndex: []\n     414\n414  NaN\nEmpty DataFrame\nColumns: [1, 415]\nIndex: []\n     415\n415  NaN\nEmpty DataFrame\nColumns: [1, 416]\nIndex: []\n     416\n416  NaN\nEmpty DataFrame\nColumns: [1, 417]\nIndex: []\n     417\n417  NaN\nEmpty DataFrame\nColumns: [1, 418]\nIndex: []\nEmpty DataFrame\nColumns: []\nIndex: []\nEmpty DataFrame\nColumns: [1, 419]\nIndex: []\nEmpty DataFrame\nColumns: []\nIndex: []\nEmpty DataFrame\nColumns: [1, 420]\nIndex: []\nEmpty DataFrame\nColumns: []\nIndex: []"
     ]
    },
    {
     "name": "stdout",
     "output_type": "stream",
     "text": [
      "\nEmpty DataFrame\nColumns: [1, 421]\nIndex: []\n     421\n421  NaN\nEmpty DataFrame\nColumns: [1, 422]\nIndex: []\n     422\n422  NaN\nEmpty DataFrame\nColumns: [1, 423]\nIndex: []\n     423\n423  NaN\nEmpty DataFrame\nColumns: [1, 424]\nIndex: []\n     424\n424  NaN\nEmpty DataFrame\nColumns: [1, 425]\nIndex: []\nEmpty DataFrame\nColumns: []\nIndex: []\nEmpty DataFrame\nColumns: [1, 426]\nIndex: []\n     426\n426  NaN\nEmpty DataFrame\nColumns: [1, 427]\nIndex: []\nEmpty DataFrame\nColumns: []\nIndex: []\nEmpty DataFrame\nColumns: [1, 428]\nIndex: []\n     428\n428  NaN\nEmpty DataFrame\nColumns: [1, 429]\nIndex: []\n     429\n429  NaN\nEmpty DataFrame\nColumns: [1, 430]\nIndex: []\n     430\n430  NaN\nEmpty DataFrame\nColumns: [1, 431]\nIndex: []\nEmpty DataFrame\nColumns: []\nIndex: []\nEmpty DataFrame\nColumns: [1, 432]\nIndex: []\nEmpty DataFrame\nColumns: []\nIndex: []\nEmpty DataFrame\nColumns: [1, 433]\nIndex: []\n     433\n433  NaN\nEmpty DataFrame\nColumns: [1, 434]\nIndex: []\nEmpty DataFrame\nColumns: []\nIndex: []\nEmpty DataFrame\nColumns: [1, 435]\nIndex: []\n     435\n435  NaN\n"
     ]
    },
    {
     "name": "stdout",
     "output_type": "stream",
     "text": [
      "Empty DataFrame\nColumns: [1, 436]\nIndex: []\n     436\n436  NaN\nEmpty DataFrame\nColumns: [1, 437]\nIndex: []\nEmpty DataFrame\nColumns: []\nIndex: []\nEmpty DataFrame\nColumns: [1, 438]\nIndex: []\n     438\n438  NaN\nEmpty DataFrame\nColumns: [1, 439]\nIndex: []\nEmpty DataFrame\nColumns: []\nIndex: []\nEmpty DataFrame\nColumns: [1, 440]\nIndex: []\nEmpty DataFrame\nColumns: []\nIndex: []\nEmpty DataFrame\nColumns: [1, 441]\nIndex: []\n     441\n441  NaN\nEmpty DataFrame\nColumns: [1, 442]\nIndex: []\nEmpty DataFrame\nColumns: []\nIndex: []\nEmpty DataFrame\nColumns: [1, 443]\nIndex: []\nEmpty DataFrame\nColumns: []\nIndex: []\nEmpty DataFrame\nColumns: [1, 444]\nIndex: []\nEmpty DataFrame\nColumns: []\nIndex: []\nEmpty DataFrame\nColumns: [1, 445]\nIndex: []\nEmpty DataFrame\nColumns: []\nIndex: []\nEmpty DataFrame\nColumns: [1, 446]\nIndex: []\nEmpty DataFrame\nColumns: []\nIndex: []\nEmpty DataFrame\nColumns: [1, 447]\nIndex: []\nEmpty DataFrame\nColumns: []\nIndex: []\nEmpty DataFrame\nColumns: [1, 448]\nIndex: []\nEmpty DataFrame\nColumns: []\nIndex: []\nEmpty DataFrame\nColumns: [1, 449]\nIndex: []\n     449\n449  NaN\nEmpty DataFrame\nColumns: [1, 450]\nIndex: []\nEmpty DataFrame\nColumns: []\nIndex: []\nEmpty DataFrame\nColumns: [1, 451]\nIndex: []\nEmpty DataFrame\nColumns: []\nIndex: []\n"
     ]
    },
    {
     "name": "stdout",
     "output_type": "stream",
     "text": [
      "Empty DataFrame\nColumns: [1, 452]\nIndex: []\nEmpty DataFrame\nColumns: []\nIndex: []\nEmpty DataFrame\nColumns: [1, 453]\nIndex: []\nEmpty DataFrame\nColumns: []\nIndex: []\nEmpty DataFrame\nColumns: [1, 454]\nIndex: []\nEmpty DataFrame\nColumns: []\nIndex: []\nEmpty DataFrame\nColumns: [1, 455]\nIndex: []\nEmpty DataFrame\nColumns: []\nIndex: []\nEmpty DataFrame\nColumns: [1, 456]\nIndex: []\nEmpty DataFrame\nColumns: []\nIndex: []\nEmpty DataFrame\nColumns: [1, 457]\nIndex: []\nEmpty DataFrame\nColumns: []\nIndex: []\nEmpty DataFrame\nColumns: [1, 458]\nIndex: []\nEmpty DataFrame\nColumns: []\nIndex: []\nEmpty DataFrame\nColumns: [1, 459]\nIndex: []\n     459\n459  NaN\nEmpty DataFrame\nColumns: [1, 460]\nIndex: []\n     460\n460  NaN\nEmpty DataFrame\nColumns: [1, 461]\nIndex: []\nEmpty DataFrame\nColumns: []\nIndex: []\nEmpty DataFrame\nColumns: [1, 462]\nIndex: []\nEmpty DataFrame\nColumns: []\nIndex: []\nEmpty DataFrame\nColumns: [1, 463]\nIndex: []\nEmpty DataFrame\nColumns: []\nIndex: []\nEmpty DataFrame\nColumns: [1, 464]\nIndex: []\n     464\n464  NaN\nEmpty DataFrame\nColumns: [1, 465]\nIndex: []\nEmpty DataFrame\nColumns: []\nIndex: []\nEmpty DataFrame\nColumns: [1, 466]\nIndex: []\nEmpty DataFrame\nColumns: []\nIndex: []\nEmpty DataFrame\nColumns: [1, 467]\nIndex: []\nEmpty DataFrame\nColumns: []\nIndex: []\n"
     ]
    },
    {
     "name": "stdout",
     "output_type": "stream",
     "text": [
      "Empty DataFrame\nColumns: [1, 468]\nIndex: []\nEmpty DataFrame\nColumns: []\nIndex: []\nEmpty DataFrame\nColumns: [1, 469]\nIndex: []\nEmpty DataFrame\nColumns: []\nIndex: []\nEmpty DataFrame\nColumns: [1, 470]\nIndex: []\nEmpty DataFrame\nColumns: []\nIndex: []\nEmpty DataFrame\nColumns: [1, 471]\nIndex: []\nEmpty DataFrame\nColumns: []\nIndex: []\nEmpty DataFrame\nColumns: [1, 472]\nIndex: []\nEmpty DataFrame\nColumns: []\nIndex: []\nEmpty DataFrame\nColumns: [1, 473]\nIndex: []\nEmpty DataFrame\nColumns: []\nIndex: []\nEmpty DataFrame\nColumns: [1, 474]\nIndex: []\nEmpty DataFrame\nColumns: []\nIndex: []\nEmpty DataFrame\nColumns: [1, 475]\nIndex: []\nEmpty DataFrame\nColumns: []\nIndex: []\nEmpty DataFrame\nColumns: [1, 476]\nIndex: []\nEmpty DataFrame\nColumns: []\nIndex: []\nEmpty DataFrame\nColumns: [1, 477]\nIndex: []\nEmpty DataFrame\nColumns: []\nIndex: []\nEmpty DataFrame\nColumns: [1, 478]\nIndex: []\n     478\n478  NaN\nEmpty DataFrame\nColumns: [1, 479]\nIndex: []\nEmpty DataFrame\nColumns: []\nIndex: []\nEmpty DataFrame\nColumns: [1, 480]\nIndex: []\n     480\n480  NaN\nEmpty DataFrame\nColumns: [1, 481]\nIndex: []\nEmpty DataFrame\nColumns: []\nIndex: []\nEmpty DataFrame\nColumns: [1, 482]\nIndex: []\n     482\n482  NaN\nEmpty DataFrame\nColumns: [1, 483]\nIndex: []\n     483\n483  NaN\nEmpty DataFrame\nColumns: [1, 484]\nIndex: []"
     ]
    },
    {
     "name": "stdout",
     "output_type": "stream",
     "text": [
      "\n     484\n484  NaN\nEmpty DataFrame\nColumns: [1, 485]\nIndex: []\n     485\n485  NaN\nEmpty DataFrame\nColumns: [1, 486]\nIndex: []\n     486\n486  NaN\nEmpty DataFrame\nColumns: [1, 487]\nIndex: []\nEmpty DataFrame\nColumns: []\nIndex: []\nEmpty DataFrame\nColumns: [1, 488]\nIndex: []\n     488\n488  NaN\nEmpty DataFrame\nColumns: [1, 489]\nIndex: []\n     489\n489  NaN\nEmpty DataFrame\nColumns: [1, 490]\nIndex: []\nEmpty DataFrame\nColumns: []\nIndex: []\nEmpty DataFrame\nColumns: [1, 491]\nIndex: []\nEmpty DataFrame\nColumns: []\nIndex: []\nEmpty DataFrame\nColumns: [1, 492]\nIndex: []\n     492\n492  NaN\nEmpty DataFrame\nColumns: [1, 493]\nIndex: []\nEmpty DataFrame\nColumns: []\nIndex: []\nEmpty DataFrame\nColumns: [1, 494]\nIndex: []\nEmpty DataFrame\nColumns: []\nIndex: []\nEmpty DataFrame\nColumns: [1, 495]\nIndex: []\nEmpty DataFrame\nColumns: []\nIndex: []\nEmpty DataFrame\nColumns: [1, 496]\nIndex: []\nEmpty DataFrame\nColumns: []\nIndex: []\nEmpty DataFrame\nColumns: [1, 497]\nIndex: []\n     497\n497  NaN\nEmpty DataFrame\nColumns: [1, 498]\nIndex: []\n     498\n498  NaN\nEmpty DataFrame\nColumns: [1, 499]\nIndex: []\n     499\n499  NaN\n"
     ]
    },
    {
     "name": "stdout",
     "output_type": "stream",
     "text": [
      "Empty DataFrame\nColumns: [1, 500]\nIndex: []\n     500\n500  NaN\nEmpty DataFrame\nColumns: [1, 501]\nIndex: []\nEmpty DataFrame\nColumns: []\nIndex: []\nEmpty DataFrame\nColumns: [1, 502]\nIndex: []\nEmpty DataFrame\nColumns: []\nIndex: []\nEmpty DataFrame\nColumns: [1, 503]\nIndex: []\nEmpty DataFrame\nColumns: []\nIndex: []\nEmpty DataFrame\nColumns: [1, 504]\nIndex: []\nEmpty DataFrame\nColumns: []\nIndex: []\nEmpty DataFrame\nColumns: [1, 505]\nIndex: []\nEmpty DataFrame\nColumns: []\nIndex: []\nEmpty DataFrame\nColumns: [1, 506]\nIndex: []\nEmpty DataFrame\nColumns: []\nIndex: []\nEmpty DataFrame\nColumns: [1, 507]\nIndex: []\nEmpty DataFrame\nColumns: []\nIndex: []\nEmpty DataFrame\nColumns: [1, 508]\nIndex: []\nEmpty DataFrame\nColumns: []\nIndex: []\nEmpty DataFrame\nColumns: [1, 509]\nIndex: []\nEmpty DataFrame\nColumns: []\nIndex: []\nEmpty DataFrame\nColumns: [1, 510]\nIndex: []\nEmpty DataFrame\nColumns: []\nIndex: []\nEmpty DataFrame\nColumns: [1, 511]\nIndex: []\nEmpty DataFrame\nColumns: []\nIndex: []\nEmpty DataFrame\nColumns: [1, 512]\nIndex: []\nEmpty DataFrame\nColumns: []\nIndex: []\nEmpty DataFrame\nColumns: [1, 513]\nIndex: []\nEmpty DataFrame\nColumns: []\nIndex: []\nEmpty DataFrame\nColumns: [1, 514]\nIndex: []\nEmpty DataFrame\nColumns: []\nIndex: []\nEmpty DataFrame\nColumns: [1, 515]\nIndex: []\nEmpty DataFrame\nColumns: []\nIndex: []\nEmpty DataFrame\nColumns: [1, 516]\nIndex: []\nEmpty DataFrame\nColumns: []\nIndex: []"
     ]
    },
    {
     "name": "stdout",
     "output_type": "stream",
     "text": [
      "\nEmpty DataFrame\nColumns: [1, 517]\nIndex: []\nEmpty DataFrame\nColumns: []\nIndex: []\nEmpty DataFrame\nColumns: [1, 518]\nIndex: []\nEmpty DataFrame\nColumns: []\nIndex: []\nEmpty DataFrame\nColumns: [1, 519]\nIndex: []\nEmpty DataFrame\nColumns: []\nIndex: []\nEmpty DataFrame\nColumns: [1, 520]\nIndex: []\nEmpty DataFrame\nColumns: []\nIndex: []\nEmpty DataFrame\nColumns: [1, 521]\nIndex: []\n     521\n521  NaN\nEmpty DataFrame\nColumns: [1, 522]\nIndex: []\n     522\n522  NaN\nEmpty DataFrame\nColumns: [1, 523]\nIndex: []\nEmpty DataFrame\nColumns: []\nIndex: []\nEmpty DataFrame\nColumns: [1, 524]\nIndex: []\nEmpty DataFrame\nColumns: []\nIndex: []\nEmpty DataFrame\nColumns: [1, 525]\nIndex: []\n     525\n525  NaN\nEmpty DataFrame\nColumns: [1, 526]\nIndex: []\nEmpty DataFrame\nColumns: []\nIndex: []\nEmpty DataFrame\nColumns: [1, 527]\nIndex: []\nEmpty DataFrame\nColumns: []\nIndex: []\nEmpty DataFrame\nColumns: [1, 528]\nIndex: []\nEmpty DataFrame\nColumns: []\nIndex: []\nEmpty DataFrame\nColumns: [1, 529]\nIndex: []\nEmpty DataFrame\nColumns: []\nIndex: []\nEmpty DataFrame\nColumns: [1, 530]\nIndex: []\nEmpty DataFrame\nColumns: []\nIndex: []\nEmpty DataFrame\nColumns: [1, 531]\nIndex: []\nEmpty DataFrame\nColumns: []\nIndex: []\nEmpty DataFrame\nColumns: [1, 532]\nIndex: []\nEmpty DataFrame\nColumns: []\nIndex: []\nEmpty DataFrame\nColumns: [1, 533]\nIndex: []"
     ]
    },
    {
     "name": "stdout",
     "output_type": "stream",
     "text": [
      "\n     533\n533  NaN\nEmpty DataFrame\nColumns: [1, 534]\nIndex: []\nEmpty DataFrame\nColumns: []\nIndex: []\nEmpty DataFrame\nColumns: [1, 535]\nIndex: []\nEmpty DataFrame\nColumns: []\nIndex: []\nEmpty DataFrame\nColumns: [1, 536]\nIndex: []\n     536\n536  NaN\nEmpty DataFrame\nColumns: [1, 537]\nIndex: []\nEmpty DataFrame\nColumns: []\nIndex: []\nEmpty DataFrame\nColumns: [1, 538]\nIndex: []\n     538\n538  NaN\nEmpty DataFrame\nColumns: [1, 539]\nIndex: []\n     539\n539  NaN\nEmpty DataFrame\nColumns: [1, 540]\nIndex: []\nEmpty DataFrame\nColumns: []\nIndex: []\nEmpty DataFrame\nColumns: [1, 541]\nIndex: []\nEmpty DataFrame\nColumns: []\nIndex: []\nEmpty DataFrame\nColumns: [1, 542]\nIndex: []\nEmpty DataFrame\nColumns: []\nIndex: []\nEmpty DataFrame\nColumns: [1, 543]\nIndex: []\nEmpty DataFrame\nColumns: []\nIndex: []\nEmpty DataFrame\nColumns: [1, 544]\nIndex: []\nEmpty DataFrame\nColumns: []\nIndex: []\nEmpty DataFrame\nColumns: [1, 545]\nIndex: []\nEmpty DataFrame\nColumns: []\nIndex: []\nEmpty DataFrame\nColumns: [1, 546]\nIndex: []\nEmpty DataFrame\nColumns: []\nIndex: []\n"
     ]
    },
    {
     "name": "stdout",
     "output_type": "stream",
     "text": [
      "Empty DataFrame\nColumns: [1, 547]\nIndex: []\nEmpty DataFrame\nColumns: []\nIndex: []\nEmpty DataFrame\nColumns: [1, 548]\nIndex: []\nEmpty DataFrame\nColumns: []\nIndex: []\nEmpty DataFrame\nColumns: [1, 549]\nIndex: []\nEmpty DataFrame\nColumns: []\nIndex: []\nEmpty DataFrame\nColumns: [1, 550]\nIndex: []\nEmpty DataFrame\nColumns: []\nIndex: []\nEmpty DataFrame\nColumns: [1, 551]\nIndex: []\nEmpty DataFrame\nColumns: []\nIndex: []\nEmpty DataFrame\nColumns: [1, 552]\nIndex: []\n     552\n552  NaN\nEmpty DataFrame\nColumns: [1, 553]\nIndex: []\n     553\n553  NaN\nEmpty DataFrame\nColumns: [1, 554]\nIndex: []\nEmpty DataFrame\nColumns: []\nIndex: []\nEmpty DataFrame\nColumns: [1, 555]\nIndex: []\nEmpty DataFrame\nColumns: []\nIndex: []\nEmpty DataFrame\nColumns: [1, 556]\nIndex: []\nEmpty DataFrame\nColumns: []\nIndex: []\nEmpty DataFrame\nColumns: [1, 557]\nIndex: []\n     557\n557  NaN\nEmpty DataFrame\nColumns: [1, 558]\nIndex: []\nEmpty DataFrame\nColumns: []\nIndex: []\nEmpty DataFrame\nColumns: [1, 559]\nIndex: []\nEmpty DataFrame\nColumns: []\nIndex: []\nEmpty DataFrame\nColumns: [1, 560]\nIndex: []\nEmpty DataFrame\nColumns: []\nIndex: []\nEmpty DataFrame\nColumns: [1, 561]\nIndex: []\nEmpty DataFrame\nColumns: []\nIndex: []\nEmpty DataFrame\nColumns: [1, 562]\nIndex: []\nEmpty DataFrame\nColumns: []\nIndex: []\n"
     ]
    },
    {
     "name": "stdout",
     "output_type": "stream",
     "text": [
      "Empty DataFrame\nColumns: [1, 563]\nIndex: []\nEmpty DataFrame\nColumns: []\nIndex: []\nEmpty DataFrame\nColumns: [1, 564]\nIndex: []\nEmpty DataFrame\nColumns: []\nIndex: []\nEmpty DataFrame\nColumns: [1, 565]\nIndex: []\nEmpty DataFrame\nColumns: []\nIndex: []\nEmpty DataFrame\nColumns: [1, 566]\nIndex: []\n     566\n566  NaN\nEmpty DataFrame\nColumns: [1, 567]\nIndex: []\nEmpty DataFrame\nColumns: []\nIndex: []\nEmpty DataFrame\nColumns: [1, 568]\nIndex: []\nEmpty DataFrame\nColumns: []\nIndex: []\nEmpty DataFrame\nColumns: [1, 569]\nIndex: []\nEmpty DataFrame\nColumns: []\nIndex: []\nEmpty DataFrame\nColumns: [1, 570]\nIndex: []\n     570\n570  NaN\nEmpty DataFrame\nColumns: [1, 571]\nIndex: []\nEmpty DataFrame\nColumns: []\nIndex: []\nEmpty DataFrame\nColumns: [1, 572]\nIndex: []\nEmpty DataFrame\nColumns: []\nIndex: []\nEmpty DataFrame\nColumns: [1, 573]\nIndex: []\nEmpty DataFrame\nColumns: []\nIndex: []\nEmpty DataFrame\nColumns: [1, 574]\nIndex: []\nEmpty DataFrame\nColumns: []\nIndex: []\nEmpty DataFrame\nColumns: [1, 575]\nIndex: []\n     575\n575  NaN\nEmpty DataFrame\nColumns: [1, 576]\nIndex: []\n     576\n576  NaN\nEmpty DataFrame\nColumns: [1, 577]\nIndex: []\n     577\n577  NaN\nEmpty DataFrame\nColumns: [1, 578]\nIndex: []\n     578\n578  NaN\nEmpty DataFrame\nColumns: [1, 579]\nIndex: []\n     579\n579  NaN\n"
     ]
    },
    {
     "name": "stdout",
     "output_type": "stream",
     "text": [
      "Empty DataFrame\nColumns: [1, 580]\nIndex: []\nEmpty DataFrame\nColumns: []\nIndex: []\nEmpty DataFrame\nColumns: [1, 581]\nIndex: []\nEmpty DataFrame\nColumns: []\nIndex: []\nEmpty DataFrame\nColumns: [1, 582]\nIndex: []\nEmpty DataFrame\nColumns: []\nIndex: []\nEmpty DataFrame\nColumns: [1, 583]\nIndex: []\nEmpty DataFrame\nColumns: []\nIndex: []\nEmpty DataFrame\nColumns: [1, 584]\nIndex: []\nEmpty DataFrame\nColumns: []\nIndex: []\nEmpty DataFrame\nColumns: [1, 585]\nIndex: []\nEmpty DataFrame\nColumns: []\nIndex: []\nEmpty DataFrame\nColumns: [1, 586]\nIndex: []\n     586\n586  NaN\nEmpty DataFrame\nColumns: [1, 587]\nIndex: []\n     587\n587  NaN\nEmpty DataFrame\nColumns: [1, 588]\nIndex: []\n     588\n588  NaN\nEmpty DataFrame\nColumns: [1, 589]\nIndex: []\nEmpty DataFrame\nColumns: []\nIndex: []\nEmpty DataFrame\nColumns: [1, 590]\nIndex: []\n     590\n590  NaN\nEmpty DataFrame\nColumns: [1, 591]\nIndex: []\n     591\n591  NaN\nEmpty DataFrame\nColumns: [1, 592]\nIndex: []\n     592\n592  NaN\nEmpty DataFrame\nColumns: [1, 593]\nIndex: []\n     593\n593  NaN\nEmpty DataFrame\nColumns: [1, 594]\nIndex: []\n     594\n594  NaN\nEmpty DataFrame\nColumns: [1, 595]\nIndex: []\n     595\n595  NaN\nEmpty DataFrame\nColumns: [1, 596]\nIndex: []"
     ]
    },
    {
     "name": "stdout",
     "output_type": "stream",
     "text": [
      "\n     596\n596  NaN\nEmpty DataFrame\nColumns: [1, 597]\nIndex: []\n     597\n597  NaN\nEmpty DataFrame\nColumns: [1, 598]\nIndex: []\n     598\n598  NaN\nEmpty DataFrame\nColumns: [1, 599]\nIndex: []\nEmpty DataFrame\nColumns: []\nIndex: []\nEmpty DataFrame\nColumns: [1, 600]\nIndex: []\nEmpty DataFrame\nColumns: []\nIndex: []\nEmpty DataFrame\nColumns: [1, 601]\nIndex: []\nEmpty DataFrame\nColumns: []\nIndex: []\nEmpty DataFrame\nColumns: [1, 602]\nIndex: []\nEmpty DataFrame\nColumns: []\nIndex: []\nEmpty DataFrame\nColumns: [1, 603]\nIndex: []\n     603\n603  NaN\nEmpty DataFrame\nColumns: [1, 604]\nIndex: []\n     604\n604  NaN\nEmpty DataFrame\nColumns: [1, 605]\nIndex: []\nEmpty DataFrame\nColumns: []\nIndex: []\nEmpty DataFrame\nColumns: [1, 606]\nIndex: []\nEmpty DataFrame\nColumns: []\nIndex: []\nEmpty DataFrame\nColumns: [1, 607]\nIndex: []\nEmpty DataFrame\nColumns: []\nIndex: []\nEmpty DataFrame\nColumns: [1, 608]\nIndex: []\nEmpty DataFrame\nColumns: []\nIndex: []\nEmpty DataFrame\nColumns: [1, 609]\nIndex: []\nEmpty DataFrame\nColumns: []\nIndex: []\nEmpty DataFrame\nColumns: [1, 610]\nIndex: []\nEmpty DataFrame\nColumns: []\nIndex: []\nEmpty DataFrame\nColumns: [1, 611]\nIndex: []\nEmpty DataFrame\nColumns: []\nIndex: []\n"
     ]
    },
    {
     "name": "stdout",
     "output_type": "stream",
     "text": [
      "Empty DataFrame\nColumns: [1, 612]\nIndex: []\nEmpty DataFrame\nColumns: []\nIndex: []\nEmpty DataFrame\nColumns: [1, 613]\nIndex: []\nEmpty DataFrame\nColumns: []\nIndex: []\nEmpty DataFrame\nColumns: [1, 614]\nIndex: []\n     614\n614  NaN\nEmpty DataFrame\nColumns: [1, 615]\nIndex: []\n     615\n615  NaN\nEmpty DataFrame\nColumns: [1, 616]\nIndex: []\nEmpty DataFrame\nColumns: []\nIndex: []\nEmpty DataFrame\nColumns: [1, 617]\nIndex: []\nEmpty DataFrame\nColumns: []\nIndex: []\nEmpty DataFrame\nColumns: [1, 618]\nIndex: []\n     618\n618  NaN\nEmpty DataFrame\nColumns: [1, 619]\nIndex: []\nEmpty DataFrame\nColumns: []\nIndex: []\nEmpty DataFrame\nColumns: [1, 620]\nIndex: []\n     620\n620  NaN\nEmpty DataFrame\nColumns: [1, 621]\nIndex: []\nEmpty DataFrame\nColumns: []\nIndex: []\nEmpty DataFrame\nColumns: [1, 622]\nIndex: []\nEmpty DataFrame\nColumns: []\nIndex: []\nEmpty DataFrame\nColumns: [1, 623]\nIndex: []\n     623\n623  NaN\nEmpty DataFrame\nColumns: [1, 624]\nIndex: []\n     624\n624  NaN\nEmpty DataFrame\nColumns: [1, 625]\nIndex: []\n     625\n625  NaN\nEmpty DataFrame\nColumns: [1, 626]\nIndex: []\nEmpty DataFrame\nColumns: []\nIndex: []\nEmpty DataFrame\nColumns: [1, 627]\nIndex: []\nEmpty DataFrame\nColumns: []\nIndex: []\n"
     ]
    },
    {
     "name": "stdout",
     "output_type": "stream",
     "text": [
      "Empty DataFrame\nColumns: [1, 628]\nIndex: []\nEmpty DataFrame\nColumns: []\nIndex: []\nEmpty DataFrame\nColumns: [1, 629]\nIndex: []\nEmpty DataFrame\nColumns: []\nIndex: []\nEmpty DataFrame\nColumns: [1, 630]\nIndex: []\nEmpty DataFrame\nColumns: []\nIndex: []\nEmpty DataFrame\nColumns: [1, 631]\nIndex: []\nEmpty DataFrame\nColumns: []\nIndex: []\nEmpty DataFrame\nColumns: [1, 632]\nIndex: []\nEmpty DataFrame\nColumns: []\nIndex: []\nEmpty DataFrame\nColumns: [1, 633]\nIndex: []\nEmpty DataFrame\nColumns: []\nIndex: []\nEmpty DataFrame\nColumns: [1, 634]\nIndex: []\nEmpty DataFrame\nColumns: []\nIndex: []\nEmpty DataFrame\nColumns: [1, 635]\nIndex: []\nEmpty DataFrame\nColumns: []\nIndex: []\nEmpty DataFrame\nColumns: [1, 636]\nIndex: []\nEmpty DataFrame\nColumns: []\nIndex: []\nEmpty DataFrame\nColumns: [1, 637]\nIndex: []\nEmpty DataFrame\nColumns: []\nIndex: []\nEmpty DataFrame\nColumns: [1, 638]\nIndex: []\nEmpty DataFrame\nColumns: []\nIndex: []\nEmpty DataFrame\nColumns: [1, 639]\nIndex: []\nEmpty DataFrame\nColumns: []\nIndex: []\nEmpty DataFrame\nColumns: [1, 640]\nIndex: []\nEmpty DataFrame\nColumns: []\nIndex: []\nEmpty DataFrame\nColumns: [1, 641]\nIndex: []\nEmpty DataFrame\nColumns: []\nIndex: []\nEmpty DataFrame\nColumns: [1, 642]\nIndex: []\nEmpty DataFrame\nColumns: []\nIndex: []\nEmpty DataFrame\nColumns: [1, 643]\nIndex: []\nEmpty DataFrame\nColumns: []\nIndex: []\n"
     ]
    },
    {
     "name": "stdout",
     "output_type": "stream",
     "text": [
      "Empty DataFrame\nColumns: [1, 644]\nIndex: []\nEmpty DataFrame\nColumns: []\nIndex: []\nEmpty DataFrame\nColumns: [1, 645]\nIndex: []\nEmpty DataFrame\nColumns: []\nIndex: []\nEmpty DataFrame\nColumns: [1, 646]\nIndex: []\nEmpty DataFrame\nColumns: []\nIndex: []\nEmpty DataFrame\nColumns: [1, 647]\nIndex: []\nEmpty DataFrame\nColumns: []\nIndex: []\nEmpty DataFrame\nColumns: [1, 648]\nIndex: []\nEmpty DataFrame\nColumns: []\nIndex: []\nEmpty DataFrame\nColumns: [1, 649]\nIndex: []\nEmpty DataFrame\nColumns: []\nIndex: []\nEmpty DataFrame\nColumns: [1, 650]\nIndex: []\nEmpty DataFrame\nColumns: []\nIndex: []\nEmpty DataFrame\nColumns: [1, 651]\nIndex: []\nEmpty DataFrame\nColumns: []\nIndex: []\nEmpty DataFrame\nColumns: [1, 652]\nIndex: []\nEmpty DataFrame\nColumns: []\nIndex: []\nEmpty DataFrame\nColumns: [1, 653]\nIndex: []\nEmpty DataFrame\nColumns: []\nIndex: []\nEmpty DataFrame\nColumns: [1, 654]\nIndex: []\nEmpty DataFrame\nColumns: []\nIndex: []\nEmpty DataFrame\nColumns: [1, 655]\nIndex: []\nEmpty DataFrame\nColumns: []\nIndex: []\nEmpty DataFrame\nColumns: [1, 656]\nIndex: []\nEmpty DataFrame\nColumns: []\nIndex: []\nEmpty DataFrame\nColumns: [1, 657]\nIndex: []\nEmpty DataFrame\nColumns: []\nIndex: []\nEmpty DataFrame\nColumns: [1, 658]\nIndex: []\nEmpty DataFrame\nColumns: []\nIndex: []\nEmpty DataFrame\nColumns: [1, 659]\nIndex: []\nEmpty DataFrame\nColumns: []\nIndex: []\n"
     ]
    },
    {
     "name": "stdout",
     "output_type": "stream",
     "text": [
      "Empty DataFrame\nColumns: [1, 660]\nIndex: []\nEmpty DataFrame\nColumns: []\nIndex: []\nEmpty DataFrame\nColumns: [1, 661]\nIndex: []\nEmpty DataFrame\nColumns: []\nIndex: []\nEmpty DataFrame\nColumns: [1, 662]\nIndex: []\nEmpty DataFrame\nColumns: []\nIndex: []\nEmpty DataFrame\nColumns: [1, 663]\nIndex: []\nEmpty DataFrame\nColumns: []\nIndex: []\nEmpty DataFrame\nColumns: [1, 664]\nIndex: []\nEmpty DataFrame\nColumns: []\nIndex: []\nEmpty DataFrame\nColumns: [1, 665]\nIndex: []\nEmpty DataFrame\nColumns: []\nIndex: []\nEmpty DataFrame\nColumns: [1, 666]\nIndex: []\nEmpty DataFrame\nColumns: []\nIndex: []\nEmpty DataFrame\nColumns: [1, 667]\nIndex: []\nEmpty DataFrame\nColumns: []\nIndex: []\nEmpty DataFrame\nColumns: [1, 668]\nIndex: []\nEmpty DataFrame\nColumns: []\nIndex: []\nEmpty DataFrame\nColumns: [1, 669]\nIndex: []\nEmpty DataFrame\nColumns: []\nIndex: []\nEmpty DataFrame\nColumns: [1, 670]\nIndex: []\nEmpty DataFrame\nColumns: []\nIndex: []\nEmpty DataFrame\nColumns: [1, 671]\nIndex: []\nEmpty DataFrame\nColumns: []\nIndex: []\nEmpty DataFrame\nColumns: [1, 672]\nIndex: []\nEmpty DataFrame\nColumns: []\nIndex: []\nEmpty DataFrame\nColumns: [1, 673]\nIndex: []\nEmpty DataFrame\nColumns: []\nIndex: []\nEmpty DataFrame\nColumns: [1, 674]\nIndex: []\nEmpty DataFrame\nColumns: []\nIndex: []\nEmpty DataFrame\nColumns: [1, 675]\nIndex: []\nEmpty DataFrame\nColumns: []\nIndex: []\nEmpty DataFrame\nColumns: [1, 676]\nIndex: []\n"
     ]
    },
    {
     "name": "stdout",
     "output_type": "stream",
     "text": [
      "Empty DataFrame\nColumns: []\nIndex: []\nEmpty DataFrame\nColumns: [1, 677]\nIndex: []\nEmpty DataFrame\nColumns: []\nIndex: []\nEmpty DataFrame\nColumns: [1, 678]\nIndex: []\nEmpty DataFrame\nColumns: []\nIndex: []\nEmpty DataFrame\nColumns: [1, 679]\nIndex: []\nEmpty DataFrame\nColumns: []\nIndex: []\nEmpty DataFrame\nColumns: [1, 680]\nIndex: []\nEmpty DataFrame\nColumns: []\nIndex: []\nEmpty DataFrame\nColumns: [1, 681]\nIndex: []\nEmpty DataFrame\nColumns: []\nIndex: []\nEmpty DataFrame\nColumns: [1, 682]\nIndex: []\nEmpty DataFrame\nColumns: []\nIndex: []\nEmpty DataFrame\nColumns: [1, 683]\nIndex: []\nEmpty DataFrame\nColumns: []\nIndex: []\nEmpty DataFrame\nColumns: [1, 684]\nIndex: []\nEmpty DataFrame\nColumns: []\nIndex: []\nEmpty DataFrame\nColumns: [1, 685]\nIndex: []\nEmpty DataFrame\nColumns: []\nIndex: []\nEmpty DataFrame\nColumns: [1, 686]\nIndex: []\nEmpty DataFrame\nColumns: []\nIndex: []\nEmpty DataFrame\nColumns: [1, 687]\nIndex: []\nEmpty DataFrame\nColumns: []\nIndex: []\nEmpty DataFrame\nColumns: [1, 688]\nIndex: []\nEmpty DataFrame\nColumns: []\nIndex: []\nEmpty DataFrame\nColumns: [1, 689]\nIndex: []\n     689\n689  NaN\nEmpty DataFrame\nColumns: [1, 690]\nIndex: []\n     690\n690  NaN\nEmpty DataFrame\nColumns: [1, 691]\nIndex: []\nEmpty DataFrame\nColumns: []\nIndex: []\nEmpty DataFrame\nColumns: [1, 692]\nIndex: []\nEmpty DataFrame\nColumns: []\nIndex: []\n"
     ]
    },
    {
     "name": "stdout",
     "output_type": "stream",
     "text": [
      "Empty DataFrame\nColumns: [1, 693]\nIndex: []\n     693\n693  NaN\nEmpty DataFrame\nColumns: [1, 694]\nIndex: []\n     694\n694  NaN\nEmpty DataFrame\nColumns: [1, 695]\nIndex: []\n     695\n695  NaN\nEmpty DataFrame\nColumns: [1, 696]\nIndex: []\n     696\n696  NaN\nEmpty DataFrame\nColumns: [1, 697]\nIndex: []\n     697\n697  NaN\nEmpty DataFrame\nColumns: [1, 698]\nIndex: []\n     698\n698  NaN\nEmpty DataFrame\nColumns: [1, 699]\nIndex: []\n     699\n699  NaN\nEmpty DataFrame\nColumns: [1, 700]\nIndex: []\n     700\n700  NaN\nEmpty DataFrame\nColumns: [1, 701]\nIndex: []\n     701\n701  NaN\nEmpty DataFrame\nColumns: [1, 702]\nIndex: []\nEmpty DataFrame\nColumns: []\nIndex: []\nEmpty DataFrame\nColumns: [1, 703]\nIndex: []\nEmpty DataFrame\nColumns: []\nIndex: []\nEmpty DataFrame\nColumns: [1, 704]\nIndex: []\n     704\n704  NaN\nEmpty DataFrame\nColumns: [1, 705]\nIndex: []\nEmpty DataFrame\nColumns: []\nIndex: []\nEmpty DataFrame\nColumns: [1, 706]\nIndex: []\nEmpty DataFrame\nColumns: []\nIndex: []\nEmpty DataFrame\nColumns: [1, 707]\nIndex: []\nEmpty DataFrame\nColumns: []\nIndex: []\nEmpty DataFrame\nColumns: [1, 708]\nIndex: []\nEmpty DataFrame\nColumns: []\nIndex: []\n"
     ]
    },
    {
     "name": "stdout",
     "output_type": "stream",
     "text": [
      "Empty DataFrame\nColumns: [1, 709]\nIndex: []\nEmpty DataFrame\nColumns: []\nIndex: []\nEmpty DataFrame\nColumns: [1, 710]\nIndex: []\nEmpty DataFrame\nColumns: []\nIndex: []\nEmpty DataFrame\nColumns: [1, 711]\nIndex: []\nEmpty DataFrame\nColumns: []\nIndex: []\nEmpty DataFrame\nColumns: [1, 712]\nIndex: []\nEmpty DataFrame\nColumns: []\nIndex: []\nEmpty DataFrame\nColumns: [1, 713]\nIndex: []\nEmpty DataFrame\nColumns: []\nIndex: []\nEmpty DataFrame\nColumns: [1, 714]\nIndex: []\nEmpty DataFrame\nColumns: []\nIndex: []\nEmpty DataFrame\nColumns: [1, 715]\nIndex: []\n     715\n715  NaN\nEmpty DataFrame\nColumns: [1, 716]\nIndex: []\nEmpty DataFrame\nColumns: []\nIndex: []\nEmpty DataFrame\nColumns: [1, 717]\nIndex: []\nEmpty DataFrame\nColumns: []\nIndex: []\nEmpty DataFrame\nColumns: [1, 718]\nIndex: []\nEmpty DataFrame\nColumns: []\nIndex: []\nEmpty DataFrame\nColumns: [1, 719]\nIndex: []\nEmpty DataFrame\nColumns: []\nIndex: []\nEmpty DataFrame\nColumns: [1, 720]\nIndex: []\nEmpty DataFrame\nColumns: []\nIndex: []\nEmpty DataFrame\nColumns: [1, 721]\nIndex: []\n     721\n721  NaN\nEmpty DataFrame\nColumns: [1, 722]\nIndex: []\n     722\n722  NaN\nEmpty DataFrame\nColumns: [1, 723]\nIndex: []\n     723\n723  NaN\n"
     ]
    },
    {
     "name": "stdout",
     "output_type": "stream",
     "text": [
      "Empty DataFrame\nColumns: [1, 724]\nIndex: []\n     724\n724  NaN\nEmpty DataFrame\nColumns: [1, 725]\nIndex: []\n     725\n725  NaN\nEmpty DataFrame\nColumns: [1, 726]\nIndex: []\n     726\n726  NaN\nEmpty DataFrame\nColumns: [1, 727]\nIndex: []\n     727\n727  NaN\nEmpty DataFrame\nColumns: [1, 728]\nIndex: []\nEmpty DataFrame\nColumns: []\nIndex: []\nEmpty DataFrame\nColumns: [1, 729]\nIndex: []\n     729\n729  NaN\nEmpty DataFrame\nColumns: [1, 730]\nIndex: []\n     730\n730  NaN\nEmpty DataFrame\nColumns: [1, 731]\nIndex: []\n     731\n731  NaN\nEmpty DataFrame\nColumns: [1, 732]\nIndex: []\nEmpty DataFrame\nColumns: []\nIndex: []\nEmpty DataFrame\nColumns: [1, 733]\nIndex: []\nEmpty DataFrame\nColumns: []\nIndex: []\nEmpty DataFrame\nColumns: [1, 734]\nIndex: []\nEmpty DataFrame\nColumns: []\nIndex: []\nEmpty DataFrame\nColumns: [1, 735]\nIndex: []\nEmpty DataFrame\nColumns: []\nIndex: []\nEmpty DataFrame\nColumns: [1, 736]\nIndex: []\nEmpty DataFrame\nColumns: []\nIndex: []\nEmpty DataFrame\nColumns: [1, 737]\nIndex: []\nEmpty DataFrame\nColumns: []\nIndex: []\nEmpty DataFrame\nColumns: [1, 738]\nIndex: []\nEmpty DataFrame\nColumns: []\nIndex: []\n"
     ]
    },
    {
     "name": "stdout",
     "output_type": "stream",
     "text": [
      "Empty DataFrame\nColumns: [1, 739]\nIndex: []\n     739\n739  NaN\nEmpty DataFrame\nColumns: [1, 740]\nIndex: []\nEmpty DataFrame\nColumns: []\nIndex: []\nEmpty DataFrame\nColumns: [1, 741]\nIndex: []\nEmpty DataFrame\nColumns: []\nIndex: []\nEmpty DataFrame\nColumns: [1, 742]\nIndex: []\nEmpty DataFrame\nColumns: []\nIndex: []\nEmpty DataFrame\nColumns: [1, 743]\nIndex: []\nEmpty DataFrame\nColumns: []\nIndex: []\nEmpty DataFrame\nColumns: [1, 744]\nIndex: []\n     744\n744  NaN\nEmpty DataFrame\nColumns: [1, 745]\nIndex: []\nEmpty DataFrame\nColumns: []\nIndex: []\nEmpty DataFrame\nColumns: [1, 746]\nIndex: []\nEmpty DataFrame\nColumns: []\nIndex: []\nEmpty DataFrame\nColumns: [1, 747]\nIndex: []\nEmpty DataFrame\nColumns: []\nIndex: []\nEmpty DataFrame\nColumns: [1, 748]\nIndex: []\nEmpty DataFrame\nColumns: []\nIndex: []\nEmpty DataFrame\nColumns: [1, 749]\nIndex: []\nEmpty DataFrame\nColumns: []\nIndex: []\nEmpty DataFrame\nColumns: [1, 750]\nIndex: []\n     750\n750  NaN\nEmpty DataFrame\nColumns: [1, 751]\nIndex: []\nEmpty DataFrame\nColumns: []\nIndex: []\nEmpty DataFrame\nColumns: [1, 752]\nIndex: []\nEmpty DataFrame\nColumns: []\nIndex: []\n"
     ]
    },
    {
     "name": "stdout",
     "output_type": "stream",
     "text": [
      "Empty DataFrame\nColumns: [1, 753]\nIndex: []\nEmpty DataFrame\nColumns: []\nIndex: []\nEmpty DataFrame\nColumns: [1, 754]\nIndex: []\nEmpty DataFrame\nColumns: []\nIndex: []\nEmpty DataFrame\nColumns: [1, 755]\nIndex: []\nEmpty DataFrame\nColumns: []\nIndex: []\nEmpty DataFrame\nColumns: [1, 756]\nIndex: []\nEmpty DataFrame\nColumns: []\nIndex: []\nEmpty DataFrame\nColumns: [1, 757]\nIndex: []\nEmpty DataFrame\nColumns: []\nIndex: []\nEmpty DataFrame\nColumns: [1, 758]\nIndex: []\nEmpty DataFrame\nColumns: []\nIndex: []\nEmpty DataFrame\nColumns: [1, 759]\nIndex: []\nEmpty DataFrame\nColumns: []\nIndex: []\nEmpty DataFrame\nColumns: [1, 760]\nIndex: []\nEmpty DataFrame\nColumns: []\nIndex: []\nEmpty DataFrame\nColumns: [1, 761]\nIndex: []\nEmpty DataFrame\nColumns: []\nIndex: []\nEmpty DataFrame\nColumns: [1, 762]\nIndex: []\nEmpty DataFrame\nColumns: []\nIndex: []\nEmpty DataFrame\nColumns: [1, 763]\nIndex: []\nEmpty DataFrame\nColumns: []\nIndex: []\nEmpty DataFrame\nColumns: [1, 764]\nIndex: []\nEmpty DataFrame\nColumns: []\nIndex: []\nEmpty DataFrame\nColumns: [1, 765]\nIndex: []\nEmpty DataFrame\nColumns: []\nIndex: []\nEmpty DataFrame\nColumns: [1, 766]\nIndex: []\n     766\n766  NaN\nEmpty DataFrame\nColumns: [1, 767]\nIndex: []\nEmpty DataFrame\nColumns: []\nIndex: []\n"
     ]
    },
    {
     "name": "stdout",
     "output_type": "stream",
     "text": [
      "Empty DataFrame\nColumns: [1, 768]\nIndex: []\nEmpty DataFrame\nColumns: []\nIndex: []\nEmpty DataFrame\nColumns: [1, 769]\nIndex: []\nEmpty DataFrame\nColumns: []\nIndex: []\nEmpty DataFrame\nColumns: [1, 770]\nIndex: []\nEmpty DataFrame\nColumns: []\nIndex: []\nEmpty DataFrame\nColumns: [1, 771]\nIndex: []\nEmpty DataFrame\nColumns: []\nIndex: []\nEmpty DataFrame\nColumns: [1, 772]\nIndex: []\nEmpty DataFrame\nColumns: []\nIndex: []\nEmpty DataFrame\nColumns: [1, 773]\nIndex: []\nEmpty DataFrame\nColumns: []\nIndex: []\nEmpty DataFrame\nColumns: [1, 774]\nIndex: []\nEmpty DataFrame\nColumns: []\nIndex: []\nEmpty DataFrame\nColumns: [1, 775]\nIndex: []\nEmpty DataFrame\nColumns: []\nIndex: []\nEmpty DataFrame\nColumns: [1, 776]\nIndex: []\n     776\n776  NaN\nEmpty DataFrame\nColumns: [1, 777]\nIndex: []\nEmpty DataFrame\nColumns: []\nIndex: []\nEmpty DataFrame\nColumns: [1, 778]\nIndex: []\n     778\n778  NaN\nEmpty DataFrame\nColumns: [1, 779]\nIndex: []\nEmpty DataFrame\nColumns: []\nIndex: []\nEmpty DataFrame\nColumns: [1, 780]\nIndex: []\n     780\n780  NaN\nEmpty DataFrame\nColumns: [1, 781]\nIndex: []\n     781\n781  NaN\nEmpty DataFrame\nColumns: [1, 782]\nIndex: []\nEmpty DataFrame\nColumns: []\nIndex: []\nEmpty DataFrame\nColumns: [1, 783]\nIndex: []\nEmpty DataFrame\nColumns: []\nIndex: []"
     ]
    },
    {
     "name": "stdout",
     "output_type": "stream",
     "text": [
      "\nEmpty DataFrame\nColumns: [1, 784]\nIndex: []\nEmpty DataFrame\nColumns: []\nIndex: []\nEmpty DataFrame\nColumns: [1, 785]\nIndex: []\nEmpty DataFrame\nColumns: []\nIndex: []\nEmpty DataFrame\nColumns: [1, 786]\nIndex: []\nEmpty DataFrame\nColumns: []\nIndex: []\nEmpty DataFrame\nColumns: [1, 787]\nIndex: []\n     787\n787  NaN\nEmpty DataFrame\nColumns: [1, 788]\nIndex: []\nEmpty DataFrame\nColumns: []\nIndex: []\nEmpty DataFrame\nColumns: [1, 789]\nIndex: []\nEmpty DataFrame\nColumns: []\nIndex: []\nEmpty DataFrame\nColumns: [1, 790]\nIndex: []\nEmpty DataFrame\nColumns: []\nIndex: []\nEmpty DataFrame\nColumns: [1, 791]\nIndex: []\n     791\n791  NaN\nEmpty DataFrame\nColumns: [1, 792]\nIndex: []\nEmpty DataFrame\nColumns: []\nIndex: []\nEmpty DataFrame\nColumns: [1, 793]\nIndex: []\nEmpty DataFrame\nColumns: []\nIndex: []\nEmpty DataFrame\nColumns: [1, 794]\nIndex: []\nEmpty DataFrame\nColumns: []\nIndex: []\nEmpty DataFrame\nColumns: [1, 795]\nIndex: []\nEmpty DataFrame\nColumns: []\nIndex: []\nEmpty DataFrame\nColumns: [1, 796]\nIndex: []\n     796\n796  NaN\nEmpty DataFrame\nColumns: [1, 797]\nIndex: []\nEmpty DataFrame\nColumns: []\nIndex: []\nEmpty DataFrame\nColumns: [1, 798]\nIndex: []\nEmpty DataFrame\nColumns: []\nIndex: []\nEmpty DataFrame\nColumns: [1, 799]\nIndex: []\nEmpty DataFrame\nColumns: []\nIndex: []\n"
     ]
    },
    {
     "name": "stdout",
     "output_type": "stream",
     "text": [
      "Empty DataFrame\nColumns: [1, 800]\nIndex: []\nEmpty DataFrame\nColumns: []\nIndex: []\nEmpty DataFrame\nColumns: [1, 801]\nIndex: []\nEmpty DataFrame\nColumns: []\nIndex: []\nEmpty DataFrame\nColumns: [1, 802]\nIndex: []\nEmpty DataFrame\nColumns: []\nIndex: []\nEmpty DataFrame\nColumns: [1, 803]\nIndex: []\nEmpty DataFrame\nColumns: []\nIndex: []\nEmpty DataFrame\nColumns: [1, 804]\nIndex: []\n     804\n804  NaN\nEmpty DataFrame\nColumns: [1, 805]\nIndex: []\n     805\n805  NaN\nEmpty DataFrame\nColumns: [1, 806]\nIndex: []\nEmpty DataFrame\nColumns: []\nIndex: []\nEmpty DataFrame\nColumns: [1, 807]\nIndex: []\n     807\n807  NaN\nEmpty DataFrame\nColumns: [1, 808]\nIndex: []\n     808\n808  NaN\nEmpty DataFrame\nColumns: [1, 809]\nIndex: []\n     809\n809  NaN\nEmpty DataFrame\nColumns: [1, 810]\nIndex: []\n     810\n810  NaN\nEmpty DataFrame\nColumns: [1, 811]\nIndex: []\nEmpty DataFrame\nColumns: []\nIndex: []\nEmpty DataFrame\nColumns: [1, 812]\nIndex: []\nEmpty DataFrame\nColumns: []\nIndex: []\nEmpty DataFrame\nColumns: [1, 813]\nIndex: []\nEmpty DataFrame\nColumns: []\nIndex: []\nEmpty DataFrame\nColumns: [1, 814]\nIndex: []\nEmpty DataFrame\nColumns: []\nIndex: []\nEmpty DataFrame\nColumns: [1, 815]\nIndex: []\nEmpty DataFrame\nColumns: []\nIndex: []\n"
     ]
    },
    {
     "name": "stdout",
     "output_type": "stream",
     "text": [
      "Empty DataFrame\nColumns: [1, 816]\nIndex: []\nEmpty DataFrame\nColumns: []\nIndex: []\nEmpty DataFrame\nColumns: [1, 817]\nIndex: []\nEmpty DataFrame\nColumns: []\nIndex: []\nEmpty DataFrame\nColumns: [1, 818]\nIndex: []\nEmpty DataFrame\nColumns: []\nIndex: []\nEmpty DataFrame\nColumns: [1, 819]\nIndex: []\nEmpty DataFrame\nColumns: []\nIndex: []\nEmpty DataFrame\nColumns: [1, 820]\nIndex: []\n     820\n820  NaN\nEmpty DataFrame\nColumns: [1, 821]\nIndex: []\n     821\n821  NaN\nEmpty DataFrame\nColumns: [1, 822]\nIndex: []\nEmpty DataFrame\nColumns: []\nIndex: []\nEmpty DataFrame\nColumns: [1, 823]\nIndex: []\nEmpty DataFrame\nColumns: []\nIndex: []\nEmpty DataFrame\nColumns: [1, 824]\nIndex: []\n     824\n824  NaN\nEmpty DataFrame\nColumns: [1, 825]\nIndex: []\nEmpty DataFrame\nColumns: []\nIndex: []\nEmpty DataFrame\nColumns: [1, 826]\nIndex: []\nEmpty DataFrame\nColumns: []\nIndex: []\nEmpty DataFrame\nColumns: [1, 827]\nIndex: []\nEmpty DataFrame\nColumns: []\nIndex: []\nEmpty DataFrame\nColumns: [1, 828]\nIndex: []\n     828\n828  NaN\nEmpty DataFrame\nColumns: [1, 829]\nIndex: []\nEmpty DataFrame\nColumns: []\nIndex: []\nEmpty DataFrame\nColumns: [1, 830]\nIndex: []\n     830\n830  NaN\nEmpty DataFrame\nColumns: [1, 831]\nIndex: []"
     ]
    },
    {
     "name": "stdout",
     "output_type": "stream",
     "text": [
      "\nEmpty DataFrame\nColumns: []\nIndex: []\nEmpty DataFrame\nColumns: [1, 832]\nIndex: []\nEmpty DataFrame\nColumns: []\nIndex: []\nEmpty DataFrame\nColumns: [1, 833]\nIndex: []\nEmpty DataFrame\nColumns: []\nIndex: []\nEmpty DataFrame\nColumns: [1, 834]\nIndex: []\nEmpty DataFrame\nColumns: []\nIndex: []\nEmpty DataFrame\nColumns: [1, 835]\nIndex: []\nEmpty DataFrame\nColumns: []\nIndex: []\nEmpty DataFrame\nColumns: [1, 836]\nIndex: []\nEmpty DataFrame\nColumns: []\nIndex: []\nEmpty DataFrame\nColumns: [1, 837]\nIndex: []\nEmpty DataFrame\nColumns: []\nIndex: []\nEmpty DataFrame\nColumns: [1, 838]\nIndex: []\nEmpty DataFrame\nColumns: []\nIndex: []\nEmpty DataFrame\nColumns: [1, 839]\nIndex: []\nEmpty DataFrame\nColumns: []\nIndex: []\nEmpty DataFrame\nColumns: [1, 840]\nIndex: []\nEmpty DataFrame\nColumns: []\nIndex: []\nEmpty DataFrame\nColumns: [1, 841]\nIndex: []\nEmpty DataFrame\nColumns: []\nIndex: []\nEmpty DataFrame\nColumns: [1, 842]\nIndex: []\nEmpty DataFrame\nColumns: []\nIndex: []\nEmpty DataFrame\nColumns: [1, 843]\nIndex: []\n     843\n843  NaN\nEmpty DataFrame\nColumns: [1, 844]\nIndex: []\nEmpty DataFrame\nColumns: []\nIndex: []\nEmpty DataFrame\nColumns: [1, 845]\nIndex: []\nEmpty DataFrame\nColumns: []\nIndex: []\nEmpty DataFrame\nColumns: [1, 846]\nIndex: []\nEmpty DataFrame\nColumns: []\nIndex: []\n"
     ]
    },
    {
     "name": "stdout",
     "output_type": "stream",
     "text": [
      "Empty DataFrame\nColumns: [1, 847]\nIndex: []\nEmpty DataFrame\nColumns: []\nIndex: []\nEmpty DataFrame\nColumns: [1, 848]\nIndex: []\nEmpty DataFrame\nColumns: []\nIndex: []\nEmpty DataFrame\nColumns: [1, 849]\nIndex: []\nEmpty DataFrame\nColumns: []\nIndex: []\nEmpty DataFrame\nColumns: [1, 850]\nIndex: []\nEmpty DataFrame\nColumns: []\nIndex: []\nEmpty DataFrame\nColumns: [1, 851]\nIndex: []\nEmpty DataFrame\nColumns: []\nIndex: []\nEmpty DataFrame\nColumns: [1, 852]\nIndex: []\nEmpty DataFrame\nColumns: []\nIndex: []\nEmpty DataFrame\nColumns: [1, 853]\nIndex: []\nEmpty DataFrame\nColumns: []\nIndex: []\nEmpty DataFrame\nColumns: [1, 854]\nIndex: []\nEmpty DataFrame\nColumns: []\nIndex: []\nEmpty DataFrame\nColumns: [1, 855]\nIndex: []\nEmpty DataFrame\nColumns: []\nIndex: []\nEmpty DataFrame\nColumns: [1, 856]\nIndex: []\nEmpty DataFrame\nColumns: []\nIndex: []\nEmpty DataFrame\nColumns: [1, 857]\nIndex: []\n     857\n857  NaN\nEmpty DataFrame\nColumns: [1, 858]\nIndex: []\n     858\n858  NaN\nEmpty DataFrame\nColumns: [1, 859]\nIndex: []\n     859\n859  NaN\nEmpty DataFrame\nColumns: [1, 860]\nIndex: []\n     860\n860  NaN\nEmpty DataFrame\nColumns: [1, 861]\nIndex: []\n     861\n861  NaN\nEmpty DataFrame\nColumns: [1, 862]\nIndex: []\nEmpty DataFrame\nColumns: []\nIndex: []"
     ]
    },
    {
     "name": "stdout",
     "output_type": "stream",
     "text": [
      "\nEmpty DataFrame\nColumns: [1, 863]\nIndex: []\n     863\n863  NaN\nEmpty DataFrame\nColumns: [1, 864]\nIndex: []\n     864\n864  NaN\nEmpty DataFrame\nColumns: [1, 865]\nIndex: []\nEmpty DataFrame\nColumns: []\nIndex: []\nEmpty DataFrame\nColumns: [1, 866]\nIndex: []\nEmpty DataFrame\nColumns: []\nIndex: []\nEmpty DataFrame\nColumns: [1, 867]\nIndex: []\n     867\n867  NaN\nEmpty DataFrame\nColumns: [1, 868]\nIndex: []\nEmpty DataFrame\nColumns: []\nIndex: []\nEmpty DataFrame\nColumns: [1, 869]\nIndex: []\nEmpty DataFrame\nColumns: []\nIndex: []\nEmpty DataFrame\nColumns: [1, 870]\nIndex: []\nEmpty DataFrame\nColumns: []\nIndex: []\nEmpty DataFrame\nColumns: [1, 871]\nIndex: []\nEmpty DataFrame\nColumns: []\nIndex: []\nEmpty DataFrame\nColumns: [1, 872]\nIndex: []\nEmpty DataFrame\nColumns: []\nIndex: []\nEmpty DataFrame\nColumns: [1, 873]\nIndex: []\nEmpty DataFrame\nColumns: []\nIndex: []\nEmpty DataFrame\nColumns: [1, 874]\nIndex: []\nEmpty DataFrame\nColumns: []\nIndex: []\nEmpty DataFrame\nColumns: [1, 875]\nIndex: []\nEmpty DataFrame\nColumns: []\nIndex: []\nEmpty DataFrame\nColumns: [1, 876]\nIndex: []\nEmpty DataFrame\nColumns: []\nIndex: []\n"
     ]
    },
    {
     "name": "stdout",
     "output_type": "stream",
     "text": [
      "Empty DataFrame\nColumns: [1, 877]\nIndex: []\nEmpty DataFrame\nColumns: []\nIndex: []\nEmpty DataFrame\nColumns: [1, 878]\nIndex: []\nEmpty DataFrame\nColumns: []\nIndex: []\nEmpty DataFrame\nColumns: [1, 879]\nIndex: []\nEmpty DataFrame\nColumns: []\nIndex: []\nEmpty DataFrame\nColumns: [1, 880]\nIndex: []\nEmpty DataFrame\nColumns: []\nIndex: []\nEmpty DataFrame\nColumns: [1, 881]\nIndex: []\nEmpty DataFrame\nColumns: []\nIndex: []\nEmpty DataFrame\nColumns: [1, 882]\nIndex: []\nEmpty DataFrame\nColumns: []\nIndex: []\nEmpty DataFrame\nColumns: [1, 883]\nIndex: []\nEmpty DataFrame\nColumns: []\nIndex: []\nEmpty DataFrame\nColumns: [1, 884]\nIndex: []\nEmpty DataFrame\nColumns: []\nIndex: []\nEmpty DataFrame\nColumns: [1, 885]\nIndex: []\nEmpty DataFrame\nColumns: []\nIndex: []\nEmpty DataFrame\nColumns: [1, 886]\nIndex: []\nEmpty DataFrame\nColumns: []\nIndex: []\nEmpty DataFrame\nColumns: [1, 887]\nIndex: []\nEmpty DataFrame\nColumns: []\nIndex: []\nEmpty DataFrame\nColumns: [1, 888]\nIndex: []\nEmpty DataFrame\nColumns: []\nIndex: []\nEmpty DataFrame\nColumns: [1, 889]\nIndex: []\nEmpty DataFrame\nColumns: []\nIndex: []\nEmpty DataFrame\nColumns: [1, 890]\nIndex: []\nEmpty DataFrame\nColumns: []\nIndex: []\nEmpty DataFrame\nColumns: [1, 891]\nIndex: []\n     891\n891  NaN\nEmpty DataFrame\nColumns: [1, 892]\nIndex: []\nEmpty DataFrame\nColumns: []\nIndex: []\n"
     ]
    },
    {
     "name": "stdout",
     "output_type": "stream",
     "text": [
      "Empty DataFrame\nColumns: [1, 893]\nIndex: []\n     893\n893  NaN\nEmpty DataFrame\nColumns: [1, 894]\nIndex: []\nEmpty DataFrame\nColumns: []\nIndex: []\nEmpty DataFrame\nColumns: [1, 895]\nIndex: []\nEmpty DataFrame\nColumns: []\nIndex: []\nEmpty DataFrame\nColumns: [1, 896]\nIndex: []\nEmpty DataFrame\nColumns: []\nIndex: []\nEmpty DataFrame\nColumns: [1, 897]\nIndex: []\nEmpty DataFrame\nColumns: []\nIndex: []\nEmpty DataFrame\nColumns: [1, 898]\nIndex: []\n     898\n898  NaN\nEmpty DataFrame\nColumns: [1, 899]\nIndex: []\nEmpty DataFrame\nColumns: []\nIndex: []\nEmpty DataFrame\nColumns: [1, 900]\nIndex: []\nEmpty DataFrame\nColumns: []\nIndex: []\nEmpty DataFrame\nColumns: [1, 901]\nIndex: []\nEmpty DataFrame\nColumns: []\nIndex: []\nEmpty DataFrame\nColumns: [1, 902]\nIndex: []\nEmpty DataFrame\nColumns: []\nIndex: []\nEmpty DataFrame\nColumns: [1, 903]\nIndex: []\n     903\n903  NaN\nEmpty DataFrame\nColumns: [1, 904]\nIndex: []\n     904\n904  NaN\nEmpty DataFrame\nColumns: [1, 905]\nIndex: []\nEmpty DataFrame\nColumns: []\nIndex: []\nEmpty DataFrame\nColumns: [1, 906]\nIndex: []\nEmpty DataFrame\nColumns: []\nIndex: []\nEmpty DataFrame\nColumns: [1, 907]\nIndex: []\n     907\n907  NaN\nEmpty DataFrame\nColumns: [1, 908]\nIndex: []\nEmpty DataFrame\nColumns: []\nIndex: []"
     ]
    },
    {
     "name": "stdout",
     "output_type": "stream",
     "text": [
      "\nEmpty DataFrame\nColumns: [1, 909]\nIndex: []\nEmpty DataFrame\nColumns: []\nIndex: []\nEmpty DataFrame\nColumns: [1, 910]\nIndex: []\nEmpty DataFrame\nColumns: []\nIndex: []\nEmpty DataFrame\nColumns: [1, 911]\nIndex: []\nEmpty DataFrame\nColumns: []\nIndex: []\nEmpty DataFrame\nColumns: [1, 912]\nIndex: []\nEmpty DataFrame\nColumns: []\nIndex: []\nEmpty DataFrame\nColumns: [1, 913]\nIndex: []\nEmpty DataFrame\nColumns: []\nIndex: []\nEmpty DataFrame\nColumns: [1, 914]\nIndex: []\nEmpty DataFrame\nColumns: []\nIndex: []\nEmpty DataFrame\nColumns: [1, 915]\nIndex: []\nEmpty DataFrame\nColumns: []\nIndex: []\nEmpty DataFrame\nColumns: [1, 916]\nIndex: []\nEmpty DataFrame\nColumns: []\nIndex: []\nEmpty DataFrame\nColumns: [1, 917]\nIndex: []\nEmpty DataFrame\nColumns: []\nIndex: []\nEmpty DataFrame\nColumns: [1, 918]\nIndex: []\nEmpty DataFrame\nColumns: []\nIndex: []\nEmpty DataFrame\nColumns: [1, 919]\nIndex: []\nEmpty DataFrame\nColumns: []\nIndex: []\nEmpty DataFrame\nColumns: [1, 920]\nIndex: []\nEmpty DataFrame\nColumns: []\nIndex: []\nEmpty DataFrame\nColumns: [1, 921]\nIndex: []\nEmpty DataFrame\nColumns: []\nIndex: []\nEmpty DataFrame\nColumns: [1, 922]\nIndex: []\nEmpty DataFrame\nColumns: []\nIndex: []\nEmpty DataFrame\nColumns: [1, 923]\nIndex: []\nEmpty DataFrame\nColumns: []\nIndex: []\n"
     ]
    },
    {
     "name": "stdout",
     "output_type": "stream",
     "text": [
      "Empty DataFrame\nColumns: [1, 924]\nIndex: []\nEmpty DataFrame\nColumns: []\nIndex: []\nEmpty DataFrame\nColumns: [1, 925]\nIndex: []\n     925\n925  NaN\nEmpty DataFrame\nColumns: [1, 926]\nIndex: []\nEmpty DataFrame\nColumns: []\nIndex: []\nEmpty DataFrame\nColumns: [1, 927]\nIndex: []\nEmpty DataFrame\nColumns: []\nIndex: []\nEmpty DataFrame\nColumns: [1, 928]\nIndex: []\nEmpty DataFrame\nColumns: []\nIndex: []\nEmpty DataFrame\nColumns: [1, 929]\nIndex: []\nEmpty DataFrame\nColumns: []\nIndex: []\nEmpty DataFrame\nColumns: [1, 930]\nIndex: []\nEmpty DataFrame\nColumns: []\nIndex: []\nEmpty DataFrame\nColumns: [1, 931]\nIndex: []\nEmpty DataFrame\nColumns: []\nIndex: []\nEmpty DataFrame\nColumns: [1, 932]\nIndex: []\n     932\n932  NaN\nEmpty DataFrame\nColumns: [1, 933]\nIndex: []\nEmpty DataFrame\nColumns: []\nIndex: []\nEmpty DataFrame\nColumns: [1, 934]\nIndex: []\nEmpty DataFrame\nColumns: []\nIndex: []\nEmpty DataFrame\nColumns: [1, 935]\nIndex: []\nEmpty DataFrame\nColumns: []\nIndex: []\nEmpty DataFrame\nColumns: [1, 936]\nIndex: []\nEmpty DataFrame\nColumns: []\nIndex: []\nEmpty DataFrame\nColumns: [1, 937]\nIndex: []\nEmpty DataFrame\nColumns: []\nIndex: []\nEmpty DataFrame\nColumns: [1, 938]\nIndex: []\nEmpty DataFrame\nColumns: []\nIndex: []\nEmpty DataFrame\nColumns: [1, 939]\nIndex: []\nEmpty DataFrame\nColumns: []\nIndex: []\nEmpty DataFrame\nColumns: [1, 940]\nIndex: []"
     ]
    },
    {
     "name": "stdout",
     "output_type": "stream",
     "text": [
      "\nEmpty DataFrame\nColumns: []\nIndex: []\nEmpty DataFrame\nColumns: [1, 941]\nIndex: []\nEmpty DataFrame\nColumns: []\nIndex: []\nEmpty DataFrame\nColumns: [1, 942]\nIndex: []\nEmpty DataFrame\nColumns: []\nIndex: []\nEmpty DataFrame\nColumns: [1, 943]\nIndex: []\nEmpty DataFrame\nColumns: []\nIndex: []\nEmpty DataFrame\nColumns: [1, 944]\nIndex: []\nEmpty DataFrame\nColumns: []\nIndex: []\nEmpty DataFrame\nColumns: [1, 945]\nIndex: []\nEmpty DataFrame\nColumns: []\nIndex: []\nEmpty DataFrame\nColumns: [1, 946]\nIndex: []\nEmpty DataFrame\nColumns: []\nIndex: []\nEmpty DataFrame\nColumns: [1, 947]\nIndex: []\n     947\n947  NaN\nEmpty DataFrame\nColumns: [1, 948]\nIndex: []\nEmpty DataFrame\nColumns: []\nIndex: []\nEmpty DataFrame\nColumns: [1, 949]\nIndex: []\n     949\n949  NaN\nEmpty DataFrame\nColumns: [1, 950]\nIndex: []\nEmpty DataFrame\nColumns: []\nIndex: []\nEmpty DataFrame\nColumns: [1, 951]\nIndex: []\nEmpty DataFrame\nColumns: []\nIndex: []\nEmpty DataFrame\nColumns: [1, 952]\nIndex: []\n     952\n952  NaN\nEmpty DataFrame\nColumns: [1, 953]\nIndex: []\nEmpty DataFrame\nColumns: []\nIndex: []\nEmpty DataFrame\nColumns: [1, 954]\nIndex: []\nEmpty DataFrame\nColumns: []\nIndex: []\n"
     ]
    },
    {
     "name": "stdout",
     "output_type": "stream",
     "text": [
      "Empty DataFrame\nColumns: [1, 955]\nIndex: []\nEmpty DataFrame\nColumns: []\nIndex: []\nEmpty DataFrame\nColumns: [1, 956]\nIndex: []\nEmpty DataFrame\nColumns: []\nIndex: []\nEmpty DataFrame\nColumns: [1, 957]\nIndex: []\nEmpty DataFrame\nColumns: []\nIndex: []\nEmpty DataFrame\nColumns: [1, 958]\nIndex: []\nEmpty DataFrame\nColumns: []\nIndex: []\nEmpty DataFrame\nColumns: [1, 959]\nIndex: []\nEmpty DataFrame\nColumns: []\nIndex: []\nEmpty DataFrame\nColumns: [1, 960]\nIndex: []\nEmpty DataFrame\nColumns: []\nIndex: []\nEmpty DataFrame\nColumns: [1, 961]\nIndex: []\nEmpty DataFrame\nColumns: []\nIndex: []\nEmpty DataFrame\nColumns: [1, 962]\nIndex: []\nEmpty DataFrame\nColumns: []\nIndex: []\nEmpty DataFrame\nColumns: [1, 963]\nIndex: []\nEmpty DataFrame\nColumns: []\nIndex: []\nEmpty DataFrame\nColumns: [1, 964]\nIndex: []\nEmpty DataFrame\nColumns: []\nIndex: []\nEmpty DataFrame\nColumns: [1, 965]\nIndex: []\nEmpty DataFrame\nColumns: []\nIndex: []\nEmpty DataFrame\nColumns: [1, 966]\nIndex: []\nEmpty DataFrame\nColumns: []\nIndex: []\nEmpty DataFrame\nColumns: [1, 967]\nIndex: []\nEmpty DataFrame\nColumns: []\nIndex: []\nEmpty DataFrame\nColumns: [1, 968]\nIndex: []\nEmpty DataFrame\nColumns: []\nIndex: []\nEmpty DataFrame\nColumns: [1, 969]\nIndex: []\nEmpty DataFrame\nColumns: []\nIndex: []\nEmpty DataFrame\nColumns: [1, 970]\nIndex: []\nEmpty DataFrame\nColumns: []\nIndex: []\nEmpty DataFrame\nColumns: [1, 971]\nIndex: []"
     ]
    },
    {
     "name": "stdout",
     "output_type": "stream",
     "text": [
      "\nEmpty DataFrame\nColumns: []\nIndex: []\nEmpty DataFrame\nColumns: [1, 972]\nIndex: []\nEmpty DataFrame\nColumns: []\nIndex: []\nEmpty DataFrame\nColumns: [1, 973]\nIndex: []\nEmpty DataFrame\nColumns: []\nIndex: []\nEmpty DataFrame\nColumns: [1, 974]\nIndex: []\nEmpty DataFrame\nColumns: []\nIndex: []\nEmpty DataFrame\nColumns: [1, 975]\nIndex: []\nEmpty DataFrame\nColumns: []\nIndex: []\nEmpty DataFrame\nColumns: [1, 976]\nIndex: []\nEmpty DataFrame\nColumns: []\nIndex: []\nEmpty DataFrame\nColumns: [1, 977]\nIndex: []\nEmpty DataFrame\nColumns: []\nIndex: []\nEmpty DataFrame\nColumns: [1, 978]\nIndex: []\nEmpty DataFrame\nColumns: []\nIndex: []\nEmpty DataFrame\nColumns: [1, 979]\nIndex: []\n     979\n979  NaN\nEmpty DataFrame\nColumns: [1, 980]\nIndex: []\nEmpty DataFrame\nColumns: []\nIndex: []\nEmpty DataFrame\nColumns: [1, 981]\nIndex: []\n     981\n981  NaN\nEmpty DataFrame\nColumns: [1, 982]\nIndex: []\n     982\n982  NaN\nEmpty DataFrame\nColumns: [1, 983]\nIndex: []\nEmpty DataFrame\nColumns: []\nIndex: []\nEmpty DataFrame\nColumns: [1, 984]\nIndex: []\nEmpty DataFrame\nColumns: []\nIndex: []\nEmpty DataFrame\nColumns: [1, 985]\nIndex: []\nEmpty DataFrame\nColumns: []\nIndex: []\nEmpty DataFrame\nColumns: [1, 986]\nIndex: []\n     986\n986  NaN\nEmpty DataFrame\nColumns: [1, 987]\nIndex: []\nEmpty DataFrame\nColumns: []\nIndex: []\n"
     ]
    },
    {
     "name": "stdout",
     "output_type": "stream",
     "text": [
      "Empty DataFrame\nColumns: [1, 988]\nIndex: []\nEmpty DataFrame\nColumns: []\nIndex: []\nEmpty DataFrame\nColumns: [1, 989]\nIndex: []\n     989\n989  NaN\nEmpty DataFrame\nColumns: [1, 990]\nIndex: []\nEmpty DataFrame\nColumns: []\nIndex: []\nEmpty DataFrame\nColumns: [1, 991]\nIndex: []\n     991\n991  NaN\nEmpty DataFrame\nColumns: [1, 992]\nIndex: []\n     992\n992  NaN\nEmpty DataFrame\nColumns: [1, 993]\nIndex: []\nEmpty DataFrame\nColumns: []\nIndex: []\nEmpty DataFrame\nColumns: [1, 994]\nIndex: []\nEmpty DataFrame\nColumns: []\nIndex: []\nEmpty DataFrame\nColumns: [1, 995]\nIndex: []\nEmpty DataFrame\nColumns: []\nIndex: []\nEmpty DataFrame\nColumns: [1, 996]\nIndex: []\nEmpty DataFrame\nColumns: []\nIndex: []\nEmpty DataFrame\nColumns: [1, 997]\nIndex: []\n     997\n997  NaN\nEmpty DataFrame\nColumns: [1, 998]\nIndex: []\n     998\n998  NaN\nEmpty DataFrame\nColumns: [1, 999]\nIndex: []\nEmpty DataFrame\nColumns: []\nIndex: []\nEmpty DataFrame\nColumns: [1, 1000]\nIndex: []\nEmpty DataFrame\nColumns: []\nIndex: []\nEmpty DataFrame\nColumns: [1, 1001]\nIndex: []\nEmpty DataFrame\nColumns: []\nIndex: []\nEmpty DataFrame\nColumns: [1, 1002]\nIndex: []\nEmpty DataFrame\nColumns: []\nIndex: []\nEmpty DataFrame\nColumns: [1, 1003]\nIndex: []\n      1003\n1003   NaN\n"
     ]
    },
    {
     "name": "stdout",
     "output_type": "stream",
     "text": [
      "Empty DataFrame\nColumns: [1, 1004]\nIndex: []\n      1004\n1004   NaN\nEmpty DataFrame\nColumns: [1, 1005]\nIndex: []\n      1005\n1005   NaN\nEmpty DataFrame\nColumns: [1, 1006]\nIndex: []\n      1006\n1006   NaN\nEmpty DataFrame\nColumns: [1, 1007]\nIndex: []\n      1007\n1007   NaN\nEmpty DataFrame\nColumns: [1, 1008]\nIndex: []\nEmpty DataFrame\nColumns: []\nIndex: []\nEmpty DataFrame\nColumns: [1, 1009]\nIndex: []\n      1009\n1009   NaN\nEmpty DataFrame\nColumns: [1, 1010]\nIndex: []\n      1010\n1010   NaN\nEmpty DataFrame\nColumns: [1, 1011]\nIndex: []\nEmpty DataFrame\nColumns: []\nIndex: []\nEmpty DataFrame\nColumns: [1, 1012]\nIndex: []\n      1012\n1012   NaN\nEmpty DataFrame\nColumns: [1, 1013]\nIndex: []\nEmpty DataFrame\nColumns: []\nIndex: []\nEmpty DataFrame\nColumns: [1, 1014]\nIndex: []\n      1014\n1014   NaN\nEmpty DataFrame\nColumns: [1, 1015]\nIndex: []\n      1015\n1015   NaN\nEmpty DataFrame\nColumns: [1, 1016]\nIndex: []\n      1016\n1016   NaN\nEmpty DataFrame\nColumns: [1, 1017]\nIndex: []\nEmpty DataFrame\nColumns: []\nIndex: []\nEmpty DataFrame\nColumns: [1, 1018]\nIndex: []\nEmpty DataFrame\nColumns: []\nIndex: []\nEmpty DataFrame\nColumns: [1, 1019]\nIndex: []\nEmpty DataFrame\nColumns: []\nIndex: []\nEmpty DataFrame\nColumns: [1, 1020]\nIndex: []\n      1020\n1020   NaN\n"
     ]
    },
    {
     "name": "stdout",
     "output_type": "stream",
     "text": [
      "Empty DataFrame\nColumns: [1, 1021]\nIndex: []\nEmpty DataFrame\nColumns: []\nIndex: []\nEmpty DataFrame\nColumns: [1, 1022]\nIndex: []\nEmpty DataFrame\nColumns: []\nIndex: []\nEmpty DataFrame\nColumns: [1, 1023]\nIndex: []\n      1023\n1023   NaN\nEmpty DataFrame\nColumns: [1, 1024]\nIndex: []\n      1024\n1024   NaN\nEmpty DataFrame\nColumns: [1, 1025]\nIndex: []\n      1025\n1025   NaN\nEmpty DataFrame\nColumns: [1, 1026]\nIndex: []\n      1026\n1026   NaN\nEmpty DataFrame\nColumns: [1, 1027]\nIndex: []\n      1027\n1027   NaN\nEmpty DataFrame\nColumns: [1, 1028]\nIndex: []\n      1028\n1028   NaN\nEmpty DataFrame\nColumns: [1, 1029]\nIndex: []\n      1029\n1029   NaN\nEmpty DataFrame\nColumns: [1, 1030]\nIndex: []\n      1030\n1030   NaN\nEmpty DataFrame\nColumns: [1, 1031]\nIndex: []\n      1031\n1031   NaN\nEmpty DataFrame\nColumns: [1, 1032]\nIndex: []\n      1032\n1032   NaN\nEmpty DataFrame\nColumns: [1, 1033]\nIndex: []\nEmpty DataFrame\nColumns: []\nIndex: []\nEmpty DataFrame\nColumns: [1, 1034]\nIndex: []\nEmpty DataFrame\nColumns: []\nIndex: []\nEmpty DataFrame\nColumns: [1, 1035]\nIndex: []\n      1035\n1035   NaN\n"
     ]
    },
    {
     "name": "stdout",
     "output_type": "stream",
     "text": [
      "Empty DataFrame\nColumns: [1, 1036]\nIndex: []\n      1036\n1036   NaN\nEmpty DataFrame\nColumns: [1, 1037]\nIndex: []\n      1037\n1037   NaN\nEmpty DataFrame\nColumns: [1, 1038]\nIndex: []\n      1038\n1038   NaN\nEmpty DataFrame\nColumns: [2, 3]\nIndex: []\n    3\n3 NaN\nEmpty DataFrame\nColumns: [2, 4]\nIndex: []\nEmpty DataFrame\nColumns: []\nIndex: []\nEmpty DataFrame\nColumns: [2, 5]\nIndex: []\nEmpty DataFrame\nColumns: []\nIndex: []\nEmpty DataFrame\nColumns: [2, 6]\nIndex: []\nEmpty DataFrame\nColumns: []\nIndex: []\nEmpty DataFrame\nColumns: [2, 7]\nIndex: []\nEmpty DataFrame\nColumns: []\nIndex: []\nEmpty DataFrame\nColumns: [2, 8]\nIndex: []\nEmpty DataFrame\nColumns: []\nIndex: []\nEmpty DataFrame\nColumns: [2, 9]\nIndex: []\nEmpty DataFrame\nColumns: []\nIndex: []\nEmpty DataFrame\nColumns: [2, 10]\nIndex: []\nEmpty DataFrame\nColumns: []\nIndex: []\nEmpty DataFrame\nColumns: [2, 11]\nIndex: []\nEmpty DataFrame\nColumns: []\nIndex: []\nEmpty DataFrame\nColumns: [2, 12]\nIndex: []\nEmpty DataFrame\nColumns: []\nIndex: []\nEmpty DataFrame\nColumns: [2, 13]\nIndex: []\nEmpty DataFrame\nColumns: []\nIndex: []\nEmpty DataFrame\nColumns: [2, 14]\nIndex: []\nEmpty DataFrame\nColumns: []\nIndex: []\nEmpty DataFrame\nColumns: [2, 15]\nIndex: []\nEmpty DataFrame\nColumns: []\nIndex: []\nEmpty DataFrame\nColumns: [2, 16]\nIndex: []"
     ]
    },
    {
     "name": "stdout",
     "output_type": "stream",
     "text": [
      "\nEmpty DataFrame\nColumns: []\nIndex: []\nEmpty DataFrame\nColumns: [2, 17]\nIndex: []\nEmpty DataFrame\nColumns: []\nIndex: []\nEmpty DataFrame\nColumns: [2, 18]\nIndex: []\nEmpty DataFrame\nColumns: []\nIndex: []\nEmpty DataFrame\nColumns: [2, 19]\nIndex: []\n    19\n19 NaN\nEmpty DataFrame\nColumns: [2, 20]\nIndex: []\nEmpty DataFrame\nColumns: []\nIndex: []\nEmpty DataFrame\nColumns: [2, 21]\nIndex: []\nEmpty DataFrame\nColumns: []\nIndex: []\nEmpty DataFrame\nColumns: [2, 22]\nIndex: []\nEmpty DataFrame\nColumns: []\nIndex: []\nEmpty DataFrame\nColumns: [2, 23]\nIndex: []\nEmpty DataFrame\nColumns: []\nIndex: []\nEmpty DataFrame\nColumns: [2, 24]\nIndex: []\nEmpty DataFrame\nColumns: []\nIndex: []\nEmpty DataFrame\nColumns: [2, 25]\nIndex: []\n    25\n25 NaN\nEmpty DataFrame\nColumns: [2, 26]\nIndex: []\nEmpty DataFrame\nColumns: []\nIndex: []\nEmpty DataFrame\nColumns: [2, 27]\nIndex: []\nEmpty DataFrame\nColumns: []\nIndex: []\nEmpty DataFrame\nColumns: [2, 28]\nIndex: []\nEmpty DataFrame\nColumns: []\nIndex: []\nEmpty DataFrame\nColumns: [2, 29]\nIndex: []\nEmpty DataFrame\nColumns: []\nIndex: []\nEmpty DataFrame\nColumns: [2, 30]\nIndex: []\nEmpty DataFrame\nColumns: []\nIndex: []\nEmpty DataFrame\nColumns: [2, 31]\nIndex: []\nEmpty DataFrame\nColumns: []\nIndex: []\n"
     ]
    },
    {
     "name": "stdout",
     "output_type": "stream",
     "text": [
      "Empty DataFrame\nColumns: [2, 32]\nIndex: []\nEmpty DataFrame\nColumns: []\nIndex: []\nEmpty DataFrame\nColumns: [2, 33]\nIndex: []\n    33\n33 NaN\nEmpty DataFrame\nColumns: [2, 34]\nIndex: []\n    34\n34 NaN\nEmpty DataFrame\nColumns: [2, 35]\nIndex: []\n    35\n35 NaN\nEmpty DataFrame\nColumns: [2, 36]\nIndex: []\n    36\n36 NaN\nEmpty DataFrame\nColumns: [2, 37]\nIndex: []\n    37\n37 NaN\nEmpty DataFrame\nColumns: [2, 38]\nIndex: []\n    38\n38 NaN\nEmpty DataFrame\nColumns: [2, 39]\nIndex: []\n    39\n39 NaN\nEmpty DataFrame\nColumns: [2, 40]\nIndex: []\n    40\n40 NaN\nEmpty DataFrame\nColumns: [2, 41]\nIndex: []\nEmpty DataFrame\nColumns: []\nIndex: []\nEmpty DataFrame\nColumns: [2, 42]\nIndex: []\nEmpty DataFrame\nColumns: []\nIndex: []\nEmpty DataFrame\nColumns: [2, 43]\nIndex: []\nEmpty DataFrame\nColumns: []\nIndex: []\nEmpty DataFrame\nColumns: [2, 44]\nIndex: []\nEmpty DataFrame\nColumns: []\nIndex: []\nEmpty DataFrame\nColumns: [2, 45]\nIndex: []\nEmpty DataFrame\nColumns: []\nIndex: []\nEmpty DataFrame\nColumns: [2, 46]\nIndex: []\nEmpty DataFrame\nColumns: []\nIndex: []\nEmpty DataFrame\nColumns: [2, 47]\nIndex: []\nEmpty DataFrame\nColumns: []\nIndex: []\n"
     ]
    },
    {
     "name": "stdout",
     "output_type": "stream",
     "text": [
      "Empty DataFrame\nColumns: [2, 48]\nIndex: []\nEmpty DataFrame\nColumns: []\nIndex: []\nEmpty DataFrame\nColumns: [2, 49]\nIndex: []\n    49\n49 NaN\nEmpty DataFrame\nColumns: [2, 50]\nIndex: []\nEmpty DataFrame\nColumns: []\nIndex: []\nEmpty DataFrame\nColumns: [2, 51]\nIndex: []\nEmpty DataFrame\nColumns: []\nIndex: []\nEmpty DataFrame\nColumns: [2, 52]\nIndex: []\nEmpty DataFrame\nColumns: []\nIndex: []\nEmpty DataFrame\nColumns: [2, 53]\nIndex: []\nEmpty DataFrame\nColumns: []\nIndex: []\nEmpty DataFrame\nColumns: [2, 54]\nIndex: []\nEmpty DataFrame\nColumns: []\nIndex: []\nEmpty DataFrame\nColumns: [2, 55]\nIndex: []\nEmpty DataFrame\nColumns: []\nIndex: []\nEmpty DataFrame\nColumns: [2, 56]\nIndex: []\nEmpty DataFrame\nColumns: []\nIndex: []\nEmpty DataFrame\nColumns: [2, 57]\nIndex: []\nEmpty DataFrame\nColumns: []\nIndex: []\nEmpty DataFrame\nColumns: [2, 58]\nIndex: []\nEmpty DataFrame\nColumns: []\nIndex: []\nEmpty DataFrame\nColumns: [2, 59]\nIndex: []\nEmpty DataFrame\nColumns: []\nIndex: []\nEmpty DataFrame\nColumns: [2, 60]\nIndex: []\nEmpty DataFrame\nColumns: []\nIndex: []\nEmpty DataFrame\nColumns: [2, 61]\nIndex: []\nEmpty DataFrame\nColumns: []\nIndex: []\nEmpty DataFrame\nColumns: [2, 62]\nIndex: []\nEmpty DataFrame\nColumns: []\nIndex: []\nEmpty DataFrame\nColumns: [2, 63]\nIndex: []\nEmpty DataFrame\nColumns: []\nIndex: []\n"
     ]
    },
    {
     "name": "stdout",
     "output_type": "stream",
     "text": [
      "Empty DataFrame\nColumns: [2, 64]\nIndex: []\nEmpty DataFrame\nColumns: []\nIndex: []\nEmpty DataFrame\nColumns: [2, 65]\nIndex: []\nEmpty DataFrame\nColumns: []\nIndex: []\nEmpty DataFrame\nColumns: [2, 66]\nIndex: []\nEmpty DataFrame\nColumns: []\nIndex: []\nEmpty DataFrame\nColumns: [2, 67]\nIndex: []\nEmpty DataFrame\nColumns: []\nIndex: []\nEmpty DataFrame\nColumns: [2, 68]\nIndex: []\nEmpty DataFrame\nColumns: []\nIndex: []\nEmpty DataFrame\nColumns: [2, 69]\nIndex: []\n    69\n69 NaN\nEmpty DataFrame\nColumns: [2, 70]\nIndex: []\n    70\n70 NaN\nEmpty DataFrame\nColumns: [2, 71]\nIndex: []\nEmpty DataFrame\nColumns: []\nIndex: []\nEmpty DataFrame\nColumns: [2, 72]\nIndex: []\nEmpty DataFrame\nColumns: []\nIndex: []\nEmpty DataFrame\nColumns: [2, 73]\nIndex: []\nEmpty DataFrame\nColumns: []\nIndex: []\nEmpty DataFrame\nColumns: [2, 74]\nIndex: []\n    74\n74 NaN\nEmpty DataFrame\nColumns: [2, 75]\nIndex: []\nEmpty DataFrame\nColumns: []\nIndex: []\nEmpty DataFrame\nColumns: [2, 76]\nIndex: []\nEmpty DataFrame\nColumns: []\nIndex: []\nEmpty DataFrame\nColumns: [2, 77]\nIndex: []\n    77\n77 NaN\nEmpty DataFrame\nColumns: [2, 78]\nIndex: []\n    78\n78 NaN\nEmpty DataFrame\nColumns: [2, 79]\nIndex: []\nEmpty DataFrame\nColumns: []\nIndex: []\n"
     ]
    },
    {
     "name": "stdout",
     "output_type": "stream",
     "text": [
      "Empty DataFrame\nColumns: [2, 80]\nIndex: []\nEmpty DataFrame\nColumns: []\nIndex: []\nEmpty DataFrame\nColumns: [2, 81]\nIndex: []\nEmpty DataFrame\nColumns: []\nIndex: []\nEmpty DataFrame\nColumns: [2, 82]\nIndex: []\n    82\n82 NaN\nEmpty DataFrame\nColumns: [2, 83]\nIndex: []\nEmpty DataFrame\nColumns: []\nIndex: []\nEmpty DataFrame\nColumns: [2, 84]\nIndex: []\nEmpty DataFrame\nColumns: []\nIndex: []\nEmpty DataFrame\nColumns: [2, 85]\nIndex: []\n    85\n85 NaN\nEmpty DataFrame\nColumns: [2, 86]\nIndex: []\n    86\n86 NaN\nEmpty DataFrame\nColumns: [2, 87]\nIndex: []\n    87\n87 NaN\nEmpty DataFrame\nColumns: [2, 88]\nIndex: []\nEmpty DataFrame\nColumns: []\nIndex: []\nEmpty DataFrame\nColumns: [2, 89]\nIndex: []\nEmpty DataFrame\nColumns: []\nIndex: []\nEmpty DataFrame\nColumns: [2, 90]\nIndex: []\nEmpty DataFrame\nColumns: []\nIndex: []\nEmpty DataFrame\nColumns: [2, 91]\nIndex: []\nEmpty DataFrame\nColumns: []\nIndex: []\nEmpty DataFrame\nColumns: [2, 92]\nIndex: []\nEmpty DataFrame\nColumns: []\nIndex: []\nEmpty DataFrame\nColumns: [2, 93]\nIndex: []\nEmpty DataFrame\nColumns: []\nIndex: []\nEmpty DataFrame\nColumns: [2, 94]\nIndex: []\n    94\n94 NaN\nEmpty DataFrame\nColumns: [2, 95]\nIndex: []\n    95\n95 NaN\n"
     ]
    },
    {
     "name": "stdout",
     "output_type": "stream",
     "text": [
      "Empty DataFrame\nColumns: [2, 96]\nIndex: []\nEmpty DataFrame\nColumns: []\nIndex: []\nEmpty DataFrame\nColumns: [2, 97]\nIndex: []\n    97\n97 NaN\nEmpty DataFrame\nColumns: [2, 98]\nIndex: []\n    98\n98 NaN\nEmpty DataFrame\nColumns: [2, 99]\nIndex: []\nEmpty DataFrame\nColumns: []\nIndex: []\nEmpty DataFrame\nColumns: [2, 100]\nIndex: []\n     100\n100  NaN\nEmpty DataFrame\nColumns: [2, 101]\nIndex: []\nEmpty DataFrame\nColumns: []\nIndex: []\nEmpty DataFrame\nColumns: [2, 102]\nIndex: []\nEmpty DataFrame\nColumns: []\nIndex: []\nEmpty DataFrame\nColumns: [2, 103]\nIndex: []\nEmpty DataFrame\nColumns: []\nIndex: []\nEmpty DataFrame\nColumns: [2, 104]\nIndex: []\nEmpty DataFrame\nColumns: []\nIndex: []\nEmpty DataFrame\nColumns: [2, 105]\nIndex: []\n     105\n105  NaN\nEmpty DataFrame\nColumns: [2, 106]\nIndex: []\n     106\n106  NaN\nEmpty DataFrame\nColumns: [2, 107]\nIndex: []\n     107\n107  NaN\nEmpty DataFrame\nColumns: [2, 108]\nIndex: []\n     108\n108  NaN\nEmpty DataFrame\nColumns: [2, 109]\nIndex: []\n     109\n109  NaN\nEmpty DataFrame\nColumns: [2, 110]\nIndex: []\n     110\n110  NaN\nEmpty DataFrame\nColumns: [2, 111]\nIndex: []\n     111\n111  NaN"
     ]
    },
    {
     "name": "stdout",
     "output_type": "stream",
     "text": [
      "\nEmpty DataFrame\nColumns: [2, 112]\nIndex: []\nEmpty DataFrame\nColumns: []\nIndex: []\nEmpty DataFrame\nColumns: [2, 113]\nIndex: []\nEmpty DataFrame\nColumns: []\nIndex: []\nEmpty DataFrame\nColumns: [2, 114]\nIndex: []\nEmpty DataFrame\nColumns: []\nIndex: []\nEmpty DataFrame\nColumns: [2, 115]\nIndex: []\nEmpty DataFrame\nColumns: []\nIndex: []\nEmpty DataFrame\nColumns: [2, 116]\nIndex: []\nEmpty DataFrame\nColumns: []\nIndex: []\nEmpty DataFrame\nColumns: [2, 117]\nIndex: []\n     117\n117  NaN\nEmpty DataFrame\nColumns: [2, 118]\nIndex: []\n     118\n118  NaN\nEmpty DataFrame\nColumns: [2, 119]\nIndex: []\n     119\n119  NaN\nEmpty DataFrame\nColumns: [2, 120]\nIndex: []\n     120\n120  NaN\nEmpty DataFrame\nColumns: [2, 121]\nIndex: []\n     121\n121  NaN\nEmpty DataFrame\nColumns: [2, 122]\nIndex: []\n     122\n122  NaN\nEmpty DataFrame\nColumns: [2, 123]\nIndex: []\n     123\n123  NaN\nEmpty DataFrame\nColumns: [2, 124]\nIndex: []\n     124\n124  NaN\nEmpty DataFrame\nColumns: [2, 125]\nIndex: []\n     125\n125  NaN\nEmpty DataFrame\nColumns: [2, 126]\nIndex: []\nEmpty DataFrame\nColumns: []\nIndex: []\nEmpty DataFrame\nColumns: [2, 127]\nIndex: []\nEmpty DataFrame\nColumns: []\nIndex: []\nEmpty DataFrame\nColumns: [2, 128]\nIndex: []"
     ]
    },
    {
     "name": "stdout",
     "output_type": "stream",
     "text": [
      "\nEmpty DataFrame\nColumns: []\nIndex: []\nEmpty DataFrame\nColumns: [2, 129]\nIndex: []\nEmpty DataFrame\nColumns: []\nIndex: []\nEmpty DataFrame\nColumns: [2, 130]\nIndex: []\n     130\n130  NaN\nEmpty DataFrame\nColumns: [2, 131]\nIndex: []\nEmpty DataFrame\nColumns: []\nIndex: []\nEmpty DataFrame\nColumns: [2, 132]\nIndex: []\nEmpty DataFrame\nColumns: []\nIndex: []\nEmpty DataFrame\nColumns: [2, 133]\nIndex: []\nEmpty DataFrame\nColumns: []\nIndex: []\nEmpty DataFrame\nColumns: [2, 134]\nIndex: []\nEmpty DataFrame\nColumns: []\nIndex: []\nEmpty DataFrame\nColumns: [2, 135]\nIndex: []\nEmpty DataFrame\nColumns: []\nIndex: []\nEmpty DataFrame\nColumns: [2, 136]\nIndex: []\nEmpty DataFrame\nColumns: []\nIndex: []\nEmpty DataFrame\nColumns: [2, 137]\nIndex: []\nEmpty DataFrame\nColumns: []\nIndex: []\nEmpty DataFrame\nColumns: [2, 138]\nIndex: []\nEmpty DataFrame\nColumns: []\nIndex: []\nEmpty DataFrame\nColumns: [2, 139]\nIndex: []\nEmpty DataFrame\nColumns: []\nIndex: []\nEmpty DataFrame\nColumns: [2, 140]\nIndex: []\nEmpty DataFrame\nColumns: []\nIndex: []\nEmpty DataFrame\nColumns: [2, 141]\nIndex: []\nEmpty DataFrame\nColumns: []\nIndex: []\nEmpty DataFrame\nColumns: [2, 142]\nIndex: []\nEmpty DataFrame\nColumns: []\nIndex: []\nEmpty DataFrame\nColumns: [2, 143]\nIndex: []\nEmpty DataFrame\nColumns: []\nIndex: []\nEmpty DataFrame\nColumns: [2, 144]\nIndex: []\nEmpty DataFrame\nColumns: []\nIndex: []\n"
     ]
    },
    {
     "name": "stdout",
     "output_type": "stream",
     "text": [
      "Empty DataFrame\nColumns: [2, 145]\nIndex: []\nEmpty DataFrame\nColumns: []\nIndex: []\nEmpty DataFrame\nColumns: [2, 146]\nIndex: []\nEmpty DataFrame\nColumns: []\nIndex: []\nEmpty DataFrame\nColumns: [2, 147]\nIndex: []\nEmpty DataFrame\nColumns: []\nIndex: []\nEmpty DataFrame\nColumns: [2, 148]\nIndex: []\nEmpty DataFrame\nColumns: []\nIndex: []\nEmpty DataFrame\nColumns: [2, 149]\nIndex: []\nEmpty DataFrame\nColumns: []\nIndex: []\nEmpty DataFrame\nColumns: [2, 150]\nIndex: []\nEmpty DataFrame\nColumns: []\nIndex: []\nEmpty DataFrame\nColumns: [2, 151]\nIndex: []\nEmpty DataFrame\nColumns: []\nIndex: []\nEmpty DataFrame\nColumns: [2, 152]\nIndex: []\n     152\n152  NaN\nEmpty DataFrame\nColumns: [2, 153]\nIndex: []\n     153\n153  NaN\nEmpty DataFrame\nColumns: [2, 154]\nIndex: []\n     154\n154  NaN\nEmpty DataFrame\nColumns: [2, 155]\nIndex: []\nEmpty DataFrame\nColumns: []\nIndex: []\nEmpty DataFrame\nColumns: [2, 156]\nIndex: []\nEmpty DataFrame\nColumns: []\nIndex: []\nEmpty DataFrame\nColumns: [2, 157]\nIndex: []\nEmpty DataFrame\nColumns: []\nIndex: []\nEmpty DataFrame\nColumns: [2, 158]\nIndex: []\nEmpty DataFrame\nColumns: []\nIndex: []\nEmpty DataFrame\nColumns: [2, 159]\nIndex: []\nEmpty DataFrame\nColumns: []\nIndex: []\nEmpty DataFrame\nColumns: [2, 160]\nIndex: []\nEmpty DataFrame\nColumns: []\nIndex: []\nEmpty DataFrame\nColumns: [2, 161]\nIndex: []\nEmpty DataFrame\nColumns: []\nIndex: []\n"
     ]
    },
    {
     "name": "stdout",
     "output_type": "stream",
     "text": [
      "Empty DataFrame\nColumns: [2, 162]\nIndex: []\n     162\n162  NaN\nEmpty DataFrame\nColumns: [2, 163]\nIndex: []\nEmpty DataFrame\nColumns: []\nIndex: []\nEmpty DataFrame\nColumns: [2, 164]\nIndex: []\nEmpty DataFrame\nColumns: []\nIndex: []\nEmpty DataFrame\nColumns: [2, 165]\nIndex: []\n     165\n165  NaN\nEmpty DataFrame\nColumns: [2, 166]\nIndex: []\nEmpty DataFrame\nColumns: []\nIndex: []\nEmpty DataFrame\nColumns: [2, 167]\nIndex: []\nEmpty DataFrame\nColumns: []\nIndex: []\nEmpty DataFrame\nColumns: [2, 168]\nIndex: []\nEmpty DataFrame\nColumns: []\nIndex: []\nEmpty DataFrame\nColumns: [2, 169]\nIndex: []\nEmpty DataFrame\nColumns: []\nIndex: []\nEmpty DataFrame\nColumns: [2, 170]\nIndex: []\nEmpty DataFrame\nColumns: []\nIndex: []\nEmpty DataFrame\nColumns: [2, 171]\nIndex: []\nEmpty DataFrame\nColumns: []\nIndex: []\nEmpty DataFrame\nColumns: [2, 172]\nIndex: []\nEmpty DataFrame\nColumns: []\nIndex: []\nEmpty DataFrame\nColumns: [2, 173]\nIndex: []\nEmpty DataFrame\nColumns: []\nIndex: []\nEmpty DataFrame\nColumns: [2, 174]\nIndex: []\nEmpty DataFrame\nColumns: []\nIndex: []\nEmpty DataFrame\nColumns: [2, 175]\nIndex: []\nEmpty DataFrame\nColumns: []\nIndex: []\nEmpty DataFrame\nColumns: [2, 176]\nIndex: []\n     176\n176  NaN\n"
     ]
    },
    {
     "name": "stdout",
     "output_type": "stream",
     "text": [
      "Empty DataFrame\nColumns: [2, 177]\nIndex: []\nEmpty DataFrame\nColumns: []\nIndex: []\nEmpty DataFrame\nColumns: [2, 178]\nIndex: []\nEmpty DataFrame\nColumns: []\nIndex: []\nEmpty DataFrame\nColumns: [2, 179]\nIndex: []\nEmpty DataFrame\nColumns: []\nIndex: []\nEmpty DataFrame\nColumns: [2, 180]\nIndex: []\nEmpty DataFrame\nColumns: []\nIndex: []\nEmpty DataFrame\nColumns: [2, 181]\nIndex: []\nEmpty DataFrame\nColumns: []\nIndex: []\nEmpty DataFrame\nColumns: [2, 182]\nIndex: []\nEmpty DataFrame\nColumns: []\nIndex: []\nEmpty DataFrame\nColumns: [2, 183]\nIndex: []\n     183\n183  NaN\nEmpty DataFrame\nColumns: [2, 184]\nIndex: []\nEmpty DataFrame\nColumns: []\nIndex: []\nEmpty DataFrame\nColumns: [2, 185]\nIndex: []\nEmpty DataFrame\nColumns: []\nIndex: []\nEmpty DataFrame\nColumns: [2, 186]\nIndex: []\nEmpty DataFrame\nColumns: []\nIndex: []\nEmpty DataFrame\nColumns: [2, 187]\nIndex: []\nEmpty DataFrame\nColumns: []\nIndex: []\nEmpty DataFrame\nColumns: [2, 188]\nIndex: []\nEmpty DataFrame\nColumns: []\nIndex: []\nEmpty DataFrame\nColumns: [2, 189]\nIndex: []\nEmpty DataFrame\nColumns: []\nIndex: []\nEmpty DataFrame\nColumns: [2, 190]\nIndex: []\nEmpty DataFrame\nColumns: []\nIndex: []\nEmpty DataFrame\nColumns: [2, 191]\nIndex: []\n     191\n191  NaN\nEmpty DataFrame\nColumns: [2, 192]\nIndex: []\n     192\n192  NaN\n"
     ]
    },
    {
     "name": "stdout",
     "output_type": "stream",
     "text": [
      "Empty DataFrame\nColumns: [2, 193]\nIndex: []\n     193\n193  NaN\nEmpty DataFrame\nColumns: [2, 194]\nIndex: []\n     194\n194  NaN\nEmpty DataFrame\nColumns: [2, 195]\nIndex: []\nEmpty DataFrame\nColumns: []\nIndex: []\nEmpty DataFrame\nColumns: [2, 196]\nIndex: []\n     196\n196  NaN\nEmpty DataFrame\nColumns: [2, 197]\nIndex: []\n     197\n197  NaN\nEmpty DataFrame\nColumns: [2, 198]\nIndex: []\n     198\n198  NaN\nEmpty DataFrame\nColumns: [2, 199]\nIndex: []\n     199\n199  NaN\nEmpty DataFrame\nColumns: [2, 200]\nIndex: []\n     200\n200  NaN\nEmpty DataFrame\nColumns: [2, 201]\nIndex: []\n     201\n201  NaN\nEmpty DataFrame\nColumns: [2, 202]\nIndex: []\nEmpty DataFrame\nColumns: []\nIndex: []\nEmpty DataFrame\nColumns: [2, 203]\nIndex: []\nEmpty DataFrame\nColumns: []\nIndex: []\nEmpty DataFrame\nColumns: [2, 204]\nIndex: []\nEmpty DataFrame\nColumns: []\nIndex: []\nEmpty DataFrame\nColumns: [2, 205]\nIndex: []\nEmpty DataFrame\nColumns: []\nIndex: []\nEmpty DataFrame\nColumns: [2, 206]\nIndex: []\nEmpty DataFrame\nColumns: []\nIndex: []\n"
     ]
    },
    {
     "name": "stdout",
     "output_type": "stream",
     "text": [
      "Empty DataFrame\nColumns: [2, 207]\nIndex: []\nEmpty DataFrame\nColumns: []\nIndex: []\nEmpty DataFrame\nColumns: [2, 208]\nIndex: []\nEmpty DataFrame\nColumns: []\nIndex: []\nEmpty DataFrame\nColumns: [2, 209]\nIndex: []\nEmpty DataFrame\nColumns: []\nIndex: []\nEmpty DataFrame\nColumns: [2, 210]\nIndex: []\nEmpty DataFrame\nColumns: []\nIndex: []\nEmpty DataFrame\nColumns: [2, 211]\nIndex: []\nEmpty DataFrame\nColumns: []\nIndex: []\nEmpty DataFrame\nColumns: [2, 212]\nIndex: []\nEmpty DataFrame\nColumns: []\nIndex: []\nEmpty DataFrame\nColumns: [2, 213]\nIndex: []\nEmpty DataFrame\nColumns: []\nIndex: []\nEmpty DataFrame\nColumns: [2, 214]\nIndex: []\nEmpty DataFrame\nColumns: []\nIndex: []\nEmpty DataFrame\nColumns: [2, 215]\nIndex: []\nEmpty DataFrame\nColumns: []\nIndex: []\nEmpty DataFrame\nColumns: [2, 216]\nIndex: []\nEmpty DataFrame\nColumns: []\nIndex: []\nEmpty DataFrame\nColumns: [2, 217]\nIndex: []\nEmpty DataFrame\nColumns: []\nIndex: []\nEmpty DataFrame\nColumns: [2, 218]\nIndex: []\n     218\n218  NaN\nEmpty DataFrame\nColumns: [2, 219]\nIndex: []\n     219\n219  NaN\nEmpty DataFrame\nColumns: [2, 220]\nIndex: []\n     220\n220  NaN\nEmpty DataFrame\nColumns: [2, 221]\nIndex: []\n     221\n221  NaN\nEmpty DataFrame\nColumns: [2, 222]\nIndex: []\n     222\n222  NaN"
     ]
    },
    {
     "name": "stdout",
     "output_type": "stream",
     "text": [
      "\nEmpty DataFrame\nColumns: [2, 223]\nIndex: []\nEmpty DataFrame\nColumns: []\nIndex: []\nEmpty DataFrame\nColumns: [2, 224]\nIndex: []\nEmpty DataFrame\nColumns: []\nIndex: []\nEmpty DataFrame\nColumns: [2, 225]\nIndex: []\nEmpty DataFrame\nColumns: []\nIndex: []\nEmpty DataFrame\nColumns: [2, 226]\nIndex: []\n     226\n226  NaN\nEmpty DataFrame\nColumns: [2, 227]\nIndex: []\n     227\n227  NaN\nEmpty DataFrame\nColumns: [2, 228]\nIndex: []\n     228\n228  NaN\nEmpty DataFrame\nColumns: [2, 229]\nIndex: []\nEmpty DataFrame\nColumns: []\nIndex: []\nEmpty DataFrame\nColumns: [2, 230]\nIndex: []\n     230\n230  NaN\nEmpty DataFrame\nColumns: [2, 231]\nIndex: []\n     231\n231  NaN\nEmpty DataFrame\nColumns: [2, 232]\nIndex: []\n     232\n232  NaN\nEmpty DataFrame\nColumns: [2, 233]\nIndex: []\nEmpty DataFrame\nColumns: []\nIndex: []\nEmpty DataFrame\nColumns: [2, 234]\nIndex: []\n     234\n234  NaN\nEmpty DataFrame\nColumns: [2, 235]\nIndex: []\n     235\n235  NaN\nEmpty DataFrame\nColumns: [2, 236]\nIndex: []\nEmpty DataFrame\nColumns: []\nIndex: []\nEmpty DataFrame\nColumns: [2, 237]\nIndex: []\n     237\n237  NaN\n"
     ]
    },
    {
     "name": "stdout",
     "output_type": "stream",
     "text": [
      "Empty DataFrame\nColumns: [2, 238]\nIndex: []\n     238\n238  NaN\nEmpty DataFrame\nColumns: [2, 239]\nIndex: []\nEmpty DataFrame\nColumns: []\nIndex: []\nEmpty DataFrame\nColumns: [2, 240]\nIndex: []\nEmpty DataFrame\nColumns: []\nIndex: []\nEmpty DataFrame\nColumns: [2, 241]\nIndex: []\nEmpty DataFrame\nColumns: []\nIndex: []\nEmpty DataFrame\nColumns: [2, 242]\nIndex: []\nEmpty DataFrame\nColumns: []\nIndex: []\nEmpty DataFrame\nColumns: [2, 243]\nIndex: []\nEmpty DataFrame\nColumns: []\nIndex: []\nEmpty DataFrame\nColumns: [2, 244]\nIndex: []\n     244\n244  NaN\nEmpty DataFrame\nColumns: [2, 245]\nIndex: []\nEmpty DataFrame\nColumns: []\nIndex: []\nEmpty DataFrame\nColumns: [2, 246]\nIndex: []\n     246\n246  NaN\nEmpty DataFrame\nColumns: [2, 247]\nIndex: []\n     247\n247  NaN\nEmpty DataFrame\nColumns: [2, 248]\nIndex: []\n     248\n248  NaN\nEmpty DataFrame\nColumns: [2, 249]\nIndex: []\nEmpty DataFrame\nColumns: []\nIndex: []\n"
     ]
    },
    {
     "name": "stdout",
     "output_type": "stream",
     "text": [
      "Empty DataFrame\nColumns: [2, 250]\nIndex: []\n     250\n250  NaN\nEmpty DataFrame\nColumns: [2, 251]\nIndex: []\n     251\n251  NaN\nEmpty DataFrame\nColumns: [2, 252]\nIndex: []\nEmpty DataFrame\nColumns: []\nIndex: []\nEmpty DataFrame\nColumns: [2, 253]\nIndex: []\n     253\n253  NaN\nEmpty DataFrame\nColumns: [2, 254]\nIndex: []\n     254\n254  NaN\nEmpty DataFrame\nColumns: [2, 255]\nIndex: []\nEmpty DataFrame\nColumns: []\nIndex: []\nEmpty DataFrame\nColumns: [2, 256]\nIndex: []\nEmpty DataFrame\nColumns: []\nIndex: []\nEmpty DataFrame\nColumns: [2, 257]\nIndex: []\n     257\n257  NaN\nEmpty DataFrame\nColumns: [2, 258]\nIndex: []\n     258\n258  NaN\nEmpty DataFrame\nColumns: [2, 259]\nIndex: []\nEmpty DataFrame\nColumns: []\nIndex: []\nEmpty DataFrame\nColumns: [2, 260]\nIndex: []\nEmpty DataFrame\nColumns: []\nIndex: []\nEmpty DataFrame\nColumns: [2, 261]\nIndex: []\nEmpty DataFrame\nColumns: []\nIndex: []\nEmpty DataFrame\nColumns: [2, 262]\nIndex: []\nEmpty DataFrame\nColumns: []\nIndex: []\nEmpty DataFrame\nColumns: [2, 263]\nIndex: []\nEmpty DataFrame\nColumns: []\nIndex: []\nEmpty DataFrame\nColumns: [2, 264]\nIndex: []\nEmpty DataFrame\nColumns: []\nIndex: []\nEmpty DataFrame\nColumns: [2, 265]\nIndex: []\nEmpty DataFrame\nColumns: []\nIndex: []\n"
     ]
    },
    {
     "name": "stdout",
     "output_type": "stream",
     "text": [
      "Empty DataFrame\nColumns: [2, 266]\nIndex: []\n     266\n266  NaN\nEmpty DataFrame\nColumns: [2, 267]\nIndex: []\n     267\n267  NaN\nEmpty DataFrame\nColumns: [2, 268]\nIndex: []\nEmpty DataFrame\nColumns: []\nIndex: []\nEmpty DataFrame\nColumns: [2, 269]\nIndex: []\nEmpty DataFrame\nColumns: []\nIndex: []\nEmpty DataFrame\nColumns: [2, 270]\nIndex: []\nEmpty DataFrame\nColumns: []\nIndex: []\nEmpty DataFrame\nColumns: [2, 271]\nIndex: []\n     271\n271  NaN\nEmpty DataFrame\nColumns: [2, 272]\nIndex: []\n     272\n272  NaN\nEmpty DataFrame\nColumns: [2, 273]\nIndex: []\nEmpty DataFrame\nColumns: []\nIndex: []\nEmpty DataFrame\nColumns: [2, 274]\nIndex: []\nEmpty DataFrame\nColumns: []\nIndex: []\nEmpty DataFrame\nColumns: [2, 275]\nIndex: []\nEmpty DataFrame\nColumns: []\nIndex: []\nEmpty DataFrame\nColumns: [2, 276]\nIndex: []\nEmpty DataFrame\nColumns: []\nIndex: []\nEmpty DataFrame\nColumns: [2, 277]\nIndex: []\nEmpty DataFrame\nColumns: []\nIndex: []\nEmpty DataFrame\nColumns: [2, 278]\nIndex: []\nEmpty DataFrame\nColumns: []\nIndex: []\nEmpty DataFrame\nColumns: [2, 279]\nIndex: []\n     279\n279  NaN\nEmpty DataFrame\nColumns: [2, 280]\nIndex: []"
     ]
    },
    {
     "name": "stdout",
     "output_type": "stream",
     "text": [
      "\nEmpty DataFrame\nColumns: []\nIndex: []\nEmpty DataFrame\nColumns: [2, 281]\nIndex: []\nEmpty DataFrame\nColumns: []\nIndex: []\nEmpty DataFrame\nColumns: [2, 282]\nIndex: []\nEmpty DataFrame\nColumns: []\nIndex: []\nEmpty DataFrame\nColumns: [2, 283]\nIndex: []\nEmpty DataFrame\nColumns: []\nIndex: []\nEmpty DataFrame\nColumns: [2, 284]\nIndex: []\nEmpty DataFrame\nColumns: []\nIndex: []\nEmpty DataFrame\nColumns: [2, 285]\nIndex: []\n     285\n285  NaN\nEmpty DataFrame\nColumns: [2, 286]\nIndex: []\nEmpty DataFrame\nColumns: []\nIndex: []\nEmpty DataFrame\nColumns: [2, 287]\nIndex: []\nEmpty DataFrame\nColumns: []\nIndex: []\nEmpty DataFrame\nColumns: [2, 288]\nIndex: []\nEmpty DataFrame\nColumns: []\nIndex: []\nEmpty DataFrame\nColumns: [2, 289]\nIndex: []\nEmpty DataFrame\nColumns: []\nIndex: []\nEmpty DataFrame\nColumns: [2, 290]\nIndex: []\n     290\n290  NaN\nEmpty DataFrame\nColumns: [2, 291]\nIndex: []\n     291\n291  NaN\nEmpty DataFrame\nColumns: [2, 292]\nIndex: []\nEmpty DataFrame\nColumns: []\nIndex: []\nEmpty DataFrame\nColumns: [2, 293]\nIndex: []\n     293\n293  NaN\nEmpty DataFrame\nColumns: [2, 294]\nIndex: []\nEmpty DataFrame\nColumns: []\nIndex: []\nEmpty DataFrame\nColumns: [2, 295]\nIndex: []\n     295\n295  NaN\nEmpty DataFrame\nColumns: [2, 296]\nIndex: []\n     296\n296  NaN\n"
     ]
    },
    {
     "name": "stdout",
     "output_type": "stream",
     "text": [
      "Empty DataFrame\nColumns: [2, 297]\nIndex: []\n     297\n297  NaN\nEmpty DataFrame\nColumns: [2, 298]\nIndex: []\nEmpty DataFrame\nColumns: []\nIndex: []\nEmpty DataFrame\nColumns: [2, 299]\nIndex: []\nEmpty DataFrame\nColumns: []\nIndex: []\nEmpty DataFrame\nColumns: [2, 300]\nIndex: []\nEmpty DataFrame\nColumns: []\nIndex: []\nEmpty DataFrame\nColumns: [2, 301]\nIndex: []\nEmpty DataFrame\nColumns: []\nIndex: []\nEmpty DataFrame\nColumns: [2, 302]\nIndex: []\nEmpty DataFrame\nColumns: []\nIndex: []\nEmpty DataFrame\nColumns: [2, 303]\nIndex: []\nEmpty DataFrame\nColumns: []\nIndex: []\nEmpty DataFrame\nColumns: [2, 304]\nIndex: []\nEmpty DataFrame\nColumns: []\nIndex: []\nEmpty DataFrame\nColumns: [2, 305]\nIndex: []\nEmpty DataFrame\nColumns: []\nIndex: []\nEmpty DataFrame\nColumns: [2, 306]\nIndex: []\nEmpty DataFrame\nColumns: []\nIndex: []\nEmpty DataFrame\nColumns: [2, 307]\nIndex: []\n     307\n307  NaN\nEmpty DataFrame\nColumns: [2, 308]\nIndex: []\n     308\n308  NaN\nEmpty DataFrame\nColumns: [2, 309]\nIndex: []\n     309\n309  NaN\nEmpty DataFrame\nColumns: [2, 310]\nIndex: []\n     310\n310  NaN\nEmpty DataFrame\nColumns: [2, 311]\nIndex: []\nEmpty DataFrame\nColumns: []\nIndex: []\nEmpty DataFrame\nColumns: [2, 312]\nIndex: []\nEmpty DataFrame\nColumns: []\nIndex: []\nEmpty DataFrame\nColumns: [2, 313]\nIndex: []\nEmpty DataFrame\nColumns: []\nIndex: []"
     ]
    },
    {
     "name": "stdout",
     "output_type": "stream",
     "text": [
      "\nEmpty DataFrame\nColumns: [2, 314]\nIndex: []\n     314\n314  NaN\nEmpty DataFrame\nColumns: [2, 315]\nIndex: []\n     315\n315  NaN\nEmpty DataFrame\nColumns: [2, 316]\nIndex: []\nEmpty DataFrame\nColumns: []\nIndex: []\nEmpty DataFrame\nColumns: [2, 317]\nIndex: []\nEmpty DataFrame\nColumns: []\nIndex: []\nEmpty DataFrame\nColumns: [2, 318]\nIndex: []\nEmpty DataFrame\nColumns: []\nIndex: []\nEmpty DataFrame\nColumns: [2, 319]\nIndex: []\n     319\n319  NaN\nEmpty DataFrame\nColumns: [2, 320]\nIndex: []\n     320\n320  NaN\nEmpty DataFrame\nColumns: [2, 321]\nIndex: []\n     321\n321  NaN\nEmpty DataFrame\nColumns: [2, 322]\nIndex: []\nEmpty DataFrame\nColumns: []\nIndex: []\nEmpty DataFrame\nColumns: [2, 323]\nIndex: []\nEmpty DataFrame\nColumns: []\nIndex: []\nEmpty DataFrame\nColumns: [2, 324]\nIndex: []\nEmpty DataFrame\nColumns: []\nIndex: []\nEmpty DataFrame\nColumns: [2, 325]\nIndex: []\nEmpty DataFrame\nColumns: []\nIndex: []\nEmpty DataFrame\nColumns: [2, 326]\nIndex: []\nEmpty DataFrame\nColumns: []\nIndex: []\nEmpty DataFrame\nColumns: [2, 327]\nIndex: []\nEmpty DataFrame\nColumns: []\nIndex: []\nEmpty DataFrame\nColumns: [2, 328]\nIndex: []\nEmpty DataFrame\nColumns: []\nIndex: []\nEmpty DataFrame\nColumns: [2, 329]\nIndex: []\nEmpty DataFrame\nColumns: []\nIndex: []\n"
     ]
    },
    {
     "name": "stdout",
     "output_type": "stream",
     "text": [
      "Empty DataFrame\nColumns: [2, 330]\nIndex: []\nEmpty DataFrame\nColumns: []\nIndex: []\nEmpty DataFrame\nColumns: [2, 331]\nIndex: []\nEmpty DataFrame\nColumns: []\nIndex: []\nEmpty DataFrame\nColumns: [2, 332]\nIndex: []\nEmpty DataFrame\nColumns: []\nIndex: []\nEmpty DataFrame\nColumns: [2, 333]\nIndex: []\n     333\n333  NaN\nEmpty DataFrame\nColumns: [2, 334]\nIndex: []\n     334\n334  NaN\nEmpty DataFrame\nColumns: [2, 335]\nIndex: []\nEmpty DataFrame\nColumns: []\nIndex: []\nEmpty DataFrame\nColumns: [2, 336]\nIndex: []\nEmpty DataFrame\nColumns: []\nIndex: []\nEmpty DataFrame\nColumns: [2, 337]\nIndex: []\n     337\n337  NaN\nEmpty DataFrame\nColumns: [2, 338]\nIndex: []\n     338\n338  NaN\nEmpty DataFrame\nColumns: [2, 339]\nIndex: []\n     339\n339  NaN\nEmpty DataFrame\nColumns: [2, 340]\nIndex: []\nEmpty DataFrame\nColumns: []\nIndex: []\nEmpty DataFrame\nColumns: [2, 341]\nIndex: []\nEmpty DataFrame\nColumns: []\nIndex: []\nEmpty DataFrame\nColumns: [2, 342]\nIndex: []\nEmpty DataFrame\nColumns: []\nIndex: []\nEmpty DataFrame\nColumns: [2, 343]\nIndex: []\nEmpty DataFrame\nColumns: []\nIndex: []\nEmpty DataFrame\nColumns: [2, 344]\nIndex: []\nEmpty DataFrame\nColumns: []\nIndex: []\nEmpty DataFrame\nColumns: [2, 345]\nIndex: []\n     345\n345  NaN\n"
     ]
    },
    {
     "name": "stdout",
     "output_type": "stream",
     "text": [
      "Empty DataFrame\nColumns: [2, 346]\nIndex: []\nEmpty DataFrame\nColumns: []\nIndex: []\nEmpty DataFrame\nColumns: [2, 347]\nIndex: []\nEmpty DataFrame\nColumns: []\nIndex: []\nEmpty DataFrame\nColumns: [2, 348]\nIndex: []\n     348\n348  NaN\nEmpty DataFrame\nColumns: [2, 349]\nIndex: []\nEmpty DataFrame\nColumns: []\nIndex: []\nEmpty DataFrame\nColumns: [2, 350]\nIndex: []\nEmpty DataFrame\nColumns: []\nIndex: []\nEmpty DataFrame\nColumns: [2, 351]\nIndex: []\n     351\n351  NaN\nEmpty DataFrame\nColumns: [2, 352]\nIndex: []\nEmpty DataFrame\nColumns: []\nIndex: []\nEmpty DataFrame\nColumns: [2, 353]\nIndex: []\nEmpty DataFrame\nColumns: []\nIndex: []\nEmpty DataFrame\nColumns: [2, 354]\nIndex: []\n     354\n354  NaN\nEmpty DataFrame\nColumns: [2, 355]\nIndex: []\n     355\n355  NaN\nEmpty DataFrame\nColumns: [2, 356]\nIndex: []\n     356\n356  NaN\n"
     ]
    },
    {
     "name": "stdout",
     "output_type": "stream",
     "text": [
      "Empty DataFrame\nColumns: [2, 357]\nIndex: []\n     357\n357  NaN\nEmpty DataFrame\nColumns: [2, 358]\nIndex: []\n     358\n358  NaN\nEmpty DataFrame\nColumns: [2, 359]\nIndex: []\n     359\n359  NaN\nEmpty DataFrame\nColumns: [2, 360]\nIndex: []\n     360\n360  NaN\nEmpty DataFrame\nColumns: [2, 361]\nIndex: []\n     361\n361  NaN\nEmpty DataFrame\nColumns: [2, 362]\nIndex: []\n     362\n362  NaN\nEmpty DataFrame\nColumns: [2, 363]\nIndex: []\nEmpty DataFrame\nColumns: []\nIndex: []\nEmpty DataFrame\nColumns: [2, 364]\nIndex: []\nEmpty DataFrame\nColumns: []\nIndex: []\nEmpty DataFrame\nColumns: [2, 365]\nIndex: []\nEmpty DataFrame\nColumns: []\nIndex: []\nEmpty DataFrame\nColumns: [2, 366]\nIndex: []\nEmpty DataFrame\nColumns: []\nIndex: []\nEmpty DataFrame\nColumns: [2, 367]\nIndex: []\n     367\n367  NaN\nEmpty DataFrame\nColumns: [2, 368]\nIndex: []\nEmpty DataFrame\nColumns: []\nIndex: []\nEmpty DataFrame\nColumns: [2, 369]\nIndex: []\n     369\n369  NaN\nEmpty DataFrame\nColumns: [2, 370]\nIndex: []\nEmpty DataFrame\nColumns: []\nIndex: []\nEmpty DataFrame\nColumns: [2, 371]\nIndex: []\nEmpty DataFrame\nColumns: []\nIndex: []\n"
     ]
    },
    {
     "name": "stdout",
     "output_type": "stream",
     "text": [
      "Empty DataFrame\nColumns: [2, 372]\nIndex: []\nEmpty DataFrame\nColumns: []\nIndex: []\nEmpty DataFrame\nColumns: [2, 373]\nIndex: []\nEmpty DataFrame\nColumns: []\nIndex: []\nEmpty DataFrame\nColumns: [2, 374]\nIndex: []\nEmpty DataFrame\nColumns: []\nIndex: []\nEmpty DataFrame\nColumns: [2, 375]\nIndex: []\n     375\n375  NaN\nEmpty DataFrame\nColumns: [2, 376]\nIndex: []\n     376\n376  NaN\nEmpty DataFrame\nColumns: [2, 377]\nIndex: []\nEmpty DataFrame\nColumns: []\nIndex: []\nEmpty DataFrame\nColumns: [2, 378]\nIndex: []\n     378\n378  NaN\nEmpty DataFrame\nColumns: [2, 379]\nIndex: []\nEmpty DataFrame\nColumns: []\nIndex: []\nEmpty DataFrame\nColumns: [2, 380]\nIndex: []\nEmpty DataFrame\nColumns: []\nIndex: []\nEmpty DataFrame\nColumns: [2, 381]\nIndex: []\nEmpty DataFrame\nColumns: []\nIndex: []\nEmpty DataFrame\nColumns: [2, 382]\nIndex: []\nEmpty DataFrame\nColumns: []\nIndex: []\nEmpty DataFrame\nColumns: [2, 383]\nIndex: []\nEmpty DataFrame\nColumns: []\nIndex: []\nEmpty DataFrame\nColumns: [2, 384]\nIndex: []\nEmpty DataFrame\nColumns: []\nIndex: []\nEmpty DataFrame\nColumns: [2, 385]\nIndex: []\nEmpty DataFrame\nColumns: []\nIndex: []\nEmpty DataFrame\nColumns: [2, 386]\nIndex: []\n     386\n386  NaN\nEmpty DataFrame\nColumns: [2, 387]\nIndex: []\n     387\n387  NaN\n"
     ]
    },
    {
     "name": "stdout",
     "output_type": "stream",
     "text": [
      "Empty DataFrame\nColumns: [2, 388]\nIndex: []\nEmpty DataFrame\nColumns: []\nIndex: []\nEmpty DataFrame\nColumns: [2, 389]\nIndex: []\nEmpty DataFrame\nColumns: []\nIndex: []\nEmpty DataFrame\nColumns: [2, 390]\nIndex: []\nEmpty DataFrame\nColumns: []\nIndex: []\nEmpty DataFrame\nColumns: [2, 391]\nIndex: []\nEmpty DataFrame\nColumns: []\nIndex: []\nEmpty DataFrame\nColumns: [2, 392]\nIndex: []\nEmpty DataFrame\nColumns: []\nIndex: []\nEmpty DataFrame\nColumns: [2, 393]\nIndex: []\nEmpty DataFrame\nColumns: []\nIndex: []\nEmpty DataFrame\nColumns: [2, 394]\nIndex: []\nEmpty DataFrame\nColumns: []\nIndex: []\nEmpty DataFrame\nColumns: [2, 395]\nIndex: []\nEmpty DataFrame\nColumns: []\nIndex: []\nEmpty DataFrame\nColumns: [2, 396]\nIndex: []\nEmpty DataFrame\nColumns: []\nIndex: []\nEmpty DataFrame\nColumns: [2, 397]\nIndex: []\nEmpty DataFrame\nColumns: []\nIndex: []\nEmpty DataFrame\nColumns: [2, 398]\nIndex: []\nEmpty DataFrame\nColumns: []\nIndex: []\nEmpty DataFrame\nColumns: [2, 399]\nIndex: []\n     399\n399  NaN\nEmpty DataFrame\nColumns: [2, 400]\nIndex: []\n     400\n400  NaN\nEmpty DataFrame\nColumns: [2, 401]\nIndex: []\nEmpty DataFrame\nColumns: []\nIndex: []\nEmpty DataFrame\nColumns: [2, 402]\nIndex: []\n     402\n402  NaN\nEmpty DataFrame\nColumns: [2, 403]\nIndex: []\n     403\n403  NaN\n"
     ]
    },
    {
     "name": "stdout",
     "output_type": "stream",
     "text": [
      "Empty DataFrame\nColumns: [2, 404]\nIndex: []\nEmpty DataFrame\nColumns: []\nIndex: []\nEmpty DataFrame\nColumns: [2, 405]\nIndex: []\nEmpty DataFrame\nColumns: []\nIndex: []\nEmpty DataFrame\nColumns: [2, 406]\nIndex: []\nEmpty DataFrame\nColumns: []\nIndex: []\nEmpty DataFrame\nColumns: [2, 407]\nIndex: []\n     407\n407  NaN\nEmpty DataFrame\nColumns: [2, 408]\nIndex: []\n     408\n408  NaN\nEmpty DataFrame\nColumns: [2, 409]\nIndex: []\n     409\n409  NaN\nEmpty DataFrame\nColumns: [2, 410]\nIndex: []\n     410\n410  NaN\nEmpty DataFrame\nColumns: [2, 411]\nIndex: []\n     411\n411  NaN\nEmpty DataFrame\nColumns: [2, 412]\nIndex: []\n     412\n412  NaN\nEmpty DataFrame\nColumns: [2, 413]\nIndex: []\n     413\n413  NaN\nEmpty DataFrame\nColumns: [2, 414]\nIndex: []\n     414\n414  NaN\nEmpty DataFrame\nColumns: [2, 415]\nIndex: []\n     415\n415  NaN\nEmpty DataFrame\nColumns: [2, 416]\nIndex: []\n     416\n416  NaN\nEmpty DataFrame\nColumns: [2, 417]\nIndex: []\n     417\n417  NaN\nEmpty DataFrame\nColumns: [2, 418]\nIndex: []\nEmpty DataFrame\nColumns: []\nIndex: []\nEmpty DataFrame\nColumns: [2, 419]\nIndex: []\nEmpty DataFrame\nColumns: []\nIndex: []\n"
     ]
    },
    {
     "name": "stdout",
     "output_type": "stream",
     "text": [
      "Empty DataFrame\nColumns: [2, 420]\nIndex: []\nEmpty DataFrame\nColumns: []\nIndex: []\nEmpty DataFrame\nColumns: [2, 421]\nIndex: []\n     421\n421  NaN\nEmpty DataFrame\nColumns: [2, 422]\nIndex: []\n     422\n422  NaN\nEmpty DataFrame\nColumns: [2, 423]\nIndex: []\n     423\n423  NaN\nEmpty DataFrame\nColumns: [2, 424]\nIndex: []\n     424\n424  NaN\nEmpty DataFrame\nColumns: [2, 425]\nIndex: []\nEmpty DataFrame\nColumns: []\nIndex: []\nEmpty DataFrame\nColumns: [2, 426]\nIndex: []\n     426\n426  NaN\nEmpty DataFrame\nColumns: [2, 427]\nIndex: []\nEmpty DataFrame\nColumns: []\nIndex: []\nEmpty DataFrame\nColumns: [2, 428]\nIndex: []\n     428\n428  NaN\nEmpty DataFrame\nColumns: [2, 429]\nIndex: []\n     429\n429  NaN\nEmpty DataFrame\nColumns: [2, 430]\nIndex: []\n     430\n430  NaN\nEmpty DataFrame\nColumns: [2, 431]\nIndex: []\nEmpty DataFrame\nColumns: []\nIndex: []\nEmpty DataFrame\nColumns: [2, 432]\nIndex: []\nEmpty DataFrame\nColumns: []\nIndex: []\nEmpty DataFrame\nColumns: [2, 433]\nIndex: []\n     433\n433  NaN\nEmpty DataFrame\nColumns: [2, 434]\nIndex: []\nEmpty DataFrame\nColumns: []\nIndex: []\nEmpty DataFrame\nColumns: [2, 435]\nIndex: []"
     ]
    },
    {
     "name": "stdout",
     "output_type": "stream",
     "text": [
      "\n     435\n435  NaN\nEmpty DataFrame\nColumns: [2, 436]\nIndex: []\n     436\n436  NaN\nEmpty DataFrame\nColumns: [2, 437]\nIndex: []\nEmpty DataFrame\nColumns: []\nIndex: []\nEmpty DataFrame\nColumns: [2, 438]\nIndex: []\n     438\n438  NaN\nEmpty DataFrame\nColumns: [2, 439]\nIndex: []\nEmpty DataFrame\nColumns: []\nIndex: []\nEmpty DataFrame\nColumns: [2, 440]\nIndex: []\nEmpty DataFrame\nColumns: []\nIndex: []\nEmpty DataFrame\nColumns: [2, 441]\nIndex: []\n     441\n441  NaN\nEmpty DataFrame\nColumns: [2, 442]\nIndex: []\nEmpty DataFrame\nColumns: []\nIndex: []\nEmpty DataFrame\nColumns: [2, 443]\nIndex: []\nEmpty DataFrame\nColumns: []\nIndex: []\nEmpty DataFrame\nColumns: [2, 444]\nIndex: []\nEmpty DataFrame\nColumns: []\nIndex: []\nEmpty DataFrame\nColumns: [2, 445]\nIndex: []\nEmpty DataFrame\nColumns: []\nIndex: []\nEmpty DataFrame\nColumns: [2, 446]\nIndex: []\nEmpty DataFrame\nColumns: []\nIndex: []\nEmpty DataFrame\nColumns: [2, 447]\nIndex: []\nEmpty DataFrame\nColumns: []\nIndex: []\nEmpty DataFrame\nColumns: [2, 448]\nIndex: []\nEmpty DataFrame\nColumns: []\nIndex: []\nEmpty DataFrame\nColumns: [2, 449]\nIndex: []\n     449\n449  NaN\nEmpty DataFrame\nColumns: [2, 450]\nIndex: []\nEmpty DataFrame\nColumns: []\nIndex: []\nEmpty DataFrame\nColumns: [2, 451]\nIndex: []\nEmpty DataFrame\nColumns: []\nIndex: []\n"
     ]
    },
    {
     "name": "stdout",
     "output_type": "stream",
     "text": [
      "Empty DataFrame\nColumns: [2, 452]\nIndex: []\nEmpty DataFrame\nColumns: []\nIndex: []\nEmpty DataFrame\nColumns: [2, 453]\nIndex: []\nEmpty DataFrame\nColumns: []\nIndex: []\nEmpty DataFrame\nColumns: [2, 454]\nIndex: []\nEmpty DataFrame\nColumns: []\nIndex: []\nEmpty DataFrame\nColumns: [2, 455]\nIndex: []\nEmpty DataFrame\nColumns: []\nIndex: []\nEmpty DataFrame\nColumns: [2, 456]\nIndex: []\nEmpty DataFrame\nColumns: []\nIndex: []\nEmpty DataFrame\nColumns: [2, 457]\nIndex: []\nEmpty DataFrame\nColumns: []\nIndex: []\nEmpty DataFrame\nColumns: [2, 458]\nIndex: []\nEmpty DataFrame\nColumns: []\nIndex: []\nEmpty DataFrame\nColumns: [2, 459]\nIndex: []\n     459\n459  NaN\nEmpty DataFrame\nColumns: [2, 460]\nIndex: []\n     460\n460  NaN\nEmpty DataFrame\nColumns: [2, 461]\nIndex: []\nEmpty DataFrame\nColumns: []\nIndex: []\nEmpty DataFrame\nColumns: [2, 462]\nIndex: []\nEmpty DataFrame\nColumns: []\nIndex: []\nEmpty DataFrame\nColumns: [2, 463]\nIndex: []\nEmpty DataFrame\nColumns: []\nIndex: []\nEmpty DataFrame\nColumns: [2, 464]\nIndex: []\n     464\n464  NaN\nEmpty DataFrame\nColumns: [2, 465]\nIndex: []\nEmpty DataFrame\nColumns: []\nIndex: []\nEmpty DataFrame\nColumns: [2, 466]\nIndex: []\nEmpty DataFrame\nColumns: []\nIndex: []\nEmpty DataFrame\nColumns: [2, 467]\nIndex: []\nEmpty DataFrame\nColumns: []\nIndex: []\n"
     ]
    },
    {
     "name": "stdout",
     "output_type": "stream",
     "text": [
      "Empty DataFrame\nColumns: [2, 468]\nIndex: []\nEmpty DataFrame\nColumns: []\nIndex: []\nEmpty DataFrame\nColumns: [2, 469]\nIndex: []\nEmpty DataFrame\nColumns: []\nIndex: []\nEmpty DataFrame\nColumns: [2, 470]\nIndex: []\nEmpty DataFrame\nColumns: []\nIndex: []\nEmpty DataFrame\nColumns: [2, 471]\nIndex: []\nEmpty DataFrame\nColumns: []\nIndex: []\nEmpty DataFrame\nColumns: [2, 472]\nIndex: []\nEmpty DataFrame\nColumns: []\nIndex: []\nEmpty DataFrame\nColumns: [2, 473]\nIndex: []\nEmpty DataFrame\nColumns: []\nIndex: []\nEmpty DataFrame\nColumns: [2, 474]\nIndex: []\nEmpty DataFrame\nColumns: []\nIndex: []\nEmpty DataFrame\nColumns: [2, 475]\nIndex: []\nEmpty DataFrame\nColumns: []\nIndex: []\nEmpty DataFrame\nColumns: [2, 476]\nIndex: []\nEmpty DataFrame\nColumns: []\nIndex: []\nEmpty DataFrame\nColumns: [2, 477]\nIndex: []\nEmpty DataFrame\nColumns: []\nIndex: []\nEmpty DataFrame\nColumns: [2, 478]\nIndex: []\n     478\n478  NaN\nEmpty DataFrame\nColumns: [2, 479]\nIndex: []\nEmpty DataFrame\nColumns: []\nIndex: []\nEmpty DataFrame\nColumns: [2, 480]\nIndex: []\n     480\n480  NaN\nEmpty DataFrame\nColumns: [2, 481]\nIndex: []\nEmpty DataFrame\nColumns: []\nIndex: []\nEmpty DataFrame\nColumns: [2, 482]\nIndex: []\n     482\n482  NaN\nEmpty DataFrame\nColumns: [2, 483]\nIndex: []\n     483\n483  NaN\nEmpty DataFrame\nColumns: [2, 484]\nIndex: []\n     484\n484  NaN"
     ]
    },
    {
     "name": "stdout",
     "output_type": "stream",
     "text": [
      "\nEmpty DataFrame\nColumns: [2, 485]\nIndex: []\n     485\n485  NaN\nEmpty DataFrame\nColumns: [2, 486]\nIndex: []\n     486\n486  NaN\nEmpty DataFrame\nColumns: [2, 487]\nIndex: []\nEmpty DataFrame\nColumns: []\nIndex: []\nEmpty DataFrame\nColumns: [2, 488]\nIndex: []\n     488\n488  NaN\nEmpty DataFrame\nColumns: [2, 489]\nIndex: []\n     489\n489  NaN\nEmpty DataFrame\nColumns: [2, 490]\nIndex: []\nEmpty DataFrame\nColumns: []\nIndex: []\nEmpty DataFrame\nColumns: [2, 491]\nIndex: []\nEmpty DataFrame\nColumns: []\nIndex: []\nEmpty DataFrame\nColumns: [2, 492]\nIndex: []\n     492\n492  NaN\nEmpty DataFrame\nColumns: [2, 493]\nIndex: []\nEmpty DataFrame\nColumns: []\nIndex: []\nEmpty DataFrame\nColumns: [2, 494]\nIndex: []\nEmpty DataFrame\nColumns: []\nIndex: []\nEmpty DataFrame\nColumns: [2, 495]\nIndex: []\nEmpty DataFrame\nColumns: []\nIndex: []\nEmpty DataFrame\nColumns: [2, 496]\nIndex: []\nEmpty DataFrame\nColumns: []\nIndex: []\nEmpty DataFrame\nColumns: [2, 497]\nIndex: []\n     497\n497  NaN\nEmpty DataFrame\nColumns: [2, 498]\nIndex: []\n     498\n498  NaN\nEmpty DataFrame\nColumns: [2, 499]\nIndex: []\n     499\n499  NaN\nEmpty DataFrame\nColumns: [2, 500]\nIndex: []\n"
     ]
    },
    {
     "name": "stdout",
     "output_type": "stream",
     "text": [
      "     500\n500  NaN\nEmpty DataFrame\nColumns: [2, 501]\nIndex: []\nEmpty DataFrame\nColumns: []\nIndex: []\nEmpty DataFrame\nColumns: [2, 502]\nIndex: []\nEmpty DataFrame\nColumns: []\nIndex: []\nEmpty DataFrame\nColumns: [2, 503]\nIndex: []\nEmpty DataFrame\nColumns: []\nIndex: []\nEmpty DataFrame\nColumns: [2, 504]\nIndex: []\nEmpty DataFrame\nColumns: []\nIndex: []\nEmpty DataFrame\nColumns: [2, 505]\nIndex: []\nEmpty DataFrame\nColumns: []\nIndex: []\nEmpty DataFrame\nColumns: [2, 506]\nIndex: []\nEmpty DataFrame\nColumns: []\nIndex: []\nEmpty DataFrame\nColumns: [2, 507]\nIndex: []\nEmpty DataFrame\nColumns: []\nIndex: []\nEmpty DataFrame\nColumns: [2, 508]\nIndex: []\nEmpty DataFrame\nColumns: []\nIndex: []\nEmpty DataFrame\nColumns: [2, 509]\nIndex: []\nEmpty DataFrame\nColumns: []\nIndex: []\nEmpty DataFrame\nColumns: [2, 510]\nIndex: []\nEmpty DataFrame\nColumns: []\nIndex: []\nEmpty DataFrame\nColumns: [2, 511]\nIndex: []\nEmpty DataFrame\nColumns: []\nIndex: []\nEmpty DataFrame\nColumns: [2, 512]\nIndex: []\nEmpty DataFrame\nColumns: []\nIndex: []\nEmpty DataFrame\nColumns: [2, 513]\nIndex: []\nEmpty DataFrame\nColumns: []\nIndex: []\nEmpty DataFrame\nColumns: [2, 514]\nIndex: []\nEmpty DataFrame\nColumns: []\nIndex: []\nEmpty DataFrame\nColumns: [2, 515]\nIndex: []\nEmpty DataFrame\nColumns: []\nIndex: []\nEmpty DataFrame\nColumns: [2, 516]\nIndex: []\nEmpty DataFrame\nColumns: []\nIndex: []\nEmpty DataFrame\nColumns: [2, 517]\nIndex: []\nEmpty DataFrame\nColumns: []\nIndex: []\n"
     ]
    },
    {
     "name": "stdout",
     "output_type": "stream",
     "text": [
      "Empty DataFrame\nColumns: [2, 518]\nIndex: []\nEmpty DataFrame\nColumns: []\nIndex: []\nEmpty DataFrame\nColumns: [2, 519]\nIndex: []\nEmpty DataFrame\nColumns: []\nIndex: []\nEmpty DataFrame\nColumns: [2, 520]\nIndex: []\nEmpty DataFrame\nColumns: []\nIndex: []\nEmpty DataFrame\nColumns: [2, 521]\nIndex: []\n     521\n521  NaN\nEmpty DataFrame\nColumns: [2, 522]\nIndex: []\n     522\n522  NaN\nEmpty DataFrame\nColumns: [2, 523]\nIndex: []\nEmpty DataFrame\nColumns: []\nIndex: []\nEmpty DataFrame\nColumns: [2, 524]\nIndex: []\nEmpty DataFrame\nColumns: []\nIndex: []\nEmpty DataFrame\nColumns: [2, 525]\nIndex: []\n     525\n525  NaN\nEmpty DataFrame\nColumns: [2, 526]\nIndex: []\nEmpty DataFrame\nColumns: []\nIndex: []\nEmpty DataFrame\nColumns: [2, 527]\nIndex: []\nEmpty DataFrame\nColumns: []\nIndex: []\nEmpty DataFrame\nColumns: [2, 528]\nIndex: []\nEmpty DataFrame\nColumns: []\nIndex: []\nEmpty DataFrame\nColumns: [2, 529]\nIndex: []\nEmpty DataFrame\nColumns: []\nIndex: []\nEmpty DataFrame\nColumns: [2, 530]\nIndex: []\nEmpty DataFrame\nColumns: []\nIndex: []\nEmpty DataFrame\nColumns: [2, 531]\nIndex: []\nEmpty DataFrame\nColumns: []\nIndex: []\nEmpty DataFrame\nColumns: [2, 532]\nIndex: []\nEmpty DataFrame\nColumns: []\nIndex: []\nEmpty DataFrame\nColumns: [2, 533]\nIndex: []\n     533\n533  NaN\n"
     ]
    },
    {
     "name": "stdout",
     "output_type": "stream",
     "text": [
      "Empty DataFrame\nColumns: [2, 534]\nIndex: []\nEmpty DataFrame\nColumns: []\nIndex: []\nEmpty DataFrame\nColumns: [2, 535]\nIndex: []\nEmpty DataFrame\nColumns: []\nIndex: []\nEmpty DataFrame\nColumns: [2, 536]\nIndex: []\n     536\n536  NaN\nEmpty DataFrame\nColumns: [2, 537]\nIndex: []\nEmpty DataFrame\nColumns: []\nIndex: []\nEmpty DataFrame\nColumns: [2, 538]\nIndex: []\n     538\n538  NaN\nEmpty DataFrame\nColumns: [2, 539]\nIndex: []\n     539\n539  NaN\nEmpty DataFrame\nColumns: [2, 540]\nIndex: []\nEmpty DataFrame\nColumns: []\nIndex: []\nEmpty DataFrame\nColumns: [2, 541]\nIndex: []\nEmpty DataFrame\nColumns: []\nIndex: []\nEmpty DataFrame\nColumns: [2, 542]\nIndex: []\nEmpty DataFrame\nColumns: []\nIndex: []\nEmpty DataFrame\nColumns: [2, 543]\nIndex: []\nEmpty DataFrame\nColumns: []\nIndex: []\nEmpty DataFrame\nColumns: [2, 544]\nIndex: []\nEmpty DataFrame\nColumns: []\nIndex: []\nEmpty DataFrame\nColumns: [2, 545]\nIndex: []\nEmpty DataFrame\nColumns: []\nIndex: []\nEmpty DataFrame\nColumns: [2, 546]\nIndex: []\nEmpty DataFrame\nColumns: []\nIndex: []\nEmpty DataFrame\nColumns: [2, 547]\nIndex: []\nEmpty DataFrame\nColumns: []\nIndex: []\nEmpty DataFrame\nColumns: [2, 548]\nIndex: []\nEmpty DataFrame\nColumns: []\nIndex: []\nEmpty DataFrame\nColumns: [2, 549]\nIndex: []\nEmpty DataFrame\nColumns: []\nIndex: []\nEmpty DataFrame\nColumns: [2, 550]\nIndex: []\nEmpty DataFrame\nColumns: []\nIndex: []\n"
     ]
    },
    {
     "name": "stdout",
     "output_type": "stream",
     "text": [
      "Empty DataFrame\nColumns: [2, 551]\nIndex: []\nEmpty DataFrame\nColumns: []\nIndex: []\nEmpty DataFrame\nColumns: [2, 552]\nIndex: []\n     552\n552  NaN\nEmpty DataFrame\nColumns: [2, 553]\nIndex: []\n     553\n553  NaN\nEmpty DataFrame\nColumns: [2, 554]\nIndex: []\nEmpty DataFrame\nColumns: []\nIndex: []\nEmpty DataFrame\nColumns: [2, 555]\nIndex: []\nEmpty DataFrame\nColumns: []\nIndex: []\nEmpty DataFrame\nColumns: [2, 556]\nIndex: []\nEmpty DataFrame\nColumns: []\nIndex: []\nEmpty DataFrame\nColumns: [2, 557]\nIndex: []\n     557\n557  NaN\nEmpty DataFrame\nColumns: [2, 558]\nIndex: []\nEmpty DataFrame\nColumns: []\nIndex: []\nEmpty DataFrame\nColumns: [2, 559]\nIndex: []\nEmpty DataFrame\nColumns: []\nIndex: []\nEmpty DataFrame\nColumns: [2, 560]\nIndex: []\nEmpty DataFrame\nColumns: []\nIndex: []\nEmpty DataFrame\nColumns: [2, 561]\nIndex: []\nEmpty DataFrame\nColumns: []\nIndex: []\nEmpty DataFrame\nColumns: [2, 562]\nIndex: []\nEmpty DataFrame\nColumns: []\nIndex: []\nEmpty DataFrame\nColumns: [2, 563]\nIndex: []\nEmpty DataFrame\nColumns: []\nIndex: []\nEmpty DataFrame\nColumns: [2, 564]\nIndex: []\nEmpty DataFrame\nColumns: []\nIndex: []\nEmpty DataFrame\nColumns: [2, 565]\nIndex: []\nEmpty DataFrame\nColumns: []\nIndex: []\nEmpty DataFrame\nColumns: [2, 566]\nIndex: []\n     566\n566  NaN\n"
     ]
    },
    {
     "name": "stdout",
     "output_type": "stream",
     "text": [
      "Empty DataFrame\nColumns: [2, 567]\nIndex: []\nEmpty DataFrame\nColumns: []\nIndex: []\nEmpty DataFrame\nColumns: [2, 568]\nIndex: []\nEmpty DataFrame\nColumns: []\nIndex: []\nEmpty DataFrame\nColumns: [2, 569]\nIndex: []\nEmpty DataFrame\nColumns: []\nIndex: []\nEmpty DataFrame\nColumns: [2, 570]\nIndex: []\n     570\n570  NaN\nEmpty DataFrame\nColumns: [2, 571]\nIndex: []\nEmpty DataFrame\nColumns: []\nIndex: []\nEmpty DataFrame\nColumns: [2, 572]\nIndex: []\nEmpty DataFrame\nColumns: []\nIndex: []\nEmpty DataFrame\nColumns: [2, 573]\nIndex: []\nEmpty DataFrame\nColumns: []\nIndex: []\nEmpty DataFrame\nColumns: [2, 574]\nIndex: []\nEmpty DataFrame\nColumns: []\nIndex: []\nEmpty DataFrame\nColumns: [2, 575]\nIndex: []\n     575\n575  NaN\nEmpty DataFrame\nColumns: [2, 576]\nIndex: []\n     576\n576  NaN\nEmpty DataFrame\nColumns: [2, 577]\nIndex: []\n     577\n577  NaN\nEmpty DataFrame\nColumns: [2, 578]\nIndex: []\n     578\n578  NaN\nEmpty DataFrame\nColumns: [2, 579]\nIndex: []\n     579\n579  NaN\nEmpty DataFrame\nColumns: [2, 580]\nIndex: []\nEmpty DataFrame\nColumns: []\nIndex: []\nEmpty DataFrame\nColumns: [2, 581]\nIndex: []\nEmpty DataFrame\nColumns: []\nIndex: []\nEmpty DataFrame\nColumns: [2, 582]\nIndex: []\nEmpty DataFrame\nColumns: []\nIndex: []\n"
     ]
    },
    {
     "name": "stdout",
     "output_type": "stream",
     "text": [
      "Empty DataFrame\nColumns: [2, 583]\nIndex: []\nEmpty DataFrame\nColumns: []\nIndex: []\nEmpty DataFrame\nColumns: [2, 584]\nIndex: []\nEmpty DataFrame\nColumns: []\nIndex: []\nEmpty DataFrame\nColumns: [2, 585]\nIndex: []\nEmpty DataFrame\nColumns: []\nIndex: []\nEmpty DataFrame\nColumns: [2, 586]\nIndex: []\n     586\n586  NaN\nEmpty DataFrame\nColumns: [2, 587]\nIndex: []\n     587\n587  NaN\nEmpty DataFrame\nColumns: [2, 588]\nIndex: []\n     588\n588  NaN\nEmpty DataFrame\nColumns: [2, 589]\nIndex: []\nEmpty DataFrame\nColumns: []\nIndex: []\nEmpty DataFrame\nColumns: [2, 590]\nIndex: []\n     590\n590  NaN\nEmpty DataFrame\nColumns: [2, 591]\nIndex: []\n     591\n591  NaN\nEmpty DataFrame\nColumns: [2, 592]\nIndex: []\n     592\n592  NaN\nEmpty DataFrame\nColumns: [2, 593]\nIndex: []\n     593\n593  NaN\nEmpty DataFrame\nColumns: [2, 594]\nIndex: []\n     594\n594  NaN\nEmpty DataFrame\nColumns: [2, 595]\nIndex: []\n     595\n595  NaN\nEmpty DataFrame\nColumns: [2, 596]\nIndex: []\n     596\n596  NaN\nEmpty DataFrame\nColumns: [2, 597]\nIndex: []\n     597\n597  NaN\nEmpty DataFrame\nColumns: [2, 598]\nIndex: []\n"
     ]
    },
    {
     "name": "stdout",
     "output_type": "stream",
     "text": [
      "     598\n598  NaN\nEmpty DataFrame\nColumns: [2, 599]\nIndex: []\nEmpty DataFrame\nColumns: []\nIndex: []\nEmpty DataFrame\nColumns: [2, 600]\nIndex: []\nEmpty DataFrame\nColumns: []\nIndex: []\nEmpty DataFrame\nColumns: [2, 601]\nIndex: []\nEmpty DataFrame\nColumns: []\nIndex: []\nEmpty DataFrame\nColumns: [2, 602]\nIndex: []\nEmpty DataFrame\nColumns: []\nIndex: []\nEmpty DataFrame\nColumns: [2, 603]\nIndex: []\n     603\n603  NaN\nEmpty DataFrame\nColumns: [2, 604]\nIndex: []\n     604\n604  NaN\nEmpty DataFrame\nColumns: [2, 605]\nIndex: []\nEmpty DataFrame\nColumns: []\nIndex: []\nEmpty DataFrame\nColumns: [2, 606]\nIndex: []\nEmpty DataFrame\nColumns: []\nIndex: []\nEmpty DataFrame\nColumns: [2, 607]\nIndex: []\nEmpty DataFrame\nColumns: []\nIndex: []\nEmpty DataFrame\nColumns: [2, 608]\nIndex: []\nEmpty DataFrame\nColumns: []\nIndex: []\nEmpty DataFrame\nColumns: [2, 609]\nIndex: []\nEmpty DataFrame\nColumns: []\nIndex: []\nEmpty DataFrame\nColumns: [2, 610]\nIndex: []\nEmpty DataFrame\nColumns: []\nIndex: []\nEmpty DataFrame\nColumns: [2, 611]\nIndex: []\nEmpty DataFrame\nColumns: []\nIndex: []\n"
     ]
    },
    {
     "name": "stdout",
     "output_type": "stream",
     "text": [
      "Empty DataFrame\nColumns: [2, 612]\nIndex: []\nEmpty DataFrame\nColumns: []\nIndex: []\nEmpty DataFrame\nColumns: [2, 613]\nIndex: []\nEmpty DataFrame\nColumns: []\nIndex: []\nEmpty DataFrame\nColumns: [2, 614]\nIndex: []\n     614\n614  NaN\nEmpty DataFrame\nColumns: [2, 615]\nIndex: []\n     615\n615  NaN\nEmpty DataFrame\nColumns: [2, 616]\nIndex: []\nEmpty DataFrame\nColumns: []\nIndex: []\nEmpty DataFrame\nColumns: [2, 617]\nIndex: []\nEmpty DataFrame\nColumns: []\nIndex: []\nEmpty DataFrame\nColumns: [2, 618]\nIndex: []\n     618\n618  NaN\nEmpty DataFrame\nColumns: [2, 619]\nIndex: []\nEmpty DataFrame\nColumns: []\nIndex: []\nEmpty DataFrame\nColumns: [2, 620]\nIndex: []\n     620\n620  NaN\nEmpty DataFrame\nColumns: [2, 621]\nIndex: []\nEmpty DataFrame\nColumns: []\nIndex: []\nEmpty DataFrame\nColumns: [2, 622]\nIndex: []\nEmpty DataFrame\nColumns: []\nIndex: []\n"
     ]
    },
    {
     "name": "stdout",
     "output_type": "stream",
     "text": [
      "Empty DataFrame\nColumns: [2, 623]\nIndex: []\n     623\n623  NaN\nEmpty DataFrame\nColumns: [2, 624]\nIndex: []\n     624\n624  NaN\nEmpty DataFrame\nColumns: [2, 625]\nIndex: []\n     625\n625  NaN\nEmpty DataFrame\nColumns: [2, 626]\nIndex: []\nEmpty DataFrame\nColumns: []\nIndex: []\nEmpty DataFrame\nColumns: [2, 627]\nIndex: []\nEmpty DataFrame\nColumns: []\nIndex: []\nEmpty DataFrame\nColumns: [2, 628]\nIndex: []\nEmpty DataFrame\nColumns: []\nIndex: []\nEmpty DataFrame\nColumns: [2, 629]\nIndex: []\nEmpty DataFrame\nColumns: []\nIndex: []\nEmpty DataFrame\nColumns: [2, 630]\nIndex: []\nEmpty DataFrame\nColumns: []\nIndex: []\nEmpty DataFrame\nColumns: [2, 631]\nIndex: []\nEmpty DataFrame\nColumns: []\nIndex: []\nEmpty DataFrame\nColumns: [2, 632]\nIndex: []\nEmpty DataFrame\nColumns: []\nIndex: []\nEmpty DataFrame\nColumns: [2, 633]\nIndex: []\nEmpty DataFrame\nColumns: []\nIndex: []\nEmpty DataFrame\nColumns: [2, 634]\nIndex: []\nEmpty DataFrame\nColumns: []\nIndex: []\nEmpty DataFrame\nColumns: [2, 635]\nIndex: []\nEmpty DataFrame\nColumns: []\nIndex: []\nEmpty DataFrame\nColumns: [2, 636]\nIndex: []\nEmpty DataFrame\nColumns: []\nIndex: []\n"
     ]
    },
    {
     "name": "stdout",
     "output_type": "stream",
     "text": [
      "Empty DataFrame\nColumns: [2, 637]\nIndex: []\nEmpty DataFrame\nColumns: []\nIndex: []\nEmpty DataFrame\nColumns: [2, 638]\nIndex: []\nEmpty DataFrame\nColumns: []\nIndex: []\nEmpty DataFrame\nColumns: [2, 639]\nIndex: []\nEmpty DataFrame\nColumns: []\nIndex: []\nEmpty DataFrame\nColumns: [2, 640]\nIndex: []\nEmpty DataFrame\nColumns: []\nIndex: []\nEmpty DataFrame\nColumns: [2, 641]\nIndex: []\nEmpty DataFrame\nColumns: []\nIndex: []\nEmpty DataFrame\nColumns: [2, 642]\nIndex: []\nEmpty DataFrame\nColumns: []\nIndex: []\nEmpty DataFrame\nColumns: [2, 643]\nIndex: []\nEmpty DataFrame\nColumns: []\nIndex: []\nEmpty DataFrame\nColumns: [2, 644]\nIndex: []\nEmpty DataFrame\nColumns: []\nIndex: []\nEmpty DataFrame\nColumns: [2, 645]\nIndex: []\nEmpty DataFrame\nColumns: []\nIndex: []\nEmpty DataFrame\nColumns: [2, 646]\nIndex: []\nEmpty DataFrame\nColumns: []\nIndex: []\nEmpty DataFrame\nColumns: [2, 647]\nIndex: []\nEmpty DataFrame\nColumns: []\nIndex: []\nEmpty DataFrame\nColumns: [2, 648]\nIndex: []\nEmpty DataFrame\nColumns: []\nIndex: []\nEmpty DataFrame\nColumns: [2, 649]\nIndex: []\nEmpty DataFrame\nColumns: []\nIndex: []\nEmpty DataFrame\nColumns: [2, 650]\nIndex: []\nEmpty DataFrame\nColumns: []\nIndex: []\nEmpty DataFrame\nColumns: [2, 651]\nIndex: []\nEmpty DataFrame\nColumns: []\nIndex: []\nEmpty DataFrame\nColumns: [2, 652]\nIndex: []\n"
     ]
    },
    {
     "name": "stdout",
     "output_type": "stream",
     "text": [
      "Empty DataFrame\nColumns: []\nIndex: []\nEmpty DataFrame\nColumns: [2, 653]\nIndex: []\nEmpty DataFrame\nColumns: []\nIndex: []\nEmpty DataFrame\nColumns: [2, 654]\nIndex: []\nEmpty DataFrame\nColumns: []\nIndex: []\nEmpty DataFrame\nColumns: [2, 655]\nIndex: []\nEmpty DataFrame\nColumns: []\nIndex: []\nEmpty DataFrame\nColumns: [2, 656]\nIndex: []\nEmpty DataFrame\nColumns: []\nIndex: []\nEmpty DataFrame\nColumns: [2, 657]\nIndex: []\nEmpty DataFrame\nColumns: []\nIndex: []\nEmpty DataFrame\nColumns: [2, 658]\nIndex: []\nEmpty DataFrame\nColumns: []\nIndex: []\nEmpty DataFrame\nColumns: [2, 659]\nIndex: []\nEmpty DataFrame\nColumns: []\nIndex: []\nEmpty DataFrame\nColumns: [2, 660]\nIndex: []\nEmpty DataFrame\nColumns: []\nIndex: []\nEmpty DataFrame\nColumns: [2, 661]\nIndex: []\nEmpty DataFrame\nColumns: []\nIndex: []\nEmpty DataFrame\nColumns: [2, 662]\nIndex: []\nEmpty DataFrame\nColumns: []\nIndex: []\nEmpty DataFrame\nColumns: [2, 663]\nIndex: []\nEmpty DataFrame\nColumns: []\nIndex: []\nEmpty DataFrame\nColumns: [2, 664]\nIndex: []\nEmpty DataFrame\nColumns: []\nIndex: []\nEmpty DataFrame\nColumns: [2, 665]\nIndex: []\nEmpty DataFrame\nColumns: []\nIndex: []\n"
     ]
    },
    {
     "name": "stdout",
     "output_type": "stream",
     "text": [
      "Empty DataFrame\nColumns: [2, 666]\nIndex: []\nEmpty DataFrame\nColumns: []\nIndex: []\nEmpty DataFrame\nColumns: [2, 667]\nIndex: []\nEmpty DataFrame\nColumns: []\nIndex: []\nEmpty DataFrame\nColumns: [2, 668]\nIndex: []\nEmpty DataFrame\nColumns: []\nIndex: []\nEmpty DataFrame\nColumns: [2, 669]\nIndex: []\nEmpty DataFrame\nColumns: []\nIndex: []\nEmpty DataFrame\nColumns: [2, 670]\nIndex: []\nEmpty DataFrame\nColumns: []\nIndex: []\nEmpty DataFrame\nColumns: [2, 671]\nIndex: []\nEmpty DataFrame\nColumns: []\nIndex: []\nEmpty DataFrame\nColumns: [2, 672]\nIndex: []\nEmpty DataFrame\nColumns: []\nIndex: []\nEmpty DataFrame\nColumns: [2, 673]\nIndex: []\nEmpty DataFrame\nColumns: []\nIndex: []\nEmpty DataFrame\nColumns: [2, 674]\nIndex: []\nEmpty DataFrame\nColumns: []\nIndex: []\nEmpty DataFrame\nColumns: [2, 675]\nIndex: []\nEmpty DataFrame\nColumns: []\nIndex: []\nEmpty DataFrame\nColumns: [2, 676]\nIndex: []\nEmpty DataFrame\nColumns: []\nIndex: []\nEmpty DataFrame\nColumns: [2, 677]\nIndex: []\nEmpty DataFrame\nColumns: []\nIndex: []\nEmpty DataFrame\nColumns: [2, 678]\nIndex: []\nEmpty DataFrame\nColumns: []\nIndex: []\nEmpty DataFrame\nColumns: [2, 679]\nIndex: []\nEmpty DataFrame\nColumns: []\nIndex: []\nEmpty DataFrame\nColumns: [2, 680]\nIndex: []\nEmpty DataFrame\nColumns: []\nIndex: []\n"
     ]
    },
    {
     "name": "stdout",
     "output_type": "stream",
     "text": [
      "Empty DataFrame\nColumns: [2, 681]\nIndex: []\nEmpty DataFrame\nColumns: []\nIndex: []\nEmpty DataFrame\nColumns: [2, 682]\nIndex: []\nEmpty DataFrame\nColumns: []\nIndex: []\nEmpty DataFrame\nColumns: [2, 683]\nIndex: []\nEmpty DataFrame\nColumns: []\nIndex: []\nEmpty DataFrame\nColumns: [2, 684]\nIndex: []\nEmpty DataFrame\nColumns: []\nIndex: []\nEmpty DataFrame\nColumns: [2, 685]\nIndex: []\nEmpty DataFrame\nColumns: []\nIndex: []\nEmpty DataFrame\nColumns: [2, 686]\nIndex: []\nEmpty DataFrame\nColumns: []\nIndex: []\nEmpty DataFrame\nColumns: [2, 687]\nIndex: []\nEmpty DataFrame\nColumns: []\nIndex: []\nEmpty DataFrame\nColumns: [2, 688]\nIndex: []\nEmpty DataFrame\nColumns: []\nIndex: []\nEmpty DataFrame\nColumns: [2, 689]\nIndex: []\n     689\n689  NaN\nEmpty DataFrame\nColumns: [2, 690]\nIndex: []\n     690\n690  NaN\nEmpty DataFrame\nColumns: [2, 691]\nIndex: []\nEmpty DataFrame\nColumns: []\nIndex: []\nEmpty DataFrame\nColumns: [2, 692]\nIndex: []\nEmpty DataFrame\nColumns: []\nIndex: []\nEmpty DataFrame\nColumns: [2, 693]\nIndex: []\n     693\n693  NaN\nEmpty DataFrame\nColumns: [2, 694]\nIndex: []\n     694\n694  NaN\nEmpty DataFrame\nColumns: [2, 695]\nIndex: []\n     695\n695  NaN\n"
     ]
    },
    {
     "name": "stdout",
     "output_type": "stream",
     "text": [
      "Empty DataFrame\nColumns: [2, 696]\nIndex: []\n     696\n696  NaN\nEmpty DataFrame\nColumns: [2, 697]\nIndex: []\n     697\n697  NaN\nEmpty DataFrame\nColumns: [2, 698]\nIndex: []\n     698\n698  NaN\nEmpty DataFrame\nColumns: [2, 699]\nIndex: []\n     699\n699  NaN\nEmpty DataFrame\nColumns: [2, 700]\nIndex: []\n     700\n700  NaN\nEmpty DataFrame\nColumns: [2, 701]\nIndex: []\n     701\n701  NaN\nEmpty DataFrame\nColumns: [2, 702]\nIndex: []\nEmpty DataFrame\nColumns: []\nIndex: []\nEmpty DataFrame\nColumns: [2, 703]\nIndex: []\nEmpty DataFrame\nColumns: []\nIndex: []\nEmpty DataFrame\nColumns: [2, 704]\nIndex: []\n     704\n704  NaN\nEmpty DataFrame\nColumns: [2, 705]\nIndex: []\nEmpty DataFrame\nColumns: []\nIndex: []\nEmpty DataFrame\nColumns: [2, 706]\nIndex: []\nEmpty DataFrame\nColumns: []\nIndex: []\nEmpty DataFrame\nColumns: [2, 707]\nIndex: []\nEmpty DataFrame\nColumns: []\nIndex: []\nEmpty DataFrame\nColumns: [2, 708]\nIndex: []\nEmpty DataFrame\nColumns: []\nIndex: []\nEmpty DataFrame\nColumns: [2, 709]\nIndex: []\nEmpty DataFrame\nColumns: []\nIndex: []\nEmpty DataFrame\nColumns: [2, 710]\nIndex: []\nEmpty DataFrame\nColumns: []\nIndex: []\nEmpty DataFrame\nColumns: [2, 711]\nIndex: []\nEmpty DataFrame\nColumns: []\nIndex: []\n"
     ]
    },
    {
     "name": "stdout",
     "output_type": "stream",
     "text": [
      "Empty DataFrame\nColumns: [2, 712]\nIndex: []\nEmpty DataFrame\nColumns: []\nIndex: []\nEmpty DataFrame\nColumns: [2, 713]\nIndex: []\nEmpty DataFrame\nColumns: []\nIndex: []\nEmpty DataFrame\nColumns: [2, 714]\nIndex: []\nEmpty DataFrame\nColumns: []\nIndex: []\nEmpty DataFrame\nColumns: [2, 715]\nIndex: []\n     715\n715  NaN\nEmpty DataFrame\nColumns: [2, 716]\nIndex: []\nEmpty DataFrame\nColumns: []\nIndex: []\nEmpty DataFrame\nColumns: [2, 717]\nIndex: []\nEmpty DataFrame\nColumns: []\nIndex: []\nEmpty DataFrame\nColumns: [2, 718]\nIndex: []\nEmpty DataFrame\nColumns: []\nIndex: []\nEmpty DataFrame\nColumns: [2, 719]\nIndex: []\nEmpty DataFrame\nColumns: []\nIndex: []\nEmpty DataFrame\nColumns: [2, 720]\nIndex: []\nEmpty DataFrame\nColumns: []\nIndex: []\nEmpty DataFrame\nColumns: [2, 721]\nIndex: []\n     721\n721  NaN\nEmpty DataFrame\nColumns: [2, 722]\nIndex: []\n     722\n722  NaN\nEmpty DataFrame\nColumns: [2, 723]\nIndex: []\n     723\n723  NaN\nEmpty DataFrame\nColumns: [2, 724]\nIndex: []\n     724\n724  NaN\nEmpty DataFrame\nColumns: [2, 725]\nIndex: []\n     725\n725  NaN\nEmpty DataFrame\nColumns: [2, 726]\nIndex: []\n     726\n726  NaN\nEmpty DataFrame\nColumns: [2, 727]\nIndex: []\n     727\n727  NaN\n"
     ]
    },
    {
     "name": "stdout",
     "output_type": "stream",
     "text": [
      "Empty DataFrame\nColumns: [2, 728]\nIndex: []\nEmpty DataFrame\nColumns: []\nIndex: []\nEmpty DataFrame\nColumns: [2, 729]\nIndex: []\n     729\n729  NaN\nEmpty DataFrame\nColumns: [2, 730]\nIndex: []\n     730\n730  NaN\nEmpty DataFrame\nColumns: [2, 731]\nIndex: []\n     731\n731  NaN\nEmpty DataFrame\nColumns: [2, 732]\nIndex: []\nEmpty DataFrame\nColumns: []\nIndex: []\nEmpty DataFrame\nColumns: [2, 733]\nIndex: []\nEmpty DataFrame\nColumns: []\nIndex: []\nEmpty DataFrame\nColumns: [2, 734]\nIndex: []\nEmpty DataFrame\nColumns: []\nIndex: []\nEmpty DataFrame\nColumns: [2, 735]\nIndex: []\nEmpty DataFrame\nColumns: []\nIndex: []\nEmpty DataFrame\nColumns: [2, 736]\nIndex: []\nEmpty DataFrame\nColumns: []\nIndex: []\nEmpty DataFrame\nColumns: [2, 737]\nIndex: []\nEmpty DataFrame\nColumns: []\nIndex: []\nEmpty DataFrame\nColumns: [2, 738]\nIndex: []\nEmpty DataFrame\nColumns: []\nIndex: []\nEmpty DataFrame\nColumns: [2, 739]\nIndex: []\n     739\n739  NaN\nEmpty DataFrame\nColumns: [2, 740]\nIndex: []\nEmpty DataFrame\nColumns: []\nIndex: []\nEmpty DataFrame\nColumns: [2, 741]\nIndex: []\nEmpty DataFrame\nColumns: []\nIndex: []\nEmpty DataFrame\nColumns: [2, 742]\nIndex: []\nEmpty DataFrame\nColumns: []\nIndex: []\n"
     ]
    },
    {
     "name": "stdout",
     "output_type": "stream",
     "text": [
      "Empty DataFrame\nColumns: [2, 743]\nIndex: []\nEmpty DataFrame\nColumns: []\nIndex: []\nEmpty DataFrame\nColumns: [2, 744]\nIndex: []\n     744\n744  NaN\nEmpty DataFrame\nColumns: [2, 745]\nIndex: []\nEmpty DataFrame\nColumns: []\nIndex: []\nEmpty DataFrame\nColumns: [2, 746]\nIndex: []\nEmpty DataFrame\nColumns: []\nIndex: []\nEmpty DataFrame\nColumns: [2, 747]\nIndex: []\nEmpty DataFrame\nColumns: []\nIndex: []\nEmpty DataFrame\nColumns: [2, 748]\nIndex: []\nEmpty DataFrame\nColumns: []\nIndex: []\nEmpty DataFrame\nColumns: [2, 749]\nIndex: []\nEmpty DataFrame\nColumns: []\nIndex: []\nEmpty DataFrame\nColumns: [2, 750]\nIndex: []\n     750\n750  NaN\nEmpty DataFrame\nColumns: [2, 751]\nIndex: []\nEmpty DataFrame\nColumns: []\nIndex: []\nEmpty DataFrame\nColumns: [2, 752]\nIndex: []\nEmpty DataFrame\nColumns: []\nIndex: []\nEmpty DataFrame\nColumns: [2, 753]\nIndex: []\nEmpty DataFrame\nColumns: []\nIndex: []\nEmpty DataFrame\nColumns: [2, 754]\nIndex: []\nEmpty DataFrame\nColumns: []\nIndex: []\nEmpty DataFrame\nColumns: [2, 755]\nIndex: []\nEmpty DataFrame\nColumns: []\nIndex: []\nEmpty DataFrame\nColumns: [2, 756]\nIndex: []\nEmpty DataFrame\nColumns: []\nIndex: []\n"
     ]
    },
    {
     "name": "stdout",
     "output_type": "stream",
     "text": [
      "Empty DataFrame\nColumns: [2, 757]\nIndex: []\nEmpty DataFrame\nColumns: []\nIndex: []\nEmpty DataFrame\nColumns: [2, 758]\nIndex: []\nEmpty DataFrame\nColumns: []\nIndex: []\nEmpty DataFrame\nColumns: [2, 759]\nIndex: []\nEmpty DataFrame\nColumns: []\nIndex: []\nEmpty DataFrame\nColumns: [2, 760]\nIndex: []\nEmpty DataFrame\nColumns: []\nIndex: []\nEmpty DataFrame\nColumns: [2, 761]\nIndex: []\nEmpty DataFrame\nColumns: []\nIndex: []\nEmpty DataFrame\nColumns: [2, 762]\nIndex: []\nEmpty DataFrame\nColumns: []\nIndex: []\nEmpty DataFrame\nColumns: [2, 763]\nIndex: []\nEmpty DataFrame\nColumns: []\nIndex: []\nEmpty DataFrame\nColumns: [2, 764]\nIndex: []\nEmpty DataFrame\nColumns: []\nIndex: []\nEmpty DataFrame\nColumns: [2, 765]\nIndex: []\nEmpty DataFrame\nColumns: []\nIndex: []\nEmpty DataFrame\nColumns: [2, 766]\nIndex: []\n     766\n766  NaN\nEmpty DataFrame\nColumns: [2, 767]\nIndex: []\nEmpty DataFrame\nColumns: []\nIndex: []\nEmpty DataFrame\nColumns: [2, 768]\nIndex: []\nEmpty DataFrame\nColumns: []\nIndex: []\nEmpty DataFrame\nColumns: [2, 769]\nIndex: []\nEmpty DataFrame\nColumns: []\nIndex: []\nEmpty DataFrame\nColumns: [2, 770]\nIndex: []\nEmpty DataFrame\nColumns: []\nIndex: []\n"
     ]
    },
    {
     "name": "stdout",
     "output_type": "stream",
     "text": [
      "Empty DataFrame\nColumns: [2, 771]\nIndex: []\nEmpty DataFrame\nColumns: []\nIndex: []\nEmpty DataFrame\nColumns: [2, 772]\nIndex: []\nEmpty DataFrame\nColumns: []\nIndex: []\nEmpty DataFrame\nColumns: [2, 773]\nIndex: []\nEmpty DataFrame\nColumns: []\nIndex: []\nEmpty DataFrame\nColumns: [2, 774]\nIndex: []\nEmpty DataFrame\nColumns: []\nIndex: []\nEmpty DataFrame\nColumns: [2, 775]\nIndex: []\nEmpty DataFrame\nColumns: []\nIndex: []\nEmpty DataFrame\nColumns: [2, 776]\nIndex: []\n     776\n776  NaN\nEmpty DataFrame\nColumns: [2, 777]\nIndex: []\nEmpty DataFrame\nColumns: []\nIndex: []\nEmpty DataFrame\nColumns: [2, 778]\nIndex: []\n     778\n778  NaN\nEmpty DataFrame\nColumns: [2, 779]\nIndex: []\nEmpty DataFrame\nColumns: []\nIndex: []\nEmpty DataFrame\nColumns: [2, 780]\nIndex: []\n     780\n780  NaN\nEmpty DataFrame\nColumns: [2, 781]\nIndex: []\n     781\n781  NaN\nEmpty DataFrame\nColumns: [2, 782]\nIndex: []\nEmpty DataFrame\nColumns: []\nIndex: []\nEmpty DataFrame\nColumns: [2, 783]\nIndex: []\nEmpty DataFrame\nColumns: []\nIndex: []\nEmpty DataFrame\nColumns: [2, 784]\nIndex: []\nEmpty DataFrame\nColumns: []\nIndex: []\nEmpty DataFrame\nColumns: [2, 785]\nIndex: []\n"
     ]
    },
    {
     "name": "stdout",
     "output_type": "stream",
     "text": [
      "Empty DataFrame\nColumns: []\nIndex: []\nEmpty DataFrame\nColumns: [2, 786]\nIndex: []\nEmpty DataFrame\nColumns: []\nIndex: []\nEmpty DataFrame\nColumns: [2, 787]\nIndex: []\n     787\n787  NaN\nEmpty DataFrame\nColumns: [2, 788]\nIndex: []\nEmpty DataFrame\nColumns: []\nIndex: []\nEmpty DataFrame\nColumns: [2, 789]\nIndex: []\nEmpty DataFrame\nColumns: []\nIndex: []\nEmpty DataFrame\nColumns: [2, 790]\nIndex: []\nEmpty DataFrame\nColumns: []\nIndex: []\nEmpty DataFrame\nColumns: [2, 791]\nIndex: []\n     791\n791  NaN\nEmpty DataFrame\nColumns: [2, 792]\nIndex: []\nEmpty DataFrame\nColumns: []\nIndex: []\nEmpty DataFrame\nColumns: [2, 793]\nIndex: []\nEmpty DataFrame\nColumns: []\nIndex: []\nEmpty DataFrame\nColumns: [2, 794]\nIndex: []\nEmpty DataFrame\nColumns: []\nIndex: []\nEmpty DataFrame\nColumns: [2, 795]\nIndex: []\nEmpty DataFrame\nColumns: []\nIndex: []\nEmpty DataFrame\nColumns: [2, 796]\nIndex: []\n     796\n796  NaN\nEmpty DataFrame\nColumns: [2, 797]\nIndex: []\nEmpty DataFrame\nColumns: []\nIndex: []\nEmpty DataFrame\nColumns: [2, 798]\nIndex: []\nEmpty DataFrame\nColumns: []\nIndex: []\nEmpty DataFrame\nColumns: [2, 799]\nIndex: []\nEmpty DataFrame\nColumns: []\nIndex: []\n"
     ]
    },
    {
     "name": "stdout",
     "output_type": "stream",
     "text": [
      "Empty DataFrame\nColumns: [2, 800]\nIndex: []\nEmpty DataFrame\nColumns: []\nIndex: []\nEmpty DataFrame\nColumns: [2, 801]\nIndex: []\nEmpty DataFrame\nColumns: []\nIndex: []\nEmpty DataFrame\nColumns: [2, 802]\nIndex: []\nEmpty DataFrame\nColumns: []\nIndex: []\nEmpty DataFrame\nColumns: [2, 803]\nIndex: []\nEmpty DataFrame\nColumns: []\nIndex: []\nEmpty DataFrame\nColumns: [2, 804]\nIndex: []\n     804\n804  NaN\nEmpty DataFrame\nColumns: [2, 805]\nIndex: []\n     805\n805  NaN\nEmpty DataFrame\nColumns: [2, 806]\nIndex: []\nEmpty DataFrame\nColumns: []\nIndex: []\nEmpty DataFrame\nColumns: [2, 807]\nIndex: []\n     807\n807  NaN\nEmpty DataFrame\nColumns: [2, 808]\nIndex: []\n     808\n808  NaN\nEmpty DataFrame\nColumns: [2, 809]\nIndex: []\n     809\n809  NaN\nEmpty DataFrame\nColumns: [2, 810]\nIndex: []\n     810\n810  NaN\nEmpty DataFrame\nColumns: [2, 811]\nIndex: []\nEmpty DataFrame\nColumns: []\nIndex: []\nEmpty DataFrame\nColumns: [2, 812]\nIndex: []\nEmpty DataFrame\nColumns: []\nIndex: []\nEmpty DataFrame\nColumns: [2, 813]\nIndex: []\nEmpty DataFrame\nColumns: []\nIndex: []\nEmpty DataFrame\nColumns: [2, 814]\nIndex: []\nEmpty DataFrame\nColumns: []\nIndex: []\nEmpty DataFrame\nColumns: [2, 815]\nIndex: []\nEmpty DataFrame\nColumns: []\nIndex: []\nEmpty DataFrame\nColumns: [2, 816]\nIndex: []\nEmpty DataFrame\nColumns: []\nIndex: []\n"
     ]
    },
    {
     "name": "stdout",
     "output_type": "stream",
     "text": [
      "Empty DataFrame\nColumns: [2, 817]\nIndex: []\nEmpty DataFrame\nColumns: []\nIndex: []\nEmpty DataFrame\nColumns: [2, 818]\nIndex: []\nEmpty DataFrame\nColumns: []\nIndex: []\nEmpty DataFrame\nColumns: [2, 819]\nIndex: []\nEmpty DataFrame\nColumns: []\nIndex: []\nEmpty DataFrame\nColumns: [2, 820]\nIndex: []\n     820\n820  NaN\nEmpty DataFrame\nColumns: [2, 821]\nIndex: []\n     821\n821  NaN\nEmpty DataFrame\nColumns: [2, 822]\nIndex: []\nEmpty DataFrame\nColumns: []\nIndex: []\nEmpty DataFrame\nColumns: [2, 823]\nIndex: []\nEmpty DataFrame\nColumns: []\nIndex: []\nEmpty DataFrame\nColumns: [2, 824]\nIndex: []\n     824\n824  NaN\nEmpty DataFrame\nColumns: [2, 825]\nIndex: []\nEmpty DataFrame\nColumns: []\nIndex: []\nEmpty DataFrame\nColumns: [2, 826]\nIndex: []\nEmpty DataFrame\nColumns: []\nIndex: []\nEmpty DataFrame\nColumns: [2, 827]\nIndex: []\nEmpty DataFrame\nColumns: []\nIndex: []\nEmpty DataFrame\nColumns: [2, 828]\nIndex: []\n     828\n828  NaN\nEmpty DataFrame\nColumns: [2, 829]\nIndex: []\nEmpty DataFrame\nColumns: []\nIndex: []\nEmpty DataFrame\nColumns: [2, 830]\nIndex: []\n     830\n830  NaN\nEmpty DataFrame\nColumns: [2, 831]\nIndex: []\nEmpty DataFrame\nColumns: []\nIndex: []\nEmpty DataFrame\nColumns: [2, 832]\nIndex: []\nEmpty DataFrame\nColumns: []\nIndex: []\nEmpty DataFrame\nColumns: [2, 833]\nIndex: []\nEmpty DataFrame\nColumns: []\nIndex: []\n"
     ]
    },
    {
     "name": "stdout",
     "output_type": "stream",
     "text": [
      "Empty DataFrame\nColumns: [2, 834]\nIndex: []\nEmpty DataFrame\nColumns: []\nIndex: []\nEmpty DataFrame\nColumns: [2, 835]\nIndex: []\nEmpty DataFrame\nColumns: []\nIndex: []\nEmpty DataFrame\nColumns: [2, 836]\nIndex: []\nEmpty DataFrame\nColumns: []\nIndex: []\nEmpty DataFrame\nColumns: [2, 837]\nIndex: []\nEmpty DataFrame\nColumns: []\nIndex: []\nEmpty DataFrame\nColumns: [2, 838]\nIndex: []\nEmpty DataFrame\nColumns: []\nIndex: []\nEmpty DataFrame\nColumns: [2, 839]\nIndex: []\nEmpty DataFrame\nColumns: []\nIndex: []\nEmpty DataFrame\nColumns: [2, 840]\nIndex: []\nEmpty DataFrame\nColumns: []\nIndex: []\nEmpty DataFrame\nColumns: [2, 841]\nIndex: []\nEmpty DataFrame\nColumns: []\nIndex: []\nEmpty DataFrame\nColumns: [2, 842]\nIndex: []\nEmpty DataFrame\nColumns: []\nIndex: []\nEmpty DataFrame\nColumns: [2, 843]\nIndex: []\n     843\n843  NaN\nEmpty DataFrame\nColumns: [2, 844]\nIndex: []\nEmpty DataFrame\nColumns: []\nIndex: []\nEmpty DataFrame\nColumns: [2, 845]\nIndex: []\nEmpty DataFrame\nColumns: []\nIndex: []\nEmpty DataFrame\nColumns: [2, 846]\nIndex: []\nEmpty DataFrame\nColumns: []\nIndex: []\nEmpty DataFrame\nColumns: [2, 847]\nIndex: []\nEmpty DataFrame\nColumns: []\nIndex: []\nEmpty DataFrame\nColumns: [2, 848]\nIndex: []\nEmpty DataFrame\nColumns: []\nIndex: []"
     ]
    },
    {
     "name": "stdout",
     "output_type": "stream",
     "text": [
      "\nEmpty DataFrame\nColumns: [2, 849]\nIndex: []\nEmpty DataFrame\nColumns: []\nIndex: []\nEmpty DataFrame\nColumns: [2, 850]\nIndex: []\nEmpty DataFrame\nColumns: []\nIndex: []\nEmpty DataFrame\nColumns: [2, 851]\nIndex: []\nEmpty DataFrame\nColumns: []\nIndex: []\nEmpty DataFrame\nColumns: [2, 852]\nIndex: []\nEmpty DataFrame\nColumns: []\nIndex: []\nEmpty DataFrame\nColumns: [2, 853]\nIndex: []\nEmpty DataFrame\nColumns: []\nIndex: []\nEmpty DataFrame\nColumns: [2, 854]\nIndex: []\nEmpty DataFrame\nColumns: []\nIndex: []\nEmpty DataFrame\nColumns: [2, 855]\nIndex: []\nEmpty DataFrame\nColumns: []\nIndex: []\nEmpty DataFrame\nColumns: [2, 856]\nIndex: []\nEmpty DataFrame\nColumns: []\nIndex: []\nEmpty DataFrame\nColumns: [2, 857]\nIndex: []\n     857\n857  NaN\nEmpty DataFrame\nColumns: [2, 858]\nIndex: []\n     858\n858  NaN\nEmpty DataFrame\nColumns: [2, 859]\nIndex: []\n"
     ]
    },
    {
     "name": "stdout",
     "output_type": "stream",
     "text": [
      "     859\n859  NaN\nEmpty DataFrame\nColumns: [2, 860]\nIndex: []\n     860\n860  NaN\nEmpty DataFrame\nColumns: [2, 861]\nIndex: []\n     861\n861  NaN\nEmpty DataFrame\nColumns: [2, 862]\nIndex: []\nEmpty DataFrame\nColumns: []\nIndex: []\nEmpty DataFrame\nColumns: [2, 863]\nIndex: []\n     863\n863  NaN\nEmpty DataFrame\nColumns: [2, 864]\nIndex: []\n     864\n864  NaN\nEmpty DataFrame\nColumns: [2, 865]\nIndex: []\nEmpty DataFrame\nColumns: []\nIndex: []\nEmpty DataFrame\nColumns: [2, 866]\nIndex: []\nEmpty DataFrame\nColumns: []\nIndex: []\nEmpty DataFrame\nColumns: [2, 867]\nIndex: []\n     867\n867  NaN\nEmpty DataFrame\nColumns: [2, 868]\nIndex: []\nEmpty DataFrame\nColumns: []\nIndex: []\nEmpty DataFrame\nColumns: [2, 869]\nIndex: []\nEmpty DataFrame\nColumns: []\nIndex: []\nEmpty DataFrame\nColumns: [2, 870]\nIndex: []\nEmpty DataFrame\nColumns: []\nIndex: []\nEmpty DataFrame\nColumns: [2, 871]\nIndex: []\nEmpty DataFrame\nColumns: []\nIndex: []\nEmpty DataFrame\nColumns: [2, 872]\nIndex: []\nEmpty DataFrame\nColumns: []\nIndex: []\nEmpty DataFrame\nColumns: [2, 873]\nIndex: []\nEmpty DataFrame\nColumns: []\nIndex: []\nEmpty DataFrame\nColumns: [2, 874]\nIndex: []\nEmpty DataFrame\nColumns: []\nIndex: []\nEmpty DataFrame\nColumns: [2, 875]\nIndex: []\nEmpty DataFrame\nColumns: []\nIndex: []\nEmpty DataFrame\nColumns: [2, 876]\nIndex: []\nEmpty DataFrame\nColumns: []\nIndex: []\n"
     ]
    },
    {
     "name": "stdout",
     "output_type": "stream",
     "text": [
      "Empty DataFrame\nColumns: [2, 877]\nIndex: []\nEmpty DataFrame\nColumns: []\nIndex: []\nEmpty DataFrame\nColumns: [2, 878]\nIndex: []\nEmpty DataFrame\nColumns: []\nIndex: []\nEmpty DataFrame\nColumns: [2, 879]\nIndex: []\nEmpty DataFrame\nColumns: []\nIndex: []\nEmpty DataFrame\nColumns: [2, 880]\nIndex: []\nEmpty DataFrame\nColumns: []\nIndex: []\nEmpty DataFrame\nColumns: [2, 881]\nIndex: []\nEmpty DataFrame\nColumns: []\nIndex: []\nEmpty DataFrame\nColumns: [2, 882]\nIndex: []\nEmpty DataFrame\nColumns: []\nIndex: []\nEmpty DataFrame\nColumns: [2, 883]\nIndex: []\nEmpty DataFrame\nColumns: []\nIndex: []\nEmpty DataFrame\nColumns: [2, 884]\nIndex: []\nEmpty DataFrame\nColumns: []\nIndex: []\nEmpty DataFrame\nColumns: [2, 885]\nIndex: []\nEmpty DataFrame\nColumns: []\nIndex: []\nEmpty DataFrame\nColumns: [2, 886]\nIndex: []\nEmpty DataFrame\nColumns: []\nIndex: []\nEmpty DataFrame\nColumns: [2, 887]\nIndex: []\nEmpty DataFrame\nColumns: []\nIndex: []\nEmpty DataFrame\nColumns: [2, 888]\nIndex: []\nEmpty DataFrame\nColumns: []\nIndex: []\nEmpty DataFrame\nColumns: [2, 889]\nIndex: []\nEmpty DataFrame\nColumns: []\nIndex: []\nEmpty DataFrame\nColumns: [2, 890]\nIndex: []\nEmpty DataFrame\nColumns: []\nIndex: []\nEmpty DataFrame\nColumns: [2, 891]\nIndex: []\n     891\n891  NaN\n"
     ]
    },
    {
     "name": "stdout",
     "output_type": "stream",
     "text": [
      "Empty DataFrame\nColumns: [2, 892]\nIndex: []\nEmpty DataFrame\nColumns: []\nIndex: []\nEmpty DataFrame\nColumns: [2, 893]\nIndex: []\n     893\n893  NaN\nEmpty DataFrame\nColumns: [2, 894]\nIndex: []\nEmpty DataFrame\nColumns: []\nIndex: []\nEmpty DataFrame\nColumns: [2, 895]\nIndex: []\nEmpty DataFrame\nColumns: []\nIndex: []\nEmpty DataFrame\nColumns: [2, 896]\nIndex: []\nEmpty DataFrame\nColumns: []\nIndex: []\nEmpty DataFrame\nColumns: [2, 897]\nIndex: []\nEmpty DataFrame\nColumns: []\nIndex: []\nEmpty DataFrame\nColumns: [2, 898]\nIndex: []\n     898\n898  NaN\nEmpty DataFrame\nColumns: [2, 899]\nIndex: []\nEmpty DataFrame\nColumns: []\nIndex: []\nEmpty DataFrame\nColumns: [2, 900]\nIndex: []\nEmpty DataFrame\nColumns: []\nIndex: []\nEmpty DataFrame\nColumns: [2, 901]\nIndex: []\nEmpty DataFrame\nColumns: []\nIndex: []\nEmpty DataFrame\nColumns: [2, 902]\nIndex: []\nEmpty DataFrame\nColumns: []\nIndex: []\nEmpty DataFrame\nColumns: [2, 903]\nIndex: []\n     903\n903  NaN\nEmpty DataFrame\nColumns: [2, 904]\nIndex: []\n     904\n904  NaN\nEmpty DataFrame\nColumns: [2, 905]\nIndex: []\nEmpty DataFrame\nColumns: []\nIndex: []\nEmpty DataFrame\nColumns: [2, 906]\nIndex: []\nEmpty DataFrame\nColumns: []\nIndex: []\nEmpty DataFrame\nColumns: [2, 907]\nIndex: []\n     907\n907  NaN\n"
     ]
    },
    {
     "name": "stdout",
     "output_type": "stream",
     "text": [
      "Empty DataFrame\nColumns: [2, 908]\nIndex: []\nEmpty DataFrame\nColumns: []\nIndex: []\nEmpty DataFrame\nColumns: [2, 909]\nIndex: []\nEmpty DataFrame\nColumns: []\nIndex: []\nEmpty DataFrame\nColumns: [2, 910]\nIndex: []\nEmpty DataFrame\nColumns: []\nIndex: []\nEmpty DataFrame\nColumns: [2, 911]\nIndex: []\nEmpty DataFrame\nColumns: []\nIndex: []\nEmpty DataFrame\nColumns: [2, 912]\nIndex: []\nEmpty DataFrame\nColumns: []\nIndex: []\nEmpty DataFrame\nColumns: [2, 913]\nIndex: []\nEmpty DataFrame\nColumns: []\nIndex: []\nEmpty DataFrame\nColumns: [2, 914]\nIndex: []\nEmpty DataFrame\nColumns: []\nIndex: []\nEmpty DataFrame\nColumns: [2, 915]\nIndex: []\nEmpty DataFrame\nColumns: []\nIndex: []\nEmpty DataFrame\nColumns: [2, 916]\nIndex: []\nEmpty DataFrame\nColumns: []\nIndex: []\nEmpty DataFrame\nColumns: [2, 917]\nIndex: []\nEmpty DataFrame\nColumns: []\nIndex: []\nEmpty DataFrame\nColumns: [2, 918]\nIndex: []\nEmpty DataFrame\nColumns: []\nIndex: []\nEmpty DataFrame\nColumns: [2, 919]\nIndex: []\nEmpty DataFrame\nColumns: []\nIndex: []\nEmpty DataFrame\nColumns: [2, 920]\nIndex: []\nEmpty DataFrame\nColumns: []\nIndex: []\nEmpty DataFrame\nColumns: [2, 921]\nIndex: []\nEmpty DataFrame\nColumns: []\nIndex: []\nEmpty DataFrame\nColumns: [2, 922]\nIndex: []\nEmpty DataFrame\nColumns: []\nIndex: []\nEmpty DataFrame\nColumns: [2, 923]\nIndex: []\nEmpty DataFrame\nColumns: []\nIndex: []"
     ]
    },
    {
     "name": "stdout",
     "output_type": "stream",
     "text": [
      "\nEmpty DataFrame\nColumns: [2, 924]\nIndex: []\nEmpty DataFrame\nColumns: []\nIndex: []\nEmpty DataFrame\nColumns: [2, 925]\nIndex: []\n     925\n925  NaN\nEmpty DataFrame\nColumns: [2, 926]\nIndex: []\nEmpty DataFrame\nColumns: []\nIndex: []\nEmpty DataFrame\nColumns: [2, 927]\nIndex: []\nEmpty DataFrame\nColumns: []\nIndex: []\nEmpty DataFrame\nColumns: [2, 928]\nIndex: []\nEmpty DataFrame\nColumns: []\nIndex: []\nEmpty DataFrame\nColumns: [2, 929]\nIndex: []\nEmpty DataFrame\nColumns: []\nIndex: []\nEmpty DataFrame\nColumns: [2, 930]\nIndex: []\nEmpty DataFrame\nColumns: []\nIndex: []\nEmpty DataFrame\nColumns: [2, 931]\nIndex: []\nEmpty DataFrame\nColumns: []\nIndex: []\nEmpty DataFrame\nColumns: [2, 932]\nIndex: []\n     932\n932  NaN\nEmpty DataFrame\nColumns: [2, 933]\nIndex: []\nEmpty DataFrame\nColumns: []\nIndex: []\nEmpty DataFrame\nColumns: [2, 934]\nIndex: []\nEmpty DataFrame\nColumns: []\nIndex: []\nEmpty DataFrame\nColumns: [2, 935]\nIndex: []\nEmpty DataFrame\nColumns: []\nIndex: []\nEmpty DataFrame\nColumns: [2, 936]\nIndex: []\nEmpty DataFrame\nColumns: []\nIndex: []\nEmpty DataFrame\nColumns: [2, 937]\nIndex: []\nEmpty DataFrame\nColumns: []\nIndex: []\nEmpty DataFrame\nColumns: [2, 938]\nIndex: []\nEmpty DataFrame\nColumns: []\nIndex: []\nEmpty DataFrame\nColumns: [2, 939]\nIndex: []\nEmpty DataFrame\nColumns: []\nIndex: []\n"
     ]
    },
    {
     "name": "stdout",
     "output_type": "stream",
     "text": [
      "Empty DataFrame\nColumns: [2, 940]\nIndex: []\nEmpty DataFrame\nColumns: []\nIndex: []\nEmpty DataFrame\nColumns: [2, 941]\nIndex: []\nEmpty DataFrame\nColumns: []\nIndex: []\nEmpty DataFrame\nColumns: [2, 942]\nIndex: []\nEmpty DataFrame\nColumns: []\nIndex: []\nEmpty DataFrame\nColumns: [2, 943]\nIndex: []\nEmpty DataFrame\nColumns: []\nIndex: []\nEmpty DataFrame\nColumns: [2, 944]\nIndex: []\nEmpty DataFrame\nColumns: []\nIndex: []\nEmpty DataFrame\nColumns: [2, 945]\nIndex: []\nEmpty DataFrame\nColumns: []\nIndex: []\nEmpty DataFrame\nColumns: [2, 946]\nIndex: []\nEmpty DataFrame\nColumns: []\nIndex: []\nEmpty DataFrame\nColumns: [2, 947]\nIndex: []\n     947\n947  NaN\nEmpty DataFrame\nColumns: [2, 948]\nIndex: []\nEmpty DataFrame\nColumns: []\nIndex: []\nEmpty DataFrame\nColumns: [2, 949]\nIndex: []\n     949\n949  NaN\nEmpty DataFrame\nColumns: [2, 950]\nIndex: []\nEmpty DataFrame\nColumns: []\nIndex: []\nEmpty DataFrame\nColumns: [2, 951]\nIndex: []\nEmpty DataFrame\nColumns: []\nIndex: []\nEmpty DataFrame\nColumns: [2, 952]\nIndex: []\n     952\n952  NaN\nEmpty DataFrame\nColumns: [2, 953]\nIndex: []\nEmpty DataFrame\nColumns: []\nIndex: []\nEmpty DataFrame\nColumns: [2, 954]\nIndex: []\nEmpty DataFrame\nColumns: []\nIndex: []\nEmpty DataFrame\nColumns: [2, 955]\nIndex: []\nEmpty DataFrame\nColumns: []\nIndex: []\n"
     ]
    },
    {
     "name": "stdout",
     "output_type": "stream",
     "text": [
      "Empty DataFrame\nColumns: [2, 956]\nIndex: []\nEmpty DataFrame\nColumns: []\nIndex: []\nEmpty DataFrame\nColumns: [2, 957]\nIndex: []\nEmpty DataFrame\nColumns: []\nIndex: []\nEmpty DataFrame\nColumns: [2, 958]\nIndex: []\nEmpty DataFrame\nColumns: []\nIndex: []\nEmpty DataFrame\nColumns: [2, 959]\nIndex: []\nEmpty DataFrame\nColumns: []\nIndex: []\nEmpty DataFrame\nColumns: [2, 960]\nIndex: []\nEmpty DataFrame\nColumns: []\nIndex: []\nEmpty DataFrame\nColumns: [2, 961]\nIndex: []\nEmpty DataFrame\nColumns: []\nIndex: []\nEmpty DataFrame\nColumns: [2, 962]\nIndex: []\nEmpty DataFrame\nColumns: []\nIndex: []\nEmpty DataFrame\nColumns: [2, 963]\nIndex: []\nEmpty DataFrame\nColumns: []\nIndex: []\nEmpty DataFrame\nColumns: [2, 964]\nIndex: []\nEmpty DataFrame\nColumns: []\nIndex: []\nEmpty DataFrame\nColumns: [2, 965]\nIndex: []\nEmpty DataFrame\nColumns: []\nIndex: []\nEmpty DataFrame\nColumns: [2, 966]\nIndex: []\nEmpty DataFrame\nColumns: []\nIndex: []\nEmpty DataFrame\nColumns: [2, 967]\nIndex: []\nEmpty DataFrame\nColumns: []\nIndex: []\nEmpty DataFrame\nColumns: [2, 968]\nIndex: []\nEmpty DataFrame\nColumns: []\nIndex: []\nEmpty DataFrame\nColumns: [2, 969]\nIndex: []\nEmpty DataFrame\nColumns: []\nIndex: []\nEmpty DataFrame\nColumns: [2, 970]\nIndex: []\nEmpty DataFrame\nColumns: []\nIndex: []\nEmpty DataFrame\nColumns: [2, 971]\nIndex: []\nEmpty DataFrame\nColumns: []\nIndex: []\n"
     ]
    },
    {
     "name": "stdout",
     "output_type": "stream",
     "text": [
      "Empty DataFrame\nColumns: [2, 972]\nIndex: []\nEmpty DataFrame\nColumns: []\nIndex: []\nEmpty DataFrame\nColumns: [2, 973]\nIndex: []\nEmpty DataFrame\nColumns: []\nIndex: []\nEmpty DataFrame\nColumns: [2, 974]\nIndex: []\nEmpty DataFrame\nColumns: []\nIndex: []\nEmpty DataFrame\nColumns: [2, 975]\nIndex: []\nEmpty DataFrame\nColumns: []\nIndex: []\nEmpty DataFrame\nColumns: [2, 976]\nIndex: []\nEmpty DataFrame\nColumns: []\nIndex: []\nEmpty DataFrame\nColumns: [2, 977]\nIndex: []\nEmpty DataFrame\nColumns: []\nIndex: []\nEmpty DataFrame\nColumns: [2, 978]\nIndex: []\nEmpty DataFrame\nColumns: []\nIndex: []\nEmpty DataFrame\nColumns: [2, 979]\nIndex: []\n     979\n979  NaN\nEmpty DataFrame\nColumns: [2, 980]\nIndex: []\nEmpty DataFrame\nColumns: []\nIndex: []\nEmpty DataFrame\nColumns: [2, 981]\nIndex: []\n     981\n981  NaN\nEmpty DataFrame\nColumns: [2, 982]\nIndex: []\n     982\n982  NaN\nEmpty DataFrame\nColumns: [2, 983]\nIndex: []\nEmpty DataFrame\nColumns: []\nIndex: []\nEmpty DataFrame\nColumns: [2, 984]\nIndex: []\nEmpty DataFrame\nColumns: []\nIndex: []\nEmpty DataFrame\nColumns: [2, 985]\nIndex: []\n"
     ]
    },
    {
     "name": "stdout",
     "output_type": "stream",
     "text": [
      "Empty DataFrame\nColumns: []\nIndex: []\nEmpty DataFrame\nColumns: [2, 986]\nIndex: []\n     986\n986  NaN\nEmpty DataFrame\nColumns: [2, 987]\nIndex: []\nEmpty DataFrame\nColumns: []\nIndex: []\nEmpty DataFrame\nColumns: [2, 988]\nIndex: []\nEmpty DataFrame\nColumns: []\nIndex: []\nEmpty DataFrame\nColumns: [2, 989]\nIndex: []\n     989\n989  NaN\nEmpty DataFrame\nColumns: [2, 990]\nIndex: []\nEmpty DataFrame\nColumns: []\nIndex: []\nEmpty DataFrame\nColumns: [2, 991]\nIndex: []\n     991\n991  NaN\nEmpty DataFrame\nColumns: [2, 992]\nIndex: []\n     992\n992  NaN\nEmpty DataFrame\nColumns: [2, 993]\nIndex: []\nEmpty DataFrame\nColumns: []\nIndex: []\nEmpty DataFrame\nColumns: [2, 994]\nIndex: []\nEmpty DataFrame\nColumns: []\nIndex: []\nEmpty DataFrame\nColumns: [2, 995]\nIndex: []\nEmpty DataFrame\nColumns: []\nIndex: []\nEmpty DataFrame\nColumns: [2, 996]\nIndex: []\nEmpty DataFrame\nColumns: []\nIndex: []\nEmpty DataFrame\nColumns: [2, 997]\nIndex: []\n     997\n997  NaN\nEmpty DataFrame\nColumns: [2, 998]\nIndex: []\n     998\n998  NaN\nEmpty DataFrame\nColumns: [2, 999]\nIndex: []\nEmpty DataFrame\nColumns: []\nIndex: []\n"
     ]
    },
    {
     "name": "stdout",
     "output_type": "stream",
     "text": [
      "Empty DataFrame\nColumns: [2, 1000]\nIndex: []\nEmpty DataFrame\nColumns: []\nIndex: []\nEmpty DataFrame\nColumns: [2, 1001]\nIndex: []\nEmpty DataFrame\nColumns: []\nIndex: []\nEmpty DataFrame\nColumns: [2, 1002]\nIndex: []\nEmpty DataFrame\nColumns: []\nIndex: []\nEmpty DataFrame\nColumns: [2, 1003]\nIndex: []\n      1003\n1003   NaN\nEmpty DataFrame\nColumns: [2, 1004]\nIndex: []\n      1004\n1004   NaN\nEmpty DataFrame\nColumns: [2, 1005]\nIndex: []\n      1005\n1005   NaN\nEmpty DataFrame\nColumns: [2, 1006]\nIndex: []\n      1006\n1006   NaN\nEmpty DataFrame\nColumns: [2, 1007]\nIndex: []\n      1007\n1007   NaN\nEmpty DataFrame\nColumns: [2, 1008]\nIndex: []\nEmpty DataFrame\nColumns: []\nIndex: []\nEmpty DataFrame\nColumns: [2, 1009]\nIndex: []\n      1009\n1009   NaN\nEmpty DataFrame\nColumns: [2, 1010]\nIndex: []\n      1010\n1010   NaN\nEmpty DataFrame\nColumns: [2, 1011]\nIndex: []\nEmpty DataFrame\nColumns: []\nIndex: []\nEmpty DataFrame\nColumns: [2, 1012]\nIndex: []\n      1012\n1012   NaN\nEmpty DataFrame\nColumns: [2, 1013]\nIndex: []\nEmpty DataFrame\nColumns: []\nIndex: []\nEmpty DataFrame\nColumns: [2, 1014]\nIndex: []\n      1014\n1014   NaN\nEmpty DataFrame\nColumns: [2, 1015]\nIndex: []\n"
     ]
    },
    {
     "name": "stdout",
     "output_type": "stream",
     "text": [
      "      1015\n1015   NaN\nEmpty DataFrame\nColumns: [2, 1016]\nIndex: []\n      1016\n1016   NaN\nEmpty DataFrame\nColumns: [2, 1017]\nIndex: []\nEmpty DataFrame\nColumns: []\nIndex: []\nEmpty DataFrame\nColumns: [2, 1018]\nIndex: []\nEmpty DataFrame\nColumns: []\nIndex: []\nEmpty DataFrame\nColumns: [2, 1019]\nIndex: []\nEmpty DataFrame\nColumns: []\nIndex: []\nEmpty DataFrame\nColumns: [2, 1020]\nIndex: []\n      1020\n1020   NaN\nEmpty DataFrame\nColumns: [2, 1021]\nIndex: []\nEmpty DataFrame\nColumns: []\nIndex: []\nEmpty DataFrame\nColumns: [2, 1022]\nIndex: []\nEmpty DataFrame\nColumns: []\nIndex: []\nEmpty DataFrame\nColumns: [2, 1023]\nIndex: []\n      1023\n1023   NaN\nEmpty DataFrame\nColumns: [2, 1024]\nIndex: []\n      1024\n1024   NaN\nEmpty DataFrame\nColumns: [2, 1025]\nIndex: []\n      1025\n1025   NaN\nEmpty DataFrame\nColumns: [2, 1026]\nIndex: []\n      1026\n1026   NaN\nEmpty DataFrame\nColumns: [2, 1027]\nIndex: []\n      1027\n1027   NaN\nEmpty DataFrame\nColumns: [2, 1028]\nIndex: []\n      1028\n1028   NaN\n"
     ]
    },
    {
     "name": "stdout",
     "output_type": "stream",
     "text": [
      "Empty DataFrame\nColumns: [2, 1029]\nIndex: []\n      1029\n1029   NaN\nEmpty DataFrame\nColumns: [2, 1030]\nIndex: []\n      1030\n1030   NaN\nEmpty DataFrame\nColumns: [2, 1031]\nIndex: []\n      1031\n1031   NaN\nEmpty DataFrame\nColumns: [2, 1032]\nIndex: []\n      1032\n1032   NaN\nEmpty DataFrame\nColumns: [2, 1033]\nIndex: []\nEmpty DataFrame\nColumns: []\nIndex: []\nEmpty DataFrame\nColumns: [2, 1034]\nIndex: []\nEmpty DataFrame\nColumns: []\nIndex: []\nEmpty DataFrame\nColumns: [2, 1035]\nIndex: []\n      1035\n1035   NaN\nEmpty DataFrame\nColumns: [2, 1036]\nIndex: []\n      1036\n1036   NaN\nEmpty DataFrame\nColumns: [2, 1037]\nIndex: []\n      1037\n1037   NaN\nEmpty DataFrame\nColumns: [2, 1038]\nIndex: []\n      1038\n1038   NaN\nEmpty DataFrame\nColumns: [3, 4]\nIndex: []\n    3\n3 NaN\n"
     ]
    },
    {
     "name": "stdout",
     "output_type": "stream",
     "text": [
      "Empty DataFrame\nColumns: [3, 5]\nIndex: []\n    3\n3 NaN\nEmpty DataFrame\nColumns: [3, 6]\nIndex: []\n    3\n3 NaN\nEmpty DataFrame\nColumns: [3, 7]\nIndex: []\n    3\n3 NaN\nEmpty DataFrame\nColumns: [3, 8]\nIndex: []\n    3\n3 NaN\nEmpty DataFrame\nColumns: [3, 9]\nIndex: []\n    3\n3 NaN\nEmpty DataFrame\nColumns: [3, 10]\nIndex: []\n    3\n3 NaN\nEmpty DataFrame\nColumns: [3, 11]\nIndex: []\n    3\n3 NaN\nEmpty DataFrame\nColumns: [3, 12]\nIndex: []\n    3\n3 NaN\nEmpty DataFrame\nColumns: [3, 13]\nIndex: []\n    3\n3 NaN\nEmpty DataFrame\nColumns: [3, 14]\nIndex: []\n    3\n3 NaN\n"
     ]
    },
    {
     "name": "stdout",
     "output_type": "stream",
     "text": [
      "Empty DataFrame\nColumns: [3, 15]\nIndex: []\n    3\n3 NaN\nEmpty DataFrame\nColumns: [3, 16]\nIndex: []\n    3\n3 NaN\nEmpty DataFrame\nColumns: [3, 17]\nIndex: []\n    3\n3 NaN\nEmpty DataFrame\nColumns: [3, 18]\nIndex: []\n    3\n3 NaN\nEmpty DataFrame\nColumns: [3, 19]\nIndex: []\n    3   19\n3  NaN NaN\n19 NaN NaN\nEmpty DataFrame\nColumns: [3, 20]\nIndex: []\n    3\n3 NaN\nEmpty DataFrame\nColumns: [3, 21]\nIndex: []\n    3\n3 NaN\nEmpty DataFrame\nColumns: [3, 22]\nIndex: []\n    3\n3 NaN\nEmpty DataFrame\nColumns: [3, 23]\nIndex: []\n    3\n3 NaN\n        3   24\n32858  1.0  49\n29726  3.0  19\n22328  1.0  32\n25548  2.0   9\n38050  1.0   9\n51478  1.0   2\n     3\n3  1.0\nEmpty DataFrame\nColumns: [3, 25]\nIndex: []\n    3   25\n3  NaN NaN\n25 NaN NaN\n"
     ]
    },
    {
     "name": "stdout",
     "output_type": "stream",
     "text": [
      "Empty DataFrame\nColumns: [3, 26]\nIndex: []\n    3\n3 NaN\nEmpty DataFrame\nColumns: [3, 27]\nIndex: []\n    3\n3 NaN\nEmpty DataFrame\nColumns: [3, 28]\nIndex: []\n    3\n3 NaN\nEmpty DataFrame\nColumns: [3, 29]\nIndex: []\n    3\n3 NaN\n        3     30\n29726  3.0  12,8\n    3\n3 NaN\n        3     31\n29726  3.0  3,38\n    3\n3 NaN\n        3     32\n29726  3.0  15,6\n    3\n3 NaN\nEmpty DataFrame\nColumns: [3, 33]\nIndex: []\n    3   33\n3  NaN NaN\n33 NaN NaN\nEmpty DataFrame\nColumns: [3, 34]\nIndex: []\n    3   34\n3  NaN NaN\n34 NaN NaN\nEmpty DataFrame\nColumns: [3, 35]\nIndex: []\n    3   35\n3  NaN NaN\n35 NaN NaN\nEmpty DataFrame\nColumns: [3, 36]\nIndex: []\n    3   36\n3  NaN NaN\n36 NaN NaN\nEmpty DataFrame\nColumns: [3, 37]\nIndex: []\n    3   37\n3  NaN NaN\n37 NaN NaN\n"
     ]
    },
    {
     "name": "stdout",
     "output_type": "stream",
     "text": [
      "Empty DataFrame\nColumns: [3, 38]\nIndex: []\n    3   38\n3  NaN NaN\n38 NaN NaN\nEmpty DataFrame\nColumns: [3, 39]\nIndex: []\n    3   39\n3  NaN NaN\n39 NaN NaN\nEmpty DataFrame\nColumns: [3, 40]\nIndex: []\n    3   40\n3  NaN NaN\n40 NaN NaN\nEmpty DataFrame\nColumns: [3, 41]\nIndex: []\n    3\n3 NaN\nEmpty DataFrame\nColumns: [3, 42]\nIndex: []\n    3\n3 NaN\nEmpty DataFrame\nColumns: [3, 43]\nIndex: []\n    3\n3 NaN\nEmpty DataFrame\nColumns: [3, 44]\nIndex: []\n    3\n3 NaN\nEmpty DataFrame\nColumns: [3, 45]\nIndex: []\n    3\n3 NaN\nEmpty DataFrame\nColumns: [3, 46]\nIndex: []\n    3\n3 NaN\nEmpty DataFrame\nColumns: [3, 47]\nIndex: []\n    3\n3 NaN\nEmpty DataFrame\nColumns: [3, 48]\nIndex: []\n    3\n3 NaN\nEmpty DataFrame\nColumns: [3, 49]\nIndex: []\n    3   49\n3  NaN NaN\n49 NaN NaN\nEmpty DataFrame\nColumns: [3, 50]\nIndex: []\n"
     ]
    },
    {
     "name": "stdout",
     "output_type": "stream",
     "text": [
      "    3\n3 NaN\nEmpty DataFrame\nColumns: [3, 51]\nIndex: []\n    3\n3 NaN\nEmpty DataFrame\nColumns: [3, 52]\nIndex: []\n    3\n3 NaN\nEmpty DataFrame\nColumns: [3, 53]\nIndex: []\n    3\n3 NaN\nEmpty DataFrame\nColumns: [3, 54]\nIndex: []\n    3\n3 NaN\nEmpty DataFrame\nColumns: [3, 55]\nIndex: []\n    3\n3 NaN\nEmpty DataFrame\nColumns: [3, 56]\nIndex: []\n    3\n3 NaN\nEmpty DataFrame\nColumns: [3, 57]\nIndex: []\n    3\n3 NaN\nEmpty DataFrame\nColumns: [3, 58]\nIndex: []\n    3\n3 NaN\nEmpty DataFrame\nColumns: [3, 59]\nIndex: []\n    3\n3 NaN\nEmpty DataFrame\nColumns: [3, 60]\nIndex: []\n    3\n3 NaN\nEmpty DataFrame\nColumns: [3, 61]\nIndex: []\n    3\n3 NaN\nEmpty DataFrame\nColumns: [3, 62]\nIndex: []\n    3\n3 NaN\nEmpty DataFrame\nColumns: [3, 63]\nIndex: []\n    3\n3 NaN\n"
     ]
    },
    {
     "name": "stdout",
     "output_type": "stream",
     "text": [
      "Empty DataFrame\nColumns: [3, 64]\nIndex: []\n    3\n3 NaN\nEmpty DataFrame\nColumns: [3, 65]\nIndex: []\n    3\n3 NaN\nEmpty DataFrame\nColumns: [3, 66]\nIndex: []\n    3\n3 NaN\nEmpty DataFrame\nColumns: [3, 67]\nIndex: []\n    3\n3 NaN\nEmpty DataFrame\nColumns: [3, 68]\nIndex: []\n    3\n3 NaN\nEmpty DataFrame\nColumns: [3, 69]\nIndex: []\n    3   69\n3  NaN NaN\n69 NaN NaN\nEmpty DataFrame\nColumns: [3, 70]\nIndex: []\n    3   70\n3  NaN NaN\n70 NaN NaN\nEmpty DataFrame\nColumns: [3, 71]\nIndex: []\n    3\n3 NaN\nEmpty DataFrame\nColumns: [3, 72]\nIndex: []\n    3\n3 NaN\nEmpty DataFrame\nColumns: [3, 73]\nIndex: []\n    3\n3 NaN\nEmpty DataFrame\nColumns: [3, 74]\nIndex: []\n    3   74\n3  NaN NaN\n74 NaN NaN\nEmpty DataFrame\nColumns: [3, 75]\nIndex: []\n    3\n3 NaN\nEmpty DataFrame\nColumns: [3, 76]\nIndex: []\n    3\n3 NaN\nEmpty DataFrame\nColumns: [3, 77]\nIndex: []\n    3   77\n3  NaN NaN\n77 NaN NaN\nEmpty DataFrame\nColumns: [3, 78]\nIndex: []\n    3   78\n3  NaN NaN\n78 NaN NaN\nEmpty DataFrame\nColumns: [3, 79]\nIndex: []\n    3\n3 NaN\nEmpty DataFrame\nColumns: [3, 80]\nIndex: []\n    3\n3 NaN\nEmpty DataFrame\nColumns: [3, 81]\nIndex: []\n"
     ]
    },
    {
     "name": "stdout",
     "output_type": "stream",
     "text": [
      "    3\n3 NaN\nEmpty DataFrame\nColumns: [3, 82]\nIndex: []\n    3   82\n3  NaN NaN\n82 NaN NaN\nEmpty DataFrame\nColumns: [3, 83]\nIndex: []\n    3\n3 NaN\nEmpty DataFrame\nColumns: [3, 84]\nIndex: []\n    3\n3 NaN\nEmpty DataFrame\nColumns: [3, 85]\nIndex: []\n    3   85\n3  NaN NaN\n85 NaN NaN\nEmpty DataFrame\nColumns: [3, 86]\nIndex: []\n    3   86\n3  NaN NaN\n86 NaN NaN\nEmpty DataFrame\nColumns: [3, 87]\nIndex: []\n    3   87\n3  NaN NaN\n87 NaN NaN\nEmpty DataFrame\nColumns: [3, 88]\nIndex: []\n    3\n3 NaN\nEmpty DataFrame\nColumns: [3, 89]\nIndex: []\n    3\n3 NaN\nEmpty DataFrame\nColumns: [3, 90]\nIndex: []\n    3\n3 NaN\nEmpty DataFrame\nColumns: [3, 91]\nIndex: []\n    3\n3 NaN\nEmpty DataFrame\nColumns: [3, 92]\nIndex: []\n    3\n3 NaN\nEmpty DataFrame\nColumns: [3, 93]\nIndex: []\n    3\n3 NaN\nEmpty DataFrame\nColumns: [3, 94]\nIndex: []\n    3   94\n3  NaN NaN\n94 NaN NaN\nEmpty DataFrame\nColumns: [3, 95]\nIndex: []\n    3   95\n3  NaN NaN\n95 NaN NaN\nEmpty DataFrame\nColumns: [3, 96]\nIndex: []\n    3\n3 NaN\n"
     ]
    },
    {
     "name": "stdout",
     "output_type": "stream",
     "text": [
      "        3    97\n32858  1.0  0.0\n29726  3.0  0.0\n22328  1.0  0.0\n25548  2.0  0.0\n38050  1.0  0.0\n51478  1.0  0.0\n     3   97\n3   1.0 NaN\n97  NaN NaN\nEmpty DataFrame\nColumns: [3, 98]\nIndex: []\n    3   98\n3  NaN NaN\n98 NaN NaN\nEmpty DataFrame\nColumns: [3, 99]\nIndex: []\n    3\n3 NaN\nEmpty DataFrame\nColumns: [3, 100]\nIndex: []\n     3    100\n3    NaN  NaN\n100  NaN  NaN\nEmpty DataFrame\nColumns: [3, 101]\nIndex: []\n    3\n3 NaN\nEmpty DataFrame\nColumns: [3, 102]\nIndex: []\n    3\n3 NaN\nEmpty DataFrame\nColumns: [3, 103]\nIndex: []\n    3\n3 NaN\nEmpty DataFrame\nColumns: [3, 104]\nIndex: []\n    3\n3 NaN\nEmpty DataFrame\nColumns: [3, 105]\nIndex: []\n     3    105\n3    NaN  NaN\n105  NaN  NaN\nEmpty DataFrame\nColumns: [3, 106]\nIndex: []\n     3    106\n3    NaN  NaN\n106  NaN  NaN\nEmpty DataFrame\nColumns: [3, 107]\nIndex: []\n     3    107\n3    NaN  NaN\n107  NaN  NaN\nEmpty DataFrame\nColumns: [3, 108]\nIndex: []\n     3    108\n3    NaN  NaN\n108  NaN  NaN\nEmpty DataFrame\nColumns: [3, 109]\nIndex: []\n     3    109\n3    NaN  NaN\n109  NaN  NaN\n"
     ]
    },
    {
     "name": "stdout",
     "output_type": "stream",
     "text": [
      "Empty DataFrame\nColumns: [3, 110]\nIndex: []\n     3    110\n3    NaN  NaN\n110  NaN  NaN\nEmpty DataFrame\nColumns: [3, 111]\nIndex: []\n     3    111\n3    NaN  NaN\n111  NaN  NaN\nEmpty DataFrame\nColumns: [3, 112]\nIndex: []\n    3\n3 NaN\nEmpty DataFrame\nColumns: [3, 113]\nIndex: []\n    3\n3 NaN\nEmpty DataFrame\nColumns: [3, 114]\nIndex: []\n    3\n3 NaN\nEmpty DataFrame\nColumns: [3, 115]\nIndex: []\n    3\n3 NaN\nEmpty DataFrame\nColumns: [3, 116]\nIndex: []\n    3\n3 NaN\nEmpty DataFrame\nColumns: [3, 117]\nIndex: []\n     3    117\n3    NaN  NaN\n117  NaN  NaN\nEmpty DataFrame\nColumns: [3, 118]\nIndex: []\n     3    118\n3    NaN  NaN\n118  NaN  NaN\nEmpty DataFrame\nColumns: [3, 119]\nIndex: []\n     3    119\n3    NaN  NaN\n119  NaN  NaN\nEmpty DataFrame\nColumns: [3, 120]\nIndex: []\n     3    120\n3    NaN  NaN\n120  NaN  NaN\nEmpty DataFrame\nColumns: [3, 121]\nIndex: []\n     3    121\n3    NaN  NaN\n121  NaN  NaN\nEmpty DataFrame\nColumns: [3, 122]\nIndex: []\n     3    122\n3    NaN  NaN\n122  NaN  NaN\n"
     ]
    },
    {
     "name": "stdout",
     "output_type": "stream",
     "text": [
      "Empty DataFrame\nColumns: [3, 123]\nIndex: []\n     3    123\n3    NaN  NaN\n123  NaN  NaN\nEmpty DataFrame\nColumns: [3, 124]\nIndex: []\n     3    124\n3    NaN  NaN\n124  NaN  NaN\nEmpty DataFrame\nColumns: [3, 125]\nIndex: []\n     3    125\n3    NaN  NaN\n125  NaN  NaN\nEmpty DataFrame\nColumns: [3, 126]\nIndex: []\n    3\n3 NaN\nEmpty DataFrame\nColumns: [3, 127]\nIndex: []\n    3\n3 NaN\nEmpty DataFrame\nColumns: [3, 128]\nIndex: []\n    3\n3 NaN\nEmpty DataFrame\nColumns: [3, 129]\nIndex: []\n    3\n3 NaN\nEmpty DataFrame\nColumns: [3, 130]\nIndex: []\n     3    130\n3    NaN  NaN\n130  NaN  NaN\nEmpty DataFrame\nColumns: [3, 131]\nIndex: []\n    3\n3 NaN\nEmpty DataFrame\nColumns: [3, 132]\nIndex: []\n    3\n3 NaN\nEmpty DataFrame\nColumns: [3, 133]\nIndex: []\n    3\n3 NaN\nEmpty DataFrame\nColumns: [3, 134]\nIndex: []\n    3\n3 NaN\n"
     ]
    },
    {
     "name": "stdout",
     "output_type": "stream",
     "text": [
      "Empty DataFrame\nColumns: [3, 135]\nIndex: []\n    3\n3 NaN\nEmpty DataFrame\nColumns: [3, 136]\nIndex: []\n    3\n3 NaN\nEmpty DataFrame\nColumns: [3, 137]\nIndex: []\n    3\n3 NaN\nEmpty DataFrame\nColumns: [3, 138]\nIndex: []\n    3\n3 NaN\nEmpty DataFrame\nColumns: [3, 139]\nIndex: []\n    3\n3 NaN\n       3   140\n29726  3.0  21\n    3\n3 NaN\n       3   141\n29726  3.0  13\n    3\n3 NaN\nEmpty DataFrame\nColumns: [3, 142]\nIndex: []\n    3\n3 NaN\n       3      143\n29726  3.0  148,9\n22328  1.0  96,61\n     3\n3  1.0\nEmpty DataFrame\nColumns: [3, 144]\nIndex: []\n    3\n3 NaN\n       3    145\n29726  3.0  3,2\n    3\n3 NaN\nEmpty DataFrame\nColumns: [3, 146]\nIndex: []\n    3\n3 NaN\nEmpty DataFrame\nColumns: [3, 147]\nIndex: []\n    3\n3 NaN\n"
     ]
    },
    {
     "name": "stdout",
     "output_type": "stream",
     "text": [
      "Empty DataFrame\nColumns: [3, 148]\nIndex: []\n    3\n3 NaN\n       3     149\n29726  3.0  4,65\n22328  1.0  7,01\n38050  1.0  4,63\n51478  1.0  5,07\n     3\n3  1.0\nEmpty DataFrame\nColumns: [3, 150]\nIndex: []\n    3\n3 NaN\nEmpty DataFrame\nColumns: [3, 151]\nIndex: []\n    3\n3 NaN\nEmpty DataFrame\nColumns: [3, 152]\nIndex: []\n     3    152\n3    NaN  NaN\n152  NaN  NaN\nEmpty DataFrame\nColumns: [3, 153]\nIndex: []\n     3    153\n3    NaN  NaN\n153  NaN  NaN\nEmpty DataFrame\nColumns: [3, 154]\nIndex: []\n     3    154\n3    NaN  NaN\n154  NaN  NaN\nEmpty DataFrame\nColumns: [3, 155]\nIndex: []\n    3\n3 NaN\nEmpty DataFrame\nColumns: [3, 156]\nIndex: []\n    3\n3 NaN\nEmpty DataFrame\nColumns: [3, 157]\nIndex: []\n    3\n3 NaN\nEmpty DataFrame\nColumns: [3, 158]\nIndex: []\n    3\n3 NaN\nEmpty DataFrame\nColumns: [3, 159]\nIndex: []\n    3\n3 NaN\nEmpty DataFrame\nColumns: [3, 160]\nIndex: []\n    3\n3 NaN\nEmpty DataFrame\nColumns: [3, 161]\nIndex: []\n    3\n3 NaN\nEmpty DataFrame\nColumns: [3, 162]\nIndex: []\n     3    162\n3    NaN  NaN\n162  NaN  NaN\nEmpty DataFrame\nColumns: [3, 163]\nIndex: []\n    3\n3 NaN\nEmpty DataFrame\nColumns: [3, 164]\nIndex: []"
     ]
    },
    {
     "name": "stdout",
     "output_type": "stream",
     "text": [
      "\n    3\n3 NaN\nEmpty DataFrame\nColumns: [3, 165]\nIndex: []\n     3    165\n3    NaN  NaN\n165  NaN  NaN\nEmpty DataFrame\nColumns: [3, 166]\nIndex: []\n    3\n3 NaN\nEmpty DataFrame\nColumns: [3, 167]\nIndex: []\n    3\n3 NaN\nEmpty DataFrame\nColumns: [3, 168]\nIndex: []\n    3\n3 NaN\nEmpty DataFrame\nColumns: [3, 169]\nIndex: []\n    3\n3 NaN\nEmpty DataFrame\nColumns: [3, 170]\nIndex: []\n    3\n3 NaN\nEmpty DataFrame\nColumns: [3, 171]\nIndex: []\n    3\n3 NaN\nEmpty DataFrame\nColumns: [3, 172]\nIndex: []\n    3\n3 NaN\nEmpty DataFrame\nColumns: [3, 173]\nIndex: []\n    3\n3 NaN\nEmpty DataFrame\nColumns: [3, 174]\nIndex: []\n    3\n3 NaN\nEmpty DataFrame\nColumns: [3, 175]\nIndex: []\n    3\n3 NaN\nEmpty DataFrame\nColumns: [3, 176]\nIndex: []\n     3    176\n3    NaN  NaN\n176  NaN  NaN\nEmpty DataFrame\nColumns: [3, 177]\nIndex: []\n    3\n3 NaN\nEmpty DataFrame\nColumns: [3, 178]\nIndex: []\n    3\n3 NaN\nEmpty DataFrame\nColumns: [3, 179]\nIndex: []\n    3\n3 NaN\nEmpty DataFrame\nColumns: [3, 180]\nIndex: []\n    3\n3 NaN\n"
     ]
    },
    {
     "name": "stdout",
     "output_type": "stream",
     "text": [
      "Empty DataFrame\nColumns: [3, 181]\nIndex: []\n    3\n3 NaN\nEmpty DataFrame\nColumns: [3, 182]\nIndex: []\n    3\n3 NaN\nEmpty DataFrame\nColumns: [3, 183]\nIndex: []\n     3    183\n3    NaN  NaN\n183  NaN  NaN\nEmpty DataFrame\nColumns: [3, 184]\nIndex: []\n    3\n3 NaN\nEmpty DataFrame\nColumns: [3, 185]\nIndex: []\n    3\n3 NaN\nEmpty DataFrame\nColumns: [3, 186]\nIndex: []\n    3\n3 NaN\nEmpty DataFrame\nColumns: [3, 187]\nIndex: []\n    3\n3 NaN\nEmpty DataFrame\nColumns: [3, 188]\nIndex: []\n    3\n3 NaN\nEmpty DataFrame\nColumns: [3, 189]\nIndex: []\n    3\n3 NaN\nEmpty DataFrame\nColumns: [3, 190]\nIndex: []\n    3\n3 NaN\nEmpty DataFrame\nColumns: [3, 191]\nIndex: []\n     3    191\n3    NaN  NaN\n191  NaN  NaN\nEmpty DataFrame\nColumns: [3, 192]\nIndex: []\n     3    192\n3    NaN  NaN\n192  NaN  NaN\nEmpty DataFrame\nColumns: [3, 193]\nIndex: []\n     3    193\n3    NaN  NaN\n193  NaN  NaN\nEmpty DataFrame\nColumns: [3, 194]\nIndex: []\n     3    194\n3    NaN  NaN\n194  NaN  NaN\nEmpty DataFrame\nColumns: [3, 195]\nIndex: []\n    3\n3 NaN\nEmpty DataFrame\nColumns: [3, 196]\nIndex: []\n     3    196\n3    NaN  NaN\n196  NaN  NaN\n"
     ]
    },
    {
     "name": "stdout",
     "output_type": "stream",
     "text": [
      "Empty DataFrame\nColumns: [3, 197]\nIndex: []\n     3    197\n3    NaN  NaN\n197  NaN  NaN\nEmpty DataFrame\nColumns: [3, 198]\nIndex: []\n     3    198\n3    NaN  NaN\n198  NaN  NaN\nEmpty DataFrame\nColumns: [3, 199]\nIndex: []\n     3    199\n3    NaN  NaN\n199  NaN  NaN\nEmpty DataFrame\nColumns: [3, 200]\nIndex: []\n     3    200\n3    NaN  NaN\n200  NaN  NaN\nEmpty DataFrame\nColumns: [3, 201]\nIndex: []\n     3    201\n3    NaN  NaN\n201  NaN  NaN\n       3     202\n29726  3.0   5,6\n22328  1.0  10,1\n     3\n3  1.0\nEmpty DataFrame\nColumns: [3, 203]\nIndex: []\n    3\n3 NaN\nEmpty DataFrame\nColumns: [3, 204]\nIndex: []\n    3\n3 NaN\nEmpty DataFrame\nColumns: [3, 205]\nIndex: []\n    3\n3 NaN\nEmpty DataFrame\nColumns: [3, 206]\nIndex: []\n    3\n3 NaN\nEmpty DataFrame\nColumns: [3, 207]\nIndex: []\n    3\n3 NaN\n       3    208\n22328  1.0  3,5\n    3\n3 NaN\n       3    209\n22328  1.0  6,6\n    3\n3 NaN\nEmpty DataFrame\nColumns: [3, 210]\nIndex: []\n    3\n3 NaN\nEmpty DataFrame\nColumns: [3, 211]\nIndex: []\n    3\n3 NaN\nEmpty DataFrame\nColumns: [3, 212]\nIndex: []\n    3\n3 NaN\nEmpty DataFrame\nColumns: [3, 213]\nIndex: []\n    3\n3 NaN\n"
     ]
    },
    {
     "name": "stdout",
     "output_type": "stream",
     "text": [
      "Empty DataFrame\nColumns: [3, 214]\nIndex: []\n    3\n3 NaN\nEmpty DataFrame\nColumns: [3, 215]\nIndex: []\n    3\n3 NaN\nEmpty DataFrame\nColumns: [3, 216]\nIndex: []\n    3\n3 NaN\nEmpty DataFrame\nColumns: [3, 217]\nIndex: []\n    3\n3 NaN\nEmpty DataFrame\nColumns: [3, 218]\nIndex: []\n     3    218\n3    NaN  NaN\n218  NaN  NaN\nEmpty DataFrame\nColumns: [3, 219]\nIndex: []\n     3    219\n3    NaN  NaN\n219  NaN  NaN\nEmpty DataFrame\nColumns: [3, 220]\nIndex: []\n     3    220\n3    NaN  NaN\n220  NaN  NaN\nEmpty DataFrame\nColumns: [3, 221]\nIndex: []\n     3    221\n3    NaN  NaN\n221  NaN  NaN\nEmpty DataFrame\nColumns: [3, 222]\nIndex: []\n     3    222\n3    NaN  NaN\n222  NaN  NaN\nEmpty DataFrame\nColumns: [3, 223]\nIndex: []\n    3\n3 NaN\n       3      224\n32858  1.0  11,36\n    3\n3 NaN\nEmpty DataFrame\nColumns: [3, 225]\nIndex: []\n    3\n3 NaN\nEmpty DataFrame\nColumns: [3, 226]\nIndex: []\n     3    226\n3    NaN  NaN\n226  NaN  NaN\nEmpty DataFrame\nColumns: [3, 227]\nIndex: []\n     3    227\n3    NaN  NaN\n227  NaN  NaN\nEmpty DataFrame\nColumns: [3, 228]\nIndex: []\n     3    228\n3    NaN  NaN\n228  NaN  NaN\nEmpty DataFrame\nColumns: [3, 229]\nIndex: []\n    3\n3 NaN\nEmpty DataFrame\nColumns: [3, 230]\nIndex: []\n     3    230\n3    NaN  NaN\n230  NaN  NaN\nEmpty DataFrame\nColumns: [3, 231]\nIndex: []\n     3    231\n3    NaN  NaN\n231  NaN  NaN\nEmpty DataFrame\nColumns: [3, 232]\nIndex: []"
     ]
    },
    {
     "name": "stdout",
     "output_type": "stream",
     "text": [
      "\n     3    232\n3    NaN  NaN\n232  NaN  NaN\nEmpty DataFrame\nColumns: [3, 233]\nIndex: []\n    3\n3 NaN\nEmpty DataFrame\nColumns: [3, 234]\nIndex: []\n     3    234\n3    NaN  NaN\n234  NaN  NaN\nEmpty DataFrame\nColumns: [3, 235]\nIndex: []\n     3    235\n3    NaN  NaN\n235  NaN  NaN\nEmpty DataFrame\nColumns: [3, 236]\nIndex: []\n    3\n3 NaN\nEmpty DataFrame\nColumns: [3, 237]\nIndex: []\n     3    237\n3    NaN  NaN\n237  NaN  NaN\nEmpty DataFrame\nColumns: [3, 238]\nIndex: []\n     3    238\n3    NaN  NaN\n238  NaN  NaN\nEmpty DataFrame\nColumns: [3, 239]\nIndex: []\n    3\n3 NaN\nEmpty DataFrame\nColumns: [3, 240]\nIndex: []\n    3\n3 NaN\nEmpty DataFrame\nColumns: [3, 241]\nIndex: []\n    3\n3 NaN\nEmpty DataFrame\nColumns: [3, 242]\nIndex: []\n    3\n3 NaN\nEmpty DataFrame\nColumns: [3, 243]\nIndex: []\n    3\n3 NaN\nEmpty DataFrame\nColumns: [3, 244]\nIndex: []\n     3    244\n3    NaN  NaN\n244  NaN  NaN\nEmpty DataFrame\nColumns: [3, 245]\nIndex: []\n    3\n3 NaN\nEmpty DataFrame\nColumns: [3, 246]\nIndex: []\n     3    246\n3    NaN  NaN\n246  NaN  NaN\nEmpty DataFrame\nColumns: [3, 247]\nIndex: []\n     3    247\n3    NaN  NaN\n247  NaN  NaN\nEmpty DataFrame\nColumns: [3, 248]\nIndex: []\n     3    248\n3    NaN  NaN\n248  NaN  NaN\nEmpty DataFrame\nColumns: [3, 249]\nIndex: []\n    3\n3 NaN\n"
     ]
    },
    {
     "name": "stdout",
     "output_type": "stream",
     "text": [
      "Empty DataFrame\nColumns: [3, 250]\nIndex: []\n     3    250\n3    NaN  NaN\n250  NaN  NaN\nEmpty DataFrame\nColumns: [3, 251]\nIndex: []\n     3    251\n3    NaN  NaN\n251  NaN  NaN\nEmpty DataFrame\nColumns: [3, 252]\nIndex: []\n    3\n3 NaN\nEmpty DataFrame\nColumns: [3, 253]\nIndex: []\n     3    253\n3    NaN  NaN\n253  NaN  NaN\nEmpty DataFrame\nColumns: [3, 254]\nIndex: []\n     3    254\n3    NaN  NaN\n254  NaN  NaN\nEmpty DataFrame\nColumns: [3, 255]\nIndex: []\n    3\n3 NaN\nEmpty DataFrame\nColumns: [3, 256]\nIndex: []\n    3\n3 NaN\nEmpty DataFrame\nColumns: [3, 257]\nIndex: []\n     3    257\n3    NaN  NaN\n257  NaN  NaN\nEmpty DataFrame\nColumns: [3, 258]\nIndex: []\n     3    258\n3    NaN  NaN\n258  NaN  NaN\nEmpty DataFrame\nColumns: [3, 259]\nIndex: []\n    3\n3 NaN\nEmpty DataFrame\nColumns: [3, 260]\nIndex: []\n    3\n3 NaN\nEmpty DataFrame\nColumns: [3, 261]\nIndex: []\n    3\n3 NaN\nEmpty DataFrame\nColumns: [3, 262]\nIndex: []\n    3\n3 NaN\nEmpty DataFrame\nColumns: [3, 263]\nIndex: []\n    3\n3 NaN\nEmpty DataFrame\nColumns: [3, 264]\nIndex: []\n    3\n3 NaN\nEmpty DataFrame\nColumns: [3, 265]\nIndex: []\n    3\n3 NaN\nEmpty DataFrame\nColumns: [3, 266]\nIndex: []\n     3    266\n3    NaN  NaN\n266  NaN  NaN\nEmpty DataFrame\nColumns: [3, 267]\nIndex: []\n     3    267\n3    NaN  NaN\n267  NaN  NaN\n"
     ]
    },
    {
     "name": "stdout",
     "output_type": "stream",
     "text": [
      "Empty DataFrame\nColumns: [3, 268]\nIndex: []\n    3\n3 NaN\nEmpty DataFrame\nColumns: [3, 269]\nIndex: []\n    3\n3 NaN\nEmpty DataFrame\nColumns: [3, 270]\nIndex: []\n    3\n3 NaN\nEmpty DataFrame\nColumns: [3, 271]\nIndex: []\n     3    271\n3    NaN  NaN\n271  NaN  NaN\nEmpty DataFrame\nColumns: [3, 272]\nIndex: []\n     3    272\n3    NaN  NaN\n272  NaN  NaN\nEmpty DataFrame\nColumns: [3, 273]\nIndex: []\n    3\n3 NaN\nEmpty DataFrame\nColumns: [3, 274]\nIndex: []\n    3\n3 NaN\nEmpty DataFrame\nColumns: [3, 275]\nIndex: []\n    3\n3 NaN\nEmpty DataFrame\nColumns: [3, 276]\nIndex: []\n    3\n3 NaN\nEmpty DataFrame\nColumns: [3, 277]\nIndex: []\n    3\n3 NaN\nEmpty DataFrame\nColumns: [3, 278]\nIndex: []\n    3\n3 NaN\nEmpty DataFrame\nColumns: [3, 279]\nIndex: []\n     3    279\n3    NaN  NaN\n279  NaN  NaN\nEmpty DataFrame\nColumns: [3, 280]\nIndex: []\n    3\n3 NaN\n       3     281\n32858  1.0  18,3\n    3\n3 NaN\nEmpty DataFrame\nColumns: [3, 282]\nIndex: []\n    3\n3 NaN\nEmpty DataFrame\nColumns: [3, 283]\nIndex: []"
     ]
    },
    {
     "name": "stdout",
     "output_type": "stream",
     "text": [
      "\n    3\n3 NaN\nEmpty DataFrame\nColumns: [3, 284]\nIndex: []\n    3\n3 NaN\nEmpty DataFrame\nColumns: [3, 285]\nIndex: []\n     3    285\n3    NaN  NaN\n285  NaN  NaN\nEmpty DataFrame\nColumns: [3, 286]\nIndex: []\n    3\n3 NaN\nEmpty DataFrame\nColumns: [3, 287]\nIndex: []\n    3\n3 NaN\nEmpty DataFrame\nColumns: [3, 288]\nIndex: []\n    3\n3 NaN\nEmpty DataFrame\nColumns: [3, 289]\nIndex: []\n    3\n3 NaN\nEmpty DataFrame\nColumns: [3, 290]\nIndex: []\n     3    290\n3    NaN  NaN\n290  NaN  NaN\nEmpty DataFrame\nColumns: [3, 291]\nIndex: []\n     3    291\n3    NaN  NaN\n291  NaN  NaN\nEmpty DataFrame\nColumns: [3, 292]\nIndex: []\n    3\n3 NaN\nEmpty DataFrame\nColumns: [3, 293]\nIndex: []\n     3    293\n3    NaN  NaN\n293  NaN  NaN\nEmpty DataFrame\nColumns: [3, 294]\nIndex: []\n    3\n3 NaN\nEmpty DataFrame\nColumns: [3, 295]\nIndex: []\n     3    295\n3    NaN  NaN\n295  NaN  NaN\nEmpty DataFrame\nColumns: [3, 296]\nIndex: []\n     3    296\n3    NaN  NaN\n296  NaN  NaN\nEmpty DataFrame\nColumns: [3, 297]\nIndex: []\n     3    297\n3    NaN  NaN\n297  NaN  NaN\nEmpty DataFrame\nColumns: [3, 298]\nIndex: []\n    3\n3 NaN\n"
     ]
    },
    {
     "name": "stdout",
     "output_type": "stream",
     "text": [
      "Empty DataFrame\nColumns: [3, 299]\nIndex: []\n    3\n3 NaN\nEmpty DataFrame\nColumns: [3, 300]\nIndex: []\n    3\n3 NaN\n       3      301\n32858  1.0  73,06\n    3\n3 NaN\n       3     302\n32858  1.0  61,7\n    3\n3 NaN\nEmpty DataFrame\nColumns: [3, 303]\nIndex: []\n    3\n3 NaN\nEmpty DataFrame\nColumns: [3, 304]\nIndex: []\n    3\n3 NaN\nEmpty DataFrame\nColumns: [3, 305]\nIndex: []\n    3\n3 NaN\nEmpty DataFrame\nColumns: [3, 306]\nIndex: []\n    3\n3 NaN\nEmpty DataFrame\nColumns: [3, 307]\nIndex: []\n     3    307\n3    NaN  NaN\n307  NaN  NaN\nEmpty DataFrame\nColumns: [3, 308]\nIndex: []\n     3    308\n3    NaN  NaN\n308  NaN  NaN\nEmpty DataFrame\nColumns: [3, 309]\nIndex: []\n     3    309\n3    NaN  NaN\n309  NaN  NaN\nEmpty DataFrame\nColumns: [3, 310]\nIndex: []\n     3    310\n3    NaN  NaN\n310  NaN  NaN\nEmpty DataFrame\nColumns: [3, 311]\nIndex: []\n    3\n3 NaN\nEmpty DataFrame\nColumns: [3, 312]\nIndex: []\n    3\n3 NaN\nEmpty DataFrame\nColumns: [3, 313]\nIndex: []\n    3\n3 NaN\nEmpty DataFrame\nColumns: [3, 314]\nIndex: []\n     3    314\n3    NaN  NaN\n314  NaN  NaN\nEmpty DataFrame\nColumns: [3, 315]\nIndex: []"
     ]
    },
    {
     "name": "stdout",
     "output_type": "stream",
     "text": [
      "\n     3    315\n3    NaN  NaN\n315  NaN  NaN\nEmpty DataFrame\nColumns: [3, 316]\nIndex: []\n    3\n3 NaN\nEmpty DataFrame\nColumns: [3, 317]\nIndex: []\n    3\n3 NaN\nEmpty DataFrame\nColumns: [3, 318]\nIndex: []\n    3\n3 NaN\nEmpty DataFrame\nColumns: [3, 319]\nIndex: []\n     3    319\n3    NaN  NaN\n319  NaN  NaN\nEmpty DataFrame\nColumns: [3, 320]\nIndex: []\n     3    320\n3    NaN  NaN\n320  NaN  NaN\nEmpty DataFrame\nColumns: [3, 321]\nIndex: []\n     3    321\n3    NaN  NaN\n321  NaN  NaN\nEmpty DataFrame\nColumns: [3, 322]\nIndex: []\n    3\n3 NaN\nEmpty DataFrame\nColumns: [3, 323]\nIndex: []\n    3\n3 NaN\nEmpty DataFrame\nColumns: [3, 324]\nIndex: []\n    3\n3 NaN\nEmpty DataFrame\nColumns: [3, 325]\nIndex: []\n    3\n3 NaN\nEmpty DataFrame\nColumns: [3, 326]\nIndex: []\n    3\n3 NaN\nEmpty DataFrame\nColumns: [3, 327]\nIndex: []\n    3\n3 NaN\nEmpty DataFrame\nColumns: [3, 328]\nIndex: []\n    3\n3 NaN\nEmpty DataFrame\nColumns: [3, 329]\nIndex: []\n    3\n3 NaN\nEmpty DataFrame\nColumns: [3, 330]\nIndex: []\n    3\n3 NaN\n"
     ]
    },
    {
     "name": "stdout",
     "output_type": "stream",
     "text": [
      "Empty DataFrame\nColumns: [3, 331]\nIndex: []\n    3\n3 NaN\nEmpty DataFrame\nColumns: [3, 332]\nIndex: []\n    3\n3 NaN\nEmpty DataFrame\nColumns: [3, 333]\nIndex: []\n     3    333\n3    NaN  NaN\n333  NaN  NaN\nEmpty DataFrame\nColumns: [3, 334]\nIndex: []\n     3    334\n3    NaN  NaN\n334  NaN  NaN\nEmpty DataFrame\nColumns: [3, 335]\nIndex: []\n    3\n3 NaN\nEmpty DataFrame\nColumns: [3, 336]\nIndex: []\n    3\n3 NaN\nEmpty DataFrame\nColumns: [3, 337]\nIndex: []\n     3    337\n3    NaN  NaN\n337  NaN  NaN\nEmpty DataFrame\nColumns: [3, 338]\nIndex: []\n     3    338\n3    NaN  NaN\n338  NaN  NaN\nEmpty DataFrame\nColumns: [3, 339]\nIndex: []\n     3    339\n3    NaN  NaN\n339  NaN  NaN\nEmpty DataFrame\nColumns: [3, 340]\nIndex: []\n    3\n3 NaN\nEmpty DataFrame\nColumns: [3, 341]\nIndex: []\n    3\n3 NaN\nEmpty DataFrame\nColumns: [3, 342]\nIndex: []\n    3\n3 NaN\nEmpty DataFrame\nColumns: [3, 343]\nIndex: []\n    3\n3 NaN\nEmpty DataFrame\nColumns: [3, 344]\nIndex: []\n    3\n3 NaN\nEmpty DataFrame\nColumns: [3, 345]\nIndex: []\n     3    345\n3    NaN  NaN\n345  NaN  NaN\nEmpty DataFrame\nColumns: [3, 346]\nIndex: []\n    3\n3 NaN\nEmpty DataFrame\nColumns: [3, 347]\nIndex: []\n    3\n3 NaN"
     ]
    },
    {
     "name": "stdout",
     "output_type": "stream",
     "text": [
      "\nEmpty DataFrame\nColumns: [3, 348]\nIndex: []\n     3    348\n3    NaN  NaN\n348  NaN  NaN\nEmpty DataFrame\nColumns: [3, 349]\nIndex: []\n    3\n3 NaN\nEmpty DataFrame\nColumns: [3, 350]\nIndex: []\n    3\n3 NaN\nEmpty DataFrame\nColumns: [3, 351]\nIndex: []\n     3    351\n3    NaN  NaN\n351  NaN  NaN\nEmpty DataFrame\nColumns: [3, 352]\nIndex: []\n    3\n3 NaN\nEmpty DataFrame\nColumns: [3, 353]\nIndex: []\n    3\n3 NaN\nEmpty DataFrame\nColumns: [3, 354]\nIndex: []\n     3    354\n3    NaN  NaN\n354  NaN  NaN\nEmpty DataFrame\nColumns: [3, 355]\nIndex: []\n     3    355\n3    NaN  NaN\n355  NaN  NaN\nEmpty DataFrame\nColumns: [3, 356]\nIndex: []\n     3    356\n3    NaN  NaN\n356  NaN  NaN\nEmpty DataFrame\nColumns: [3, 357]\nIndex: []\n     3    357\n3    NaN  NaN\n357  NaN  NaN\nEmpty DataFrame\nColumns: [3, 358]\nIndex: []\n     3    358\n3    NaN  NaN\n358  NaN  NaN\nEmpty DataFrame\nColumns: [3, 359]\nIndex: []\n     3    359\n3    NaN  NaN\n359  NaN  NaN\nEmpty DataFrame\nColumns: [3, 360]\nIndex: []\n     3    360\n3    NaN  NaN\n360  NaN  NaN\nEmpty DataFrame\nColumns: [3, 361]\nIndex: []\n     3    361\n3    NaN  NaN\n361  NaN  NaN\nEmpty DataFrame\nColumns: [3, 362]\nIndex: []\n     3    362\n3    NaN  NaN\n362  NaN  NaN\nEmpty DataFrame\nColumns: [3, 363]\nIndex: []\n    3\n3 NaN\nEmpty DataFrame\nColumns: [3, 364]\nIndex: []\n    3\n3 NaN\n"
     ]
    },
    {
     "name": "stdout",
     "output_type": "stream",
     "text": [
      "Empty DataFrame\nColumns: [3, 365]\nIndex: []\n    3\n3 NaN\nEmpty DataFrame\nColumns: [3, 366]\nIndex: []\n    3\n3 NaN\nEmpty DataFrame\nColumns: [3, 367]\nIndex: []\n     3    367\n3    NaN  NaN\n367  NaN  NaN\nEmpty DataFrame\nColumns: [3, 368]\nIndex: []\n    3\n3 NaN\nEmpty DataFrame\nColumns: [3, 369]\nIndex: []\n     3    369\n3    NaN  NaN\n369  NaN  NaN\nEmpty DataFrame\nColumns: [3, 370]\nIndex: []\n    3\n3 NaN\nEmpty DataFrame\nColumns: [3, 371]\nIndex: []\n    3\n3 NaN\nEmpty DataFrame\nColumns: [3, 372]\nIndex: []\n    3\n3 NaN\nEmpty DataFrame\nColumns: [3, 373]\nIndex: []\n    3\n3 NaN\nEmpty DataFrame\nColumns: [3, 374]\nIndex: []\n    3\n3 NaN\nEmpty DataFrame\nColumns: [3, 375]\nIndex: []\n     3    375\n3    NaN  NaN\n375  NaN  NaN\nEmpty DataFrame\nColumns: [3, 376]\nIndex: []\n     3    376\n3    NaN  NaN\n376  NaN  NaN\nEmpty DataFrame\nColumns: [3, 377]\nIndex: []\n    3\n3 NaN\nEmpty DataFrame\nColumns: [3, 378]\nIndex: []\n     3    378\n3    NaN  NaN\n378  NaN  NaN\nEmpty DataFrame\nColumns: [3, 379]\nIndex: []\n    3\n3 NaN\n"
     ]
    },
    {
     "name": "stdout",
     "output_type": "stream",
     "text": [
      "Empty DataFrame\nColumns: [3, 380]\nIndex: []\n    3\n3 NaN\nEmpty DataFrame\nColumns: [3, 381]\nIndex: []\n    3\n3 NaN\nEmpty DataFrame\nColumns: [3, 382]\nIndex: []\n    3\n3 NaN\nEmpty DataFrame\nColumns: [3, 383]\nIndex: []\n    3\n3 NaN\nEmpty DataFrame\nColumns: [3, 384]\nIndex: []\n    3\n3 NaN\nEmpty DataFrame\nColumns: [3, 385]\nIndex: []\n    3\n3 NaN\nEmpty DataFrame\nColumns: [3, 386]\nIndex: []\n     3    386\n3    NaN  NaN\n386  NaN  NaN\nEmpty DataFrame\nColumns: [3, 387]\nIndex: []\n     3    387\n3    NaN  NaN\n387  NaN  NaN\nEmpty DataFrame\nColumns: [3, 388]\nIndex: []\n    3\n3 NaN\nEmpty DataFrame\nColumns: [3, 389]\nIndex: []\n    3\n3 NaN\nEmpty DataFrame\nColumns: [3, 390]\nIndex: []\n    3\n3 NaN\nEmpty DataFrame\nColumns: [3, 391]\nIndex: []\n    3\n3 NaN\nEmpty DataFrame\nColumns: [3, 392]\nIndex: []\n    3\n3 NaN\nEmpty DataFrame\nColumns: [3, 393]\nIndex: []\n    3\n3 NaN\nEmpty DataFrame\nColumns: [3, 394]\nIndex: []\n    3\n3 NaN\n"
     ]
    },
    {
     "name": "stdout",
     "output_type": "stream",
     "text": [
      "Empty DataFrame\nColumns: [3, 395]\nIndex: []\n    3\n3 NaN\nEmpty DataFrame\nColumns: [3, 396]\nIndex: []\n    3\n3 NaN\nEmpty DataFrame\nColumns: [3, 397]\nIndex: []\n    3\n3 NaN\nEmpty DataFrame\nColumns: [3, 398]\nIndex: []\n    3\n3 NaN\nEmpty DataFrame\nColumns: [3, 399]\nIndex: []\n     3    399\n3    NaN  NaN\n399  NaN  NaN\nEmpty DataFrame\nColumns: [3, 400]\nIndex: []\n     3    400\n3    NaN  NaN\n400  NaN  NaN\nEmpty DataFrame\nColumns: [3, 401]\nIndex: []\n    3\n3 NaN\nEmpty DataFrame\nColumns: [3, 402]\nIndex: []\n     3    402\n3    NaN  NaN\n402  NaN  NaN\nEmpty DataFrame\nColumns: [3, 403]\nIndex: []\n     3    403\n3    NaN  NaN\n403  NaN  NaN\nEmpty DataFrame\nColumns: [3, 404]\nIndex: []\n    3\n3 NaN\nEmpty DataFrame\nColumns: [3, 405]\nIndex: []\n    3\n3 NaN\nEmpty DataFrame\nColumns: [3, 406]\nIndex: []\n    3\n3 NaN\nEmpty DataFrame\nColumns: [3, 407]\nIndex: []\n     3    407\n3    NaN  NaN\n407  NaN  NaN\nEmpty DataFrame\nColumns: [3, 408]\nIndex: []\n     3    408\n3    NaN  NaN\n408  NaN  NaN\nEmpty DataFrame\nColumns: [3, 409]\nIndex: []\n     3    409\n3    NaN  NaN\n409  NaN  NaN\n"
     ]
    },
    {
     "name": "stdout",
     "output_type": "stream",
     "text": [
      "Empty DataFrame\nColumns: [3, 410]\nIndex: []\n     3    410\n3    NaN  NaN\n410  NaN  NaN\nEmpty DataFrame\nColumns: [3, 411]\nIndex: []\n     3    411\n3    NaN  NaN\n411  NaN  NaN\nEmpty DataFrame\nColumns: [3, 412]\nIndex: []\n     3    412\n3    NaN  NaN\n412  NaN  NaN\nEmpty DataFrame\nColumns: [3, 413]\nIndex: []\n     3    413\n3    NaN  NaN\n413  NaN  NaN\nEmpty DataFrame\nColumns: [3, 414]\nIndex: []\n     3    414\n3    NaN  NaN\n414  NaN  NaN\nEmpty DataFrame\nColumns: [3, 415]\nIndex: []\n     3    415\n3    NaN  NaN\n415  NaN  NaN\nEmpty DataFrame\nColumns: [3, 416]\nIndex: []\n     3    416\n3    NaN  NaN\n416  NaN  NaN\nEmpty DataFrame\nColumns: [3, 417]\nIndex: []\n     3    417\n3    NaN  NaN\n417  NaN  NaN\nEmpty DataFrame\nColumns: [3, 418]\nIndex: []\n    3\n3 NaN\nEmpty DataFrame\nColumns: [3, 419]\nIndex: []\n    3\n3 NaN\nEmpty DataFrame\nColumns: [3, 420]\nIndex: []\n    3\n3 NaN\nEmpty DataFrame\nColumns: [3, 421]\nIndex: []\n     3    421\n3    NaN  NaN\n421  NaN  NaN\nEmpty DataFrame\nColumns: [3, 422]\nIndex: []\n     3    422\n3    NaN  NaN\n422  NaN  NaN\nEmpty DataFrame\nColumns: [3, 423]\nIndex: []\n     3    423\n3    NaN  NaN\n423  NaN  NaN\nEmpty DataFrame\nColumns: [3, 424]\nIndex: []\n"
     ]
    },
    {
     "name": "stdout",
     "output_type": "stream",
     "text": [
      "     3    424\n3    NaN  NaN\n424  NaN  NaN\nEmpty DataFrame\nColumns: [3, 425]\nIndex: []\n    3\n3 NaN\nEmpty DataFrame\nColumns: [3, 426]\nIndex: []\n     3    426\n3    NaN  NaN\n426  NaN  NaN\nEmpty DataFrame\nColumns: [3, 427]\nIndex: []\n    3\n3 NaN\nEmpty DataFrame\nColumns: [3, 428]\nIndex: []\n     3    428\n3    NaN  NaN\n428  NaN  NaN\nEmpty DataFrame\nColumns: [3, 429]\nIndex: []\n     3    429\n3    NaN  NaN\n429  NaN  NaN\nEmpty DataFrame\nColumns: [3, 430]\nIndex: []\n     3    430\n3    NaN  NaN\n430  NaN  NaN\nEmpty DataFrame\nColumns: [3, 431]\nIndex: []\n    3\n3 NaN\nEmpty DataFrame\nColumns: [3, 432]\nIndex: []\n    3\n3 NaN\nEmpty DataFrame\nColumns: [3, 433]\nIndex: []\n     3    433\n3    NaN  NaN\n433  NaN  NaN\nEmpty DataFrame\nColumns: [3, 434]\nIndex: []\n    3\n3 NaN\nEmpty DataFrame\nColumns: [3, 435]\nIndex: []\n     3    435\n3    NaN  NaN\n435  NaN  NaN\nEmpty DataFrame\nColumns: [3, 436]\nIndex: []\n     3    436\n3    NaN  NaN\n436  NaN  NaN\n"
     ]
    },
    {
     "name": "stdout",
     "output_type": "stream",
     "text": [
      "Empty DataFrame\nColumns: [3, 437]\nIndex: []\n    3\n3 NaN\nEmpty DataFrame\nColumns: [3, 438]\nIndex: []\n     3    438\n3    NaN  NaN\n438  NaN  NaN\nEmpty DataFrame\nColumns: [3, 439]\nIndex: []\n    3\n3 NaN\nEmpty DataFrame\nColumns: [3, 440]\nIndex: []\n    3\n3 NaN\nEmpty DataFrame\nColumns: [3, 441]\nIndex: []\n     3    441\n3    NaN  NaN\n441  NaN  NaN\nEmpty DataFrame\nColumns: [3, 442]\nIndex: []\n    3\n3 NaN\nEmpty DataFrame\nColumns: [3, 443]\nIndex: []\n    3\n3 NaN\nEmpty DataFrame\nColumns: [3, 444]\nIndex: []\n    3\n3 NaN\nEmpty DataFrame\nColumns: [3, 445]\nIndex: []\n    3\n3 NaN\nEmpty DataFrame\nColumns: [3, 446]\nIndex: []\n    3\n3 NaN\nEmpty DataFrame\nColumns: [3, 447]\nIndex: []\n    3\n3 NaN\nEmpty DataFrame\nColumns: [3, 448]\nIndex: []\n    3\n3 NaN\nEmpty DataFrame\nColumns: [3, 449]\nIndex: []\n     3    449\n3    NaN  NaN\n449  NaN  NaN\nEmpty DataFrame\nColumns: [3, 450]\nIndex: []"
     ]
    },
    {
     "name": "stdout",
     "output_type": "stream",
     "text": [
      "\n    3\n3 NaN\nEmpty DataFrame\nColumns: [3, 451]\nIndex: []\n    3\n3 NaN\nEmpty DataFrame\nColumns: [3, 452]\nIndex: []\n    3\n3 NaN\nEmpty DataFrame\nColumns: [3, 453]\nIndex: []\n    3\n3 NaN\nEmpty DataFrame\nColumns: [3, 454]\nIndex: []\n    3\n3 NaN\nEmpty DataFrame\nColumns: [3, 455]\nIndex: []\n    3\n3 NaN\nEmpty DataFrame\nColumns: [3, 456]\nIndex: []\n    3\n3 NaN\nEmpty DataFrame\nColumns: [3, 457]\nIndex: []\n    3\n3 NaN\nEmpty DataFrame\nColumns: [3, 458]\nIndex: []\n    3\n3 NaN\nEmpty DataFrame\nColumns: [3, 459]\nIndex: []\n     3    459\n3    NaN  NaN\n459  NaN  NaN\nEmpty DataFrame\nColumns: [3, 460]\nIndex: []\n     3    460\n3    NaN  NaN\n460  NaN  NaN\nEmpty DataFrame\nColumns: [3, 461]\nIndex: []\n    3\n3 NaN\nEmpty DataFrame\nColumns: [3, 462]\nIndex: []\n    3\n3 NaN\n"
     ]
    },
    {
     "name": "stdout",
     "output_type": "stream",
     "text": [
      "Empty DataFrame\nColumns: [3, 463]\nIndex: []\n    3\n3 NaN\nEmpty DataFrame\nColumns: [3, 464]\nIndex: []\n     3    464\n3    NaN  NaN\n464  NaN  NaN\nEmpty DataFrame\nColumns: [3, 465]\nIndex: []\n    3\n3 NaN\nEmpty DataFrame\nColumns: [3, 466]\nIndex: []\n    3\n3 NaN\nEmpty DataFrame\nColumns: [3, 467]\nIndex: []\n    3\n3 NaN\nEmpty DataFrame\nColumns: [3, 468]\nIndex: []\n    3\n3 NaN\nEmpty DataFrame\nColumns: [3, 469]\nIndex: []\n    3\n3 NaN\nEmpty DataFrame\nColumns: [3, 470]\nIndex: []\n    3\n3 NaN\nEmpty DataFrame\nColumns: [3, 471]\nIndex: []\n    3\n3 NaN\nEmpty DataFrame\nColumns: [3, 472]\nIndex: []\n    3\n3 NaN\nEmpty DataFrame\nColumns: [3, 473]\nIndex: []\n    3\n3 NaN\nEmpty DataFrame\nColumns: [3, 474]\nIndex: []\n    3\n3 NaN\nEmpty DataFrame\nColumns: [3, 475]\nIndex: []\n    3\n3 NaN\n"
     ]
    },
    {
     "name": "stdout",
     "output_type": "stream",
     "text": [
      "Empty DataFrame\nColumns: [3, 476]\nIndex: []\n    3\n3 NaN\nEmpty DataFrame\nColumns: [3, 477]\nIndex: []\n    3\n3 NaN\nEmpty DataFrame\nColumns: [3, 478]\nIndex: []\n     3    478\n3    NaN  NaN\n478  NaN  NaN\nEmpty DataFrame\nColumns: [3, 479]\nIndex: []\n    3\n3 NaN\nEmpty DataFrame\nColumns: [3, 480]\nIndex: []\n     3    480\n3    NaN  NaN\n480  NaN  NaN\nEmpty DataFrame\nColumns: [3, 481]\nIndex: []\n    3\n3 NaN\nEmpty DataFrame\nColumns: [3, 482]\nIndex: []\n     3    482\n3    NaN  NaN\n482  NaN  NaN\nEmpty DataFrame\nColumns: [3, 483]\nIndex: []\n     3    483\n3    NaN  NaN\n483  NaN  NaN\nEmpty DataFrame\nColumns: [3, 484]\nIndex: []\n     3    484\n3    NaN  NaN\n484  NaN  NaN\nEmpty DataFrame\nColumns: [3, 485]\nIndex: []\n     3    485\n3    NaN  NaN\n485  NaN  NaN\nEmpty DataFrame\nColumns: [3, 486]\nIndex: []\n     3    486\n3    NaN  NaN\n486  NaN  NaN\nEmpty DataFrame\nColumns: [3, 487]\nIndex: []\n    3\n3 NaN\nEmpty DataFrame\nColumns: [3, 488]\nIndex: []\n     3    488\n3    NaN  NaN\n488  NaN  NaN\nEmpty DataFrame\nColumns: [3, 489]\nIndex: []\n     3    489\n3    NaN  NaN\n489  NaN  NaN\nEmpty DataFrame\nColumns: [3, 490]\nIndex: []\n    3\n3 NaN\nEmpty DataFrame\nColumns: [3, 491]\nIndex: []\n    3\n3 NaN\nEmpty DataFrame\nColumns: [3, 492]\nIndex: []\n     3    492\n3    NaN  NaN\n492  NaN  NaN\n"
     ]
    },
    {
     "name": "stdout",
     "output_type": "stream",
     "text": [
      "Empty DataFrame\nColumns: [3, 493]\nIndex: []\n    3\n3 NaN\nEmpty DataFrame\nColumns: [3, 494]\nIndex: []\n    3\n3 NaN\nEmpty DataFrame\nColumns: [3, 495]\nIndex: []\n    3\n3 NaN\nEmpty DataFrame\nColumns: [3, 496]\nIndex: []\n    3\n3 NaN\nEmpty DataFrame\nColumns: [3, 497]\nIndex: []\n     3    497\n3    NaN  NaN\n497  NaN  NaN\nEmpty DataFrame\nColumns: [3, 498]\nIndex: []\n     3    498\n3    NaN  NaN\n498  NaN  NaN\nEmpty DataFrame\nColumns: [3, 499]\nIndex: []\n     3    499\n3    NaN  NaN\n499  NaN  NaN\nEmpty DataFrame\nColumns: [3, 500]\nIndex: []\n     3    500\n3    NaN  NaN\n500  NaN  NaN\nEmpty DataFrame\nColumns: [3, 501]\nIndex: []\n    3\n3 NaN\nEmpty DataFrame\nColumns: [3, 502]\nIndex: []\n    3\n3 NaN\nEmpty DataFrame\nColumns: [3, 503]\nIndex: []\n    3\n3 NaN\nEmpty DataFrame\nColumns: [3, 504]\nIndex: []\n    3\n3 NaN\nEmpty DataFrame\nColumns: [3, 505]\nIndex: []\n    3\n3 NaN\nEmpty DataFrame\nColumns: [3, 506]\nIndex: []\n    3\n3 NaN\nEmpty DataFrame\nColumns: [3, 507]\nIndex: []\n"
     ]
    },
    {
     "name": "stdout",
     "output_type": "stream",
     "text": [
      "    3\n3 NaN\nEmpty DataFrame\nColumns: [3, 508]\nIndex: []\n    3\n3 NaN\nEmpty DataFrame\nColumns: [3, 509]\nIndex: []\n    3\n3 NaN\nEmpty DataFrame\nColumns: [3, 510]\nIndex: []\n    3\n3 NaN\nEmpty DataFrame\nColumns: [3, 511]\nIndex: []\n    3\n3 NaN\nEmpty DataFrame\nColumns: [3, 512]\nIndex: []\n    3\n3 NaN\nEmpty DataFrame\nColumns: [3, 513]\nIndex: []\n    3\n3 NaN\nEmpty DataFrame\nColumns: [3, 514]\nIndex: []\n    3\n3 NaN\nEmpty DataFrame\nColumns: [3, 515]\nIndex: []\n    3\n3 NaN\n       3   516\n29726  3.0  69\n    3\n3 NaN\nEmpty DataFrame\nColumns: [3, 517]\nIndex: []\n    3\n3 NaN\nEmpty DataFrame\nColumns: [3, 518]\nIndex: []\n    3\n3 NaN\nEmpty DataFrame\nColumns: [3, 519]\nIndex: []\n    3\n3 NaN\nEmpty DataFrame\nColumns: [3, 520]\nIndex: []\n    3\n3 NaN\nEmpty DataFrame\nColumns: [3, 521]\nIndex: []\n     3    521\n3    NaN  NaN\n521  NaN  NaN\nEmpty DataFrame\nColumns: [3, 522]\nIndex: []"
     ]
    },
    {
     "name": "stdout",
     "output_type": "stream",
     "text": [
      "\n     3    522\n3    NaN  NaN\n522  NaN  NaN\nEmpty DataFrame\nColumns: [3, 523]\nIndex: []\n    3\n3 NaN\nEmpty DataFrame\nColumns: [3, 524]\nIndex: []\n    3\n3 NaN\nEmpty DataFrame\nColumns: [3, 525]\nIndex: []\n     3    525\n3    NaN  NaN\n525  NaN  NaN\nEmpty DataFrame\nColumns: [3, 526]\nIndex: []\n    3\n3 NaN\nEmpty DataFrame\nColumns: [3, 527]\nIndex: []\n    3\n3 NaN\nEmpty DataFrame\nColumns: [3, 528]\nIndex: []\n    3\n3 NaN\nEmpty DataFrame\nColumns: [3, 529]\nIndex: []\n    3\n3 NaN\nEmpty DataFrame\nColumns: [3, 530]\nIndex: []\n    3\n3 NaN\nEmpty DataFrame\nColumns: [3, 531]\nIndex: []\n    3\n3 NaN\nEmpty DataFrame\nColumns: [3, 532]\nIndex: []\n    3\n3 NaN\nEmpty DataFrame\nColumns: [3, 533]\nIndex: []\n     3    533\n3    NaN  NaN\n533  NaN  NaN\nEmpty DataFrame\nColumns: [3, 534]\nIndex: []\n    3\n3 NaN\nEmpty DataFrame\nColumns: [3, 535]\nIndex: []\n    3\n3 NaN\nEmpty DataFrame\nColumns: [3, 536]\nIndex: []\n     3    536\n3    NaN  NaN\n536  NaN  NaN\nEmpty DataFrame\nColumns: [3, 537]\nIndex: []\n    3\n3 NaN\n"
     ]
    },
    {
     "name": "stdout",
     "output_type": "stream",
     "text": [
      "Empty DataFrame\nColumns: [3, 538]\nIndex: []\n     3    538\n3    NaN  NaN\n538  NaN  NaN\nEmpty DataFrame\nColumns: [3, 539]\nIndex: []\n     3    539\n3    NaN  NaN\n539  NaN  NaN\nEmpty DataFrame\nColumns: [3, 540]\nIndex: []\n    3\n3 NaN\nEmpty DataFrame\nColumns: [3, 541]\nIndex: []\n    3\n3 NaN\nEmpty DataFrame\nColumns: [3, 542]\nIndex: []\n    3\n3 NaN\nEmpty DataFrame\nColumns: [3, 543]\nIndex: []\n    3\n3 NaN\nEmpty DataFrame\nColumns: [3, 544]\nIndex: []\n    3\n3 NaN\nEmpty DataFrame\nColumns: [3, 545]\nIndex: []\n    3\n3 NaN\nEmpty DataFrame\nColumns: [3, 546]\nIndex: []\n    3\n3 NaN\nEmpty DataFrame\nColumns: [3, 547]\nIndex: []\n    3\n3 NaN\nEmpty DataFrame\nColumns: [3, 548]\nIndex: []\n    3\n3 NaN\nEmpty DataFrame\nColumns: [3, 549]\nIndex: []\n    3\n3 NaN\nEmpty DataFrame\nColumns: [3, 550]\nIndex: []\n    3\n3 NaN\nEmpty DataFrame\nColumns: [3, 551]\nIndex: []\n    3\n3 NaN\n"
     ]
    },
    {
     "name": "stdout",
     "output_type": "stream",
     "text": [
      "Empty DataFrame\nColumns: [3, 552]\nIndex: []\n     3    552\n3    NaN  NaN\n552  NaN  NaN\nEmpty DataFrame\nColumns: [3, 553]\nIndex: []\n     3    553\n3    NaN  NaN\n553  NaN  NaN\nEmpty DataFrame\nColumns: [3, 554]\nIndex: []\n    3\n3 NaN\nEmpty DataFrame\nColumns: [3, 555]\nIndex: []\n    3\n3 NaN\nEmpty DataFrame\nColumns: [3, 556]\nIndex: []\n    3\n3 NaN\nEmpty DataFrame\nColumns: [3, 557]\nIndex: []\n     3    557\n3    NaN  NaN\n557  NaN  NaN\nEmpty DataFrame\nColumns: [3, 558]\nIndex: []\n    3\n3 NaN\nEmpty DataFrame\nColumns: [3, 559]\nIndex: []\n    3\n3 NaN\nEmpty DataFrame\nColumns: [3, 560]\nIndex: []\n    3\n3 NaN\nEmpty DataFrame\nColumns: [3, 561]\nIndex: []\n    3\n3 NaN\nEmpty DataFrame\nColumns: [3, 562]\nIndex: []\n    3\n3 NaN\nEmpty DataFrame\nColumns: [3, 563]\nIndex: []\n    3\n3 NaN\nEmpty DataFrame\nColumns: [3, 564]\nIndex: []\n    3\n3 NaN\nEmpty DataFrame\nColumns: [3, 565]\nIndex: []\n    3\n3 NaN\nEmpty DataFrame\nColumns: [3, 566]\nIndex: []\n     3    566\n3    NaN  NaN\n566  NaN  NaN\nEmpty DataFrame\nColumns: [3, 567]\nIndex: []"
     ]
    },
    {
     "name": "stdout",
     "output_type": "stream",
     "text": [
      "\n    3\n3 NaN\nEmpty DataFrame\nColumns: [3, 568]\nIndex: []\n    3\n3 NaN\nEmpty DataFrame\nColumns: [3, 569]\nIndex: []\n    3\n3 NaN\nEmpty DataFrame\nColumns: [3, 570]\nIndex: []\n     3    570\n3    NaN  NaN\n570  NaN  NaN\nEmpty DataFrame\nColumns: [3, 571]\nIndex: []\n    3\n3 NaN\nEmpty DataFrame\nColumns: [3, 572]\nIndex: []\n    3\n3 NaN\nEmpty DataFrame\nColumns: [3, 573]\nIndex: []\n    3\n3 NaN\nEmpty DataFrame\nColumns: [3, 574]\nIndex: []\n    3\n3 NaN\nEmpty DataFrame\nColumns: [3, 575]\nIndex: []\n     3    575\n3    NaN  NaN\n575  NaN  NaN\nEmpty DataFrame\nColumns: [3, 576]\nIndex: []\n     3    576\n3    NaN  NaN\n576  NaN  NaN\nEmpty DataFrame\nColumns: [3, 577]\nIndex: []\n     3    577\n3    NaN  NaN\n577  NaN  NaN\nEmpty DataFrame\nColumns: [3, 578]\nIndex: []\n     3    578\n3    NaN  NaN\n578  NaN  NaN\nEmpty DataFrame\nColumns: [3, 579]\nIndex: []\n     3    579\n3    NaN  NaN\n579  NaN  NaN\nEmpty DataFrame\nColumns: [3, 580]\nIndex: []\n    3\n3 NaN\nEmpty DataFrame\nColumns: [3, 581]\nIndex: []\n    3\n3 NaN\nEmpty DataFrame\nColumns: [3, 582]\nIndex: []\n    3\n3 NaN\nEmpty DataFrame\nColumns: [3, 583]\nIndex: []"
     ]
    },
    {
     "name": "stdout",
     "output_type": "stream",
     "text": [
      "\n    3\n3 NaN\nEmpty DataFrame\nColumns: [3, 584]\nIndex: []\n    3\n3 NaN\nEmpty DataFrame\nColumns: [3, 585]\nIndex: []\n    3\n3 NaN\nEmpty DataFrame\nColumns: [3, 586]\nIndex: []\n     3    586\n3    NaN  NaN\n586  NaN  NaN\nEmpty DataFrame\nColumns: [3, 587]\nIndex: []\n     3    587\n3    NaN  NaN\n587  NaN  NaN\nEmpty DataFrame\nColumns: [3, 588]\nIndex: []\n     3    588\n3    NaN  NaN\n588  NaN  NaN\nEmpty DataFrame\nColumns: [3, 589]\nIndex: []\n    3\n3 NaN\nEmpty DataFrame\nColumns: [3, 590]\nIndex: []\n     3    590\n3    NaN  NaN\n590  NaN  NaN\nEmpty DataFrame\nColumns: [3, 591]\nIndex: []\n     3    591\n3    NaN  NaN\n591  NaN  NaN\nEmpty DataFrame\nColumns: [3, 592]\nIndex: []\n     3    592\n3    NaN  NaN\n592  NaN  NaN\nEmpty DataFrame\nColumns: [3, 593]\nIndex: []\n     3    593\n3    NaN  NaN\n593  NaN  NaN\nEmpty DataFrame\nColumns: [3, 594]\nIndex: []\n     3    594\n3    NaN  NaN\n594  NaN  NaN\nEmpty DataFrame\nColumns: [3, 595]\nIndex: []\n     3    595\n3    NaN  NaN\n595  NaN  NaN\nEmpty DataFrame\nColumns: [3, 596]\nIndex: []\n     3    596\n3    NaN  NaN\n596  NaN  NaN\nEmpty DataFrame\nColumns: [3, 597]\nIndex: []\n     3    597\n3    NaN  NaN\n597  NaN  NaN\nEmpty DataFrame\nColumns: [3, 598]\nIndex: []\n     3    598\n3    NaN  NaN\n598  NaN  NaN\nEmpty DataFrame\nColumns: [3, 599]\nIndex: []\n    3\n3 NaN\nEmpty DataFrame\nColumns: [3, 600]\nIndex: []"
     ]
    },
    {
     "name": "stdout",
     "output_type": "stream",
     "text": [
      "\n    3\n3 NaN\nEmpty DataFrame\nColumns: [3, 601]\nIndex: []\n    3\n3 NaN\nEmpty DataFrame\nColumns: [3, 602]\nIndex: []\n    3\n3 NaN\nEmpty DataFrame\nColumns: [3, 603]\nIndex: []\n     3    603\n3    NaN  NaN\n603  NaN  NaN\nEmpty DataFrame\nColumns: [3, 604]\nIndex: []\n     3    604\n3    NaN  NaN\n604  NaN  NaN\nEmpty DataFrame\nColumns: [3, 605]\nIndex: []\n    3\n3 NaN\nEmpty DataFrame\nColumns: [3, 606]\nIndex: []\n    3\n3 NaN\nEmpty DataFrame\nColumns: [3, 607]\nIndex: []\n    3\n3 NaN\nEmpty DataFrame\nColumns: [3, 608]\nIndex: []\n    3\n3 NaN\nEmpty DataFrame\nColumns: [3, 609]\nIndex: []\n    3\n3 NaN\nEmpty DataFrame\nColumns: [3, 610]\nIndex: []\n    3\n3 NaN\nEmpty DataFrame\nColumns: [3, 611]\nIndex: []\n    3\n3 NaN\nEmpty DataFrame\nColumns: [3, 612]\nIndex: []\n    3\n3 NaN\nEmpty DataFrame\nColumns: [3, 613]\nIndex: []\n    3\n3 NaN\nEmpty DataFrame\nColumns: [3, 614]\nIndex: []\n     3    614\n3    NaN  NaN\n614  NaN  NaN\nEmpty DataFrame\nColumns: [3, 615]\nIndex: []\n     3    615\n3    NaN  NaN\n615  NaN  NaN\n"
     ]
    },
    {
     "name": "stdout",
     "output_type": "stream",
     "text": [
      "Empty DataFrame\nColumns: [3, 616]\nIndex: []\n    3\n3 NaN\nEmpty DataFrame\nColumns: [3, 617]\nIndex: []\n    3\n3 NaN\nEmpty DataFrame\nColumns: [3, 618]\nIndex: []\n     3    618\n3    NaN  NaN\n618  NaN  NaN\nEmpty DataFrame\nColumns: [3, 619]\nIndex: []\n    3\n3 NaN\nEmpty DataFrame\nColumns: [3, 620]\nIndex: []\n     3    620\n3    NaN  NaN\n620  NaN  NaN\nEmpty DataFrame\nColumns: [3, 621]\nIndex: []\n    3\n3 NaN\nEmpty DataFrame\nColumns: [3, 622]\nIndex: []\n    3\n3 NaN\nEmpty DataFrame\nColumns: [3, 623]\nIndex: []\n     3    623\n3    NaN  NaN\n623  NaN  NaN\nEmpty DataFrame\nColumns: [3, 624]\nIndex: []\n     3    624\n3    NaN  NaN\n624  NaN  NaN\nEmpty DataFrame\nColumns: [3, 625]\nIndex: []\n     3    625\n3    NaN  NaN\n625  NaN  NaN\nEmpty DataFrame\nColumns: [3, 626]\nIndex: []\n    3\n3 NaN\nEmpty DataFrame\nColumns: [3, 627]\nIndex: []\n    3\n3 NaN\nEmpty DataFrame\nColumns: [3, 628]\nIndex: []\n    3\n3 NaN\nEmpty DataFrame\nColumns: [3, 629]\nIndex: []\n    3\n3 NaN\nEmpty DataFrame\nColumns: [3, 630]\nIndex: []\n    3\n3 NaN\nEmpty DataFrame\nColumns: [3, 631]\nIndex: []\n    3\n3 NaN\nEmpty DataFrame\nColumns: [3, 632]\nIndex: []"
     ]
    },
    {
     "name": "stdout",
     "output_type": "stream",
     "text": [
      "\n    3\n3 NaN\nEmpty DataFrame\nColumns: [3, 633]\nIndex: []\n    3\n3 NaN\nEmpty DataFrame\nColumns: [3, 634]\nIndex: []\n    3\n3 NaN\nEmpty DataFrame\nColumns: [3, 635]\nIndex: []\n    3\n3 NaN\nEmpty DataFrame\nColumns: [3, 636]\nIndex: []\n    3\n3 NaN\nEmpty DataFrame\nColumns: [3, 637]\nIndex: []\n    3\n3 NaN\nEmpty DataFrame\nColumns: [3, 638]\nIndex: []\n    3\n3 NaN\nEmpty DataFrame\nColumns: [3, 639]\nIndex: []\n    3\n3 NaN\nEmpty DataFrame\nColumns: [3, 640]\nIndex: []\n    3\n3 NaN\nEmpty DataFrame\nColumns: [3, 641]\nIndex: []\n    3\n3 NaN\nEmpty DataFrame\nColumns: [3, 642]\nIndex: []\n    3\n3 NaN\nEmpty DataFrame\nColumns: [3, 643]\nIndex: []\n    3\n3 NaN\nEmpty DataFrame\nColumns: [3, 644]\nIndex: []\n    3\n3 NaN\nEmpty DataFrame\nColumns: [3, 645]\nIndex: []\n    3\n3 NaN\nEmpty DataFrame\nColumns: [3, 646]\nIndex: []\n"
     ]
    },
    {
     "name": "stdout",
     "output_type": "stream",
     "text": [
      "    3\n3 NaN\nEmpty DataFrame\nColumns: [3, 647]\nIndex: []\n    3\n3 NaN\nEmpty DataFrame\nColumns: [3, 648]\nIndex: []\n    3\n3 NaN\nEmpty DataFrame\nColumns: [3, 649]\nIndex: []\n    3\n3 NaN\nEmpty DataFrame\nColumns: [3, 650]\nIndex: []\n    3\n3 NaN\nEmpty DataFrame\nColumns: [3, 651]\nIndex: []\n    3\n3 NaN\nEmpty DataFrame\nColumns: [3, 652]\nIndex: []\n    3\n3 NaN\nEmpty DataFrame\nColumns: [3, 653]\nIndex: []\n    3\n3 NaN\nEmpty DataFrame\nColumns: [3, 654]\nIndex: []\n    3\n3 NaN\nEmpty DataFrame\nColumns: [3, 655]\nIndex: []\n    3\n3 NaN\nEmpty DataFrame\nColumns: [3, 656]\nIndex: []\n    3\n3 NaN\nEmpty DataFrame\nColumns: [3, 657]\nIndex: []\n    3\n3 NaN\nEmpty DataFrame\nColumns: [3, 658]\nIndex: []\n    3\n3 NaN\nEmpty DataFrame\nColumns: [3, 659]\nIndex: []\n"
     ]
    },
    {
     "name": "stdout",
     "output_type": "stream",
     "text": [
      "    3\n3 NaN\nEmpty DataFrame\nColumns: [3, 660]\nIndex: []\n    3\n3 NaN\nEmpty DataFrame\nColumns: [3, 661]\nIndex: []\n    3\n3 NaN\nEmpty DataFrame\nColumns: [3, 662]\nIndex: []\n    3\n3 NaN\nEmpty DataFrame\nColumns: [3, 663]\nIndex: []\n    3\n3 NaN\nEmpty DataFrame\nColumns: [3, 664]\nIndex: []\n    3\n3 NaN\nEmpty DataFrame\nColumns: [3, 665]\nIndex: []\n    3\n3 NaN\nEmpty DataFrame\nColumns: [3, 666]\nIndex: []\n    3\n3 NaN\nEmpty DataFrame\nColumns: [3, 667]\nIndex: []\n    3\n3 NaN\nEmpty DataFrame\nColumns: [3, 668]\nIndex: []\n    3\n3 NaN\nEmpty DataFrame\nColumns: [3, 669]\nIndex: []\n    3\n3 NaN\nEmpty DataFrame\nColumns: [3, 670]\nIndex: []\n    3\n3 NaN\nEmpty DataFrame\nColumns: [3, 671]\nIndex: []\n    3\n3 NaN\nEmpty DataFrame\nColumns: [3, 672]\nIndex: []\n    3\n3 NaN\nEmpty DataFrame\nColumns: [3, 673]\nIndex: []\n    3\n3 NaN\n"
     ]
    },
    {
     "name": "stdout",
     "output_type": "stream",
     "text": [
      "Empty DataFrame\nColumns: [3, 674]\nIndex: []\n    3\n3 NaN\nEmpty DataFrame\nColumns: [3, 675]\nIndex: []\n    3\n3 NaN\nEmpty DataFrame\nColumns: [3, 676]\nIndex: []\n    3\n3 NaN\nEmpty DataFrame\nColumns: [3, 677]\nIndex: []\n    3\n3 NaN\nEmpty DataFrame\nColumns: [3, 678]\nIndex: []\n    3\n3 NaN\nEmpty DataFrame\nColumns: [3, 679]\nIndex: []\n    3\n3 NaN\nEmpty DataFrame\nColumns: [3, 680]\nIndex: []\n    3\n3 NaN\nEmpty DataFrame\nColumns: [3, 681]\nIndex: []\n    3\n3 NaN\nEmpty DataFrame\nColumns: [3, 682]\nIndex: []\n    3\n3 NaN\nEmpty DataFrame\nColumns: [3, 683]\nIndex: []\n    3\n3 NaN\nEmpty DataFrame\nColumns: [3, 684]\nIndex: []\n    3\n3 NaN\nEmpty DataFrame\nColumns: [3, 685]\nIndex: []\n    3\n3 NaN\nEmpty DataFrame\nColumns: [3, 686]\nIndex: []\n    3\n3 NaN\nEmpty DataFrame\nColumns: [3, 687]\nIndex: []\n    3\n3 NaN\n"
     ]
    },
    {
     "name": "stdout",
     "output_type": "stream",
     "text": [
      "Empty DataFrame\nColumns: [3, 688]\nIndex: []\n    3\n3 NaN\nEmpty DataFrame\nColumns: [3, 689]\nIndex: []\n     3    689\n3    NaN  NaN\n689  NaN  NaN\nEmpty DataFrame\nColumns: [3, 690]\nIndex: []\n     3    690\n3    NaN  NaN\n690  NaN  NaN\nEmpty DataFrame\nColumns: [3, 691]\nIndex: []\n    3\n3 NaN\nEmpty DataFrame\nColumns: [3, 692]\nIndex: []\n    3\n3 NaN\nEmpty DataFrame\nColumns: [3, 693]\nIndex: []\n     3    693\n3    NaN  NaN\n693  NaN  NaN\nEmpty DataFrame\nColumns: [3, 694]\nIndex: []\n     3    694\n3    NaN  NaN\n694  NaN  NaN\nEmpty DataFrame\nColumns: [3, 695]\nIndex: []\n     3    695\n3    NaN  NaN\n695  NaN  NaN\nEmpty DataFrame\nColumns: [3, 696]\nIndex: []\n     3    696\n3    NaN  NaN\n696  NaN  NaN\nEmpty DataFrame\nColumns: [3, 697]\nIndex: []\n     3    697\n3    NaN  NaN\n697  NaN  NaN\nEmpty DataFrame\nColumns: [3, 698]\nIndex: []\n     3    698\n3    NaN  NaN\n698  NaN  NaN\nEmpty DataFrame\nColumns: [3, 699]\nIndex: []\n     3    699\n3    NaN  NaN\n699  NaN  NaN\nEmpty DataFrame\nColumns: [3, 700]\nIndex: []\n     3    700\n3    NaN  NaN\n700  NaN  NaN\nEmpty DataFrame\nColumns: [3, 701]\nIndex: []\n     3    701\n3    NaN  NaN\n701  NaN  NaN\nEmpty DataFrame\nColumns: [3, 702]\nIndex: []\n    3\n3 NaN\nEmpty DataFrame\nColumns: [3, 703]\nIndex: []\n    3\n3 NaN\nEmpty DataFrame\nColumns: [3, 704]\nIndex: []\n     3    704\n3    NaN  NaN\n704  NaN  NaN\nEmpty DataFrame\nColumns: [3, 705]\nIndex: []\n    3\n3 NaN\n"
     ]
    },
    {
     "name": "stdout",
     "output_type": "stream",
     "text": [
      "Empty DataFrame\nColumns: [3, 706]\nIndex: []\n    3\n3 NaN\nEmpty DataFrame\nColumns: [3, 707]\nIndex: []\n    3\n3 NaN\nEmpty DataFrame\nColumns: [3, 708]\nIndex: []\n    3\n3 NaN\nEmpty DataFrame\nColumns: [3, 709]\nIndex: []\n    3\n3 NaN\nEmpty DataFrame\nColumns: [3, 710]\nIndex: []\n    3\n3 NaN\nEmpty DataFrame\nColumns: [3, 711]\nIndex: []\n    3\n3 NaN\nEmpty DataFrame\nColumns: [3, 712]\nIndex: []\n    3\n3 NaN\nEmpty DataFrame\nColumns: [3, 713]\nIndex: []\n    3\n3 NaN\nEmpty DataFrame\nColumns: [3, 714]\nIndex: []\n    3\n3 NaN\nEmpty DataFrame\nColumns: [3, 715]\nIndex: []\n     3    715\n3    NaN  NaN\n715  NaN  NaN\nEmpty DataFrame\nColumns: [3, 716]\nIndex: []\n    3\n3 NaN\nEmpty DataFrame\nColumns: [3, 717]\nIndex: []\n    3\n3 NaN\nEmpty DataFrame\nColumns: [3, 718]\nIndex: []\n    3\n3 NaN\nEmpty DataFrame\nColumns: [3, 719]\nIndex: []\n    3\n3 NaN\nEmpty DataFrame\nColumns: [3, 720]\nIndex: []\n    3\n3 NaN\nEmpty DataFrame\nColumns: [3, 721]\nIndex: []\n     3    721\n3    NaN  NaN\n721  NaN  NaN"
     ]
    },
    {
     "name": "stdout",
     "output_type": "stream",
     "text": [
      "\nEmpty DataFrame\nColumns: [3, 722]\nIndex: []\n     3    722\n3    NaN  NaN\n722  NaN  NaN\nEmpty DataFrame\nColumns: [3, 723]\nIndex: []\n     3    723\n3    NaN  NaN\n723  NaN  NaN\nEmpty DataFrame\nColumns: [3, 724]\nIndex: []\n     3    724\n3    NaN  NaN\n724  NaN  NaN\nEmpty DataFrame\nColumns: [3, 725]\nIndex: []\n     3    725\n3    NaN  NaN\n725  NaN  NaN\nEmpty DataFrame\nColumns: [3, 726]\nIndex: []\n     3    726\n3    NaN  NaN\n726  NaN  NaN\nEmpty DataFrame\nColumns: [3, 727]\nIndex: []\n     3    727\n3    NaN  NaN\n727  NaN  NaN\nEmpty DataFrame\nColumns: [3, 728]\nIndex: []\n    3\n3 NaN\nEmpty DataFrame\nColumns: [3, 729]\nIndex: []\n     3    729\n3    NaN  NaN\n729  NaN  NaN\nEmpty DataFrame\nColumns: [3, 730]\nIndex: []\n     3    730\n3    NaN  NaN\n730  NaN  NaN\nEmpty DataFrame\nColumns: [3, 731]\nIndex: []\n     3    731\n3    NaN  NaN\n731  NaN  NaN\nEmpty DataFrame\nColumns: [3, 732]\nIndex: []\n    3\n3 NaN\nEmpty DataFrame\nColumns: [3, 733]\nIndex: []\n    3\n3 NaN\nEmpty DataFrame\nColumns: [3, 734]\nIndex: []\n    3\n3 NaN\nEmpty DataFrame\nColumns: [3, 735]\nIndex: []\n    3\n3 NaN\nEmpty DataFrame\nColumns: [3, 736]\nIndex: []\n    3\n3 NaN\nEmpty DataFrame\nColumns: [3, 737]\nIndex: []\n    3\n3 NaN\n"
     ]
    },
    {
     "name": "stdout",
     "output_type": "stream",
     "text": [
      "Empty DataFrame\nColumns: [3, 738]\nIndex: []\n    3\n3 NaN\nEmpty DataFrame\nColumns: [3, 739]\nIndex: []\n     3    739\n3    NaN  NaN\n739  NaN  NaN\nEmpty DataFrame\nColumns: [3, 740]\nIndex: []\n    3\n3 NaN\nEmpty DataFrame\nColumns: [3, 741]\nIndex: []\n    3\n3 NaN\nEmpty DataFrame\nColumns: [3, 742]\nIndex: []\n    3\n3 NaN\nEmpty DataFrame\nColumns: [3, 743]\nIndex: []\n    3\n3 NaN\nEmpty DataFrame\nColumns: [3, 744]\nIndex: []\n     3    744\n3    NaN  NaN\n744  NaN  NaN\nEmpty DataFrame\nColumns: [3, 745]\nIndex: []\n    3\n3 NaN\nEmpty DataFrame\nColumns: [3, 746]\nIndex: []\n    3\n3 NaN\nEmpty DataFrame\nColumns: [3, 747]\nIndex: []\n    3\n3 NaN\nEmpty DataFrame\nColumns: [3, 748]\nIndex: []\n    3\n3 NaN\nEmpty DataFrame\nColumns: [3, 749]\nIndex: []\n    3\n3 NaN\nEmpty DataFrame\nColumns: [3, 750]\nIndex: []\n     3    750\n3    NaN  NaN\n750  NaN  NaN\nEmpty DataFrame\nColumns: [3, 751]\nIndex: []\n    3\n3 NaN\nEmpty DataFrame\nColumns: [3, 752]\nIndex: []\n    3\n3 NaN\n"
     ]
    },
    {
     "name": "stdout",
     "output_type": "stream",
     "text": [
      "Empty DataFrame\nColumns: [3, 753]\nIndex: []\n    3\n3 NaN\nEmpty DataFrame\nColumns: [3, 754]\nIndex: []\n    3\n3 NaN\nEmpty DataFrame\nColumns: [3, 755]\nIndex: []\n    3\n3 NaN\nEmpty DataFrame\nColumns: [3, 756]\nIndex: []\n    3\n3 NaN\nEmpty DataFrame\nColumns: [3, 757]\nIndex: []\n    3\n3 NaN\nEmpty DataFrame\nColumns: [3, 758]\nIndex: []\n    3\n3 NaN\nEmpty DataFrame\nColumns: [3, 759]\nIndex: []\n    3\n3 NaN\nEmpty DataFrame\nColumns: [3, 760]\nIndex: []\n    3\n3 NaN\nEmpty DataFrame\nColumns: [3, 761]\nIndex: []\n    3\n3 NaN\nEmpty DataFrame\nColumns: [3, 762]\nIndex: []\n    3\n3 NaN\nEmpty DataFrame\nColumns: [3, 763]\nIndex: []\n    3\n3 NaN\nEmpty DataFrame\nColumns: [3, 764]\nIndex: []\n    3\n3 NaN\nEmpty DataFrame\nColumns: [3, 765]\nIndex: []\n    3\n3 NaN\nEmpty DataFrame\nColumns: [3, 766]\nIndex: []\n     3    766\n3    NaN  NaN\n766  NaN  NaN\nEmpty DataFrame\nColumns: [3, 767]\nIndex: []\n    3\n3 NaN\n"
     ]
    },
    {
     "name": "stdout",
     "output_type": "stream",
     "text": [
      "Empty DataFrame\nColumns: [3, 768]\nIndex: []\n    3\n3 NaN\nEmpty DataFrame\nColumns: [3, 769]\nIndex: []\n    3\n3 NaN\nEmpty DataFrame\nColumns: [3, 770]\nIndex: []\n    3\n3 NaN\nEmpty DataFrame\nColumns: [3, 771]\nIndex: []\n    3\n3 NaN\nEmpty DataFrame\nColumns: [3, 772]\nIndex: []\n    3\n3 NaN\nEmpty DataFrame\nColumns: [3, 773]\nIndex: []\n    3\n3 NaN\nEmpty DataFrame\nColumns: [3, 774]\nIndex: []\n    3\n3 NaN\nEmpty DataFrame\nColumns: [3, 775]\nIndex: []\n    3\n3 NaN\nEmpty DataFrame\nColumns: [3, 776]\nIndex: []\n     3    776\n3    NaN  NaN\n776  NaN  NaN\nEmpty DataFrame\nColumns: [3, 777]\nIndex: []\n    3\n3 NaN\nEmpty DataFrame\nColumns: [3, 778]\nIndex: []\n     3    778\n3    NaN  NaN\n778  NaN  NaN\nEmpty DataFrame\nColumns: [3, 779]\nIndex: []\n    3\n3 NaN\nEmpty DataFrame\nColumns: [3, 780]\nIndex: []\n     3    780\n3    NaN  NaN\n780  NaN  NaN\nEmpty DataFrame\nColumns: [3, 781]\nIndex: []\n     3    781\n3    NaN  NaN\n781  NaN  NaN\nEmpty DataFrame\nColumns: [3, 782]\nIndex: []\n    3\n3 NaN\nEmpty DataFrame\nColumns: [3, 783]\nIndex: []\n    3\n3 NaN\n"
     ]
    },
    {
     "name": "stdout",
     "output_type": "stream",
     "text": [
      "Empty DataFrame\nColumns: [3, 784]\nIndex: []\n    3\n3 NaN\nEmpty DataFrame\nColumns: [3, 785]\nIndex: []\n    3\n3 NaN\nEmpty DataFrame\nColumns: [3, 786]\nIndex: []\n    3\n3 NaN\nEmpty DataFrame\nColumns: [3, 787]\nIndex: []\n     3    787\n3    NaN  NaN\n787  NaN  NaN\nEmpty DataFrame\nColumns: [3, 788]\nIndex: []\n    3\n3 NaN\nEmpty DataFrame\nColumns: [3, 789]\nIndex: []\n    3\n3 NaN\nEmpty DataFrame\nColumns: [3, 790]\nIndex: []\n    3\n3 NaN\nEmpty DataFrame\nColumns: [3, 791]\nIndex: []\n     3    791\n3    NaN  NaN\n791  NaN  NaN\nEmpty DataFrame\nColumns: [3, 792]\nIndex: []\n    3\n3 NaN\nEmpty DataFrame\nColumns: [3, 793]\nIndex: []\n    3\n3 NaN\nEmpty DataFrame\nColumns: [3, 794]\nIndex: []\n    3\n3 NaN\nEmpty DataFrame\nColumns: [3, 795]\nIndex: []\n    3\n3 NaN\nEmpty DataFrame\nColumns: [3, 796]\nIndex: []\n     3    796\n3    NaN  NaN\n796  NaN  NaN\nEmpty DataFrame\nColumns: [3, 797]\nIndex: []\n    3\n3 NaN\nEmpty DataFrame\nColumns: [3, 798]\nIndex: []\n    3\n3 NaN\n"
     ]
    },
    {
     "name": "stdout",
     "output_type": "stream",
     "text": [
      "Empty DataFrame\nColumns: [3, 799]\nIndex: []\n    3\n3 NaN\nEmpty DataFrame\nColumns: [3, 800]\nIndex: []\n    3\n3 NaN\nEmpty DataFrame\nColumns: [3, 801]\nIndex: []\n    3\n3 NaN\nEmpty DataFrame\nColumns: [3, 802]\nIndex: []\n    3\n3 NaN\nEmpty DataFrame\nColumns: [3, 803]\nIndex: []\n    3\n3 NaN\nEmpty DataFrame\nColumns: [3, 804]\nIndex: []\n     3    804\n3    NaN  NaN\n804  NaN  NaN\nEmpty DataFrame\nColumns: [3, 805]\nIndex: []\n     3    805\n3    NaN  NaN\n805  NaN  NaN\nEmpty DataFrame\nColumns: [3, 806]\nIndex: []\n    3\n3 NaN\nEmpty DataFrame\nColumns: [3, 807]\nIndex: []\n     3    807\n3    NaN  NaN\n807  NaN  NaN\nEmpty DataFrame\nColumns: [3, 808]\nIndex: []\n     3    808\n3    NaN  NaN\n808  NaN  NaN\nEmpty DataFrame\nColumns: [3, 809]\nIndex: []\n     3    809\n3    NaN  NaN\n809  NaN  NaN\nEmpty DataFrame\nColumns: [3, 810]\nIndex: []\n     3    810\n3    NaN  NaN\n810  NaN  NaN\nEmpty DataFrame\nColumns: [3, 811]\nIndex: []\n    3\n3 NaN\nEmpty DataFrame\nColumns: [3, 812]\nIndex: []\n    3\n3 NaN\nEmpty DataFrame\nColumns: [3, 813]\nIndex: []\n    3\n3 NaN\nEmpty DataFrame\nColumns: [3, 814]\nIndex: []\n    3\n3 NaN\n"
     ]
    },
    {
     "name": "stdout",
     "output_type": "stream",
     "text": [
      "Empty DataFrame\nColumns: [3, 815]\nIndex: []\n    3\n3 NaN\nEmpty DataFrame\nColumns: [3, 816]\nIndex: []\n    3\n3 NaN\nEmpty DataFrame\nColumns: [3, 817]\nIndex: []\n    3\n3 NaN\nEmpty DataFrame\nColumns: [3, 818]\nIndex: []\n    3\n3 NaN\nEmpty DataFrame\nColumns: [3, 819]\nIndex: []\n    3\n3 NaN\nEmpty DataFrame\nColumns: [3, 820]\nIndex: []\n     3    820\n3    NaN  NaN\n820  NaN  NaN\nEmpty DataFrame\nColumns: [3, 821]\nIndex: []\n     3    821\n3    NaN  NaN\n821  NaN  NaN\nEmpty DataFrame\nColumns: [3, 822]\nIndex: []\n    3\n3 NaN\nEmpty DataFrame\nColumns: [3, 823]\nIndex: []\n    3\n3 NaN\nEmpty DataFrame\nColumns: [3, 824]\nIndex: []\n     3    824\n3    NaN  NaN\n824  NaN  NaN\nEmpty DataFrame\nColumns: [3, 825]\nIndex: []\n    3\n3 NaN\nEmpty DataFrame\nColumns: [3, 826]\nIndex: []\n    3\n3 NaN\nEmpty DataFrame\nColumns: [3, 827]\nIndex: []\n    3\n3 NaN\nEmpty DataFrame\nColumns: [3, 828]\nIndex: []\n     3    828\n3    NaN  NaN\n828  NaN  NaN\nEmpty DataFrame\nColumns: [3, 829]\nIndex: []\n    3\n3 NaN\n"
     ]
    },
    {
     "name": "stdout",
     "output_type": "stream",
     "text": [
      "Empty DataFrame\nColumns: [3, 830]\nIndex: []\n     3    830\n3    NaN  NaN\n830  NaN  NaN\nEmpty DataFrame\nColumns: [3, 831]\nIndex: []\n    3\n3 NaN\nEmpty DataFrame\nColumns: [3, 832]\nIndex: []\n    3\n3 NaN\nEmpty DataFrame\nColumns: [3, 833]\nIndex: []\n    3\n3 NaN\nEmpty DataFrame\nColumns: [3, 834]\nIndex: []\n    3\n3 NaN\nEmpty DataFrame\nColumns: [3, 835]\nIndex: []\n    3\n3 NaN\nEmpty DataFrame\nColumns: [3, 836]\nIndex: []\n    3\n3 NaN\nEmpty DataFrame\nColumns: [3, 837]\nIndex: []\n    3\n3 NaN\nEmpty DataFrame\nColumns: [3, 838]\nIndex: []\n    3\n3 NaN\nEmpty DataFrame\nColumns: [3, 839]\nIndex: []\n    3\n3 NaN\nEmpty DataFrame\nColumns: [3, 840]\nIndex: []\n    3\n3 NaN\nEmpty DataFrame\nColumns: [3, 841]\nIndex: []\n    3\n3 NaN\nEmpty DataFrame\nColumns: [3, 842]\nIndex: []\n    3\n3 NaN\nEmpty DataFrame\nColumns: [3, 843]\nIndex: []\n     3    843\n3    NaN  NaN\n843  NaN  NaN\nEmpty DataFrame\nColumns: [3, 844]\nIndex: []\n    3\n3 NaN\n"
     ]
    },
    {
     "name": "stdout",
     "output_type": "stream",
     "text": [
      "Empty DataFrame\nColumns: [3, 845]\nIndex: []\n    3\n3 NaN\nEmpty DataFrame\nColumns: [3, 846]\nIndex: []\n    3\n3 NaN\nEmpty DataFrame\nColumns: [3, 847]\nIndex: []\n    3\n3 NaN\nEmpty DataFrame\nColumns: [3, 848]\nIndex: []\n    3\n3 NaN\nEmpty DataFrame\nColumns: [3, 849]\nIndex: []\n    3\n3 NaN\nEmpty DataFrame\nColumns: [3, 850]\nIndex: []\n    3\n3 NaN\nEmpty DataFrame\nColumns: [3, 851]\nIndex: []\n    3\n3 NaN\nEmpty DataFrame\nColumns: [3, 852]\nIndex: []\n    3\n3 NaN\nEmpty DataFrame\nColumns: [3, 853]\nIndex: []\n    3\n3 NaN\nEmpty DataFrame\nColumns: [3, 854]\nIndex: []\n    3\n3 NaN\nEmpty DataFrame\nColumns: [3, 855]\nIndex: []\n    3\n3 NaN\nEmpty DataFrame\nColumns: [3, 856]\nIndex: []\n    3\n3 NaN\nEmpty DataFrame\nColumns: [3, 857]\nIndex: []\n     3    857\n3    NaN  NaN\n857  NaN  NaN\nEmpty DataFrame\nColumns: [3, 858]\nIndex: []\n     3    858\n3    NaN  NaN\n858  NaN  NaN\nEmpty DataFrame\nColumns: [3, 859]\nIndex: []\n     3    859\n3    NaN  NaN\n859  NaN  NaN\n"
     ]
    },
    {
     "name": "stdout",
     "output_type": "stream",
     "text": [
      "Empty DataFrame\nColumns: [3, 860]\nIndex: []\n     3    860\n3    NaN  NaN\n860  NaN  NaN\nEmpty DataFrame\nColumns: [3, 861]\nIndex: []\n     3    861\n3    NaN  NaN\n861  NaN  NaN\nEmpty DataFrame\nColumns: [3, 862]\nIndex: []\n    3\n3 NaN\nEmpty DataFrame\nColumns: [3, 863]\nIndex: []\n     3    863\n3    NaN  NaN\n863  NaN  NaN\nEmpty DataFrame\nColumns: [3, 864]\nIndex: []\n     3    864\n3    NaN  NaN\n864  NaN  NaN\nEmpty DataFrame\nColumns: [3, 865]\nIndex: []\n    3\n3 NaN\nEmpty DataFrame\nColumns: [3, 866]\nIndex: []\n    3\n3 NaN\nEmpty DataFrame\nColumns: [3, 867]\nIndex: []\n     3    867\n3    NaN  NaN\n867  NaN  NaN\nEmpty DataFrame\nColumns: [3, 868]\nIndex: []\n    3\n3 NaN\nEmpty DataFrame\nColumns: [3, 869]\nIndex: []\n    3\n3 NaN\nEmpty DataFrame\nColumns: [3, 870]\nIndex: []\n    3\n3 NaN\nEmpty DataFrame\nColumns: [3, 871]\nIndex: []\n    3\n3 NaN\nEmpty DataFrame\nColumns: [3, 872]\nIndex: []\n    3\n3 NaN\nEmpty DataFrame\nColumns: [3, 873]\nIndex: []\n    3\n3 NaN\nEmpty DataFrame\nColumns: [3, 874]\nIndex: []\n    3\n3 NaN\nEmpty DataFrame\nColumns: [3, 875]\nIndex: []\n"
     ]
    },
    {
     "name": "stdout",
     "output_type": "stream",
     "text": [
      "    3\n3 NaN\nEmpty DataFrame\nColumns: [3, 876]\nIndex: []\n    3\n3 NaN\nEmpty DataFrame\nColumns: [3, 877]\nIndex: []\n    3\n3 NaN\nEmpty DataFrame\nColumns: [3, 878]\nIndex: []\n    3\n3 NaN\nEmpty DataFrame\nColumns: [3, 879]\nIndex: []\n    3\n3 NaN\nEmpty DataFrame\nColumns: [3, 880]\nIndex: []\n    3\n3 NaN\nEmpty DataFrame\nColumns: [3, 881]\nIndex: []\n    3\n3 NaN\nEmpty DataFrame\nColumns: [3, 882]\nIndex: []\n    3\n3 NaN\nEmpty DataFrame\nColumns: [3, 883]\nIndex: []\n    3\n3 NaN\nEmpty DataFrame\nColumns: [3, 884]\nIndex: []\n    3\n3 NaN\nEmpty DataFrame\nColumns: [3, 885]\nIndex: []\n    3\n3 NaN\nEmpty DataFrame\nColumns: [3, 886]\nIndex: []\n    3\n3 NaN\nEmpty DataFrame\nColumns: [3, 887]\nIndex: []\n    3\n3 NaN\nEmpty DataFrame\nColumns: [3, 888]\nIndex: []\n    3\n3 NaN\nEmpty DataFrame\nColumns: [3, 889]\nIndex: []\n    3\n3 NaN\n"
     ]
    },
    {
     "name": "stdout",
     "output_type": "stream",
     "text": [
      "Empty DataFrame\nColumns: [3, 890]\nIndex: []\n    3\n3 NaN\nEmpty DataFrame\nColumns: [3, 891]\nIndex: []\n     3    891\n3    NaN  NaN\n891  NaN  NaN\nEmpty DataFrame\nColumns: [3, 892]\nIndex: []\n    3\n3 NaN\nEmpty DataFrame\nColumns: [3, 893]\nIndex: []\n     3    893\n3    NaN  NaN\n893  NaN  NaN\nEmpty DataFrame\nColumns: [3, 894]\nIndex: []\n    3\n3 NaN\nEmpty DataFrame\nColumns: [3, 895]\nIndex: []\n    3\n3 NaN\nEmpty DataFrame\nColumns: [3, 896]\nIndex: []\n    3\n3 NaN\nEmpty DataFrame\nColumns: [3, 897]\nIndex: []\n    3\n3 NaN\nEmpty DataFrame\nColumns: [3, 898]\nIndex: []\n     3    898\n3    NaN  NaN\n898  NaN  NaN\nEmpty DataFrame\nColumns: [3, 899]\nIndex: []\n    3\n3 NaN\nEmpty DataFrame\nColumns: [3, 900]\nIndex: []\n    3\n3 NaN\nEmpty DataFrame\nColumns: [3, 901]\nIndex: []\n    3\n3 NaN\nEmpty DataFrame\nColumns: [3, 902]\nIndex: []\n    3\n3 NaN\nEmpty DataFrame\nColumns: [3, 903]\nIndex: []\n     3    903\n3    NaN  NaN\n903  NaN  NaN\nEmpty DataFrame\nColumns: [3, 904]\nIndex: []\n     3    904\n3    NaN  NaN\n904  NaN  NaN\n"
     ]
    },
    {
     "name": "stdout",
     "output_type": "stream",
     "text": [
      "Empty DataFrame\nColumns: [3, 905]\nIndex: []\n    3\n3 NaN\nEmpty DataFrame\nColumns: [3, 906]\nIndex: []\n    3\n3 NaN\nEmpty DataFrame\nColumns: [3, 907]\nIndex: []\n     3    907\n3    NaN  NaN\n907  NaN  NaN\nEmpty DataFrame\nColumns: [3, 908]\nIndex: []\n    3\n3 NaN\nEmpty DataFrame\nColumns: [3, 909]\nIndex: []\n    3\n3 NaN\nEmpty DataFrame\nColumns: [3, 910]\nIndex: []\n    3\n3 NaN\nEmpty DataFrame\nColumns: [3, 911]\nIndex: []\n    3\n3 NaN\nEmpty DataFrame\nColumns: [3, 912]\nIndex: []\n    3\n3 NaN\nEmpty DataFrame\nColumns: [3, 913]\nIndex: []\n    3\n3 NaN\nEmpty DataFrame\nColumns: [3, 914]\nIndex: []\n    3\n3 NaN\nEmpty DataFrame\nColumns: [3, 915]\nIndex: []\n    3\n3 NaN\nEmpty DataFrame\nColumns: [3, 916]\nIndex: []\n    3\n3 NaN\nEmpty DataFrame\nColumns: [3, 917]\nIndex: []\n    3\n3 NaN\n"
     ]
    },
    {
     "name": "stdout",
     "output_type": "stream",
     "text": [
      "Empty DataFrame\nColumns: [3, 918]\nIndex: []\n    3\n3 NaN\nEmpty DataFrame\nColumns: [3, 919]\nIndex: []\n    3\n3 NaN\nEmpty DataFrame\nColumns: [3, 920]\nIndex: []\n    3\n3 NaN\nEmpty DataFrame\nColumns: [3, 921]\nIndex: []\n    3\n3 NaN\nEmpty DataFrame\nColumns: [3, 922]\nIndex: []\n    3\n3 NaN\nEmpty DataFrame\nColumns: [3, 923]\nIndex: []\n    3\n3 NaN\nEmpty DataFrame\nColumns: [3, 924]\nIndex: []\n    3\n3 NaN\nEmpty DataFrame\nColumns: [3, 925]\nIndex: []\n     3    925\n3    NaN  NaN\n925  NaN  NaN\nEmpty DataFrame\nColumns: [3, 926]\nIndex: []\n    3\n3 NaN\nEmpty DataFrame\nColumns: [3, 927]\nIndex: []\n    3\n3 NaN\nEmpty DataFrame\nColumns: [3, 928]\nIndex: []\n    3\n3 NaN\nEmpty DataFrame\nColumns: [3, 929]\nIndex: []\n    3\n3 NaN\n"
     ]
    },
    {
     "name": "stdout",
     "output_type": "stream",
     "text": [
      "Empty DataFrame\nColumns: [3, 930]\nIndex: []\n    3\n3 NaN\nEmpty DataFrame\nColumns: [3, 931]\nIndex: []\n    3\n3 NaN\nEmpty DataFrame\nColumns: [3, 932]\nIndex: []\n     3    932\n3    NaN  NaN\n932  NaN  NaN\nEmpty DataFrame\nColumns: [3, 933]\nIndex: []\n    3\n3 NaN\nEmpty DataFrame\nColumns: [3, 934]\nIndex: []\n    3\n3 NaN\nEmpty DataFrame\nColumns: [3, 935]\nIndex: []\n    3\n3 NaN\nEmpty DataFrame\nColumns: [3, 936]\nIndex: []\n    3\n3 NaN\nEmpty DataFrame\nColumns: [3, 937]\nIndex: []\n    3\n3 NaN\nEmpty DataFrame\nColumns: [3, 938]\nIndex: []\n    3\n3 NaN\nEmpty DataFrame\nColumns: [3, 939]\nIndex: []\n    3\n3 NaN\nEmpty DataFrame\nColumns: [3, 940]\nIndex: []\n    3\n3 NaN\nEmpty DataFrame\nColumns: [3, 941]\nIndex: []\n    3\n3 NaN\nEmpty DataFrame\nColumns: [3, 942]\nIndex: []\n    3\n3 NaN\n"
     ]
    },
    {
     "name": "stdout",
     "output_type": "stream",
     "text": [
      "Empty DataFrame\nColumns: [3, 943]\nIndex: []\n    3\n3 NaN\nEmpty DataFrame\nColumns: [3, 944]\nIndex: []\n    3\n3 NaN\nEmpty DataFrame\nColumns: [3, 945]\nIndex: []\n    3\n3 NaN\nEmpty DataFrame\nColumns: [3, 946]\nIndex: []\n    3\n3 NaN\nEmpty DataFrame\nColumns: [3, 947]\nIndex: []\n     3    947\n3    NaN  NaN\n947  NaN  NaN\nEmpty DataFrame\nColumns: [3, 948]\nIndex: []\n    3\n3 NaN\nEmpty DataFrame\nColumns: [3, 949]\nIndex: []\n     3    949\n3    NaN  NaN\n949  NaN  NaN\nEmpty DataFrame\nColumns: [3, 950]\nIndex: []\n    3\n3 NaN\nEmpty DataFrame\nColumns: [3, 951]\nIndex: []\n    3\n3 NaN\nEmpty DataFrame\nColumns: [3, 952]\nIndex: []\n     3    952\n3    NaN  NaN\n952  NaN  NaN\nEmpty DataFrame\nColumns: [3, 953]\nIndex: []\n    3\n3 NaN\nEmpty DataFrame\nColumns: [3, 954]\nIndex: []\n    3\n3 NaN\nEmpty DataFrame\nColumns: [3, 955]\nIndex: []"
     ]
    },
    {
     "name": "stdout",
     "output_type": "stream",
     "text": [
      "\n    3\n3 NaN\nEmpty DataFrame\nColumns: [3, 956]\nIndex: []\n    3\n3 NaN\nEmpty DataFrame\nColumns: [3, 957]\nIndex: []\n    3\n3 NaN\nEmpty DataFrame\nColumns: [3, 958]\nIndex: []\n    3\n3 NaN\nEmpty DataFrame\nColumns: [3, 959]\nIndex: []\n    3\n3 NaN\nEmpty DataFrame\nColumns: [3, 960]\nIndex: []\n    3\n3 NaN\nEmpty DataFrame\nColumns: [3, 961]\nIndex: []\n    3\n3 NaN\nEmpty DataFrame\nColumns: [3, 962]\nIndex: []\n    3\n3 NaN\nEmpty DataFrame\nColumns: [3, 963]\nIndex: []\n    3\n3 NaN\nEmpty DataFrame\nColumns: [3, 964]\nIndex: []\n    3\n3 NaN\nEmpty DataFrame\nColumns: [3, 965]\nIndex: []\n    3\n3 NaN\nEmpty DataFrame\nColumns: [3, 966]\nIndex: []\n    3\n3 NaN\nEmpty DataFrame\nColumns: [3, 967]\nIndex: []\n    3\n3 NaN\nEmpty DataFrame\nColumns: [3, 968]\nIndex: []"
     ]
    },
    {
     "name": "stdout",
     "output_type": "stream",
     "text": [
      "\n    3\n3 NaN\nEmpty DataFrame\nColumns: [3, 969]\nIndex: []\n    3\n3 NaN\nEmpty DataFrame\nColumns: [3, 970]\nIndex: []\n    3\n3 NaN\nEmpty DataFrame\nColumns: [3, 971]\nIndex: []\n    3\n3 NaN\nEmpty DataFrame\nColumns: [3, 972]\nIndex: []\n    3\n3 NaN\nEmpty DataFrame\nColumns: [3, 973]\nIndex: []\n    3\n3 NaN\nEmpty DataFrame\nColumns: [3, 974]\nIndex: []\n    3\n3 NaN\nEmpty DataFrame\nColumns: [3, 975]\nIndex: []\n    3\n3 NaN\nEmpty DataFrame\nColumns: [3, 976]\nIndex: []\n    3\n3 NaN\nEmpty DataFrame\nColumns: [3, 977]\nIndex: []\n    3\n3 NaN\nEmpty DataFrame\nColumns: [3, 978]\nIndex: []\n    3\n3 NaN\nEmpty DataFrame\nColumns: [3, 979]\nIndex: []\n     3    979\n3    NaN  NaN\n979  NaN  NaN\nEmpty DataFrame\nColumns: [3, 980]\nIndex: []\n    3\n3 NaN\nEmpty DataFrame\nColumns: [3, 981]\nIndex: []\n     3    981\n3    NaN  NaN\n981  NaN  NaN\nEmpty DataFrame\nColumns: [3, 982]\nIndex: []\n     3    982\n3    NaN  NaN\n982  NaN  NaN\n"
     ]
    },
    {
     "name": "stdout",
     "output_type": "stream",
     "text": [
      "Empty DataFrame\nColumns: [3, 983]\nIndex: []\n    3\n3 NaN\nEmpty DataFrame\nColumns: [3, 984]\nIndex: []\n    3\n3 NaN\nEmpty DataFrame\nColumns: [3, 985]\nIndex: []\n    3\n3 NaN\nEmpty DataFrame\nColumns: [3, 986]\nIndex: []\n     3    986\n3    NaN  NaN\n986  NaN  NaN\nEmpty DataFrame\nColumns: [3, 987]\nIndex: []\n    3\n3 NaN\nEmpty DataFrame\nColumns: [3, 988]\nIndex: []\n    3\n3 NaN\nEmpty DataFrame\nColumns: [3, 989]\nIndex: []\n     3    989\n3    NaN  NaN\n989  NaN  NaN\nEmpty DataFrame\nColumns: [3, 990]\nIndex: []\n    3\n3 NaN\nEmpty DataFrame\nColumns: [3, 991]\nIndex: []\n     3    991\n3    NaN  NaN\n991  NaN  NaN\nEmpty DataFrame\nColumns: [3, 992]\nIndex: []\n     3    992\n3    NaN  NaN\n992  NaN  NaN\nEmpty DataFrame\nColumns: [3, 993]\nIndex: []\n    3\n3 NaN\nEmpty DataFrame\nColumns: [3, 994]\nIndex: []\n    3\n3 NaN\nEmpty DataFrame\nColumns: [3, 995]\nIndex: []\n    3\n3 NaN\n"
     ]
    },
    {
     "name": "stdout",
     "output_type": "stream",
     "text": [
      "Empty DataFrame\nColumns: [3, 996]\nIndex: []\n    3\n3 NaN\nEmpty DataFrame\nColumns: [3, 997]\nIndex: []\n     3    997\n3    NaN  NaN\n997  NaN  NaN\nEmpty DataFrame\nColumns: [3, 998]\nIndex: []\n     3    998\n3    NaN  NaN\n998  NaN  NaN\nEmpty DataFrame\nColumns: [3, 999]\nIndex: []\n    3\n3 NaN\nEmpty DataFrame\nColumns: [3, 1000]\nIndex: []\n    3\n3 NaN\nEmpty DataFrame\nColumns: [3, 1001]\nIndex: []\n    3\n3 NaN\nEmpty DataFrame\nColumns: [3, 1002]\nIndex: []\n    3\n3 NaN\nEmpty DataFrame\nColumns: [3, 1003]\nIndex: []\n      3     1003\n3      NaN   NaN\n1003   NaN   NaN\nEmpty DataFrame\nColumns: [3, 1004]\nIndex: []\n      3     1004\n3      NaN   NaN\n1004   NaN   NaN\nEmpty DataFrame\nColumns: [3, 1005]\nIndex: []\n      3     1005\n3      NaN   NaN\n1005   NaN   NaN\nEmpty DataFrame\nColumns: [3, 1006]\nIndex: []\n      3     1006\n3      NaN   NaN\n1006   NaN   NaN\nEmpty DataFrame\nColumns: [3, 1007]\nIndex: []\n      3     1007\n3      NaN   NaN\n1007   NaN   NaN\nEmpty DataFrame\nColumns: [3, 1008]\nIndex: []\n    3\n3 NaN\nEmpty DataFrame\nColumns: [3, 1009]\nIndex: []\n      3     1009\n3      NaN   NaN\n1009   NaN   NaN\nEmpty DataFrame\nColumns: [3, 1010]\nIndex: []\n      3     1010\n3      NaN   NaN\n1010   NaN   NaN\nEmpty DataFrame\nColumns: [3, 1011]\nIndex: []"
     ]
    },
    {
     "name": "stdout",
     "output_type": "stream",
     "text": [
      "\n    3\n3 NaN\nEmpty DataFrame\nColumns: [3, 1012]\nIndex: []\n      3     1012\n3      NaN   NaN\n1012   NaN   NaN\nEmpty DataFrame\nColumns: [3, 1013]\nIndex: []\n    3\n3 NaN\nEmpty DataFrame\nColumns: [3, 1014]\nIndex: []\n      3     1014\n3      NaN   NaN\n1014   NaN   NaN\nEmpty DataFrame\nColumns: [3, 1015]\nIndex: []\n      3     1015\n3      NaN   NaN\n1015   NaN   NaN\nEmpty DataFrame\nColumns: [3, 1016]\nIndex: []\n      3     1016\n3      NaN   NaN\n1016   NaN   NaN\nEmpty DataFrame\nColumns: [3, 1017]\nIndex: []\n    3\n3 NaN\nEmpty DataFrame\nColumns: [3, 1018]\nIndex: []\n    3\n3 NaN\nEmpty DataFrame\nColumns: [3, 1019]\nIndex: []\n    3\n3 NaN\nEmpty DataFrame\nColumns: [3, 1020]\nIndex: []\n      3     1020\n3      NaN   NaN\n1020   NaN   NaN\nEmpty DataFrame\nColumns: [3, 1021]\nIndex: []\n    3\n3 NaN\nEmpty DataFrame\nColumns: [3, 1022]\nIndex: []\n    3\n3 NaN\nEmpty DataFrame\nColumns: [3, 1023]\nIndex: []\n      3     1023\n3      NaN   NaN\n1023   NaN   NaN\nEmpty DataFrame\nColumns: [3, 1024]\nIndex: []\n      3     1024\n3      NaN   NaN\n1024   NaN   NaN\nEmpty DataFrame\nColumns: [3, 1025]\nIndex: []\n      3     1025\n3      NaN   NaN\n1025   NaN   NaN\nEmpty DataFrame\nColumns: [3, 1026]\nIndex: []\n      3     1026\n3      NaN   NaN\n1026   NaN   NaN\nEmpty DataFrame\nColumns: [3, 1027]\nIndex: []\n      3     1027\n3      NaN   NaN\n1027   NaN   NaN\nEmpty DataFrame\nColumns: [3, 1028]\nIndex: []\n      3     1028\n3      NaN   NaN\n1028   NaN   NaN\nEmpty DataFrame\nColumns: [3, 1029]\nIndex: []"
     ]
    },
    {
     "name": "stdout",
     "output_type": "stream",
     "text": [
      "\n      3     1029\n3      NaN   NaN\n1029   NaN   NaN\nEmpty DataFrame\nColumns: [3, 1030]\nIndex: []\n      3     1030\n3      NaN   NaN\n1030   NaN   NaN\nEmpty DataFrame\nColumns: [3, 1031]\nIndex: []\n      3     1031\n3      NaN   NaN\n1031   NaN   NaN\nEmpty DataFrame\nColumns: [3, 1032]\nIndex: []\n      3     1032\n3      NaN   NaN\n1032   NaN   NaN\nEmpty DataFrame\nColumns: [3, 1033]\nIndex: []\n    3\n3 NaN\nEmpty DataFrame\nColumns: [3, 1034]\nIndex: []\n    3\n3 NaN\nEmpty DataFrame\nColumns: [3, 1035]\nIndex: []\n      3     1035\n3      NaN   NaN\n1035   NaN   NaN\nEmpty DataFrame\nColumns: [3, 1036]\nIndex: []\n      3     1036\n3      NaN   NaN\n1036   NaN   NaN\nEmpty DataFrame\nColumns: [3, 1037]\nIndex: []\n      3     1037\n3      NaN   NaN\n1037   NaN   NaN\nEmpty DataFrame\nColumns: [3, 1038]\nIndex: []\n      3     1038\n3      NaN   NaN\n1038   NaN   NaN\n          4      5\n3014   77,9    5,3\n3025   77,9    5,3\n3026   77,9    5,3\n3027   77,9    5,3\n3028   77,9    5,3\n3029   77,9    5,3\n3036   77,9    5,3\n3037   77,9    5,3\n3038   77,9    5,3\n3030   77,9    5,3\n3031   77,9    5,3\n3032   77,9    5,3\n3033   77,9    5,3\n3034   77,9    5,3\n3035   77,9    5,3\n19657  68,3  96,17\n19654  68,3  96,17\nEmpty DataFrame\nColumns: []\nIndex: []\n          4     6\n3014   77,9  23,4\n3025   77,9  23,4\n3026   77,9  23,4\n3027   77,9  23,4\n3028   77,9  23,4\n3029   77,9  23,4\n3036   77,9  23,4\n3037   77,9  23,4\n3038   77,9  23,4\n3030   77,9  23,4\n3031   77,9  23,4\n3032   77,9  23,4\n3033   77,9  23,4\n3034   77,9  23,4\n3035   77,9  23,4\n19657  68,3   3,3\n19654  68,3   3,3\nEmpty DataFrame\nColumns: []\nIndex: []\n         4      7\n3014  77,9  243,6\n3025  77,9  243,6\n3026  77,9  243,6\n3027  77,9  243,6\n3028  77,9  243,6\n3029  77,9  243,6\n3036  77,9  243,6\n3037  77,9  243,6\n3038  77,9  243,6\n3030  77,9  243,6\n3031  77,9  243,6\n3032  77,9  243,6\n3033  77,9  243,6\n3034  77,9  243,6\n3035  77,9  243,6\nEmpty DataFrame\nColumns: []\nIndex: []\n         4  8\n3014  77,9  0\n3025  77,9  0\n3026  77,9  0\n3027  77,9  0\n3028  77,9  0\n3029  77,9  0\n3036  77,9  0\n3037  77,9  0\n3038  77,9  0\n3030  77,9  0\n3031  77,9  0\n3032  77,9  0\n3033  77,9  0\n3034  77,9  0\n3035  77,9  0\nEmpty DataFrame\nColumns: []\nIndex: []\n          4     9\n3014   77,9  5,41\n3025   77,9  5,41\n3026   77,9  5,41\n3027   77,9  5,41\n3028   77,9  5,41\n3029   77,9  5,41\n3036   77,9  5,41\n3037   77,9  5,41\n3038   77,9  5,41\n3030   77,9  5,41\n3031   77,9  5,41\n3032   77,9  5,41\n3033   77,9  5,41\n3034   77,9  5,41\n3035   77,9  5,41\n19657  68,3  4,46\n19654  68,3  4,46\n5194   66,4     5\n10477  66,4     5\n10478  66,4     5\n10482  66,4     5\n15270  66,4     5\n15271  66,4     5\n17414  66,4     5\n18584  66,4     5\n21274  66,4     5\n15272  66,4     5\n15291  66,4     5\n15275  66,4     5\n15276  66,4     5\n15289  66,4     5\n15290  66,4     5\n6873   68,6  4,72\n6874   68,6  4,72\n6877   68,6  4,72\n6878   68,6  4,72\n6879   68,6  4,72\n7023   70,2  5,35\nEmpty DataFrame\nColumns: []\nIndex: []\n"
     ]
    },
    {
     "name": "stdout",
     "output_type": "stream",
     "text": [
      "Empty DataFrame\nColumns: [4, 10]\nIndex: []\nEmpty DataFrame\nColumns: []\nIndex: []\n         4     11\n3014   77,9  11,1\n3025   77,9  11,1\n3026   77,9  11,1\n3027   77,9  11,1\n3028   77,9  11,1\n3029   77,9  11,1\n3036   77,9  11,1\n3037   77,9  11,1\n3038   77,9  11,1\n3030   77,9  11,1\n3031   77,9  11,1\n3032   77,9  11,1\n3033   77,9  11,1\n3034   77,9  11,1\n3035   77,9  11,1\n5194   66,4  13,6\n10477  66,4  13,6\n10478  66,4  13,6\n10482  66,4  13,6\n15270  66,4  13,6\n15271  66,4  13,6\n17414  66,4  13,6\n18584  66,4  13,6\n21274  66,4  13,6\n15272  66,4  13,6\n15291  66,4  13,6\n15275  66,4  13,6\n15276  66,4  13,6\n15289  66,4  13,6\n15290  66,4  13,6\nEmpty DataFrame\nColumns: []\nIndex: []\nEmpty DataFrame\nColumns: [4, 12]\nIndex: []\nEmpty DataFrame\nColumns: []\nIndex: []\n         4     13\n3014   77,9  62,5\n3025   77,9  62,5\n3026   77,9  62,5\n3027   77,9  62,5\n3028   77,9  62,5\n3029   77,9  62,5\n3036   77,9  62,5\n3037   77,9  62,5\n3038   77,9  62,5\n3030   77,9  62,5\n3031   77,9  62,5\n3032   77,9  62,5\n3033   77,9  62,5\n3034   77,9  62,5\n3035   77,9  62,5\n19657  68,3  1,33\n19654  68,3  1,33\n5194   66,4  1,19\n10477  66,4  1,19\n10478  66,4  1,19\n10482  66,4  1,19\n15270  66,4  1,19\n15271  66,4  1,19\n17414  66,4  1,19\n18584  66,4  1,19\n21274  66,4  1,19\n15272  66,4  1,19\n15291  66,4  1,19\n15275  66,4  1,19\n15276  66,4  1,19\n15289  66,4  1,19\n15290  66,4  1,19\nEmpty DataFrame\nColumns: []\nIndex: []\n         4     14\n3014   77,9  32,5\n3025   77,9  32,5\n3026   77,9  32,5\n3027   77,9  32,5\n3028   77,9  32,5\n3029   77,9  32,5\n3036   77,9  32,5\n3037   77,9  32,5\n3038   77,9  32,5\n3030   77,9  32,5\n3031   77,9  32,5\n3032   77,9  32,5\n3033   77,9  32,5\n3034   77,9  32,5\n3035   77,9  32,5\n19657  68,3  18,6\n19654  68,3  18,6\n5194   66,4  16,6\n10477  66,4  16,6\n10478  66,4  16,6\n10482  66,4  16,6\n15270  66,4  16,6\n15271  66,4  16,6\n17414  66,4  16,6\n18584  66,4  16,6\n21274  66,4  16,6\n15272  66,4  16,6\n15291  66,4  16,6\n15275  66,4  16,6\n15276  66,4  16,6\n15289  66,4  16,6\n15290  66,4  16,6\n6873   68,6  27,5\n6874   68,6  27,5\n6877   68,6  27,5\n6878   68,6  27,5\n6879   68,6  27,5\nEmpty DataFrame\nColumns: []\nIndex: []\n         4      15\n3014   77,9  21,59\n3025   77,9  21,59\n3026   77,9  21,59\n3027   77,9  21,59\n3028   77,9  21,59\n3029   77,9  21,59\n3036   77,9  21,59\n3037   77,9  21,59\n3038   77,9  21,59\n3030   77,9  21,59\n3031   77,9  21,59\n3032   77,9  21,59\n3033   77,9  21,59\n3034   77,9  21,59\n3035   77,9  21,59\n19657  68,3   10,8\n19654  68,3   10,8\n5194   66,4   5,07\n10477  66,4   5,07\n10478  66,4   5,07\n10482  66,4   5,07\n15270  66,4   5,07\n15271  66,4   5,07\n17414  66,4   5,07\n18584  66,4   5,07\n21274  66,4   5,07\n15272  66,4   5,07\n15291  66,4   5,07\n15275  66,4   5,07\n15276  66,4   5,07\n15289  66,4   5,07\n15290  66,4   5,07\n6873   68,6    6,3\n6874   68,6    6,3\n6877   68,6    6,3\n6878   68,6    6,3\n6879   68,6    6,3\n7023   70,2    4,8\nEmpty DataFrame\nColumns: []\nIndex: []\n         4     16\n3014   77,9  15,5\n3025   77,9  15,5\n3026   77,9  15,5\n3027   77,9  15,5\n3028   77,9  15,5\n3029   77,9  15,5\n3036   77,9  15,5\n3037   77,9  15,5\n3038   77,9  15,5\n3030   77,9  15,5\n3031   77,9  15,5\n3032   77,9  15,5\n3033   77,9  15,5\n3034   77,9  15,5\n3035   77,9  15,5\n5194   66,4   8,4\n10477  66,4   8,4\n10478  66,4   8,4\n10482  66,4   8,4\n15270  66,4   8,4\n15271  66,4   8,4\n17414  66,4   8,4\n18584  66,4   8,4\n21274  66,4   8,4\n15272  66,4   8,4\n15291  66,4   8,4\n15275  66,4   8,4\n15276  66,4   8,4\n15289  66,4   8,4\n15290  66,4   8,4\nEmpty DataFrame\nColumns: []\nIndex: []\n        4     17\n3014  77,9  42,5\n3025  77,9  42,5\n3026  77,9  42,5\n3027  77,9  42,5\n3028  77,9  42,5\n3029  77,9  42,5\n3036  77,9  42,5\n3037  77,9  42,5\n3038  77,9  42,5\n3030  77,9  42,5\n3031  77,9  42,5\n3032  77,9  42,5\n3033  77,9  42,5\n3034  77,9  42,5\n3035  77,9  42,5\nEmpty DataFrame\nColumns: []\nIndex: []\n        4     18\n3014  77,9  15,2\n3025  77,9  15,2\n3026  77,9  15,2\n3027  77,9  15,2\n3028  77,9  15,2\n3029  77,9  15,2\n3036  77,9  15,2\n3037  77,9  15,2\n3038  77,9  15,2\n3030  77,9  15,2\n3031  77,9  15,2\n3032  77,9  15,2\n3033  77,9  15,2\n3034  77,9  15,2\n3035  77,9  15,2\nEmpty DataFrame\nColumns: []\nIndex: []\nEmpty DataFrame\nColumns: [4, 19]\nIndex: []\n    19\n19 NaN\nEmpty DataFrame\nColumns: [4, 20]\nIndex: []\nEmpty DataFrame\nColumns: []\nIndex: []\nEmpty DataFrame\nColumns: [4, 21]\nIndex: []\nEmpty DataFrame\nColumns: []\nIndex: []\nEmpty DataFrame\nColumns: [4, 22]\nIndex: []\nEmpty DataFrame\nColumns: []\nIndex: []"
     ]
    },
    {
     "name": "stdout",
     "output_type": "stream",
     "text": [
      "\nEmpty DataFrame\nColumns: [4, 23]\nIndex: []\nEmpty DataFrame\nColumns: []\nIndex: []\n         4   24\n19657  68,3  26\n19654  68,3  26\n5194   66,4  18\n10477  66,4  18\n10478  66,4  18\n10482  66,4  18\n15270  66,4  18\n15271  66,4  18\n17414  66,4  18\n18584  66,4  18\n21274  66,4  18\n15272  66,4  18\n15291  66,4  18\n15275  66,4  18\n15276  66,4  18\n15289  66,4  18\n15290  66,4  18\n6873   68,6   9\n6874   68,6   9\n6877   68,6   9\n6878   68,6   9\n6879   68,6   9\n7023   70,2  13\nEmpty DataFrame\nColumns: []\nIndex: []\nEmpty DataFrame\nColumns: [4, 25]\nIndex: []\n    25\n25 NaN\nEmpty DataFrame\nColumns: [4, 26]\nIndex: []\nEmpty DataFrame\nColumns: []\nIndex: []\nEmpty DataFrame\nColumns: [4, 27]\nIndex: []\nEmpty DataFrame\nColumns: []\nIndex: []\n         4     28\n19657  68,3  1,53\n19654  68,3  1,53\n6873   68,6  1,41\n6874   68,6  1,41\n6877   68,6  1,41\n6878   68,6  1,41\n6879   68,6  1,41\nEmpty DataFrame\nColumns: []\nIndex: []\n         4     29\n19657  68,3  8,85\n19654  68,3  8,85\nEmpty DataFrame\nColumns: []\nIndex: []\n         4     30\n19657  68,3    13\n19654  68,3    13\n5194   66,4  11,4\n10477  66,4  11,4\n10478  66,4  11,4\n10482  66,4  11,4\n15270  66,4  11,4\n15271  66,4  11,4\n17414  66,4  11,4\n18584  66,4  11,4\n21274  66,4  11,4\n15272  66,4  11,4\n15291  66,4  11,4\n15275  66,4  11,4\n15276  66,4  11,4\n15289  66,4  11,4\n15290  66,4  11,4\n6873   68,6  12,4\n6874   68,6  12,4\n6877   68,6  12,4\n6878   68,6  12,4\n6879   68,6  12,4\n7023   70,2  11,9\nEmpty DataFrame\nColumns: []\nIndex: []\n         4     31\n19657  68,3  4,37\n19654  68,3  4,37\n6873   68,6  3,89\n6874   68,6  3,89\n6877   68,6  3,89\n6878   68,6  3,89\n6879   68,6  3,89\nEmpty DataFrame\nColumns: []\nIndex: []\n         4     32\n19657  68,3  16,9\n19654  68,3  16,9\nEmpty DataFrame\nColumns: []\nIndex: []\nEmpty DataFrame\nColumns: [4, 33]\nIndex: []\n    33\n33 NaN\nEmpty DataFrame\nColumns: [4, 34]\nIndex: []\n    34\n34 NaN\nEmpty DataFrame\nColumns: [4, 35]\nIndex: []\n    35\n35 NaN\nEmpty DataFrame\nColumns: [4, 36]\nIndex: []"
     ]
    },
    {
     "name": "stdout",
     "output_type": "stream",
     "text": [
      "\n    36\n36 NaN\nEmpty DataFrame\nColumns: [4, 37]\nIndex: []\n    37\n37 NaN\nEmpty DataFrame\nColumns: [4, 38]\nIndex: []\n    38\n38 NaN\nEmpty DataFrame\nColumns: [4, 39]\nIndex: []\n    39\n39 NaN\nEmpty DataFrame\nColumns: [4, 40]\nIndex: []\n    40\n40 NaN\n         4     41\n5194   66,4  0,29\n10477  66,4  0,29\n10478  66,4  0,29\n10482  66,4  0,29\n15270  66,4  0,29\n15271  66,4  0,29\n17414  66,4  0,29\n18584  66,4  0,29\n21274  66,4  0,29\n15272  66,4  0,29\n15291  66,4  0,29\n15275  66,4  0,29\n15276  66,4  0,29\n15289  66,4  0,29\n15290  66,4  0,29\nEmpty DataFrame\nColumns: []\nIndex: []\n         4     42\n5194   66,4  1,09\n10477  66,4  1,09\n10478  66,4  1,09\n10482  66,4  1,09\n15270  66,4  1,09\n15271  66,4  1,09\n17414  66,4  1,09\n18584  66,4  1,09\n21274  66,4  1,09\n15272  66,4  1,09\n15291  66,4  1,09\n15275  66,4  1,09\n15276  66,4  1,09\n15289  66,4  1,09\n15290  66,4  1,09\nEmpty DataFrame\nColumns: []\nIndex: []\nEmpty DataFrame\nColumns: [4, 43]\nIndex: []\nEmpty DataFrame\nColumns: []\nIndex: []\nEmpty DataFrame\nColumns: [4, 44]\nIndex: []\nEmpty DataFrame\nColumns: []\nIndex: []\nEmpty DataFrame\nColumns: [4, 45]\nIndex: []\nEmpty DataFrame\nColumns: []\nIndex: []\n         4    46\n5194   66,4  1,7\n10477  66,4  1,7\n10478  66,4  1,7\n10482  66,4  1,7\n15270  66,4  1,7\n15271  66,4  1,7\n17414  66,4  1,7\n18584  66,4  1,7\n21274  66,4  1,7\n15272  66,4  1,7\n15291  66,4  1,7\n15275  66,4  1,7\n15276  66,4  1,7\n15289  66,4  1,7\n15290  66,4  1,7\nEmpty DataFrame\nColumns: []\nIndex: []\n         4   47\n5194   66,4  78\n10477  66,4  78\n10478  66,4  78\n10482  66,4  78\n15270  66,4  78\n15271  66,4  78\n17414  66,4  78\n18584  66,4  78\n21274  66,4  78\n15272  66,4  78\n15291  66,4  78\n15275  66,4  78\n15276  66,4  78\n15289  66,4  78\n15290  66,4  78\nEmpty DataFrame\nColumns: []\nIndex: []\n         4   48\n5194   66,4  86\n10477  66,4  86\n10478  66,4  86\n10482  66,4  86\n15270  66,4  86\n15271  66,4  86\n17414  66,4  86\n18584  66,4  86\n21274  66,4  86\n15272  66,4  86\n15291  66,4  86\n15275  66,4  86\n15276  66,4  86\n15289  66,4  86\n15290  66,4  86\nEmpty DataFrame\nColumns: []\nIndex: []\nEmpty DataFrame\nColumns: [4, 49]\nIndex: []\n    49\n49 NaN\n         4     50\n5194   66,4  1,47\n10477  66,4  1,47\n10478  66,4  1,47\n10482  66,4  1,47\n15270  66,4  1,47\n15271  66,4  1,47\n17414  66,4  1,47\n18584  66,4  1,47\n21274  66,4  1,47\n15272  66,4  1,47\n15291  66,4  1,47\n15275  66,4  1,47\n15276  66,4  1,47\n15289  66,4  1,47\n15290  66,4  1,47\nEmpty DataFrame\nColumns: []\nIndex: []\n"
     ]
    },
    {
     "name": "stdout",
     "output_type": "stream",
     "text": [
      "         4     51\n5194   66,4  62,6\n10477  66,4  62,6\n10478  66,4  62,6\n10482  66,4  62,6\n15270  66,4  62,6\n15271  66,4  62,6\n17414  66,4  62,6\n18584  66,4  62,6\n21274  66,4  62,6\n15272  66,4  62,6\n15291  66,4  62,6\n15275  66,4  62,6\n15276  66,4  62,6\n15289  66,4  62,6\n15290  66,4  62,6\nEmpty DataFrame\nColumns: []\nIndex: []\n         4     52\n5194   66,4  24,3\n10477  66,4  24,3\n10478  66,4  24,3\n10482  66,4  24,3\n15270  66,4  24,3\n15271  66,4  24,3\n17414  66,4  24,3\n18584  66,4  24,3\n21274  66,4  24,3\n15272  66,4  24,3\n15291  66,4  24,3\n15275  66,4  24,3\n15276  66,4  24,3\n15289  66,4  24,3\n15290  66,4  24,3\nEmpty DataFrame\nColumns: []\nIndex: []\n         4     53\n5194   66,4  7,01\n10477  66,4  7,01\n10478  66,4  7,01\n10482  66,4  7,01\n15270  66,4  7,01\n15271  66,4  7,01\n17414  66,4  7,01\n18584  66,4  7,01\n21274  66,4  7,01\n15272  66,4  7,01\n15291  66,4  7,01\n15275  66,4  7,01\n15276  66,4  7,01\n15289  66,4  7,01\n15290  66,4  7,01\nEmpty DataFrame\nColumns: []\nIndex: []\n         4     54\n5194   66,4  19,1\n10477  66,4  19,1\n10478  66,4  19,1\n10482  66,4  19,1\n15270  66,4  19,1\n15271  66,4  19,1\n17414  66,4  19,1\n18584  66,4  19,1\n21274  66,4  19,1\n15272  66,4  19,1\n15291  66,4  19,1\n15275  66,4  19,1\n15276  66,4  19,1\n15289  66,4  19,1\n15290  66,4  19,1\nEmpty DataFrame\nColumns: []\nIndex: []\n         4     55\n5194   66,4  50,3\n10477  66,4  50,3\n10478  66,4  50,3\n10482  66,4  50,3\n15270  66,4  50,3\n15271  66,4  50,3\n17414  66,4  50,3\n18584  66,4  50,3\n21274  66,4  50,3\n15272  66,4  50,3\n15291  66,4  50,3\n15275  66,4  50,3\n15276  66,4  50,3\n15289  66,4  50,3\n15290  66,4  50,3\nEmpty DataFrame\nColumns: []\nIndex: []\n         4      56\n5194   66,4  19,86\n10477  66,4  19,86\n10478  66,4  19,86\n10482  66,4  19,86\n15270  66,4  19,86\n15271  66,4  19,86\n17414  66,4  19,86\n18584  66,4  19,86\n21274  66,4  19,86\n15272  66,4  19,86\n15291  66,4  19,86\n15275  66,4  19,86\n15276  66,4  19,86\n15289  66,4  19,86\n15290  66,4  19,86\nEmpty DataFrame\nColumns: []\nIndex: []\nEmpty DataFrame\nColumns: [4, 57]\nIndex: []\nEmpty DataFrame\nColumns: []\nIndex: []\n         4     58\n5194   66,4  1,31\n10477  66,4  1,31\n10478  66,4  1,31\n10482  66,4  1,31\n15270  66,4  1,31\n15271  66,4  1,31\n17414  66,4  1,31\n18584  66,4  1,31\n21274  66,4  1,31\n15272  66,4  1,31\n15291  66,4  1,31\n15275  66,4  1,31\n15276  66,4  1,31\n15289  66,4  1,31\n15290  66,4  1,31\nEmpty DataFrame\nColumns: []\nIndex: []\n         4     59\n5194   66,4  9,51\n10477  66,4  9,51\n10478  66,4  9,51\n10482  66,4  9,51\n15270  66,4  9,51\n15271  66,4  9,51\n17414  66,4  9,51\n18584  66,4  9,51\n21274  66,4  9,51\n15272  66,4  9,51\n15291  66,4  9,51\n15275  66,4  9,51\n15276  66,4  9,51\n15289  66,4  9,51\n15290  66,4  9,51\nEmpty DataFrame\nColumns: []\nIndex: []\n         4     60\n5194   66,4  1,58\n10477  66,4  1,58\n10478  66,4  1,58\n10482  66,4  1,58\n15270  66,4  1,58\n15271  66,4  1,58\n17414  66,4  1,58\n18584  66,4  1,58\n21274  66,4  1,58\n15272  66,4  1,58\n15291  66,4  1,58\n15275  66,4  1,58\n15276  66,4  1,58\n15289  66,4  1,58\n15290  66,4  1,58\nEmpty DataFrame\nColumns: []\nIndex: []\n         4     61\n5194   66,4  11,3\n10477  66,4  11,3\n10478  66,4  11,3\n10482  66,4  11,3\n15270  66,4  11,3\n15271  66,4  11,3\n17414  66,4  11,3\n18584  66,4  11,3\n21274  66,4  11,3\n15272  66,4  11,3\n15291  66,4  11,3\n15275  66,4  11,3\n15276  66,4  11,3\n15289  66,4  11,3\n15290  66,4  11,3\nEmpty DataFrame\nColumns: []\nIndex: []\nEmpty DataFrame\nColumns: [4, 62]\nIndex: []\nEmpty DataFrame\nColumns: []\nIndex: []\nEmpty DataFrame\nColumns: [4, 63]\nIndex: []\nEmpty DataFrame\nColumns: []\nIndex: []\nEmpty DataFrame\nColumns: [4, 64]\nIndex: []"
     ]
    },
    {
     "name": "stdout",
     "output_type": "stream",
     "text": [
      "\nEmpty DataFrame\nColumns: []\nIndex: []\n         4    65\n5194   66,4  246\n10477  66,4  246\n10478  66,4  246\n10482  66,4  246\n15270  66,4  246\n15271  66,4  246\n17414  66,4  246\n18584  66,4  246\n21274  66,4  246\n15272  66,4  246\n15291  66,4  246\n15275  66,4  246\n15276  66,4  246\n15289  66,4  246\n15290  66,4  246\nEmpty DataFrame\nColumns: []\nIndex: []\nEmpty DataFrame\nColumns: [4, 66]\nIndex: []\nEmpty DataFrame\nColumns: []\nIndex: []\nEmpty DataFrame\nColumns: [4, 67]\nIndex: []\nEmpty DataFrame\nColumns: []\nIndex: []\nEmpty DataFrame\nColumns: [4, 68]\nIndex: []\nEmpty DataFrame\nColumns: []\nIndex: []\nEmpty DataFrame\nColumns: [4, 69]\nIndex: []\n    69\n69 NaN\nEmpty DataFrame\nColumns: [4, 70]\nIndex: []\n    70\n70 NaN\n         4     71\n5194   66,4  0,06\n10477  66,4  0,06\n10478  66,4  0,06\n10482  66,4  0,06\n15270  66,4  0,06\n15271  66,4  0,06\n17414  66,4  0,06\n18584  66,4  0,06\n21274  66,4  0,06\n15272  66,4  0,06\n15291  66,4  0,06\n15275  66,4  0,06\n15276  66,4  0,06\n15289  66,4  0,06\n15290  66,4  0,06\nEmpty DataFrame\nColumns: []\nIndex: []\nEmpty DataFrame\nColumns: [4, 72]\nIndex: []\nEmpty DataFrame\nColumns: []\nIndex: []\nEmpty DataFrame\nColumns: [4, 73]\nIndex: []\nEmpty DataFrame\nColumns: []\nIndex: []\nEmpty DataFrame\nColumns: [4, 74]\nIndex: []\n    74\n74 NaN\n         4     75\n5194   66,4  0,48\n10477  66,4  0,48\n10478  66,4  0,48\n10482  66,4  0,48\n15270  66,4  0,48\n15271  66,4  0,48\n17414  66,4  0,48\n18584  66,4  0,48\n21274  66,4  0,48\n15272  66,4  0,48\n15291  66,4  0,48\n15275  66,4  0,48\n15276  66,4  0,48\n15289  66,4  0,48\n15290  66,4  0,48\nEmpty DataFrame\nColumns: []\nIndex: []\nEmpty DataFrame\nColumns: [4, 76]\nIndex: []\nEmpty DataFrame\nColumns: []\nIndex: []\nEmpty DataFrame\nColumns: [4, 77]\nIndex: []\n    77\n77 NaN\nEmpty DataFrame\nColumns: [4, 78]\nIndex: []\n    78\n78 NaN\nEmpty DataFrame\nColumns: [4, 79]\nIndex: []"
     ]
    },
    {
     "name": "stdout",
     "output_type": "stream",
     "text": [
      "\nEmpty DataFrame\nColumns: []\nIndex: []\nEmpty DataFrame\nColumns: [4, 80]\nIndex: []\nEmpty DataFrame\nColumns: []\nIndex: []\nEmpty DataFrame\nColumns: [4, 81]\nIndex: []\nEmpty DataFrame\nColumns: []\nIndex: []\nEmpty DataFrame\nColumns: [4, 82]\nIndex: []\n    82\n82 NaN\nEmpty DataFrame\nColumns: [4, 83]\nIndex: []\nEmpty DataFrame\nColumns: []\nIndex: []\nEmpty DataFrame\nColumns: [4, 84]\nIndex: []\nEmpty DataFrame\nColumns: []\nIndex: []\nEmpty DataFrame\nColumns: [4, 85]\nIndex: []\n    85\n85 NaN\nEmpty DataFrame\nColumns: [4, 86]\nIndex: []\n    86\n86 NaN\nEmpty DataFrame\nColumns: [4, 87]\nIndex: []\n    87\n87 NaN\n        4     88\n3014  77,9  2,41\n3025  77,9  2,41\n3026  77,9  2,41\n3027  77,9  2,41\n3028  77,9  2,41\n3029  77,9  2,41\n3036  77,9  2,41\n3037  77,9  2,41\n3038  77,9  2,41\n3030  77,9  2,41\n3031  77,9  2,41\n3032  77,9  2,41\n3033  77,9  2,41\n3034  77,9  2,41\n3035  77,9  2,41\nEmpty DataFrame\nColumns: []\nIndex: []\n        4     89\n3014  77,9  2,11\n3025  77,9  2,11\n3026  77,9  2,11\n3027  77,9  2,11\n3028  77,9  2,11\n3029  77,9  2,11\n3036  77,9  2,11\n3037  77,9  2,11\n3038  77,9  2,11\n3030  77,9  2,11\n3031  77,9  2,11\n3032  77,9  2,11\n3033  77,9  2,11\n3034  77,9  2,11\n3035  77,9  2,11\nEmpty DataFrame\nColumns: []\nIndex: []\n        4     90\n3014  77,9  4,97\n3025  77,9  4,97\n3026  77,9  4,97\n3027  77,9  4,97\n3028  77,9  4,97\n3029  77,9  4,97\n3036  77,9  4,97\n3037  77,9  4,97\n3038  77,9  4,97\n3030  77,9  4,97\n3031  77,9  4,97\n3032  77,9  4,97\n3033  77,9  4,97\n3034  77,9  4,97\n3035  77,9  4,97\nEmpty DataFrame\nColumns: []\nIndex: []\nEmpty DataFrame\nColumns: [4, 91]\nIndex: []\nEmpty DataFrame\nColumns: []\nIndex: []\n        4   92\n6873  68,6  96\n6874  68,6  96\n6877  68,6  96\n6878  68,6  96\n6879  68,6  96\nEmpty DataFrame\nColumns: []\nIndex: []\nEmpty DataFrame\nColumns: [4, 93]\nIndex: []\nEmpty DataFrame\nColumns: []\nIndex: []\n"
     ]
    },
    {
     "name": "stdout",
     "output_type": "stream",
     "text": [
      "Empty DataFrame\nColumns: [4, 94]\nIndex: []\n    94\n94 NaN\n         4    95\n19657  68,3  1.0\n19654  68,3  1.0\n    95\n95 NaN\n         4     96\n19657  68,3  40,6\n19654  68,3  40,6\n6873   68,6  33,1\n6874   68,6  33,1\n6877   68,6  33,1\n6878   68,6  33,1\n6879   68,6  33,1\n7023   70,2  28,7\nEmpty DataFrame\nColumns: []\nIndex: []\n         4    97\n3014   77,9  0.0\n3025   77,9  0.0\n3026   77,9  0.0\n3027   77,9  0.0\n3028   77,9  0.0\n3029   77,9  0.0\n3036   77,9  0.0\n3037   77,9  0.0\n3038   77,9  0.0\n3030   77,9  0.0\n3031   77,9  0.0\n3032   77,9  0.0\n3033   77,9  0.0\n3034   77,9  0.0\n3035   77,9  0.0\n19657  68,3  0.0\n19654  68,3  0.0\n5194   66,4  0.0\n10477  66,4  0.0\n10478  66,4  0.0\n10482  66,4  0.0\n15270  66,4  0.0\n15271  66,4  0.0\n17414  66,4  0.0\n18584  66,4  0.0\n21274  66,4  0.0\n15272  66,4  0.0\n15291  66,4  0.0\n15275  66,4  0.0\n15276  66,4  0.0\n15289  66,4  0.0\n15290  66,4  0.0\n6873   68,6  0.0\n6874   68,6  0.0\n6877   68,6  0.0\n6878   68,6  0.0\n6879   68,6  0.0\n7023   70,2  0.0\n    97\n97 NaN\nEmpty DataFrame\nColumns: [4, 98]\nIndex: []\n    98\n98 NaN\nEmpty DataFrame\nColumns: [4, 99]\nIndex: []\nEmpty DataFrame\nColumns: []\nIndex: []\nEmpty DataFrame\nColumns: [4, 100]\nIndex: []\n     100\n100  NaN\nEmpty DataFrame\nColumns: [4, 101]\nIndex: []\nEmpty DataFrame\nColumns: []\nIndex: []\nEmpty DataFrame\nColumns: [4, 102]\nIndex: []\nEmpty DataFrame\nColumns: []\nIndex: []\nEmpty DataFrame\nColumns: [4, 103]\nIndex: []\nEmpty DataFrame\nColumns: []\nIndex: []\nEmpty DataFrame\nColumns: [4, 104]\nIndex: []\nEmpty DataFrame\nColumns: []\nIndex: []\nEmpty DataFrame\nColumns: [4, 105]\nIndex: []\n     105\n105  NaN\nEmpty DataFrame\nColumns: [4, 106]\nIndex: []\n     106\n106  NaN\nEmpty DataFrame\nColumns: [4, 107]\nIndex: []\n     107\n107  NaN\nEmpty DataFrame\nColumns: [4, 108]\nIndex: []\n     108\n108  NaN\n"
     ]
    },
    {
     "name": "stdout",
     "output_type": "stream",
     "text": [
      "Empty DataFrame\nColumns: [4, 109]\nIndex: []\n     109\n109  NaN\nEmpty DataFrame\nColumns: [4, 110]\nIndex: []\n     110\n110  NaN\nEmpty DataFrame\nColumns: [4, 111]\nIndex: []\n     111\n111  NaN\n       4      112\n6873  68,6  107,5\n6874  68,6  107,5\n6877  68,6  107,5\n6878  68,6  107,5\n6879  68,6  107,5\nEmpty DataFrame\nColumns: []\nIndex: []\n       4     113\n6873  68,6  0,19\n6874  68,6  0,19\n6877  68,6  0,19\n6878  68,6  0,19\n6879  68,6  0,19\nEmpty DataFrame\nColumns: []\nIndex: []\nEmpty DataFrame\nColumns: [4, 114]\nIndex: []\nEmpty DataFrame\nColumns: []\nIndex: []\nEmpty DataFrame\nColumns: [4, 115]\nIndex: []\nEmpty DataFrame\nColumns: []\nIndex: []\nEmpty DataFrame\nColumns: [4, 116]\nIndex: []\nEmpty DataFrame\nColumns: []\nIndex: []\nEmpty DataFrame\nColumns: [4, 117]\nIndex: []\n     117\n117  NaN\nEmpty DataFrame\nColumns: [4, 118]\nIndex: []\n     118\n118  NaN\nEmpty DataFrame\nColumns: [4, 119]\nIndex: []\n     119\n119  NaN\nEmpty DataFrame\nColumns: [4, 120]\nIndex: []\n     120\n120  NaN\nEmpty DataFrame\nColumns: [4, 121]\nIndex: []\n     121\n121  NaN\nEmpty DataFrame\nColumns: [4, 122]\nIndex: []\n     122\n122  NaN\nEmpty DataFrame\nColumns: [4, 123]\nIndex: []\n     123\n123  NaN\n"
     ]
    },
    {
     "name": "stdout",
     "output_type": "stream",
     "text": [
      "Empty DataFrame\nColumns: [4, 124]\nIndex: []\n     124\n124  NaN\n        4      125\n5194   66,4  319.0\n10477  66,4  319.0\n10478  66,4  319.0\n10482  66,4  319.0\n15270  66,4  319.0\n15271  66,4  319.0\n17414  66,4  319.0\n18584  66,4  319.0\n21274  66,4  319.0\n15272  66,4  319.0\n15291  66,4  319.0\n15275  66,4  319.0\n15276  66,4  319.0\n15289  66,4  319.0\n15290  66,4  319.0\n     125\n125  NaN\nEmpty DataFrame\nColumns: [4, 126]\nIndex: []\nEmpty DataFrame\nColumns: []\nIndex: []\n        4      127\n5194   66,4  926,6\n10477  66,4  926,6\n10478  66,4  926,6\n10482  66,4  926,6\n15270  66,4  926,6\n15271  66,4  926,6\n17414  66,4  926,6\n18584  66,4  926,6\n21274  66,4  926,6\n15272  66,4  926,6\n15291  66,4  926,6\n15275  66,4  926,6\n15276  66,4  926,6\n15289  66,4  926,6\n15290  66,4  926,6\nEmpty DataFrame\nColumns: []\nIndex: []\nEmpty DataFrame\nColumns: [4, 128]\nIndex: []\nEmpty DataFrame\nColumns: []\nIndex: []\n        4      129\n5194   66,4  168,6\n10477  66,4  168,6\n10478  66,4  168,6\n10482  66,4  168,6\n15270  66,4  168,6\n15271  66,4  168,6\n17414  66,4  168,6\n18584  66,4  168,6\n21274  66,4  168,6\n15272  66,4  168,6\n15291  66,4  168,6\n15275  66,4  168,6\n15276  66,4  168,6\n15289  66,4  168,6\n15290  66,4  168,6\nEmpty DataFrame\nColumns: []\nIndex: []\nEmpty DataFrame\nColumns: [4, 130]\nIndex: []\n     130\n130  NaN\n        4    131\n5194   66,4  600\n10477  66,4  600\n10478  66,4  600\n10482  66,4  600\n15270  66,4  600\n15271  66,4  600\n17414  66,4  600\n18584  66,4  600\n21274  66,4  600\n15272  66,4  600\n15291  66,4  600\n15275  66,4  600\n15276  66,4  600\n15289  66,4  600\n15290  66,4  600\nEmpty DataFrame\nColumns: []\nIndex: []\n        4      132\n5194   66,4  336,2\n10477  66,4  336,2\n10478  66,4  336,2\n10482  66,4  336,2\n15270  66,4  336,2\n15271  66,4  336,2\n17414  66,4  336,2\n18584  66,4  336,2\n21274  66,4  336,2\n15272  66,4  336,2\n15291  66,4  336,2\n15275  66,4  336,2\n15276  66,4  336,2\n15289  66,4  336,2\n15290  66,4  336,2\nEmpty DataFrame\nColumns: []\nIndex: []\nEmpty DataFrame\nColumns: [4, 133]\nIndex: []\nEmpty DataFrame\nColumns: []\nIndex: []\nEmpty DataFrame\nColumns: [4, 134]\nIndex: []\nEmpty DataFrame\nColumns: []\nIndex: []\nEmpty DataFrame\nColumns: [4, 135]\nIndex: []\nEmpty DataFrame\nColumns: []\nIndex: []\nEmpty DataFrame\nColumns: [4, 136]\nIndex: []\nEmpty DataFrame\nColumns: []\nIndex: []\nEmpty DataFrame\nColumns: [4, 137]\nIndex: []"
     ]
    },
    {
     "name": "stdout",
     "output_type": "stream",
     "text": [
      "\nEmpty DataFrame\nColumns: []\nIndex: []\nEmpty DataFrame\nColumns: [4, 138]\nIndex: []\nEmpty DataFrame\nColumns: []\nIndex: []\nEmpty DataFrame\nColumns: [4, 139]\nIndex: []\nEmpty DataFrame\nColumns: []\nIndex: []\nEmpty DataFrame\nColumns: [4, 140]\nIndex: []\nEmpty DataFrame\nColumns: []\nIndex: []\nEmpty DataFrame\nColumns: [4, 141]\nIndex: []\nEmpty DataFrame\nColumns: []\nIndex: []\nEmpty DataFrame\nColumns: [4, 142]\nIndex: []\nEmpty DataFrame\nColumns: []\nIndex: []\nEmpty DataFrame\nColumns: [4, 143]\nIndex: []\nEmpty DataFrame\nColumns: []\nIndex: []\nEmpty DataFrame\nColumns: [4, 144]\nIndex: []\nEmpty DataFrame\nColumns: []\nIndex: []\nEmpty DataFrame\nColumns: [4, 145]\nIndex: []\nEmpty DataFrame\nColumns: []\nIndex: []\nEmpty DataFrame\nColumns: [4, 146]\nIndex: []\nEmpty DataFrame\nColumns: []\nIndex: []\nEmpty DataFrame\nColumns: [4, 147]\nIndex: []\nEmpty DataFrame\nColumns: []\nIndex: []\nEmpty DataFrame\nColumns: [4, 148]\nIndex: []\nEmpty DataFrame\nColumns: []\nIndex: []\nEmpty DataFrame\nColumns: [4, 149]\nIndex: []\nEmpty DataFrame\nColumns: []\nIndex: []\nEmpty DataFrame\nColumns: [4, 150]\nIndex: []\nEmpty DataFrame\nColumns: []\nIndex: []\nEmpty DataFrame\nColumns: [4, 151]\nIndex: []\n"
     ]
    },
    {
     "name": "stdout",
     "output_type": "stream",
     "text": [
      "Empty DataFrame\nColumns: []\nIndex: []\nEmpty DataFrame\nColumns: [4, 152]\nIndex: []\n     152\n152  NaN\nEmpty DataFrame\nColumns: [4, 153]\nIndex: []\n     153\n153  NaN\nEmpty DataFrame\nColumns: [4, 154]\nIndex: []\n     154\n154  NaN\n        4     155\n5194   66,4  7,11\n10477  66,4  7,11\n10478  66,4  7,11\n10482  66,4  7,11\n15270  66,4  7,11\n15271  66,4  7,11\n17414  66,4  7,11\n18584  66,4  7,11\n21274  66,4  7,11\n15272  66,4  7,11\n15291  66,4  7,11\n15275  66,4  7,11\n15276  66,4  7,11\n15289  66,4  7,11\n15290  66,4  7,11\nEmpty DataFrame\nColumns: []\nIndex: []\n        4      156\n5194   66,4  49,93\n10477  66,4  49,93\n10478  66,4  49,93\n10482  66,4  49,93\n15270  66,4  49,93\n15271  66,4  49,93\n17414  66,4  49,93\n18584  66,4  49,93\n21274  66,4  49,93\n15272  66,4  49,93\n15291  66,4  49,93\n15275  66,4  49,93\n15276  66,4  49,93\n15289  66,4  49,93\n15290  66,4  49,93\nEmpty DataFrame\nColumns: []\nIndex: []\nEmpty DataFrame\nColumns: [4, 157]\nIndex: []\nEmpty DataFrame\nColumns: []\nIndex: []\n       4      158\n7023  70,2  47,14\nEmpty DataFrame\nColumns: []\nIndex: []\n       4      159\n7023  70,2  52,38\nEmpty DataFrame\nColumns: []\nIndex: []\nEmpty DataFrame\nColumns: [4, 160]\nIndex: []\nEmpty DataFrame\nColumns: []\nIndex: []\nEmpty DataFrame\nColumns: [4, 161]\nIndex: []\nEmpty DataFrame\nColumns: []\nIndex: []\n       4         162\n7023  70,2  787826.0\n     162\n162  NaN\nEmpty DataFrame\nColumns: [4, 163]\nIndex: []\nEmpty DataFrame\nColumns: []\nIndex: []\nEmpty DataFrame\nColumns: [4, 164]\nIndex: []\nEmpty DataFrame\nColumns: []\nIndex: []\nEmpty DataFrame\nColumns: [4, 165]\nIndex: []\n     165\n165  NaN\n"
     ]
    },
    {
     "name": "stdout",
     "output_type": "stream",
     "text": [
      "Empty DataFrame\nColumns: [4, 166]\nIndex: []\nEmpty DataFrame\nColumns: []\nIndex: []\nEmpty DataFrame\nColumns: [4, 167]\nIndex: []\nEmpty DataFrame\nColumns: []\nIndex: []\n        4     168\n5194   66,4  0,78\n10477  66,4  0,78\n10478  66,4  0,78\n10482  66,4  0,78\n15270  66,4  0,78\n15271  66,4  0,78\n17414  66,4  0,78\n18584  66,4  0,78\n21274  66,4  0,78\n15272  66,4  0,78\n15291  66,4  0,78\n15275  66,4  0,78\n15276  66,4  0,78\n15289  66,4  0,78\n15290  66,4  0,78\nEmpty DataFrame\nColumns: []\nIndex: []\nEmpty DataFrame\nColumns: [4, 169]\nIndex: []\nEmpty DataFrame\nColumns: []\nIndex: []\nEmpty DataFrame\nColumns: [4, 170]\nIndex: []\nEmpty DataFrame\nColumns: []\nIndex: []\nEmpty DataFrame\nColumns: [4, 171]\nIndex: []\nEmpty DataFrame\nColumns: []\nIndex: []\nEmpty DataFrame\nColumns: [4, 172]\nIndex: []\nEmpty DataFrame\nColumns: []\nIndex: []\nEmpty DataFrame\nColumns: [4, 173]\nIndex: []\nEmpty DataFrame\nColumns: []\nIndex: []\nEmpty DataFrame\nColumns: [4, 174]\nIndex: []\nEmpty DataFrame\nColumns: []\nIndex: []\nEmpty DataFrame\nColumns: [4, 175]\nIndex: []\nEmpty DataFrame\nColumns: []\nIndex: []\nEmpty DataFrame\nColumns: [4, 176]\nIndex: []\n     176\n176  NaN\nEmpty DataFrame\nColumns: [4, 177]\nIndex: []\nEmpty DataFrame\nColumns: []\nIndex: []\nEmpty DataFrame\nColumns: [4, 178]\nIndex: []\nEmpty DataFrame\nColumns: []\nIndex: []\n        4     179\n5194   66,4  1,62\n10477  66,4  1,62\n10478  66,4  1,62\n10482  66,4  1,62\n15270  66,4  1,62\n15271  66,4  1,62\n17414  66,4  1,62\n18584  66,4  1,62\n21274  66,4  1,62\n15272  66,4  1,62\n15291  66,4  1,62\n15275  66,4  1,62\n15276  66,4  1,62\n15289  66,4  1,62\n15290  66,4  1,62\nEmpty DataFrame\nColumns: []\nIndex: []\nEmpty DataFrame\nColumns: [4, 180]\nIndex: []\n"
     ]
    },
    {
     "name": "stdout",
     "output_type": "stream",
     "text": [
      "Empty DataFrame\nColumns: []\nIndex: []\n        4    181\n5194   66,4  149\n10477  66,4  149\n10478  66,4  149\n10482  66,4  149\n15270  66,4  149\n15271  66,4  149\n17414  66,4  149\n18584  66,4  149\n21274  66,4  149\n15272  66,4  149\n15291  66,4  149\n15275  66,4  149\n15276  66,4  149\n15289  66,4  149\n15290  66,4  149\nEmpty DataFrame\nColumns: []\nIndex: []\nEmpty DataFrame\nColumns: [4, 182]\nIndex: []\nEmpty DataFrame\nColumns: []\nIndex: []\nEmpty DataFrame\nColumns: [4, 183]\nIndex: []\n     183\n183  NaN\nEmpty DataFrame\nColumns: [4, 184]\nIndex: []\nEmpty DataFrame\nColumns: []\nIndex: []\nEmpty DataFrame\nColumns: [4, 185]\nIndex: []\nEmpty DataFrame\nColumns: []\nIndex: []\nEmpty DataFrame\nColumns: [4, 186]\nIndex: []\nEmpty DataFrame\nColumns: []\nIndex: []\nEmpty DataFrame\nColumns: [4, 187]\nIndex: []\nEmpty DataFrame\nColumns: []\nIndex: []\nEmpty DataFrame\nColumns: [4, 188]\nIndex: []\nEmpty DataFrame\nColumns: []\nIndex: []\nEmpty DataFrame\nColumns: [4, 189]\nIndex: []\nEmpty DataFrame\nColumns: []\nIndex: []\nEmpty DataFrame\nColumns: [4, 190]\nIndex: []\nEmpty DataFrame\nColumns: []\nIndex: []\nEmpty DataFrame\nColumns: [4, 191]\nIndex: []\n     191\n191  NaN\nEmpty DataFrame\nColumns: [4, 192]\nIndex: []\n     192\n192  NaN\nEmpty DataFrame\nColumns: [4, 193]\nIndex: []\n     193\n193  NaN\nEmpty DataFrame\nColumns: [4, 194]\nIndex: []\n     194\n194  NaN\n        4     195\n5194   66,4  1,32\n10477  66,4  1,32\n10478  66,4  1,32\n10482  66,4  1,32\n15270  66,4  1,32\n15271  66,4  1,32\n17414  66,4  1,32\n18584  66,4  1,32\n21274  66,4  1,32\n15272  66,4  1,32\n15291  66,4  1,32\n15275  66,4  1,32\n15276  66,4  1,32\n15289  66,4  1,32\n15290  66,4  1,32\nEmpty DataFrame\nColumns: []\nIndex: []\n"
     ]
    },
    {
     "name": "stdout",
     "output_type": "stream",
     "text": [
      "Empty DataFrame\nColumns: [4, 196]\nIndex: []\n     196\n196  NaN\nEmpty DataFrame\nColumns: [4, 197]\nIndex: []\n     197\n197  NaN\nEmpty DataFrame\nColumns: [4, 198]\nIndex: []\n     198\n198  NaN\nEmpty DataFrame\nColumns: [4, 199]\nIndex: []\n     199\n199  NaN\nEmpty DataFrame\nColumns: [4, 200]\nIndex: []\n     200\n200  NaN\nEmpty DataFrame\nColumns: [4, 201]\nIndex: []\n     201\n201  NaN\nEmpty DataFrame\nColumns: [4, 202]\nIndex: []\nEmpty DataFrame\nColumns: []\nIndex: []\nEmpty DataFrame\nColumns: [4, 203]\nIndex: []\nEmpty DataFrame\nColumns: []\nIndex: []\nEmpty DataFrame\nColumns: [4, 204]\nIndex: []\nEmpty DataFrame\nColumns: []\nIndex: []\nEmpty DataFrame\nColumns: [4, 205]\nIndex: []\nEmpty DataFrame\nColumns: []\nIndex: []\nEmpty DataFrame\nColumns: [4, 206]\nIndex: []\nEmpty DataFrame\nColumns: []\nIndex: []\nEmpty DataFrame\nColumns: [4, 207]\nIndex: []\nEmpty DataFrame\nColumns: []\nIndex: []\nEmpty DataFrame\nColumns: [4, 208]\nIndex: []\nEmpty DataFrame\nColumns: []\nIndex: []\nEmpty DataFrame\nColumns: [4, 209]\nIndex: []\nEmpty DataFrame\nColumns: []\nIndex: []\n"
     ]
    },
    {
     "name": "stdout",
     "output_type": "stream",
     "text": [
      "Empty DataFrame\nColumns: [4, 210]\nIndex: []\nEmpty DataFrame\nColumns: []\nIndex: []\nEmpty DataFrame\nColumns: [4, 211]\nIndex: []\nEmpty DataFrame\nColumns: []\nIndex: []\nEmpty DataFrame\nColumns: [4, 212]\nIndex: []\nEmpty DataFrame\nColumns: []\nIndex: []\nEmpty DataFrame\nColumns: [4, 213]\nIndex: []\nEmpty DataFrame\nColumns: []\nIndex: []\nEmpty DataFrame\nColumns: [4, 214]\nIndex: []\nEmpty DataFrame\nColumns: []\nIndex: []\nEmpty DataFrame\nColumns: [4, 215]\nIndex: []\nEmpty DataFrame\nColumns: []\nIndex: []\nEmpty DataFrame\nColumns: [4, 216]\nIndex: []\nEmpty DataFrame\nColumns: []\nIndex: []\nEmpty DataFrame\nColumns: [4, 217]\nIndex: []\nEmpty DataFrame\nColumns: []\nIndex: []\nEmpty DataFrame\nColumns: [4, 218]\nIndex: []\n     218\n218  NaN\nEmpty DataFrame\nColumns: [4, 219]\nIndex: []\n     219\n219  NaN\nEmpty DataFrame\nColumns: [4, 220]\nIndex: []\n     220\n220  NaN\nEmpty DataFrame\nColumns: [4, 221]\nIndex: []\n     221\n221  NaN\nEmpty DataFrame\nColumns: [4, 222]\nIndex: []\n     222\n222  NaN\nEmpty DataFrame\nColumns: [4, 223]\nIndex: []\nEmpty DataFrame\nColumns: []\nIndex: []\n"
     ]
    },
    {
     "name": "stdout",
     "output_type": "stream",
     "text": [
      "Empty DataFrame\nColumns: [4, 224]\nIndex: []\nEmpty DataFrame\nColumns: []\nIndex: []\nEmpty DataFrame\nColumns: [4, 225]\nIndex: []\nEmpty DataFrame\nColumns: []\nIndex: []\nEmpty DataFrame\nColumns: [4, 226]\nIndex: []\n     226\n226  NaN\nEmpty DataFrame\nColumns: [4, 227]\nIndex: []\n     227\n227  NaN\nEmpty DataFrame\nColumns: [4, 228]\nIndex: []\n     228\n228  NaN\nEmpty DataFrame\nColumns: [4, 229]\nIndex: []\nEmpty DataFrame\nColumns: []\nIndex: []\nEmpty DataFrame\nColumns: [4, 230]\nIndex: []\n     230\n230  NaN\nEmpty DataFrame\nColumns: [4, 231]\nIndex: []\n     231\n231  NaN\nEmpty DataFrame\nColumns: [4, 232]\nIndex: []\n     232\n232  NaN\nEmpty DataFrame\nColumns: [4, 233]\nIndex: []\nEmpty DataFrame\nColumns: []\nIndex: []\nEmpty DataFrame\nColumns: [4, 234]\nIndex: []\n     234\n234  NaN\nEmpty DataFrame\nColumns: [4, 235]\nIndex: []\n     235\n235  NaN\nEmpty DataFrame\nColumns: [4, 236]\nIndex: []\nEmpty DataFrame\nColumns: []\nIndex: []\nEmpty DataFrame\nColumns: [4, 237]\nIndex: []\n     237\n237  NaN\nEmpty DataFrame\nColumns: [4, 238]\nIndex: []\n     238\n238  NaN\n"
     ]
    },
    {
     "name": "stdout",
     "output_type": "stream",
     "text": [
      "Empty DataFrame\nColumns: [4, 239]\nIndex: []\nEmpty DataFrame\nColumns: []\nIndex: []\nEmpty DataFrame\nColumns: [4, 240]\nIndex: []\nEmpty DataFrame\nColumns: []\nIndex: []\nEmpty DataFrame\nColumns: [4, 241]\nIndex: []\nEmpty DataFrame\nColumns: []\nIndex: []\nEmpty DataFrame\nColumns: [4, 242]\nIndex: []\nEmpty DataFrame\nColumns: []\nIndex: []\nEmpty DataFrame\nColumns: [4, 243]\nIndex: []\nEmpty DataFrame\nColumns: []\nIndex: []\nEmpty DataFrame\nColumns: [4, 244]\nIndex: []\n     244\n244  NaN\nEmpty DataFrame\nColumns: [4, 245]\nIndex: []\nEmpty DataFrame\nColumns: []\nIndex: []\nEmpty DataFrame\nColumns: [4, 246]\nIndex: []\n     246\n246  NaN\nEmpty DataFrame\nColumns: [4, 247]\nIndex: []\n     247\n247  NaN\nEmpty DataFrame\nColumns: [4, 248]\nIndex: []\n     248\n248  NaN\nEmpty DataFrame\nColumns: [4, 249]\nIndex: []\nEmpty DataFrame\nColumns: []\nIndex: []\nEmpty DataFrame\nColumns: [4, 250]\nIndex: []\n     250\n250  NaN\nEmpty DataFrame\nColumns: [4, 251]\nIndex: []\n     251\n251  NaN\nEmpty DataFrame\nColumns: [4, 252]\nIndex: []\nEmpty DataFrame\nColumns: []\nIndex: []\n"
     ]
    },
    {
     "name": "stdout",
     "output_type": "stream",
     "text": [
      "Empty DataFrame\nColumns: [4, 253]\nIndex: []\n     253\n253  NaN\nEmpty DataFrame\nColumns: [4, 254]\nIndex: []\n     254\n254  NaN\nEmpty DataFrame\nColumns: [4, 255]\nIndex: []\nEmpty DataFrame\nColumns: []\nIndex: []\nEmpty DataFrame\nColumns: [4, 256]\nIndex: []\nEmpty DataFrame\nColumns: []\nIndex: []\nEmpty DataFrame\nColumns: [4, 257]\nIndex: []\n     257\n257  NaN\nEmpty DataFrame\nColumns: [4, 258]\nIndex: []\n     258\n258  NaN\nEmpty DataFrame\nColumns: [4, 259]\nIndex: []\nEmpty DataFrame\nColumns: []\nIndex: []\nEmpty DataFrame\nColumns: [4, 260]\nIndex: []\nEmpty DataFrame\nColumns: []\nIndex: []\nEmpty DataFrame\nColumns: [4, 261]\nIndex: []\nEmpty DataFrame\nColumns: []\nIndex: []\nEmpty DataFrame\nColumns: [4, 262]\nIndex: []\nEmpty DataFrame\nColumns: []\nIndex: []\nEmpty DataFrame\nColumns: [4, 263]\nIndex: []\nEmpty DataFrame\nColumns: []\nIndex: []\nEmpty DataFrame\nColumns: [4, 264]\nIndex: []\nEmpty DataFrame\nColumns: []\nIndex: []\nEmpty DataFrame\nColumns: [4, 265]\nIndex: []\nEmpty DataFrame\nColumns: []\nIndex: []\nEmpty DataFrame\nColumns: [4, 266]\nIndex: []\n     266\n266  NaN\nEmpty DataFrame\nColumns: [4, 267]\nIndex: []\n"
     ]
    },
    {
     "name": "stdout",
     "output_type": "stream",
     "text": [
      "     267\n267  NaN\nEmpty DataFrame\nColumns: [4, 268]\nIndex: []\nEmpty DataFrame\nColumns: []\nIndex: []\nEmpty DataFrame\nColumns: [4, 269]\nIndex: []\nEmpty DataFrame\nColumns: []\nIndex: []\nEmpty DataFrame\nColumns: [4, 270]\nIndex: []\nEmpty DataFrame\nColumns: []\nIndex: []\nEmpty DataFrame\nColumns: [4, 271]\nIndex: []\n     271\n271  NaN\nEmpty DataFrame\nColumns: [4, 272]\nIndex: []\n     272\n272  NaN\nEmpty DataFrame\nColumns: [4, 273]\nIndex: []\nEmpty DataFrame\nColumns: []\nIndex: []\nEmpty DataFrame\nColumns: [4, 274]\nIndex: []\nEmpty DataFrame\nColumns: []\nIndex: []\nEmpty DataFrame\nColumns: [4, 275]\nIndex: []\nEmpty DataFrame\nColumns: []\nIndex: []\nEmpty DataFrame\nColumns: [4, 276]\nIndex: []\nEmpty DataFrame\nColumns: []\nIndex: []\nEmpty DataFrame\nColumns: [4, 277]\nIndex: []\nEmpty DataFrame\nColumns: []\nIndex: []\nEmpty DataFrame\nColumns: [4, 278]\nIndex: []\nEmpty DataFrame\nColumns: []\nIndex: []\nEmpty DataFrame\nColumns: [4, 279]\nIndex: []\n     279\n279  NaN\nEmpty DataFrame\nColumns: [4, 280]\nIndex: []\nEmpty DataFrame\nColumns: []\nIndex: []\nEmpty DataFrame\nColumns: [4, 281]\nIndex: []\nEmpty DataFrame\nColumns: []\nIndex: []\nEmpty DataFrame\nColumns: [4, 282]\nIndex: []"
     ]
    },
    {
     "name": "stdout",
     "output_type": "stream",
     "text": [
      "\nEmpty DataFrame\nColumns: []\nIndex: []\nEmpty DataFrame\nColumns: [4, 283]\nIndex: []\nEmpty DataFrame\nColumns: []\nIndex: []\nEmpty DataFrame\nColumns: [4, 284]\nIndex: []\nEmpty DataFrame\nColumns: []\nIndex: []\nEmpty DataFrame\nColumns: [4, 285]\nIndex: []\n     285\n285  NaN\nEmpty DataFrame\nColumns: [4, 286]\nIndex: []\nEmpty DataFrame\nColumns: []\nIndex: []\nEmpty DataFrame\nColumns: [4, 287]\nIndex: []\nEmpty DataFrame\nColumns: []\nIndex: []\nEmpty DataFrame\nColumns: [4, 288]\nIndex: []\nEmpty DataFrame\nColumns: []\nIndex: []\nEmpty DataFrame\nColumns: [4, 289]\nIndex: []\nEmpty DataFrame\nColumns: []\nIndex: []\nEmpty DataFrame\nColumns: [4, 290]\nIndex: []\n     290\n290  NaN\nEmpty DataFrame\nColumns: [4, 291]\nIndex: []\n     291\n291  NaN\nEmpty DataFrame\nColumns: [4, 292]\nIndex: []\nEmpty DataFrame\nColumns: []\nIndex: []\nEmpty DataFrame\nColumns: [4, 293]\nIndex: []\n     293\n293  NaN\nEmpty DataFrame\nColumns: [4, 294]\nIndex: []\nEmpty DataFrame\nColumns: []\nIndex: []\nEmpty DataFrame\nColumns: [4, 295]\nIndex: []\n     295\n295  NaN\nEmpty DataFrame\nColumns: [4, 296]\nIndex: []\n     296\n296  NaN\n"
     ]
    },
    {
     "name": "stdout",
     "output_type": "stream",
     "text": [
      "Empty DataFrame\nColumns: [4, 297]\nIndex: []\n     297\n297  NaN\nEmpty DataFrame\nColumns: [4, 298]\nIndex: []\nEmpty DataFrame\nColumns: []\nIndex: []\nEmpty DataFrame\nColumns: [4, 299]\nIndex: []\nEmpty DataFrame\nColumns: []\nIndex: []\nEmpty DataFrame\nColumns: [4, 300]\nIndex: []\nEmpty DataFrame\nColumns: []\nIndex: []\nEmpty DataFrame\nColumns: [4, 301]\nIndex: []\nEmpty DataFrame\nColumns: []\nIndex: []\nEmpty DataFrame\nColumns: [4, 302]\nIndex: []\nEmpty DataFrame\nColumns: []\nIndex: []\nEmpty DataFrame\nColumns: [4, 303]\nIndex: []\nEmpty DataFrame\nColumns: []\nIndex: []\nEmpty DataFrame\nColumns: [4, 304]\nIndex: []\nEmpty DataFrame\nColumns: []\nIndex: []\nEmpty DataFrame\nColumns: [4, 305]\nIndex: []\nEmpty DataFrame\nColumns: []\nIndex: []\nEmpty DataFrame\nColumns: [4, 306]\nIndex: []\nEmpty DataFrame\nColumns: []\nIndex: []\nEmpty DataFrame\nColumns: [4, 307]\nIndex: []\n     307\n307  NaN\nEmpty DataFrame\nColumns: [4, 308]\nIndex: []\n     308\n308  NaN\nEmpty DataFrame\nColumns: [4, 309]\nIndex: []\n     309\n309  NaN\n"
     ]
    },
    {
     "name": "stdout",
     "output_type": "stream",
     "text": [
      "Empty DataFrame\nColumns: [4, 310]\nIndex: []\n     310\n310  NaN\nEmpty DataFrame\nColumns: [4, 311]\nIndex: []\nEmpty DataFrame\nColumns: []\nIndex: []\nEmpty DataFrame\nColumns: [4, 312]\nIndex: []\nEmpty DataFrame\nColumns: []\nIndex: []\nEmpty DataFrame\nColumns: [4, 313]\nIndex: []\nEmpty DataFrame\nColumns: []\nIndex: []\nEmpty DataFrame\nColumns: [4, 314]\nIndex: []\n     314\n314  NaN\nEmpty DataFrame\nColumns: [4, 315]\nIndex: []\n     315\n315  NaN\nEmpty DataFrame\nColumns: [4, 316]\nIndex: []\nEmpty DataFrame\nColumns: []\nIndex: []\nEmpty DataFrame\nColumns: [4, 317]\nIndex: []\nEmpty DataFrame\nColumns: []\nIndex: []\nEmpty DataFrame\nColumns: [4, 318]\nIndex: []\nEmpty DataFrame\nColumns: []\nIndex: []\nEmpty DataFrame\nColumns: [4, 319]\nIndex: []\n     319\n319  NaN\nEmpty DataFrame\nColumns: [4, 320]\nIndex: []\n     320\n320  NaN\nEmpty DataFrame\nColumns: [4, 321]\nIndex: []\n     321\n321  NaN\nEmpty DataFrame\nColumns: [4, 322]\nIndex: []\nEmpty DataFrame\nColumns: []\nIndex: []\nEmpty DataFrame\nColumns: [4, 323]\nIndex: []\nEmpty DataFrame\nColumns: []\nIndex: []\nEmpty DataFrame\nColumns: [4, 324]\nIndex: []\nEmpty DataFrame\nColumns: []\nIndex: []\n"
     ]
    },
    {
     "name": "stdout",
     "output_type": "stream",
     "text": [
      "Empty DataFrame\nColumns: [4, 325]\nIndex: []\nEmpty DataFrame\nColumns: []\nIndex: []\nEmpty DataFrame\nColumns: [4, 326]\nIndex: []\nEmpty DataFrame\nColumns: []\nIndex: []\nEmpty DataFrame\nColumns: [4, 327]\nIndex: []\nEmpty DataFrame\nColumns: []\nIndex: []\nEmpty DataFrame\nColumns: [4, 328]\nIndex: []\nEmpty DataFrame\nColumns: []\nIndex: []\nEmpty DataFrame\nColumns: [4, 329]\nIndex: []\nEmpty DataFrame\nColumns: []\nIndex: []\nEmpty DataFrame\nColumns: [4, 330]\nIndex: []\nEmpty DataFrame\nColumns: []\nIndex: []\nEmpty DataFrame\nColumns: [4, 331]\nIndex: []\nEmpty DataFrame\nColumns: []\nIndex: []\nEmpty DataFrame\nColumns: [4, 332]\nIndex: []\nEmpty DataFrame\nColumns: []\nIndex: []\nEmpty DataFrame\nColumns: [4, 333]\nIndex: []\n     333\n333  NaN\nEmpty DataFrame\nColumns: [4, 334]\nIndex: []\n     334\n334  NaN\nEmpty DataFrame\nColumns: [4, 335]\nIndex: []\nEmpty DataFrame\nColumns: []\nIndex: []\nEmpty DataFrame\nColumns: [4, 336]\nIndex: []\nEmpty DataFrame\nColumns: []\nIndex: []\nEmpty DataFrame\nColumns: [4, 337]\nIndex: []\n     337\n337  NaN\nEmpty DataFrame\nColumns: [4, 338]\nIndex: []\n     338\n338  NaN\n"
     ]
    },
    {
     "name": "stdout",
     "output_type": "stream",
     "text": [
      "Empty DataFrame\nColumns: [4, 339]\nIndex: []\n     339\n339  NaN\nEmpty DataFrame\nColumns: [4, 340]\nIndex: []\nEmpty DataFrame\nColumns: []\nIndex: []\nEmpty DataFrame\nColumns: [4, 341]\nIndex: []\nEmpty DataFrame\nColumns: []\nIndex: []\nEmpty DataFrame\nColumns: [4, 342]\nIndex: []\nEmpty DataFrame\nColumns: []\nIndex: []\nEmpty DataFrame\nColumns: [4, 343]\nIndex: []\nEmpty DataFrame\nColumns: []\nIndex: []\nEmpty DataFrame\nColumns: [4, 344]\nIndex: []\nEmpty DataFrame\nColumns: []\nIndex: []\nEmpty DataFrame\nColumns: [4, 345]\nIndex: []\n     345\n345  NaN\nEmpty DataFrame\nColumns: [4, 346]\nIndex: []\nEmpty DataFrame\nColumns: []\nIndex: []\nEmpty DataFrame\nColumns: [4, 347]\nIndex: []\nEmpty DataFrame\nColumns: []\nIndex: []\nEmpty DataFrame\nColumns: [4, 348]\nIndex: []\n     348\n348  NaN\nEmpty DataFrame\nColumns: [4, 349]\nIndex: []\nEmpty DataFrame\nColumns: []\nIndex: []\nEmpty DataFrame\nColumns: [4, 350]\nIndex: []\nEmpty DataFrame\nColumns: []\nIndex: []\nEmpty DataFrame\nColumns: [4, 351]\nIndex: []\n     351\n351  NaN\nEmpty DataFrame\nColumns: [4, 352]\nIndex: []\nEmpty DataFrame\nColumns: []\nIndex: []\nEmpty DataFrame\nColumns: [4, 353]\nIndex: []"
     ]
    },
    {
     "name": "stdout",
     "output_type": "stream",
     "text": [
      "\nEmpty DataFrame\nColumns: []\nIndex: []\nEmpty DataFrame\nColumns: [4, 354]\nIndex: []\n     354\n354  NaN\nEmpty DataFrame\nColumns: [4, 355]\nIndex: []\n     355\n355  NaN\nEmpty DataFrame\nColumns: [4, 356]\nIndex: []\n     356\n356  NaN\nEmpty DataFrame\nColumns: [4, 357]\nIndex: []\n     357\n357  NaN\nEmpty DataFrame\nColumns: [4, 358]\nIndex: []\n     358\n358  NaN\nEmpty DataFrame\nColumns: [4, 359]\nIndex: []\n     359\n359  NaN\nEmpty DataFrame\nColumns: [4, 360]\nIndex: []\n     360\n360  NaN\nEmpty DataFrame\nColumns: [4, 361]\nIndex: []\n     361\n361  NaN\nEmpty DataFrame\nColumns: [4, 362]\nIndex: []\n     362\n362  NaN\nEmpty DataFrame\nColumns: [4, 363]\nIndex: []\nEmpty DataFrame\nColumns: []\nIndex: []\nEmpty DataFrame\nColumns: [4, 364]\nIndex: []\nEmpty DataFrame\nColumns: []\nIndex: []\nEmpty DataFrame\nColumns: [4, 365]\nIndex: []\nEmpty DataFrame\nColumns: []\nIndex: []\nEmpty DataFrame\nColumns: [4, 366]\nIndex: []\nEmpty DataFrame\nColumns: []\nIndex: []\nEmpty DataFrame\nColumns: [4, 367]\nIndex: []"
     ]
    },
    {
     "name": "stdout",
     "output_type": "stream",
     "text": [
      "\n     367\n367  NaN\nEmpty DataFrame\nColumns: [4, 368]\nIndex: []\nEmpty DataFrame\nColumns: []\nIndex: []\nEmpty DataFrame\nColumns: [4, 369]\nIndex: []\n     369\n369  NaN\nEmpty DataFrame\nColumns: [4, 370]\nIndex: []\nEmpty DataFrame\nColumns: []\nIndex: []\nEmpty DataFrame\nColumns: [4, 371]\nIndex: []\nEmpty DataFrame\nColumns: []\nIndex: []\nEmpty DataFrame\nColumns: [4, 372]\nIndex: []\nEmpty DataFrame\nColumns: []\nIndex: []\nEmpty DataFrame\nColumns: [4, 373]\nIndex: []\nEmpty DataFrame\nColumns: []\nIndex: []\nEmpty DataFrame\nColumns: [4, 374]\nIndex: []\nEmpty DataFrame\nColumns: []\nIndex: []\nEmpty DataFrame\nColumns: [4, 375]\nIndex: []\n     375\n375  NaN\nEmpty DataFrame\nColumns: [4, 376]\nIndex: []\n     376\n376  NaN\nEmpty DataFrame\nColumns: [4, 377]\nIndex: []\nEmpty DataFrame\nColumns: []\nIndex: []\nEmpty DataFrame\nColumns: [4, 378]\nIndex: []\n     378\n378  NaN\nEmpty DataFrame\nColumns: [4, 379]\nIndex: []\nEmpty DataFrame\nColumns: []\nIndex: []\nEmpty DataFrame\nColumns: [4, 380]\nIndex: []\nEmpty DataFrame\nColumns: []\nIndex: []\nEmpty DataFrame\nColumns: [4, 381]\nIndex: []\nEmpty DataFrame\nColumns: []\nIndex: []\n"
     ]
    },
    {
     "name": "stdout",
     "output_type": "stream",
     "text": [
      "Empty DataFrame\nColumns: [4, 382]\nIndex: []\nEmpty DataFrame\nColumns: []\nIndex: []\nEmpty DataFrame\nColumns: [4, 383]\nIndex: []\nEmpty DataFrame\nColumns: []\nIndex: []\nEmpty DataFrame\nColumns: [4, 384]\nIndex: []\nEmpty DataFrame\nColumns: []\nIndex: []\nEmpty DataFrame\nColumns: [4, 385]\nIndex: []\nEmpty DataFrame\nColumns: []\nIndex: []\nEmpty DataFrame\nColumns: [4, 386]\nIndex: []\n     386\n386  NaN\nEmpty DataFrame\nColumns: [4, 387]\nIndex: []\n     387\n387  NaN\nEmpty DataFrame\nColumns: [4, 388]\nIndex: []\nEmpty DataFrame\nColumns: []\nIndex: []\nEmpty DataFrame\nColumns: [4, 389]\nIndex: []\nEmpty DataFrame\nColumns: []\nIndex: []\nEmpty DataFrame\nColumns: [4, 390]\nIndex: []\nEmpty DataFrame\nColumns: []\nIndex: []\nEmpty DataFrame\nColumns: [4, 391]\nIndex: []\nEmpty DataFrame\nColumns: []\nIndex: []\nEmpty DataFrame\nColumns: [4, 392]\nIndex: []\nEmpty DataFrame\nColumns: []\nIndex: []\nEmpty DataFrame\nColumns: [4, 393]\nIndex: []\nEmpty DataFrame\nColumns: []\nIndex: []\nEmpty DataFrame\nColumns: [4, 394]\nIndex: []\nEmpty DataFrame\nColumns: []\nIndex: []\nEmpty DataFrame\nColumns: [4, 395]\nIndex: []\nEmpty DataFrame\nColumns: []\nIndex: []\n"
     ]
    },
    {
     "name": "stdout",
     "output_type": "stream",
     "text": [
      "Empty DataFrame\nColumns: [4, 396]\nIndex: []\nEmpty DataFrame\nColumns: []\nIndex: []\nEmpty DataFrame\nColumns: [4, 397]\nIndex: []\nEmpty DataFrame\nColumns: []\nIndex: []\nEmpty DataFrame\nColumns: [4, 398]\nIndex: []\nEmpty DataFrame\nColumns: []\nIndex: []\nEmpty DataFrame\nColumns: [4, 399]\nIndex: []\n     399\n399  NaN\nEmpty DataFrame\nColumns: [4, 400]\nIndex: []\n     400\n400  NaN\nEmpty DataFrame\nColumns: [4, 401]\nIndex: []\nEmpty DataFrame\nColumns: []\nIndex: []\nEmpty DataFrame\nColumns: [4, 402]\nIndex: []\n     402\n402  NaN\nEmpty DataFrame\nColumns: [4, 403]\nIndex: []\n     403\n403  NaN\nEmpty DataFrame\nColumns: [4, 404]\nIndex: []\nEmpty DataFrame\nColumns: []\nIndex: []\nEmpty DataFrame\nColumns: [4, 405]\nIndex: []\nEmpty DataFrame\nColumns: []\nIndex: []\nEmpty DataFrame\nColumns: [4, 406]\nIndex: []\nEmpty DataFrame\nColumns: []\nIndex: []\nEmpty DataFrame\nColumns: [4, 407]\nIndex: []\n     407\n407  NaN\nEmpty DataFrame\nColumns: [4, 408]\nIndex: []\n     408\n408  NaN\nEmpty DataFrame\nColumns: [4, 409]\nIndex: []\n     409\n409  NaN\n"
     ]
    },
    {
     "name": "stdout",
     "output_type": "stream",
     "text": [
      "Empty DataFrame\nColumns: [4, 410]\nIndex: []\n     410\n410  NaN\nEmpty DataFrame\nColumns: [4, 411]\nIndex: []\n     411\n411  NaN\nEmpty DataFrame\nColumns: [4, 412]\nIndex: []\n     412\n412  NaN\nEmpty DataFrame\nColumns: [4, 413]\nIndex: []\n     413\n413  NaN\nEmpty DataFrame\nColumns: [4, 414]\nIndex: []\n     414\n414  NaN\nEmpty DataFrame\nColumns: [4, 415]\nIndex: []\n     415\n415  NaN\nEmpty DataFrame\nColumns: [4, 416]\nIndex: []\n     416\n416  NaN\nEmpty DataFrame\nColumns: [4, 417]\nIndex: []\n     417\n417  NaN\nEmpty DataFrame\nColumns: [4, 418]\nIndex: []\nEmpty DataFrame\nColumns: []\nIndex: []\nEmpty DataFrame\nColumns: [4, 419]\nIndex: []\nEmpty DataFrame\nColumns: []\nIndex: []\nEmpty DataFrame\nColumns: [4, 420]\nIndex: []\nEmpty DataFrame\nColumns: []\nIndex: []\nEmpty DataFrame\nColumns: [4, 421]\nIndex: []\n     421\n421  NaN\nEmpty DataFrame\nColumns: [4, 422]\nIndex: []\n     422\n422  NaN\n"
     ]
    },
    {
     "name": "stdout",
     "output_type": "stream",
     "text": [
      "Empty DataFrame\nColumns: [4, 423]\nIndex: []\n     423\n423  NaN\nEmpty DataFrame\nColumns: [4, 424]\nIndex: []\n     424\n424  NaN\nEmpty DataFrame\nColumns: [4, 425]\nIndex: []\nEmpty DataFrame\nColumns: []\nIndex: []\nEmpty DataFrame\nColumns: [4, 426]\nIndex: []\n     426\n426  NaN\nEmpty DataFrame\nColumns: [4, 427]\nIndex: []\nEmpty DataFrame\nColumns: []\nIndex: []\nEmpty DataFrame\nColumns: [4, 428]\nIndex: []\n     428\n428  NaN\nEmpty DataFrame\nColumns: [4, 429]\nIndex: []\n     429\n429  NaN\nEmpty DataFrame\nColumns: [4, 430]\nIndex: []\n     430\n430  NaN\nEmpty DataFrame\nColumns: [4, 431]\nIndex: []\nEmpty DataFrame\nColumns: []\nIndex: []\nEmpty DataFrame\nColumns: [4, 432]\nIndex: []\nEmpty DataFrame\nColumns: []\nIndex: []\nEmpty DataFrame\nColumns: [4, 433]\nIndex: []\n     433\n433  NaN\nEmpty DataFrame\nColumns: [4, 434]\nIndex: []\nEmpty DataFrame\nColumns: []\nIndex: []\nEmpty DataFrame\nColumns: [4, 435]\nIndex: []\n     435\n435  NaN\nEmpty DataFrame\nColumns: [4, 436]\nIndex: []\n"
     ]
    },
    {
     "name": "stdout",
     "output_type": "stream",
     "text": [
      "     436\n436  NaN\nEmpty DataFrame\nColumns: [4, 437]\nIndex: []\nEmpty DataFrame\nColumns: []\nIndex: []\nEmpty DataFrame\nColumns: [4, 438]\nIndex: []\n     438\n438  NaN\nEmpty DataFrame\nColumns: [4, 439]\nIndex: []\nEmpty DataFrame\nColumns: []\nIndex: []\nEmpty DataFrame\nColumns: [4, 440]\nIndex: []\nEmpty DataFrame\nColumns: []\nIndex: []\nEmpty DataFrame\nColumns: [4, 441]\nIndex: []\n     441\n441  NaN\nEmpty DataFrame\nColumns: [4, 442]\nIndex: []\nEmpty DataFrame\nColumns: []\nIndex: []\nEmpty DataFrame\nColumns: [4, 443]\nIndex: []\nEmpty DataFrame\nColumns: []\nIndex: []\nEmpty DataFrame\nColumns: [4, 444]\nIndex: []\nEmpty DataFrame\nColumns: []\nIndex: []\nEmpty DataFrame\nColumns: [4, 445]\nIndex: []\nEmpty DataFrame\nColumns: []\nIndex: []\nEmpty DataFrame\nColumns: [4, 446]\nIndex: []\nEmpty DataFrame\nColumns: []\nIndex: []\nEmpty DataFrame\nColumns: [4, 447]\nIndex: []\nEmpty DataFrame\nColumns: []\nIndex: []\nEmpty DataFrame\nColumns: [4, 448]\nIndex: []\n"
     ]
    },
    {
     "name": "stdout",
     "output_type": "stream",
     "text": [
      "Empty DataFrame\nColumns: []\nIndex: []\nEmpty DataFrame\nColumns: [4, 449]\nIndex: []\n     449\n449  NaN\nEmpty DataFrame\nColumns: [4, 450]\nIndex: []\nEmpty DataFrame\nColumns: []\nIndex: []\nEmpty DataFrame\nColumns: [4, 451]\nIndex: []\nEmpty DataFrame\nColumns: []\nIndex: []\nEmpty DataFrame\nColumns: [4, 452]\nIndex: []\nEmpty DataFrame\nColumns: []\nIndex: []\nEmpty DataFrame\nColumns: [4, 453]\nIndex: []\nEmpty DataFrame\nColumns: []\nIndex: []\nEmpty DataFrame\nColumns: [4, 454]\nIndex: []\nEmpty DataFrame\nColumns: []\nIndex: []\nEmpty DataFrame\nColumns: [4, 455]\nIndex: []\nEmpty DataFrame\nColumns: []\nIndex: []\nEmpty DataFrame\nColumns: [4, 456]\nIndex: []\nEmpty DataFrame\nColumns: []\nIndex: []\nEmpty DataFrame\nColumns: [4, 457]\nIndex: []\nEmpty DataFrame\nColumns: []\nIndex: []\nEmpty DataFrame\nColumns: [4, 458]\nIndex: []\nEmpty DataFrame\nColumns: []\nIndex: []\nEmpty DataFrame\nColumns: [4, 459]\nIndex: []\n     459\n459  NaN\nEmpty DataFrame\nColumns: [4, 460]\nIndex: []\n     460\n460  NaN\n"
     ]
    },
    {
     "name": "stdout",
     "output_type": "stream",
     "text": [
      "Empty DataFrame\nColumns: [4, 461]\nIndex: []\nEmpty DataFrame\nColumns: []\nIndex: []\nEmpty DataFrame\nColumns: [4, 462]\nIndex: []\nEmpty DataFrame\nColumns: []\nIndex: []\nEmpty DataFrame\nColumns: [4, 463]\nIndex: []\nEmpty DataFrame\nColumns: []\nIndex: []\nEmpty DataFrame\nColumns: [4, 464]\nIndex: []\n     464\n464  NaN\nEmpty DataFrame\nColumns: [4, 465]\nIndex: []\nEmpty DataFrame\nColumns: []\nIndex: []\nEmpty DataFrame\nColumns: [4, 466]\nIndex: []\nEmpty DataFrame\nColumns: []\nIndex: []\nEmpty DataFrame\nColumns: [4, 467]\nIndex: []\nEmpty DataFrame\nColumns: []\nIndex: []\nEmpty DataFrame\nColumns: [4, 468]\nIndex: []\nEmpty DataFrame\nColumns: []\nIndex: []\nEmpty DataFrame\nColumns: [4, 469]\nIndex: []\nEmpty DataFrame\nColumns: []\nIndex: []\nEmpty DataFrame\nColumns: [4, 470]\nIndex: []\nEmpty DataFrame\nColumns: []\nIndex: []\nEmpty DataFrame\nColumns: [4, 471]\nIndex: []\nEmpty DataFrame\nColumns: []\nIndex: []\nEmpty DataFrame\nColumns: [4, 472]\nIndex: []\nEmpty DataFrame\nColumns: []\nIndex: []\nEmpty DataFrame\nColumns: [4, 473]\nIndex: []\nEmpty DataFrame\nColumns: []\nIndex: []\nEmpty DataFrame\nColumns: [4, 474]\nIndex: []\nEmpty DataFrame\nColumns: []\nIndex: []\nEmpty DataFrame\nColumns: [4, 475]\nIndex: []\nEmpty DataFrame\nColumns: []\nIndex: []\n"
     ]
    },
    {
     "name": "stdout",
     "output_type": "stream",
     "text": [
      "Empty DataFrame\nColumns: [4, 476]\nIndex: []\nEmpty DataFrame\nColumns: []\nIndex: []\nEmpty DataFrame\nColumns: [4, 477]\nIndex: []\nEmpty DataFrame\nColumns: []\nIndex: []\nEmpty DataFrame\nColumns: [4, 478]\nIndex: []\n     478\n478  NaN\nEmpty DataFrame\nColumns: [4, 479]\nIndex: []\nEmpty DataFrame\nColumns: []\nIndex: []\nEmpty DataFrame\nColumns: [4, 480]\nIndex: []\n     480\n480  NaN\nEmpty DataFrame\nColumns: [4, 481]\nIndex: []\nEmpty DataFrame\nColumns: []\nIndex: []\nEmpty DataFrame\nColumns: [4, 482]\nIndex: []\n     482\n482  NaN\nEmpty DataFrame\nColumns: [4, 483]\nIndex: []\n     483\n483  NaN\nEmpty DataFrame\nColumns: [4, 484]\nIndex: []\n     484\n484  NaN\nEmpty DataFrame\nColumns: [4, 485]\nIndex: []\n     485\n485  NaN\nEmpty DataFrame\nColumns: [4, 486]\nIndex: []\n     486\n486  NaN\nEmpty DataFrame\nColumns: [4, 487]\nIndex: []\nEmpty DataFrame\nColumns: []\nIndex: []\nEmpty DataFrame\nColumns: [4, 488]\nIndex: []\n     488\n488  NaN\nEmpty DataFrame\nColumns: [4, 489]\nIndex: []\n     489\n489  NaN\nEmpty DataFrame\nColumns: [4, 490]\nIndex: []\n"
     ]
    },
    {
     "name": "stdout",
     "output_type": "stream",
     "text": [
      "Empty DataFrame\nColumns: []\nIndex: []\nEmpty DataFrame\nColumns: [4, 491]\nIndex: []\nEmpty DataFrame\nColumns: []\nIndex: []\nEmpty DataFrame\nColumns: [4, 492]\nIndex: []\n     492\n492  NaN\nEmpty DataFrame\nColumns: [4, 493]\nIndex: []\nEmpty DataFrame\nColumns: []\nIndex: []\nEmpty DataFrame\nColumns: [4, 494]\nIndex: []\nEmpty DataFrame\nColumns: []\nIndex: []\nEmpty DataFrame\nColumns: [4, 495]\nIndex: []\nEmpty DataFrame\nColumns: []\nIndex: []\nEmpty DataFrame\nColumns: [4, 496]\nIndex: []\nEmpty DataFrame\nColumns: []\nIndex: []\nEmpty DataFrame\nColumns: [4, 497]\nIndex: []\n     497\n497  NaN\nEmpty DataFrame\nColumns: [4, 498]\nIndex: []\n     498\n498  NaN\nEmpty DataFrame\nColumns: [4, 499]\nIndex: []\n     499\n499  NaN\nEmpty DataFrame\nColumns: [4, 500]\nIndex: []\n     500\n500  NaN\nEmpty DataFrame\nColumns: [4, 501]\nIndex: []\nEmpty DataFrame\nColumns: []\nIndex: []\nEmpty DataFrame\nColumns: [4, 502]\nIndex: []\nEmpty DataFrame\nColumns: []\nIndex: []\nEmpty DataFrame\nColumns: [4, 503]\nIndex: []\nEmpty DataFrame\nColumns: []\nIndex: []\nEmpty DataFrame\nColumns: [4, 504]\nIndex: []\nEmpty DataFrame\nColumns: []\nIndex: []\nEmpty DataFrame\nColumns: [4, 505]\nIndex: []\nEmpty DataFrame\nColumns: []\nIndex: []"
     ]
    },
    {
     "name": "stdout",
     "output_type": "stream",
     "text": [
      "\nEmpty DataFrame\nColumns: [4, 506]\nIndex: []\nEmpty DataFrame\nColumns: []\nIndex: []\nEmpty DataFrame\nColumns: [4, 507]\nIndex: []\nEmpty DataFrame\nColumns: []\nIndex: []\nEmpty DataFrame\nColumns: [4, 508]\nIndex: []\nEmpty DataFrame\nColumns: []\nIndex: []\nEmpty DataFrame\nColumns: [4, 509]\nIndex: []\nEmpty DataFrame\nColumns: []\nIndex: []\nEmpty DataFrame\nColumns: [4, 510]\nIndex: []\nEmpty DataFrame\nColumns: []\nIndex: []\nEmpty DataFrame\nColumns: [4, 511]\nIndex: []\nEmpty DataFrame\nColumns: []\nIndex: []\nEmpty DataFrame\nColumns: [4, 512]\nIndex: []\nEmpty DataFrame\nColumns: []\nIndex: []\nEmpty DataFrame\nColumns: [4, 513]\nIndex: []\nEmpty DataFrame\nColumns: []\nIndex: []\nEmpty DataFrame\nColumns: [4, 514]\nIndex: []\nEmpty DataFrame\nColumns: []\nIndex: []\nEmpty DataFrame\nColumns: [4, 515]\nIndex: []\nEmpty DataFrame\nColumns: []\nIndex: []\nEmpty DataFrame\nColumns: [4, 516]\nIndex: []\nEmpty DataFrame\nColumns: []\nIndex: []\nEmpty DataFrame\nColumns: [4, 517]\nIndex: []\nEmpty DataFrame\nColumns: []\nIndex: []\nEmpty DataFrame\nColumns: [4, 518]\nIndex: []\nEmpty DataFrame\nColumns: []\nIndex: []\nEmpty DataFrame\nColumns: [4, 519]\nIndex: []\nEmpty DataFrame\nColumns: []\nIndex: []\nEmpty DataFrame\nColumns: [4, 520]\nIndex: []\nEmpty DataFrame\nColumns: []\nIndex: []\n"
     ]
    },
    {
     "name": "stdout",
     "output_type": "stream",
     "text": [
      "Empty DataFrame\nColumns: [4, 521]\nIndex: []\n     521\n521  NaN\nEmpty DataFrame\nColumns: [4, 522]\nIndex: []\n     522\n522  NaN\nEmpty DataFrame\nColumns: [4, 523]\nIndex: []\nEmpty DataFrame\nColumns: []\nIndex: []\nEmpty DataFrame\nColumns: [4, 524]\nIndex: []\nEmpty DataFrame\nColumns: []\nIndex: []\nEmpty DataFrame\nColumns: [4, 525]\nIndex: []\n     525\n525  NaN\nEmpty DataFrame\nColumns: [4, 526]\nIndex: []\nEmpty DataFrame\nColumns: []\nIndex: []\nEmpty DataFrame\nColumns: [4, 527]\nIndex: []\nEmpty DataFrame\nColumns: []\nIndex: []\nEmpty DataFrame\nColumns: [4, 528]\nIndex: []\nEmpty DataFrame\nColumns: []\nIndex: []\nEmpty DataFrame\nColumns: [4, 529]\nIndex: []\nEmpty DataFrame\nColumns: []\nIndex: []\nEmpty DataFrame\nColumns: [4, 530]\nIndex: []\nEmpty DataFrame\nColumns: []\nIndex: []\nEmpty DataFrame\nColumns: [4, 531]\nIndex: []\nEmpty DataFrame\nColumns: []\nIndex: []\nEmpty DataFrame\nColumns: [4, 532]\nIndex: []\nEmpty DataFrame\nColumns: []\nIndex: []\nEmpty DataFrame\nColumns: [4, 533]\nIndex: []\n     533\n533  NaN\nEmpty DataFrame\nColumns: [4, 534]\nIndex: []\nEmpty DataFrame\nColumns: []\nIndex: []\nEmpty DataFrame\nColumns: [4, 535]\nIndex: []\nEmpty DataFrame\nColumns: []\nIndex: []\n"
     ]
    },
    {
     "name": "stdout",
     "output_type": "stream",
     "text": [
      "Empty DataFrame\nColumns: [4, 536]\nIndex: []\n     536\n536  NaN\nEmpty DataFrame\nColumns: [4, 537]\nIndex: []\nEmpty DataFrame\nColumns: []\nIndex: []\nEmpty DataFrame\nColumns: [4, 538]\nIndex: []\n     538\n538  NaN\nEmpty DataFrame\nColumns: [4, 539]\nIndex: []\n     539\n539  NaN\nEmpty DataFrame\nColumns: [4, 540]\nIndex: []\nEmpty DataFrame\nColumns: []\nIndex: []\nEmpty DataFrame\nColumns: [4, 541]\nIndex: []\nEmpty DataFrame\nColumns: []\nIndex: []\nEmpty DataFrame\nColumns: [4, 542]\nIndex: []\nEmpty DataFrame\nColumns: []\nIndex: []\nEmpty DataFrame\nColumns: [4, 543]\nIndex: []\nEmpty DataFrame\nColumns: []\nIndex: []\nEmpty DataFrame\nColumns: [4, 544]\nIndex: []\nEmpty DataFrame\nColumns: []\nIndex: []\nEmpty DataFrame\nColumns: [4, 545]\nIndex: []\nEmpty DataFrame\nColumns: []\nIndex: []\nEmpty DataFrame\nColumns: [4, 546]\nIndex: []\nEmpty DataFrame\nColumns: []\nIndex: []\nEmpty DataFrame\nColumns: [4, 547]\nIndex: []\nEmpty DataFrame\nColumns: []\nIndex: []\nEmpty DataFrame\nColumns: [4, 548]\nIndex: []\nEmpty DataFrame\nColumns: []\nIndex: []\nEmpty DataFrame\nColumns: [4, 549]\nIndex: []\nEmpty DataFrame\nColumns: []\nIndex: []\nEmpty DataFrame\nColumns: [4, 550]\nIndex: []\nEmpty DataFrame\nColumns: []\nIndex: []\n"
     ]
    },
    {
     "name": "stdout",
     "output_type": "stream",
     "text": [
      "Empty DataFrame\nColumns: [4, 551]\nIndex: []\nEmpty DataFrame\nColumns: []\nIndex: []\nEmpty DataFrame\nColumns: [4, 552]\nIndex: []\n     552\n552  NaN\nEmpty DataFrame\nColumns: [4, 553]\nIndex: []\n     553\n553  NaN\nEmpty DataFrame\nColumns: [4, 554]\nIndex: []\nEmpty DataFrame\nColumns: []\nIndex: []\nEmpty DataFrame\nColumns: [4, 555]\nIndex: []\nEmpty DataFrame\nColumns: []\nIndex: []\nEmpty DataFrame\nColumns: [4, 556]\nIndex: []\nEmpty DataFrame\nColumns: []\nIndex: []\nEmpty DataFrame\nColumns: [4, 557]\nIndex: []\n     557\n557  NaN\nEmpty DataFrame\nColumns: [4, 558]\nIndex: []\nEmpty DataFrame\nColumns: []\nIndex: []\nEmpty DataFrame\nColumns: [4, 559]\nIndex: []\nEmpty DataFrame\nColumns: []\nIndex: []\nEmpty DataFrame\nColumns: [4, 560]\nIndex: []\nEmpty DataFrame\nColumns: []\nIndex: []\nEmpty DataFrame\nColumns: [4, 561]\nIndex: []\nEmpty DataFrame\nColumns: []\nIndex: []\nEmpty DataFrame\nColumns: [4, 562]\nIndex: []\nEmpty DataFrame\nColumns: []\nIndex: []\nEmpty DataFrame\nColumns: [4, 563]\nIndex: []\nEmpty DataFrame\nColumns: []\nIndex: []\nEmpty DataFrame\nColumns: [4, 564]\nIndex: []\nEmpty DataFrame\nColumns: []\nIndex: []\nEmpty DataFrame\nColumns: [4, 565]\nIndex: []\nEmpty DataFrame\nColumns: []\nIndex: []\n"
     ]
    },
    {
     "name": "stdout",
     "output_type": "stream",
     "text": [
      "Empty DataFrame\nColumns: [4, 566]\nIndex: []\n     566\n566  NaN\nEmpty DataFrame\nColumns: [4, 567]\nIndex: []\nEmpty DataFrame\nColumns: []\nIndex: []\nEmpty DataFrame\nColumns: [4, 568]\nIndex: []\nEmpty DataFrame\nColumns: []\nIndex: []\nEmpty DataFrame\nColumns: [4, 569]\nIndex: []\nEmpty DataFrame\nColumns: []\nIndex: []\nEmpty DataFrame\nColumns: [4, 570]\nIndex: []\n     570\n570  NaN\nEmpty DataFrame\nColumns: [4, 571]\nIndex: []\nEmpty DataFrame\nColumns: []\nIndex: []\nEmpty DataFrame\nColumns: [4, 572]\nIndex: []\nEmpty DataFrame\nColumns: []\nIndex: []\nEmpty DataFrame\nColumns: [4, 573]\nIndex: []\nEmpty DataFrame\nColumns: []\nIndex: []\nEmpty DataFrame\nColumns: [4, 574]\nIndex: []\nEmpty DataFrame\nColumns: []\nIndex: []\nEmpty DataFrame\nColumns: [4, 575]\nIndex: []\n     575\n575  NaN\nEmpty DataFrame\nColumns: [4, 576]\nIndex: []\n     576\n576  NaN\nEmpty DataFrame\nColumns: [4, 577]\nIndex: []\n     577\n577  NaN\nEmpty DataFrame\nColumns: [4, 578]\nIndex: []\n     578\n578  NaN\nEmpty DataFrame\nColumns: [4, 579]\nIndex: []\n     579\n579  NaN\nEmpty DataFrame\nColumns: [4, 580]\nIndex: []\n"
     ]
    },
    {
     "name": "stdout",
     "output_type": "stream",
     "text": [
      "Empty DataFrame\nColumns: []\nIndex: []\nEmpty DataFrame\nColumns: [4, 581]\nIndex: []\nEmpty DataFrame\nColumns: []\nIndex: []\nEmpty DataFrame\nColumns: [4, 582]\nIndex: []\nEmpty DataFrame\nColumns: []\nIndex: []\nEmpty DataFrame\nColumns: [4, 583]\nIndex: []\nEmpty DataFrame\nColumns: []\nIndex: []\nEmpty DataFrame\nColumns: [4, 584]\nIndex: []\nEmpty DataFrame\nColumns: []\nIndex: []\nEmpty DataFrame\nColumns: [4, 585]\nIndex: []\nEmpty DataFrame\nColumns: []\nIndex: []\nEmpty DataFrame\nColumns: [4, 586]\nIndex: []\n     586\n586  NaN\nEmpty DataFrame\nColumns: [4, 587]\nIndex: []\n     587\n587  NaN\nEmpty DataFrame\nColumns: [4, 588]\nIndex: []\n     588\n588  NaN\nEmpty DataFrame\nColumns: [4, 589]\nIndex: []\nEmpty DataFrame\nColumns: []\nIndex: []\nEmpty DataFrame\nColumns: [4, 590]\nIndex: []\n     590\n590  NaN\nEmpty DataFrame\nColumns: [4, 591]\nIndex: []\n     591\n591  NaN\nEmpty DataFrame\nColumns: [4, 592]\nIndex: []\n     592\n592  NaN\nEmpty DataFrame\nColumns: [4, 593]\nIndex: []\n     593\n593  NaN\nEmpty DataFrame\nColumns: [4, 594]\nIndex: []\n     594\n594  NaN\nEmpty DataFrame\nColumns: [4, 595]\nIndex: []\n     595\n595  NaN\n"
     ]
    },
    {
     "name": "stdout",
     "output_type": "stream",
     "text": [
      "Empty DataFrame\nColumns: [4, 596]\nIndex: []\n     596\n596  NaN\nEmpty DataFrame\nColumns: [4, 597]\nIndex: []\n     597\n597  NaN\nEmpty DataFrame\nColumns: [4, 598]\nIndex: []\n     598\n598  NaN\nEmpty DataFrame\nColumns: [4, 599]\nIndex: []\nEmpty DataFrame\nColumns: []\nIndex: []\nEmpty DataFrame\nColumns: [4, 600]\nIndex: []\nEmpty DataFrame\nColumns: []\nIndex: []\nEmpty DataFrame\nColumns: [4, 601]\nIndex: []\nEmpty DataFrame\nColumns: []\nIndex: []\nEmpty DataFrame\nColumns: [4, 602]\nIndex: []\nEmpty DataFrame\nColumns: []\nIndex: []\nEmpty DataFrame\nColumns: [4, 603]\nIndex: []\n     603\n603  NaN\nEmpty DataFrame\nColumns: [4, 604]\nIndex: []\n     604\n604  NaN\nEmpty DataFrame\nColumns: [4, 605]\nIndex: []\nEmpty DataFrame\nColumns: []\nIndex: []\nEmpty DataFrame\nColumns: [4, 606]\nIndex: []\nEmpty DataFrame\nColumns: []\nIndex: []\nEmpty DataFrame\nColumns: [4, 607]\nIndex: []\nEmpty DataFrame\nColumns: []\nIndex: []\nEmpty DataFrame\nColumns: [4, 608]\nIndex: []\nEmpty DataFrame\nColumns: []\nIndex: []\nEmpty DataFrame\nColumns: [4, 609]\nIndex: []\nEmpty DataFrame\nColumns: []\nIndex: []\nEmpty DataFrame\nColumns: [4, 610]\nIndex: []\nEmpty DataFrame\nColumns: []\nIndex: []\n"
     ]
    },
    {
     "name": "stdout",
     "output_type": "stream",
     "text": [
      "Empty DataFrame\nColumns: [4, 611]\nIndex: []\nEmpty DataFrame\nColumns: []\nIndex: []\nEmpty DataFrame\nColumns: [4, 612]\nIndex: []\nEmpty DataFrame\nColumns: []\nIndex: []\nEmpty DataFrame\nColumns: [4, 613]\nIndex: []\nEmpty DataFrame\nColumns: []\nIndex: []\nEmpty DataFrame\nColumns: [4, 614]\nIndex: []\n     614\n614  NaN\nEmpty DataFrame\nColumns: [4, 615]\nIndex: []\n     615\n615  NaN\nEmpty DataFrame\nColumns: [4, 616]\nIndex: []\nEmpty DataFrame\nColumns: []\nIndex: []\nEmpty DataFrame\nColumns: [4, 617]\nIndex: []\nEmpty DataFrame\nColumns: []\nIndex: []\nEmpty DataFrame\nColumns: [4, 618]\nIndex: []\n     618\n618  NaN\nEmpty DataFrame\nColumns: [4, 619]\nIndex: []\nEmpty DataFrame\nColumns: []\nIndex: []\nEmpty DataFrame\nColumns: [4, 620]\nIndex: []\n     620\n620  NaN\nEmpty DataFrame\nColumns: [4, 621]\nIndex: []\nEmpty DataFrame\nColumns: []\nIndex: []\nEmpty DataFrame\nColumns: [4, 622]\nIndex: []\nEmpty DataFrame\nColumns: []\nIndex: []\nEmpty DataFrame\nColumns: [4, 623]\nIndex: []\n     623\n623  NaN\nEmpty DataFrame\nColumns: [4, 624]\nIndex: []\n     624\n624  NaN\nEmpty DataFrame\nColumns: [4, 625]\nIndex: []\n     625\n625  NaN\n"
     ]
    },
    {
     "name": "stdout",
     "output_type": "stream",
     "text": [
      "Empty DataFrame\nColumns: [4, 626]\nIndex: []\nEmpty DataFrame\nColumns: []\nIndex: []\nEmpty DataFrame\nColumns: [4, 627]\nIndex: []\nEmpty DataFrame\nColumns: []\nIndex: []\nEmpty DataFrame\nColumns: [4, 628]\nIndex: []\nEmpty DataFrame\nColumns: []\nIndex: []\nEmpty DataFrame\nColumns: [4, 629]\nIndex: []\nEmpty DataFrame\nColumns: []\nIndex: []\nEmpty DataFrame\nColumns: [4, 630]\nIndex: []\nEmpty DataFrame\nColumns: []\nIndex: []\nEmpty DataFrame\nColumns: [4, 631]\nIndex: []\nEmpty DataFrame\nColumns: []\nIndex: []\nEmpty DataFrame\nColumns: [4, 632]\nIndex: []\nEmpty DataFrame\nColumns: []\nIndex: []\nEmpty DataFrame\nColumns: [4, 633]\nIndex: []\nEmpty DataFrame\nColumns: []\nIndex: []\nEmpty DataFrame\nColumns: [4, 634]\nIndex: []\nEmpty DataFrame\nColumns: []\nIndex: []\nEmpty DataFrame\nColumns: [4, 635]\nIndex: []\nEmpty DataFrame\nColumns: []\nIndex: []\nEmpty DataFrame\nColumns: [4, 636]\nIndex: []\nEmpty DataFrame\nColumns: []\nIndex: []\nEmpty DataFrame\nColumns: [4, 637]\nIndex: []\nEmpty DataFrame\nColumns: []\nIndex: []\nEmpty DataFrame\nColumns: [4, 638]\nIndex: []\nEmpty DataFrame\nColumns: []\nIndex: []\nEmpty DataFrame\nColumns: [4, 639]\nIndex: []\n"
     ]
    },
    {
     "name": "stdout",
     "output_type": "stream",
     "text": [
      "Empty DataFrame\nColumns: []\nIndex: []\nEmpty DataFrame\nColumns: [4, 640]\nIndex: []\nEmpty DataFrame\nColumns: []\nIndex: []\nEmpty DataFrame\nColumns: [4, 641]\nIndex: []\nEmpty DataFrame\nColumns: []\nIndex: []\nEmpty DataFrame\nColumns: [4, 642]\nIndex: []\nEmpty DataFrame\nColumns: []\nIndex: []\nEmpty DataFrame\nColumns: [4, 643]\nIndex: []\nEmpty DataFrame\nColumns: []\nIndex: []\nEmpty DataFrame\nColumns: [4, 644]\nIndex: []\nEmpty DataFrame\nColumns: []\nIndex: []\nEmpty DataFrame\nColumns: [4, 645]\nIndex: []\nEmpty DataFrame\nColumns: []\nIndex: []\nEmpty DataFrame\nColumns: [4, 646]\nIndex: []\nEmpty DataFrame\nColumns: []\nIndex: []\nEmpty DataFrame\nColumns: [4, 647]\nIndex: []\nEmpty DataFrame\nColumns: []\nIndex: []\nEmpty DataFrame\nColumns: [4, 648]\nIndex: []\nEmpty DataFrame\nColumns: []\nIndex: []\nEmpty DataFrame\nColumns: [4, 649]\nIndex: []\nEmpty DataFrame\nColumns: []\nIndex: []\nEmpty DataFrame\nColumns: [4, 650]\nIndex: []\nEmpty DataFrame\nColumns: []\nIndex: []\nEmpty DataFrame\nColumns: [4, 651]\nIndex: []\nEmpty DataFrame\nColumns: []\nIndex: []\nEmpty DataFrame\nColumns: [4, 652]\nIndex: []\nEmpty DataFrame\nColumns: []\nIndex: []\n"
     ]
    },
    {
     "name": "stdout",
     "output_type": "stream",
     "text": [
      "Empty DataFrame\nColumns: [4, 653]\nIndex: []\nEmpty DataFrame\nColumns: []\nIndex: []\nEmpty DataFrame\nColumns: [4, 654]\nIndex: []\nEmpty DataFrame\nColumns: []\nIndex: []\nEmpty DataFrame\nColumns: [4, 655]\nIndex: []\nEmpty DataFrame\nColumns: []\nIndex: []\nEmpty DataFrame\nColumns: [4, 656]\nIndex: []\nEmpty DataFrame\nColumns: []\nIndex: []\nEmpty DataFrame\nColumns: [4, 657]\nIndex: []\nEmpty DataFrame\nColumns: []\nIndex: []\nEmpty DataFrame\nColumns: [4, 658]\nIndex: []\nEmpty DataFrame\nColumns: []\nIndex: []\nEmpty DataFrame\nColumns: [4, 659]\nIndex: []\nEmpty DataFrame\nColumns: []\nIndex: []\nEmpty DataFrame\nColumns: [4, 660]\nIndex: []\nEmpty DataFrame\nColumns: []\nIndex: []\nEmpty DataFrame\nColumns: [4, 661]\nIndex: []\nEmpty DataFrame\nColumns: []\nIndex: []\nEmpty DataFrame\nColumns: [4, 662]\nIndex: []\nEmpty DataFrame\nColumns: []\nIndex: []\nEmpty DataFrame\nColumns: [4, 663]\nIndex: []\nEmpty DataFrame\nColumns: []\nIndex: []\nEmpty DataFrame\nColumns: [4, 664]\nIndex: []\nEmpty DataFrame\nColumns: []\nIndex: []\nEmpty DataFrame\nColumns: [4, 665]\nIndex: []\nEmpty DataFrame\nColumns: []\nIndex: []\nEmpty DataFrame\nColumns: [4, 666]\nIndex: []\nEmpty DataFrame\nColumns: []\nIndex: []\nEmpty DataFrame\nColumns: [4, 667]\nIndex: []\nEmpty DataFrame\nColumns: []\nIndex: []\n"
     ]
    },
    {
     "name": "stdout",
     "output_type": "stream",
     "text": [
      "Empty DataFrame\nColumns: [4, 668]\nIndex: []\nEmpty DataFrame\nColumns: []\nIndex: []\nEmpty DataFrame\nColumns: [4, 669]\nIndex: []\nEmpty DataFrame\nColumns: []\nIndex: []\nEmpty DataFrame\nColumns: [4, 670]\nIndex: []\nEmpty DataFrame\nColumns: []\nIndex: []\nEmpty DataFrame\nColumns: [4, 671]\nIndex: []\nEmpty DataFrame\nColumns: []\nIndex: []\nEmpty DataFrame\nColumns: [4, 672]\nIndex: []\nEmpty DataFrame\nColumns: []\nIndex: []\nEmpty DataFrame\nColumns: [4, 673]\nIndex: []\nEmpty DataFrame\nColumns: []\nIndex: []\nEmpty DataFrame\nColumns: [4, 674]\nIndex: []\nEmpty DataFrame\nColumns: []\nIndex: []\nEmpty DataFrame\nColumns: [4, 675]\nIndex: []\nEmpty DataFrame\nColumns: []\nIndex: []\nEmpty DataFrame\nColumns: [4, 676]\nIndex: []\nEmpty DataFrame\nColumns: []\nIndex: []\nEmpty DataFrame\nColumns: [4, 677]\nIndex: []\nEmpty DataFrame\nColumns: []\nIndex: []\nEmpty DataFrame\nColumns: [4, 678]\nIndex: []\nEmpty DataFrame\nColumns: []\nIndex: []\nEmpty DataFrame\nColumns: [4, 679]\nIndex: []\nEmpty DataFrame\nColumns: []\nIndex: []\nEmpty DataFrame\nColumns: [4, 680]\nIndex: []\nEmpty DataFrame\nColumns: []\nIndex: []\nEmpty DataFrame\nColumns: [4, 681]\nIndex: []\nEmpty DataFrame\nColumns: []\nIndex: []\nEmpty DataFrame\nColumns: [4, 682]\nIndex: []\nEmpty DataFrame\nColumns: []\nIndex: []"
     ]
    },
    {
     "name": "stdout",
     "output_type": "stream",
     "text": [
      "\nEmpty DataFrame\nColumns: [4, 683]\nIndex: []\nEmpty DataFrame\nColumns: []\nIndex: []\nEmpty DataFrame\nColumns: [4, 684]\nIndex: []\nEmpty DataFrame\nColumns: []\nIndex: []\nEmpty DataFrame\nColumns: [4, 685]\nIndex: []\nEmpty DataFrame\nColumns: []\nIndex: []\nEmpty DataFrame\nColumns: [4, 686]\nIndex: []\nEmpty DataFrame\nColumns: []\nIndex: []\nEmpty DataFrame\nColumns: [4, 687]\nIndex: []\nEmpty DataFrame\nColumns: []\nIndex: []\nEmpty DataFrame\nColumns: [4, 688]\nIndex: []\nEmpty DataFrame\nColumns: []\nIndex: []\nEmpty DataFrame\nColumns: [4, 689]\nIndex: []\n     689\n689  NaN\nEmpty DataFrame\nColumns: [4, 690]\nIndex: []\n     690\n690  NaN\nEmpty DataFrame\nColumns: [4, 691]\nIndex: []\nEmpty DataFrame\nColumns: []\nIndex: []\nEmpty DataFrame\nColumns: [4, 692]\nIndex: []\nEmpty DataFrame\nColumns: []\nIndex: []\nEmpty DataFrame\nColumns: [4, 693]\nIndex: []\n     693\n693  NaN\nEmpty DataFrame\nColumns: [4, 694]\nIndex: []\n     694\n694  NaN\nEmpty DataFrame\nColumns: [4, 695]\nIndex: []\n     695\n695  NaN\nEmpty DataFrame\nColumns: [4, 696]\nIndex: []\n     696\n696  NaN\nEmpty DataFrame\nColumns: [4, 697]\nIndex: []"
     ]
    },
    {
     "name": "stdout",
     "output_type": "stream",
     "text": [
      "\n     697\n697  NaN\nEmpty DataFrame\nColumns: [4, 698]\nIndex: []\n     698\n698  NaN\nEmpty DataFrame\nColumns: [4, 699]\nIndex: []\n     699\n699  NaN\nEmpty DataFrame\nColumns: [4, 700]\nIndex: []\n     700\n700  NaN\nEmpty DataFrame\nColumns: [4, 701]\nIndex: []\n     701\n701  NaN\nEmpty DataFrame\nColumns: [4, 702]\nIndex: []\nEmpty DataFrame\nColumns: []\nIndex: []\nEmpty DataFrame\nColumns: [4, 703]\nIndex: []\nEmpty DataFrame\nColumns: []\nIndex: []\nEmpty DataFrame\nColumns: [4, 704]\nIndex: []\n     704\n704  NaN\nEmpty DataFrame\nColumns: [4, 705]\nIndex: []\nEmpty DataFrame\nColumns: []\nIndex: []\nEmpty DataFrame\nColumns: [4, 706]\nIndex: []\nEmpty DataFrame\nColumns: []\nIndex: []\nEmpty DataFrame\nColumns: [4, 707]\nIndex: []\nEmpty DataFrame\nColumns: []\nIndex: []\nEmpty DataFrame\nColumns: [4, 708]\nIndex: []\nEmpty DataFrame\nColumns: []\nIndex: []\nEmpty DataFrame\nColumns: [4, 709]\nIndex: []\nEmpty DataFrame\nColumns: []\nIndex: []\nEmpty DataFrame\nColumns: [4, 710]\nIndex: []\nEmpty DataFrame\nColumns: []\nIndex: []\nEmpty DataFrame\nColumns: [4, 711]\nIndex: []\nEmpty DataFrame\nColumns: []\nIndex: []\nEmpty DataFrame\nColumns: [4, 712]\nIndex: []\nEmpty DataFrame\nColumns: []\nIndex: []\n"
     ]
    },
    {
     "name": "stdout",
     "output_type": "stream",
     "text": [
      "Empty DataFrame\nColumns: [4, 713]\nIndex: []\nEmpty DataFrame\nColumns: []\nIndex: []\nEmpty DataFrame\nColumns: [4, 714]\nIndex: []\nEmpty DataFrame\nColumns: []\nIndex: []\nEmpty DataFrame\nColumns: [4, 715]\nIndex: []\n     715\n715  NaN\nEmpty DataFrame\nColumns: [4, 716]\nIndex: []\nEmpty DataFrame\nColumns: []\nIndex: []\nEmpty DataFrame\nColumns: [4, 717]\nIndex: []\nEmpty DataFrame\nColumns: []\nIndex: []\nEmpty DataFrame\nColumns: [4, 718]\nIndex: []\nEmpty DataFrame\nColumns: []\nIndex: []\nEmpty DataFrame\nColumns: [4, 719]\nIndex: []\nEmpty DataFrame\nColumns: []\nIndex: []\nEmpty DataFrame\nColumns: [4, 720]\nIndex: []\nEmpty DataFrame\nColumns: []\nIndex: []\nEmpty DataFrame\nColumns: [4, 721]\nIndex: []\n     721\n721  NaN\nEmpty DataFrame\nColumns: [4, 722]\nIndex: []\n     722\n722  NaN\nEmpty DataFrame\nColumns: [4, 723]\nIndex: []\n     723\n723  NaN\nEmpty DataFrame\nColumns: [4, 724]\nIndex: []\n     724\n724  NaN\nEmpty DataFrame\nColumns: [4, 725]\nIndex: []\n     725\n725  NaN\nEmpty DataFrame\nColumns: [4, 726]\nIndex: []\n     726\n726  NaN\n"
     ]
    },
    {
     "name": "stdout",
     "output_type": "stream",
     "text": [
      "Empty DataFrame\nColumns: [4, 727]\nIndex: []\n     727\n727  NaN\nEmpty DataFrame\nColumns: [4, 728]\nIndex: []\nEmpty DataFrame\nColumns: []\nIndex: []\nEmpty DataFrame\nColumns: [4, 729]\nIndex: []\n     729\n729  NaN\nEmpty DataFrame\nColumns: [4, 730]\nIndex: []\n     730\n730  NaN\nEmpty DataFrame\nColumns: [4, 731]\nIndex: []\n     731\n731  NaN\nEmpty DataFrame\nColumns: [4, 732]\nIndex: []\nEmpty DataFrame\nColumns: []\nIndex: []\nEmpty DataFrame\nColumns: [4, 733]\nIndex: []\nEmpty DataFrame\nColumns: []\nIndex: []\nEmpty DataFrame\nColumns: [4, 734]\nIndex: []\nEmpty DataFrame\nColumns: []\nIndex: []\nEmpty DataFrame\nColumns: [4, 735]\nIndex: []\nEmpty DataFrame\nColumns: []\nIndex: []\nEmpty DataFrame\nColumns: [4, 736]\nIndex: []\nEmpty DataFrame\nColumns: []\nIndex: []\nEmpty DataFrame\nColumns: [4, 737]\nIndex: []\nEmpty DataFrame\nColumns: []\nIndex: []\nEmpty DataFrame\nColumns: [4, 738]\nIndex: []\nEmpty DataFrame\nColumns: []\nIndex: []\nEmpty DataFrame\nColumns: [4, 739]\nIndex: []\n     739\n739  NaN\nEmpty DataFrame\nColumns: [4, 740]\nIndex: []\nEmpty DataFrame\nColumns: []\nIndex: []\nEmpty DataFrame\nColumns: [4, 741]\nIndex: []\nEmpty DataFrame\nColumns: []\nIndex: []\n"
     ]
    },
    {
     "name": "stdout",
     "output_type": "stream",
     "text": [
      "Empty DataFrame\nColumns: [4, 742]\nIndex: []\nEmpty DataFrame\nColumns: []\nIndex: []\nEmpty DataFrame\nColumns: [4, 743]\nIndex: []\nEmpty DataFrame\nColumns: []\nIndex: []\nEmpty DataFrame\nColumns: [4, 744]\nIndex: []\n     744\n744  NaN\nEmpty DataFrame\nColumns: [4, 745]\nIndex: []\nEmpty DataFrame\nColumns: []\nIndex: []\nEmpty DataFrame\nColumns: [4, 746]\nIndex: []\nEmpty DataFrame\nColumns: []\nIndex: []\nEmpty DataFrame\nColumns: [4, 747]\nIndex: []\nEmpty DataFrame\nColumns: []\nIndex: []\nEmpty DataFrame\nColumns: [4, 748]\nIndex: []\nEmpty DataFrame\nColumns: []\nIndex: []\nEmpty DataFrame\nColumns: [4, 749]\nIndex: []\nEmpty DataFrame\nColumns: []\nIndex: []\nEmpty DataFrame\nColumns: [4, 750]\nIndex: []\n     750\n750  NaN\nEmpty DataFrame\nColumns: [4, 751]\nIndex: []\nEmpty DataFrame\nColumns: []\nIndex: []\nEmpty DataFrame\nColumns: [4, 752]\nIndex: []\nEmpty DataFrame\nColumns: []\nIndex: []\nEmpty DataFrame\nColumns: [4, 753]\nIndex: []\nEmpty DataFrame\nColumns: []\nIndex: []\nEmpty DataFrame\nColumns: [4, 754]\nIndex: []\nEmpty DataFrame\nColumns: []\nIndex: []\nEmpty DataFrame\nColumns: [4, 755]\nIndex: []\nEmpty DataFrame\nColumns: []\nIndex: []\nEmpty DataFrame\nColumns: [4, 756]\nIndex: []\nEmpty DataFrame\nColumns: []\nIndex: []\n"
     ]
    },
    {
     "name": "stdout",
     "output_type": "stream",
     "text": [
      "Empty DataFrame\nColumns: [4, 757]\nIndex: []\nEmpty DataFrame\nColumns: []\nIndex: []\nEmpty DataFrame\nColumns: [4, 758]\nIndex: []\nEmpty DataFrame\nColumns: []\nIndex: []\nEmpty DataFrame\nColumns: [4, 759]\nIndex: []\nEmpty DataFrame\nColumns: []\nIndex: []\nEmpty DataFrame\nColumns: [4, 760]\nIndex: []\nEmpty DataFrame\nColumns: []\nIndex: []\nEmpty DataFrame\nColumns: [4, 761]\nIndex: []\nEmpty DataFrame\nColumns: []\nIndex: []\nEmpty DataFrame\nColumns: [4, 762]\nIndex: []\nEmpty DataFrame\nColumns: []\nIndex: []\nEmpty DataFrame\nColumns: [4, 763]\nIndex: []\nEmpty DataFrame\nColumns: []\nIndex: []\nEmpty DataFrame\nColumns: [4, 764]\nIndex: []\nEmpty DataFrame\nColumns: []\nIndex: []\nEmpty DataFrame\nColumns: [4, 765]\nIndex: []\nEmpty DataFrame\nColumns: []\nIndex: []\nEmpty DataFrame\nColumns: [4, 766]\nIndex: []\n     766\n766  NaN\nEmpty DataFrame\nColumns: [4, 767]\nIndex: []\nEmpty DataFrame\nColumns: []\nIndex: []\nEmpty DataFrame\nColumns: [4, 768]\nIndex: []\nEmpty DataFrame\nColumns: []\nIndex: []\nEmpty DataFrame\nColumns: [4, 769]\nIndex: []\nEmpty DataFrame\nColumns: []\nIndex: []\nEmpty DataFrame\nColumns: [4, 770]\nIndex: []\nEmpty DataFrame\nColumns: []\nIndex: []\nEmpty DataFrame\nColumns: [4, 771]\nIndex: []\nEmpty DataFrame\nColumns: []\nIndex: []\n"
     ]
    },
    {
     "name": "stdout",
     "output_type": "stream",
     "text": [
      "Empty DataFrame\nColumns: [4, 772]\nIndex: []\nEmpty DataFrame\nColumns: []\nIndex: []\nEmpty DataFrame\nColumns: [4, 773]\nIndex: []\nEmpty DataFrame\nColumns: []\nIndex: []\nEmpty DataFrame\nColumns: [4, 774]\nIndex: []\nEmpty DataFrame\nColumns: []\nIndex: []\nEmpty DataFrame\nColumns: [4, 775]\nIndex: []\nEmpty DataFrame\nColumns: []\nIndex: []\nEmpty DataFrame\nColumns: [4, 776]\nIndex: []\n     776\n776  NaN\nEmpty DataFrame\nColumns: [4, 777]\nIndex: []\nEmpty DataFrame\nColumns: []\nIndex: []\nEmpty DataFrame\nColumns: [4, 778]\nIndex: []\n     778\n778  NaN\nEmpty DataFrame\nColumns: [4, 779]\nIndex: []\nEmpty DataFrame\nColumns: []\nIndex: []\nEmpty DataFrame\nColumns: [4, 780]\nIndex: []\n     780\n780  NaN\nEmpty DataFrame\nColumns: [4, 781]\nIndex: []\n     781\n781  NaN\nEmpty DataFrame\nColumns: [4, 782]\nIndex: []\nEmpty DataFrame\nColumns: []\nIndex: []\nEmpty DataFrame\nColumns: [4, 783]\nIndex: []\nEmpty DataFrame\nColumns: []\nIndex: []\nEmpty DataFrame\nColumns: [4, 784]\nIndex: []\nEmpty DataFrame\nColumns: []\nIndex: []\nEmpty DataFrame\nColumns: [4, 785]\nIndex: []\nEmpty DataFrame\nColumns: []\nIndex: []\n"
     ]
    },
    {
     "name": "stdout",
     "output_type": "stream",
     "text": [
      "Empty DataFrame\nColumns: [4, 786]\nIndex: []\nEmpty DataFrame\nColumns: []\nIndex: []\nEmpty DataFrame\nColumns: [4, 787]\nIndex: []\n     787\n787  NaN\nEmpty DataFrame\nColumns: [4, 788]\nIndex: []\nEmpty DataFrame\nColumns: []\nIndex: []\nEmpty DataFrame\nColumns: [4, 789]\nIndex: []\nEmpty DataFrame\nColumns: []\nIndex: []\nEmpty DataFrame\nColumns: [4, 790]\nIndex: []\nEmpty DataFrame\nColumns: []\nIndex: []\nEmpty DataFrame\nColumns: [4, 791]\nIndex: []\n     791\n791  NaN\nEmpty DataFrame\nColumns: [4, 792]\nIndex: []\nEmpty DataFrame\nColumns: []\nIndex: []\nEmpty DataFrame\nColumns: [4, 793]\nIndex: []\nEmpty DataFrame\nColumns: []\nIndex: []\nEmpty DataFrame\nColumns: [4, 794]\nIndex: []\nEmpty DataFrame\nColumns: []\nIndex: []\nEmpty DataFrame\nColumns: [4, 795]\nIndex: []\nEmpty DataFrame\nColumns: []\nIndex: []\nEmpty DataFrame\nColumns: [4, 796]\nIndex: []\n     796\n796  NaN\nEmpty DataFrame\nColumns: [4, 797]\nIndex: []\nEmpty DataFrame\nColumns: []\nIndex: []\nEmpty DataFrame\nColumns: [4, 798]\nIndex: []\nEmpty DataFrame\nColumns: []\nIndex: []\nEmpty DataFrame\nColumns: [4, 799]\nIndex: []\nEmpty DataFrame\nColumns: []\nIndex: []\n"
     ]
    },
    {
     "name": "stdout",
     "output_type": "stream",
     "text": [
      "Empty DataFrame\nColumns: [4, 800]\nIndex: []\nEmpty DataFrame\nColumns: []\nIndex: []\nEmpty DataFrame\nColumns: [4, 801]\nIndex: []\nEmpty DataFrame\nColumns: []\nIndex: []\nEmpty DataFrame\nColumns: [4, 802]\nIndex: []\nEmpty DataFrame\nColumns: []\nIndex: []\nEmpty DataFrame\nColumns: [4, 803]\nIndex: []\nEmpty DataFrame\nColumns: []\nIndex: []\nEmpty DataFrame\nColumns: [4, 804]\nIndex: []\n     804\n804  NaN\nEmpty DataFrame\nColumns: [4, 805]\nIndex: []\n     805\n805  NaN\nEmpty DataFrame\nColumns: [4, 806]\nIndex: []\nEmpty DataFrame\nColumns: []\nIndex: []\nEmpty DataFrame\nColumns: [4, 807]\nIndex: []\n     807\n807  NaN\nEmpty DataFrame\nColumns: [4, 808]\nIndex: []\n     808\n808  NaN\nEmpty DataFrame\nColumns: [4, 809]\nIndex: []\n     809\n809  NaN\nEmpty DataFrame\nColumns: [4, 810]\nIndex: []\n     810\n810  NaN\nEmpty DataFrame\nColumns: [4, 811]\nIndex: []\nEmpty DataFrame\nColumns: []\nIndex: []\nEmpty DataFrame\nColumns: [4, 812]\nIndex: []\nEmpty DataFrame\nColumns: []\nIndex: []\nEmpty DataFrame\nColumns: [4, 813]\nIndex: []\nEmpty DataFrame\nColumns: []\nIndex: []\nEmpty DataFrame\nColumns: [4, 814]\nIndex: []\nEmpty DataFrame\nColumns: []\nIndex: []\n"
     ]
    },
    {
     "name": "stdout",
     "output_type": "stream",
     "text": [
      "Empty DataFrame\nColumns: [4, 815]\nIndex: []\nEmpty DataFrame\nColumns: []\nIndex: []\nEmpty DataFrame\nColumns: [4, 816]\nIndex: []\nEmpty DataFrame\nColumns: []\nIndex: []\nEmpty DataFrame\nColumns: [4, 817]\nIndex: []\nEmpty DataFrame\nColumns: []\nIndex: []\nEmpty DataFrame\nColumns: [4, 818]\nIndex: []\nEmpty DataFrame\nColumns: []\nIndex: []\nEmpty DataFrame\nColumns: [4, 819]\nIndex: []\nEmpty DataFrame\nColumns: []\nIndex: []\nEmpty DataFrame\nColumns: [4, 820]\nIndex: []\n     820\n820  NaN\nEmpty DataFrame\nColumns: [4, 821]\nIndex: []\n     821\n821  NaN\nEmpty DataFrame\nColumns: [4, 822]\nIndex: []\nEmpty DataFrame\nColumns: []\nIndex: []\nEmpty DataFrame\nColumns: [4, 823]\nIndex: []\nEmpty DataFrame\nColumns: []\nIndex: []\nEmpty DataFrame\nColumns: [4, 824]\nIndex: []\n     824\n824  NaN\nEmpty DataFrame\nColumns: [4, 825]\nIndex: []\nEmpty DataFrame\nColumns: []\nIndex: []\nEmpty DataFrame\nColumns: [4, 826]\nIndex: []\nEmpty DataFrame\nColumns: []\nIndex: []\nEmpty DataFrame\nColumns: [4, 827]\nIndex: []\nEmpty DataFrame\nColumns: []\nIndex: []\nEmpty DataFrame\nColumns: [4, 828]\nIndex: []\n     828\n828  NaN\nEmpty DataFrame\nColumns: [4, 829]\nIndex: []\nEmpty DataFrame\nColumns: []\nIndex: []\n"
     ]
    },
    {
     "name": "stdout",
     "output_type": "stream",
     "text": [
      "Empty DataFrame\nColumns: [4, 830]\nIndex: []\n     830\n830  NaN\nEmpty DataFrame\nColumns: [4, 831]\nIndex: []\nEmpty DataFrame\nColumns: []\nIndex: []\nEmpty DataFrame\nColumns: [4, 832]\nIndex: []\nEmpty DataFrame\nColumns: []\nIndex: []\nEmpty DataFrame\nColumns: [4, 833]\nIndex: []\nEmpty DataFrame\nColumns: []\nIndex: []\nEmpty DataFrame\nColumns: [4, 834]\nIndex: []\nEmpty DataFrame\nColumns: []\nIndex: []\nEmpty DataFrame\nColumns: [4, 835]\nIndex: []\nEmpty DataFrame\nColumns: []\nIndex: []\nEmpty DataFrame\nColumns: [4, 836]\nIndex: []\nEmpty DataFrame\nColumns: []\nIndex: []\nEmpty DataFrame\nColumns: [4, 837]\nIndex: []\nEmpty DataFrame\nColumns: []\nIndex: []\nEmpty DataFrame\nColumns: [4, 838]\nIndex: []\nEmpty DataFrame\nColumns: []\nIndex: []\nEmpty DataFrame\nColumns: [4, 839]\nIndex: []\nEmpty DataFrame\nColumns: []\nIndex: []\nEmpty DataFrame\nColumns: [4, 840]\nIndex: []\nEmpty DataFrame\nColumns: []\nIndex: []\nEmpty DataFrame\nColumns: [4, 841]\nIndex: []\nEmpty DataFrame\nColumns: []\nIndex: []\nEmpty DataFrame\nColumns: [4, 842]\nIndex: []\nEmpty DataFrame\nColumns: []\nIndex: []\nEmpty DataFrame\nColumns: [4, 843]\nIndex: []\n     843\n843  NaN\nEmpty DataFrame\nColumns: [4, 844]\nIndex: []\nEmpty DataFrame\nColumns: []\nIndex: []\nEmpty DataFrame\nColumns: [4, 845]\nIndex: []\n"
     ]
    },
    {
     "name": "stdout",
     "output_type": "stream",
     "text": [
      "Empty DataFrame\nColumns: []\nIndex: []\nEmpty DataFrame\nColumns: [4, 846]\nIndex: []\nEmpty DataFrame\nColumns: []\nIndex: []\nEmpty DataFrame\nColumns: [4, 847]\nIndex: []\nEmpty DataFrame\nColumns: []\nIndex: []\nEmpty DataFrame\nColumns: [4, 848]\nIndex: []\nEmpty DataFrame\nColumns: []\nIndex: []\nEmpty DataFrame\nColumns: [4, 849]\nIndex: []\nEmpty DataFrame\nColumns: []\nIndex: []\nEmpty DataFrame\nColumns: [4, 850]\nIndex: []\nEmpty DataFrame\nColumns: []\nIndex: []\nEmpty DataFrame\nColumns: [4, 851]\nIndex: []\nEmpty DataFrame\nColumns: []\nIndex: []\nEmpty DataFrame\nColumns: [4, 852]\nIndex: []\nEmpty DataFrame\nColumns: []\nIndex: []\nEmpty DataFrame\nColumns: [4, 853]\nIndex: []\nEmpty DataFrame\nColumns: []\nIndex: []\nEmpty DataFrame\nColumns: [4, 854]\nIndex: []\nEmpty DataFrame\nColumns: []\nIndex: []\nEmpty DataFrame\nColumns: [4, 855]\nIndex: []\nEmpty DataFrame\nColumns: []\nIndex: []\nEmpty DataFrame\nColumns: [4, 856]\nIndex: []\nEmpty DataFrame\nColumns: []\nIndex: []\nEmpty DataFrame\nColumns: [4, 857]\nIndex: []\n     857\n857  NaN\nEmpty DataFrame\nColumns: [4, 858]\nIndex: []\n     858\n858  NaN\nEmpty DataFrame\nColumns: [4, 859]\nIndex: []\n     859\n859  NaN\nEmpty DataFrame\nColumns: [4, 860]\nIndex: []\n     860\n860  NaN\n"
     ]
    },
    {
     "name": "stdout",
     "output_type": "stream",
     "text": [
      "Empty DataFrame\nColumns: [4, 861]\nIndex: []\n     861\n861  NaN\nEmpty DataFrame\nColumns: [4, 862]\nIndex: []\nEmpty DataFrame\nColumns: []\nIndex: []\nEmpty DataFrame\nColumns: [4, 863]\nIndex: []\n     863\n863  NaN\nEmpty DataFrame\nColumns: [4, 864]\nIndex: []\n     864\n864  NaN\nEmpty DataFrame\nColumns: [4, 865]\nIndex: []\nEmpty DataFrame\nColumns: []\nIndex: []\nEmpty DataFrame\nColumns: [4, 866]\nIndex: []\nEmpty DataFrame\nColumns: []\nIndex: []\nEmpty DataFrame\nColumns: [4, 867]\nIndex: []\n     867\n867  NaN\nEmpty DataFrame\nColumns: [4, 868]\nIndex: []\nEmpty DataFrame\nColumns: []\nIndex: []\nEmpty DataFrame\nColumns: [4, 869]\nIndex: []\nEmpty DataFrame\nColumns: []\nIndex: []\nEmpty DataFrame\nColumns: [4, 870]\nIndex: []\nEmpty DataFrame\nColumns: []\nIndex: []\nEmpty DataFrame\nColumns: [4, 871]\nIndex: []\nEmpty DataFrame\nColumns: []\nIndex: []\nEmpty DataFrame\nColumns: [4, 872]\nIndex: []\nEmpty DataFrame\nColumns: []\nIndex: []\nEmpty DataFrame\nColumns: [4, 873]\nIndex: []\nEmpty DataFrame\nColumns: []\nIndex: []\nEmpty DataFrame\nColumns: [4, 874]\nIndex: []\nEmpty DataFrame\nColumns: []\nIndex: []\nEmpty DataFrame\nColumns: [4, 875]\nIndex: []\nEmpty DataFrame\nColumns: []\nIndex: []"
     ]
    },
    {
     "name": "stdout",
     "output_type": "stream",
     "text": [
      "\nEmpty DataFrame\nColumns: [4, 876]\nIndex: []\nEmpty DataFrame\nColumns: []\nIndex: []\nEmpty DataFrame\nColumns: [4, 877]\nIndex: []\nEmpty DataFrame\nColumns: []\nIndex: []\nEmpty DataFrame\nColumns: [4, 878]\nIndex: []\nEmpty DataFrame\nColumns: []\nIndex: []\nEmpty DataFrame\nColumns: [4, 879]\nIndex: []\nEmpty DataFrame\nColumns: []\nIndex: []\nEmpty DataFrame\nColumns: [4, 880]\nIndex: []\nEmpty DataFrame\nColumns: []\nIndex: []\nEmpty DataFrame\nColumns: [4, 881]\nIndex: []\nEmpty DataFrame\nColumns: []\nIndex: []\nEmpty DataFrame\nColumns: [4, 882]\nIndex: []\nEmpty DataFrame\nColumns: []\nIndex: []\nEmpty DataFrame\nColumns: [4, 883]\nIndex: []\nEmpty DataFrame\nColumns: []\nIndex: []\nEmpty DataFrame\nColumns: [4, 884]\nIndex: []\nEmpty DataFrame\nColumns: []\nIndex: []\nEmpty DataFrame\nColumns: [4, 885]\nIndex: []\nEmpty DataFrame\nColumns: []\nIndex: []\nEmpty DataFrame\nColumns: [4, 886]\nIndex: []\nEmpty DataFrame\nColumns: []\nIndex: []\nEmpty DataFrame\nColumns: [4, 887]\nIndex: []\nEmpty DataFrame\nColumns: []\nIndex: []\nEmpty DataFrame\nColumns: [4, 888]\nIndex: []\nEmpty DataFrame\nColumns: []\nIndex: []\nEmpty DataFrame\nColumns: [4, 889]\nIndex: []\nEmpty DataFrame\nColumns: []\nIndex: []\nEmpty DataFrame\nColumns: [4, 890]\nIndex: []"
     ]
    },
    {
     "name": "stdout",
     "output_type": "stream",
     "text": [
      "\nEmpty DataFrame\nColumns: []\nIndex: []\nEmpty DataFrame\nColumns: [4, 891]\nIndex: []\n     891\n891  NaN\nEmpty DataFrame\nColumns: [4, 892]\nIndex: []\nEmpty DataFrame\nColumns: []\nIndex: []\nEmpty DataFrame\nColumns: [4, 893]\nIndex: []\n     893\n893  NaN\nEmpty DataFrame\nColumns: [4, 894]\nIndex: []\nEmpty DataFrame\nColumns: []\nIndex: []\nEmpty DataFrame\nColumns: [4, 895]\nIndex: []\nEmpty DataFrame\nColumns: []\nIndex: []\nEmpty DataFrame\nColumns: [4, 896]\nIndex: []\nEmpty DataFrame\nColumns: []\nIndex: []\nEmpty DataFrame\nColumns: [4, 897]\nIndex: []\nEmpty DataFrame\nColumns: []\nIndex: []\nEmpty DataFrame\nColumns: [4, 898]\nIndex: []\n     898\n898  NaN\nEmpty DataFrame\nColumns: [4, 899]\nIndex: []\nEmpty DataFrame\nColumns: []\nIndex: []\nEmpty DataFrame\nColumns: [4, 900]\nIndex: []\nEmpty DataFrame\nColumns: []\nIndex: []\nEmpty DataFrame\nColumns: [4, 901]\nIndex: []\nEmpty DataFrame\nColumns: []\nIndex: []\nEmpty DataFrame\nColumns: [4, 902]\nIndex: []\nEmpty DataFrame\nColumns: []\nIndex: []\nEmpty DataFrame\nColumns: [4, 903]\nIndex: []\n     903\n903  NaN\nEmpty DataFrame\nColumns: [4, 904]\nIndex: []\n     904\n904  NaN\nEmpty DataFrame\nColumns: [4, 905]\nIndex: []\nEmpty DataFrame\nColumns: []\nIndex: []\n"
     ]
    },
    {
     "name": "stdout",
     "output_type": "stream",
     "text": [
      "Empty DataFrame\nColumns: [4, 906]\nIndex: []\nEmpty DataFrame\nColumns: []\nIndex: []\nEmpty DataFrame\nColumns: [4, 907]\nIndex: []\n     907\n907  NaN\nEmpty DataFrame\nColumns: [4, 908]\nIndex: []\nEmpty DataFrame\nColumns: []\nIndex: []\nEmpty DataFrame\nColumns: [4, 909]\nIndex: []\nEmpty DataFrame\nColumns: []\nIndex: []\nEmpty DataFrame\nColumns: [4, 910]\nIndex: []\nEmpty DataFrame\nColumns: []\nIndex: []\nEmpty DataFrame\nColumns: [4, 911]\nIndex: []\nEmpty DataFrame\nColumns: []\nIndex: []\nEmpty DataFrame\nColumns: [4, 912]\nIndex: []\nEmpty DataFrame\nColumns: []\nIndex: []\nEmpty DataFrame\nColumns: [4, 913]\nIndex: []\nEmpty DataFrame\nColumns: []\nIndex: []\nEmpty DataFrame\nColumns: [4, 914]\nIndex: []\nEmpty DataFrame\nColumns: []\nIndex: []\nEmpty DataFrame\nColumns: [4, 915]\nIndex: []\nEmpty DataFrame\nColumns: []\nIndex: []\nEmpty DataFrame\nColumns: [4, 916]\nIndex: []\nEmpty DataFrame\nColumns: []\nIndex: []\nEmpty DataFrame\nColumns: [4, 917]\nIndex: []\nEmpty DataFrame\nColumns: []\nIndex: []\nEmpty DataFrame\nColumns: [4, 918]\nIndex: []\nEmpty DataFrame\nColumns: []\nIndex: []\nEmpty DataFrame\nColumns: [4, 919]\nIndex: []\nEmpty DataFrame\nColumns: []\nIndex: []\nEmpty DataFrame\nColumns: [4, 920]\nIndex: []\nEmpty DataFrame\nColumns: []\nIndex: []"
     ]
    },
    {
     "name": "stdout",
     "output_type": "stream",
     "text": [
      "\nEmpty DataFrame\nColumns: [4, 921]\nIndex: []\nEmpty DataFrame\nColumns: []\nIndex: []\nEmpty DataFrame\nColumns: [4, 922]\nIndex: []\nEmpty DataFrame\nColumns: []\nIndex: []\nEmpty DataFrame\nColumns: [4, 923]\nIndex: []\nEmpty DataFrame\nColumns: []\nIndex: []\nEmpty DataFrame\nColumns: [4, 924]\nIndex: []\nEmpty DataFrame\nColumns: []\nIndex: []\nEmpty DataFrame\nColumns: [4, 925]\nIndex: []\n     925\n925  NaN\nEmpty DataFrame\nColumns: [4, 926]\nIndex: []\nEmpty DataFrame\nColumns: []\nIndex: []\nEmpty DataFrame\nColumns: [4, 927]\nIndex: []\nEmpty DataFrame\nColumns: []\nIndex: []\nEmpty DataFrame\nColumns: [4, 928]\nIndex: []\nEmpty DataFrame\nColumns: []\nIndex: []\nEmpty DataFrame\nColumns: [4, 929]\nIndex: []\nEmpty DataFrame\nColumns: []\nIndex: []\nEmpty DataFrame\nColumns: [4, 930]\nIndex: []\nEmpty DataFrame\nColumns: []\nIndex: []\nEmpty DataFrame\nColumns: [4, 931]\nIndex: []\nEmpty DataFrame\nColumns: []\nIndex: []\nEmpty DataFrame\nColumns: [4, 932]\nIndex: []\n     932\n932  NaN\nEmpty DataFrame\nColumns: [4, 933]\nIndex: []\nEmpty DataFrame\nColumns: []\nIndex: []\n"
     ]
    },
    {
     "name": "stdout",
     "output_type": "stream",
     "text": [
      "Empty DataFrame\nColumns: [4, 934]\nIndex: []\nEmpty DataFrame\nColumns: []\nIndex: []\nEmpty DataFrame\nColumns: [4, 935]\nIndex: []\nEmpty DataFrame\nColumns: []\nIndex: []\nEmpty DataFrame\nColumns: [4, 936]\nIndex: []\nEmpty DataFrame\nColumns: []\nIndex: []\nEmpty DataFrame\nColumns: [4, 937]\nIndex: []\nEmpty DataFrame\nColumns: []\nIndex: []\nEmpty DataFrame\nColumns: [4, 938]\nIndex: []\nEmpty DataFrame\nColumns: []\nIndex: []\nEmpty DataFrame\nColumns: [4, 939]\nIndex: []\nEmpty DataFrame\nColumns: []\nIndex: []\nEmpty DataFrame\nColumns: [4, 940]\nIndex: []\nEmpty DataFrame\nColumns: []\nIndex: []\nEmpty DataFrame\nColumns: [4, 941]\nIndex: []\nEmpty DataFrame\nColumns: []\nIndex: []\nEmpty DataFrame\nColumns: [4, 942]\nIndex: []\nEmpty DataFrame\nColumns: []\nIndex: []\nEmpty DataFrame\nColumns: [4, 943]\nIndex: []\nEmpty DataFrame\nColumns: []\nIndex: []\nEmpty DataFrame\nColumns: [4, 944]\nIndex: []\nEmpty DataFrame\nColumns: []\nIndex: []\nEmpty DataFrame\nColumns: [4, 945]\nIndex: []\nEmpty DataFrame\nColumns: []\nIndex: []\nEmpty DataFrame\nColumns: [4, 946]\nIndex: []\nEmpty DataFrame\nColumns: []\nIndex: []\nEmpty DataFrame\nColumns: [4, 947]\nIndex: []\n     947\n947  NaN\n"
     ]
    },
    {
     "name": "stdout",
     "output_type": "stream",
     "text": [
      "Empty DataFrame\nColumns: [4, 948]\nIndex: []\nEmpty DataFrame\nColumns: []\nIndex: []\nEmpty DataFrame\nColumns: [4, 949]\nIndex: []\n     949\n949  NaN\nEmpty DataFrame\nColumns: [4, 950]\nIndex: []\nEmpty DataFrame\nColumns: []\nIndex: []\nEmpty DataFrame\nColumns: [4, 951]\nIndex: []\nEmpty DataFrame\nColumns: []\nIndex: []\nEmpty DataFrame\nColumns: [4, 952]\nIndex: []\n     952\n952  NaN\nEmpty DataFrame\nColumns: [4, 953]\nIndex: []\nEmpty DataFrame\nColumns: []\nIndex: []\nEmpty DataFrame\nColumns: [4, 954]\nIndex: []\nEmpty DataFrame\nColumns: []\nIndex: []\nEmpty DataFrame\nColumns: [4, 955]\nIndex: []\nEmpty DataFrame\nColumns: []\nIndex: []\nEmpty DataFrame\nColumns: [4, 956]\nIndex: []\nEmpty DataFrame\nColumns: []\nIndex: []\nEmpty DataFrame\nColumns: [4, 957]\nIndex: []\nEmpty DataFrame\nColumns: []\nIndex: []\nEmpty DataFrame\nColumns: [4, 958]\nIndex: []\nEmpty DataFrame\nColumns: []\nIndex: []\nEmpty DataFrame\nColumns: [4, 959]\nIndex: []\nEmpty DataFrame\nColumns: []\nIndex: []\nEmpty DataFrame\nColumns: [4, 960]\nIndex: []\nEmpty DataFrame\nColumns: []\nIndex: []\nEmpty DataFrame\nColumns: [4, 961]\nIndex: []\nEmpty DataFrame\nColumns: []\nIndex: []\n"
     ]
    },
    {
     "name": "stdout",
     "output_type": "stream",
     "text": [
      "Empty DataFrame\nColumns: [4, 962]\nIndex: []\nEmpty DataFrame\nColumns: []\nIndex: []\nEmpty DataFrame\nColumns: [4, 963]\nIndex: []\nEmpty DataFrame\nColumns: []\nIndex: []\nEmpty DataFrame\nColumns: [4, 964]\nIndex: []\nEmpty DataFrame\nColumns: []\nIndex: []\nEmpty DataFrame\nColumns: [4, 965]\nIndex: []\nEmpty DataFrame\nColumns: []\nIndex: []\nEmpty DataFrame\nColumns: [4, 966]\nIndex: []\nEmpty DataFrame\nColumns: []\nIndex: []\nEmpty DataFrame\nColumns: [4, 967]\nIndex: []\nEmpty DataFrame\nColumns: []\nIndex: []\nEmpty DataFrame\nColumns: [4, 968]\nIndex: []\nEmpty DataFrame\nColumns: []\nIndex: []\nEmpty DataFrame\nColumns: [4, 969]\nIndex: []\nEmpty DataFrame\nColumns: []\nIndex: []\nEmpty DataFrame\nColumns: [4, 970]\nIndex: []\nEmpty DataFrame\nColumns: []\nIndex: []\nEmpty DataFrame\nColumns: [4, 971]\nIndex: []\nEmpty DataFrame\nColumns: []\nIndex: []\nEmpty DataFrame\nColumns: [4, 972]\nIndex: []\nEmpty DataFrame\nColumns: []\nIndex: []\nEmpty DataFrame\nColumns: [4, 973]\nIndex: []\nEmpty DataFrame\nColumns: []\nIndex: []\nEmpty DataFrame\nColumns: [4, 974]\nIndex: []\nEmpty DataFrame\nColumns: []\nIndex: []\nEmpty DataFrame\nColumns: [4, 975]\nIndex: []\nEmpty DataFrame\nColumns: []\nIndex: []\nEmpty DataFrame\nColumns: [4, 976]\nIndex: []"
     ]
    },
    {
     "name": "stdout",
     "output_type": "stream",
     "text": [
      "\nEmpty DataFrame\nColumns: []\nIndex: []\nEmpty DataFrame\nColumns: [4, 977]\nIndex: []\nEmpty DataFrame\nColumns: []\nIndex: []\nEmpty DataFrame\nColumns: [4, 978]\nIndex: []\nEmpty DataFrame\nColumns: []\nIndex: []\nEmpty DataFrame\nColumns: [4, 979]\nIndex: []\n     979\n979  NaN\nEmpty DataFrame\nColumns: [4, 980]\nIndex: []\nEmpty DataFrame\nColumns: []\nIndex: []\nEmpty DataFrame\nColumns: [4, 981]\nIndex: []\n     981\n981  NaN\nEmpty DataFrame\nColumns: [4, 982]\nIndex: []\n     982\n982  NaN\nEmpty DataFrame\nColumns: [4, 983]\nIndex: []\nEmpty DataFrame\nColumns: []\nIndex: []\nEmpty DataFrame\nColumns: [4, 984]\nIndex: []\nEmpty DataFrame\nColumns: []\nIndex: []\nEmpty DataFrame\nColumns: [4, 985]\nIndex: []\nEmpty DataFrame\nColumns: []\nIndex: []\nEmpty DataFrame\nColumns: [4, 986]\nIndex: []\n     986\n986  NaN\nEmpty DataFrame\nColumns: [4, 987]\nIndex: []\nEmpty DataFrame\nColumns: []\nIndex: []\n"
     ]
    },
    {
     "name": "stdout",
     "output_type": "stream",
     "text": [
      "Empty DataFrame\nColumns: [4, 988]\nIndex: []\nEmpty DataFrame\nColumns: []\nIndex: []\nEmpty DataFrame\nColumns: [4, 989]\nIndex: []\n     989\n989  NaN\nEmpty DataFrame\nColumns: [4, 990]\nIndex: []\nEmpty DataFrame\nColumns: []\nIndex: []\nEmpty DataFrame\nColumns: [4, 991]\nIndex: []\n     991\n991  NaN\nEmpty DataFrame\nColumns: [4, 992]\nIndex: []\n     992\n992  NaN\nEmpty DataFrame\nColumns: [4, 993]\nIndex: []\nEmpty DataFrame\nColumns: []\nIndex: []\nEmpty DataFrame\nColumns: [4, 994]\nIndex: []\nEmpty DataFrame\nColumns: []\nIndex: []\nEmpty DataFrame\nColumns: [4, 995]\nIndex: []\nEmpty DataFrame\nColumns: []\nIndex: []\nEmpty DataFrame\nColumns: [4, 996]\nIndex: []\nEmpty DataFrame\nColumns: []\nIndex: []\nEmpty DataFrame\nColumns: [4, 997]\nIndex: []\n     997\n997  NaN\nEmpty DataFrame\nColumns: [4, 998]\nIndex: []\n     998\n998  NaN\nEmpty DataFrame\nColumns: [4, 999]\nIndex: []\nEmpty DataFrame\nColumns: []\nIndex: []\n"
     ]
    },
    {
     "name": "stdout",
     "output_type": "stream",
     "text": [
      "Empty DataFrame\nColumns: [4, 1000]\nIndex: []\nEmpty DataFrame\nColumns: []\nIndex: []\nEmpty DataFrame\nColumns: [4, 1001]\nIndex: []\nEmpty DataFrame\nColumns: []\nIndex: []\nEmpty DataFrame\nColumns: [4, 1002]\nIndex: []\nEmpty DataFrame\nColumns: []\nIndex: []\nEmpty DataFrame\nColumns: [4, 1003]\nIndex: []\n      1003\n1003   NaN\nEmpty DataFrame\nColumns: [4, 1004]\nIndex: []\n      1004\n1004   NaN\nEmpty DataFrame\nColumns: [4, 1005]\nIndex: []\n      1005\n1005   NaN\nEmpty DataFrame\nColumns: [4, 1006]\nIndex: []\n      1006\n1006   NaN\nEmpty DataFrame\nColumns: [4, 1007]\nIndex: []\n      1007\n1007   NaN\nEmpty DataFrame\nColumns: [4, 1008]\nIndex: []\nEmpty DataFrame\nColumns: []\nIndex: []\nEmpty DataFrame\nColumns: [4, 1009]\nIndex: []\n      1009\n1009   NaN\nEmpty DataFrame\nColumns: [4, 1010]\nIndex: []\n      1010\n1010   NaN\nEmpty DataFrame\nColumns: [4, 1011]\nIndex: []\nEmpty DataFrame\nColumns: []\nIndex: []\nEmpty DataFrame\nColumns: [4, 1012]\nIndex: []\n      1012\n1012   NaN\nEmpty DataFrame\nColumns: [4, 1013]\nIndex: []\nEmpty DataFrame\nColumns: []\nIndex: []\nEmpty DataFrame\nColumns: [4, 1014]\nIndex: []\n"
     ]
    },
    {
     "name": "stdout",
     "output_type": "stream",
     "text": [
      "      1014\n1014   NaN\nEmpty DataFrame\nColumns: [4, 1015]\nIndex: []\n      1015\n1015   NaN\nEmpty DataFrame\nColumns: [4, 1016]\nIndex: []\n      1016\n1016   NaN\nEmpty DataFrame\nColumns: [4, 1017]\nIndex: []\nEmpty DataFrame\nColumns: []\nIndex: []\nEmpty DataFrame\nColumns: [4, 1018]\nIndex: []\nEmpty DataFrame\nColumns: []\nIndex: []\nEmpty DataFrame\nColumns: [4, 1019]\nIndex: []\nEmpty DataFrame\nColumns: []\nIndex: []\nEmpty DataFrame\nColumns: [4, 1020]\nIndex: []\n      1020\n1020   NaN\nEmpty DataFrame\nColumns: [4, 1021]\nIndex: []\nEmpty DataFrame\nColumns: []\nIndex: []\nEmpty DataFrame\nColumns: [4, 1022]\nIndex: []\nEmpty DataFrame\nColumns: []\nIndex: []\nEmpty DataFrame\nColumns: [4, 1023]\nIndex: []\n      1023\n1023   NaN\nEmpty DataFrame\nColumns: [4, 1024]\nIndex: []\n      1024\n1024   NaN\nEmpty DataFrame\nColumns: [4, 1025]\nIndex: []\n      1025\n1025   NaN\nEmpty DataFrame\nColumns: [4, 1026]\nIndex: []\n      1026\n1026   NaN\nEmpty DataFrame\nColumns: [4, 1027]\nIndex: []\n      1027\n1027   NaN\nEmpty DataFrame\nColumns: [4, 1028]\nIndex: []\n      1028\n1028   NaN\n"
     ]
    },
    {
     "name": "stdout",
     "output_type": "stream",
     "text": [
      "Empty DataFrame\nColumns: [4, 1029]\nIndex: []\n      1029\n1029   NaN\nEmpty DataFrame\nColumns: [4, 1030]\nIndex: []\n      1030\n1030   NaN\nEmpty DataFrame\nColumns: [4, 1031]\nIndex: []\n      1031\n1031   NaN\nEmpty DataFrame\nColumns: [4, 1032]\nIndex: []\n      1032\n1032   NaN\nEmpty DataFrame\nColumns: [4, 1033]\nIndex: []\nEmpty DataFrame\nColumns: []\nIndex: []\nEmpty DataFrame\nColumns: [4, 1034]\nIndex: []\nEmpty DataFrame\nColumns: []\nIndex: []\nEmpty DataFrame\nColumns: [4, 1035]\nIndex: []\n      1035\n1035   NaN\nEmpty DataFrame\nColumns: [4, 1036]\nIndex: []\n      1036\n1036   NaN\nEmpty DataFrame\nColumns: [4, 1037]\nIndex: []\n      1037\n1037   NaN\nEmpty DataFrame\nColumns: [4, 1038]\nIndex: []\n      1038\n1038   NaN\n           5     6\n3014     5,3  23,4\n3025     5,3  23,4\n3026     5,3  23,4\n3027     5,3  23,4\n3028     5,3  23,4\n3029     5,3  23,4\n3036     5,3  23,4\n3037     5,3  23,4\n3038     5,3  23,4\n3030     5,3  23,4\n3031     5,3  23,4\n3032     5,3  23,4\n3033     5,3  23,4\n3034     5,3  23,4\n3035     5,3  23,4\n19657  96,17   3,3\n19654  96,17   3,3\nEmpty DataFrame\nColumns: []\nIndex: []\n        5      7\n3014  5,3  243,6\n3025  5,3  243,6\n3026  5,3  243,6\n3027  5,3  243,6\n3028  5,3  243,6\n3029  5,3  243,6\n3036  5,3  243,6\n3037  5,3  243,6\n3038  5,3  243,6\n3030  5,3  243,6\n3031  5,3  243,6\n3032  5,3  243,6\n3033  5,3  243,6\n3034  5,3  243,6\n3035  5,3  243,6\nEmpty DataFrame\nColumns: []\nIndex: []\n        5  8\n3014  5,3  0\n3025  5,3  0\n3026  5,3  0\n3027  5,3  0\n3028  5,3  0\n3029  5,3  0\n3036  5,3  0\n3037  5,3  0\n3038  5,3  0\n3030  5,3  0\n3031  5,3  0\n3032  5,3  0\n3033  5,3  0\n3034  5,3  0\n3035  5,3  0\nEmpty DataFrame\nColumns: []\nIndex: []\n           5     9\n3014     5,3  5,41\n3025     5,3  5,41\n3026     5,3  5,41\n3027     5,3  5,41\n3028     5,3  5,41\n3029     5,3  5,41\n3036     5,3  5,41\n3037     5,3  5,41\n3038     5,3  5,41\n3030     5,3  5,41\n3031     5,3  5,41\n3032     5,3  5,41\n3033     5,3  5,41\n3034     5,3  5,41\n3035     5,3  5,41\n19657  96,17  4,46\n19654  96,17  4,46\nEmpty DataFrame\nColumns: []\nIndex: []"
     ]
    },
    {
     "name": "stdout",
     "output_type": "stream",
     "text": [
      "\nEmpty DataFrame\nColumns: [5, 10]\nIndex: []\nEmpty DataFrame\nColumns: []\nIndex: []\n       5     11\n3014  5,3  11,1\n3025  5,3  11,1\n3026  5,3  11,1\n3027  5,3  11,1\n3028  5,3  11,1\n3029  5,3  11,1\n3036  5,3  11,1\n3037  5,3  11,1\n3038  5,3  11,1\n3030  5,3  11,1\n3031  5,3  11,1\n3032  5,3  11,1\n3033  5,3  11,1\n3034  5,3  11,1\n3035  5,3  11,1\nEmpty DataFrame\nColumns: []\nIndex: []\nEmpty DataFrame\nColumns: [5, 12]\nIndex: []\nEmpty DataFrame\nColumns: []\nIndex: []\n          5     13\n3014     5,3  62,5\n3025     5,3  62,5\n3026     5,3  62,5\n3027     5,3  62,5\n3028     5,3  62,5\n3029     5,3  62,5\n3036     5,3  62,5\n3037     5,3  62,5\n3038     5,3  62,5\n3030     5,3  62,5\n3031     5,3  62,5\n3032     5,3  62,5\n3033     5,3  62,5\n3034     5,3  62,5\n3035     5,3  62,5\n19657  96,17  1,33\n19654  96,17  1,33\nEmpty DataFrame\nColumns: []\nIndex: []\n          5     14\n3014     5,3  32,5\n3025     5,3  32,5\n3026     5,3  32,5\n3027     5,3  32,5\n3028     5,3  32,5\n3029     5,3  32,5\n3036     5,3  32,5\n3037     5,3  32,5\n3038     5,3  32,5\n3030     5,3  32,5\n3031     5,3  32,5\n3032     5,3  32,5\n3033     5,3  32,5\n3034     5,3  32,5\n3035     5,3  32,5\n19657  96,17  18,6\n19654  96,17  18,6\nEmpty DataFrame\nColumns: []\nIndex: []\n          5      15\n3014     5,3  21,59\n3025     5,3  21,59\n3026     5,3  21,59\n3027     5,3  21,59\n3028     5,3  21,59\n3029     5,3  21,59\n3036     5,3  21,59\n3037     5,3  21,59\n3038     5,3  21,59\n3030     5,3  21,59\n3031     5,3  21,59\n3032     5,3  21,59\n3033     5,3  21,59\n3034     5,3  21,59\n3035     5,3  21,59\n19657  96,17   10,8\n19654  96,17   10,8\nEmpty DataFrame\nColumns: []\nIndex: []\n       5     16\n3014  5,3  15,5\n3025  5,3  15,5\n3026  5,3  15,5\n3027  5,3  15,5\n3028  5,3  15,5\n3029  5,3  15,5\n3036  5,3  15,5\n3037  5,3  15,5\n3038  5,3  15,5\n3030  5,3  15,5\n3031  5,3  15,5\n3032  5,3  15,5\n3033  5,3  15,5\n3034  5,3  15,5\n3035  5,3  15,5\nEmpty DataFrame\nColumns: []\nIndex: []\n       5     17\n3014  5,3  42,5\n3025  5,3  42,5\n3026  5,3  42,5\n3027  5,3  42,5\n3028  5,3  42,5\n3029  5,3  42,5\n3036  5,3  42,5\n3037  5,3  42,5\n3038  5,3  42,5\n3030  5,3  42,5\n3031  5,3  42,5\n3032  5,3  42,5\n3033  5,3  42,5\n3034  5,3  42,5\n3035  5,3  42,5\nEmpty DataFrame\nColumns: []\nIndex: []\n       5     18\n3014  5,3  15,2\n3025  5,3  15,2\n3026  5,3  15,2\n3027  5,3  15,2\n3028  5,3  15,2\n3029  5,3  15,2\n3036  5,3  15,2\n3037  5,3  15,2\n3038  5,3  15,2\n3030  5,3  15,2\n3031  5,3  15,2\n3032  5,3  15,2\n3033  5,3  15,2\n3034  5,3  15,2\n3035  5,3  15,2\nEmpty DataFrame\nColumns: []\nIndex: []\nEmpty DataFrame\nColumns: [5, 19]\nIndex: []\n    19\n19 NaN\nEmpty DataFrame\nColumns: [5, 20]\nIndex: []\nEmpty DataFrame\nColumns: []\nIndex: []\nEmpty DataFrame\nColumns: [5, 21]\nIndex: []\nEmpty DataFrame\nColumns: []\nIndex: []\nEmpty DataFrame\nColumns: [5, 22]\nIndex: []\nEmpty DataFrame\nColumns: []\nIndex: []\n"
     ]
    },
    {
     "name": "stdout",
     "output_type": "stream",
     "text": [
      "Empty DataFrame\nColumns: [5, 23]\nIndex: []\nEmpty DataFrame\nColumns: []\nIndex: []\n          5   24\n19657  96,17  26\n19654  96,17  26\nEmpty DataFrame\nColumns: []\nIndex: []\nEmpty DataFrame\nColumns: [5, 25]\nIndex: []\n    25\n25 NaN\nEmpty DataFrame\nColumns: [5, 26]\nIndex: []\nEmpty DataFrame\nColumns: []\nIndex: []\nEmpty DataFrame\nColumns: [5, 27]\nIndex: []\nEmpty DataFrame\nColumns: []\nIndex: []\n          5     28\n19657  96,17  1,53\n19654  96,17  1,53\nEmpty DataFrame\nColumns: []\nIndex: []\n          5     29\n19657  96,17  8,85\n19654  96,17  8,85\nEmpty DataFrame\nColumns: []\nIndex: []\n          5   30\n19657  96,17  13\n19654  96,17  13\nEmpty DataFrame\nColumns: []\nIndex: []\n          5     31\n19657  96,17  4,37\n19654  96,17  4,37\nEmpty DataFrame\nColumns: []\nIndex: []\n          5     32\n19657  96,17  16,9\n19654  96,17  16,9\nEmpty DataFrame\nColumns: []\nIndex: []\nEmpty DataFrame\nColumns: [5, 33]\nIndex: []\n    33\n33 NaN\nEmpty DataFrame\nColumns: [5, 34]\nIndex: []\n    34\n34 NaN\nEmpty DataFrame\nColumns: [5, 35]\nIndex: []\n    35\n35 NaN\nEmpty DataFrame\nColumns: [5, 36]\nIndex: []\n    36\n36 NaN\n"
     ]
    },
    {
     "name": "stdout",
     "output_type": "stream",
     "text": [
      "Empty DataFrame\nColumns: [5, 37]\nIndex: []\n    37\n37 NaN\nEmpty DataFrame\nColumns: [5, 38]\nIndex: []\n    38\n38 NaN\nEmpty DataFrame\nColumns: [5, 39]\nIndex: []\n    39\n39 NaN\nEmpty DataFrame\nColumns: [5, 40]\nIndex: []\n    40\n40 NaN\nEmpty DataFrame\nColumns: [5, 41]\nIndex: []\nEmpty DataFrame\nColumns: []\nIndex: []\nEmpty DataFrame\nColumns: [5, 42]\nIndex: []\nEmpty DataFrame\nColumns: []\nIndex: []\nEmpty DataFrame\nColumns: [5, 43]\nIndex: []\nEmpty DataFrame\nColumns: []\nIndex: []\nEmpty DataFrame\nColumns: [5, 44]\nIndex: []\nEmpty DataFrame\nColumns: []\nIndex: []\nEmpty DataFrame\nColumns: [5, 45]\nIndex: []\nEmpty DataFrame\nColumns: []\nIndex: []\nEmpty DataFrame\nColumns: [5, 46]\nIndex: []\nEmpty DataFrame\nColumns: []\nIndex: []\nEmpty DataFrame\nColumns: [5, 47]\nIndex: []\nEmpty DataFrame\nColumns: []\nIndex: []\nEmpty DataFrame\nColumns: [5, 48]\nIndex: []\nEmpty DataFrame\nColumns: []\nIndex: []\nEmpty DataFrame\nColumns: [5, 49]\nIndex: []\n    49\n49 NaN\nEmpty DataFrame\nColumns: [5, 50]\nIndex: []\nEmpty DataFrame\nColumns: []\nIndex: []\nEmpty DataFrame\nColumns: [5, 51]\nIndex: []\nEmpty DataFrame\nColumns: []\nIndex: []\n"
     ]
    },
    {
     "name": "stdout",
     "output_type": "stream",
     "text": [
      "Empty DataFrame\nColumns: [5, 52]\nIndex: []\nEmpty DataFrame\nColumns: []\nIndex: []\nEmpty DataFrame\nColumns: [5, 53]\nIndex: []\nEmpty DataFrame\nColumns: []\nIndex: []\nEmpty DataFrame\nColumns: [5, 54]\nIndex: []\nEmpty DataFrame\nColumns: []\nIndex: []\nEmpty DataFrame\nColumns: [5, 55]\nIndex: []\nEmpty DataFrame\nColumns: []\nIndex: []\nEmpty DataFrame\nColumns: [5, 56]\nIndex: []\nEmpty DataFrame\nColumns: []\nIndex: []\nEmpty DataFrame\nColumns: [5, 57]\nIndex: []\nEmpty DataFrame\nColumns: []\nIndex: []\nEmpty DataFrame\nColumns: [5, 58]\nIndex: []\nEmpty DataFrame\nColumns: []\nIndex: []\nEmpty DataFrame\nColumns: [5, 59]\nIndex: []\nEmpty DataFrame\nColumns: []\nIndex: []\nEmpty DataFrame\nColumns: [5, 60]\nIndex: []\nEmpty DataFrame\nColumns: []\nIndex: []\nEmpty DataFrame\nColumns: [5, 61]\nIndex: []\nEmpty DataFrame\nColumns: []\nIndex: []\nEmpty DataFrame\nColumns: [5, 62]\nIndex: []\nEmpty DataFrame\nColumns: []\nIndex: []\nEmpty DataFrame\nColumns: [5, 63]\nIndex: []\nEmpty DataFrame\nColumns: []\nIndex: []\nEmpty DataFrame\nColumns: [5, 64]\nIndex: []\nEmpty DataFrame\nColumns: []\nIndex: []\nEmpty DataFrame\nColumns: [5, 65]\nIndex: []\nEmpty DataFrame\nColumns: []\nIndex: []\nEmpty DataFrame\nColumns: [5, 66]\nIndex: []\nEmpty DataFrame\nColumns: []\nIndex: []\n"
     ]
    },
    {
     "name": "stdout",
     "output_type": "stream",
     "text": [
      "Empty DataFrame\nColumns: [5, 67]\nIndex: []\nEmpty DataFrame\nColumns: []\nIndex: []\nEmpty DataFrame\nColumns: [5, 68]\nIndex: []\nEmpty DataFrame\nColumns: []\nIndex: []\nEmpty DataFrame\nColumns: [5, 69]\nIndex: []\n    69\n69 NaN\nEmpty DataFrame\nColumns: [5, 70]\nIndex: []\n    70\n70 NaN\nEmpty DataFrame\nColumns: [5, 71]\nIndex: []\nEmpty DataFrame\nColumns: []\nIndex: []\nEmpty DataFrame\nColumns: [5, 72]\nIndex: []\nEmpty DataFrame\nColumns: []\nIndex: []\nEmpty DataFrame\nColumns: [5, 73]\nIndex: []\nEmpty DataFrame\nColumns: []\nIndex: []\nEmpty DataFrame\nColumns: [5, 74]\nIndex: []\n    74\n74 NaN\nEmpty DataFrame\nColumns: [5, 75]\nIndex: []\nEmpty DataFrame\nColumns: []\nIndex: []\nEmpty DataFrame\nColumns: [5, 76]\nIndex: []\nEmpty DataFrame\nColumns: []\nIndex: []\nEmpty DataFrame\nColumns: [5, 77]\nIndex: []\n    77\n77 NaN\nEmpty DataFrame\nColumns: [5, 78]\nIndex: []\n    78\n78 NaN\nEmpty DataFrame\nColumns: [5, 79]\nIndex: []\nEmpty DataFrame\nColumns: []\nIndex: []\nEmpty DataFrame\nColumns: [5, 80]\nIndex: []\nEmpty DataFrame\nColumns: []\nIndex: []\nEmpty DataFrame\nColumns: [5, 81]\nIndex: []\nEmpty DataFrame\nColumns: []\nIndex: []\n"
     ]
    },
    {
     "name": "stdout",
     "output_type": "stream",
     "text": [
      "Empty DataFrame\nColumns: [5, 82]\nIndex: []\n    82\n82 NaN\nEmpty DataFrame\nColumns: [5, 83]\nIndex: []\nEmpty DataFrame\nColumns: []\nIndex: []\nEmpty DataFrame\nColumns: [5, 84]\nIndex: []\nEmpty DataFrame\nColumns: []\nIndex: []\nEmpty DataFrame\nColumns: [5, 85]\nIndex: []\n    85\n85 NaN\nEmpty DataFrame\nColumns: [5, 86]\nIndex: []\n    86\n86 NaN\nEmpty DataFrame\nColumns: [5, 87]\nIndex: []\n    87\n87 NaN\n       5     88\n3014  5,3  2,41\n3025  5,3  2,41\n3026  5,3  2,41\n3027  5,3  2,41\n3028  5,3  2,41\n3029  5,3  2,41\n3036  5,3  2,41\n3037  5,3  2,41\n3038  5,3  2,41\n3030  5,3  2,41\n3031  5,3  2,41\n3032  5,3  2,41\n3033  5,3  2,41\n3034  5,3  2,41\n3035  5,3  2,41\nEmpty DataFrame\nColumns: []\nIndex: []\n       5     89\n3014  5,3  2,11\n3025  5,3  2,11\n3026  5,3  2,11\n3027  5,3  2,11\n3028  5,3  2,11\n3029  5,3  2,11\n3036  5,3  2,11\n3037  5,3  2,11\n3038  5,3  2,11\n3030  5,3  2,11\n3031  5,3  2,11\n3032  5,3  2,11\n3033  5,3  2,11\n3034  5,3  2,11\n3035  5,3  2,11\nEmpty DataFrame\nColumns: []\nIndex: []\n       5     90\n3014  5,3  4,97\n3025  5,3  4,97\n3026  5,3  4,97\n3027  5,3  4,97\n3028  5,3  4,97\n3029  5,3  4,97\n3036  5,3  4,97\n3037  5,3  4,97\n3038  5,3  4,97\n3030  5,3  4,97\n3031  5,3  4,97\n3032  5,3  4,97\n3033  5,3  4,97\n3034  5,3  4,97\n3035  5,3  4,97\nEmpty DataFrame\nColumns: []\nIndex: []\nEmpty DataFrame\nColumns: [5, 91]\nIndex: []\nEmpty DataFrame\nColumns: []\nIndex: []\nEmpty DataFrame\nColumns: [5, 92]\nIndex: []\nEmpty DataFrame\nColumns: []\nIndex: []\nEmpty DataFrame\nColumns: [5, 93]\nIndex: []\nEmpty DataFrame\nColumns: []\nIndex: []\nEmpty DataFrame\nColumns: [5, 94]\nIndex: []\n    94\n94 NaN\n          5    95\n19657  96,17  1.0\n19654  96,17  1.0\n    95\n95 NaN\n"
     ]
    },
    {
     "name": "stdout",
     "output_type": "stream",
     "text": [
      "          5     96\n19657  96,17  40,6\n19654  96,17  40,6\nEmpty DataFrame\nColumns: []\nIndex: []\n          5    97\n3014     5,3  0.0\n3025     5,3  0.0\n3026     5,3  0.0\n3027     5,3  0.0\n3028     5,3  0.0\n3029     5,3  0.0\n3036     5,3  0.0\n3037     5,3  0.0\n3038     5,3  0.0\n3030     5,3  0.0\n3031     5,3  0.0\n3032     5,3  0.0\n3033     5,3  0.0\n3034     5,3  0.0\n3035     5,3  0.0\n19657  96,17  0.0\n19654  96,17  0.0\n    97\n97 NaN\nEmpty DataFrame\nColumns: [5, 98]\nIndex: []\n    98\n98 NaN\nEmpty DataFrame\nColumns: [5, 99]\nIndex: []\nEmpty DataFrame\nColumns: []\nIndex: []\nEmpty DataFrame\nColumns: [5, 100]\nIndex: []\n     100\n100  NaN\nEmpty DataFrame\nColumns: [5, 101]\nIndex: []\nEmpty DataFrame\nColumns: []\nIndex: []\nEmpty DataFrame\nColumns: [5, 102]\nIndex: []\nEmpty DataFrame\nColumns: []\nIndex: []\nEmpty DataFrame\nColumns: [5, 103]\nIndex: []\nEmpty DataFrame\nColumns: []\nIndex: []\nEmpty DataFrame\nColumns: [5, 104]\nIndex: []\nEmpty DataFrame\nColumns: []\nIndex: []\nEmpty DataFrame\nColumns: [5, 105]\nIndex: []\n     105\n105  NaN\nEmpty DataFrame\nColumns: [5, 106]\nIndex: []\n     106\n106  NaN\nEmpty DataFrame\nColumns: [5, 107]\nIndex: []\n     107\n107  NaN\nEmpty DataFrame\nColumns: [5, 108]\nIndex: []\n     108\n108  NaN\nEmpty DataFrame\nColumns: [5, 109]\nIndex: []\n     109\n109  NaN\n"
     ]
    },
    {
     "name": "stdout",
     "output_type": "stream",
     "text": [
      "Empty DataFrame\nColumns: [5, 110]\nIndex: []\n     110\n110  NaN\nEmpty DataFrame\nColumns: [5, 111]\nIndex: []\n     111\n111  NaN\nEmpty DataFrame\nColumns: [5, 112]\nIndex: []\nEmpty DataFrame\nColumns: []\nIndex: []\nEmpty DataFrame\nColumns: [5, 113]\nIndex: []\nEmpty DataFrame\nColumns: []\nIndex: []\nEmpty DataFrame\nColumns: [5, 114]\nIndex: []\nEmpty DataFrame\nColumns: []\nIndex: []\nEmpty DataFrame\nColumns: [5, 115]\nIndex: []\nEmpty DataFrame\nColumns: []\nIndex: []\nEmpty DataFrame\nColumns: [5, 116]\nIndex: []\nEmpty DataFrame\nColumns: []\nIndex: []\nEmpty DataFrame\nColumns: [5, 117]\nIndex: []\n     117\n117  NaN\nEmpty DataFrame\nColumns: [5, 118]\nIndex: []\n     118\n118  NaN\nEmpty DataFrame\nColumns: [5, 119]\nIndex: []\n     119\n119  NaN\nEmpty DataFrame\nColumns: [5, 120]\nIndex: []\n     120\n120  NaN\nEmpty DataFrame\nColumns: [5, 121]\nIndex: []\n     121\n121  NaN\nEmpty DataFrame\nColumns: [5, 122]\nIndex: []\n     122\n122  NaN\nEmpty DataFrame\nColumns: [5, 123]\nIndex: []\n     123\n123  NaN\nEmpty DataFrame\nColumns: [5, 124]\nIndex: []\n     124\n124  NaN\n"
     ]
    },
    {
     "name": "stdout",
     "output_type": "stream",
     "text": [
      "Empty DataFrame\nColumns: [5, 125]\nIndex: []\n     125\n125  NaN\nEmpty DataFrame\nColumns: [5, 126]\nIndex: []\nEmpty DataFrame\nColumns: []\nIndex: []\nEmpty DataFrame\nColumns: [5, 127]\nIndex: []\nEmpty DataFrame\nColumns: []\nIndex: []\nEmpty DataFrame\nColumns: [5, 128]\nIndex: []\nEmpty DataFrame\nColumns: []\nIndex: []\nEmpty DataFrame\nColumns: [5, 129]\nIndex: []\nEmpty DataFrame\nColumns: []\nIndex: []\nEmpty DataFrame\nColumns: [5, 130]\nIndex: []\n     130\n130  NaN\nEmpty DataFrame\nColumns: [5, 131]\nIndex: []\nEmpty DataFrame\nColumns: []\nIndex: []\nEmpty DataFrame\nColumns: [5, 132]\nIndex: []\nEmpty DataFrame\nColumns: []\nIndex: []\nEmpty DataFrame\nColumns: [5, 133]\nIndex: []\nEmpty DataFrame\nColumns: []\nIndex: []\nEmpty DataFrame\nColumns: [5, 134]\nIndex: []\nEmpty DataFrame\nColumns: []\nIndex: []\nEmpty DataFrame\nColumns: [5, 135]\nIndex: []\nEmpty DataFrame\nColumns: []\nIndex: []\nEmpty DataFrame\nColumns: [5, 136]\nIndex: []\nEmpty DataFrame\nColumns: []\nIndex: []\nEmpty DataFrame\nColumns: [5, 137]\nIndex: []\nEmpty DataFrame\nColumns: []\nIndex: []\nEmpty DataFrame\nColumns: [5, 138]\nIndex: []\nEmpty DataFrame\nColumns: []\nIndex: []\nEmpty DataFrame\nColumns: [5, 139]\nIndex: []\nEmpty DataFrame\nColumns: []\nIndex: []\n"
     ]
    },
    {
     "name": "stdout",
     "output_type": "stream",
     "text": [
      "Empty DataFrame\nColumns: [5, 140]\nIndex: []\nEmpty DataFrame\nColumns: []\nIndex: []\nEmpty DataFrame\nColumns: [5, 141]\nIndex: []\nEmpty DataFrame\nColumns: []\nIndex: []\nEmpty DataFrame\nColumns: [5, 142]\nIndex: []\nEmpty DataFrame\nColumns: []\nIndex: []\nEmpty DataFrame\nColumns: [5, 143]\nIndex: []\nEmpty DataFrame\nColumns: []\nIndex: []\nEmpty DataFrame\nColumns: [5, 144]\nIndex: []\nEmpty DataFrame\nColumns: []\nIndex: []\nEmpty DataFrame\nColumns: [5, 145]\nIndex: []\nEmpty DataFrame\nColumns: []\nIndex: []\nEmpty DataFrame\nColumns: [5, 146]\nIndex: []\nEmpty DataFrame\nColumns: []\nIndex: []\nEmpty DataFrame\nColumns: [5, 147]\nIndex: []\nEmpty DataFrame\nColumns: []\nIndex: []\nEmpty DataFrame\nColumns: [5, 148]\nIndex: []\nEmpty DataFrame\nColumns: []\nIndex: []\nEmpty DataFrame\nColumns: [5, 149]\nIndex: []\nEmpty DataFrame\nColumns: []\nIndex: []\nEmpty DataFrame\nColumns: [5, 150]\nIndex: []\nEmpty DataFrame\nColumns: []\nIndex: []\nEmpty DataFrame\nColumns: [5, 151]\nIndex: []\nEmpty DataFrame\nColumns: []\nIndex: []\nEmpty DataFrame\nColumns: [5, 152]\nIndex: []\n     152\n152  NaN\nEmpty DataFrame\nColumns: [5, 153]\nIndex: []\n     153\n153  NaN\nEmpty DataFrame\nColumns: [5, 154]\nIndex: []\n     154\n154  NaN\n"
     ]
    },
    {
     "name": "stdout",
     "output_type": "stream",
     "text": [
      "Empty DataFrame\nColumns: [5, 155]\nIndex: []\nEmpty DataFrame\nColumns: []\nIndex: []\nEmpty DataFrame\nColumns: [5, 156]\nIndex: []\nEmpty DataFrame\nColumns: []\nIndex: []\nEmpty DataFrame\nColumns: [5, 157]\nIndex: []\nEmpty DataFrame\nColumns: []\nIndex: []\nEmpty DataFrame\nColumns: [5, 158]\nIndex: []\nEmpty DataFrame\nColumns: []\nIndex: []\nEmpty DataFrame\nColumns: [5, 159]\nIndex: []\nEmpty DataFrame\nColumns: []\nIndex: []\nEmpty DataFrame\nColumns: [5, 160]\nIndex: []\nEmpty DataFrame\nColumns: []\nIndex: []\nEmpty DataFrame\nColumns: [5, 161]\nIndex: []\nEmpty DataFrame\nColumns: []\nIndex: []\nEmpty DataFrame\nColumns: [5, 162]\nIndex: []\n     162\n162  NaN\nEmpty DataFrame\nColumns: [5, 163]\nIndex: []\nEmpty DataFrame\nColumns: []\nIndex: []\nEmpty DataFrame\nColumns: [5, 164]\nIndex: []\nEmpty DataFrame\nColumns: []\nIndex: []\nEmpty DataFrame\nColumns: [5, 165]\nIndex: []\n     165\n165  NaN\nEmpty DataFrame\nColumns: [5, 166]\nIndex: []\nEmpty DataFrame\nColumns: []\nIndex: []\nEmpty DataFrame\nColumns: [5, 167]\nIndex: []\nEmpty DataFrame\nColumns: []\nIndex: []\nEmpty DataFrame\nColumns: [5, 168]\nIndex: []\nEmpty DataFrame\nColumns: []\nIndex: []\nEmpty DataFrame\nColumns: [5, 169]\nIndex: []\nEmpty DataFrame\nColumns: []\nIndex: []\n"
     ]
    },
    {
     "name": "stdout",
     "output_type": "stream",
     "text": [
      "Empty DataFrame\nColumns: [5, 170]\nIndex: []\nEmpty DataFrame\nColumns: []\nIndex: []\nEmpty DataFrame\nColumns: [5, 171]\nIndex: []\nEmpty DataFrame\nColumns: []\nIndex: []\nEmpty DataFrame\nColumns: [5, 172]\nIndex: []\nEmpty DataFrame\nColumns: []\nIndex: []\nEmpty DataFrame\nColumns: [5, 173]\nIndex: []\nEmpty DataFrame\nColumns: []\nIndex: []\nEmpty DataFrame\nColumns: [5, 174]\nIndex: []\nEmpty DataFrame\nColumns: []\nIndex: []\nEmpty DataFrame\nColumns: [5, 175]\nIndex: []\nEmpty DataFrame\nColumns: []\nIndex: []\nEmpty DataFrame\nColumns: [5, 176]\nIndex: []\n     176\n176  NaN\nEmpty DataFrame\nColumns: [5, 177]\nIndex: []\nEmpty DataFrame\nColumns: []\nIndex: []\nEmpty DataFrame\nColumns: [5, 178]\nIndex: []\nEmpty DataFrame\nColumns: []\nIndex: []\nEmpty DataFrame\nColumns: [5, 179]\nIndex: []\nEmpty DataFrame\nColumns: []\nIndex: []\nEmpty DataFrame\nColumns: [5, 180]\nIndex: []\nEmpty DataFrame\nColumns: []\nIndex: []\nEmpty DataFrame\nColumns: [5, 181]\nIndex: []\nEmpty DataFrame\nColumns: []\nIndex: []\nEmpty DataFrame\nColumns: [5, 182]\nIndex: []\nEmpty DataFrame\nColumns: []\nIndex: []\nEmpty DataFrame\nColumns: [5, 183]\nIndex: []\n     183\n183  NaN"
     ]
    },
    {
     "name": "stdout",
     "output_type": "stream",
     "text": [
      "\nEmpty DataFrame\nColumns: [5, 184]\nIndex: []\nEmpty DataFrame\nColumns: []\nIndex: []\nEmpty DataFrame\nColumns: [5, 185]\nIndex: []\nEmpty DataFrame\nColumns: []\nIndex: []\nEmpty DataFrame\nColumns: [5, 186]\nIndex: []\nEmpty DataFrame\nColumns: []\nIndex: []\nEmpty DataFrame\nColumns: [5, 187]\nIndex: []\nEmpty DataFrame\nColumns: []\nIndex: []\nEmpty DataFrame\nColumns: [5, 188]\nIndex: []\nEmpty DataFrame\nColumns: []\nIndex: []\nEmpty DataFrame\nColumns: [5, 189]\nIndex: []\nEmpty DataFrame\nColumns: []\nIndex: []\nEmpty DataFrame\nColumns: [5, 190]\nIndex: []\nEmpty DataFrame\nColumns: []\nIndex: []\nEmpty DataFrame\nColumns: [5, 191]\nIndex: []\n     191\n191  NaN\nEmpty DataFrame\nColumns: [5, 192]\nIndex: []\n     192\n192  NaN\nEmpty DataFrame\nColumns: [5, 193]\nIndex: []\n     193\n193  NaN\nEmpty DataFrame\nColumns: [5, 194]\nIndex: []\n     194\n194  NaN\nEmpty DataFrame\nColumns: [5, 195]\nIndex: []\nEmpty DataFrame\nColumns: []\nIndex: []\nEmpty DataFrame\nColumns: [5, 196]\nIndex: []\n     196\n196  NaN\nEmpty DataFrame\nColumns: [5, 197]\nIndex: []\n     197\n197  NaN\nEmpty DataFrame\nColumns: [5, 198]\nIndex: []"
     ]
    },
    {
     "name": "stdout",
     "output_type": "stream",
     "text": [
      "\n     198\n198  NaN\nEmpty DataFrame\nColumns: [5, 199]\nIndex: []\n     199\n199  NaN\nEmpty DataFrame\nColumns: [5, 200]\nIndex: []\n     200\n200  NaN\nEmpty DataFrame\nColumns: [5, 201]\nIndex: []\n     201\n201  NaN\nEmpty DataFrame\nColumns: [5, 202]\nIndex: []\nEmpty DataFrame\nColumns: []\nIndex: []\nEmpty DataFrame\nColumns: [5, 203]\nIndex: []\nEmpty DataFrame\nColumns: []\nIndex: []\nEmpty DataFrame\nColumns: [5, 204]\nIndex: []\nEmpty DataFrame\nColumns: []\nIndex: []\nEmpty DataFrame\nColumns: [5, 205]\nIndex: []\nEmpty DataFrame\nColumns: []\nIndex: []\nEmpty DataFrame\nColumns: [5, 206]\nIndex: []\nEmpty DataFrame\nColumns: []\nIndex: []\nEmpty DataFrame\nColumns: [5, 207]\nIndex: []\nEmpty DataFrame\nColumns: []\nIndex: []\nEmpty DataFrame\nColumns: [5, 208]\nIndex: []\nEmpty DataFrame\nColumns: []\nIndex: []\nEmpty DataFrame\nColumns: [5, 209]\nIndex: []\nEmpty DataFrame\nColumns: []\nIndex: []\nEmpty DataFrame\nColumns: [5, 210]\nIndex: []\nEmpty DataFrame\nColumns: []\nIndex: []\nEmpty DataFrame\nColumns: [5, 211]\nIndex: []\nEmpty DataFrame\nColumns: []\nIndex: []\nEmpty DataFrame\nColumns: [5, 212]\nIndex: []\nEmpty DataFrame\nColumns: []\nIndex: []\nEmpty DataFrame\nColumns: [5, 213]\nIndex: []\nEmpty DataFrame\nColumns: []\nIndex: []\n"
     ]
    },
    {
     "name": "stdout",
     "output_type": "stream",
     "text": [
      "Empty DataFrame\nColumns: [5, 214]\nIndex: []\nEmpty DataFrame\nColumns: []\nIndex: []\nEmpty DataFrame\nColumns: [5, 215]\nIndex: []\nEmpty DataFrame\nColumns: []\nIndex: []\nEmpty DataFrame\nColumns: [5, 216]\nIndex: []\nEmpty DataFrame\nColumns: []\nIndex: []\nEmpty DataFrame\nColumns: [5, 217]\nIndex: []\nEmpty DataFrame\nColumns: []\nIndex: []\nEmpty DataFrame\nColumns: [5, 218]\nIndex: []\n     218\n218  NaN\nEmpty DataFrame\nColumns: [5, 219]\nIndex: []\n     219\n219  NaN\nEmpty DataFrame\nColumns: [5, 220]\nIndex: []\n     220\n220  NaN\nEmpty DataFrame\nColumns: [5, 221]\nIndex: []\n     221\n221  NaN\nEmpty DataFrame\nColumns: [5, 222]\nIndex: []\n     222\n222  NaN\nEmpty DataFrame\nColumns: [5, 223]\nIndex: []\nEmpty DataFrame\nColumns: []\nIndex: []\nEmpty DataFrame\nColumns: [5, 224]\nIndex: []\nEmpty DataFrame\nColumns: []\nIndex: []\nEmpty DataFrame\nColumns: [5, 225]\nIndex: []\nEmpty DataFrame\nColumns: []\nIndex: []\nEmpty DataFrame\nColumns: [5, 226]\nIndex: []\n     226\n226  NaN\nEmpty DataFrame\nColumns: [5, 227]\nIndex: []\n     227\n227  NaN\nEmpty DataFrame\nColumns: [5, 228]\nIndex: []\n     228\n228  NaN\n"
     ]
    },
    {
     "name": "stdout",
     "output_type": "stream",
     "text": [
      "Empty DataFrame\nColumns: [5, 229]\nIndex: []\nEmpty DataFrame\nColumns: []\nIndex: []\nEmpty DataFrame\nColumns: [5, 230]\nIndex: []\n     230\n230  NaN\nEmpty DataFrame\nColumns: [5, 231]\nIndex: []\n     231\n231  NaN\nEmpty DataFrame\nColumns: [5, 232]\nIndex: []\n     232\n232  NaN\nEmpty DataFrame\nColumns: [5, 233]\nIndex: []\nEmpty DataFrame\nColumns: []\nIndex: []\nEmpty DataFrame\nColumns: [5, 234]\nIndex: []\n     234\n234  NaN\nEmpty DataFrame\nColumns: [5, 235]\nIndex: []\n     235\n235  NaN\nEmpty DataFrame\nColumns: [5, 236]\nIndex: []\nEmpty DataFrame\nColumns: []\nIndex: []\nEmpty DataFrame\nColumns: [5, 237]\nIndex: []\n     237\n237  NaN\nEmpty DataFrame\nColumns: [5, 238]\nIndex: []\n     238\n238  NaN\nEmpty DataFrame\nColumns: [5, 239]\nIndex: []\nEmpty DataFrame\nColumns: []\nIndex: []\nEmpty DataFrame\nColumns: [5, 240]\nIndex: []\nEmpty DataFrame\nColumns: []\nIndex: []\nEmpty DataFrame\nColumns: [5, 241]\nIndex: []\nEmpty DataFrame\nColumns: []\nIndex: []\n"
     ]
    },
    {
     "name": "stdout",
     "output_type": "stream",
     "text": [
      "Empty DataFrame\nColumns: [5, 242]\nIndex: []\nEmpty DataFrame\nColumns: []\nIndex: []\nEmpty DataFrame\nColumns: [5, 243]\nIndex: []\nEmpty DataFrame\nColumns: []\nIndex: []\nEmpty DataFrame\nColumns: [5, 244]\nIndex: []\n     244\n244  NaN\nEmpty DataFrame\nColumns: [5, 245]\nIndex: []\nEmpty DataFrame\nColumns: []\nIndex: []\nEmpty DataFrame\nColumns: [5, 246]\nIndex: []\n     246\n246  NaN\nEmpty DataFrame\nColumns: [5, 247]\nIndex: []\n     247\n247  NaN\nEmpty DataFrame\nColumns: [5, 248]\nIndex: []\n     248\n248  NaN\nEmpty DataFrame\nColumns: [5, 249]\nIndex: []\nEmpty DataFrame\nColumns: []\nIndex: []\nEmpty DataFrame\nColumns: [5, 250]\nIndex: []\n     250\n250  NaN\nEmpty DataFrame\nColumns: [5, 251]\nIndex: []\n     251\n251  NaN\nEmpty DataFrame\nColumns: [5, 252]\nIndex: []\nEmpty DataFrame\nColumns: []\nIndex: []\nEmpty DataFrame\nColumns: [5, 253]\nIndex: []\n     253\n253  NaN\nEmpty DataFrame\nColumns: [5, 254]\nIndex: []\n     254\n254  NaN\nEmpty DataFrame\nColumns: [5, 255]\nIndex: []\nEmpty DataFrame\nColumns: []\nIndex: []\nEmpty DataFrame\nColumns: [5, 256]\nIndex: []"
     ]
    },
    {
     "name": "stdout",
     "output_type": "stream",
     "text": [
      "\nEmpty DataFrame\nColumns: []\nIndex: []\nEmpty DataFrame\nColumns: [5, 257]\nIndex: []\n     257\n257  NaN\nEmpty DataFrame\nColumns: [5, 258]\nIndex: []\n     258\n258  NaN\nEmpty DataFrame\nColumns: [5, 259]\nIndex: []\nEmpty DataFrame\nColumns: []\nIndex: []\nEmpty DataFrame\nColumns: [5, 260]\nIndex: []\nEmpty DataFrame\nColumns: []\nIndex: []\nEmpty DataFrame\nColumns: [5, 261]\nIndex: []\nEmpty DataFrame\nColumns: []\nIndex: []\nEmpty DataFrame\nColumns: [5, 262]\nIndex: []\nEmpty DataFrame\nColumns: []\nIndex: []\nEmpty DataFrame\nColumns: [5, 263]\nIndex: []\nEmpty DataFrame\nColumns: []\nIndex: []\nEmpty DataFrame\nColumns: [5, 264]\nIndex: []\nEmpty DataFrame\nColumns: []\nIndex: []\nEmpty DataFrame\nColumns: [5, 265]\nIndex: []\nEmpty DataFrame\nColumns: []\nIndex: []\nEmpty DataFrame\nColumns: [5, 266]\nIndex: []\n     266\n266  NaN\nEmpty DataFrame\nColumns: [5, 267]\nIndex: []\n     267\n267  NaN\nEmpty DataFrame\nColumns: [5, 268]\nIndex: []\nEmpty DataFrame\nColumns: []\nIndex: []\nEmpty DataFrame\nColumns: [5, 269]\nIndex: []\nEmpty DataFrame\nColumns: []\nIndex: []\n"
     ]
    },
    {
     "name": "stdout",
     "output_type": "stream",
     "text": [
      "Empty DataFrame\nColumns: [5, 270]\nIndex: []\nEmpty DataFrame\nColumns: []\nIndex: []\nEmpty DataFrame\nColumns: [5, 271]\nIndex: []\n     271\n271  NaN\nEmpty DataFrame\nColumns: [5, 272]\nIndex: []\n     272\n272  NaN\nEmpty DataFrame\nColumns: [5, 273]\nIndex: []\nEmpty DataFrame\nColumns: []\nIndex: []\nEmpty DataFrame\nColumns: [5, 274]\nIndex: []\nEmpty DataFrame\nColumns: []\nIndex: []\nEmpty DataFrame\nColumns: [5, 275]\nIndex: []\nEmpty DataFrame\nColumns: []\nIndex: []\nEmpty DataFrame\nColumns: [5, 276]\nIndex: []\nEmpty DataFrame\nColumns: []\nIndex: []\nEmpty DataFrame\nColumns: [5, 277]\nIndex: []\nEmpty DataFrame\nColumns: []\nIndex: []\nEmpty DataFrame\nColumns: [5, 278]\nIndex: []\nEmpty DataFrame\nColumns: []\nIndex: []\nEmpty DataFrame\nColumns: [5, 279]\nIndex: []\n     279\n279  NaN\nEmpty DataFrame\nColumns: [5, 280]\nIndex: []\nEmpty DataFrame\nColumns: []\nIndex: []\nEmpty DataFrame\nColumns: [5, 281]\nIndex: []\nEmpty DataFrame\nColumns: []\nIndex: []\nEmpty DataFrame\nColumns: [5, 282]\nIndex: []\nEmpty DataFrame\nColumns: []\nIndex: []\nEmpty DataFrame\nColumns: [5, 283]\nIndex: []"
     ]
    },
    {
     "name": "stdout",
     "output_type": "stream",
     "text": [
      "\nEmpty DataFrame\nColumns: []\nIndex: []\nEmpty DataFrame\nColumns: [5, 284]\nIndex: []\nEmpty DataFrame\nColumns: []\nIndex: []\nEmpty DataFrame\nColumns: [5, 285]\nIndex: []\n     285\n285  NaN\nEmpty DataFrame\nColumns: [5, 286]\nIndex: []\nEmpty DataFrame\nColumns: []\nIndex: []\nEmpty DataFrame\nColumns: [5, 287]\nIndex: []\nEmpty DataFrame\nColumns: []\nIndex: []\nEmpty DataFrame\nColumns: [5, 288]\nIndex: []\nEmpty DataFrame\nColumns: []\nIndex: []\nEmpty DataFrame\nColumns: [5, 289]\nIndex: []\nEmpty DataFrame\nColumns: []\nIndex: []\nEmpty DataFrame\nColumns: [5, 290]\nIndex: []\n     290\n290  NaN\nEmpty DataFrame\nColumns: [5, 291]\nIndex: []\n     291\n291  NaN\nEmpty DataFrame\nColumns: [5, 292]\nIndex: []\nEmpty DataFrame\nColumns: []\nIndex: []\nEmpty DataFrame\nColumns: [5, 293]\nIndex: []\n     293\n293  NaN\nEmpty DataFrame\nColumns: [5, 294]\nIndex: []\nEmpty DataFrame\nColumns: []\nIndex: []\nEmpty DataFrame\nColumns: [5, 295]\nIndex: []\n     295\n295  NaN\nEmpty DataFrame\nColumns: [5, 296]\nIndex: []\n     296\n296  NaN\nEmpty DataFrame\nColumns: [5, 297]\nIndex: []\n     297\n297  NaN\n"
     ]
    },
    {
     "name": "stdout",
     "output_type": "stream",
     "text": [
      "Empty DataFrame\nColumns: [5, 298]\nIndex: []\nEmpty DataFrame\nColumns: []\nIndex: []\nEmpty DataFrame\nColumns: [5, 299]\nIndex: []\nEmpty DataFrame\nColumns: []\nIndex: []\nEmpty DataFrame\nColumns: [5, 300]\nIndex: []\nEmpty DataFrame\nColumns: []\nIndex: []\nEmpty DataFrame\nColumns: [5, 301]\nIndex: []\nEmpty DataFrame\nColumns: []\nIndex: []\nEmpty DataFrame\nColumns: [5, 302]\nIndex: []\nEmpty DataFrame\nColumns: []\nIndex: []\nEmpty DataFrame\nColumns: [5, 303]\nIndex: []\nEmpty DataFrame\nColumns: []\nIndex: []\nEmpty DataFrame\nColumns: [5, 304]\nIndex: []\nEmpty DataFrame\nColumns: []\nIndex: []\nEmpty DataFrame\nColumns: [5, 305]\nIndex: []\nEmpty DataFrame\nColumns: []\nIndex: []\nEmpty DataFrame\nColumns: [5, 306]\nIndex: []\nEmpty DataFrame\nColumns: []\nIndex: []\nEmpty DataFrame\nColumns: [5, 307]\nIndex: []\n     307\n307  NaN\nEmpty DataFrame\nColumns: [5, 308]\nIndex: []\n     308\n308  NaN\nEmpty DataFrame\nColumns: [5, 309]\nIndex: []\n     309\n309  NaN\nEmpty DataFrame\nColumns: [5, 310]\nIndex: []\n     310\n310  NaN\nEmpty DataFrame\nColumns: [5, 311]\nIndex: []\nEmpty DataFrame\nColumns: []\nIndex: []\nEmpty DataFrame\nColumns: [5, 312]\nIndex: []\nEmpty DataFrame\nColumns: []\nIndex: []\n"
     ]
    },
    {
     "name": "stdout",
     "output_type": "stream",
     "text": [
      "Empty DataFrame\nColumns: [5, 313]\nIndex: []\nEmpty DataFrame\nColumns: []\nIndex: []\nEmpty DataFrame\nColumns: [5, 314]\nIndex: []\n     314\n314  NaN\nEmpty DataFrame\nColumns: [5, 315]\nIndex: []\n     315\n315  NaN\nEmpty DataFrame\nColumns: [5, 316]\nIndex: []\nEmpty DataFrame\nColumns: []\nIndex: []\nEmpty DataFrame\nColumns: [5, 317]\nIndex: []\nEmpty DataFrame\nColumns: []\nIndex: []\nEmpty DataFrame\nColumns: [5, 318]\nIndex: []\nEmpty DataFrame\nColumns: []\nIndex: []\nEmpty DataFrame\nColumns: [5, 319]\nIndex: []\n     319\n319  NaN\nEmpty DataFrame\nColumns: [5, 320]\nIndex: []\n     320\n320  NaN\nEmpty DataFrame\nColumns: [5, 321]\nIndex: []\n     321\n321  NaN\nEmpty DataFrame\nColumns: [5, 322]\nIndex: []\nEmpty DataFrame\nColumns: []\nIndex: []\nEmpty DataFrame\nColumns: [5, 323]\nIndex: []\nEmpty DataFrame\nColumns: []\nIndex: []\nEmpty DataFrame\nColumns: [5, 324]\nIndex: []\nEmpty DataFrame\nColumns: []\nIndex: []\nEmpty DataFrame\nColumns: [5, 325]\nIndex: []\nEmpty DataFrame\nColumns: []\nIndex: []\nEmpty DataFrame\nColumns: [5, 326]\nIndex: []\nEmpty DataFrame\nColumns: []\nIndex: []\nEmpty DataFrame\nColumns: [5, 327]\nIndex: []\nEmpty DataFrame\nColumns: []\nIndex: []\n"
     ]
    },
    {
     "name": "stdout",
     "output_type": "stream",
     "text": [
      "Empty DataFrame\nColumns: [5, 328]\nIndex: []\nEmpty DataFrame\nColumns: []\nIndex: []\nEmpty DataFrame\nColumns: [5, 329]\nIndex: []\nEmpty DataFrame\nColumns: []\nIndex: []\nEmpty DataFrame\nColumns: [5, 330]\nIndex: []\nEmpty DataFrame\nColumns: []\nIndex: []\nEmpty DataFrame\nColumns: [5, 331]\nIndex: []\nEmpty DataFrame\nColumns: []\nIndex: []\nEmpty DataFrame\nColumns: [5, 332]\nIndex: []\nEmpty DataFrame\nColumns: []\nIndex: []\nEmpty DataFrame\nColumns: [5, 333]\nIndex: []\n     333\n333  NaN\nEmpty DataFrame\nColumns: [5, 334]\nIndex: []\n     334\n334  NaN\nEmpty DataFrame\nColumns: [5, 335]\nIndex: []\nEmpty DataFrame\nColumns: []\nIndex: []\nEmpty DataFrame\nColumns: [5, 336]\nIndex: []\nEmpty DataFrame\nColumns: []\nIndex: []\nEmpty DataFrame\nColumns: [5, 337]\nIndex: []\n     337\n337  NaN\nEmpty DataFrame\nColumns: [5, 338]\nIndex: []\n     338\n338  NaN\nEmpty DataFrame\nColumns: [5, 339]\nIndex: []\n     339\n339  NaN\nEmpty DataFrame\nColumns: [5, 340]\nIndex: []\nEmpty DataFrame\nColumns: []\nIndex: []\nEmpty DataFrame\nColumns: [5, 341]\nIndex: []\nEmpty DataFrame\nColumns: []\nIndex: []\nEmpty DataFrame\nColumns: [5, 342]\nIndex: []\nEmpty DataFrame\nColumns: []\nIndex: []\n"
     ]
    },
    {
     "name": "stdout",
     "output_type": "stream",
     "text": [
      "Empty DataFrame\nColumns: [5, 343]\nIndex: []\nEmpty DataFrame\nColumns: []\nIndex: []\nEmpty DataFrame\nColumns: [5, 344]\nIndex: []\nEmpty DataFrame\nColumns: []\nIndex: []\nEmpty DataFrame\nColumns: [5, 345]\nIndex: []\n     345\n345  NaN\nEmpty DataFrame\nColumns: [5, 346]\nIndex: []\nEmpty DataFrame\nColumns: []\nIndex: []\nEmpty DataFrame\nColumns: [5, 347]\nIndex: []\nEmpty DataFrame\nColumns: []\nIndex: []\nEmpty DataFrame\nColumns: [5, 348]\nIndex: []\n     348\n348  NaN\nEmpty DataFrame\nColumns: [5, 349]\nIndex: []\nEmpty DataFrame\nColumns: []\nIndex: []\nEmpty DataFrame\nColumns: [5, 350]\nIndex: []\nEmpty DataFrame\nColumns: []\nIndex: []\nEmpty DataFrame\nColumns: [5, 351]\nIndex: []\n     351\n351  NaN\nEmpty DataFrame\nColumns: [5, 352]\nIndex: []\nEmpty DataFrame\nColumns: []\nIndex: []\nEmpty DataFrame\nColumns: [5, 353]\nIndex: []\nEmpty DataFrame\nColumns: []\nIndex: []\nEmpty DataFrame\nColumns: [5, 354]\nIndex: []\n     354\n354  NaN\nEmpty DataFrame\nColumns: [5, 355]\nIndex: []\n     355\n355  NaN\nEmpty DataFrame\nColumns: [5, 356]\nIndex: []\n     356\n356  NaN\nEmpty DataFrame\nColumns: [5, 357]\nIndex: []\n     357\n357  NaN\n"
     ]
    },
    {
     "name": "stdout",
     "output_type": "stream",
     "text": [
      "Empty DataFrame\nColumns: [5, 358]\nIndex: []\n     358\n358  NaN\nEmpty DataFrame\nColumns: [5, 359]\nIndex: []\n     359\n359  NaN\nEmpty DataFrame\nColumns: [5, 360]\nIndex: []\n     360\n360  NaN\nEmpty DataFrame\nColumns: [5, 361]\nIndex: []\n     361\n361  NaN\nEmpty DataFrame\nColumns: [5, 362]\nIndex: []\n     362\n362  NaN\nEmpty DataFrame\nColumns: [5, 363]\nIndex: []\nEmpty DataFrame\nColumns: []\nIndex: []\nEmpty DataFrame\nColumns: [5, 364]\nIndex: []\nEmpty DataFrame\nColumns: []\nIndex: []\nEmpty DataFrame\nColumns: [5, 365]\nIndex: []\nEmpty DataFrame\nColumns: []\nIndex: []\nEmpty DataFrame\nColumns: [5, 366]\nIndex: []\nEmpty DataFrame\nColumns: []\nIndex: []\nEmpty DataFrame\nColumns: [5, 367]\nIndex: []\n     367\n367  NaN\nEmpty DataFrame\nColumns: [5, 368]\nIndex: []\nEmpty DataFrame\nColumns: []\nIndex: []\nEmpty DataFrame\nColumns: [5, 369]\nIndex: []\n     369\n369  NaN\nEmpty DataFrame\nColumns: [5, 370]\nIndex: []\nEmpty DataFrame\nColumns: []\nIndex: []\nEmpty DataFrame\nColumns: [5, 371]\nIndex: []\nEmpty DataFrame\nColumns: []\nIndex: []\n"
     ]
    },
    {
     "name": "stdout",
     "output_type": "stream",
     "text": [
      "Empty DataFrame\nColumns: [5, 372]\nIndex: []\nEmpty DataFrame\nColumns: []\nIndex: []\nEmpty DataFrame\nColumns: [5, 373]\nIndex: []\nEmpty DataFrame\nColumns: []\nIndex: []\nEmpty DataFrame\nColumns: [5, 374]\nIndex: []\nEmpty DataFrame\nColumns: []\nIndex: []\nEmpty DataFrame\nColumns: [5, 375]\nIndex: []\n     375\n375  NaN\nEmpty DataFrame\nColumns: [5, 376]\nIndex: []\n     376\n376  NaN\nEmpty DataFrame\nColumns: [5, 377]\nIndex: []\nEmpty DataFrame\nColumns: []\nIndex: []\nEmpty DataFrame\nColumns: [5, 378]\nIndex: []\n     378\n378  NaN\nEmpty DataFrame\nColumns: [5, 379]\nIndex: []\nEmpty DataFrame\nColumns: []\nIndex: []\nEmpty DataFrame\nColumns: [5, 380]\nIndex: []\nEmpty DataFrame\nColumns: []\nIndex: []\nEmpty DataFrame\nColumns: [5, 381]\nIndex: []\nEmpty DataFrame\nColumns: []\nIndex: []\nEmpty DataFrame\nColumns: [5, 382]\nIndex: []\nEmpty DataFrame\nColumns: []\nIndex: []\nEmpty DataFrame\nColumns: [5, 383]\nIndex: []\nEmpty DataFrame\nColumns: []\nIndex: []\nEmpty DataFrame\nColumns: [5, 384]\nIndex: []\nEmpty DataFrame\nColumns: []\nIndex: []\nEmpty DataFrame\nColumns: [5, 385]\nIndex: []\nEmpty DataFrame\nColumns: []\nIndex: []\n"
     ]
    },
    {
     "name": "stdout",
     "output_type": "stream",
     "text": [
      "Empty DataFrame\nColumns: [5, 386]\nIndex: []\n     386\n386  NaN\nEmpty DataFrame\nColumns: [5, 387]\nIndex: []\n     387\n387  NaN\nEmpty DataFrame\nColumns: [5, 388]\nIndex: []\nEmpty DataFrame\nColumns: []\nIndex: []\nEmpty DataFrame\nColumns: [5, 389]\nIndex: []\nEmpty DataFrame\nColumns: []\nIndex: []\nEmpty DataFrame\nColumns: [5, 390]\nIndex: []\nEmpty DataFrame\nColumns: []\nIndex: []\nEmpty DataFrame\nColumns: [5, 391]\nIndex: []\nEmpty DataFrame\nColumns: []\nIndex: []\nEmpty DataFrame\nColumns: [5, 392]\nIndex: []\nEmpty DataFrame\nColumns: []\nIndex: []\nEmpty DataFrame\nColumns: [5, 393]\nIndex: []\nEmpty DataFrame\nColumns: []\nIndex: []\nEmpty DataFrame\nColumns: [5, 394]\nIndex: []\nEmpty DataFrame\nColumns: []\nIndex: []\nEmpty DataFrame\nColumns: [5, 395]\nIndex: []\nEmpty DataFrame\nColumns: []\nIndex: []\nEmpty DataFrame\nColumns: [5, 396]\nIndex: []\nEmpty DataFrame\nColumns: []\nIndex: []\nEmpty DataFrame\nColumns: [5, 397]\nIndex: []\nEmpty DataFrame\nColumns: []\nIndex: []\nEmpty DataFrame\nColumns: [5, 398]\nIndex: []\nEmpty DataFrame\nColumns: []\nIndex: []\nEmpty DataFrame\nColumns: [5, 399]\nIndex: []\n     399\n399  NaN\n"
     ]
    },
    {
     "name": "stdout",
     "output_type": "stream",
     "text": [
      "Empty DataFrame\nColumns: [5, 400]\nIndex: []\n     400\n400  NaN\nEmpty DataFrame\nColumns: [5, 401]\nIndex: []\nEmpty DataFrame\nColumns: []\nIndex: []\nEmpty DataFrame\nColumns: [5, 402]\nIndex: []\n     402\n402  NaN\nEmpty DataFrame\nColumns: [5, 403]\nIndex: []\n     403\n403  NaN\nEmpty DataFrame\nColumns: [5, 404]\nIndex: []\nEmpty DataFrame\nColumns: []\nIndex: []\nEmpty DataFrame\nColumns: [5, 405]\nIndex: []\nEmpty DataFrame\nColumns: []\nIndex: []\nEmpty DataFrame\nColumns: [5, 406]\nIndex: []\nEmpty DataFrame\nColumns: []\nIndex: []\nEmpty DataFrame\nColumns: [5, 407]\nIndex: []\n     407\n407  NaN\nEmpty DataFrame\nColumns: [5, 408]\nIndex: []\n     408\n408  NaN\nEmpty DataFrame\nColumns: [5, 409]\nIndex: []\n     409\n409  NaN\nEmpty DataFrame\nColumns: [5, 410]\nIndex: []\n     410\n410  NaN\nEmpty DataFrame\nColumns: [5, 411]\nIndex: []\n     411\n411  NaN\nEmpty DataFrame\nColumns: [5, 412]\nIndex: []\n     412\n412  NaN\nEmpty DataFrame\nColumns: [5, 413]\nIndex: []\n     413\n413  NaN"
     ]
    },
    {
     "name": "stdout",
     "output_type": "stream",
     "text": [
      "\nEmpty DataFrame\nColumns: [5, 414]\nIndex: []\n     414\n414  NaN\nEmpty DataFrame\nColumns: [5, 415]\nIndex: []\n     415\n415  NaN\nEmpty DataFrame\nColumns: [5, 416]\nIndex: []\n     416\n416  NaN\nEmpty DataFrame\nColumns: [5, 417]\nIndex: []\n     417\n417  NaN\nEmpty DataFrame\nColumns: [5, 418]\nIndex: []\nEmpty DataFrame\nColumns: []\nIndex: []\nEmpty DataFrame\nColumns: [5, 419]\nIndex: []\nEmpty DataFrame\nColumns: []\nIndex: []\nEmpty DataFrame\nColumns: [5, 420]\nIndex: []\nEmpty DataFrame\nColumns: []\nIndex: []\nEmpty DataFrame\nColumns: [5, 421]\nIndex: []\n     421\n421  NaN\nEmpty DataFrame\nColumns: [5, 422]\nIndex: []\n     422\n422  NaN\nEmpty DataFrame\nColumns: [5, 423]\nIndex: []\n     423\n423  NaN\nEmpty DataFrame\nColumns: [5, 424]\nIndex: []\n     424\n424  NaN\nEmpty DataFrame\nColumns: [5, 425]\nIndex: []\nEmpty DataFrame\nColumns: []\nIndex: []\nEmpty DataFrame\nColumns: [5, 426]\nIndex: []\n     426\n426  NaN\nEmpty DataFrame\nColumns: [5, 427]\nIndex: []\nEmpty DataFrame\nColumns: []\nIndex: []\nEmpty DataFrame\nColumns: [5, 428]\nIndex: []\n     428\n428  NaN\n"
     ]
    },
    {
     "name": "stdout",
     "output_type": "stream",
     "text": [
      "Empty DataFrame\nColumns: [5, 429]\nIndex: []\n     429\n429  NaN\nEmpty DataFrame\nColumns: [5, 430]\nIndex: []\n     430\n430  NaN\nEmpty DataFrame\nColumns: [5, 431]\nIndex: []\nEmpty DataFrame\nColumns: []\nIndex: []\nEmpty DataFrame\nColumns: [5, 432]\nIndex: []\nEmpty DataFrame\nColumns: []\nIndex: []\nEmpty DataFrame\nColumns: [5, 433]\nIndex: []\n     433\n433  NaN\nEmpty DataFrame\nColumns: [5, 434]\nIndex: []\nEmpty DataFrame\nColumns: []\nIndex: []\nEmpty DataFrame\nColumns: [5, 435]\nIndex: []\n     435\n435  NaN\nEmpty DataFrame\nColumns: [5, 436]\nIndex: []\n     436\n436  NaN\nEmpty DataFrame\nColumns: [5, 437]\nIndex: []\nEmpty DataFrame\nColumns: []\nIndex: []\nEmpty DataFrame\nColumns: [5, 438]\nIndex: []\n     438\n438  NaN\nEmpty DataFrame\nColumns: [5, 439]\nIndex: []\nEmpty DataFrame\nColumns: []\nIndex: []\nEmpty DataFrame\nColumns: [5, 440]\nIndex: []\nEmpty DataFrame\nColumns: []\nIndex: []\nEmpty DataFrame\nColumns: [5, 441]\nIndex: []\n     441\n441  NaN\n"
     ]
    },
    {
     "name": "stdout",
     "output_type": "stream",
     "text": [
      "Empty DataFrame\nColumns: [5, 442]\nIndex: []\nEmpty DataFrame\nColumns: []\nIndex: []\nEmpty DataFrame\nColumns: [5, 443]\nIndex: []\nEmpty DataFrame\nColumns: []\nIndex: []\nEmpty DataFrame\nColumns: [5, 444]\nIndex: []\nEmpty DataFrame\nColumns: []\nIndex: []\nEmpty DataFrame\nColumns: [5, 445]\nIndex: []\nEmpty DataFrame\nColumns: []\nIndex: []\nEmpty DataFrame\nColumns: [5, 446]\nIndex: []\nEmpty DataFrame\nColumns: []\nIndex: []\nEmpty DataFrame\nColumns: [5, 447]\nIndex: []\nEmpty DataFrame\nColumns: []\nIndex: []\nEmpty DataFrame\nColumns: [5, 448]\nIndex: []\nEmpty DataFrame\nColumns: []\nIndex: []\nEmpty DataFrame\nColumns: [5, 449]\nIndex: []\n     449\n449  NaN\nEmpty DataFrame\nColumns: [5, 450]\nIndex: []\nEmpty DataFrame\nColumns: []\nIndex: []\nEmpty DataFrame\nColumns: [5, 451]\nIndex: []\nEmpty DataFrame\nColumns: []\nIndex: []\nEmpty DataFrame\nColumns: [5, 452]\nIndex: []\nEmpty DataFrame\nColumns: []\nIndex: []\nEmpty DataFrame\nColumns: [5, 453]\nIndex: []\nEmpty DataFrame\nColumns: []\nIndex: []\nEmpty DataFrame\nColumns: [5, 454]\nIndex: []\nEmpty DataFrame\nColumns: []\nIndex: []\nEmpty DataFrame\nColumns: [5, 455]\nIndex: []\nEmpty DataFrame\nColumns: []\nIndex: []\n"
     ]
    },
    {
     "name": "stdout",
     "output_type": "stream",
     "text": [
      "Empty DataFrame\nColumns: [5, 456]\nIndex: []\nEmpty DataFrame\nColumns: []\nIndex: []\nEmpty DataFrame\nColumns: [5, 457]\nIndex: []\nEmpty DataFrame\nColumns: []\nIndex: []\nEmpty DataFrame\nColumns: [5, 458]\nIndex: []\nEmpty DataFrame\nColumns: []\nIndex: []\nEmpty DataFrame\nColumns: [5, 459]\nIndex: []\n     459\n459  NaN\nEmpty DataFrame\nColumns: [5, 460]\nIndex: []\n     460\n460  NaN\nEmpty DataFrame\nColumns: [5, 461]\nIndex: []\nEmpty DataFrame\nColumns: []\nIndex: []\nEmpty DataFrame\nColumns: [5, 462]\nIndex: []\nEmpty DataFrame\nColumns: []\nIndex: []\nEmpty DataFrame\nColumns: [5, 463]\nIndex: []\nEmpty DataFrame\nColumns: []\nIndex: []\nEmpty DataFrame\nColumns: [5, 464]\nIndex: []\n     464\n464  NaN\nEmpty DataFrame\nColumns: [5, 465]\nIndex: []\nEmpty DataFrame\nColumns: []\nIndex: []\nEmpty DataFrame\nColumns: [5, 466]\nIndex: []\nEmpty DataFrame\nColumns: []\nIndex: []\nEmpty DataFrame\nColumns: [5, 467]\nIndex: []\nEmpty DataFrame\nColumns: []\nIndex: []\nEmpty DataFrame\nColumns: [5, 468]\nIndex: []\nEmpty DataFrame\nColumns: []\nIndex: []\nEmpty DataFrame\nColumns: [5, 469]\nIndex: []\nEmpty DataFrame\nColumns: []\nIndex: []\n"
     ]
    },
    {
     "name": "stdout",
     "output_type": "stream",
     "text": [
      "Empty DataFrame\nColumns: [5, 470]\nIndex: []\nEmpty DataFrame\nColumns: []\nIndex: []\nEmpty DataFrame\nColumns: [5, 471]\nIndex: []\nEmpty DataFrame\nColumns: []\nIndex: []\nEmpty DataFrame\nColumns: [5, 472]\nIndex: []\nEmpty DataFrame\nColumns: []\nIndex: []\nEmpty DataFrame\nColumns: [5, 473]\nIndex: []\nEmpty DataFrame\nColumns: []\nIndex: []\nEmpty DataFrame\nColumns: [5, 474]\nIndex: []\nEmpty DataFrame\nColumns: []\nIndex: []\nEmpty DataFrame\nColumns: [5, 475]\nIndex: []\nEmpty DataFrame\nColumns: []\nIndex: []\nEmpty DataFrame\nColumns: [5, 476]\nIndex: []\nEmpty DataFrame\nColumns: []\nIndex: []\nEmpty DataFrame\nColumns: [5, 477]\nIndex: []\nEmpty DataFrame\nColumns: []\nIndex: []\nEmpty DataFrame\nColumns: [5, 478]\nIndex: []\n     478\n478  NaN\nEmpty DataFrame\nColumns: [5, 479]\nIndex: []\nEmpty DataFrame\nColumns: []\nIndex: []\nEmpty DataFrame\nColumns: [5, 480]\nIndex: []\n     480\n480  NaN\nEmpty DataFrame\nColumns: [5, 481]\nIndex: []\nEmpty DataFrame\nColumns: []\nIndex: []\nEmpty DataFrame\nColumns: [5, 482]\nIndex: []\n     482\n482  NaN\nEmpty DataFrame\nColumns: [5, 483]\nIndex: []\n     483\n483  NaN\nEmpty DataFrame\nColumns: [5, 484]\nIndex: []\n"
     ]
    },
    {
     "name": "stdout",
     "output_type": "stream",
     "text": [
      "     484\n484  NaN\nEmpty DataFrame\nColumns: [5, 485]\nIndex: []\n     485\n485  NaN\nEmpty DataFrame\nColumns: [5, 486]\nIndex: []\n     486\n486  NaN\nEmpty DataFrame\nColumns: [5, 487]\nIndex: []\nEmpty DataFrame\nColumns: []\nIndex: []\nEmpty DataFrame\nColumns: [5, 488]\nIndex: []\n     488\n488  NaN\nEmpty DataFrame\nColumns: [5, 489]\nIndex: []\n     489\n489  NaN\nEmpty DataFrame\nColumns: [5, 490]\nIndex: []\nEmpty DataFrame\nColumns: []\nIndex: []\nEmpty DataFrame\nColumns: [5, 491]\nIndex: []\nEmpty DataFrame\nColumns: []\nIndex: []\nEmpty DataFrame\nColumns: [5, 492]\nIndex: []\n     492\n492  NaN\nEmpty DataFrame\nColumns: [5, 493]\nIndex: []\nEmpty DataFrame\nColumns: []\nIndex: []\nEmpty DataFrame\nColumns: [5, 494]\nIndex: []\nEmpty DataFrame\nColumns: []\nIndex: []\nEmpty DataFrame\nColumns: [5, 495]\nIndex: []\nEmpty DataFrame\nColumns: []\nIndex: []\nEmpty DataFrame\nColumns: [5, 496]\nIndex: []\nEmpty DataFrame\nColumns: []\nIndex: []\nEmpty DataFrame\nColumns: [5, 497]\nIndex: []\n     497\n497  NaN\nEmpty DataFrame\nColumns: [5, 498]\nIndex: []\n     498\n498  NaN\nEmpty DataFrame\nColumns: [5, 499]\nIndex: []\n     499\n499  NaN"
     ]
    },
    {
     "name": "stdout",
     "output_type": "stream",
     "text": [
      "\nEmpty DataFrame\nColumns: [5, 500]\nIndex: []\n     500\n500  NaN\nEmpty DataFrame\nColumns: [5, 501]\nIndex: []\nEmpty DataFrame\nColumns: []\nIndex: []\nEmpty DataFrame\nColumns: [5, 502]\nIndex: []\nEmpty DataFrame\nColumns: []\nIndex: []\nEmpty DataFrame\nColumns: [5, 503]\nIndex: []\nEmpty DataFrame\nColumns: []\nIndex: []\nEmpty DataFrame\nColumns: [5, 504]\nIndex: []\nEmpty DataFrame\nColumns: []\nIndex: []\nEmpty DataFrame\nColumns: [5, 505]\nIndex: []\nEmpty DataFrame\nColumns: []\nIndex: []\nEmpty DataFrame\nColumns: [5, 506]\nIndex: []\nEmpty DataFrame\nColumns: []\nIndex: []\nEmpty DataFrame\nColumns: [5, 507]\nIndex: []\nEmpty DataFrame\nColumns: []\nIndex: []\nEmpty DataFrame\nColumns: [5, 508]\nIndex: []\nEmpty DataFrame\nColumns: []\nIndex: []\nEmpty DataFrame\nColumns: [5, 509]\nIndex: []\nEmpty DataFrame\nColumns: []\nIndex: []\nEmpty DataFrame\nColumns: [5, 510]\nIndex: []\nEmpty DataFrame\nColumns: []\nIndex: []\nEmpty DataFrame\nColumns: [5, 511]\nIndex: []\nEmpty DataFrame\nColumns: []\nIndex: []\nEmpty DataFrame\nColumns: [5, 512]\nIndex: []\nEmpty DataFrame\nColumns: []\nIndex: []\nEmpty DataFrame\nColumns: [5, 513]\nIndex: []\nEmpty DataFrame\nColumns: []\nIndex: []\nEmpty DataFrame\nColumns: [5, 514]\nIndex: []\nEmpty DataFrame\nColumns: []\nIndex: []\nEmpty DataFrame\nColumns: [5, 515]\nIndex: []\n"
     ]
    },
    {
     "name": "stdout",
     "output_type": "stream",
     "text": [
      "Empty DataFrame\nColumns: []\nIndex: []\nEmpty DataFrame\nColumns: [5, 516]\nIndex: []\nEmpty DataFrame\nColumns: []\nIndex: []\nEmpty DataFrame\nColumns: [5, 517]\nIndex: []\nEmpty DataFrame\nColumns: []\nIndex: []\nEmpty DataFrame\nColumns: [5, 518]\nIndex: []\nEmpty DataFrame\nColumns: []\nIndex: []\nEmpty DataFrame\nColumns: [5, 519]\nIndex: []\nEmpty DataFrame\nColumns: []\nIndex: []\nEmpty DataFrame\nColumns: [5, 520]\nIndex: []\nEmpty DataFrame\nColumns: []\nIndex: []\nEmpty DataFrame\nColumns: [5, 521]\nIndex: []\n     521\n521  NaN\nEmpty DataFrame\nColumns: [5, 522]\nIndex: []\n     522\n522  NaN\nEmpty DataFrame\nColumns: [5, 523]\nIndex: []\nEmpty DataFrame\nColumns: []\nIndex: []\nEmpty DataFrame\nColumns: [5, 524]\nIndex: []\nEmpty DataFrame\nColumns: []\nIndex: []\nEmpty DataFrame\nColumns: [5, 525]\nIndex: []\n     525\n525  NaN\nEmpty DataFrame\nColumns: [5, 526]\nIndex: []\nEmpty DataFrame\nColumns: []\nIndex: []\nEmpty DataFrame\nColumns: [5, 527]\nIndex: []\nEmpty DataFrame\nColumns: []\nIndex: []\nEmpty DataFrame\nColumns: [5, 528]\nIndex: []\nEmpty DataFrame\nColumns: []\nIndex: []\nEmpty DataFrame\nColumns: [5, 529]\nIndex: []\nEmpty DataFrame\nColumns: []\nIndex: []\nEmpty DataFrame\nColumns: [5, 530]\nIndex: []\nEmpty DataFrame\nColumns: []\nIndex: []\n"
     ]
    },
    {
     "name": "stdout",
     "output_type": "stream",
     "text": [
      "Empty DataFrame\nColumns: [5, 531]\nIndex: []\nEmpty DataFrame\nColumns: []\nIndex: []\nEmpty DataFrame\nColumns: [5, 532]\nIndex: []\nEmpty DataFrame\nColumns: []\nIndex: []\nEmpty DataFrame\nColumns: [5, 533]\nIndex: []\n     533\n533  NaN\nEmpty DataFrame\nColumns: [5, 534]\nIndex: []\nEmpty DataFrame\nColumns: []\nIndex: []\nEmpty DataFrame\nColumns: [5, 535]\nIndex: []\nEmpty DataFrame\nColumns: []\nIndex: []\nEmpty DataFrame\nColumns: [5, 536]\nIndex: []\n     536\n536  NaN\nEmpty DataFrame\nColumns: [5, 537]\nIndex: []\nEmpty DataFrame\nColumns: []\nIndex: []\nEmpty DataFrame\nColumns: [5, 538]\nIndex: []\n     538\n538  NaN\nEmpty DataFrame\nColumns: [5, 539]\nIndex: []\n     539\n539  NaN\nEmpty DataFrame\nColumns: [5, 540]\nIndex: []\nEmpty DataFrame\nColumns: []\nIndex: []\nEmpty DataFrame\nColumns: [5, 541]\nIndex: []\nEmpty DataFrame\nColumns: []\nIndex: []\nEmpty DataFrame\nColumns: [5, 542]\nIndex: []\nEmpty DataFrame\nColumns: []\nIndex: []\nEmpty DataFrame\nColumns: [5, 543]\nIndex: []\nEmpty DataFrame\nColumns: []\nIndex: []\nEmpty DataFrame\nColumns: [5, 544]\nIndex: []\nEmpty DataFrame\nColumns: []\nIndex: []\n"
     ]
    },
    {
     "name": "stdout",
     "output_type": "stream",
     "text": [
      "Empty DataFrame\nColumns: [5, 545]\nIndex: []\nEmpty DataFrame\nColumns: []\nIndex: []\nEmpty DataFrame\nColumns: [5, 546]\nIndex: []\nEmpty DataFrame\nColumns: []\nIndex: []\nEmpty DataFrame\nColumns: [5, 547]\nIndex: []\nEmpty DataFrame\nColumns: []\nIndex: []\nEmpty DataFrame\nColumns: [5, 548]\nIndex: []\nEmpty DataFrame\nColumns: []\nIndex: []\nEmpty DataFrame\nColumns: [5, 549]\nIndex: []\nEmpty DataFrame\nColumns: []\nIndex: []\nEmpty DataFrame\nColumns: [5, 550]\nIndex: []\nEmpty DataFrame\nColumns: []\nIndex: []\nEmpty DataFrame\nColumns: [5, 551]\nIndex: []\nEmpty DataFrame\nColumns: []\nIndex: []\nEmpty DataFrame\nColumns: [5, 552]\nIndex: []\n     552\n552  NaN\nEmpty DataFrame\nColumns: [5, 553]\nIndex: []\n     553\n553  NaN\nEmpty DataFrame\nColumns: [5, 554]\nIndex: []\nEmpty DataFrame\nColumns: []\nIndex: []\nEmpty DataFrame\nColumns: [5, 555]\nIndex: []\nEmpty DataFrame\nColumns: []\nIndex: []\nEmpty DataFrame\nColumns: [5, 556]\nIndex: []\nEmpty DataFrame\nColumns: []\nIndex: []\nEmpty DataFrame\nColumns: [5, 557]\nIndex: []\n     557\n557  NaN\nEmpty DataFrame\nColumns: [5, 558]\nIndex: []\nEmpty DataFrame\nColumns: []\nIndex: []\nEmpty DataFrame\nColumns: [5, 559]\nIndex: []"
     ]
    },
    {
     "name": "stdout",
     "output_type": "stream",
     "text": [
      "\nEmpty DataFrame\nColumns: []\nIndex: []\nEmpty DataFrame\nColumns: [5, 560]\nIndex: []\nEmpty DataFrame\nColumns: []\nIndex: []\nEmpty DataFrame\nColumns: [5, 561]\nIndex: []\nEmpty DataFrame\nColumns: []\nIndex: []\nEmpty DataFrame\nColumns: [5, 562]\nIndex: []\nEmpty DataFrame\nColumns: []\nIndex: []\nEmpty DataFrame\nColumns: [5, 563]\nIndex: []\nEmpty DataFrame\nColumns: []\nIndex: []\nEmpty DataFrame\nColumns: [5, 564]\nIndex: []\nEmpty DataFrame\nColumns: []\nIndex: []\nEmpty DataFrame\nColumns: [5, 565]\nIndex: []\nEmpty DataFrame\nColumns: []\nIndex: []\nEmpty DataFrame\nColumns: [5, 566]\nIndex: []\n     566\n566  NaN\nEmpty DataFrame\nColumns: [5, 567]\nIndex: []\nEmpty DataFrame\nColumns: []\nIndex: []\nEmpty DataFrame\nColumns: [5, 568]\nIndex: []\nEmpty DataFrame\nColumns: []\nIndex: []\nEmpty DataFrame\nColumns: [5, 569]\nIndex: []\nEmpty DataFrame\nColumns: []\nIndex: []\nEmpty DataFrame\nColumns: [5, 570]\nIndex: []\n     570\n570  NaN\nEmpty DataFrame\nColumns: [5, 571]\nIndex: []\nEmpty DataFrame\nColumns: []\nIndex: []\nEmpty DataFrame\nColumns: [5, 572]\nIndex: []\nEmpty DataFrame\nColumns: []\nIndex: []\nEmpty DataFrame\nColumns: [5, 573]\nIndex: []\nEmpty DataFrame\nColumns: []\nIndex: []\nEmpty DataFrame\nColumns: [5, 574]\nIndex: []"
     ]
    },
    {
     "name": "stdout",
     "output_type": "stream",
     "text": [
      "\nEmpty DataFrame\nColumns: []\nIndex: []\nEmpty DataFrame\nColumns: [5, 575]\nIndex: []\n     575\n575  NaN\nEmpty DataFrame\nColumns: [5, 576]\nIndex: []\n     576\n576  NaN\nEmpty DataFrame\nColumns: [5, 577]\nIndex: []\n     577\n577  NaN\nEmpty DataFrame\nColumns: [5, 578]\nIndex: []\n     578\n578  NaN\nEmpty DataFrame\nColumns: [5, 579]\nIndex: []\n     579\n579  NaN\nEmpty DataFrame\nColumns: [5, 580]\nIndex: []\nEmpty DataFrame\nColumns: []\nIndex: []\nEmpty DataFrame\nColumns: [5, 581]\nIndex: []\nEmpty DataFrame\nColumns: []\nIndex: []\nEmpty DataFrame\nColumns: [5, 582]\nIndex: []\nEmpty DataFrame\nColumns: []\nIndex: []\nEmpty DataFrame\nColumns: [5, 583]\nIndex: []\nEmpty DataFrame\nColumns: []\nIndex: []\nEmpty DataFrame\nColumns: [5, 584]\nIndex: []\nEmpty DataFrame\nColumns: []\nIndex: []\nEmpty DataFrame\nColumns: [5, 585]\nIndex: []\nEmpty DataFrame\nColumns: []\nIndex: []\nEmpty DataFrame\nColumns: [5, 586]\nIndex: []\n     586\n586  NaN\nEmpty DataFrame\nColumns: [5, 587]\nIndex: []\n     587\n587  NaN\nEmpty DataFrame\nColumns: [5, 588]\nIndex: []\n     588\n588  NaN\nEmpty DataFrame\nColumns: [5, 589]\nIndex: []\nEmpty DataFrame\nColumns: []\nIndex: []\n"
     ]
    },
    {
     "name": "stdout",
     "output_type": "stream",
     "text": [
      "Empty DataFrame\nColumns: [5, 590]\nIndex: []\n     590\n590  NaN\nEmpty DataFrame\nColumns: [5, 591]\nIndex: []\n     591\n591  NaN\nEmpty DataFrame\nColumns: [5, 592]\nIndex: []\n     592\n592  NaN\nEmpty DataFrame\nColumns: [5, 593]\nIndex: []\n     593\n593  NaN\nEmpty DataFrame\nColumns: [5, 594]\nIndex: []\n     594\n594  NaN\nEmpty DataFrame\nColumns: [5, 595]\nIndex: []\n     595\n595  NaN\nEmpty DataFrame\nColumns: [5, 596]\nIndex: []\n     596\n596  NaN\nEmpty DataFrame\nColumns: [5, 597]\nIndex: []\n     597\n597  NaN\nEmpty DataFrame\nColumns: [5, 598]\nIndex: []\n     598\n598  NaN\nEmpty DataFrame\nColumns: [5, 599]\nIndex: []\nEmpty DataFrame\nColumns: []\nIndex: []\nEmpty DataFrame\nColumns: [5, 600]\nIndex: []\nEmpty DataFrame\nColumns: []\nIndex: []\nEmpty DataFrame\nColumns: [5, 601]\nIndex: []\nEmpty DataFrame\nColumns: []\nIndex: []\nEmpty DataFrame\nColumns: [5, 602]\nIndex: []\nEmpty DataFrame\nColumns: []\nIndex: []\nEmpty DataFrame\nColumns: [5, 603]\nIndex: []\n     603\n603  NaN\nEmpty DataFrame\nColumns: [5, 604]\nIndex: []\n     604\n604  NaN\n"
     ]
    },
    {
     "name": "stdout",
     "output_type": "stream",
     "text": [
      "Empty DataFrame\nColumns: [5, 605]\nIndex: []\nEmpty DataFrame\nColumns: []\nIndex: []\nEmpty DataFrame\nColumns: [5, 606]\nIndex: []\nEmpty DataFrame\nColumns: []\nIndex: []\nEmpty DataFrame\nColumns: [5, 607]\nIndex: []\nEmpty DataFrame\nColumns: []\nIndex: []\nEmpty DataFrame\nColumns: [5, 608]\nIndex: []\nEmpty DataFrame\nColumns: []\nIndex: []\nEmpty DataFrame\nColumns: [5, 609]\nIndex: []\nEmpty DataFrame\nColumns: []\nIndex: []\nEmpty DataFrame\nColumns: [5, 610]\nIndex: []\nEmpty DataFrame\nColumns: []\nIndex: []\nEmpty DataFrame\nColumns: [5, 611]\nIndex: []\nEmpty DataFrame\nColumns: []\nIndex: []\nEmpty DataFrame\nColumns: [5, 612]\nIndex: []\nEmpty DataFrame\nColumns: []\nIndex: []\nEmpty DataFrame\nColumns: [5, 613]\nIndex: []\nEmpty DataFrame\nColumns: []\nIndex: []\nEmpty DataFrame\nColumns: [5, 614]\nIndex: []\n     614\n614  NaN\nEmpty DataFrame\nColumns: [5, 615]\nIndex: []\n     615\n615  NaN\nEmpty DataFrame\nColumns: [5, 616]\nIndex: []\nEmpty DataFrame\nColumns: []\nIndex: []\nEmpty DataFrame\nColumns: [5, 617]\nIndex: []\nEmpty DataFrame\nColumns: []\nIndex: []\nEmpty DataFrame\nColumns: [5, 618]\nIndex: []\n     618\n618  NaN\nEmpty DataFrame\nColumns: [5, 619]\nIndex: []\nEmpty DataFrame\nColumns: []\nIndex: []\n"
     ]
    },
    {
     "name": "stdout",
     "output_type": "stream",
     "text": [
      "Empty DataFrame\nColumns: [5, 620]\nIndex: []\n     620\n620  NaN\nEmpty DataFrame\nColumns: [5, 621]\nIndex: []\nEmpty DataFrame\nColumns: []\nIndex: []\nEmpty DataFrame\nColumns: [5, 622]\nIndex: []\nEmpty DataFrame\nColumns: []\nIndex: []\nEmpty DataFrame\nColumns: [5, 623]\nIndex: []\n     623\n623  NaN\nEmpty DataFrame\nColumns: [5, 624]\nIndex: []\n     624\n624  NaN\nEmpty DataFrame\nColumns: [5, 625]\nIndex: []\n     625\n625  NaN\nEmpty DataFrame\nColumns: [5, 626]\nIndex: []\nEmpty DataFrame\nColumns: []\nIndex: []\nEmpty DataFrame\nColumns: [5, 627]\nIndex: []\nEmpty DataFrame\nColumns: []\nIndex: []\nEmpty DataFrame\nColumns: [5, 628]\nIndex: []\nEmpty DataFrame\nColumns: []\nIndex: []\nEmpty DataFrame\nColumns: [5, 629]\nIndex: []\nEmpty DataFrame\nColumns: []\nIndex: []\nEmpty DataFrame\nColumns: [5, 630]\nIndex: []\nEmpty DataFrame\nColumns: []\nIndex: []\nEmpty DataFrame\nColumns: [5, 631]\nIndex: []\nEmpty DataFrame\nColumns: []\nIndex: []\nEmpty DataFrame\nColumns: [5, 632]\nIndex: []\nEmpty DataFrame\nColumns: []\nIndex: []\nEmpty DataFrame\nColumns: [5, 633]\nIndex: []"
     ]
    },
    {
     "name": "stdout",
     "output_type": "stream",
     "text": [
      "\nEmpty DataFrame\nColumns: []\nIndex: []\nEmpty DataFrame\nColumns: [5, 634]\nIndex: []\nEmpty DataFrame\nColumns: []\nIndex: []\nEmpty DataFrame\nColumns: [5, 635]\nIndex: []\nEmpty DataFrame\nColumns: []\nIndex: []\nEmpty DataFrame\nColumns: [5, 636]\nIndex: []\nEmpty DataFrame\nColumns: []\nIndex: []\nEmpty DataFrame\nColumns: [5, 637]\nIndex: []\nEmpty DataFrame\nColumns: []\nIndex: []\nEmpty DataFrame\nColumns: [5, 638]\nIndex: []\nEmpty DataFrame\nColumns: []\nIndex: []\nEmpty DataFrame\nColumns: [5, 639]\nIndex: []\nEmpty DataFrame\nColumns: []\nIndex: []\nEmpty DataFrame\nColumns: [5, 640]\nIndex: []\nEmpty DataFrame\nColumns: []\nIndex: []\nEmpty DataFrame\nColumns: [5, 641]\nIndex: []\nEmpty DataFrame\nColumns: []\nIndex: []\nEmpty DataFrame\nColumns: [5, 642]\nIndex: []\nEmpty DataFrame\nColumns: []\nIndex: []\nEmpty DataFrame\nColumns: [5, 643]\nIndex: []\nEmpty DataFrame\nColumns: []\nIndex: []\nEmpty DataFrame\nColumns: [5, 644]\nIndex: []\nEmpty DataFrame\nColumns: []\nIndex: []\nEmpty DataFrame\nColumns: [5, 645]\nIndex: []\nEmpty DataFrame\nColumns: []\nIndex: []\nEmpty DataFrame\nColumns: [5, 646]\nIndex: []\nEmpty DataFrame\nColumns: []\nIndex: []\n"
     ]
    },
    {
     "name": "stdout",
     "output_type": "stream",
     "text": [
      "Empty DataFrame\nColumns: [5, 647]\nIndex: []\nEmpty DataFrame\nColumns: []\nIndex: []\nEmpty DataFrame\nColumns: [5, 648]\nIndex: []\nEmpty DataFrame\nColumns: []\nIndex: []\nEmpty DataFrame\nColumns: [5, 649]\nIndex: []\nEmpty DataFrame\nColumns: []\nIndex: []\nEmpty DataFrame\nColumns: [5, 650]\nIndex: []\nEmpty DataFrame\nColumns: []\nIndex: []\nEmpty DataFrame\nColumns: [5, 651]\nIndex: []\nEmpty DataFrame\nColumns: []\nIndex: []\nEmpty DataFrame\nColumns: [5, 652]\nIndex: []\nEmpty DataFrame\nColumns: []\nIndex: []\nEmpty DataFrame\nColumns: [5, 653]\nIndex: []\nEmpty DataFrame\nColumns: []\nIndex: []\nEmpty DataFrame\nColumns: [5, 654]\nIndex: []\nEmpty DataFrame\nColumns: []\nIndex: []\nEmpty DataFrame\nColumns: [5, 655]\nIndex: []\nEmpty DataFrame\nColumns: []\nIndex: []\nEmpty DataFrame\nColumns: [5, 656]\nIndex: []\nEmpty DataFrame\nColumns: []\nIndex: []\nEmpty DataFrame\nColumns: [5, 657]\nIndex: []\nEmpty DataFrame\nColumns: []\nIndex: []\nEmpty DataFrame\nColumns: [5, 658]\nIndex: []\nEmpty DataFrame\nColumns: []\nIndex: []\nEmpty DataFrame\nColumns: [5, 659]\nIndex: []\nEmpty DataFrame\nColumns: []\nIndex: []\nEmpty DataFrame\nColumns: [5, 660]\nIndex: []\nEmpty DataFrame\nColumns: []\nIndex: []\nEmpty DataFrame\nColumns: [5, 661]\nIndex: []\nEmpty DataFrame\nColumns: []\nIndex: []\n"
     ]
    },
    {
     "name": "stdout",
     "output_type": "stream",
     "text": [
      "Empty DataFrame\nColumns: [5, 662]\nIndex: []\nEmpty DataFrame\nColumns: []\nIndex: []\nEmpty DataFrame\nColumns: [5, 663]\nIndex: []\nEmpty DataFrame\nColumns: []\nIndex: []\nEmpty DataFrame\nColumns: [5, 664]\nIndex: []\nEmpty DataFrame\nColumns: []\nIndex: []\nEmpty DataFrame\nColumns: [5, 665]\nIndex: []\nEmpty DataFrame\nColumns: []\nIndex: []\nEmpty DataFrame\nColumns: [5, 666]\nIndex: []\nEmpty DataFrame\nColumns: []\nIndex: []\nEmpty DataFrame\nColumns: [5, 667]\nIndex: []\nEmpty DataFrame\nColumns: []\nIndex: []\nEmpty DataFrame\nColumns: [5, 668]\nIndex: []\nEmpty DataFrame\nColumns: []\nIndex: []\nEmpty DataFrame\nColumns: [5, 669]\nIndex: []\nEmpty DataFrame\nColumns: []\nIndex: []\nEmpty DataFrame\nColumns: [5, 670]\nIndex: []\nEmpty DataFrame\nColumns: []\nIndex: []\nEmpty DataFrame\nColumns: [5, 671]\nIndex: []\nEmpty DataFrame\nColumns: []\nIndex: []\nEmpty DataFrame\nColumns: [5, 672]\nIndex: []\nEmpty DataFrame\nColumns: []\nIndex: []\nEmpty DataFrame\nColumns: [5, 673]\nIndex: []\nEmpty DataFrame\nColumns: []\nIndex: []\nEmpty DataFrame\nColumns: [5, 674]\nIndex: []\nEmpty DataFrame\nColumns: []\nIndex: []\nEmpty DataFrame\nColumns: [5, 675]\nIndex: []\nEmpty DataFrame\nColumns: []\nIndex: []\nEmpty DataFrame\nColumns: [5, 676]\nIndex: []\nEmpty DataFrame\nColumns: []\nIndex: []\n"
     ]
    },
    {
     "name": "stdout",
     "output_type": "stream",
     "text": [
      "Empty DataFrame\nColumns: [5, 677]\nIndex: []\nEmpty DataFrame\nColumns: []\nIndex: []\nEmpty DataFrame\nColumns: [5, 678]\nIndex: []\nEmpty DataFrame\nColumns: []\nIndex: []\nEmpty DataFrame\nColumns: [5, 679]\nIndex: []\nEmpty DataFrame\nColumns: []\nIndex: []\nEmpty DataFrame\nColumns: [5, 680]\nIndex: []\nEmpty DataFrame\nColumns: []\nIndex: []\nEmpty DataFrame\nColumns: [5, 681]\nIndex: []\nEmpty DataFrame\nColumns: []\nIndex: []\nEmpty DataFrame\nColumns: [5, 682]\nIndex: []\nEmpty DataFrame\nColumns: []\nIndex: []\nEmpty DataFrame\nColumns: [5, 683]\nIndex: []\nEmpty DataFrame\nColumns: []\nIndex: []\nEmpty DataFrame\nColumns: [5, 684]\nIndex: []\nEmpty DataFrame\nColumns: []\nIndex: []\nEmpty DataFrame\nColumns: [5, 685]\nIndex: []\nEmpty DataFrame\nColumns: []\nIndex: []\nEmpty DataFrame\nColumns: [5, 686]\nIndex: []\nEmpty DataFrame\nColumns: []\nIndex: []\nEmpty DataFrame\nColumns: [5, 687]\nIndex: []\nEmpty DataFrame\nColumns: []\nIndex: []\nEmpty DataFrame\nColumns: [5, 688]\nIndex: []\nEmpty DataFrame\nColumns: []\nIndex: []\nEmpty DataFrame\nColumns: [5, 689]\nIndex: []\n     689\n689  NaN\nEmpty DataFrame\nColumns: [5, 690]\nIndex: []\n     690\n690  NaN\nEmpty DataFrame\nColumns: [5, 691]\nIndex: []\nEmpty DataFrame\nColumns: []\nIndex: []\n"
     ]
    },
    {
     "name": "stdout",
     "output_type": "stream",
     "text": [
      "Empty DataFrame\nColumns: [5, 692]\nIndex: []\nEmpty DataFrame\nColumns: []\nIndex: []\nEmpty DataFrame\nColumns: [5, 693]\nIndex: []\n     693\n693  NaN\nEmpty DataFrame\nColumns: [5, 694]\nIndex: []\n     694\n694  NaN\nEmpty DataFrame\nColumns: [5, 695]\nIndex: []\n     695\n695  NaN\nEmpty DataFrame\nColumns: [5, 696]\nIndex: []\n     696\n696  NaN\nEmpty DataFrame\nColumns: [5, 697]\nIndex: []\n     697\n697  NaN\nEmpty DataFrame\nColumns: [5, 698]\nIndex: []\n     698\n698  NaN\nEmpty DataFrame\nColumns: [5, 699]\nIndex: []\n     699\n699  NaN\nEmpty DataFrame\nColumns: [5, 700]\nIndex: []\n     700\n700  NaN\nEmpty DataFrame\nColumns: [5, 701]\nIndex: []\n     701\n701  NaN\nEmpty DataFrame\nColumns: [5, 702]\nIndex: []\nEmpty DataFrame\nColumns: []\nIndex: []\nEmpty DataFrame\nColumns: [5, 703]\nIndex: []\nEmpty DataFrame\nColumns: []\nIndex: []\nEmpty DataFrame\nColumns: [5, 704]\nIndex: []\n     704\n704  NaN\nEmpty DataFrame\nColumns: [5, 705]\nIndex: []\nEmpty DataFrame\nColumns: []\nIndex: []\n"
     ]
    },
    {
     "name": "stdout",
     "output_type": "stream",
     "text": [
      "Empty DataFrame\nColumns: [5, 706]\nIndex: []\nEmpty DataFrame\nColumns: []\nIndex: []\nEmpty DataFrame\nColumns: [5, 707]\nIndex: []\nEmpty DataFrame\nColumns: []\nIndex: []\nEmpty DataFrame\nColumns: [5, 708]\nIndex: []\nEmpty DataFrame\nColumns: []\nIndex: []\nEmpty DataFrame\nColumns: [5, 709]\nIndex: []\nEmpty DataFrame\nColumns: []\nIndex: []\nEmpty DataFrame\nColumns: [5, 710]\nIndex: []\nEmpty DataFrame\nColumns: []\nIndex: []\nEmpty DataFrame\nColumns: [5, 711]\nIndex: []\nEmpty DataFrame\nColumns: []\nIndex: []\nEmpty DataFrame\nColumns: [5, 712]\nIndex: []\nEmpty DataFrame\nColumns: []\nIndex: []\nEmpty DataFrame\nColumns: [5, 713]\nIndex: []\nEmpty DataFrame\nColumns: []\nIndex: []\nEmpty DataFrame\nColumns: [5, 714]\nIndex: []\nEmpty DataFrame\nColumns: []\nIndex: []\nEmpty DataFrame\nColumns: [5, 715]\nIndex: []\n     715\n715  NaN\nEmpty DataFrame\nColumns: [5, 716]\nIndex: []\nEmpty DataFrame\nColumns: []\nIndex: []\nEmpty DataFrame\nColumns: [5, 717]\nIndex: []\nEmpty DataFrame\nColumns: []\nIndex: []\nEmpty DataFrame\nColumns: [5, 718]\nIndex: []\nEmpty DataFrame\nColumns: []\nIndex: []\nEmpty DataFrame\nColumns: [5, 719]\nIndex: []\nEmpty DataFrame\nColumns: []\nIndex: []\nEmpty DataFrame\nColumns: [5, 720]\nIndex: []\nEmpty DataFrame\nColumns: []\nIndex: []\n"
     ]
    },
    {
     "name": "stdout",
     "output_type": "stream",
     "text": [
      "Empty DataFrame\nColumns: [5, 721]\nIndex: []\n     721\n721  NaN\nEmpty DataFrame\nColumns: [5, 722]\nIndex: []\n     722\n722  NaN\nEmpty DataFrame\nColumns: [5, 723]\nIndex: []\n     723\n723  NaN\nEmpty DataFrame\nColumns: [5, 724]\nIndex: []\n     724\n724  NaN\nEmpty DataFrame\nColumns: [5, 725]\nIndex: []\n     725\n725  NaN\nEmpty DataFrame\nColumns: [5, 726]\nIndex: []\n     726\n726  NaN\nEmpty DataFrame\nColumns: [5, 727]\nIndex: []\n     727\n727  NaN\nEmpty DataFrame\nColumns: [5, 728]\nIndex: []\nEmpty DataFrame\nColumns: []\nIndex: []\nEmpty DataFrame\nColumns: [5, 729]\nIndex: []\n     729\n729  NaN\nEmpty DataFrame\nColumns: [5, 730]\nIndex: []\n     730\n730  NaN\nEmpty DataFrame\nColumns: [5, 731]\nIndex: []\n     731\n731  NaN\nEmpty DataFrame\nColumns: [5, 732]\nIndex: []\nEmpty DataFrame\nColumns: []\nIndex: []\nEmpty DataFrame\nColumns: [5, 733]\nIndex: []\nEmpty DataFrame\nColumns: []\nIndex: []\nEmpty DataFrame\nColumns: [5, 734]\nIndex: []\nEmpty DataFrame\nColumns: []\nIndex: []\nEmpty DataFrame\nColumns: [5, 735]\nIndex: []\nEmpty DataFrame\nColumns: []\nIndex: []"
     ]
    },
    {
     "name": "stdout",
     "output_type": "stream",
     "text": [
      "\nEmpty DataFrame\nColumns: [5, 736]\nIndex: []\nEmpty DataFrame\nColumns: []\nIndex: []\nEmpty DataFrame\nColumns: [5, 737]\nIndex: []\nEmpty DataFrame\nColumns: []\nIndex: []\nEmpty DataFrame\nColumns: [5, 738]\nIndex: []\nEmpty DataFrame\nColumns: []\nIndex: []\nEmpty DataFrame\nColumns: [5, 739]\nIndex: []\n     739\n739  NaN\nEmpty DataFrame\nColumns: [5, 740]\nIndex: []\nEmpty DataFrame\nColumns: []\nIndex: []\nEmpty DataFrame\nColumns: [5, 741]\nIndex: []\nEmpty DataFrame\nColumns: []\nIndex: []\nEmpty DataFrame\nColumns: [5, 742]\nIndex: []\nEmpty DataFrame\nColumns: []\nIndex: []\nEmpty DataFrame\nColumns: [5, 743]\nIndex: []\nEmpty DataFrame\nColumns: []\nIndex: []\nEmpty DataFrame\nColumns: [5, 744]\nIndex: []\n     744\n744  NaN\nEmpty DataFrame\nColumns: [5, 745]\nIndex: []\nEmpty DataFrame\nColumns: []\nIndex: []\nEmpty DataFrame\nColumns: [5, 746]\nIndex: []\nEmpty DataFrame\nColumns: []\nIndex: []\nEmpty DataFrame\nColumns: [5, 747]\nIndex: []\nEmpty DataFrame\nColumns: []\nIndex: []\nEmpty DataFrame\nColumns: [5, 748]\nIndex: []\nEmpty DataFrame\nColumns: []\nIndex: []\n"
     ]
    },
    {
     "name": "stdout",
     "output_type": "stream",
     "text": [
      "Empty DataFrame\nColumns: [5, 749]\nIndex: []\nEmpty DataFrame\nColumns: []\nIndex: []\nEmpty DataFrame\nColumns: [5, 750]\nIndex: []\n     750\n750  NaN\nEmpty DataFrame\nColumns: [5, 751]\nIndex: []\nEmpty DataFrame\nColumns: []\nIndex: []\nEmpty DataFrame\nColumns: [5, 752]\nIndex: []\nEmpty DataFrame\nColumns: []\nIndex: []\nEmpty DataFrame\nColumns: [5, 753]\nIndex: []\nEmpty DataFrame\nColumns: []\nIndex: []\nEmpty DataFrame\nColumns: [5, 754]\nIndex: []\nEmpty DataFrame\nColumns: []\nIndex: []\nEmpty DataFrame\nColumns: [5, 755]\nIndex: []\nEmpty DataFrame\nColumns: []\nIndex: []\nEmpty DataFrame\nColumns: [5, 756]\nIndex: []\nEmpty DataFrame\nColumns: []\nIndex: []\nEmpty DataFrame\nColumns: [5, 757]\nIndex: []\nEmpty DataFrame\nColumns: []\nIndex: []\nEmpty DataFrame\nColumns: [5, 758]\nIndex: []\nEmpty DataFrame\nColumns: []\nIndex: []\nEmpty DataFrame\nColumns: [5, 759]\nIndex: []\nEmpty DataFrame\nColumns: []\nIndex: []\nEmpty DataFrame\nColumns: [5, 760]\nIndex: []\nEmpty DataFrame\nColumns: []\nIndex: []\nEmpty DataFrame\nColumns: [5, 761]\nIndex: []\nEmpty DataFrame\nColumns: []\nIndex: []\nEmpty DataFrame\nColumns: [5, 762]\nIndex: []\nEmpty DataFrame\nColumns: []\nIndex: []\nEmpty DataFrame\nColumns: [5, 763]\nIndex: []\nEmpty DataFrame\nColumns: []\nIndex: []\n"
     ]
    },
    {
     "name": "stdout",
     "output_type": "stream",
     "text": [
      "Empty DataFrame\nColumns: [5, 764]\nIndex: []\nEmpty DataFrame\nColumns: []\nIndex: []\nEmpty DataFrame\nColumns: [5, 765]\nIndex: []\nEmpty DataFrame\nColumns: []\nIndex: []\nEmpty DataFrame\nColumns: [5, 766]\nIndex: []\n     766\n766  NaN\nEmpty DataFrame\nColumns: [5, 767]\nIndex: []\nEmpty DataFrame\nColumns: []\nIndex: []\nEmpty DataFrame\nColumns: [5, 768]\nIndex: []\nEmpty DataFrame\nColumns: []\nIndex: []\nEmpty DataFrame\nColumns: [5, 769]\nIndex: []\nEmpty DataFrame\nColumns: []\nIndex: []\nEmpty DataFrame\nColumns: [5, 770]\nIndex: []\nEmpty DataFrame\nColumns: []\nIndex: []\nEmpty DataFrame\nColumns: [5, 771]\nIndex: []\nEmpty DataFrame\nColumns: []\nIndex: []\nEmpty DataFrame\nColumns: [5, 772]\nIndex: []\nEmpty DataFrame\nColumns: []\nIndex: []\nEmpty DataFrame\nColumns: [5, 773]\nIndex: []\nEmpty DataFrame\nColumns: []\nIndex: []\nEmpty DataFrame\nColumns: [5, 774]\nIndex: []\nEmpty DataFrame\nColumns: []\nIndex: []\nEmpty DataFrame\nColumns: [5, 775]\nIndex: []\nEmpty DataFrame\nColumns: []\nIndex: []\nEmpty DataFrame\nColumns: [5, 776]\nIndex: []\n     776\n776  NaN\nEmpty DataFrame\nColumns: [5, 777]\nIndex: []\nEmpty DataFrame\nColumns: []\nIndex: []\nEmpty DataFrame\nColumns: [5, 778]\nIndex: []\n     778\n778  NaN\n"
     ]
    },
    {
     "name": "stdout",
     "output_type": "stream",
     "text": [
      "Empty DataFrame\nColumns: [5, 779]\nIndex: []\nEmpty DataFrame\nColumns: []\nIndex: []\nEmpty DataFrame\nColumns: [5, 780]\nIndex: []\n     780\n780  NaN\nEmpty DataFrame\nColumns: [5, 781]\nIndex: []\n     781\n781  NaN\nEmpty DataFrame\nColumns: [5, 782]\nIndex: []\nEmpty DataFrame\nColumns: []\nIndex: []\nEmpty DataFrame\nColumns: [5, 783]\nIndex: []\nEmpty DataFrame\nColumns: []\nIndex: []\nEmpty DataFrame\nColumns: [5, 784]\nIndex: []\nEmpty DataFrame\nColumns: []\nIndex: []\nEmpty DataFrame\nColumns: [5, 785]\nIndex: []\nEmpty DataFrame\nColumns: []\nIndex: []\nEmpty DataFrame\nColumns: [5, 786]\nIndex: []\nEmpty DataFrame\nColumns: []\nIndex: []\nEmpty DataFrame\nColumns: [5, 787]\nIndex: []\n     787\n787  NaN\nEmpty DataFrame\nColumns: [5, 788]\nIndex: []\nEmpty DataFrame\nColumns: []\nIndex: []\nEmpty DataFrame\nColumns: [5, 789]\nIndex: []\nEmpty DataFrame\nColumns: []\nIndex: []\nEmpty DataFrame\nColumns: [5, 790]\nIndex: []\nEmpty DataFrame\nColumns: []\nIndex: []\nEmpty DataFrame\nColumns: [5, 791]\nIndex: []\n     791\n791  NaN\nEmpty DataFrame\nColumns: [5, 792]\nIndex: []\nEmpty DataFrame\nColumns: []\nIndex: []\n"
     ]
    },
    {
     "name": "stdout",
     "output_type": "stream",
     "text": [
      "Empty DataFrame\nColumns: [5, 793]\nIndex: []\nEmpty DataFrame\nColumns: []\nIndex: []\nEmpty DataFrame\nColumns: [5, 794]\nIndex: []\nEmpty DataFrame\nColumns: []\nIndex: []\nEmpty DataFrame\nColumns: [5, 795]\nIndex: []\nEmpty DataFrame\nColumns: []\nIndex: []\nEmpty DataFrame\nColumns: [5, 796]\nIndex: []\n     796\n796  NaN\nEmpty DataFrame\nColumns: [5, 797]\nIndex: []\nEmpty DataFrame\nColumns: []\nIndex: []\nEmpty DataFrame\nColumns: [5, 798]\nIndex: []\nEmpty DataFrame\nColumns: []\nIndex: []\nEmpty DataFrame\nColumns: [5, 799]\nIndex: []\nEmpty DataFrame\nColumns: []\nIndex: []\nEmpty DataFrame\nColumns: [5, 800]\nIndex: []\nEmpty DataFrame\nColumns: []\nIndex: []\nEmpty DataFrame\nColumns: [5, 801]\nIndex: []\nEmpty DataFrame\nColumns: []\nIndex: []\nEmpty DataFrame\nColumns: [5, 802]\nIndex: []\nEmpty DataFrame\nColumns: []\nIndex: []\nEmpty DataFrame\nColumns: [5, 803]\nIndex: []\nEmpty DataFrame\nColumns: []\nIndex: []\nEmpty DataFrame\nColumns: [5, 804]\nIndex: []\n     804\n804  NaN\nEmpty DataFrame\nColumns: [5, 805]\nIndex: []\n     805\n805  NaN\nEmpty DataFrame\nColumns: [5, 806]\nIndex: []\nEmpty DataFrame\nColumns: []\nIndex: []\nEmpty DataFrame\nColumns: [5, 807]\nIndex: []\n     807\n807  NaN\n"
     ]
    },
    {
     "name": "stdout",
     "output_type": "stream",
     "text": [
      "Empty DataFrame\nColumns: [5, 808]\nIndex: []\n     808\n808  NaN\nEmpty DataFrame\nColumns: [5, 809]\nIndex: []\n     809\n809  NaN\nEmpty DataFrame\nColumns: [5, 810]\nIndex: []\n     810\n810  NaN\nEmpty DataFrame\nColumns: [5, 811]\nIndex: []\nEmpty DataFrame\nColumns: []\nIndex: []\nEmpty DataFrame\nColumns: [5, 812]\nIndex: []\nEmpty DataFrame\nColumns: []\nIndex: []\nEmpty DataFrame\nColumns: [5, 813]\nIndex: []\nEmpty DataFrame\nColumns: []\nIndex: []\nEmpty DataFrame\nColumns: [5, 814]\nIndex: []\nEmpty DataFrame\nColumns: []\nIndex: []\nEmpty DataFrame\nColumns: [5, 815]\nIndex: []\nEmpty DataFrame\nColumns: []\nIndex: []\nEmpty DataFrame\nColumns: [5, 816]\nIndex: []\nEmpty DataFrame\nColumns: []\nIndex: []\nEmpty DataFrame\nColumns: [5, 817]\nIndex: []\nEmpty DataFrame\nColumns: []\nIndex: []\nEmpty DataFrame\nColumns: [5, 818]\nIndex: []\nEmpty DataFrame\nColumns: []\nIndex: []\nEmpty DataFrame\nColumns: [5, 819]\nIndex: []\nEmpty DataFrame\nColumns: []\nIndex: []\nEmpty DataFrame\nColumns: [5, 820]\nIndex: []\n     820\n820  NaN\nEmpty DataFrame\nColumns: [5, 821]\nIndex: []\n     821\n821  NaN\nEmpty DataFrame\nColumns: [5, 822]\nIndex: []\nEmpty DataFrame\nColumns: []\nIndex: []\n"
     ]
    },
    {
     "name": "stdout",
     "output_type": "stream",
     "text": [
      "Empty DataFrame\nColumns: [5, 823]\nIndex: []\nEmpty DataFrame\nColumns: []\nIndex: []\nEmpty DataFrame\nColumns: [5, 824]\nIndex: []\n     824\n824  NaN\nEmpty DataFrame\nColumns: [5, 825]\nIndex: []\nEmpty DataFrame\nColumns: []\nIndex: []\nEmpty DataFrame\nColumns: [5, 826]\nIndex: []\nEmpty DataFrame\nColumns: []\nIndex: []\nEmpty DataFrame\nColumns: [5, 827]\nIndex: []\nEmpty DataFrame\nColumns: []\nIndex: []\nEmpty DataFrame\nColumns: [5, 828]\nIndex: []\n     828\n828  NaN\nEmpty DataFrame\nColumns: [5, 829]\nIndex: []\nEmpty DataFrame\nColumns: []\nIndex: []\nEmpty DataFrame\nColumns: [5, 830]\nIndex: []\n     830\n830  NaN\nEmpty DataFrame\nColumns: [5, 831]\nIndex: []\nEmpty DataFrame\nColumns: []\nIndex: []\nEmpty DataFrame\nColumns: [5, 832]\nIndex: []\nEmpty DataFrame\nColumns: []\nIndex: []\nEmpty DataFrame\nColumns: [5, 833]\nIndex: []\nEmpty DataFrame\nColumns: []\nIndex: []\nEmpty DataFrame\nColumns: [5, 834]\nIndex: []\nEmpty DataFrame\nColumns: []\nIndex: []\nEmpty DataFrame\nColumns: [5, 835]\nIndex: []\nEmpty DataFrame\nColumns: []\nIndex: []\nEmpty DataFrame\nColumns: [5, 836]\nIndex: []\n"
     ]
    },
    {
     "name": "stdout",
     "output_type": "stream",
     "text": [
      "Empty DataFrame\nColumns: []\nIndex: []\nEmpty DataFrame\nColumns: [5, 837]\nIndex: []\nEmpty DataFrame\nColumns: []\nIndex: []\nEmpty DataFrame\nColumns: [5, 838]\nIndex: []\nEmpty DataFrame\nColumns: []\nIndex: []\nEmpty DataFrame\nColumns: [5, 839]\nIndex: []\nEmpty DataFrame\nColumns: []\nIndex: []\nEmpty DataFrame\nColumns: [5, 840]\nIndex: []\nEmpty DataFrame\nColumns: []\nIndex: []\nEmpty DataFrame\nColumns: [5, 841]\nIndex: []\nEmpty DataFrame\nColumns: []\nIndex: []\nEmpty DataFrame\nColumns: [5, 842]\nIndex: []\nEmpty DataFrame\nColumns: []\nIndex: []\nEmpty DataFrame\nColumns: [5, 843]\nIndex: []\n     843\n843  NaN\nEmpty DataFrame\nColumns: [5, 844]\nIndex: []\nEmpty DataFrame\nColumns: []\nIndex: []\nEmpty DataFrame\nColumns: [5, 845]\nIndex: []\nEmpty DataFrame\nColumns: []\nIndex: []\nEmpty DataFrame\nColumns: [5, 846]\nIndex: []\nEmpty DataFrame\nColumns: []\nIndex: []\nEmpty DataFrame\nColumns: [5, 847]\nIndex: []\nEmpty DataFrame\nColumns: []\nIndex: []\nEmpty DataFrame\nColumns: [5, 848]\nIndex: []\nEmpty DataFrame\nColumns: []\nIndex: []\nEmpty DataFrame\nColumns: [5, 849]\nIndex: []\nEmpty DataFrame\nColumns: []\nIndex: []\nEmpty DataFrame\nColumns: [5, 850]\nIndex: []\nEmpty DataFrame\nColumns: []\nIndex: []\nEmpty DataFrame\nColumns: [5, 851]\nIndex: []"
     ]
    },
    {
     "name": "stdout",
     "output_type": "stream",
     "text": [
      "\nEmpty DataFrame\nColumns: []\nIndex: []\nEmpty DataFrame\nColumns: [5, 852]\nIndex: []\nEmpty DataFrame\nColumns: []\nIndex: []\nEmpty DataFrame\nColumns: [5, 853]\nIndex: []\nEmpty DataFrame\nColumns: []\nIndex: []\nEmpty DataFrame\nColumns: [5, 854]\nIndex: []\nEmpty DataFrame\nColumns: []\nIndex: []\nEmpty DataFrame\nColumns: [5, 855]\nIndex: []\nEmpty DataFrame\nColumns: []\nIndex: []\nEmpty DataFrame\nColumns: [5, 856]\nIndex: []\nEmpty DataFrame\nColumns: []\nIndex: []\nEmpty DataFrame\nColumns: [5, 857]\nIndex: []\n     857\n857  NaN\nEmpty DataFrame\nColumns: [5, 858]\nIndex: []\n     858\n858  NaN\nEmpty DataFrame\nColumns: [5, 859]\nIndex: []\n     859\n859  NaN\nEmpty DataFrame\nColumns: [5, 860]\nIndex: []\n     860\n860  NaN\nEmpty DataFrame\nColumns: [5, 861]\nIndex: []\n     861\n861  NaN\nEmpty DataFrame\nColumns: [5, 862]\nIndex: []\nEmpty DataFrame\nColumns: []\nIndex: []\nEmpty DataFrame\nColumns: [5, 863]\nIndex: []\n     863\n863  NaN\nEmpty DataFrame\nColumns: [5, 864]\nIndex: []\n     864\n864  NaN\nEmpty DataFrame\nColumns: [5, 865]\nIndex: []\nEmpty DataFrame\nColumns: []\nIndex: []\nEmpty DataFrame\nColumns: [5, 866]\nIndex: []\nEmpty DataFrame\nColumns: []\nIndex: []\nEmpty DataFrame\nColumns: [5, 867]\nIndex: []"
     ]
    },
    {
     "name": "stdout",
     "output_type": "stream",
     "text": [
      "\n     867\n867  NaN\nEmpty DataFrame\nColumns: [5, 868]\nIndex: []\nEmpty DataFrame\nColumns: []\nIndex: []\nEmpty DataFrame\nColumns: [5, 869]\nIndex: []\nEmpty DataFrame\nColumns: []\nIndex: []\nEmpty DataFrame\nColumns: [5, 870]\nIndex: []\nEmpty DataFrame\nColumns: []\nIndex: []\nEmpty DataFrame\nColumns: [5, 871]\nIndex: []\nEmpty DataFrame\nColumns: []\nIndex: []\nEmpty DataFrame\nColumns: [5, 872]\nIndex: []\nEmpty DataFrame\nColumns: []\nIndex: []\nEmpty DataFrame\nColumns: [5, 873]\nIndex: []\nEmpty DataFrame\nColumns: []\nIndex: []\nEmpty DataFrame\nColumns: [5, 874]\nIndex: []\nEmpty DataFrame\nColumns: []\nIndex: []\nEmpty DataFrame\nColumns: [5, 875]\nIndex: []\nEmpty DataFrame\nColumns: []\nIndex: []\nEmpty DataFrame\nColumns: [5, 876]\nIndex: []\nEmpty DataFrame\nColumns: []\nIndex: []\nEmpty DataFrame\nColumns: [5, 877]\nIndex: []\nEmpty DataFrame\nColumns: []\nIndex: []\nEmpty DataFrame\nColumns: [5, 878]\nIndex: []\nEmpty DataFrame\nColumns: []\nIndex: []\nEmpty DataFrame\nColumns: [5, 879]\nIndex: []\nEmpty DataFrame\nColumns: []\nIndex: []\nEmpty DataFrame\nColumns: [5, 880]\nIndex: []\nEmpty DataFrame\nColumns: []\nIndex: []\nEmpty DataFrame\nColumns: [5, 881]\nIndex: []\n"
     ]
    },
    {
     "name": "stdout",
     "output_type": "stream",
     "text": [
      "Empty DataFrame\nColumns: []\nIndex: []\nEmpty DataFrame\nColumns: [5, 882]\nIndex: []\nEmpty DataFrame\nColumns: []\nIndex: []\nEmpty DataFrame\nColumns: [5, 883]\nIndex: []\nEmpty DataFrame\nColumns: []\nIndex: []\nEmpty DataFrame\nColumns: [5, 884]\nIndex: []\nEmpty DataFrame\nColumns: []\nIndex: []\nEmpty DataFrame\nColumns: [5, 885]\nIndex: []\nEmpty DataFrame\nColumns: []\nIndex: []\nEmpty DataFrame\nColumns: [5, 886]\nIndex: []\nEmpty DataFrame\nColumns: []\nIndex: []\nEmpty DataFrame\nColumns: [5, 887]\nIndex: []\nEmpty DataFrame\nColumns: []\nIndex: []\nEmpty DataFrame\nColumns: [5, 888]\nIndex: []\nEmpty DataFrame\nColumns: []\nIndex: []\nEmpty DataFrame\nColumns: [5, 889]\nIndex: []\nEmpty DataFrame\nColumns: []\nIndex: []\nEmpty DataFrame\nColumns: [5, 890]\nIndex: []\nEmpty DataFrame\nColumns: []\nIndex: []\nEmpty DataFrame\nColumns: [5, 891]\nIndex: []\n     891\n891  NaN\nEmpty DataFrame\nColumns: [5, 892]\nIndex: []\nEmpty DataFrame\nColumns: []\nIndex: []\nEmpty DataFrame\nColumns: [5, 893]\nIndex: []\n     893\n893  NaN\nEmpty DataFrame\nColumns: [5, 894]\nIndex: []\nEmpty DataFrame\nColumns: []\nIndex: []\nEmpty DataFrame\nColumns: [5, 895]\nIndex: []\nEmpty DataFrame\nColumns: []\nIndex: []\nEmpty DataFrame\nColumns: [5, 896]\nIndex: []\nEmpty DataFrame\nColumns: []\nIndex: []\n"
     ]
    },
    {
     "name": "stdout",
     "output_type": "stream",
     "text": [
      "Empty DataFrame\nColumns: [5, 897]\nIndex: []\nEmpty DataFrame\nColumns: []\nIndex: []\nEmpty DataFrame\nColumns: [5, 898]\nIndex: []\n     898\n898  NaN\nEmpty DataFrame\nColumns: [5, 899]\nIndex: []\nEmpty DataFrame\nColumns: []\nIndex: []\nEmpty DataFrame\nColumns: [5, 900]\nIndex: []\nEmpty DataFrame\nColumns: []\nIndex: []\nEmpty DataFrame\nColumns: [5, 901]\nIndex: []\nEmpty DataFrame\nColumns: []\nIndex: []\nEmpty DataFrame\nColumns: [5, 902]\nIndex: []\nEmpty DataFrame\nColumns: []\nIndex: []\nEmpty DataFrame\nColumns: [5, 903]\nIndex: []\n     903\n903  NaN\nEmpty DataFrame\nColumns: [5, 904]\nIndex: []\n     904\n904  NaN\nEmpty DataFrame\nColumns: [5, 905]\nIndex: []\nEmpty DataFrame\nColumns: []\nIndex: []\nEmpty DataFrame\nColumns: [5, 906]\nIndex: []\nEmpty DataFrame\nColumns: []\nIndex: []\nEmpty DataFrame\nColumns: [5, 907]\nIndex: []\n     907\n907  NaN\nEmpty DataFrame\nColumns: [5, 908]\nIndex: []\nEmpty DataFrame\nColumns: []\nIndex: []\nEmpty DataFrame\nColumns: [5, 909]\nIndex: []\nEmpty DataFrame\nColumns: []\nIndex: []\nEmpty DataFrame\nColumns: [5, 910]\nIndex: []\nEmpty DataFrame\nColumns: []\nIndex: []\nEmpty DataFrame\nColumns: [5, 911]\nIndex: []\nEmpty DataFrame\nColumns: []\nIndex: []\n"
     ]
    },
    {
     "name": "stdout",
     "output_type": "stream",
     "text": [
      "Empty DataFrame\nColumns: [5, 912]\nIndex: []\nEmpty DataFrame\nColumns: []\nIndex: []\nEmpty DataFrame\nColumns: [5, 913]\nIndex: []\nEmpty DataFrame\nColumns: []\nIndex: []\nEmpty DataFrame\nColumns: [5, 914]\nIndex: []\nEmpty DataFrame\nColumns: []\nIndex: []\nEmpty DataFrame\nColumns: [5, 915]\nIndex: []\nEmpty DataFrame\nColumns: []\nIndex: []\nEmpty DataFrame\nColumns: [5, 916]\nIndex: []\nEmpty DataFrame\nColumns: []\nIndex: []\nEmpty DataFrame\nColumns: [5, 917]\nIndex: []\nEmpty DataFrame\nColumns: []\nIndex: []\nEmpty DataFrame\nColumns: [5, 918]\nIndex: []\nEmpty DataFrame\nColumns: []\nIndex: []\nEmpty DataFrame\nColumns: [5, 919]\nIndex: []\nEmpty DataFrame\nColumns: []\nIndex: []\nEmpty DataFrame\nColumns: [5, 920]\nIndex: []\nEmpty DataFrame\nColumns: []\nIndex: []\nEmpty DataFrame\nColumns: [5, 921]\nIndex: []\nEmpty DataFrame\nColumns: []\nIndex: []\nEmpty DataFrame\nColumns: [5, 922]\nIndex: []\nEmpty DataFrame\nColumns: []\nIndex: []\nEmpty DataFrame\nColumns: [5, 923]\nIndex: []\nEmpty DataFrame\nColumns: []\nIndex: []\nEmpty DataFrame\nColumns: [5, 924]\nIndex: []\nEmpty DataFrame\nColumns: []\nIndex: []\nEmpty DataFrame\nColumns: [5, 925]\nIndex: []\n"
     ]
    },
    {
     "name": "stdout",
     "output_type": "stream",
     "text": [
      "     925\n925  NaN\nEmpty DataFrame\nColumns: [5, 926]\nIndex: []\nEmpty DataFrame\nColumns: []\nIndex: []\nEmpty DataFrame\nColumns: [5, 927]\nIndex: []\nEmpty DataFrame\nColumns: []\nIndex: []\nEmpty DataFrame\nColumns: [5, 928]\nIndex: []\nEmpty DataFrame\nColumns: []\nIndex: []\nEmpty DataFrame\nColumns: [5, 929]\nIndex: []\nEmpty DataFrame\nColumns: []\nIndex: []\nEmpty DataFrame\nColumns: [5, 930]\nIndex: []\nEmpty DataFrame\nColumns: []\nIndex: []\nEmpty DataFrame\nColumns: [5, 931]\nIndex: []\nEmpty DataFrame\nColumns: []\nIndex: []\nEmpty DataFrame\nColumns: [5, 932]\nIndex: []\n     932\n932  NaN\nEmpty DataFrame\nColumns: [5, 933]\nIndex: []\nEmpty DataFrame\nColumns: []\nIndex: []\nEmpty DataFrame\nColumns: [5, 934]\nIndex: []\nEmpty DataFrame\nColumns: []\nIndex: []\nEmpty DataFrame\nColumns: [5, 935]\nIndex: []\nEmpty DataFrame\nColumns: []\nIndex: []\nEmpty DataFrame\nColumns: [5, 936]\nIndex: []\nEmpty DataFrame\nColumns: []\nIndex: []\n"
     ]
    },
    {
     "name": "stdout",
     "output_type": "stream",
     "text": [
      "Empty DataFrame\nColumns: [5, 937]\nIndex: []\nEmpty DataFrame\nColumns: []\nIndex: []\nEmpty DataFrame\nColumns: [5, 938]\nIndex: []\nEmpty DataFrame\nColumns: []\nIndex: []\nEmpty DataFrame\nColumns: [5, 939]\nIndex: []\nEmpty DataFrame\nColumns: []\nIndex: []\nEmpty DataFrame\nColumns: [5, 940]\nIndex: []\nEmpty DataFrame\nColumns: []\nIndex: []\nEmpty DataFrame\nColumns: [5, 941]\nIndex: []\nEmpty DataFrame\nColumns: []\nIndex: []\nEmpty DataFrame\nColumns: [5, 942]\nIndex: []\nEmpty DataFrame\nColumns: []\nIndex: []\nEmpty DataFrame\nColumns: [5, 943]\nIndex: []\nEmpty DataFrame\nColumns: []\nIndex: []\nEmpty DataFrame\nColumns: [5, 944]\nIndex: []\nEmpty DataFrame\nColumns: []\nIndex: []\nEmpty DataFrame\nColumns: [5, 945]\nIndex: []\nEmpty DataFrame\nColumns: []\nIndex: []\nEmpty DataFrame\nColumns: [5, 946]\nIndex: []\nEmpty DataFrame\nColumns: []\nIndex: []\nEmpty DataFrame\nColumns: [5, 947]\nIndex: []\n     947\n947  NaN\nEmpty DataFrame\nColumns: [5, 948]\nIndex: []\nEmpty DataFrame\nColumns: []\nIndex: []\nEmpty DataFrame\nColumns: [5, 949]\nIndex: []\n     949\n949  NaN\nEmpty DataFrame\nColumns: [5, 950]\nIndex: []\nEmpty DataFrame\nColumns: []\nIndex: []\n"
     ]
    },
    {
     "name": "stdout",
     "output_type": "stream",
     "text": [
      "Empty DataFrame\nColumns: [5, 951]\nIndex: []\nEmpty DataFrame\nColumns: []\nIndex: []\nEmpty DataFrame\nColumns: [5, 952]\nIndex: []\n     952\n952  NaN\nEmpty DataFrame\nColumns: [5, 953]\nIndex: []\nEmpty DataFrame\nColumns: []\nIndex: []\nEmpty DataFrame\nColumns: [5, 954]\nIndex: []\nEmpty DataFrame\nColumns: []\nIndex: []\nEmpty DataFrame\nColumns: [5, 955]\nIndex: []\nEmpty DataFrame\nColumns: []\nIndex: []\nEmpty DataFrame\nColumns: [5, 956]\nIndex: []\nEmpty DataFrame\nColumns: []\nIndex: []\nEmpty DataFrame\nColumns: [5, 957]\nIndex: []\nEmpty DataFrame\nColumns: []\nIndex: []\nEmpty DataFrame\nColumns: [5, 958]\nIndex: []\nEmpty DataFrame\nColumns: []\nIndex: []\nEmpty DataFrame\nColumns: [5, 959]\nIndex: []\nEmpty DataFrame\nColumns: []\nIndex: []\nEmpty DataFrame\nColumns: [5, 960]\nIndex: []\nEmpty DataFrame\nColumns: []\nIndex: []\nEmpty DataFrame\nColumns: [5, 961]\nIndex: []\nEmpty DataFrame\nColumns: []\nIndex: []\nEmpty DataFrame\nColumns: [5, 962]\nIndex: []\nEmpty DataFrame\nColumns: []\nIndex: []\nEmpty DataFrame\nColumns: [5, 963]\nIndex: []\nEmpty DataFrame\nColumns: []\nIndex: []\nEmpty DataFrame\nColumns: [5, 964]\nIndex: []\nEmpty DataFrame\nColumns: []\nIndex: []\n"
     ]
    },
    {
     "name": "stdout",
     "output_type": "stream",
     "text": [
      "Empty DataFrame\nColumns: [5, 965]\nIndex: []\nEmpty DataFrame\nColumns: []\nIndex: []\nEmpty DataFrame\nColumns: [5, 966]\nIndex: []\nEmpty DataFrame\nColumns: []\nIndex: []\nEmpty DataFrame\nColumns: [5, 967]\nIndex: []\nEmpty DataFrame\nColumns: []\nIndex: []\nEmpty DataFrame\nColumns: [5, 968]\nIndex: []\nEmpty DataFrame\nColumns: []\nIndex: []\nEmpty DataFrame\nColumns: [5, 969]\nIndex: []\nEmpty DataFrame\nColumns: []\nIndex: []\nEmpty DataFrame\nColumns: [5, 970]\nIndex: []\nEmpty DataFrame\nColumns: []\nIndex: []\nEmpty DataFrame\nColumns: [5, 971]\nIndex: []\nEmpty DataFrame\nColumns: []\nIndex: []\nEmpty DataFrame\nColumns: [5, 972]\nIndex: []\nEmpty DataFrame\nColumns: []\nIndex: []\nEmpty DataFrame\nColumns: [5, 973]\nIndex: []\nEmpty DataFrame\nColumns: []\nIndex: []\nEmpty DataFrame\nColumns: [5, 974]\nIndex: []\nEmpty DataFrame\nColumns: []\nIndex: []\nEmpty DataFrame\nColumns: [5, 975]\nIndex: []\nEmpty DataFrame\nColumns: []\nIndex: []\nEmpty DataFrame\nColumns: [5, 976]\nIndex: []\nEmpty DataFrame\nColumns: []\nIndex: []\nEmpty DataFrame\nColumns: [5, 977]\nIndex: []\nEmpty DataFrame\nColumns: []\nIndex: []\n"
     ]
    },
    {
     "name": "stdout",
     "output_type": "stream",
     "text": [
      "Empty DataFrame\nColumns: [5, 978]\nIndex: []\nEmpty DataFrame\nColumns: []\nIndex: []\nEmpty DataFrame\nColumns: [5, 979]\nIndex: []\n     979\n979  NaN\nEmpty DataFrame\nColumns: [5, 980]\nIndex: []\nEmpty DataFrame\nColumns: []\nIndex: []\nEmpty DataFrame\nColumns: [5, 981]\nIndex: []\n     981\n981  NaN\nEmpty DataFrame\nColumns: [5, 982]\nIndex: []\n     982\n982  NaN\nEmpty DataFrame\nColumns: [5, 983]\nIndex: []\nEmpty DataFrame\nColumns: []\nIndex: []\nEmpty DataFrame\nColumns: [5, 984]\nIndex: []\nEmpty DataFrame\nColumns: []\nIndex: []\nEmpty DataFrame\nColumns: [5, 985]\nIndex: []\nEmpty DataFrame\nColumns: []\nIndex: []\nEmpty DataFrame\nColumns: [5, 986]\nIndex: []\n     986\n986  NaN\nEmpty DataFrame\nColumns: [5, 987]\nIndex: []\nEmpty DataFrame\nColumns: []\nIndex: []\nEmpty DataFrame\nColumns: [5, 988]\nIndex: []\nEmpty DataFrame\nColumns: []\nIndex: []\nEmpty DataFrame\nColumns: [5, 989]\nIndex: []\n     989\n989  NaN\nEmpty DataFrame\nColumns: [5, 990]\nIndex: []\n"
     ]
    },
    {
     "name": "stdout",
     "output_type": "stream",
     "text": [
      "Empty DataFrame\nColumns: []\nIndex: []\nEmpty DataFrame\nColumns: [5, 991]\nIndex: []\n     991\n991  NaN\nEmpty DataFrame\nColumns: [5, 992]\nIndex: []\n     992\n992  NaN\nEmpty DataFrame\nColumns: [5, 993]\nIndex: []\nEmpty DataFrame\nColumns: []\nIndex: []\nEmpty DataFrame\nColumns: [5, 994]\nIndex: []\nEmpty DataFrame\nColumns: []\nIndex: []\nEmpty DataFrame\nColumns: [5, 995]\nIndex: []\nEmpty DataFrame\nColumns: []\nIndex: []\nEmpty DataFrame\nColumns: [5, 996]\nIndex: []\nEmpty DataFrame\nColumns: []\nIndex: []\nEmpty DataFrame\nColumns: [5, 997]\nIndex: []\n     997\n997  NaN\nEmpty DataFrame\nColumns: [5, 998]\nIndex: []\n     998\n998  NaN\nEmpty DataFrame\nColumns: [5, 999]\nIndex: []\nEmpty DataFrame\nColumns: []\nIndex: []\nEmpty DataFrame\nColumns: [5, 1000]\nIndex: []\nEmpty DataFrame\nColumns: []\nIndex: []\nEmpty DataFrame\nColumns: [5, 1001]\nIndex: []\nEmpty DataFrame\nColumns: []\nIndex: []\nEmpty DataFrame\nColumns: [5, 1002]\nIndex: []\nEmpty DataFrame\nColumns: []\nIndex: []\nEmpty DataFrame\nColumns: [5, 1003]\nIndex: []\n      1003\n1003   NaN\nEmpty DataFrame\nColumns: [5, 1004]\nIndex: []\n      1004\n1004   NaN\nEmpty DataFrame\nColumns: [5, 1005]\nIndex: []"
     ]
    },
    {
     "name": "stdout",
     "output_type": "stream",
     "text": [
      "\n      1005\n1005   NaN\nEmpty DataFrame\nColumns: [5, 1006]\nIndex: []\n      1006\n1006   NaN\nEmpty DataFrame\nColumns: [5, 1007]\nIndex: []\n      1007\n1007   NaN\nEmpty DataFrame\nColumns: [5, 1008]\nIndex: []\nEmpty DataFrame\nColumns: []\nIndex: []\nEmpty DataFrame\nColumns: [5, 1009]\nIndex: []\n      1009\n1009   NaN\nEmpty DataFrame\nColumns: [5, 1010]\nIndex: []\n      1010\n1010   NaN\nEmpty DataFrame\nColumns: [5, 1011]\nIndex: []\nEmpty DataFrame\nColumns: []\nIndex: []\nEmpty DataFrame\nColumns: [5, 1012]\nIndex: []\n      1012\n1012   NaN\nEmpty DataFrame\nColumns: [5, 1013]\nIndex: []\nEmpty DataFrame\nColumns: []\nIndex: []\nEmpty DataFrame\nColumns: [5, 1014]\nIndex: []\n      1014\n1014   NaN\nEmpty DataFrame\nColumns: [5, 1015]\nIndex: []\n      1015\n1015   NaN\nEmpty DataFrame\nColumns: [5, 1016]\nIndex: []\n      1016\n1016   NaN\nEmpty DataFrame\nColumns: [5, 1017]\nIndex: []\nEmpty DataFrame\nColumns: []\nIndex: []\nEmpty DataFrame\nColumns: [5, 1018]\nIndex: []\nEmpty DataFrame\nColumns: []\nIndex: []\nEmpty DataFrame\nColumns: [5, 1019]\nIndex: []\nEmpty DataFrame\nColumns: []\nIndex: []\n"
     ]
    },
    {
     "name": "stdout",
     "output_type": "stream",
     "text": [
      "Empty DataFrame\nColumns: [5, 1020]\nIndex: []\n      1020\n1020   NaN\nEmpty DataFrame\nColumns: [5, 1021]\nIndex: []\nEmpty DataFrame\nColumns: []\nIndex: []\nEmpty DataFrame\nColumns: [5, 1022]\nIndex: []\nEmpty DataFrame\nColumns: []\nIndex: []\nEmpty DataFrame\nColumns: [5, 1023]\nIndex: []\n      1023\n1023   NaN\nEmpty DataFrame\nColumns: [5, 1024]\nIndex: []\n      1024\n1024   NaN\nEmpty DataFrame\nColumns: [5, 1025]\nIndex: []\n      1025\n1025   NaN\nEmpty DataFrame\nColumns: [5, 1026]\nIndex: []\n      1026\n1026   NaN\nEmpty DataFrame\nColumns: [5, 1027]\nIndex: []\n      1027\n1027   NaN\nEmpty DataFrame\nColumns: [5, 1028]\nIndex: []\n      1028\n1028   NaN\nEmpty DataFrame\nColumns: [5, 1029]\nIndex: []\n      1029\n1029   NaN\nEmpty DataFrame\nColumns: [5, 1030]\nIndex: []\n      1030\n1030   NaN\nEmpty DataFrame\nColumns: [5, 1031]\nIndex: []\n      1031\n1031   NaN\nEmpty DataFrame\nColumns: [5, 1032]\nIndex: []\n      1032\n1032   NaN\nEmpty DataFrame\nColumns: [5, 1033]\nIndex: []\nEmpty DataFrame\nColumns: []\nIndex: []\n"
     ]
    },
    {
     "name": "stdout",
     "output_type": "stream",
     "text": [
      "Empty DataFrame\nColumns: [5, 1034]\nIndex: []\nEmpty DataFrame\nColumns: []\nIndex: []\nEmpty DataFrame\nColumns: [5, 1035]\nIndex: []\n      1035\n1035   NaN\nEmpty DataFrame\nColumns: [5, 1036]\nIndex: []\n      1036\n1036   NaN\nEmpty DataFrame\nColumns: [5, 1037]\nIndex: []\n      1037\n1037   NaN\nEmpty DataFrame\nColumns: [5, 1038]\nIndex: []\n      1038\n1038   NaN\n         6      7\n3014  23,4  243,6\n3025  23,4  243,6\n3026  23,4  243,6\n3027  23,4  243,6\n3028  23,4  243,6\n3029  23,4  243,6\n3036  23,4  243,6\n3037  23,4  243,6\n3038  23,4  243,6\n3030  23,4  243,6\n3031  23,4  243,6\n3032  23,4  243,6\n3033  23,4  243,6\n3034  23,4  243,6\n3035  23,4  243,6\nEmpty DataFrame\nColumns: []\nIndex: []\n         6  8\n3014  23,4  0\n3025  23,4  0\n3026  23,4  0\n3027  23,4  0\n3028  23,4  0\n3029  23,4  0\n3036  23,4  0\n3037  23,4  0\n3038  23,4  0\n3030  23,4  0\n3031  23,4  0\n3032  23,4  0\n3033  23,4  0\n3034  23,4  0\n3035  23,4  0\nEmpty DataFrame\nColumns: []\nIndex: []\n          6     9\n3014   23,4  5,41\n3025   23,4  5,41\n3026   23,4  5,41\n3027   23,4  5,41\n3028   23,4  5,41\n3029   23,4  5,41\n3036   23,4  5,41\n3037   23,4  5,41\n3038   23,4  5,41\n3030   23,4  5,41\n3031   23,4  5,41\n3032   23,4  5,41\n3033   23,4  5,41\n3034   23,4  5,41\n3035   23,4  5,41\n19657   3,3  4,46\n19654   3,3  4,46\nEmpty DataFrame\nColumns: []\nIndex: []\nEmpty DataFrame\nColumns: [6, 10]\nIndex: []\nEmpty DataFrame\nColumns: []\nIndex: []\n        6     11\n3014  23,4  11,1\n3025  23,4  11,1\n3026  23,4  11,1\n3027  23,4  11,1\n3028  23,4  11,1\n3029  23,4  11,1\n3036  23,4  11,1\n3037  23,4  11,1\n3038  23,4  11,1\n3030  23,4  11,1\n3031  23,4  11,1\n3032  23,4  11,1\n3033  23,4  11,1\n3034  23,4  11,1\n3035  23,4  11,1\nEmpty DataFrame\nColumns: []\nIndex: []\nEmpty DataFrame\nColumns: [6, 12]\nIndex: []\nEmpty DataFrame\nColumns: []\nIndex: []\n         6     13\n3014   23,4  62,5\n3025   23,4  62,5\n3026   23,4  62,5\n3027   23,4  62,5\n3028   23,4  62,5\n3029   23,4  62,5\n3036   23,4  62,5\n3037   23,4  62,5\n3038   23,4  62,5\n3030   23,4  62,5\n3031   23,4  62,5\n3032   23,4  62,5\n3033   23,4  62,5\n3034   23,4  62,5\n3035   23,4  62,5\n19657   3,3  1,33\n19654   3,3  1,33\nEmpty DataFrame\nColumns: []\nIndex: []\n         6     14\n3014   23,4  32,5\n3025   23,4  32,5\n3026   23,4  32,5\n3027   23,4  32,5\n3028   23,4  32,5\n3029   23,4  32,5\n3036   23,4  32,5\n3037   23,4  32,5\n3038   23,4  32,5\n3030   23,4  32,5\n3031   23,4  32,5\n3032   23,4  32,5\n3033   23,4  32,5\n3034   23,4  32,5\n3035   23,4  32,5\n19657   3,3  18,6\n19654   3,3  18,6\nEmpty DataFrame\nColumns: []\nIndex: []\n         6      15\n3014   23,4  21,59\n3025   23,4  21,59\n3026   23,4  21,59\n3027   23,4  21,59\n3028   23,4  21,59\n3029   23,4  21,59\n3036   23,4  21,59\n3037   23,4  21,59\n3038   23,4  21,59\n3030   23,4  21,59\n3031   23,4  21,59\n3032   23,4  21,59\n3033   23,4  21,59\n3034   23,4  21,59\n3035   23,4  21,59\n19657   3,3   10,8\n19654   3,3   10,8\nEmpty DataFrame\nColumns: []\nIndex: []\n        6     16\n3014  23,4  15,5\n3025  23,4  15,5\n3026  23,4  15,5\n3027  23,4  15,5\n3028  23,4  15,5\n3029  23,4  15,5\n3036  23,4  15,5\n3037  23,4  15,5\n3038  23,4  15,5\n3030  23,4  15,5\n3031  23,4  15,5\n3032  23,4  15,5\n3033  23,4  15,5\n3034  23,4  15,5\n3035  23,4  15,5\n"
     ]
    },
    {
     "name": "stdout",
     "output_type": "stream",
     "text": [
      "Empty DataFrame\nColumns: []\nIndex: []\n        6     17\n3014  23,4  42,5\n3025  23,4  42,5\n3026  23,4  42,5\n3027  23,4  42,5\n3028  23,4  42,5\n3029  23,4  42,5\n3036  23,4  42,5\n3037  23,4  42,5\n3038  23,4  42,5\n3030  23,4  42,5\n3031  23,4  42,5\n3032  23,4  42,5\n3033  23,4  42,5\n3034  23,4  42,5\n3035  23,4  42,5\nEmpty DataFrame\nColumns: []\nIndex: []\n        6     18\n3014  23,4  15,2\n3025  23,4  15,2\n3026  23,4  15,2\n3027  23,4  15,2\n3028  23,4  15,2\n3029  23,4  15,2\n3036  23,4  15,2\n3037  23,4  15,2\n3038  23,4  15,2\n3030  23,4  15,2\n3031  23,4  15,2\n3032  23,4  15,2\n3033  23,4  15,2\n3034  23,4  15,2\n3035  23,4  15,2\nEmpty DataFrame\nColumns: []\nIndex: []\nEmpty DataFrame\nColumns: [6, 19]\nIndex: []\n    19\n19 NaN\nEmpty DataFrame\nColumns: [6, 20]\nIndex: []\nEmpty DataFrame\nColumns: []\nIndex: []\nEmpty DataFrame\nColumns: [6, 21]\nIndex: []\nEmpty DataFrame\nColumns: []\nIndex: []\nEmpty DataFrame\nColumns: [6, 22]\nIndex: []\nEmpty DataFrame\nColumns: []\nIndex: []\nEmpty DataFrame\nColumns: [6, 23]\nIndex: []\nEmpty DataFrame\nColumns: []\nIndex: []\n        6   24\n19657  3,3  26\n19654  3,3  26\nEmpty DataFrame\nColumns: []\nIndex: []\nEmpty DataFrame\nColumns: [6, 25]\nIndex: []\n    25\n25 NaN\nEmpty DataFrame\nColumns: [6, 26]\nIndex: []\nEmpty DataFrame\nColumns: []\nIndex: []\nEmpty DataFrame\nColumns: [6, 27]\nIndex: []\nEmpty DataFrame\nColumns: []\nIndex: []\n        6     28\n19657  3,3  1,53\n19654  3,3  1,53\nEmpty DataFrame\nColumns: []\nIndex: []\n        6     29\n19657  3,3  8,85\n19654  3,3  8,85\nEmpty DataFrame\nColumns: []\nIndex: []\n        6   30\n19657  3,3  13\n19654  3,3  13\nEmpty DataFrame\nColumns: []\nIndex: []\n"
     ]
    },
    {
     "name": "stdout",
     "output_type": "stream",
     "text": [
      "        6     31\n19657  3,3  4,37\n19654  3,3  4,37\nEmpty DataFrame\nColumns: []\nIndex: []\n        6     32\n19657  3,3  16,9\n19654  3,3  16,9\nEmpty DataFrame\nColumns: []\nIndex: []\nEmpty DataFrame\nColumns: [6, 33]\nIndex: []\n    33\n33 NaN\nEmpty DataFrame\nColumns: [6, 34]\nIndex: []\n    34\n34 NaN\nEmpty DataFrame\nColumns: [6, 35]\nIndex: []\n    35\n35 NaN\nEmpty DataFrame\nColumns: [6, 36]\nIndex: []\n    36\n36 NaN\nEmpty DataFrame\nColumns: [6, 37]\nIndex: []\n    37\n37 NaN\nEmpty DataFrame\nColumns: [6, 38]\nIndex: []\n    38\n38 NaN\nEmpty DataFrame\nColumns: [6, 39]\nIndex: []\n    39\n39 NaN\nEmpty DataFrame\nColumns: [6, 40]\nIndex: []\n    40\n40 NaN\nEmpty DataFrame\nColumns: [6, 41]\nIndex: []\nEmpty DataFrame\nColumns: []\nIndex: []\nEmpty DataFrame\nColumns: [6, 42]\nIndex: []\nEmpty DataFrame\nColumns: []\nIndex: []\nEmpty DataFrame\nColumns: [6, 43]\nIndex: []\nEmpty DataFrame\nColumns: []\nIndex: []\nEmpty DataFrame\nColumns: [6, 44]\nIndex: []\nEmpty DataFrame\nColumns: []\nIndex: []\n"
     ]
    },
    {
     "name": "stdout",
     "output_type": "stream",
     "text": [
      "Empty DataFrame\nColumns: [6, 45]\nIndex: []\nEmpty DataFrame\nColumns: []\nIndex: []\nEmpty DataFrame\nColumns: [6, 46]\nIndex: []\nEmpty DataFrame\nColumns: []\nIndex: []\nEmpty DataFrame\nColumns: [6, 47]\nIndex: []\nEmpty DataFrame\nColumns: []\nIndex: []\nEmpty DataFrame\nColumns: [6, 48]\nIndex: []\nEmpty DataFrame\nColumns: []\nIndex: []\nEmpty DataFrame\nColumns: [6, 49]\nIndex: []\n    49\n49 NaN\nEmpty DataFrame\nColumns: [6, 50]\nIndex: []\nEmpty DataFrame\nColumns: []\nIndex: []\nEmpty DataFrame\nColumns: [6, 51]\nIndex: []\nEmpty DataFrame\nColumns: []\nIndex: []\nEmpty DataFrame\nColumns: [6, 52]\nIndex: []\nEmpty DataFrame\nColumns: []\nIndex: []\nEmpty DataFrame\nColumns: [6, 53]\nIndex: []\nEmpty DataFrame\nColumns: []\nIndex: []\nEmpty DataFrame\nColumns: [6, 54]\nIndex: []\nEmpty DataFrame\nColumns: []\nIndex: []\nEmpty DataFrame\nColumns: [6, 55]\nIndex: []\nEmpty DataFrame\nColumns: []\nIndex: []\nEmpty DataFrame\nColumns: [6, 56]\nIndex: []\nEmpty DataFrame\nColumns: []\nIndex: []\nEmpty DataFrame\nColumns: [6, 57]\nIndex: []\nEmpty DataFrame\nColumns: []\nIndex: []\nEmpty DataFrame\nColumns: [6, 58]\nIndex: []\nEmpty DataFrame\nColumns: []\nIndex: []\nEmpty DataFrame\nColumns: [6, 59]\nIndex: []\nEmpty DataFrame\nColumns: []\nIndex: []\n"
     ]
    },
    {
     "name": "stdout",
     "output_type": "stream",
     "text": [
      "Empty DataFrame\nColumns: [6, 60]\nIndex: []\nEmpty DataFrame\nColumns: []\nIndex: []\nEmpty DataFrame\nColumns: [6, 61]\nIndex: []\nEmpty DataFrame\nColumns: []\nIndex: []\nEmpty DataFrame\nColumns: [6, 62]\nIndex: []\nEmpty DataFrame\nColumns: []\nIndex: []\nEmpty DataFrame\nColumns: [6, 63]\nIndex: []\nEmpty DataFrame\nColumns: []\nIndex: []\nEmpty DataFrame\nColumns: [6, 64]\nIndex: []\nEmpty DataFrame\nColumns: []\nIndex: []\nEmpty DataFrame\nColumns: [6, 65]\nIndex: []\nEmpty DataFrame\nColumns: []\nIndex: []\nEmpty DataFrame\nColumns: [6, 66]\nIndex: []\nEmpty DataFrame\nColumns: []\nIndex: []\nEmpty DataFrame\nColumns: [6, 67]\nIndex: []\nEmpty DataFrame\nColumns: []\nIndex: []\nEmpty DataFrame\nColumns: [6, 68]\nIndex: []\nEmpty DataFrame\nColumns: []\nIndex: []\nEmpty DataFrame\nColumns: [6, 69]\nIndex: []\n    69\n69 NaN\nEmpty DataFrame\nColumns: [6, 70]\nIndex: []\n    70\n70 NaN\nEmpty DataFrame\nColumns: [6, 71]\nIndex: []\nEmpty DataFrame\nColumns: []\nIndex: []\nEmpty DataFrame\nColumns: [6, 72]\nIndex: []\nEmpty DataFrame\nColumns: []\nIndex: []\nEmpty DataFrame\nColumns: [6, 73]\nIndex: []\nEmpty DataFrame\nColumns: []\nIndex: []\nEmpty DataFrame\nColumns: [6, 74]\nIndex: []\n    74\n74 NaN\nEmpty DataFrame\nColumns: [6, 75]\nIndex: []\nEmpty DataFrame\nColumns: []\nIndex: []\n"
     ]
    },
    {
     "name": "stdout",
     "output_type": "stream",
     "text": [
      "Empty DataFrame\nColumns: [6, 76]\nIndex: []\nEmpty DataFrame\nColumns: []\nIndex: []\nEmpty DataFrame\nColumns: [6, 77]\nIndex: []\n    77\n77 NaN\nEmpty DataFrame\nColumns: [6, 78]\nIndex: []\n    78\n78 NaN\nEmpty DataFrame\nColumns: [6, 79]\nIndex: []\nEmpty DataFrame\nColumns: []\nIndex: []\nEmpty DataFrame\nColumns: [6, 80]\nIndex: []\nEmpty DataFrame\nColumns: []\nIndex: []\nEmpty DataFrame\nColumns: [6, 81]\nIndex: []\nEmpty DataFrame\nColumns: []\nIndex: []\nEmpty DataFrame\nColumns: [6, 82]\nIndex: []\n    82\n82 NaN\nEmpty DataFrame\nColumns: [6, 83]\nIndex: []\nEmpty DataFrame\nColumns: []\nIndex: []\nEmpty DataFrame\nColumns: [6, 84]\nIndex: []\nEmpty DataFrame\nColumns: []\nIndex: []\nEmpty DataFrame\nColumns: [6, 85]\nIndex: []\n    85\n85 NaN\nEmpty DataFrame\nColumns: [6, 86]\nIndex: []\n    86\n86 NaN\nEmpty DataFrame\nColumns: [6, 87]\nIndex: []\n    87\n87 NaN\n        6     88\n3014  23,4  2,41\n3025  23,4  2,41\n3026  23,4  2,41\n3027  23,4  2,41\n3028  23,4  2,41\n3029  23,4  2,41\n3036  23,4  2,41\n3037  23,4  2,41\n3038  23,4  2,41\n3030  23,4  2,41\n3031  23,4  2,41\n3032  23,4  2,41\n3033  23,4  2,41\n3034  23,4  2,41\n3035  23,4  2,41\nEmpty DataFrame\nColumns: []\nIndex: []\n        6     89\n3014  23,4  2,11\n3025  23,4  2,11\n3026  23,4  2,11\n3027  23,4  2,11\n3028  23,4  2,11\n3029  23,4  2,11\n3036  23,4  2,11\n3037  23,4  2,11\n3038  23,4  2,11\n3030  23,4  2,11\n3031  23,4  2,11\n3032  23,4  2,11\n3033  23,4  2,11\n3034  23,4  2,11\n3035  23,4  2,11\nEmpty DataFrame\nColumns: []\nIndex: []\n        6     90\n3014  23,4  4,97\n3025  23,4  4,97\n3026  23,4  4,97\n3027  23,4  4,97\n3028  23,4  4,97\n3029  23,4  4,97\n3036  23,4  4,97\n3037  23,4  4,97\n3038  23,4  4,97\n3030  23,4  4,97\n3031  23,4  4,97\n3032  23,4  4,97\n3033  23,4  4,97\n3034  23,4  4,97\n3035  23,4  4,97\n"
     ]
    },
    {
     "name": "stdout",
     "output_type": "stream",
     "text": [
      "Empty DataFrame\nColumns: []\nIndex: []\nEmpty DataFrame\nColumns: [6, 91]\nIndex: []\nEmpty DataFrame\nColumns: []\nIndex: []\nEmpty DataFrame\nColumns: [6, 92]\nIndex: []\nEmpty DataFrame\nColumns: []\nIndex: []\nEmpty DataFrame\nColumns: [6, 93]\nIndex: []\nEmpty DataFrame\nColumns: []\nIndex: []\nEmpty DataFrame\nColumns: [6, 94]\nIndex: []\n    94\n94 NaN\n        6    95\n19657  3,3  1.0\n19654  3,3  1.0\n    95\n95 NaN\n        6     96\n19657  3,3  40,6\n19654  3,3  40,6\nEmpty DataFrame\nColumns: []\nIndex: []\n         6    97\n3014   23,4  0.0\n3025   23,4  0.0\n3026   23,4  0.0\n3027   23,4  0.0\n3028   23,4  0.0\n3029   23,4  0.0\n3036   23,4  0.0\n3037   23,4  0.0\n3038   23,4  0.0\n3030   23,4  0.0\n3031   23,4  0.0\n3032   23,4  0.0\n3033   23,4  0.0\n3034   23,4  0.0\n3035   23,4  0.0\n19657   3,3  0.0\n19654   3,3  0.0\n    97\n97 NaN\nEmpty DataFrame\nColumns: [6, 98]\nIndex: []\n    98\n98 NaN\nEmpty DataFrame\nColumns: [6, 99]\nIndex: []\nEmpty DataFrame\nColumns: []\nIndex: []\nEmpty DataFrame\nColumns: [6, 100]\nIndex: []\n     100\n100  NaN\nEmpty DataFrame\nColumns: [6, 101]\nIndex: []\nEmpty DataFrame\nColumns: []\nIndex: []\nEmpty DataFrame\nColumns: [6, 102]\nIndex: []\nEmpty DataFrame\nColumns: []\nIndex: []\nEmpty DataFrame\nColumns: [6, 103]\nIndex: []\nEmpty DataFrame\nColumns: []\nIndex: []\n"
     ]
    },
    {
     "name": "stdout",
     "output_type": "stream",
     "text": [
      "Empty DataFrame\nColumns: [6, 104]\nIndex: []\nEmpty DataFrame\nColumns: []\nIndex: []\nEmpty DataFrame\nColumns: [6, 105]\nIndex: []\n     105\n105  NaN\nEmpty DataFrame\nColumns: [6, 106]\nIndex: []\n     106\n106  NaN\nEmpty DataFrame\nColumns: [6, 107]\nIndex: []\n     107\n107  NaN\nEmpty DataFrame\nColumns: [6, 108]\nIndex: []\n     108\n108  NaN\nEmpty DataFrame\nColumns: [6, 109]\nIndex: []\n     109\n109  NaN\nEmpty DataFrame\nColumns: [6, 110]\nIndex: []\n     110\n110  NaN\nEmpty DataFrame\nColumns: [6, 111]\nIndex: []\n     111\n111  NaN\nEmpty DataFrame\nColumns: [6, 112]\nIndex: []\nEmpty DataFrame\nColumns: []\nIndex: []\nEmpty DataFrame\nColumns: [6, 113]\nIndex: []\nEmpty DataFrame\nColumns: []\nIndex: []\nEmpty DataFrame\nColumns: [6, 114]\nIndex: []\nEmpty DataFrame\nColumns: []\nIndex: []\nEmpty DataFrame\nColumns: [6, 115]\nIndex: []\nEmpty DataFrame\nColumns: []\nIndex: []\nEmpty DataFrame\nColumns: [6, 116]\nIndex: []\nEmpty DataFrame\nColumns: []\nIndex: []\nEmpty DataFrame\nColumns: [6, 117]\nIndex: []\n     117\n117  NaN\n"
     ]
    },
    {
     "name": "stdout",
     "output_type": "stream",
     "text": [
      "Empty DataFrame\nColumns: [6, 118]\nIndex: []\n     118\n118  NaN\nEmpty DataFrame\nColumns: [6, 119]\nIndex: []\n     119\n119  NaN\nEmpty DataFrame\nColumns: [6, 120]\nIndex: []\n     120\n120  NaN\nEmpty DataFrame\nColumns: [6, 121]\nIndex: []\n     121\n121  NaN\nEmpty DataFrame\nColumns: [6, 122]\nIndex: []\n     122\n122  NaN\nEmpty DataFrame\nColumns: [6, 123]\nIndex: []\n     123\n123  NaN\nEmpty DataFrame\nColumns: [6, 124]\nIndex: []\n     124\n124  NaN\nEmpty DataFrame\nColumns: [6, 125]\nIndex: []\n     125\n125  NaN\nEmpty DataFrame\nColumns: [6, 126]\nIndex: []\nEmpty DataFrame\nColumns: []\nIndex: []\nEmpty DataFrame\nColumns: [6, 127]\nIndex: []\nEmpty DataFrame\nColumns: []\nIndex: []\nEmpty DataFrame\nColumns: [6, 128]\nIndex: []\nEmpty DataFrame\nColumns: []\nIndex: []\nEmpty DataFrame\nColumns: [6, 129]\nIndex: []\nEmpty DataFrame\nColumns: []\nIndex: []\nEmpty DataFrame\nColumns: [6, 130]\nIndex: []\n     130\n130  NaN\nEmpty DataFrame\nColumns: [6, 131]\nIndex: []\nEmpty DataFrame\nColumns: []\nIndex: []\nEmpty DataFrame\nColumns: [6, 132]\nIndex: []\nEmpty DataFrame\nColumns: []\nIndex: []\n"
     ]
    },
    {
     "name": "stdout",
     "output_type": "stream",
     "text": [
      "Empty DataFrame\nColumns: [6, 133]\nIndex: []\nEmpty DataFrame\nColumns: []\nIndex: []\nEmpty DataFrame\nColumns: [6, 134]\nIndex: []\nEmpty DataFrame\nColumns: []\nIndex: []\nEmpty DataFrame\nColumns: [6, 135]\nIndex: []\nEmpty DataFrame\nColumns: []\nIndex: []\nEmpty DataFrame\nColumns: [6, 136]\nIndex: []\nEmpty DataFrame\nColumns: []\nIndex: []\nEmpty DataFrame\nColumns: [6, 137]\nIndex: []\nEmpty DataFrame\nColumns: []\nIndex: []\nEmpty DataFrame\nColumns: [6, 138]\nIndex: []\nEmpty DataFrame\nColumns: []\nIndex: []\nEmpty DataFrame\nColumns: [6, 139]\nIndex: []\nEmpty DataFrame\nColumns: []\nIndex: []\nEmpty DataFrame\nColumns: [6, 140]\nIndex: []\nEmpty DataFrame\nColumns: []\nIndex: []\nEmpty DataFrame\nColumns: [6, 141]\nIndex: []\nEmpty DataFrame\nColumns: []\nIndex: []\nEmpty DataFrame\nColumns: [6, 142]\nIndex: []\nEmpty DataFrame\nColumns: []\nIndex: []\nEmpty DataFrame\nColumns: [6, 143]\nIndex: []\nEmpty DataFrame\nColumns: []\nIndex: []\nEmpty DataFrame\nColumns: [6, 144]\nIndex: []\nEmpty DataFrame\nColumns: []\nIndex: []\nEmpty DataFrame\nColumns: [6, 145]\nIndex: []\nEmpty DataFrame\nColumns: []\nIndex: []\nEmpty DataFrame\nColumns: [6, 146]\nIndex: []\nEmpty DataFrame\nColumns: []\nIndex: []\nEmpty DataFrame\nColumns: [6, 147]\nIndex: []\nEmpty DataFrame\nColumns: []\nIndex: []\n"
     ]
    },
    {
     "name": "stdout",
     "output_type": "stream",
     "text": [
      "Empty DataFrame\nColumns: [6, 148]\nIndex: []\nEmpty DataFrame\nColumns: []\nIndex: []\nEmpty DataFrame\nColumns: [6, 149]\nIndex: []\nEmpty DataFrame\nColumns: []\nIndex: []\nEmpty DataFrame\nColumns: [6, 150]\nIndex: []\nEmpty DataFrame\nColumns: []\nIndex: []\nEmpty DataFrame\nColumns: [6, 151]\nIndex: []\nEmpty DataFrame\nColumns: []\nIndex: []\nEmpty DataFrame\nColumns: [6, 152]\nIndex: []\n     152\n152  NaN\nEmpty DataFrame\nColumns: [6, 153]\nIndex: []\n     153\n153  NaN\nEmpty DataFrame\nColumns: [6, 154]\nIndex: []\n     154\n154  NaN\nEmpty DataFrame\nColumns: [6, 155]\nIndex: []\nEmpty DataFrame\nColumns: []\nIndex: []\nEmpty DataFrame\nColumns: [6, 156]\nIndex: []\nEmpty DataFrame\nColumns: []\nIndex: []\nEmpty DataFrame\nColumns: [6, 157]\nIndex: []\nEmpty DataFrame\nColumns: []\nIndex: []\nEmpty DataFrame\nColumns: [6, 158]\nIndex: []\nEmpty DataFrame\nColumns: []\nIndex: []\nEmpty DataFrame\nColumns: [6, 159]\nIndex: []\nEmpty DataFrame\nColumns: []\nIndex: []\nEmpty DataFrame\nColumns: [6, 160]\nIndex: []\nEmpty DataFrame\nColumns: []\nIndex: []\nEmpty DataFrame\nColumns: [6, 161]\nIndex: []\nEmpty DataFrame\nColumns: []\nIndex: []\nEmpty DataFrame\nColumns: [6, 162]\nIndex: []\n     162\n162  NaN\n"
     ]
    },
    {
     "name": "stdout",
     "output_type": "stream",
     "text": [
      "Empty DataFrame\nColumns: [6, 163]\nIndex: []\nEmpty DataFrame\nColumns: []\nIndex: []\nEmpty DataFrame\nColumns: [6, 164]\nIndex: []\nEmpty DataFrame\nColumns: []\nIndex: []\nEmpty DataFrame\nColumns: [6, 165]\nIndex: []\n     165\n165  NaN\nEmpty DataFrame\nColumns: [6, 166]\nIndex: []\nEmpty DataFrame\nColumns: []\nIndex: []\nEmpty DataFrame\nColumns: [6, 167]\nIndex: []\nEmpty DataFrame\nColumns: []\nIndex: []\nEmpty DataFrame\nColumns: [6, 168]\nIndex: []\nEmpty DataFrame\nColumns: []\nIndex: []\nEmpty DataFrame\nColumns: [6, 169]\nIndex: []\nEmpty DataFrame\nColumns: []\nIndex: []\nEmpty DataFrame\nColumns: [6, 170]\nIndex: []\nEmpty DataFrame\nColumns: []\nIndex: []\nEmpty DataFrame\nColumns: [6, 171]\nIndex: []\nEmpty DataFrame\nColumns: []\nIndex: []\nEmpty DataFrame\nColumns: [6, 172]\nIndex: []\nEmpty DataFrame\nColumns: []\nIndex: []\nEmpty DataFrame\nColumns: [6, 173]\nIndex: []\nEmpty DataFrame\nColumns: []\nIndex: []\nEmpty DataFrame\nColumns: [6, 174]\nIndex: []\nEmpty DataFrame\nColumns: []\nIndex: []\nEmpty DataFrame\nColumns: [6, 175]\nIndex: []\nEmpty DataFrame\nColumns: []\nIndex: []\nEmpty DataFrame\nColumns: [6, 176]\nIndex: []\n     176\n176  NaN\nEmpty DataFrame\nColumns: [6, 177]\nIndex: []\nEmpty DataFrame\nColumns: []\nIndex: []\n"
     ]
    },
    {
     "name": "stdout",
     "output_type": "stream",
     "text": [
      "Empty DataFrame\nColumns: [6, 178]\nIndex: []\nEmpty DataFrame\nColumns: []\nIndex: []\nEmpty DataFrame\nColumns: [6, 179]\nIndex: []\nEmpty DataFrame\nColumns: []\nIndex: []\nEmpty DataFrame\nColumns: [6, 180]\nIndex: []\nEmpty DataFrame\nColumns: []\nIndex: []\nEmpty DataFrame\nColumns: [6, 181]\nIndex: []\nEmpty DataFrame\nColumns: []\nIndex: []\nEmpty DataFrame\nColumns: [6, 182]\nIndex: []\nEmpty DataFrame\nColumns: []\nIndex: []\nEmpty DataFrame\nColumns: [6, 183]\nIndex: []\n     183\n183  NaN\nEmpty DataFrame\nColumns: [6, 184]\nIndex: []\nEmpty DataFrame\nColumns: []\nIndex: []\nEmpty DataFrame\nColumns: [6, 185]\nIndex: []\nEmpty DataFrame\nColumns: []\nIndex: []\nEmpty DataFrame\nColumns: [6, 186]\nIndex: []\nEmpty DataFrame\nColumns: []\nIndex: []\nEmpty DataFrame\nColumns: [6, 187]\nIndex: []\nEmpty DataFrame\nColumns: []\nIndex: []\nEmpty DataFrame\nColumns: [6, 188]\nIndex: []\nEmpty DataFrame\nColumns: []\nIndex: []\nEmpty DataFrame\nColumns: [6, 189]\nIndex: []\nEmpty DataFrame\nColumns: []\nIndex: []\nEmpty DataFrame\nColumns: [6, 190]\nIndex: []\nEmpty DataFrame\nColumns: []\nIndex: []\nEmpty DataFrame\nColumns: [6, 191]\nIndex: []\n     191\n191  NaN\nEmpty DataFrame\nColumns: [6, 192]\nIndex: []\n     192\n192  NaN"
     ]
    },
    {
     "name": "stdout",
     "output_type": "stream",
     "text": [
      "\nEmpty DataFrame\nColumns: [6, 193]\nIndex: []\n     193\n193  NaN\nEmpty DataFrame\nColumns: [6, 194]\nIndex: []\n     194\n194  NaN\nEmpty DataFrame\nColumns: [6, 195]\nIndex: []\nEmpty DataFrame\nColumns: []\nIndex: []\nEmpty DataFrame\nColumns: [6, 196]\nIndex: []\n     196\n196  NaN\nEmpty DataFrame\nColumns: [6, 197]\nIndex: []\n     197\n197  NaN\nEmpty DataFrame\nColumns: [6, 198]\nIndex: []\n     198\n198  NaN\nEmpty DataFrame\nColumns: [6, 199]\nIndex: []\n     199\n199  NaN\nEmpty DataFrame\nColumns: [6, 200]\nIndex: []\n     200\n200  NaN\nEmpty DataFrame\nColumns: [6, 201]\nIndex: []\n     201\n201  NaN\nEmpty DataFrame\nColumns: [6, 202]\nIndex: []\nEmpty DataFrame\nColumns: []\nIndex: []\nEmpty DataFrame\nColumns: [6, 203]\nIndex: []\nEmpty DataFrame\nColumns: []\nIndex: []\nEmpty DataFrame\nColumns: [6, 204]\nIndex: []\nEmpty DataFrame\nColumns: []\nIndex: []\nEmpty DataFrame\nColumns: [6, 205]\nIndex: []\nEmpty DataFrame\nColumns: []\nIndex: []\nEmpty DataFrame\nColumns: [6, 206]\nIndex: []\nEmpty DataFrame\nColumns: []\nIndex: []\nEmpty DataFrame\nColumns: [6, 207]\nIndex: []\nEmpty DataFrame\nColumns: []\nIndex: []\n"
     ]
    },
    {
     "name": "stdout",
     "output_type": "stream",
     "text": [
      "Empty DataFrame\nColumns: [6, 208]\nIndex: []\nEmpty DataFrame\nColumns: []\nIndex: []\nEmpty DataFrame\nColumns: [6, 209]\nIndex: []\nEmpty DataFrame\nColumns: []\nIndex: []\nEmpty DataFrame\nColumns: [6, 210]\nIndex: []\nEmpty DataFrame\nColumns: []\nIndex: []\nEmpty DataFrame\nColumns: [6, 211]\nIndex: []\nEmpty DataFrame\nColumns: []\nIndex: []\nEmpty DataFrame\nColumns: [6, 212]\nIndex: []\nEmpty DataFrame\nColumns: []\nIndex: []\nEmpty DataFrame\nColumns: [6, 213]\nIndex: []\nEmpty DataFrame\nColumns: []\nIndex: []\nEmpty DataFrame\nColumns: [6, 214]\nIndex: []\nEmpty DataFrame\nColumns: []\nIndex: []\nEmpty DataFrame\nColumns: [6, 215]\nIndex: []\nEmpty DataFrame\nColumns: []\nIndex: []\nEmpty DataFrame\nColumns: [6, 216]\nIndex: []\nEmpty DataFrame\nColumns: []\nIndex: []\nEmpty DataFrame\nColumns: [6, 217]\nIndex: []\nEmpty DataFrame\nColumns: []\nIndex: []\nEmpty DataFrame\nColumns: [6, 218]\nIndex: []\n     218\n218  NaN\nEmpty DataFrame\nColumns: [6, 219]\nIndex: []\n     219\n219  NaN\nEmpty DataFrame\nColumns: [6, 220]\nIndex: []\n     220\n220  NaN\nEmpty DataFrame\nColumns: [6, 221]\nIndex: []\n     221\n221  NaN\nEmpty DataFrame\nColumns: [6, 222]\nIndex: []\n     222\n222  NaN\n"
     ]
    },
    {
     "name": "stdout",
     "output_type": "stream",
     "text": [
      "Empty DataFrame\nColumns: [6, 223]\nIndex: []\nEmpty DataFrame\nColumns: []\nIndex: []\nEmpty DataFrame\nColumns: [6, 224]\nIndex: []\nEmpty DataFrame\nColumns: []\nIndex: []\nEmpty DataFrame\nColumns: [6, 225]\nIndex: []\nEmpty DataFrame\nColumns: []\nIndex: []\nEmpty DataFrame\nColumns: [6, 226]\nIndex: []\n     226\n226  NaN\nEmpty DataFrame\nColumns: [6, 227]\nIndex: []\n     227\n227  NaN\nEmpty DataFrame\nColumns: [6, 228]\nIndex: []\n     228\n228  NaN\nEmpty DataFrame\nColumns: [6, 229]\nIndex: []\nEmpty DataFrame\nColumns: []\nIndex: []\nEmpty DataFrame\nColumns: [6, 230]\nIndex: []\n     230\n230  NaN\nEmpty DataFrame\nColumns: [6, 231]\nIndex: []\n     231\n231  NaN\nEmpty DataFrame\nColumns: [6, 232]\nIndex: []\n     232\n232  NaN\nEmpty DataFrame\nColumns: [6, 233]\nIndex: []\nEmpty DataFrame\nColumns: []\nIndex: []\nEmpty DataFrame\nColumns: [6, 234]\nIndex: []\n     234\n234  NaN\nEmpty DataFrame\nColumns: [6, 235]\nIndex: []\n     235\n235  NaN\nEmpty DataFrame\nColumns: [6, 236]\nIndex: []\nEmpty DataFrame\nColumns: []\nIndex: []\nEmpty DataFrame\nColumns: [6, 237]\nIndex: []\n     237\n237  NaN\n"
     ]
    },
    {
     "name": "stdout",
     "output_type": "stream",
     "text": [
      "Empty DataFrame\nColumns: [6, 238]\nIndex: []\n     238\n238  NaN\nEmpty DataFrame\nColumns: [6, 239]\nIndex: []\nEmpty DataFrame\nColumns: []\nIndex: []\nEmpty DataFrame\nColumns: [6, 240]\nIndex: []\nEmpty DataFrame\nColumns: []\nIndex: []\nEmpty DataFrame\nColumns: [6, 241]\nIndex: []\nEmpty DataFrame\nColumns: []\nIndex: []\nEmpty DataFrame\nColumns: [6, 242]\nIndex: []\nEmpty DataFrame\nColumns: []\nIndex: []\nEmpty DataFrame\nColumns: [6, 243]\nIndex: []\nEmpty DataFrame\nColumns: []\nIndex: []\nEmpty DataFrame\nColumns: [6, 244]\nIndex: []\n     244\n244  NaN\nEmpty DataFrame\nColumns: [6, 245]\nIndex: []\nEmpty DataFrame\nColumns: []\nIndex: []\nEmpty DataFrame\nColumns: [6, 246]\nIndex: []\n     246\n246  NaN\nEmpty DataFrame\nColumns: [6, 247]\nIndex: []\n     247\n247  NaN\nEmpty DataFrame\nColumns: [6, 248]\nIndex: []\n     248\n248  NaN\nEmpty DataFrame\nColumns: [6, 249]\nIndex: []\nEmpty DataFrame\nColumns: []\nIndex: []\nEmpty DataFrame\nColumns: [6, 250]\nIndex: []\n     250\n250  NaN\nEmpty DataFrame\nColumns: [6, 251]\nIndex: []\n     251\n251  NaN\n"
     ]
    },
    {
     "name": "stdout",
     "output_type": "stream",
     "text": [
      "Empty DataFrame\nColumns: [6, 252]\nIndex: []\nEmpty DataFrame\nColumns: []\nIndex: []\nEmpty DataFrame\nColumns: [6, 253]\nIndex: []\n     253\n253  NaN\nEmpty DataFrame\nColumns: [6, 254]\nIndex: []\n     254\n254  NaN\nEmpty DataFrame\nColumns: [6, 255]\nIndex: []\nEmpty DataFrame\nColumns: []\nIndex: []\nEmpty DataFrame\nColumns: [6, 256]\nIndex: []\nEmpty DataFrame\nColumns: []\nIndex: []\nEmpty DataFrame\nColumns: [6, 257]\nIndex: []\n     257\n257  NaN\nEmpty DataFrame\nColumns: [6, 258]\nIndex: []\n     258\n258  NaN\nEmpty DataFrame\nColumns: [6, 259]\nIndex: []\nEmpty DataFrame\nColumns: []\nIndex: []\nEmpty DataFrame\nColumns: [6, 260]\nIndex: []\nEmpty DataFrame\nColumns: []\nIndex: []\nEmpty DataFrame\nColumns: [6, 261]\nIndex: []\nEmpty DataFrame\nColumns: []\nIndex: []\nEmpty DataFrame\nColumns: [6, 262]\nIndex: []\nEmpty DataFrame\nColumns: []\nIndex: []\nEmpty DataFrame\nColumns: [6, 263]\nIndex: []\nEmpty DataFrame\nColumns: []\nIndex: []\nEmpty DataFrame\nColumns: [6, 264]\nIndex: []\nEmpty DataFrame\nColumns: []\nIndex: []\nEmpty DataFrame\nColumns: [6, 265]\nIndex: []\nEmpty DataFrame\nColumns: []\nIndex: []\n"
     ]
    },
    {
     "name": "stdout",
     "output_type": "stream",
     "text": [
      "Empty DataFrame\nColumns: [6, 266]\nIndex: []\n     266\n266  NaN\nEmpty DataFrame\nColumns: [6, 267]\nIndex: []\n     267\n267  NaN\nEmpty DataFrame\nColumns: [6, 268]\nIndex: []\nEmpty DataFrame\nColumns: []\nIndex: []\nEmpty DataFrame\nColumns: [6, 269]\nIndex: []\nEmpty DataFrame\nColumns: []\nIndex: []\nEmpty DataFrame\nColumns: [6, 270]\nIndex: []\nEmpty DataFrame\nColumns: []\nIndex: []\nEmpty DataFrame\nColumns: [6, 271]\nIndex: []\n     271\n271  NaN\nEmpty DataFrame\nColumns: [6, 272]\nIndex: []\n     272\n272  NaN\nEmpty DataFrame\nColumns: [6, 273]\nIndex: []\nEmpty DataFrame\nColumns: []\nIndex: []\nEmpty DataFrame\nColumns: [6, 274]\nIndex: []\nEmpty DataFrame\nColumns: []\nIndex: []\nEmpty DataFrame\nColumns: [6, 275]\nIndex: []\nEmpty DataFrame\nColumns: []\nIndex: []\nEmpty DataFrame\nColumns: [6, 276]\nIndex: []\nEmpty DataFrame\nColumns: []\nIndex: []\nEmpty DataFrame\nColumns: [6, 277]\nIndex: []\nEmpty DataFrame\nColumns: []\nIndex: []\nEmpty DataFrame\nColumns: [6, 278]\nIndex: []\nEmpty DataFrame\nColumns: []\nIndex: []\nEmpty DataFrame\nColumns: [6, 279]\nIndex: []\n     279\n279  NaN\nEmpty DataFrame\nColumns: [6, 280]\nIndex: []\nEmpty DataFrame\nColumns: []\nIndex: []\n"
     ]
    },
    {
     "name": "stdout",
     "output_type": "stream",
     "text": [
      "Empty DataFrame\nColumns: [6, 281]\nIndex: []\nEmpty DataFrame\nColumns: []\nIndex: []\nEmpty DataFrame\nColumns: [6, 282]\nIndex: []\nEmpty DataFrame\nColumns: []\nIndex: []\nEmpty DataFrame\nColumns: [6, 283]\nIndex: []\nEmpty DataFrame\nColumns: []\nIndex: []\nEmpty DataFrame\nColumns: [6, 284]\nIndex: []\nEmpty DataFrame\nColumns: []\nIndex: []\nEmpty DataFrame\nColumns: [6, 285]\nIndex: []\n     285\n285  NaN\nEmpty DataFrame\nColumns: [6, 286]\nIndex: []\nEmpty DataFrame\nColumns: []\nIndex: []\nEmpty DataFrame\nColumns: [6, 287]\nIndex: []\nEmpty DataFrame\nColumns: []\nIndex: []\nEmpty DataFrame\nColumns: [6, 288]\nIndex: []\nEmpty DataFrame\nColumns: []\nIndex: []\nEmpty DataFrame\nColumns: [6, 289]\nIndex: []\nEmpty DataFrame\nColumns: []\nIndex: []\nEmpty DataFrame\nColumns: [6, 290]\nIndex: []\n     290\n290  NaN\nEmpty DataFrame\nColumns: [6, 291]\nIndex: []\n     291\n291  NaN\nEmpty DataFrame\nColumns: [6, 292]\nIndex: []\nEmpty DataFrame\nColumns: []\nIndex: []\nEmpty DataFrame\nColumns: [6, 293]\nIndex: []\n     293\n293  NaN\nEmpty DataFrame\nColumns: [6, 294]\nIndex: []\nEmpty DataFrame\nColumns: []\nIndex: []\nEmpty DataFrame\nColumns: [6, 295]\nIndex: []\n     295\n295  NaN\nEmpty DataFrame\nColumns: [6, 296]\nIndex: []\n"
     ]
    },
    {
     "name": "stdout",
     "output_type": "stream",
     "text": [
      "     296\n296  NaN\nEmpty DataFrame\nColumns: [6, 297]\nIndex: []\n     297\n297  NaN\nEmpty DataFrame\nColumns: [6, 298]\nIndex: []\nEmpty DataFrame\nColumns: []\nIndex: []\nEmpty DataFrame\nColumns: [6, 299]\nIndex: []\nEmpty DataFrame\nColumns: []\nIndex: []\nEmpty DataFrame\nColumns: [6, 300]\nIndex: []\nEmpty DataFrame\nColumns: []\nIndex: []\nEmpty DataFrame\nColumns: [6, 301]\nIndex: []\nEmpty DataFrame\nColumns: []\nIndex: []\nEmpty DataFrame\nColumns: [6, 302]\nIndex: []\nEmpty DataFrame\nColumns: []\nIndex: []\nEmpty DataFrame\nColumns: [6, 303]\nIndex: []\nEmpty DataFrame\nColumns: []\nIndex: []\nEmpty DataFrame\nColumns: [6, 304]\nIndex: []\nEmpty DataFrame\nColumns: []\nIndex: []\nEmpty DataFrame\nColumns: [6, 305]\nIndex: []\nEmpty DataFrame\nColumns: []\nIndex: []\nEmpty DataFrame\nColumns: [6, 306]\nIndex: []\nEmpty DataFrame\nColumns: []\nIndex: []\nEmpty DataFrame\nColumns: [6, 307]\nIndex: []\n     307\n307  NaN\nEmpty DataFrame\nColumns: [6, 308]\nIndex: []\n     308\n308  NaN\nEmpty DataFrame\nColumns: [6, 309]\nIndex: []\n     309\n309  NaN\n"
     ]
    },
    {
     "name": "stdout",
     "output_type": "stream",
     "text": [
      "Empty DataFrame\nColumns: [6, 310]\nIndex: []\n     310\n310  NaN\nEmpty DataFrame\nColumns: [6, 311]\nIndex: []\nEmpty DataFrame\nColumns: []\nIndex: []\nEmpty DataFrame\nColumns: [6, 312]\nIndex: []\nEmpty DataFrame\nColumns: []\nIndex: []\nEmpty DataFrame\nColumns: [6, 313]\nIndex: []\nEmpty DataFrame\nColumns: []\nIndex: []\nEmpty DataFrame\nColumns: [6, 314]\nIndex: []\n     314\n314  NaN\nEmpty DataFrame\nColumns: [6, 315]\nIndex: []\n     315\n315  NaN\nEmpty DataFrame\nColumns: [6, 316]\nIndex: []\nEmpty DataFrame\nColumns: []\nIndex: []\nEmpty DataFrame\nColumns: [6, 317]\nIndex: []\nEmpty DataFrame\nColumns: []\nIndex: []\nEmpty DataFrame\nColumns: [6, 318]\nIndex: []\nEmpty DataFrame\nColumns: []\nIndex: []\nEmpty DataFrame\nColumns: [6, 319]\nIndex: []\n     319\n319  NaN\nEmpty DataFrame\nColumns: [6, 320]\nIndex: []\n     320\n320  NaN\nEmpty DataFrame\nColumns: [6, 321]\nIndex: []\n     321\n321  NaN\nEmpty DataFrame\nColumns: [6, 322]\nIndex: []\nEmpty DataFrame\nColumns: []\nIndex: []\nEmpty DataFrame\nColumns: [6, 323]\nIndex: []\nEmpty DataFrame\nColumns: []\nIndex: []\n"
     ]
    },
    {
     "name": "stdout",
     "output_type": "stream",
     "text": [
      "Empty DataFrame\nColumns: [6, 324]\nIndex: []\nEmpty DataFrame\nColumns: []\nIndex: []\nEmpty DataFrame\nColumns: [6, 325]\nIndex: []\nEmpty DataFrame\nColumns: []\nIndex: []\nEmpty DataFrame\nColumns: [6, 326]\nIndex: []\nEmpty DataFrame\nColumns: []\nIndex: []\nEmpty DataFrame\nColumns: [6, 327]\nIndex: []\nEmpty DataFrame\nColumns: []\nIndex: []\nEmpty DataFrame\nColumns: [6, 328]\nIndex: []\nEmpty DataFrame\nColumns: []\nIndex: []\nEmpty DataFrame\nColumns: [6, 329]\nIndex: []\nEmpty DataFrame\nColumns: []\nIndex: []\nEmpty DataFrame\nColumns: [6, 330]\nIndex: []\nEmpty DataFrame\nColumns: []\nIndex: []\nEmpty DataFrame\nColumns: [6, 331]\nIndex: []\nEmpty DataFrame\nColumns: []\nIndex: []\nEmpty DataFrame\nColumns: [6, 332]\nIndex: []\nEmpty DataFrame\nColumns: []\nIndex: []\nEmpty DataFrame\nColumns: [6, 333]\nIndex: []\n     333\n333  NaN\nEmpty DataFrame\nColumns: [6, 334]\nIndex: []\n     334\n334  NaN\nEmpty DataFrame\nColumns: [6, 335]\nIndex: []\nEmpty DataFrame\nColumns: []\nIndex: []\nEmpty DataFrame\nColumns: [6, 336]\nIndex: []\nEmpty DataFrame\nColumns: []\nIndex: []\n"
     ]
    },
    {
     "name": "stdout",
     "output_type": "stream",
     "text": [
      "Empty DataFrame\nColumns: [6, 337]\nIndex: []\n     337\n337  NaN\nEmpty DataFrame\nColumns: [6, 338]\nIndex: []\n     338\n338  NaN\nEmpty DataFrame\nColumns: [6, 339]\nIndex: []\n     339\n339  NaN\nEmpty DataFrame\nColumns: [6, 340]\nIndex: []\nEmpty DataFrame\nColumns: []\nIndex: []\nEmpty DataFrame\nColumns: [6, 341]\nIndex: []\nEmpty DataFrame\nColumns: []\nIndex: []\nEmpty DataFrame\nColumns: [6, 342]\nIndex: []\nEmpty DataFrame\nColumns: []\nIndex: []\nEmpty DataFrame\nColumns: [6, 343]\nIndex: []\nEmpty DataFrame\nColumns: []\nIndex: []\nEmpty DataFrame\nColumns: [6, 344]\nIndex: []\nEmpty DataFrame\nColumns: []\nIndex: []\nEmpty DataFrame\nColumns: [6, 345]\nIndex: []\n     345\n345  NaN\nEmpty DataFrame\nColumns: [6, 346]\nIndex: []\nEmpty DataFrame\nColumns: []\nIndex: []\nEmpty DataFrame\nColumns: [6, 347]\nIndex: []\nEmpty DataFrame\nColumns: []\nIndex: []\nEmpty DataFrame\nColumns: [6, 348]\nIndex: []\n     348\n348  NaN\nEmpty DataFrame\nColumns: [6, 349]\nIndex: []\nEmpty DataFrame\nColumns: []\nIndex: []\nEmpty DataFrame\nColumns: [6, 350]\nIndex: []\nEmpty DataFrame\nColumns: []\nIndex: []\n"
     ]
    },
    {
     "name": "stdout",
     "output_type": "stream",
     "text": [
      "Empty DataFrame\nColumns: [6, 351]\nIndex: []\n     351\n351  NaN\nEmpty DataFrame\nColumns: [6, 352]\nIndex: []\nEmpty DataFrame\nColumns: []\nIndex: []\nEmpty DataFrame\nColumns: [6, 353]\nIndex: []\nEmpty DataFrame\nColumns: []\nIndex: []\nEmpty DataFrame\nColumns: [6, 354]\nIndex: []\n     354\n354  NaN\nEmpty DataFrame\nColumns: [6, 355]\nIndex: []\n     355\n355  NaN\nEmpty DataFrame\nColumns: [6, 356]\nIndex: []\n     356\n356  NaN\nEmpty DataFrame\nColumns: [6, 357]\nIndex: []\n     357\n357  NaN\nEmpty DataFrame\nColumns: [6, 358]\nIndex: []\n     358\n358  NaN\nEmpty DataFrame\nColumns: [6, 359]\nIndex: []\n     359\n359  NaN\nEmpty DataFrame\nColumns: [6, 360]\nIndex: []\n     360\n360  NaN\nEmpty DataFrame\nColumns: [6, 361]\nIndex: []\n     361\n361  NaN\nEmpty DataFrame\nColumns: [6, 362]\nIndex: []\n     362\n362  NaN\nEmpty DataFrame\nColumns: [6, 363]\nIndex: []\nEmpty DataFrame\nColumns: []\nIndex: []\n"
     ]
    },
    {
     "name": "stdout",
     "output_type": "stream",
     "text": [
      "Empty DataFrame\nColumns: [6, 364]\nIndex: []\nEmpty DataFrame\nColumns: []\nIndex: []\nEmpty DataFrame\nColumns: [6, 365]\nIndex: []\nEmpty DataFrame\nColumns: []\nIndex: []\nEmpty DataFrame\nColumns: [6, 366]\nIndex: []\nEmpty DataFrame\nColumns: []\nIndex: []\nEmpty DataFrame\nColumns: [6, 367]\nIndex: []\n     367\n367  NaN\nEmpty DataFrame\nColumns: [6, 368]\nIndex: []\nEmpty DataFrame\nColumns: []\nIndex: []\nEmpty DataFrame\nColumns: [6, 369]\nIndex: []\n     369\n369  NaN\nEmpty DataFrame\nColumns: [6, 370]\nIndex: []\nEmpty DataFrame\nColumns: []\nIndex: []\nEmpty DataFrame\nColumns: [6, 371]\nIndex: []\nEmpty DataFrame\nColumns: []\nIndex: []\nEmpty DataFrame\nColumns: [6, 372]\nIndex: []\nEmpty DataFrame\nColumns: []\nIndex: []\nEmpty DataFrame\nColumns: [6, 373]\nIndex: []\nEmpty DataFrame\nColumns: []\nIndex: []\nEmpty DataFrame\nColumns: [6, 374]\nIndex: []\nEmpty DataFrame\nColumns: []\nIndex: []\nEmpty DataFrame\nColumns: [6, 375]\nIndex: []\n     375\n375  NaN\nEmpty DataFrame\nColumns: [6, 376]\nIndex: []\n     376\n376  NaN\nEmpty DataFrame\nColumns: [6, 377]\nIndex: []\n"
     ]
    },
    {
     "name": "stdout",
     "output_type": "stream",
     "text": [
      "Empty DataFrame\nColumns: []\nIndex: []\nEmpty DataFrame\nColumns: [6, 378]\nIndex: []\n     378\n378  NaN\nEmpty DataFrame\nColumns: [6, 379]\nIndex: []\nEmpty DataFrame\nColumns: []\nIndex: []\nEmpty DataFrame\nColumns: [6, 380]\nIndex: []\nEmpty DataFrame\nColumns: []\nIndex: []\nEmpty DataFrame\nColumns: [6, 381]\nIndex: []\nEmpty DataFrame\nColumns: []\nIndex: []\nEmpty DataFrame\nColumns: [6, 382]\nIndex: []\nEmpty DataFrame\nColumns: []\nIndex: []\nEmpty DataFrame\nColumns: [6, 383]\nIndex: []\nEmpty DataFrame\nColumns: []\nIndex: []\nEmpty DataFrame\nColumns: [6, 384]\nIndex: []\nEmpty DataFrame\nColumns: []\nIndex: []\nEmpty DataFrame\nColumns: [6, 385]\nIndex: []\nEmpty DataFrame\nColumns: []\nIndex: []\nEmpty DataFrame\nColumns: [6, 386]\nIndex: []\n     386\n386  NaN\nEmpty DataFrame\nColumns: [6, 387]\nIndex: []\n     387\n387  NaN\nEmpty DataFrame\nColumns: [6, 388]\nIndex: []\nEmpty DataFrame\nColumns: []\nIndex: []\nEmpty DataFrame\nColumns: [6, 389]\nIndex: []\nEmpty DataFrame\nColumns: []\nIndex: []\nEmpty DataFrame\nColumns: [6, 390]\nIndex: []\nEmpty DataFrame\nColumns: []\nIndex: []\nEmpty DataFrame\nColumns: [6, 391]\nIndex: []"
     ]
    },
    {
     "name": "stdout",
     "output_type": "stream",
     "text": [
      "\nEmpty DataFrame\nColumns: []\nIndex: []\nEmpty DataFrame\nColumns: [6, 392]\nIndex: []\nEmpty DataFrame\nColumns: []\nIndex: []\nEmpty DataFrame\nColumns: [6, 393]\nIndex: []\nEmpty DataFrame\nColumns: []\nIndex: []\nEmpty DataFrame\nColumns: [6, 394]\nIndex: []\nEmpty DataFrame\nColumns: []\nIndex: []\nEmpty DataFrame\nColumns: [6, 395]\nIndex: []\nEmpty DataFrame\nColumns: []\nIndex: []\nEmpty DataFrame\nColumns: [6, 396]\nIndex: []\nEmpty DataFrame\nColumns: []\nIndex: []\nEmpty DataFrame\nColumns: [6, 397]\nIndex: []\nEmpty DataFrame\nColumns: []\nIndex: []\nEmpty DataFrame\nColumns: [6, 398]\nIndex: []\nEmpty DataFrame\nColumns: []\nIndex: []\nEmpty DataFrame\nColumns: [6, 399]\nIndex: []\n     399\n399  NaN\nEmpty DataFrame\nColumns: [6, 400]\nIndex: []\n     400\n400  NaN\nEmpty DataFrame\nColumns: [6, 401]\nIndex: []\nEmpty DataFrame\nColumns: []\nIndex: []\nEmpty DataFrame\nColumns: [6, 402]\nIndex: []\n     402\n402  NaN\nEmpty DataFrame\nColumns: [6, 403]\nIndex: []\n     403\n403  NaN\nEmpty DataFrame\nColumns: [6, 404]\nIndex: []\nEmpty DataFrame\nColumns: []\nIndex: []\nEmpty DataFrame\nColumns: [6, 405]\nIndex: []\nEmpty DataFrame\nColumns: []\nIndex: []"
     ]
    },
    {
     "name": "stdout",
     "output_type": "stream",
     "text": [
      "\nEmpty DataFrame\nColumns: [6, 406]\nIndex: []\nEmpty DataFrame\nColumns: []\nIndex: []\nEmpty DataFrame\nColumns: [6, 407]\nIndex: []\n     407\n407  NaN\nEmpty DataFrame\nColumns: [6, 408]\nIndex: []\n     408\n408  NaN\nEmpty DataFrame\nColumns: [6, 409]\nIndex: []\n     409\n409  NaN\nEmpty DataFrame\nColumns: [6, 410]\nIndex: []\n     410\n410  NaN\nEmpty DataFrame\nColumns: [6, 411]\nIndex: []\n     411\n411  NaN\nEmpty DataFrame\nColumns: [6, 412]\nIndex: []\n     412\n412  NaN\nEmpty DataFrame\nColumns: [6, 413]\nIndex: []\n     413\n413  NaN\nEmpty DataFrame\nColumns: [6, 414]\nIndex: []\n     414\n414  NaN\nEmpty DataFrame\nColumns: [6, 415]\nIndex: []\n     415\n415  NaN\nEmpty DataFrame\nColumns: [6, 416]\nIndex: []\n     416\n416  NaN\nEmpty DataFrame\nColumns: [6, 417]\nIndex: []\n     417\n417  NaN\nEmpty DataFrame\nColumns: [6, 418]\nIndex: []\nEmpty DataFrame\nColumns: []\nIndex: []\nEmpty DataFrame\nColumns: [6, 419]\nIndex: []\nEmpty DataFrame\nColumns: []\nIndex: []\nEmpty DataFrame\nColumns: [6, 420]\nIndex: []"
     ]
    },
    {
     "name": "stdout",
     "output_type": "stream",
     "text": [
      "\nEmpty DataFrame\nColumns: []\nIndex: []\nEmpty DataFrame\nColumns: [6, 421]\nIndex: []\n     421\n421  NaN\nEmpty DataFrame\nColumns: [6, 422]\nIndex: []\n     422\n422  NaN\nEmpty DataFrame\nColumns: [6, 423]\nIndex: []\n     423\n423  NaN\nEmpty DataFrame\nColumns: [6, 424]\nIndex: []\n     424\n424  NaN\nEmpty DataFrame\nColumns: [6, 425]\nIndex: []\nEmpty DataFrame\nColumns: []\nIndex: []\nEmpty DataFrame\nColumns: [6, 426]\nIndex: []\n     426\n426  NaN\nEmpty DataFrame\nColumns: [6, 427]\nIndex: []\nEmpty DataFrame\nColumns: []\nIndex: []\nEmpty DataFrame\nColumns: [6, 428]\nIndex: []\n     428\n428  NaN\nEmpty DataFrame\nColumns: [6, 429]\nIndex: []\n     429\n429  NaN\nEmpty DataFrame\nColumns: [6, 430]\nIndex: []\n     430\n430  NaN\nEmpty DataFrame\nColumns: [6, 431]\nIndex: []\nEmpty DataFrame\nColumns: []\nIndex: []\nEmpty DataFrame\nColumns: [6, 432]\nIndex: []\nEmpty DataFrame\nColumns: []\nIndex: []\nEmpty DataFrame\nColumns: [6, 433]\nIndex: []\n     433\n433  NaN\nEmpty DataFrame\nColumns: [6, 434]\nIndex: []\nEmpty DataFrame\nColumns: []\nIndex: []\nEmpty DataFrame\nColumns: [6, 435]\nIndex: []\n     435\n435  NaN\n"
     ]
    },
    {
     "name": "stdout",
     "output_type": "stream",
     "text": [
      "Empty DataFrame\nColumns: [6, 436]\nIndex: []\n     436\n436  NaN\nEmpty DataFrame\nColumns: [6, 437]\nIndex: []\nEmpty DataFrame\nColumns: []\nIndex: []\nEmpty DataFrame\nColumns: [6, 438]\nIndex: []\n     438\n438  NaN\nEmpty DataFrame\nColumns: [6, 439]\nIndex: []\nEmpty DataFrame\nColumns: []\nIndex: []\nEmpty DataFrame\nColumns: [6, 440]\nIndex: []\nEmpty DataFrame\nColumns: []\nIndex: []\nEmpty DataFrame\nColumns: [6, 441]\nIndex: []\n     441\n441  NaN\nEmpty DataFrame\nColumns: [6, 442]\nIndex: []\nEmpty DataFrame\nColumns: []\nIndex: []\nEmpty DataFrame\nColumns: [6, 443]\nIndex: []\nEmpty DataFrame\nColumns: []\nIndex: []\nEmpty DataFrame\nColumns: [6, 444]\nIndex: []\nEmpty DataFrame\nColumns: []\nIndex: []\nEmpty DataFrame\nColumns: [6, 445]\nIndex: []\nEmpty DataFrame\nColumns: []\nIndex: []\nEmpty DataFrame\nColumns: [6, 446]\nIndex: []\nEmpty DataFrame\nColumns: []\nIndex: []\nEmpty DataFrame\nColumns: [6, 447]\nIndex: []\nEmpty DataFrame\nColumns: []\nIndex: []\nEmpty DataFrame\nColumns: [6, 448]\nIndex: []\nEmpty DataFrame\nColumns: []\nIndex: []\nEmpty DataFrame\nColumns: [6, 449]\nIndex: []\n     449\n449  NaN\n"
     ]
    },
    {
     "name": "stdout",
     "output_type": "stream",
     "text": [
      "Empty DataFrame\nColumns: [6, 450]\nIndex: []\nEmpty DataFrame\nColumns: []\nIndex: []\nEmpty DataFrame\nColumns: [6, 451]\nIndex: []\nEmpty DataFrame\nColumns: []\nIndex: []\nEmpty DataFrame\nColumns: [6, 452]\nIndex: []\nEmpty DataFrame\nColumns: []\nIndex: []\nEmpty DataFrame\nColumns: [6, 453]\nIndex: []\nEmpty DataFrame\nColumns: []\nIndex: []\nEmpty DataFrame\nColumns: [6, 454]\nIndex: []\nEmpty DataFrame\nColumns: []\nIndex: []\nEmpty DataFrame\nColumns: [6, 455]\nIndex: []\nEmpty DataFrame\nColumns: []\nIndex: []\nEmpty DataFrame\nColumns: [6, 456]\nIndex: []\nEmpty DataFrame\nColumns: []\nIndex: []\nEmpty DataFrame\nColumns: [6, 457]\nIndex: []\nEmpty DataFrame\nColumns: []\nIndex: []\nEmpty DataFrame\nColumns: [6, 458]\nIndex: []\nEmpty DataFrame\nColumns: []\nIndex: []\nEmpty DataFrame\nColumns: [6, 459]\nIndex: []\n     459\n459  NaN\nEmpty DataFrame\nColumns: [6, 460]\nIndex: []\n     460\n460  NaN\nEmpty DataFrame\nColumns: [6, 461]\nIndex: []\nEmpty DataFrame\nColumns: []\nIndex: []\nEmpty DataFrame\nColumns: [6, 462]\nIndex: []\nEmpty DataFrame\nColumns: []\nIndex: []\nEmpty DataFrame\nColumns: [6, 463]\nIndex: []\nEmpty DataFrame\nColumns: []\nIndex: []\nEmpty DataFrame\nColumns: [6, 464]\nIndex: []\n     464\n464  NaN\n"
     ]
    },
    {
     "name": "stdout",
     "output_type": "stream",
     "text": [
      "Empty DataFrame\nColumns: [6, 465]\nIndex: []\nEmpty DataFrame\nColumns: []\nIndex: []\nEmpty DataFrame\nColumns: [6, 466]\nIndex: []\nEmpty DataFrame\nColumns: []\nIndex: []\nEmpty DataFrame\nColumns: [6, 467]\nIndex: []\nEmpty DataFrame\nColumns: []\nIndex: []\nEmpty DataFrame\nColumns: [6, 468]\nIndex: []\nEmpty DataFrame\nColumns: []\nIndex: []\nEmpty DataFrame\nColumns: [6, 469]\nIndex: []\nEmpty DataFrame\nColumns: []\nIndex: []\nEmpty DataFrame\nColumns: [6, 470]\nIndex: []\nEmpty DataFrame\nColumns: []\nIndex: []\nEmpty DataFrame\nColumns: [6, 471]\nIndex: []\nEmpty DataFrame\nColumns: []\nIndex: []\nEmpty DataFrame\nColumns: [6, 472]\nIndex: []\nEmpty DataFrame\nColumns: []\nIndex: []\nEmpty DataFrame\nColumns: [6, 473]\nIndex: []\nEmpty DataFrame\nColumns: []\nIndex: []\nEmpty DataFrame\nColumns: [6, 474]\nIndex: []\nEmpty DataFrame\nColumns: []\nIndex: []\nEmpty DataFrame\nColumns: [6, 475]\nIndex: []\nEmpty DataFrame\nColumns: []\nIndex: []\nEmpty DataFrame\nColumns: [6, 476]\nIndex: []\nEmpty DataFrame\nColumns: []\nIndex: []\nEmpty DataFrame\nColumns: [6, 477]\nIndex: []\nEmpty DataFrame\nColumns: []\nIndex: []\nEmpty DataFrame\nColumns: [6, 478]\nIndex: []\n     478\n478  NaN\n"
     ]
    },
    {
     "name": "stdout",
     "output_type": "stream",
     "text": [
      "Empty DataFrame\nColumns: [6, 479]\nIndex: []\nEmpty DataFrame\nColumns: []\nIndex: []\nEmpty DataFrame\nColumns: [6, 480]\nIndex: []\n     480\n480  NaN\nEmpty DataFrame\nColumns: [6, 481]\nIndex: []\nEmpty DataFrame\nColumns: []\nIndex: []\nEmpty DataFrame\nColumns: [6, 482]\nIndex: []\n     482\n482  NaN\nEmpty DataFrame\nColumns: [6, 483]\nIndex: []\n     483\n483  NaN\nEmpty DataFrame\nColumns: [6, 484]\nIndex: []\n     484\n484  NaN\nEmpty DataFrame\nColumns: [6, 485]\nIndex: []\n     485\n485  NaN\nEmpty DataFrame\nColumns: [6, 486]\nIndex: []\n     486\n486  NaN\nEmpty DataFrame\nColumns: [6, 487]\nIndex: []\nEmpty DataFrame\nColumns: []\nIndex: []\nEmpty DataFrame\nColumns: [6, 488]\nIndex: []\n     488\n488  NaN\nEmpty DataFrame\nColumns: [6, 489]\nIndex: []\n     489\n489  NaN\nEmpty DataFrame\nColumns: [6, 490]\nIndex: []\nEmpty DataFrame\nColumns: []\nIndex: []\nEmpty DataFrame\nColumns: [6, 491]\nIndex: []\nEmpty DataFrame\nColumns: []\nIndex: []\nEmpty DataFrame\nColumns: [6, 492]\nIndex: []\n"
     ]
    },
    {
     "name": "stdout",
     "output_type": "stream",
     "text": [
      "     492\n492  NaN\nEmpty DataFrame\nColumns: [6, 493]\nIndex: []\nEmpty DataFrame\nColumns: []\nIndex: []\nEmpty DataFrame\nColumns: [6, 494]\nIndex: []\nEmpty DataFrame\nColumns: []\nIndex: []\nEmpty DataFrame\nColumns: [6, 495]\nIndex: []\nEmpty DataFrame\nColumns: []\nIndex: []\nEmpty DataFrame\nColumns: [6, 496]\nIndex: []\nEmpty DataFrame\nColumns: []\nIndex: []\nEmpty DataFrame\nColumns: [6, 497]\nIndex: []\n     497\n497  NaN\nEmpty DataFrame\nColumns: [6, 498]\nIndex: []\n     498\n498  NaN\nEmpty DataFrame\nColumns: [6, 499]\nIndex: []\n     499\n499  NaN\nEmpty DataFrame\nColumns: [6, 500]\nIndex: []\n     500\n500  NaN\nEmpty DataFrame\nColumns: [6, 501]\nIndex: []\nEmpty DataFrame\nColumns: []\nIndex: []\nEmpty DataFrame\nColumns: [6, 502]\nIndex: []\nEmpty DataFrame\nColumns: []\nIndex: []\nEmpty DataFrame\nColumns: [6, 503]\nIndex: []\nEmpty DataFrame\nColumns: []\nIndex: []\nEmpty DataFrame\nColumns: [6, 504]\nIndex: []\nEmpty DataFrame\nColumns: []\nIndex: []\n"
     ]
    },
    {
     "name": "stdout",
     "output_type": "stream",
     "text": [
      "Empty DataFrame\nColumns: [6, 505]\nIndex: []\nEmpty DataFrame\nColumns: []\nIndex: []\nEmpty DataFrame\nColumns: [6, 506]\nIndex: []\nEmpty DataFrame\nColumns: []\nIndex: []\nEmpty DataFrame\nColumns: [6, 507]\nIndex: []\nEmpty DataFrame\nColumns: []\nIndex: []\nEmpty DataFrame\nColumns: [6, 508]\nIndex: []\nEmpty DataFrame\nColumns: []\nIndex: []\nEmpty DataFrame\nColumns: [6, 509]\nIndex: []\nEmpty DataFrame\nColumns: []\nIndex: []\nEmpty DataFrame\nColumns: [6, 510]\nIndex: []\nEmpty DataFrame\nColumns: []\nIndex: []\nEmpty DataFrame\nColumns: [6, 511]\nIndex: []\nEmpty DataFrame\nColumns: []\nIndex: []\nEmpty DataFrame\nColumns: [6, 512]\nIndex: []\nEmpty DataFrame\nColumns: []\nIndex: []\nEmpty DataFrame\nColumns: [6, 513]\nIndex: []\nEmpty DataFrame\nColumns: []\nIndex: []\nEmpty DataFrame\nColumns: [6, 514]\nIndex: []\nEmpty DataFrame\nColumns: []\nIndex: []\nEmpty DataFrame\nColumns: [6, 515]\nIndex: []\nEmpty DataFrame\nColumns: []\nIndex: []\nEmpty DataFrame\nColumns: [6, 516]\nIndex: []\nEmpty DataFrame\nColumns: []\nIndex: []\nEmpty DataFrame\nColumns: [6, 517]\nIndex: []\nEmpty DataFrame\nColumns: []\nIndex: []\nEmpty DataFrame\nColumns: [6, 518]\nIndex: []\nEmpty DataFrame\nColumns: []\nIndex: []\nEmpty DataFrame\nColumns: [6, 519]\nIndex: []\nEmpty DataFrame\nColumns: []\nIndex: []\n"
     ]
    },
    {
     "name": "stdout",
     "output_type": "stream",
     "text": [
      "Empty DataFrame\nColumns: [6, 520]\nIndex: []\nEmpty DataFrame\nColumns: []\nIndex: []\nEmpty DataFrame\nColumns: [6, 521]\nIndex: []\n     521\n521  NaN\nEmpty DataFrame\nColumns: [6, 522]\nIndex: []\n     522\n522  NaN\nEmpty DataFrame\nColumns: [6, 523]\nIndex: []\nEmpty DataFrame\nColumns: []\nIndex: []\nEmpty DataFrame\nColumns: [6, 524]\nIndex: []\nEmpty DataFrame\nColumns: []\nIndex: []\nEmpty DataFrame\nColumns: [6, 525]\nIndex: []\n     525\n525  NaN\nEmpty DataFrame\nColumns: [6, 526]\nIndex: []\nEmpty DataFrame\nColumns: []\nIndex: []\nEmpty DataFrame\nColumns: [6, 527]\nIndex: []\nEmpty DataFrame\nColumns: []\nIndex: []\nEmpty DataFrame\nColumns: [6, 528]\nIndex: []\nEmpty DataFrame\nColumns: []\nIndex: []\nEmpty DataFrame\nColumns: [6, 529]\nIndex: []\nEmpty DataFrame\nColumns: []\nIndex: []\nEmpty DataFrame\nColumns: [6, 530]\nIndex: []\nEmpty DataFrame\nColumns: []\nIndex: []\nEmpty DataFrame\nColumns: [6, 531]\nIndex: []\nEmpty DataFrame\nColumns: []\nIndex: []\nEmpty DataFrame\nColumns: [6, 532]\nIndex: []\nEmpty DataFrame\nColumns: []\nIndex: []\nEmpty DataFrame\nColumns: [6, 533]\nIndex: []\n     533\n533  NaN\nEmpty DataFrame\nColumns: [6, 534]\nIndex: []\nEmpty DataFrame\nColumns: []\nIndex: []\n"
     ]
    },
    {
     "name": "stdout",
     "output_type": "stream",
     "text": [
      "Empty DataFrame\nColumns: [6, 535]\nIndex: []\nEmpty DataFrame\nColumns: []\nIndex: []\nEmpty DataFrame\nColumns: [6, 536]\nIndex: []\n     536\n536  NaN\nEmpty DataFrame\nColumns: [6, 537]\nIndex: []\nEmpty DataFrame\nColumns: []\nIndex: []\nEmpty DataFrame\nColumns: [6, 538]\nIndex: []\n     538\n538  NaN\nEmpty DataFrame\nColumns: [6, 539]\nIndex: []\n     539\n539  NaN\nEmpty DataFrame\nColumns: [6, 540]\nIndex: []\nEmpty DataFrame\nColumns: []\nIndex: []\nEmpty DataFrame\nColumns: [6, 541]\nIndex: []\nEmpty DataFrame\nColumns: []\nIndex: []\nEmpty DataFrame\nColumns: [6, 542]\nIndex: []\nEmpty DataFrame\nColumns: []\nIndex: []\nEmpty DataFrame\nColumns: [6, 543]\nIndex: []\nEmpty DataFrame\nColumns: []\nIndex: []\nEmpty DataFrame\nColumns: [6, 544]\nIndex: []\nEmpty DataFrame\nColumns: []\nIndex: []\nEmpty DataFrame\nColumns: [6, 545]\nIndex: []\nEmpty DataFrame\nColumns: []\nIndex: []\nEmpty DataFrame\nColumns: [6, 546]\nIndex: []\nEmpty DataFrame\nColumns: []\nIndex: []\nEmpty DataFrame\nColumns: [6, 547]\nIndex: []\nEmpty DataFrame\nColumns: []\nIndex: []\nEmpty DataFrame\nColumns: [6, 548]\nIndex: []\nEmpty DataFrame\nColumns: []\nIndex: []\n"
     ]
    },
    {
     "name": "stdout",
     "output_type": "stream",
     "text": [
      "Empty DataFrame\nColumns: [6, 549]\nIndex: []\nEmpty DataFrame\nColumns: []\nIndex: []\nEmpty DataFrame\nColumns: [6, 550]\nIndex: []\nEmpty DataFrame\nColumns: []\nIndex: []\nEmpty DataFrame\nColumns: [6, 551]\nIndex: []\nEmpty DataFrame\nColumns: []\nIndex: []\nEmpty DataFrame\nColumns: [6, 552]\nIndex: []\n     552\n552  NaN\nEmpty DataFrame\nColumns: [6, 553]\nIndex: []\n     553\n553  NaN\nEmpty DataFrame\nColumns: [6, 554]\nIndex: []\nEmpty DataFrame\nColumns: []\nIndex: []\nEmpty DataFrame\nColumns: [6, 555]\nIndex: []\nEmpty DataFrame\nColumns: []\nIndex: []\nEmpty DataFrame\nColumns: [6, 556]\nIndex: []\nEmpty DataFrame\nColumns: []\nIndex: []\nEmpty DataFrame\nColumns: [6, 557]\nIndex: []\n     557\n557  NaN\nEmpty DataFrame\nColumns: [6, 558]\nIndex: []\nEmpty DataFrame\nColumns: []\nIndex: []\nEmpty DataFrame\nColumns: [6, 559]\nIndex: []\nEmpty DataFrame\nColumns: []\nIndex: []\nEmpty DataFrame\nColumns: [6, 560]\nIndex: []\nEmpty DataFrame\nColumns: []\nIndex: []\nEmpty DataFrame\nColumns: [6, 561]\nIndex: []\nEmpty DataFrame\nColumns: []\nIndex: []\nEmpty DataFrame\nColumns: [6, 562]\nIndex: []\nEmpty DataFrame\nColumns: []\nIndex: []\n"
     ]
    },
    {
     "name": "stdout",
     "output_type": "stream",
     "text": [
      "Empty DataFrame\nColumns: [6, 563]\nIndex: []\nEmpty DataFrame\nColumns: []\nIndex: []\nEmpty DataFrame\nColumns: [6, 564]\nIndex: []\nEmpty DataFrame\nColumns: []\nIndex: []\nEmpty DataFrame\nColumns: [6, 565]\nIndex: []\nEmpty DataFrame\nColumns: []\nIndex: []\nEmpty DataFrame\nColumns: [6, 566]\nIndex: []\n     566\n566  NaN\nEmpty DataFrame\nColumns: [6, 567]\nIndex: []\nEmpty DataFrame\nColumns: []\nIndex: []\nEmpty DataFrame\nColumns: [6, 568]\nIndex: []\nEmpty DataFrame\nColumns: []\nIndex: []\nEmpty DataFrame\nColumns: [6, 569]\nIndex: []\nEmpty DataFrame\nColumns: []\nIndex: []\nEmpty DataFrame\nColumns: [6, 570]\nIndex: []\n     570\n570  NaN\nEmpty DataFrame\nColumns: [6, 571]\nIndex: []\nEmpty DataFrame\nColumns: []\nIndex: []\nEmpty DataFrame\nColumns: [6, 572]\nIndex: []\nEmpty DataFrame\nColumns: []\nIndex: []\nEmpty DataFrame\nColumns: [6, 573]\nIndex: []\nEmpty DataFrame\nColumns: []\nIndex: []\nEmpty DataFrame\nColumns: [6, 574]\nIndex: []\nEmpty DataFrame\nColumns: []\nIndex: []\nEmpty DataFrame\nColumns: [6, 575]\nIndex: []\n     575\n575  NaN\nEmpty DataFrame\nColumns: [6, 576]\nIndex: []\n     576\n576  NaN\nEmpty DataFrame\nColumns: [6, 577]\nIndex: []\n"
     ]
    },
    {
     "name": "stdout",
     "output_type": "stream",
     "text": [
      "     577\n577  NaN\nEmpty DataFrame\nColumns: [6, 578]\nIndex: []\n     578\n578  NaN\nEmpty DataFrame\nColumns: [6, 579]\nIndex: []\n     579\n579  NaN\nEmpty DataFrame\nColumns: [6, 580]\nIndex: []\nEmpty DataFrame\nColumns: []\nIndex: []\nEmpty DataFrame\nColumns: [6, 581]\nIndex: []\nEmpty DataFrame\nColumns: []\nIndex: []\nEmpty DataFrame\nColumns: [6, 582]\nIndex: []\nEmpty DataFrame\nColumns: []\nIndex: []\nEmpty DataFrame\nColumns: [6, 583]\nIndex: []\nEmpty DataFrame\nColumns: []\nIndex: []\nEmpty DataFrame\nColumns: [6, 584]\nIndex: []\nEmpty DataFrame\nColumns: []\nIndex: []\nEmpty DataFrame\nColumns: [6, 585]\nIndex: []\nEmpty DataFrame\nColumns: []\nIndex: []\nEmpty DataFrame\nColumns: [6, 586]\nIndex: []\n     586\n586  NaN\nEmpty DataFrame\nColumns: [6, 587]\nIndex: []\n     587\n587  NaN\nEmpty DataFrame\nColumns: [6, 588]\nIndex: []\n     588\n588  NaN\nEmpty DataFrame\nColumns: [6, 589]\nIndex: []\nEmpty DataFrame\nColumns: []\nIndex: []\nEmpty DataFrame\nColumns: [6, 590]\nIndex: []\n     590\n590  NaN\nEmpty DataFrame\nColumns: [6, 591]\nIndex: []\n     591\n591  NaN\n"
     ]
    },
    {
     "name": "stdout",
     "output_type": "stream",
     "text": [
      "Empty DataFrame\nColumns: [6, 592]\nIndex: []\n     592\n592  NaN\nEmpty DataFrame\nColumns: [6, 593]\nIndex: []\n     593\n593  NaN\nEmpty DataFrame\nColumns: [6, 594]\nIndex: []\n     594\n594  NaN\nEmpty DataFrame\nColumns: [6, 595]\nIndex: []\n     595\n595  NaN\nEmpty DataFrame\nColumns: [6, 596]\nIndex: []\n     596\n596  NaN\nEmpty DataFrame\nColumns: [6, 597]\nIndex: []\n     597\n597  NaN\nEmpty DataFrame\nColumns: [6, 598]\nIndex: []\n     598\n598  NaN\nEmpty DataFrame\nColumns: [6, 599]\nIndex: []\nEmpty DataFrame\nColumns: []\nIndex: []\nEmpty DataFrame\nColumns: [6, 600]\nIndex: []\nEmpty DataFrame\nColumns: []\nIndex: []\nEmpty DataFrame\nColumns: [6, 601]\nIndex: []\nEmpty DataFrame\nColumns: []\nIndex: []\nEmpty DataFrame\nColumns: [6, 602]\nIndex: []\nEmpty DataFrame\nColumns: []\nIndex: []\nEmpty DataFrame\nColumns: [6, 603]\nIndex: []\n     603\n603  NaN\nEmpty DataFrame\nColumns: [6, 604]\nIndex: []\n     604\n604  NaN\nEmpty DataFrame\nColumns: [6, 605]\nIndex: []\nEmpty DataFrame\nColumns: []\nIndex: []\n"
     ]
    },
    {
     "name": "stdout",
     "output_type": "stream",
     "text": [
      "Empty DataFrame\nColumns: [6, 606]\nIndex: []\nEmpty DataFrame\nColumns: []\nIndex: []\nEmpty DataFrame\nColumns: [6, 607]\nIndex: []\nEmpty DataFrame\nColumns: []\nIndex: []\nEmpty DataFrame\nColumns: [6, 608]\nIndex: []\nEmpty DataFrame\nColumns: []\nIndex: []\nEmpty DataFrame\nColumns: [6, 609]\nIndex: []\nEmpty DataFrame\nColumns: []\nIndex: []\nEmpty DataFrame\nColumns: [6, 610]\nIndex: []\nEmpty DataFrame\nColumns: []\nIndex: []\nEmpty DataFrame\nColumns: [6, 611]\nIndex: []\nEmpty DataFrame\nColumns: []\nIndex: []\nEmpty DataFrame\nColumns: [6, 612]\nIndex: []\nEmpty DataFrame\nColumns: []\nIndex: []\nEmpty DataFrame\nColumns: [6, 613]\nIndex: []\nEmpty DataFrame\nColumns: []\nIndex: []\nEmpty DataFrame\nColumns: [6, 614]\nIndex: []\n     614\n614  NaN\nEmpty DataFrame\nColumns: [6, 615]\nIndex: []\n     615\n615  NaN\nEmpty DataFrame\nColumns: [6, 616]\nIndex: []\nEmpty DataFrame\nColumns: []\nIndex: []\nEmpty DataFrame\nColumns: [6, 617]\nIndex: []\nEmpty DataFrame\nColumns: []\nIndex: []\nEmpty DataFrame\nColumns: [6, 618]\nIndex: []\n     618\n618  NaN\nEmpty DataFrame\nColumns: [6, 619]\nIndex: []\nEmpty DataFrame\nColumns: []\nIndex: []\nEmpty DataFrame\nColumns: [6, 620]\nIndex: []"
     ]
    },
    {
     "name": "stdout",
     "output_type": "stream",
     "text": [
      "\n     620\n620  NaN\nEmpty DataFrame\nColumns: [6, 621]\nIndex: []\nEmpty DataFrame\nColumns: []\nIndex: []\nEmpty DataFrame\nColumns: [6, 622]\nIndex: []\nEmpty DataFrame\nColumns: []\nIndex: []\nEmpty DataFrame\nColumns: [6, 623]\nIndex: []\n     623\n623  NaN\nEmpty DataFrame\nColumns: [6, 624]\nIndex: []\n     624\n624  NaN\nEmpty DataFrame\nColumns: [6, 625]\nIndex: []\n     625\n625  NaN\nEmpty DataFrame\nColumns: [6, 626]\nIndex: []\nEmpty DataFrame\nColumns: []\nIndex: []\nEmpty DataFrame\nColumns: [6, 627]\nIndex: []\nEmpty DataFrame\nColumns: []\nIndex: []\nEmpty DataFrame\nColumns: [6, 628]\nIndex: []\nEmpty DataFrame\nColumns: []\nIndex: []\nEmpty DataFrame\nColumns: [6, 629]\nIndex: []\nEmpty DataFrame\nColumns: []\nIndex: []\nEmpty DataFrame\nColumns: [6, 630]\nIndex: []\nEmpty DataFrame\nColumns: []\nIndex: []\nEmpty DataFrame\nColumns: [6, 631]\nIndex: []\nEmpty DataFrame\nColumns: []\nIndex: []\nEmpty DataFrame\nColumns: [6, 632]\nIndex: []\nEmpty DataFrame\nColumns: []\nIndex: []\nEmpty DataFrame\nColumns: [6, 633]\nIndex: []"
     ]
    },
    {
     "name": "stdout",
     "output_type": "stream",
     "text": [
      "\nEmpty DataFrame\nColumns: []\nIndex: []\nEmpty DataFrame\nColumns: [6, 634]\nIndex: []\nEmpty DataFrame\nColumns: []\nIndex: []\nEmpty DataFrame\nColumns: [6, 635]\nIndex: []\nEmpty DataFrame\nColumns: []\nIndex: []\nEmpty DataFrame\nColumns: [6, 636]\nIndex: []\nEmpty DataFrame\nColumns: []\nIndex: []\nEmpty DataFrame\nColumns: [6, 637]\nIndex: []\nEmpty DataFrame\nColumns: []\nIndex: []\nEmpty DataFrame\nColumns: [6, 638]\nIndex: []\nEmpty DataFrame\nColumns: []\nIndex: []\nEmpty DataFrame\nColumns: [6, 639]\nIndex: []\nEmpty DataFrame\nColumns: []\nIndex: []\nEmpty DataFrame\nColumns: [6, 640]\nIndex: []\nEmpty DataFrame\nColumns: []\nIndex: []\nEmpty DataFrame\nColumns: [6, 641]\nIndex: []\nEmpty DataFrame\nColumns: []\nIndex: []\nEmpty DataFrame\nColumns: [6, 642]\nIndex: []\nEmpty DataFrame\nColumns: []\nIndex: []\nEmpty DataFrame\nColumns: [6, 643]\nIndex: []\nEmpty DataFrame\nColumns: []\nIndex: []\nEmpty DataFrame\nColumns: [6, 644]\nIndex: []\nEmpty DataFrame\nColumns: []\nIndex: []\nEmpty DataFrame\nColumns: [6, 645]\nIndex: []\nEmpty DataFrame\nColumns: []\nIndex: []\nEmpty DataFrame\nColumns: [6, 646]\nIndex: []\nEmpty DataFrame\nColumns: []\nIndex: []\nEmpty DataFrame\nColumns: [6, 647]\nIndex: []\nEmpty DataFrame\nColumns: []\nIndex: []\nEmpty DataFrame\nColumns: [6, 648]\nIndex: []\nEmpty DataFrame\nColumns: []\nIndex: []\n"
     ]
    },
    {
     "name": "stdout",
     "output_type": "stream",
     "text": [
      "Empty DataFrame\nColumns: [6, 649]\nIndex: []\nEmpty DataFrame\nColumns: []\nIndex: []\nEmpty DataFrame\nColumns: [6, 650]\nIndex: []\nEmpty DataFrame\nColumns: []\nIndex: []\nEmpty DataFrame\nColumns: [6, 651]\nIndex: []\nEmpty DataFrame\nColumns: []\nIndex: []\nEmpty DataFrame\nColumns: [6, 652]\nIndex: []\nEmpty DataFrame\nColumns: []\nIndex: []\nEmpty DataFrame\nColumns: [6, 653]\nIndex: []\nEmpty DataFrame\nColumns: []\nIndex: []\nEmpty DataFrame\nColumns: [6, 654]\nIndex: []\nEmpty DataFrame\nColumns: []\nIndex: []\nEmpty DataFrame\nColumns: [6, 655]\nIndex: []\nEmpty DataFrame\nColumns: []\nIndex: []\nEmpty DataFrame\nColumns: [6, 656]\nIndex: []\nEmpty DataFrame\nColumns: []\nIndex: []\nEmpty DataFrame\nColumns: [6, 657]\nIndex: []\nEmpty DataFrame\nColumns: []\nIndex: []\nEmpty DataFrame\nColumns: [6, 658]\nIndex: []\nEmpty DataFrame\nColumns: []\nIndex: []\nEmpty DataFrame\nColumns: [6, 659]\nIndex: []\nEmpty DataFrame\nColumns: []\nIndex: []\nEmpty DataFrame\nColumns: [6, 660]\nIndex: []\nEmpty DataFrame\nColumns: []\nIndex: []\nEmpty DataFrame\nColumns: [6, 661]\nIndex: []\nEmpty DataFrame\nColumns: []\nIndex: []\nEmpty DataFrame\nColumns: [6, 662]\nIndex: []\nEmpty DataFrame\nColumns: []\nIndex: []\nEmpty DataFrame\nColumns: [6, 663]\nIndex: []\nEmpty DataFrame\nColumns: []\nIndex: []\n"
     ]
    },
    {
     "name": "stdout",
     "output_type": "stream",
     "text": [
      "Empty DataFrame\nColumns: [6, 664]\nIndex: []\nEmpty DataFrame\nColumns: []\nIndex: []\nEmpty DataFrame\nColumns: [6, 665]\nIndex: []\nEmpty DataFrame\nColumns: []\nIndex: []\nEmpty DataFrame\nColumns: [6, 666]\nIndex: []\nEmpty DataFrame\nColumns: []\nIndex: []\nEmpty DataFrame\nColumns: [6, 667]\nIndex: []\nEmpty DataFrame\nColumns: []\nIndex: []\nEmpty DataFrame\nColumns: [6, 668]\nIndex: []\nEmpty DataFrame\nColumns: []\nIndex: []\nEmpty DataFrame\nColumns: [6, 669]\nIndex: []\nEmpty DataFrame\nColumns: []\nIndex: []\nEmpty DataFrame\nColumns: [6, 670]\nIndex: []\nEmpty DataFrame\nColumns: []\nIndex: []\nEmpty DataFrame\nColumns: [6, 671]\nIndex: []\nEmpty DataFrame\nColumns: []\nIndex: []\nEmpty DataFrame\nColumns: [6, 672]\nIndex: []\nEmpty DataFrame\nColumns: []\nIndex: []\nEmpty DataFrame\nColumns: [6, 673]\nIndex: []\nEmpty DataFrame\nColumns: []\nIndex: []\nEmpty DataFrame\nColumns: [6, 674]\nIndex: []\nEmpty DataFrame\nColumns: []\nIndex: []\nEmpty DataFrame\nColumns: [6, 675]\nIndex: []\nEmpty DataFrame\nColumns: []\nIndex: []\nEmpty DataFrame\nColumns: [6, 676]\nIndex: []\nEmpty DataFrame\nColumns: []\nIndex: []\nEmpty DataFrame\nColumns: [6, 677]\nIndex: []\nEmpty DataFrame\nColumns: []\nIndex: []\nEmpty DataFrame\nColumns: [6, 678]\nIndex: []\nEmpty DataFrame\nColumns: []\nIndex: []\n"
     ]
    },
    {
     "name": "stdout",
     "output_type": "stream",
     "text": [
      "Empty DataFrame\nColumns: [6, 679]\nIndex: []\nEmpty DataFrame\nColumns: []\nIndex: []\nEmpty DataFrame\nColumns: [6, 680]\nIndex: []\nEmpty DataFrame\nColumns: []\nIndex: []\nEmpty DataFrame\nColumns: [6, 681]\nIndex: []\nEmpty DataFrame\nColumns: []\nIndex: []\nEmpty DataFrame\nColumns: [6, 682]\nIndex: []\nEmpty DataFrame\nColumns: []\nIndex: []\nEmpty DataFrame\nColumns: [6, 683]\nIndex: []\nEmpty DataFrame\nColumns: []\nIndex: []\nEmpty DataFrame\nColumns: [6, 684]\nIndex: []\nEmpty DataFrame\nColumns: []\nIndex: []\nEmpty DataFrame\nColumns: [6, 685]\nIndex: []\nEmpty DataFrame\nColumns: []\nIndex: []\nEmpty DataFrame\nColumns: [6, 686]\nIndex: []\nEmpty DataFrame\nColumns: []\nIndex: []\nEmpty DataFrame\nColumns: [6, 687]\nIndex: []\nEmpty DataFrame\nColumns: []\nIndex: []\nEmpty DataFrame\nColumns: [6, 688]\nIndex: []\nEmpty DataFrame\nColumns: []\nIndex: []\nEmpty DataFrame\nColumns: [6, 689]\nIndex: []\n     689\n689  NaN\nEmpty DataFrame\nColumns: [6, 690]\nIndex: []\n     690\n690  NaN\nEmpty DataFrame\nColumns: [6, 691]\nIndex: []\nEmpty DataFrame\nColumns: []\nIndex: []\nEmpty DataFrame\nColumns: [6, 692]\nIndex: []\nEmpty DataFrame\nColumns: []\nIndex: []\n"
     ]
    },
    {
     "name": "stdout",
     "output_type": "stream",
     "text": [
      "Empty DataFrame\nColumns: [6, 693]\nIndex: []\n     693\n693  NaN\nEmpty DataFrame\nColumns: [6, 694]\nIndex: []\n     694\n694  NaN\nEmpty DataFrame\nColumns: [6, 695]\nIndex: []\n     695\n695  NaN\nEmpty DataFrame\nColumns: [6, 696]\nIndex: []\n     696\n696  NaN\nEmpty DataFrame\nColumns: [6, 697]\nIndex: []\n     697\n697  NaN\nEmpty DataFrame\nColumns: [6, 698]\nIndex: []\n     698\n698  NaN\nEmpty DataFrame\nColumns: [6, 699]\nIndex: []\n     699\n699  NaN\nEmpty DataFrame\nColumns: [6, 700]\nIndex: []\n     700\n700  NaN\nEmpty DataFrame\nColumns: [6, 701]\nIndex: []\n     701\n701  NaN\nEmpty DataFrame\nColumns: [6, 702]\nIndex: []\nEmpty DataFrame\nColumns: []\nIndex: []\nEmpty DataFrame\nColumns: [6, 703]\nIndex: []\nEmpty DataFrame\nColumns: []\nIndex: []\nEmpty DataFrame\nColumns: [6, 704]\nIndex: []\n     704\n704  NaN\nEmpty DataFrame\nColumns: [6, 705]\nIndex: []\nEmpty DataFrame\nColumns: []\nIndex: []\nEmpty DataFrame\nColumns: [6, 706]\nIndex: []\nEmpty DataFrame\nColumns: []\nIndex: []\nEmpty DataFrame\nColumns: [6, 707]\nIndex: []\nEmpty DataFrame\nColumns: []\nIndex: []\n"
     ]
    },
    {
     "name": "stdout",
     "output_type": "stream",
     "text": [
      "Empty DataFrame\nColumns: [6, 708]\nIndex: []\nEmpty DataFrame\nColumns: []\nIndex: []\nEmpty DataFrame\nColumns: [6, 709]\nIndex: []\nEmpty DataFrame\nColumns: []\nIndex: []\nEmpty DataFrame\nColumns: [6, 710]\nIndex: []\nEmpty DataFrame\nColumns: []\nIndex: []\nEmpty DataFrame\nColumns: [6, 711]\nIndex: []\nEmpty DataFrame\nColumns: []\nIndex: []\nEmpty DataFrame\nColumns: [6, 712]\nIndex: []\nEmpty DataFrame\nColumns: []\nIndex: []\nEmpty DataFrame\nColumns: [6, 713]\nIndex: []\nEmpty DataFrame\nColumns: []\nIndex: []\nEmpty DataFrame\nColumns: [6, 714]\nIndex: []\nEmpty DataFrame\nColumns: []\nIndex: []\nEmpty DataFrame\nColumns: [6, 715]\nIndex: []\n     715\n715  NaN\nEmpty DataFrame\nColumns: [6, 716]\nIndex: []\nEmpty DataFrame\nColumns: []\nIndex: []\nEmpty DataFrame\nColumns: [6, 717]\nIndex: []\nEmpty DataFrame\nColumns: []\nIndex: []\nEmpty DataFrame\nColumns: [6, 718]\nIndex: []\nEmpty DataFrame\nColumns: []\nIndex: []\nEmpty DataFrame\nColumns: [6, 719]\nIndex: []\nEmpty DataFrame\nColumns: []\nIndex: []\nEmpty DataFrame\nColumns: [6, 720]\nIndex: []\nEmpty DataFrame\nColumns: []\nIndex: []\nEmpty DataFrame\nColumns: [6, 721]\nIndex: []\n     721\n721  NaN\nEmpty DataFrame\nColumns: [6, 722]\nIndex: []\n     722\n722  NaN\n"
     ]
    },
    {
     "name": "stdout",
     "output_type": "stream",
     "text": [
      "Empty DataFrame\nColumns: [6, 723]\nIndex: []\n     723\n723  NaN\nEmpty DataFrame\nColumns: [6, 724]\nIndex: []\n     724\n724  NaN\nEmpty DataFrame\nColumns: [6, 725]\nIndex: []\n     725\n725  NaN\nEmpty DataFrame\nColumns: [6, 726]\nIndex: []\n     726\n726  NaN\nEmpty DataFrame\nColumns: [6, 727]\nIndex: []\n     727\n727  NaN\nEmpty DataFrame\nColumns: [6, 728]\nIndex: []\nEmpty DataFrame\nColumns: []\nIndex: []\nEmpty DataFrame\nColumns: [6, 729]\nIndex: []\n     729\n729  NaN\nEmpty DataFrame\nColumns: [6, 730]\nIndex: []\n     730\n730  NaN\nEmpty DataFrame\nColumns: [6, 731]\nIndex: []\n     731\n731  NaN\nEmpty DataFrame\nColumns: [6, 732]\nIndex: []\nEmpty DataFrame\nColumns: []\nIndex: []\nEmpty DataFrame\nColumns: [6, 733]\nIndex: []\nEmpty DataFrame\nColumns: []\nIndex: []\nEmpty DataFrame\nColumns: [6, 734]\nIndex: []\nEmpty DataFrame\nColumns: []\nIndex: []\nEmpty DataFrame\nColumns: [6, 735]\nIndex: []\nEmpty DataFrame\nColumns: []\nIndex: []\nEmpty DataFrame\nColumns: [6, 736]\nIndex: []\nEmpty DataFrame\nColumns: []\nIndex: []\nEmpty DataFrame\nColumns: [6, 737]\nIndex: []\nEmpty DataFrame\nColumns: []\nIndex: []\n"
     ]
    },
    {
     "name": "stdout",
     "output_type": "stream",
     "text": [
      "Empty DataFrame\nColumns: [6, 738]\nIndex: []\nEmpty DataFrame\nColumns: []\nIndex: []\nEmpty DataFrame\nColumns: [6, 739]\nIndex: []\n     739\n739  NaN\nEmpty DataFrame\nColumns: [6, 740]\nIndex: []\nEmpty DataFrame\nColumns: []\nIndex: []\nEmpty DataFrame\nColumns: [6, 741]\nIndex: []\nEmpty DataFrame\nColumns: []\nIndex: []\nEmpty DataFrame\nColumns: [6, 742]\nIndex: []\nEmpty DataFrame\nColumns: []\nIndex: []\nEmpty DataFrame\nColumns: [6, 743]\nIndex: []\nEmpty DataFrame\nColumns: []\nIndex: []\nEmpty DataFrame\nColumns: [6, 744]\nIndex: []\n     744\n744  NaN\nEmpty DataFrame\nColumns: [6, 745]\nIndex: []\nEmpty DataFrame\nColumns: []\nIndex: []\nEmpty DataFrame\nColumns: [6, 746]\nIndex: []\nEmpty DataFrame\nColumns: []\nIndex: []\nEmpty DataFrame\nColumns: [6, 747]\nIndex: []\nEmpty DataFrame\nColumns: []\nIndex: []\nEmpty DataFrame\nColumns: [6, 748]\nIndex: []\nEmpty DataFrame\nColumns: []\nIndex: []\nEmpty DataFrame\nColumns: [6, 749]\nIndex: []\nEmpty DataFrame\nColumns: []\nIndex: []\nEmpty DataFrame\nColumns: [6, 750]\nIndex: []\n     750\n750  NaN\nEmpty DataFrame\nColumns: [6, 751]\nIndex: []\nEmpty DataFrame\nColumns: []\nIndex: []\nEmpty DataFrame\nColumns: [6, 752]\nIndex: []\nEmpty DataFrame\nColumns: []\nIndex: []\n"
     ]
    },
    {
     "name": "stdout",
     "output_type": "stream",
     "text": [
      "Empty DataFrame\nColumns: [6, 753]\nIndex: []\nEmpty DataFrame\nColumns: []\nIndex: []\nEmpty DataFrame\nColumns: [6, 754]\nIndex: []\nEmpty DataFrame\nColumns: []\nIndex: []\nEmpty DataFrame\nColumns: [6, 755]\nIndex: []\nEmpty DataFrame\nColumns: []\nIndex: []\nEmpty DataFrame\nColumns: [6, 756]\nIndex: []\nEmpty DataFrame\nColumns: []\nIndex: []\nEmpty DataFrame\nColumns: [6, 757]\nIndex: []\nEmpty DataFrame\nColumns: []\nIndex: []\nEmpty DataFrame\nColumns: [6, 758]\nIndex: []\nEmpty DataFrame\nColumns: []\nIndex: []\nEmpty DataFrame\nColumns: [6, 759]\nIndex: []\nEmpty DataFrame\nColumns: []\nIndex: []\nEmpty DataFrame\nColumns: [6, 760]\nIndex: []\nEmpty DataFrame\nColumns: []\nIndex: []\nEmpty DataFrame\nColumns: [6, 761]\nIndex: []\nEmpty DataFrame\nColumns: []\nIndex: []\nEmpty DataFrame\nColumns: [6, 762]\nIndex: []\nEmpty DataFrame\nColumns: []\nIndex: []\nEmpty DataFrame\nColumns: [6, 763]\nIndex: []\nEmpty DataFrame\nColumns: []\nIndex: []\nEmpty DataFrame\nColumns: [6, 764]\nIndex: []\nEmpty DataFrame\nColumns: []\nIndex: []\nEmpty DataFrame\nColumns: [6, 765]\nIndex: []\nEmpty DataFrame\nColumns: []\nIndex: []\nEmpty DataFrame\nColumns: [6, 766]\nIndex: []\n     766\n766  NaN"
     ]
    },
    {
     "name": "stdout",
     "output_type": "stream",
     "text": [
      "\nEmpty DataFrame\nColumns: [6, 767]\nIndex: []\nEmpty DataFrame\nColumns: []\nIndex: []\nEmpty DataFrame\nColumns: [6, 768]\nIndex: []\nEmpty DataFrame\nColumns: []\nIndex: []\nEmpty DataFrame\nColumns: [6, 769]\nIndex: []\nEmpty DataFrame\nColumns: []\nIndex: []\nEmpty DataFrame\nColumns: [6, 770]\nIndex: []\nEmpty DataFrame\nColumns: []\nIndex: []\nEmpty DataFrame\nColumns: [6, 771]\nIndex: []\nEmpty DataFrame\nColumns: []\nIndex: []\nEmpty DataFrame\nColumns: [6, 772]\nIndex: []\nEmpty DataFrame\nColumns: []\nIndex: []\nEmpty DataFrame\nColumns: [6, 773]\nIndex: []\nEmpty DataFrame\nColumns: []\nIndex: []\nEmpty DataFrame\nColumns: [6, 774]\nIndex: []\nEmpty DataFrame\nColumns: []\nIndex: []\nEmpty DataFrame\nColumns: [6, 775]\nIndex: []\nEmpty DataFrame\nColumns: []\nIndex: []\nEmpty DataFrame\nColumns: [6, 776]\nIndex: []\n     776\n776  NaN\nEmpty DataFrame\nColumns: [6, 777]\nIndex: []\nEmpty DataFrame\nColumns: []\nIndex: []\nEmpty DataFrame\nColumns: [6, 778]\nIndex: []\n     778\n778  NaN\nEmpty DataFrame\nColumns: [6, 779]\nIndex: []\nEmpty DataFrame\nColumns: []\nIndex: []\nEmpty DataFrame\nColumns: [6, 780]\nIndex: []\n     780\n780  NaN\n"
     ]
    },
    {
     "name": "stdout",
     "output_type": "stream",
     "text": [
      "Empty DataFrame\nColumns: [6, 781]\nIndex: []\n     781\n781  NaN\nEmpty DataFrame\nColumns: [6, 782]\nIndex: []\nEmpty DataFrame\nColumns: []\nIndex: []\nEmpty DataFrame\nColumns: [6, 783]\nIndex: []\nEmpty DataFrame\nColumns: []\nIndex: []\nEmpty DataFrame\nColumns: [6, 784]\nIndex: []\nEmpty DataFrame\nColumns: []\nIndex: []\nEmpty DataFrame\nColumns: [6, 785]\nIndex: []\nEmpty DataFrame\nColumns: []\nIndex: []\nEmpty DataFrame\nColumns: [6, 786]\nIndex: []\nEmpty DataFrame\nColumns: []\nIndex: []\nEmpty DataFrame\nColumns: [6, 787]\nIndex: []\n     787\n787  NaN\nEmpty DataFrame\nColumns: [6, 788]\nIndex: []\nEmpty DataFrame\nColumns: []\nIndex: []\nEmpty DataFrame\nColumns: [6, 789]\nIndex: []\nEmpty DataFrame\nColumns: []\nIndex: []\nEmpty DataFrame\nColumns: [6, 790]\nIndex: []\nEmpty DataFrame\nColumns: []\nIndex: []\nEmpty DataFrame\nColumns: [6, 791]\nIndex: []\n     791\n791  NaN\nEmpty DataFrame\nColumns: [6, 792]\nIndex: []\nEmpty DataFrame\nColumns: []\nIndex: []\nEmpty DataFrame\nColumns: [6, 793]\nIndex: []\nEmpty DataFrame\nColumns: []\nIndex: []\nEmpty DataFrame\nColumns: [6, 794]\nIndex: []\nEmpty DataFrame\nColumns: []\nIndex: []\nEmpty DataFrame\nColumns: [6, 795]\nIndex: []\nEmpty DataFrame\nColumns: []\nIndex: []\n"
     ]
    },
    {
     "name": "stdout",
     "output_type": "stream",
     "text": [
      "Empty DataFrame\nColumns: [6, 796]\nIndex: []\n     796\n796  NaN\nEmpty DataFrame\nColumns: [6, 797]\nIndex: []\nEmpty DataFrame\nColumns: []\nIndex: []\nEmpty DataFrame\nColumns: [6, 798]\nIndex: []\nEmpty DataFrame\nColumns: []\nIndex: []\nEmpty DataFrame\nColumns: [6, 799]\nIndex: []\nEmpty DataFrame\nColumns: []\nIndex: []\nEmpty DataFrame\nColumns: [6, 800]\nIndex: []\nEmpty DataFrame\nColumns: []\nIndex: []\nEmpty DataFrame\nColumns: [6, 801]\nIndex: []\nEmpty DataFrame\nColumns: []\nIndex: []\nEmpty DataFrame\nColumns: [6, 802]\nIndex: []\nEmpty DataFrame\nColumns: []\nIndex: []\nEmpty DataFrame\nColumns: [6, 803]\nIndex: []\nEmpty DataFrame\nColumns: []\nIndex: []\nEmpty DataFrame\nColumns: [6, 804]\nIndex: []\n     804\n804  NaN\nEmpty DataFrame\nColumns: [6, 805]\nIndex: []\n     805\n805  NaN\nEmpty DataFrame\nColumns: [6, 806]\nIndex: []\nEmpty DataFrame\nColumns: []\nIndex: []\nEmpty DataFrame\nColumns: [6, 807]\nIndex: []\n     807\n807  NaN\nEmpty DataFrame\nColumns: [6, 808]\nIndex: []\n     808\n808  NaN\nEmpty DataFrame\nColumns: [6, 809]\nIndex: []\n     809\n809  NaN\nEmpty DataFrame\nColumns: [6, 810]\nIndex: []\n     810\n810  NaN\nEmpty DataFrame\nColumns: [6, 811]\nIndex: []\nEmpty DataFrame\nColumns: []\nIndex: []"
     ]
    },
    {
     "name": "stdout",
     "output_type": "stream",
     "text": [
      "\nEmpty DataFrame\nColumns: [6, 812]\nIndex: []\nEmpty DataFrame\nColumns: []\nIndex: []\nEmpty DataFrame\nColumns: [6, 813]\nIndex: []\nEmpty DataFrame\nColumns: []\nIndex: []\nEmpty DataFrame\nColumns: [6, 814]\nIndex: []\nEmpty DataFrame\nColumns: []\nIndex: []\nEmpty DataFrame\nColumns: [6, 815]\nIndex: []\nEmpty DataFrame\nColumns: []\nIndex: []\nEmpty DataFrame\nColumns: [6, 816]\nIndex: []\nEmpty DataFrame\nColumns: []\nIndex: []\nEmpty DataFrame\nColumns: [6, 817]\nIndex: []\nEmpty DataFrame\nColumns: []\nIndex: []\nEmpty DataFrame\nColumns: [6, 818]\nIndex: []\nEmpty DataFrame\nColumns: []\nIndex: []\nEmpty DataFrame\nColumns: [6, 819]\nIndex: []\nEmpty DataFrame\nColumns: []\nIndex: []\nEmpty DataFrame\nColumns: [6, 820]\nIndex: []\n     820\n820  NaN\nEmpty DataFrame\nColumns: [6, 821]\nIndex: []\n     821\n821  NaN\nEmpty DataFrame\nColumns: [6, 822]\nIndex: []\nEmpty DataFrame\nColumns: []\nIndex: []\nEmpty DataFrame\nColumns: [6, 823]\nIndex: []\nEmpty DataFrame\nColumns: []\nIndex: []\nEmpty DataFrame\nColumns: [6, 824]\nIndex: []\n     824\n824  NaN\nEmpty DataFrame\nColumns: [6, 825]\nIndex: []\nEmpty DataFrame\nColumns: []\nIndex: []\n"
     ]
    },
    {
     "name": "stdout",
     "output_type": "stream",
     "text": [
      "Empty DataFrame\nColumns: [6, 826]\nIndex: []\nEmpty DataFrame\nColumns: []\nIndex: []\nEmpty DataFrame\nColumns: [6, 827]\nIndex: []\nEmpty DataFrame\nColumns: []\nIndex: []\nEmpty DataFrame\nColumns: [6, 828]\nIndex: []\n     828\n828  NaN\nEmpty DataFrame\nColumns: [6, 829]\nIndex: []\nEmpty DataFrame\nColumns: []\nIndex: []\nEmpty DataFrame\nColumns: [6, 830]\nIndex: []\n     830\n830  NaN\nEmpty DataFrame\nColumns: [6, 831]\nIndex: []\nEmpty DataFrame\nColumns: []\nIndex: []\nEmpty DataFrame\nColumns: [6, 832]\nIndex: []\nEmpty DataFrame\nColumns: []\nIndex: []\nEmpty DataFrame\nColumns: [6, 833]\nIndex: []\nEmpty DataFrame\nColumns: []\nIndex: []\nEmpty DataFrame\nColumns: [6, 834]\nIndex: []\nEmpty DataFrame\nColumns: []\nIndex: []\nEmpty DataFrame\nColumns: [6, 835]\nIndex: []\nEmpty DataFrame\nColumns: []\nIndex: []\nEmpty DataFrame\nColumns: [6, 836]\nIndex: []\nEmpty DataFrame\nColumns: []\nIndex: []\nEmpty DataFrame\nColumns: [6, 837]\nIndex: []\nEmpty DataFrame\nColumns: []\nIndex: []\nEmpty DataFrame\nColumns: [6, 838]\nIndex: []\nEmpty DataFrame\nColumns: []\nIndex: []\n"
     ]
    },
    {
     "name": "stdout",
     "output_type": "stream",
     "text": [
      "Empty DataFrame\nColumns: [6, 839]\nIndex: []\nEmpty DataFrame\nColumns: []\nIndex: []\nEmpty DataFrame\nColumns: [6, 840]\nIndex: []\nEmpty DataFrame\nColumns: []\nIndex: []\nEmpty DataFrame\nColumns: [6, 841]\nIndex: []\nEmpty DataFrame\nColumns: []\nIndex: []\nEmpty DataFrame\nColumns: [6, 842]\nIndex: []\nEmpty DataFrame\nColumns: []\nIndex: []\nEmpty DataFrame\nColumns: [6, 843]\nIndex: []\n     843\n843  NaN\nEmpty DataFrame\nColumns: [6, 844]\nIndex: []\nEmpty DataFrame\nColumns: []\nIndex: []\nEmpty DataFrame\nColumns: [6, 845]\nIndex: []\nEmpty DataFrame\nColumns: []\nIndex: []\nEmpty DataFrame\nColumns: [6, 846]\nIndex: []\nEmpty DataFrame\nColumns: []\nIndex: []\nEmpty DataFrame\nColumns: [6, 847]\nIndex: []\nEmpty DataFrame\nColumns: []\nIndex: []\nEmpty DataFrame\nColumns: [6, 848]\nIndex: []\nEmpty DataFrame\nColumns: []\nIndex: []\nEmpty DataFrame\nColumns: [6, 849]\nIndex: []\nEmpty DataFrame\nColumns: []\nIndex: []\nEmpty DataFrame\nColumns: [6, 850]\nIndex: []\nEmpty DataFrame\nColumns: []\nIndex: []\nEmpty DataFrame\nColumns: [6, 851]\nIndex: []\nEmpty DataFrame\nColumns: []\nIndex: []\n"
     ]
    },
    {
     "name": "stdout",
     "output_type": "stream",
     "text": [
      "Empty DataFrame\nColumns: [6, 852]\nIndex: []\nEmpty DataFrame\nColumns: []\nIndex: []\nEmpty DataFrame\nColumns: [6, 853]\nIndex: []\nEmpty DataFrame\nColumns: []\nIndex: []\nEmpty DataFrame\nColumns: [6, 854]\nIndex: []\nEmpty DataFrame\nColumns: []\nIndex: []\nEmpty DataFrame\nColumns: [6, 855]\nIndex: []\nEmpty DataFrame\nColumns: []\nIndex: []\nEmpty DataFrame\nColumns: [6, 856]\nIndex: []\nEmpty DataFrame\nColumns: []\nIndex: []\nEmpty DataFrame\nColumns: [6, 857]\nIndex: []\n     857\n857  NaN\nEmpty DataFrame\nColumns: [6, 858]\nIndex: []\n     858\n858  NaN\nEmpty DataFrame\nColumns: [6, 859]\nIndex: []\n     859\n859  NaN\nEmpty DataFrame\nColumns: [6, 860]\nIndex: []\n     860\n860  NaN\nEmpty DataFrame\nColumns: [6, 861]\nIndex: []\n     861\n861  NaN\nEmpty DataFrame\nColumns: [6, 862]\nIndex: []\nEmpty DataFrame\nColumns: []\nIndex: []\nEmpty DataFrame\nColumns: [6, 863]\nIndex: []\n     863\n863  NaN\nEmpty DataFrame\nColumns: [6, 864]\nIndex: []\n     864\n864  NaN\nEmpty DataFrame\nColumns: [6, 865]\nIndex: []\nEmpty DataFrame\nColumns: []\nIndex: []"
     ]
    },
    {
     "name": "stdout",
     "output_type": "stream",
     "text": [
      "\nEmpty DataFrame\nColumns: [6, 866]\nIndex: []\nEmpty DataFrame\nColumns: []\nIndex: []\nEmpty DataFrame\nColumns: [6, 867]\nIndex: []\n     867\n867  NaN\nEmpty DataFrame\nColumns: [6, 868]\nIndex: []\nEmpty DataFrame\nColumns: []\nIndex: []\nEmpty DataFrame\nColumns: [6, 869]\nIndex: []\nEmpty DataFrame\nColumns: []\nIndex: []\nEmpty DataFrame\nColumns: [6, 870]\nIndex: []\nEmpty DataFrame\nColumns: []\nIndex: []\nEmpty DataFrame\nColumns: [6, 871]\nIndex: []\nEmpty DataFrame\nColumns: []\nIndex: []\nEmpty DataFrame\nColumns: [6, 872]\nIndex: []\nEmpty DataFrame\nColumns: []\nIndex: []\nEmpty DataFrame\nColumns: [6, 873]\nIndex: []\nEmpty DataFrame\nColumns: []\nIndex: []\nEmpty DataFrame\nColumns: [6, 874]\nIndex: []\nEmpty DataFrame\nColumns: []\nIndex: []\nEmpty DataFrame\nColumns: [6, 875]\nIndex: []\nEmpty DataFrame\nColumns: []\nIndex: []\nEmpty DataFrame\nColumns: [6, 876]\nIndex: []\nEmpty DataFrame\nColumns: []\nIndex: []\nEmpty DataFrame\nColumns: [6, 877]\nIndex: []\nEmpty DataFrame\nColumns: []\nIndex: []\nEmpty DataFrame\nColumns: [6, 878]\nIndex: []\nEmpty DataFrame\nColumns: []\nIndex: []\nEmpty DataFrame\nColumns: [6, 879]\nIndex: []\nEmpty DataFrame\nColumns: []\nIndex: []\n"
     ]
    },
    {
     "name": "stdout",
     "output_type": "stream",
     "text": [
      "Empty DataFrame\nColumns: [6, 880]\nIndex: []\nEmpty DataFrame\nColumns: []\nIndex: []\nEmpty DataFrame\nColumns: [6, 881]\nIndex: []\nEmpty DataFrame\nColumns: []\nIndex: []\nEmpty DataFrame\nColumns: [6, 882]\nIndex: []\nEmpty DataFrame\nColumns: []\nIndex: []\nEmpty DataFrame\nColumns: [6, 883]\nIndex: []\nEmpty DataFrame\nColumns: []\nIndex: []\nEmpty DataFrame\nColumns: [6, 884]\nIndex: []\nEmpty DataFrame\nColumns: []\nIndex: []\nEmpty DataFrame\nColumns: [6, 885]\nIndex: []\nEmpty DataFrame\nColumns: []\nIndex: []\nEmpty DataFrame\nColumns: [6, 886]\nIndex: []\nEmpty DataFrame\nColumns: []\nIndex: []\nEmpty DataFrame\nColumns: [6, 887]\nIndex: []\nEmpty DataFrame\nColumns: []\nIndex: []\nEmpty DataFrame\nColumns: [6, 888]\nIndex: []\nEmpty DataFrame\nColumns: []\nIndex: []\nEmpty DataFrame\nColumns: [6, 889]\nIndex: []\nEmpty DataFrame\nColumns: []\nIndex: []\nEmpty DataFrame\nColumns: [6, 890]\nIndex: []\nEmpty DataFrame\nColumns: []\nIndex: []\nEmpty DataFrame\nColumns: [6, 891]\nIndex: []\n     891\n891  NaN\nEmpty DataFrame\nColumns: [6, 892]\nIndex: []\nEmpty DataFrame\nColumns: []\nIndex: []\n"
     ]
    },
    {
     "name": "stdout",
     "output_type": "stream",
     "text": [
      "Empty DataFrame\nColumns: [6, 893]\nIndex: []\n     893\n893  NaN\nEmpty DataFrame\nColumns: [6, 894]\nIndex: []\nEmpty DataFrame\nColumns: []\nIndex: []\nEmpty DataFrame\nColumns: [6, 895]\nIndex: []\nEmpty DataFrame\nColumns: []\nIndex: []\nEmpty DataFrame\nColumns: [6, 896]\nIndex: []\nEmpty DataFrame\nColumns: []\nIndex: []\nEmpty DataFrame\nColumns: [6, 897]\nIndex: []\nEmpty DataFrame\nColumns: []\nIndex: []\nEmpty DataFrame\nColumns: [6, 898]\nIndex: []\n     898\n898  NaN\nEmpty DataFrame\nColumns: [6, 899]\nIndex: []\nEmpty DataFrame\nColumns: []\nIndex: []\nEmpty DataFrame\nColumns: [6, 900]\nIndex: []\nEmpty DataFrame\nColumns: []\nIndex: []\nEmpty DataFrame\nColumns: [6, 901]\nIndex: []\nEmpty DataFrame\nColumns: []\nIndex: []\nEmpty DataFrame\nColumns: [6, 902]\nIndex: []\nEmpty DataFrame\nColumns: []\nIndex: []\nEmpty DataFrame\nColumns: [6, 903]\nIndex: []\n     903\n903  NaN\nEmpty DataFrame\nColumns: [6, 904]\nIndex: []\n     904\n904  NaN\nEmpty DataFrame\nColumns: [6, 905]\nIndex: []\nEmpty DataFrame\nColumns: []\nIndex: []\nEmpty DataFrame\nColumns: [6, 906]\nIndex: []\nEmpty DataFrame\nColumns: []\nIndex: []\n"
     ]
    },
    {
     "name": "stdout",
     "output_type": "stream",
     "text": [
      "Empty DataFrame\nColumns: [6, 907]\nIndex: []\n     907\n907  NaN\nEmpty DataFrame\nColumns: [6, 908]\nIndex: []\nEmpty DataFrame\nColumns: []\nIndex: []\nEmpty DataFrame\nColumns: [6, 909]\nIndex: []\nEmpty DataFrame\nColumns: []\nIndex: []\nEmpty DataFrame\nColumns: [6, 910]\nIndex: []\nEmpty DataFrame\nColumns: []\nIndex: []\nEmpty DataFrame\nColumns: [6, 911]\nIndex: []\nEmpty DataFrame\nColumns: []\nIndex: []\nEmpty DataFrame\nColumns: [6, 912]\nIndex: []\nEmpty DataFrame\nColumns: []\nIndex: []\nEmpty DataFrame\nColumns: [6, 913]\nIndex: []\nEmpty DataFrame\nColumns: []\nIndex: []\nEmpty DataFrame\nColumns: [6, 914]\nIndex: []\nEmpty DataFrame\nColumns: []\nIndex: []\nEmpty DataFrame\nColumns: [6, 915]\nIndex: []\nEmpty DataFrame\nColumns: []\nIndex: []\nEmpty DataFrame\nColumns: [6, 916]\nIndex: []\nEmpty DataFrame\nColumns: []\nIndex: []\nEmpty DataFrame\nColumns: [6, 917]\nIndex: []\nEmpty DataFrame\nColumns: []\nIndex: []\nEmpty DataFrame\nColumns: [6, 918]\nIndex: []\nEmpty DataFrame\nColumns: []\nIndex: []\nEmpty DataFrame\nColumns: [6, 919]\nIndex: []\nEmpty DataFrame\nColumns: []\nIndex: []\nEmpty DataFrame\nColumns: [6, 920]\nIndex: []\nEmpty DataFrame\nColumns: []\nIndex: []\n"
     ]
    },
    {
     "name": "stdout",
     "output_type": "stream",
     "text": [
      "Empty DataFrame\nColumns: [6, 921]\nIndex: []\nEmpty DataFrame\nColumns: []\nIndex: []\nEmpty DataFrame\nColumns: [6, 922]\nIndex: []\nEmpty DataFrame\nColumns: []\nIndex: []\nEmpty DataFrame\nColumns: [6, 923]\nIndex: []\nEmpty DataFrame\nColumns: []\nIndex: []\nEmpty DataFrame\nColumns: [6, 924]\nIndex: []\nEmpty DataFrame\nColumns: []\nIndex: []\nEmpty DataFrame\nColumns: [6, 925]\nIndex: []\n     925\n925  NaN\nEmpty DataFrame\nColumns: [6, 926]\nIndex: []\nEmpty DataFrame\nColumns: []\nIndex: []\nEmpty DataFrame\nColumns: [6, 927]\nIndex: []\nEmpty DataFrame\nColumns: []\nIndex: []\nEmpty DataFrame\nColumns: [6, 928]\nIndex: []\nEmpty DataFrame\nColumns: []\nIndex: []\nEmpty DataFrame\nColumns: [6, 929]\nIndex: []\nEmpty DataFrame\nColumns: []\nIndex: []\nEmpty DataFrame\nColumns: [6, 930]\nIndex: []\nEmpty DataFrame\nColumns: []\nIndex: []\nEmpty DataFrame\nColumns: [6, 931]\nIndex: []\nEmpty DataFrame\nColumns: []\nIndex: []\nEmpty DataFrame\nColumns: [6, 932]\nIndex: []\n     932\n932  NaN\nEmpty DataFrame\nColumns: [6, 933]\nIndex: []\nEmpty DataFrame\nColumns: []\nIndex: []\nEmpty DataFrame\nColumns: [6, 934]\nIndex: []\nEmpty DataFrame\nColumns: []\nIndex: []\nEmpty DataFrame\nColumns: [6, 935]\nIndex: []\nEmpty DataFrame\nColumns: []\nIndex: []\n"
     ]
    },
    {
     "name": "stdout",
     "output_type": "stream",
     "text": [
      "Empty DataFrame\nColumns: [6, 936]\nIndex: []\nEmpty DataFrame\nColumns: []\nIndex: []\nEmpty DataFrame\nColumns: [6, 937]\nIndex: []\nEmpty DataFrame\nColumns: []\nIndex: []\nEmpty DataFrame\nColumns: [6, 938]\nIndex: []\nEmpty DataFrame\nColumns: []\nIndex: []\nEmpty DataFrame\nColumns: [6, 939]\nIndex: []\nEmpty DataFrame\nColumns: []\nIndex: []\nEmpty DataFrame\nColumns: [6, 940]\nIndex: []\nEmpty DataFrame\nColumns: []\nIndex: []\nEmpty DataFrame\nColumns: [6, 941]\nIndex: []\nEmpty DataFrame\nColumns: []\nIndex: []\nEmpty DataFrame\nColumns: [6, 942]\nIndex: []\nEmpty DataFrame\nColumns: []\nIndex: []\nEmpty DataFrame\nColumns: [6, 943]\nIndex: []\nEmpty DataFrame\nColumns: []\nIndex: []\nEmpty DataFrame\nColumns: [6, 944]\nIndex: []\nEmpty DataFrame\nColumns: []\nIndex: []\nEmpty DataFrame\nColumns: [6, 945]\nIndex: []\nEmpty DataFrame\nColumns: []\nIndex: []\nEmpty DataFrame\nColumns: [6, 946]\nIndex: []\nEmpty DataFrame\nColumns: []\nIndex: []\nEmpty DataFrame\nColumns: [6, 947]\nIndex: []\n     947\n947  NaN\nEmpty DataFrame\nColumns: [6, 948]\nIndex: []\nEmpty DataFrame\nColumns: []\nIndex: []\nEmpty DataFrame\nColumns: [6, 949]\nIndex: []\n     949\n949  NaN\nEmpty DataFrame\nColumns: [6, 950]\nIndex: []\nEmpty DataFrame\nColumns: []\nIndex: []\n"
     ]
    },
    {
     "name": "stdout",
     "output_type": "stream",
     "text": [
      "Empty DataFrame\nColumns: [6, 951]\nIndex: []\nEmpty DataFrame\nColumns: []\nIndex: []\nEmpty DataFrame\nColumns: [6, 952]\nIndex: []\n     952\n952  NaN\nEmpty DataFrame\nColumns: [6, 953]\nIndex: []\nEmpty DataFrame\nColumns: []\nIndex: []\nEmpty DataFrame\nColumns: [6, 954]\nIndex: []\nEmpty DataFrame\nColumns: []\nIndex: []\nEmpty DataFrame\nColumns: [6, 955]\nIndex: []\nEmpty DataFrame\nColumns: []\nIndex: []\nEmpty DataFrame\nColumns: [6, 956]\nIndex: []\nEmpty DataFrame\nColumns: []\nIndex: []\nEmpty DataFrame\nColumns: [6, 957]\nIndex: []\nEmpty DataFrame\nColumns: []\nIndex: []\nEmpty DataFrame\nColumns: [6, 958]\nIndex: []\nEmpty DataFrame\nColumns: []\nIndex: []\nEmpty DataFrame\nColumns: [6, 959]\nIndex: []\nEmpty DataFrame\nColumns: []\nIndex: []\nEmpty DataFrame\nColumns: [6, 960]\nIndex: []\nEmpty DataFrame\nColumns: []\nIndex: []\nEmpty DataFrame\nColumns: [6, 961]\nIndex: []\nEmpty DataFrame\nColumns: []\nIndex: []\nEmpty DataFrame\nColumns: [6, 962]\nIndex: []\nEmpty DataFrame\nColumns: []\nIndex: []\nEmpty DataFrame\nColumns: [6, 963]\nIndex: []\nEmpty DataFrame\nColumns: []\nIndex: []\nEmpty DataFrame\nColumns: [6, 964]\nIndex: []\nEmpty DataFrame\nColumns: []\nIndex: []\nEmpty DataFrame\nColumns: [6, 965]\nIndex: []\nEmpty DataFrame\nColumns: []\nIndex: []\nEmpty DataFrame\nColumns: [6, 966]\nIndex: []\nEmpty DataFrame\nColumns: []\nIndex: []\n"
     ]
    },
    {
     "name": "stdout",
     "output_type": "stream",
     "text": [
      "Empty DataFrame\nColumns: [6, 967]\nIndex: []\nEmpty DataFrame\nColumns: []\nIndex: []\nEmpty DataFrame\nColumns: [6, 968]\nIndex: []\nEmpty DataFrame\nColumns: []\nIndex: []\nEmpty DataFrame\nColumns: [6, 969]\nIndex: []\nEmpty DataFrame\nColumns: []\nIndex: []\nEmpty DataFrame\nColumns: [6, 970]\nIndex: []\nEmpty DataFrame\nColumns: []\nIndex: []\nEmpty DataFrame\nColumns: [6, 971]\nIndex: []\nEmpty DataFrame\nColumns: []\nIndex: []\nEmpty DataFrame\nColumns: [6, 972]\nIndex: []\nEmpty DataFrame\nColumns: []\nIndex: []\nEmpty DataFrame\nColumns: [6, 973]\nIndex: []\nEmpty DataFrame\nColumns: []\nIndex: []\nEmpty DataFrame\nColumns: [6, 974]\nIndex: []\nEmpty DataFrame\nColumns: []\nIndex: []\nEmpty DataFrame\nColumns: [6, 975]\nIndex: []\nEmpty DataFrame\nColumns: []\nIndex: []\nEmpty DataFrame\nColumns: [6, 976]\nIndex: []\nEmpty DataFrame\nColumns: []\nIndex: []\nEmpty DataFrame\nColumns: [6, 977]\nIndex: []\nEmpty DataFrame\nColumns: []\nIndex: []\nEmpty DataFrame\nColumns: [6, 978]\nIndex: []\nEmpty DataFrame\nColumns: []\nIndex: []\nEmpty DataFrame\nColumns: [6, 979]\nIndex: []\n     979\n979  NaN\n"
     ]
    },
    {
     "name": "stdout",
     "output_type": "stream",
     "text": [
      "Empty DataFrame\nColumns: [6, 980]\nIndex: []\nEmpty DataFrame\nColumns: []\nIndex: []\nEmpty DataFrame\nColumns: [6, 981]\nIndex: []\n     981\n981  NaN\nEmpty DataFrame\nColumns: [6, 982]\nIndex: []\n     982\n982  NaN\nEmpty DataFrame\nColumns: [6, 983]\nIndex: []\nEmpty DataFrame\nColumns: []\nIndex: []\nEmpty DataFrame\nColumns: [6, 984]\nIndex: []\nEmpty DataFrame\nColumns: []\nIndex: []\nEmpty DataFrame\nColumns: [6, 985]\nIndex: []\nEmpty DataFrame\nColumns: []\nIndex: []\nEmpty DataFrame\nColumns: [6, 986]\nIndex: []\n     986\n986  NaN\nEmpty DataFrame\nColumns: [6, 987]\nIndex: []\nEmpty DataFrame\nColumns: []\nIndex: []\nEmpty DataFrame\nColumns: [6, 988]\nIndex: []\nEmpty DataFrame\nColumns: []\nIndex: []\nEmpty DataFrame\nColumns: [6, 989]\nIndex: []\n     989\n989  NaN\nEmpty DataFrame\nColumns: [6, 990]\nIndex: []\nEmpty DataFrame\nColumns: []\nIndex: []\nEmpty DataFrame\nColumns: [6, 991]\nIndex: []\n     991\n991  NaN\nEmpty DataFrame\nColumns: [6, 992]\nIndex: []\n     992\n992  NaN\nEmpty DataFrame\nColumns: [6, 993]\nIndex: []\nEmpty DataFrame\nColumns: []\nIndex: []\nEmpty DataFrame\nColumns: [6, 994]\nIndex: []"
     ]
    },
    {
     "name": "stdout",
     "output_type": "stream",
     "text": [
      "\nEmpty DataFrame\nColumns: []\nIndex: []\nEmpty DataFrame\nColumns: [6, 995]\nIndex: []\nEmpty DataFrame\nColumns: []\nIndex: []\nEmpty DataFrame\nColumns: [6, 996]\nIndex: []\nEmpty DataFrame\nColumns: []\nIndex: []\nEmpty DataFrame\nColumns: [6, 997]\nIndex: []\n     997\n997  NaN\nEmpty DataFrame\nColumns: [6, 998]\nIndex: []\n     998\n998  NaN\nEmpty DataFrame\nColumns: [6, 999]\nIndex: []\nEmpty DataFrame\nColumns: []\nIndex: []\nEmpty DataFrame\nColumns: [6, 1000]\nIndex: []\nEmpty DataFrame\nColumns: []\nIndex: []\nEmpty DataFrame\nColumns: [6, 1001]\nIndex: []\nEmpty DataFrame\nColumns: []\nIndex: []\nEmpty DataFrame\nColumns: [6, 1002]\nIndex: []\nEmpty DataFrame\nColumns: []\nIndex: []\nEmpty DataFrame\nColumns: [6, 1003]\nIndex: []\n      1003\n1003   NaN\nEmpty DataFrame\nColumns: [6, 1004]\nIndex: []\n      1004\n1004   NaN\nEmpty DataFrame\nColumns: [6, 1005]\nIndex: []\n      1005\n1005   NaN\nEmpty DataFrame\nColumns: [6, 1006]\nIndex: []\n      1006\n1006   NaN\nEmpty DataFrame\nColumns: [6, 1007]\nIndex: []\n      1007\n1007   NaN\nEmpty DataFrame\nColumns: [6, 1008]\nIndex: []\nEmpty DataFrame\nColumns: []\nIndex: []\n"
     ]
    },
    {
     "name": "stdout",
     "output_type": "stream",
     "text": [
      "Empty DataFrame\nColumns: [6, 1009]\nIndex: []\n      1009\n1009   NaN\nEmpty DataFrame\nColumns: [6, 1010]\nIndex: []\n      1010\n1010   NaN\nEmpty DataFrame\nColumns: [6, 1011]\nIndex: []\nEmpty DataFrame\nColumns: []\nIndex: []\nEmpty DataFrame\nColumns: [6, 1012]\nIndex: []\n      1012\n1012   NaN\nEmpty DataFrame\nColumns: [6, 1013]\nIndex: []\nEmpty DataFrame\nColumns: []\nIndex: []\nEmpty DataFrame\nColumns: [6, 1014]\nIndex: []\n      1014\n1014   NaN\nEmpty DataFrame\nColumns: [6, 1015]\nIndex: []\n      1015\n1015   NaN\nEmpty DataFrame\nColumns: [6, 1016]\nIndex: []\n      1016\n1016   NaN\nEmpty DataFrame\nColumns: [6, 1017]\nIndex: []\nEmpty DataFrame\nColumns: []\nIndex: []\nEmpty DataFrame\nColumns: [6, 1018]\nIndex: []\nEmpty DataFrame\nColumns: []\nIndex: []\nEmpty DataFrame\nColumns: [6, 1019]\nIndex: []\nEmpty DataFrame\nColumns: []\nIndex: []\nEmpty DataFrame\nColumns: [6, 1020]\nIndex: []\n      1020\n1020   NaN\nEmpty DataFrame\nColumns: [6, 1021]\nIndex: []\nEmpty DataFrame\nColumns: []\nIndex: []\nEmpty DataFrame\nColumns: [6, 1022]\nIndex: []\nEmpty DataFrame\nColumns: []\nIndex: []\nEmpty DataFrame\nColumns: [6, 1023]\nIndex: []"
     ]
    },
    {
     "name": "stdout",
     "output_type": "stream",
     "text": [
      "\n      1023\n1023   NaN\nEmpty DataFrame\nColumns: [6, 1024]\nIndex: []\n      1024\n1024   NaN\nEmpty DataFrame\nColumns: [6, 1025]\nIndex: []\n      1025\n1025   NaN\nEmpty DataFrame\nColumns: [6, 1026]\nIndex: []\n      1026\n1026   NaN\nEmpty DataFrame\nColumns: [6, 1027]\nIndex: []\n      1027\n1027   NaN\nEmpty DataFrame\nColumns: [6, 1028]\nIndex: []\n      1028\n1028   NaN\nEmpty DataFrame\nColumns: [6, 1029]\nIndex: []\n      1029\n1029   NaN\nEmpty DataFrame\nColumns: [6, 1030]\nIndex: []\n      1030\n1030   NaN\nEmpty DataFrame\nColumns: [6, 1031]\nIndex: []\n      1031\n1031   NaN\nEmpty DataFrame\nColumns: [6, 1032]\nIndex: []\n      1032\n1032   NaN\nEmpty DataFrame\nColumns: [6, 1033]\nIndex: []\nEmpty DataFrame\nColumns: []\nIndex: []\nEmpty DataFrame\nColumns: [6, 1034]\nIndex: []\nEmpty DataFrame\nColumns: []\nIndex: []\nEmpty DataFrame\nColumns: [6, 1035]\nIndex: []\n      1035\n1035   NaN\nEmpty DataFrame\nColumns: [6, 1036]\nIndex: []\n      1036\n1036   NaN\nEmpty DataFrame\nColumns: [6, 1037]\nIndex: []\n      1037\n1037   NaN\n"
     ]
    },
    {
     "name": "stdout",
     "output_type": "stream",
     "text": [
      "Empty DataFrame\nColumns: [6, 1038]\nIndex: []\n      1038\n1038   NaN\n          7  8\n3014  243,6  0\n3025  243,6  0\n3026  243,6  0\n3027  243,6  0\n3028  243,6  0\n3029  243,6  0\n3036  243,6  0\n3037  243,6  0\n3038  243,6  0\n3030  243,6  0\n3031  243,6  0\n3032  243,6  0\n3033  243,6  0\n3034  243,6  0\n3035  243,6  0\nEmpty DataFrame\nColumns: []\nIndex: []\n          7     9\n3014  243,6  5,41\n3025  243,6  5,41\n3026  243,6  5,41\n3027  243,6  5,41\n3028  243,6  5,41\n3029  243,6  5,41\n3036  243,6  5,41\n3037  243,6  5,41\n3038  243,6  5,41\n3030  243,6  5,41\n3031  243,6  5,41\n3032  243,6  5,41\n3033  243,6  5,41\n3034  243,6  5,41\n3035  243,6  5,41\nEmpty DataFrame\nColumns: []\nIndex: []\nEmpty DataFrame\nColumns: [7, 10]\nIndex: []\nEmpty DataFrame\nColumns: []\nIndex: []\n         7     11\n3014  243,6  11,1\n3025  243,6  11,1\n3026  243,6  11,1\n3027  243,6  11,1\n3028  243,6  11,1\n3029  243,6  11,1\n3036  243,6  11,1\n3037  243,6  11,1\n3038  243,6  11,1\n3030  243,6  11,1\n3031  243,6  11,1\n3032  243,6  11,1\n3033  243,6  11,1\n3034  243,6  11,1\n3035  243,6  11,1\nEmpty DataFrame\nColumns: []\nIndex: []\nEmpty DataFrame\nColumns: [7, 12]\nIndex: []\nEmpty DataFrame\nColumns: []\nIndex: []\n         7     13\n3014  243,6  62,5\n3025  243,6  62,5\n3026  243,6  62,5\n3027  243,6  62,5\n3028  243,6  62,5\n3029  243,6  62,5\n3036  243,6  62,5\n3037  243,6  62,5\n3038  243,6  62,5\n3030  243,6  62,5\n3031  243,6  62,5\n3032  243,6  62,5\n3033  243,6  62,5\n3034  243,6  62,5\n3035  243,6  62,5\nEmpty DataFrame\nColumns: []\nIndex: []\n         7     14\n3014  243,6  32,5\n3025  243,6  32,5\n3026  243,6  32,5\n3027  243,6  32,5\n3028  243,6  32,5\n3029  243,6  32,5\n3036  243,6  32,5\n3037  243,6  32,5\n3038  243,6  32,5\n3030  243,6  32,5\n3031  243,6  32,5\n3032  243,6  32,5\n3033  243,6  32,5\n3034  243,6  32,5\n3035  243,6  32,5\nEmpty DataFrame\nColumns: []\nIndex: []\n         7      15\n3014  243,6  21,59\n3025  243,6  21,59\n3026  243,6  21,59\n3027  243,6  21,59\n3028  243,6  21,59\n3029  243,6  21,59\n3036  243,6  21,59\n3037  243,6  21,59\n3038  243,6  21,59\n3030  243,6  21,59\n3031  243,6  21,59\n3032  243,6  21,59\n3033  243,6  21,59\n3034  243,6  21,59\n3035  243,6  21,59\nEmpty DataFrame\nColumns: []\nIndex: []\n         7     16\n3014  243,6  15,5\n3025  243,6  15,5\n3026  243,6  15,5\n3027  243,6  15,5\n3028  243,6  15,5\n3029  243,6  15,5\n3036  243,6  15,5\n3037  243,6  15,5\n3038  243,6  15,5\n3030  243,6  15,5\n3031  243,6  15,5\n3032  243,6  15,5\n3033  243,6  15,5\n3034  243,6  15,5\n3035  243,6  15,5\nEmpty DataFrame\nColumns: []\nIndex: []\n         7     17\n3014  243,6  42,5\n3025  243,6  42,5\n3026  243,6  42,5\n3027  243,6  42,5\n3028  243,6  42,5\n3029  243,6  42,5\n3036  243,6  42,5\n3037  243,6  42,5\n3038  243,6  42,5\n3030  243,6  42,5\n3031  243,6  42,5\n3032  243,6  42,5\n3033  243,6  42,5\n3034  243,6  42,5\n3035  243,6  42,5\nEmpty DataFrame\nColumns: []\nIndex: []\n         7     18\n3014  243,6  15,2\n3025  243,6  15,2\n3026  243,6  15,2\n3027  243,6  15,2\n3028  243,6  15,2\n3029  243,6  15,2\n3036  243,6  15,2\n3037  243,6  15,2\n3038  243,6  15,2\n3030  243,6  15,2\n3031  243,6  15,2\n3032  243,6  15,2\n3033  243,6  15,2\n3034  243,6  15,2\n3035  243,6  15,2\nEmpty DataFrame\nColumns: []\nIndex: []\nEmpty DataFrame\nColumns: [7, 19]\nIndex: []\n    19\n19 NaN\n"
     ]
    },
    {
     "name": "stdout",
     "output_type": "stream",
     "text": [
      "Empty DataFrame\nColumns: [7, 20]\nIndex: []\nEmpty DataFrame\nColumns: []\nIndex: []\nEmpty DataFrame\nColumns: [7, 21]\nIndex: []\nEmpty DataFrame\nColumns: []\nIndex: []\nEmpty DataFrame\nColumns: [7, 22]\nIndex: []\nEmpty DataFrame\nColumns: []\nIndex: []\nEmpty DataFrame\nColumns: [7, 23]\nIndex: []\nEmpty DataFrame\nColumns: []\nIndex: []\nEmpty DataFrame\nColumns: [7, 24]\nIndex: []\nEmpty DataFrame\nColumns: []\nIndex: []\nEmpty DataFrame\nColumns: [7, 25]\nIndex: []\n    25\n25 NaN\nEmpty DataFrame\nColumns: [7, 26]\nIndex: []\nEmpty DataFrame\nColumns: []\nIndex: []\nEmpty DataFrame\nColumns: [7, 27]\nIndex: []\nEmpty DataFrame\nColumns: []\nIndex: []\nEmpty DataFrame\nColumns: [7, 28]\nIndex: []\nEmpty DataFrame\nColumns: []\nIndex: []\nEmpty DataFrame\nColumns: [7, 29]\nIndex: []\nEmpty DataFrame\nColumns: []\nIndex: []\nEmpty DataFrame\nColumns: [7, 30]\nIndex: []\nEmpty DataFrame\nColumns: []\nIndex: []\nEmpty DataFrame\nColumns: [7, 31]\nIndex: []\nEmpty DataFrame\nColumns: []\nIndex: []\nEmpty DataFrame\nColumns: [7, 32]\nIndex: []\nEmpty DataFrame\nColumns: []\nIndex: []\nEmpty DataFrame\nColumns: [7, 33]\nIndex: []\n    33\n33 NaN\n"
     ]
    },
    {
     "name": "stdout",
     "output_type": "stream",
     "text": [
      "Empty DataFrame\nColumns: [7, 34]\nIndex: []\n    34\n34 NaN\nEmpty DataFrame\nColumns: [7, 35]\nIndex: []\n    35\n35 NaN\nEmpty DataFrame\nColumns: [7, 36]\nIndex: []\n    36\n36 NaN\nEmpty DataFrame\nColumns: [7, 37]\nIndex: []\n    37\n37 NaN\nEmpty DataFrame\nColumns: [7, 38]\nIndex: []\n    38\n38 NaN\nEmpty DataFrame\nColumns: [7, 39]\nIndex: []\n    39\n39 NaN\nEmpty DataFrame\nColumns: [7, 40]\nIndex: []\n    40\n40 NaN\nEmpty DataFrame\nColumns: [7, 41]\nIndex: []\nEmpty DataFrame\nColumns: []\nIndex: []\nEmpty DataFrame\nColumns: [7, 42]\nIndex: []\nEmpty DataFrame\nColumns: []\nIndex: []\nEmpty DataFrame\nColumns: [7, 43]\nIndex: []\nEmpty DataFrame\nColumns: []\nIndex: []\nEmpty DataFrame\nColumns: [7, 44]\nIndex: []\nEmpty DataFrame\nColumns: []\nIndex: []\nEmpty DataFrame\nColumns: [7, 45]\nIndex: []\nEmpty DataFrame\nColumns: []\nIndex: []\nEmpty DataFrame\nColumns: [7, 46]\nIndex: []\nEmpty DataFrame\nColumns: []\nIndex: []\nEmpty DataFrame\nColumns: [7, 47]\nIndex: []\nEmpty DataFrame\nColumns: []\nIndex: []\nEmpty DataFrame\nColumns: [7, 48]\nIndex: []\nEmpty DataFrame\nColumns: []\nIndex: []\n"
     ]
    },
    {
     "name": "stdout",
     "output_type": "stream",
     "text": [
      "Empty DataFrame\nColumns: [7, 49]\nIndex: []\n    49\n49 NaN\nEmpty DataFrame\nColumns: [7, 50]\nIndex: []\nEmpty DataFrame\nColumns: []\nIndex: []\nEmpty DataFrame\nColumns: [7, 51]\nIndex: []\nEmpty DataFrame\nColumns: []\nIndex: []\nEmpty DataFrame\nColumns: [7, 52]\nIndex: []\nEmpty DataFrame\nColumns: []\nIndex: []\nEmpty DataFrame\nColumns: [7, 53]\nIndex: []\nEmpty DataFrame\nColumns: []\nIndex: []\nEmpty DataFrame\nColumns: [7, 54]\nIndex: []\nEmpty DataFrame\nColumns: []\nIndex: []\nEmpty DataFrame\nColumns: [7, 55]\nIndex: []\nEmpty DataFrame\nColumns: []\nIndex: []\nEmpty DataFrame\nColumns: [7, 56]\nIndex: []\nEmpty DataFrame\nColumns: []\nIndex: []\nEmpty DataFrame\nColumns: [7, 57]\nIndex: []\nEmpty DataFrame\nColumns: []\nIndex: []\nEmpty DataFrame\nColumns: [7, 58]\nIndex: []\nEmpty DataFrame\nColumns: []\nIndex: []\nEmpty DataFrame\nColumns: [7, 59]\nIndex: []\nEmpty DataFrame\nColumns: []\nIndex: []\nEmpty DataFrame\nColumns: [7, 60]\nIndex: []\nEmpty DataFrame\nColumns: []\nIndex: []\nEmpty DataFrame\nColumns: [7, 61]\nIndex: []\nEmpty DataFrame\nColumns: []\nIndex: []\nEmpty DataFrame\nColumns: [7, 62]\nIndex: []\nEmpty DataFrame\nColumns: []\nIndex: []\nEmpty DataFrame\nColumns: [7, 63]\nIndex: []\n"
     ]
    },
    {
     "name": "stdout",
     "output_type": "stream",
     "text": [
      "Empty DataFrame\nColumns: []\nIndex: []\nEmpty DataFrame\nColumns: [7, 64]\nIndex: []\nEmpty DataFrame\nColumns: []\nIndex: []\nEmpty DataFrame\nColumns: [7, 65]\nIndex: []\nEmpty DataFrame\nColumns: []\nIndex: []\nEmpty DataFrame\nColumns: [7, 66]\nIndex: []\nEmpty DataFrame\nColumns: []\nIndex: []\nEmpty DataFrame\nColumns: [7, 67]\nIndex: []\nEmpty DataFrame\nColumns: []\nIndex: []\nEmpty DataFrame\nColumns: [7, 68]\nIndex: []\nEmpty DataFrame\nColumns: []\nIndex: []\nEmpty DataFrame\nColumns: [7, 69]\nIndex: []\n    69\n69 NaN\nEmpty DataFrame\nColumns: [7, 70]\nIndex: []\n    70\n70 NaN\nEmpty DataFrame\nColumns: [7, 71]\nIndex: []\nEmpty DataFrame\nColumns: []\nIndex: []\nEmpty DataFrame\nColumns: [7, 72]\nIndex: []\nEmpty DataFrame\nColumns: []\nIndex: []\nEmpty DataFrame\nColumns: [7, 73]\nIndex: []\nEmpty DataFrame\nColumns: []\nIndex: []\nEmpty DataFrame\nColumns: [7, 74]\nIndex: []\n    74\n74 NaN\nEmpty DataFrame\nColumns: [7, 75]\nIndex: []\nEmpty DataFrame\nColumns: []\nIndex: []\nEmpty DataFrame\nColumns: [7, 76]\nIndex: []\nEmpty DataFrame\nColumns: []\nIndex: []\n"
     ]
    },
    {
     "name": "stdout",
     "output_type": "stream",
     "text": [
      "Empty DataFrame\nColumns: [7, 77]\nIndex: []\n    77\n77 NaN\nEmpty DataFrame\nColumns: [7, 78]\nIndex: []\n    78\n78 NaN\nEmpty DataFrame\nColumns: [7, 79]\nIndex: []\nEmpty DataFrame\nColumns: []\nIndex: []\nEmpty DataFrame\nColumns: [7, 80]\nIndex: []\nEmpty DataFrame\nColumns: []\nIndex: []\nEmpty DataFrame\nColumns: [7, 81]\nIndex: []\nEmpty DataFrame\nColumns: []\nIndex: []\nEmpty DataFrame\nColumns: [7, 82]\nIndex: []\n    82\n82 NaN\nEmpty DataFrame\nColumns: [7, 83]\nIndex: []\nEmpty DataFrame\nColumns: []\nIndex: []\nEmpty DataFrame\nColumns: [7, 84]\nIndex: []\nEmpty DataFrame\nColumns: []\nIndex: []\nEmpty DataFrame\nColumns: [7, 85]\nIndex: []\n    85\n85 NaN\nEmpty DataFrame\nColumns: [7, 86]\nIndex: []\n    86\n86 NaN\nEmpty DataFrame\nColumns: [7, 87]\nIndex: []\n    87\n87 NaN\n         7     88\n3014  243,6  2,41\n3025  243,6  2,41\n3026  243,6  2,41\n3027  243,6  2,41\n3028  243,6  2,41\n3029  243,6  2,41\n3036  243,6  2,41\n3037  243,6  2,41\n3038  243,6  2,41\n3030  243,6  2,41\n3031  243,6  2,41\n3032  243,6  2,41\n3033  243,6  2,41\n3034  243,6  2,41\n3035  243,6  2,41\nEmpty DataFrame\nColumns: []\nIndex: []\n         7     89\n3014  243,6  2,11\n3025  243,6  2,11\n3026  243,6  2,11\n3027  243,6  2,11\n3028  243,6  2,11\n3029  243,6  2,11\n3036  243,6  2,11\n3037  243,6  2,11\n3038  243,6  2,11\n3030  243,6  2,11\n3031  243,6  2,11\n3032  243,6  2,11\n3033  243,6  2,11\n3034  243,6  2,11\n3035  243,6  2,11\nEmpty DataFrame\nColumns: []\nIndex: []\n         7     90\n3014  243,6  4,97\n3025  243,6  4,97\n3026  243,6  4,97\n3027  243,6  4,97\n3028  243,6  4,97\n3029  243,6  4,97\n3036  243,6  4,97\n3037  243,6  4,97\n3038  243,6  4,97\n3030  243,6  4,97\n3031  243,6  4,97\n3032  243,6  4,97\n3033  243,6  4,97\n3034  243,6  4,97\n3035  243,6  4,97\nEmpty DataFrame\nColumns: []\nIndex: []\n"
     ]
    },
    {
     "name": "stdout",
     "output_type": "stream",
     "text": [
      "Empty DataFrame\nColumns: [7, 91]\nIndex: []\nEmpty DataFrame\nColumns: []\nIndex: []\nEmpty DataFrame\nColumns: [7, 92]\nIndex: []\nEmpty DataFrame\nColumns: []\nIndex: []\nEmpty DataFrame\nColumns: [7, 93]\nIndex: []\nEmpty DataFrame\nColumns: []\nIndex: []\nEmpty DataFrame\nColumns: [7, 94]\nIndex: []\n    94\n94 NaN\nEmpty DataFrame\nColumns: [7, 95]\nIndex: []\n    95\n95 NaN\nEmpty DataFrame\nColumns: [7, 96]\nIndex: []\nEmpty DataFrame\nColumns: []\nIndex: []\n         7    97\n3014  243,6  0.0\n3025  243,6  0.0\n3026  243,6  0.0\n3027  243,6  0.0\n3028  243,6  0.0\n3029  243,6  0.0\n3036  243,6  0.0\n3037  243,6  0.0\n3038  243,6  0.0\n3030  243,6  0.0\n3031  243,6  0.0\n3032  243,6  0.0\n3033  243,6  0.0\n3034  243,6  0.0\n3035  243,6  0.0\n    97\n97 NaN\nEmpty DataFrame\nColumns: [7, 98]\nIndex: []\n    98\n98 NaN\nEmpty DataFrame\nColumns: [7, 99]\nIndex: []\nEmpty DataFrame\nColumns: []\nIndex: []\nEmpty DataFrame\nColumns: [7, 100]\nIndex: []\n     100\n100  NaN\nEmpty DataFrame\nColumns: [7, 101]\nIndex: []\nEmpty DataFrame\nColumns: []\nIndex: []\nEmpty DataFrame\nColumns: [7, 102]\nIndex: []\nEmpty DataFrame\nColumns: []\nIndex: []\nEmpty DataFrame\nColumns: [7, 103]\nIndex: []\nEmpty DataFrame\nColumns: []\nIndex: []\nEmpty DataFrame\nColumns: [7, 104]\nIndex: []\nEmpty DataFrame\nColumns: []\nIndex: []\nEmpty DataFrame\nColumns: [7, 105]\nIndex: []\n     105\n105  NaN\n"
     ]
    },
    {
     "name": "stdout",
     "output_type": "stream",
     "text": [
      "Empty DataFrame\nColumns: [7, 106]\nIndex: []\n     106\n106  NaN\nEmpty DataFrame\nColumns: [7, 107]\nIndex: []\n     107\n107  NaN\nEmpty DataFrame\nColumns: [7, 108]\nIndex: []\n     108\n108  NaN\nEmpty DataFrame\nColumns: [7, 109]\nIndex: []\n     109\n109  NaN\nEmpty DataFrame\nColumns: [7, 110]\nIndex: []\n     110\n110  NaN\nEmpty DataFrame\nColumns: [7, 111]\nIndex: []\n     111\n111  NaN\nEmpty DataFrame\nColumns: [7, 112]\nIndex: []\nEmpty DataFrame\nColumns: []\nIndex: []\nEmpty DataFrame\nColumns: [7, 113]\nIndex: []\nEmpty DataFrame\nColumns: []\nIndex: []\nEmpty DataFrame\nColumns: [7, 114]\nIndex: []\nEmpty DataFrame\nColumns: []\nIndex: []\nEmpty DataFrame\nColumns: [7, 115]\nIndex: []\nEmpty DataFrame\nColumns: []\nIndex: []\nEmpty DataFrame\nColumns: [7, 116]\nIndex: []\nEmpty DataFrame\nColumns: []\nIndex: []\nEmpty DataFrame\nColumns: [7, 117]\nIndex: []\n     117\n117  NaN\nEmpty DataFrame\nColumns: [7, 118]\nIndex: []\n     118\n118  NaN\nEmpty DataFrame\nColumns: [7, 119]\nIndex: []\n     119\n119  NaN\nEmpty DataFrame\nColumns: [7, 120]\nIndex: []\n     120\n120  NaN\n"
     ]
    },
    {
     "name": "stdout",
     "output_type": "stream",
     "text": [
      "Empty DataFrame\nColumns: [7, 121]\nIndex: []\n     121\n121  NaN\nEmpty DataFrame\nColumns: [7, 122]\nIndex: []\n     122\n122  NaN\nEmpty DataFrame\nColumns: [7, 123]\nIndex: []\n     123\n123  NaN\nEmpty DataFrame\nColumns: [7, 124]\nIndex: []\n     124\n124  NaN\nEmpty DataFrame\nColumns: [7, 125]\nIndex: []\n     125\n125  NaN\nEmpty DataFrame\nColumns: [7, 126]\nIndex: []\nEmpty DataFrame\nColumns: []\nIndex: []\nEmpty DataFrame\nColumns: [7, 127]\nIndex: []\nEmpty DataFrame\nColumns: []\nIndex: []\nEmpty DataFrame\nColumns: [7, 128]\nIndex: []\nEmpty DataFrame\nColumns: []\nIndex: []\nEmpty DataFrame\nColumns: [7, 129]\nIndex: []\nEmpty DataFrame\nColumns: []\nIndex: []\nEmpty DataFrame\nColumns: [7, 130]\nIndex: []\n     130\n130  NaN\nEmpty DataFrame\nColumns: [7, 131]\nIndex: []\nEmpty DataFrame\nColumns: []\nIndex: []\nEmpty DataFrame\nColumns: [7, 132]\nIndex: []\nEmpty DataFrame\nColumns: []\nIndex: []\nEmpty DataFrame\nColumns: [7, 133]\nIndex: []\nEmpty DataFrame\nColumns: []\nIndex: []\nEmpty DataFrame\nColumns: [7, 134]\nIndex: []\nEmpty DataFrame\nColumns: []\nIndex: []\n"
     ]
    },
    {
     "name": "stdout",
     "output_type": "stream",
     "text": [
      "Empty DataFrame\nColumns: [7, 135]\nIndex: []\nEmpty DataFrame\nColumns: []\nIndex: []\nEmpty DataFrame\nColumns: [7, 136]\nIndex: []\nEmpty DataFrame\nColumns: []\nIndex: []\nEmpty DataFrame\nColumns: [7, 137]\nIndex: []\nEmpty DataFrame\nColumns: []\nIndex: []\nEmpty DataFrame\nColumns: [7, 138]\nIndex: []\nEmpty DataFrame\nColumns: []\nIndex: []\nEmpty DataFrame\nColumns: [7, 139]\nIndex: []\nEmpty DataFrame\nColumns: []\nIndex: []\nEmpty DataFrame\nColumns: [7, 140]\nIndex: []\nEmpty DataFrame\nColumns: []\nIndex: []\nEmpty DataFrame\nColumns: [7, 141]\nIndex: []\nEmpty DataFrame\nColumns: []\nIndex: []\nEmpty DataFrame\nColumns: [7, 142]\nIndex: []\nEmpty DataFrame\nColumns: []\nIndex: []\nEmpty DataFrame\nColumns: [7, 143]\nIndex: []\nEmpty DataFrame\nColumns: []\nIndex: []\nEmpty DataFrame\nColumns: [7, 144]\nIndex: []\nEmpty DataFrame\nColumns: []\nIndex: []\nEmpty DataFrame\nColumns: [7, 145]\nIndex: []\nEmpty DataFrame\nColumns: []\nIndex: []\nEmpty DataFrame\nColumns: [7, 146]\nIndex: []\nEmpty DataFrame\nColumns: []\nIndex: []\nEmpty DataFrame\nColumns: [7, 147]\nIndex: []\nEmpty DataFrame\nColumns: []\nIndex: []\nEmpty DataFrame\nColumns: [7, 148]\nIndex: []\nEmpty DataFrame\nColumns: []\nIndex: []\n"
     ]
    },
    {
     "name": "stdout",
     "output_type": "stream",
     "text": [
      "Empty DataFrame\nColumns: [7, 149]\nIndex: []\nEmpty DataFrame\nColumns: []\nIndex: []\nEmpty DataFrame\nColumns: [7, 150]\nIndex: []\nEmpty DataFrame\nColumns: []\nIndex: []\nEmpty DataFrame\nColumns: [7, 151]\nIndex: []\nEmpty DataFrame\nColumns: []\nIndex: []\nEmpty DataFrame\nColumns: [7, 152]\nIndex: []\n     152\n152  NaN\nEmpty DataFrame\nColumns: [7, 153]\nIndex: []\n     153\n153  NaN\nEmpty DataFrame\nColumns: [7, 154]\nIndex: []\n     154\n154  NaN\nEmpty DataFrame\nColumns: [7, 155]\nIndex: []\nEmpty DataFrame\nColumns: []\nIndex: []\nEmpty DataFrame\nColumns: [7, 156]\nIndex: []\nEmpty DataFrame\nColumns: []\nIndex: []\nEmpty DataFrame\nColumns: [7, 157]\nIndex: []\nEmpty DataFrame\nColumns: []\nIndex: []\nEmpty DataFrame\nColumns: [7, 158]\nIndex: []\nEmpty DataFrame\nColumns: []\nIndex: []\nEmpty DataFrame\nColumns: [7, 159]\nIndex: []\nEmpty DataFrame\nColumns: []\nIndex: []\nEmpty DataFrame\nColumns: [7, 160]\nIndex: []\nEmpty DataFrame\nColumns: []\nIndex: []\nEmpty DataFrame\nColumns: [7, 161]\nIndex: []\nEmpty DataFrame\nColumns: []\nIndex: []\nEmpty DataFrame\nColumns: [7, 162]\nIndex: []\n     162\n162  NaN\nEmpty DataFrame\nColumns: [7, 163]\nIndex: []\nEmpty DataFrame\nColumns: []\nIndex: []\n"
     ]
    },
    {
     "name": "stdout",
     "output_type": "stream",
     "text": [
      "Empty DataFrame\nColumns: [7, 164]\nIndex: []\nEmpty DataFrame\nColumns: []\nIndex: []\nEmpty DataFrame\nColumns: [7, 165]\nIndex: []\n     165\n165  NaN\nEmpty DataFrame\nColumns: [7, 166]\nIndex: []\nEmpty DataFrame\nColumns: []\nIndex: []\nEmpty DataFrame\nColumns: [7, 167]\nIndex: []\nEmpty DataFrame\nColumns: []\nIndex: []\nEmpty DataFrame\nColumns: [7, 168]\nIndex: []\nEmpty DataFrame\nColumns: []\nIndex: []\nEmpty DataFrame\nColumns: [7, 169]\nIndex: []\nEmpty DataFrame\nColumns: []\nIndex: []\nEmpty DataFrame\nColumns: [7, 170]\nIndex: []\nEmpty DataFrame\nColumns: []\nIndex: []\nEmpty DataFrame\nColumns: [7, 171]\nIndex: []\nEmpty DataFrame\nColumns: []\nIndex: []\nEmpty DataFrame\nColumns: [7, 172]\nIndex: []\nEmpty DataFrame\nColumns: []\nIndex: []\nEmpty DataFrame\nColumns: [7, 173]\nIndex: []\nEmpty DataFrame\nColumns: []\nIndex: []\nEmpty DataFrame\nColumns: [7, 174]\nIndex: []\nEmpty DataFrame\nColumns: []\nIndex: []\nEmpty DataFrame\nColumns: [7, 175]\nIndex: []\nEmpty DataFrame\nColumns: []\nIndex: []\nEmpty DataFrame\nColumns: [7, 176]\nIndex: []\n     176\n176  NaN\nEmpty DataFrame\nColumns: [7, 177]\nIndex: []\nEmpty DataFrame\nColumns: []\nIndex: []\nEmpty DataFrame\nColumns: [7, 178]\nIndex: []\n"
     ]
    },
    {
     "name": "stdout",
     "output_type": "stream",
     "text": [
      "Empty DataFrame\nColumns: []\nIndex: []\nEmpty DataFrame\nColumns: [7, 179]\nIndex: []\nEmpty DataFrame\nColumns: []\nIndex: []\nEmpty DataFrame\nColumns: [7, 180]\nIndex: []\nEmpty DataFrame\nColumns: []\nIndex: []\nEmpty DataFrame\nColumns: [7, 181]\nIndex: []\nEmpty DataFrame\nColumns: []\nIndex: []\nEmpty DataFrame\nColumns: [7, 182]\nIndex: []\nEmpty DataFrame\nColumns: []\nIndex: []\nEmpty DataFrame\nColumns: [7, 183]\nIndex: []\n     183\n183  NaN\nEmpty DataFrame\nColumns: [7, 184]\nIndex: []\nEmpty DataFrame\nColumns: []\nIndex: []\nEmpty DataFrame\nColumns: [7, 185]\nIndex: []\nEmpty DataFrame\nColumns: []\nIndex: []\nEmpty DataFrame\nColumns: [7, 186]\nIndex: []\nEmpty DataFrame\nColumns: []\nIndex: []\nEmpty DataFrame\nColumns: [7, 187]\nIndex: []\nEmpty DataFrame\nColumns: []\nIndex: []\nEmpty DataFrame\nColumns: [7, 188]\nIndex: []\nEmpty DataFrame\nColumns: []\nIndex: []\nEmpty DataFrame\nColumns: [7, 189]\nIndex: []\nEmpty DataFrame\nColumns: []\nIndex: []\nEmpty DataFrame\nColumns: [7, 190]\nIndex: []\nEmpty DataFrame\nColumns: []\nIndex: []\nEmpty DataFrame\nColumns: [7, 191]\nIndex: []\n     191\n191  NaN\nEmpty DataFrame\nColumns: [7, 192]\nIndex: []\n     192\n192  NaN\nEmpty DataFrame\nColumns: [7, 193]\nIndex: []\n     193\n193  NaN"
     ]
    },
    {
     "name": "stdout",
     "output_type": "stream",
     "text": [
      "\nEmpty DataFrame\nColumns: [7, 194]\nIndex: []\n     194\n194  NaN\nEmpty DataFrame\nColumns: [7, 195]\nIndex: []\nEmpty DataFrame\nColumns: []\nIndex: []\nEmpty DataFrame\nColumns: [7, 196]\nIndex: []\n     196\n196  NaN\nEmpty DataFrame\nColumns: [7, 197]\nIndex: []\n     197\n197  NaN\nEmpty DataFrame\nColumns: [7, 198]\nIndex: []\n     198\n198  NaN\nEmpty DataFrame\nColumns: [7, 199]\nIndex: []\n     199\n199  NaN\nEmpty DataFrame\nColumns: [7, 200]\nIndex: []\n     200\n200  NaN\nEmpty DataFrame\nColumns: [7, 201]\nIndex: []\n     201\n201  NaN\nEmpty DataFrame\nColumns: [7, 202]\nIndex: []\nEmpty DataFrame\nColumns: []\nIndex: []\nEmpty DataFrame\nColumns: [7, 203]\nIndex: []\nEmpty DataFrame\nColumns: []\nIndex: []\nEmpty DataFrame\nColumns: [7, 204]\nIndex: []\nEmpty DataFrame\nColumns: []\nIndex: []\nEmpty DataFrame\nColumns: [7, 205]\nIndex: []\nEmpty DataFrame\nColumns: []\nIndex: []\nEmpty DataFrame\nColumns: [7, 206]\nIndex: []\nEmpty DataFrame\nColumns: []\nIndex: []\n"
     ]
    },
    {
     "name": "stdout",
     "output_type": "stream",
     "text": [
      "Empty DataFrame\nColumns: [7, 207]\nIndex: []\nEmpty DataFrame\nColumns: []\nIndex: []\nEmpty DataFrame\nColumns: [7, 208]\nIndex: []\nEmpty DataFrame\nColumns: []\nIndex: []\nEmpty DataFrame\nColumns: [7, 209]\nIndex: []\nEmpty DataFrame\nColumns: []\nIndex: []\nEmpty DataFrame\nColumns: [7, 210]\nIndex: []\nEmpty DataFrame\nColumns: []\nIndex: []\nEmpty DataFrame\nColumns: [7, 211]\nIndex: []\nEmpty DataFrame\nColumns: []\nIndex: []\nEmpty DataFrame\nColumns: [7, 212]\nIndex: []\nEmpty DataFrame\nColumns: []\nIndex: []\nEmpty DataFrame\nColumns: [7, 213]\nIndex: []\nEmpty DataFrame\nColumns: []\nIndex: []\nEmpty DataFrame\nColumns: [7, 214]\nIndex: []\nEmpty DataFrame\nColumns: []\nIndex: []\nEmpty DataFrame\nColumns: [7, 215]\nIndex: []\nEmpty DataFrame\nColumns: []\nIndex: []\nEmpty DataFrame\nColumns: [7, 216]\nIndex: []\nEmpty DataFrame\nColumns: []\nIndex: []\nEmpty DataFrame\nColumns: [7, 217]\nIndex: []\nEmpty DataFrame\nColumns: []\nIndex: []\nEmpty DataFrame\nColumns: [7, 218]\nIndex: []\n     218\n218  NaN\nEmpty DataFrame\nColumns: [7, 219]\nIndex: []\n     219\n219  NaN\nEmpty DataFrame\nColumns: [7, 220]\nIndex: []\n     220\n220  NaN\n"
     ]
    },
    {
     "name": "stdout",
     "output_type": "stream",
     "text": [
      "Empty DataFrame\nColumns: [7, 221]\nIndex: []\n     221\n221  NaN\nEmpty DataFrame\nColumns: [7, 222]\nIndex: []\n     222\n222  NaN\nEmpty DataFrame\nColumns: [7, 223]\nIndex: []\nEmpty DataFrame\nColumns: []\nIndex: []\nEmpty DataFrame\nColumns: [7, 224]\nIndex: []\nEmpty DataFrame\nColumns: []\nIndex: []\nEmpty DataFrame\nColumns: [7, 225]\nIndex: []\nEmpty DataFrame\nColumns: []\nIndex: []\nEmpty DataFrame\nColumns: [7, 226]\nIndex: []\n     226\n226  NaN\nEmpty DataFrame\nColumns: [7, 227]\nIndex: []\n     227\n227  NaN\nEmpty DataFrame\nColumns: [7, 228]\nIndex: []\n     228\n228  NaN\nEmpty DataFrame\nColumns: [7, 229]\nIndex: []\nEmpty DataFrame\nColumns: []\nIndex: []\nEmpty DataFrame\nColumns: [7, 230]\nIndex: []\n     230\n230  NaN\nEmpty DataFrame\nColumns: [7, 231]\nIndex: []\n     231\n231  NaN\nEmpty DataFrame\nColumns: [7, 232]\nIndex: []\n     232\n232  NaN\nEmpty DataFrame\nColumns: [7, 233]\nIndex: []\nEmpty DataFrame\nColumns: []\nIndex: []\nEmpty DataFrame\nColumns: [7, 234]\nIndex: []\n     234\n234  NaN\n"
     ]
    },
    {
     "name": "stdout",
     "output_type": "stream",
     "text": [
      "Empty DataFrame\nColumns: [7, 235]\nIndex: []\n     235\n235  NaN\nEmpty DataFrame\nColumns: [7, 236]\nIndex: []\nEmpty DataFrame\nColumns: []\nIndex: []\nEmpty DataFrame\nColumns: [7, 237]\nIndex: []\n     237\n237  NaN\nEmpty DataFrame\nColumns: [7, 238]\nIndex: []\n     238\n238  NaN\nEmpty DataFrame\nColumns: [7, 239]\nIndex: []\nEmpty DataFrame\nColumns: []\nIndex: []\nEmpty DataFrame\nColumns: [7, 240]\nIndex: []\nEmpty DataFrame\nColumns: []\nIndex: []\nEmpty DataFrame\nColumns: [7, 241]\nIndex: []\nEmpty DataFrame\nColumns: []\nIndex: []\nEmpty DataFrame\nColumns: [7, 242]\nIndex: []\nEmpty DataFrame\nColumns: []\nIndex: []\nEmpty DataFrame\nColumns: [7, 243]\nIndex: []\nEmpty DataFrame\nColumns: []\nIndex: []\nEmpty DataFrame\nColumns: [7, 244]\nIndex: []\n     244\n244  NaN\nEmpty DataFrame\nColumns: [7, 245]\nIndex: []\nEmpty DataFrame\nColumns: []\nIndex: []\nEmpty DataFrame\nColumns: [7, 246]\nIndex: []\n     246\n246  NaN\nEmpty DataFrame\nColumns: [7, 247]\nIndex: []\n     247\n247  NaN\nEmpty DataFrame\nColumns: [7, 248]\nIndex: []\n     248\n248  NaN"
     ]
    },
    {
     "name": "stdout",
     "output_type": "stream",
     "text": [
      "\nEmpty DataFrame\nColumns: [7, 249]\nIndex: []\nEmpty DataFrame\nColumns: []\nIndex: []\nEmpty DataFrame\nColumns: [7, 250]\nIndex: []\n     250\n250  NaN\nEmpty DataFrame\nColumns: [7, 251]\nIndex: []\n     251\n251  NaN\nEmpty DataFrame\nColumns: [7, 252]\nIndex: []\nEmpty DataFrame\nColumns: []\nIndex: []\nEmpty DataFrame\nColumns: [7, 253]\nIndex: []\n     253\n253  NaN\nEmpty DataFrame\nColumns: [7, 254]\nIndex: []\n     254\n254  NaN\nEmpty DataFrame\nColumns: [7, 255]\nIndex: []\nEmpty DataFrame\nColumns: []\nIndex: []\nEmpty DataFrame\nColumns: [7, 256]\nIndex: []\nEmpty DataFrame\nColumns: []\nIndex: []\nEmpty DataFrame\nColumns: [7, 257]\nIndex: []\n     257\n257  NaN\nEmpty DataFrame\nColumns: [7, 258]\nIndex: []\n     258\n258  NaN\nEmpty DataFrame\nColumns: [7, 259]\nIndex: []\nEmpty DataFrame\nColumns: []\nIndex: []\nEmpty DataFrame\nColumns: [7, 260]\nIndex: []\nEmpty DataFrame\nColumns: []\nIndex: []\nEmpty DataFrame\nColumns: [7, 261]\nIndex: []\nEmpty DataFrame\nColumns: []\nIndex: []\nEmpty DataFrame\nColumns: [7, 262]\nIndex: []\nEmpty DataFrame\nColumns: []\nIndex: []\n"
     ]
    },
    {
     "name": "stdout",
     "output_type": "stream",
     "text": [
      "Empty DataFrame\nColumns: [7, 263]\nIndex: []\nEmpty DataFrame\nColumns: []\nIndex: []\nEmpty DataFrame\nColumns: [7, 264]\nIndex: []\nEmpty DataFrame\nColumns: []\nIndex: []\nEmpty DataFrame\nColumns: [7, 265]\nIndex: []\nEmpty DataFrame\nColumns: []\nIndex: []\nEmpty DataFrame\nColumns: [7, 266]\nIndex: []\n     266\n266  NaN\nEmpty DataFrame\nColumns: [7, 267]\nIndex: []\n     267\n267  NaN\nEmpty DataFrame\nColumns: [7, 268]\nIndex: []\nEmpty DataFrame\nColumns: []\nIndex: []\nEmpty DataFrame\nColumns: [7, 269]\nIndex: []\nEmpty DataFrame\nColumns: []\nIndex: []\nEmpty DataFrame\nColumns: [7, 270]\nIndex: []\nEmpty DataFrame\nColumns: []\nIndex: []\nEmpty DataFrame\nColumns: [7, 271]\nIndex: []\n     271\n271  NaN\nEmpty DataFrame\nColumns: [7, 272]\nIndex: []\n     272\n272  NaN\nEmpty DataFrame\nColumns: [7, 273]\nIndex: []\nEmpty DataFrame\nColumns: []\nIndex: []\nEmpty DataFrame\nColumns: [7, 274]\nIndex: []\nEmpty DataFrame\nColumns: []\nIndex: []\nEmpty DataFrame\nColumns: [7, 275]\nIndex: []\nEmpty DataFrame\nColumns: []\nIndex: []\nEmpty DataFrame\nColumns: [7, 276]\nIndex: []\n"
     ]
    },
    {
     "name": "stdout",
     "output_type": "stream",
     "text": [
      "Empty DataFrame\nColumns: []\nIndex: []\nEmpty DataFrame\nColumns: [7, 277]\nIndex: []\nEmpty DataFrame\nColumns: []\nIndex: []\nEmpty DataFrame\nColumns: [7, 278]\nIndex: []\nEmpty DataFrame\nColumns: []\nIndex: []\nEmpty DataFrame\nColumns: [7, 279]\nIndex: []\n     279\n279  NaN\nEmpty DataFrame\nColumns: [7, 280]\nIndex: []\nEmpty DataFrame\nColumns: []\nIndex: []\nEmpty DataFrame\nColumns: [7, 281]\nIndex: []\nEmpty DataFrame\nColumns: []\nIndex: []\nEmpty DataFrame\nColumns: [7, 282]\nIndex: []\nEmpty DataFrame\nColumns: []\nIndex: []\nEmpty DataFrame\nColumns: [7, 283]\nIndex: []\nEmpty DataFrame\nColumns: []\nIndex: []\nEmpty DataFrame\nColumns: [7, 284]\nIndex: []\nEmpty DataFrame\nColumns: []\nIndex: []\nEmpty DataFrame\nColumns: [7, 285]\nIndex: []\n     285\n285  NaN\nEmpty DataFrame\nColumns: [7, 286]\nIndex: []\nEmpty DataFrame\nColumns: []\nIndex: []\nEmpty DataFrame\nColumns: [7, 287]\nIndex: []\nEmpty DataFrame\nColumns: []\nIndex: []\nEmpty DataFrame\nColumns: [7, 288]\nIndex: []\nEmpty DataFrame\nColumns: []\nIndex: []\n"
     ]
    },
    {
     "name": "stdout",
     "output_type": "stream",
     "text": [
      "Empty DataFrame\nColumns: [7, 289]\nIndex: []\nEmpty DataFrame\nColumns: []\nIndex: []\nEmpty DataFrame\nColumns: [7, 290]\nIndex: []\n     290\n290  NaN\nEmpty DataFrame\nColumns: [7, 291]\nIndex: []\n     291\n291  NaN\nEmpty DataFrame\nColumns: [7, 292]\nIndex: []\nEmpty DataFrame\nColumns: []\nIndex: []\nEmpty DataFrame\nColumns: [7, 293]\nIndex: []\n     293\n293  NaN\nEmpty DataFrame\nColumns: [7, 294]\nIndex: []\nEmpty DataFrame\nColumns: []\nIndex: []\nEmpty DataFrame\nColumns: [7, 295]\nIndex: []\n     295\n295  NaN\nEmpty DataFrame\nColumns: [7, 296]\nIndex: []\n     296\n296  NaN\nEmpty DataFrame\nColumns: [7, 297]\nIndex: []\n     297\n297  NaN\nEmpty DataFrame\nColumns: [7, 298]\nIndex: []\nEmpty DataFrame\nColumns: []\nIndex: []\nEmpty DataFrame\nColumns: [7, 299]\nIndex: []\nEmpty DataFrame\nColumns: []\nIndex: []\nEmpty DataFrame\nColumns: [7, 300]\nIndex: []\nEmpty DataFrame\nColumns: []\nIndex: []\nEmpty DataFrame\nColumns: [7, 301]\nIndex: []\nEmpty DataFrame\nColumns: []\nIndex: []\nEmpty DataFrame\nColumns: [7, 302]\nIndex: []\nEmpty DataFrame\nColumns: []\nIndex: []\n"
     ]
    },
    {
     "name": "stdout",
     "output_type": "stream",
     "text": [
      "Empty DataFrame\nColumns: [7, 303]\nIndex: []\nEmpty DataFrame\nColumns: []\nIndex: []\nEmpty DataFrame\nColumns: [7, 304]\nIndex: []\nEmpty DataFrame\nColumns: []\nIndex: []\nEmpty DataFrame\nColumns: [7, 305]\nIndex: []\nEmpty DataFrame\nColumns: []\nIndex: []\nEmpty DataFrame\nColumns: [7, 306]\nIndex: []\nEmpty DataFrame\nColumns: []\nIndex: []\nEmpty DataFrame\nColumns: [7, 307]\nIndex: []\n     307\n307  NaN\nEmpty DataFrame\nColumns: [7, 308]\nIndex: []\n     308\n308  NaN\nEmpty DataFrame\nColumns: [7, 309]\nIndex: []\n     309\n309  NaN\nEmpty DataFrame\nColumns: [7, 310]\nIndex: []\n     310\n310  NaN\nEmpty DataFrame\nColumns: [7, 311]\nIndex: []\nEmpty DataFrame\nColumns: []\nIndex: []\nEmpty DataFrame\nColumns: [7, 312]\nIndex: []\nEmpty DataFrame\nColumns: []\nIndex: []\nEmpty DataFrame\nColumns: [7, 313]\nIndex: []\nEmpty DataFrame\nColumns: []\nIndex: []\nEmpty DataFrame\nColumns: [7, 314]\nIndex: []\n     314\n314  NaN\nEmpty DataFrame\nColumns: [7, 315]\nIndex: []\n     315\n315  NaN\nEmpty DataFrame\nColumns: [7, 316]\nIndex: []\nEmpty DataFrame\nColumns: []\nIndex: []\nEmpty DataFrame\nColumns: [7, 317]\nIndex: []\nEmpty DataFrame\nColumns: []\nIndex: []\n"
     ]
    },
    {
     "name": "stdout",
     "output_type": "stream",
     "text": [
      "Empty DataFrame\nColumns: [7, 318]\nIndex: []\nEmpty DataFrame\nColumns: []\nIndex: []\nEmpty DataFrame\nColumns: [7, 319]\nIndex: []\n     319\n319  NaN\nEmpty DataFrame\nColumns: [7, 320]\nIndex: []\n     320\n320  NaN\nEmpty DataFrame\nColumns: [7, 321]\nIndex: []\n     321\n321  NaN\nEmpty DataFrame\nColumns: [7, 322]\nIndex: []\nEmpty DataFrame\nColumns: []\nIndex: []\nEmpty DataFrame\nColumns: [7, 323]\nIndex: []\nEmpty DataFrame\nColumns: []\nIndex: []\nEmpty DataFrame\nColumns: [7, 324]\nIndex: []\nEmpty DataFrame\nColumns: []\nIndex: []\nEmpty DataFrame\nColumns: [7, 325]\nIndex: []\nEmpty DataFrame\nColumns: []\nIndex: []\nEmpty DataFrame\nColumns: [7, 326]\nIndex: []\nEmpty DataFrame\nColumns: []\nIndex: []\nEmpty DataFrame\nColumns: [7, 327]\nIndex: []\nEmpty DataFrame\nColumns: []\nIndex: []\nEmpty DataFrame\nColumns: [7, 328]\nIndex: []\nEmpty DataFrame\nColumns: []\nIndex: []\nEmpty DataFrame\nColumns: [7, 329]\nIndex: []\nEmpty DataFrame\nColumns: []\nIndex: []\nEmpty DataFrame\nColumns: [7, 330]\nIndex: []\nEmpty DataFrame\nColumns: []\nIndex: []\nEmpty DataFrame\nColumns: [7, 331]\nIndex: []\nEmpty DataFrame\nColumns: []\nIndex: []\n"
     ]
    },
    {
     "name": "stdout",
     "output_type": "stream",
     "text": [
      "Empty DataFrame\nColumns: [7, 332]\nIndex: []\nEmpty DataFrame\nColumns: []\nIndex: []\nEmpty DataFrame\nColumns: [7, 333]\nIndex: []\n     333\n333  NaN\nEmpty DataFrame\nColumns: [7, 334]\nIndex: []\n     334\n334  NaN\nEmpty DataFrame\nColumns: [7, 335]\nIndex: []\nEmpty DataFrame\nColumns: []\nIndex: []\nEmpty DataFrame\nColumns: [7, 336]\nIndex: []\nEmpty DataFrame\nColumns: []\nIndex: []\nEmpty DataFrame\nColumns: [7, 337]\nIndex: []\n     337\n337  NaN\nEmpty DataFrame\nColumns: [7, 338]\nIndex: []\n     338\n338  NaN\nEmpty DataFrame\nColumns: [7, 339]\nIndex: []\n     339\n339  NaN\nEmpty DataFrame\nColumns: [7, 340]\nIndex: []\nEmpty DataFrame\nColumns: []\nIndex: []\nEmpty DataFrame\nColumns: [7, 341]\nIndex: []\nEmpty DataFrame\nColumns: []\nIndex: []\nEmpty DataFrame\nColumns: [7, 342]\nIndex: []\nEmpty DataFrame\nColumns: []\nIndex: []\nEmpty DataFrame\nColumns: [7, 343]\nIndex: []\nEmpty DataFrame\nColumns: []\nIndex: []\nEmpty DataFrame\nColumns: [7, 344]\nIndex: []\nEmpty DataFrame\nColumns: []\nIndex: []\nEmpty DataFrame\nColumns: [7, 345]\nIndex: []\n     345\n345  NaN\nEmpty DataFrame\nColumns: [7, 346]\nIndex: []\nEmpty DataFrame\nColumns: []\nIndex: []\nEmpty DataFrame\nColumns: [7, 347]\nIndex: []\nEmpty DataFrame\nColumns: []\nIndex: []"
     ]
    },
    {
     "name": "stdout",
     "output_type": "stream",
     "text": [
      "\nEmpty DataFrame\nColumns: [7, 348]\nIndex: []\n     348\n348  NaN\nEmpty DataFrame\nColumns: [7, 349]\nIndex: []\nEmpty DataFrame\nColumns: []\nIndex: []\nEmpty DataFrame\nColumns: [7, 350]\nIndex: []\nEmpty DataFrame\nColumns: []\nIndex: []\nEmpty DataFrame\nColumns: [7, 351]\nIndex: []\n     351\n351  NaN\nEmpty DataFrame\nColumns: [7, 352]\nIndex: []\nEmpty DataFrame\nColumns: []\nIndex: []\nEmpty DataFrame\nColumns: [7, 353]\nIndex: []\nEmpty DataFrame\nColumns: []\nIndex: []\nEmpty DataFrame\nColumns: [7, 354]\nIndex: []\n     354\n354  NaN\nEmpty DataFrame\nColumns: [7, 355]\nIndex: []\n     355\n355  NaN\nEmpty DataFrame\nColumns: [7, 356]\nIndex: []\n     356\n356  NaN\nEmpty DataFrame\nColumns: [7, 357]\nIndex: []\n     357\n357  NaN\nEmpty DataFrame\nColumns: [7, 358]\nIndex: []\n     358\n358  NaN\nEmpty DataFrame\nColumns: [7, 359]\nIndex: []\n     359\n359  NaN\nEmpty DataFrame\nColumns: [7, 360]\nIndex: []\n     360\n360  NaN\nEmpty DataFrame\nColumns: [7, 361]\nIndex: []\n     361\n361  NaN\nEmpty DataFrame\nColumns: [7, 362]\nIndex: []\n     362\n362  NaN\nEmpty DataFrame\nColumns: [7, 363]\nIndex: []\n"
     ]
    },
    {
     "name": "stdout",
     "output_type": "stream",
     "text": [
      "Empty DataFrame\nColumns: []\nIndex: []\nEmpty DataFrame\nColumns: [7, 364]\nIndex: []\nEmpty DataFrame\nColumns: []\nIndex: []\nEmpty DataFrame\nColumns: [7, 365]\nIndex: []\nEmpty DataFrame\nColumns: []\nIndex: []\nEmpty DataFrame\nColumns: [7, 366]\nIndex: []\nEmpty DataFrame\nColumns: []\nIndex: []\nEmpty DataFrame\nColumns: [7, 367]\nIndex: []\n     367\n367  NaN\nEmpty DataFrame\nColumns: [7, 368]\nIndex: []\nEmpty DataFrame\nColumns: []\nIndex: []\nEmpty DataFrame\nColumns: [7, 369]\nIndex: []\n     369\n369  NaN\nEmpty DataFrame\nColumns: [7, 370]\nIndex: []\nEmpty DataFrame\nColumns: []\nIndex: []\nEmpty DataFrame\nColumns: [7, 371]\nIndex: []\nEmpty DataFrame\nColumns: []\nIndex: []\nEmpty DataFrame\nColumns: [7, 372]\nIndex: []\nEmpty DataFrame\nColumns: []\nIndex: []\nEmpty DataFrame\nColumns: [7, 373]\nIndex: []\nEmpty DataFrame\nColumns: []\nIndex: []\nEmpty DataFrame\nColumns: [7, 374]\nIndex: []\nEmpty DataFrame\nColumns: []\nIndex: []\nEmpty DataFrame\nColumns: [7, 375]\nIndex: []\n     375\n375  NaN\nEmpty DataFrame\nColumns: [7, 376]\nIndex: []\n     376\n376  NaN\nEmpty DataFrame\nColumns: [7, 377]\nIndex: []\nEmpty DataFrame\nColumns: []\nIndex: []\nEmpty DataFrame\nColumns: [7, 378]\nIndex: []\n     378\n378  NaN\n"
     ]
    },
    {
     "name": "stdout",
     "output_type": "stream",
     "text": [
      "Empty DataFrame\nColumns: [7, 379]\nIndex: []\nEmpty DataFrame\nColumns: []\nIndex: []\nEmpty DataFrame\nColumns: [7, 380]\nIndex: []\nEmpty DataFrame\nColumns: []\nIndex: []\nEmpty DataFrame\nColumns: [7, 381]\nIndex: []\nEmpty DataFrame\nColumns: []\nIndex: []\nEmpty DataFrame\nColumns: [7, 382]\nIndex: []\nEmpty DataFrame\nColumns: []\nIndex: []\nEmpty DataFrame\nColumns: [7, 383]\nIndex: []\nEmpty DataFrame\nColumns: []\nIndex: []\nEmpty DataFrame\nColumns: [7, 384]\nIndex: []\nEmpty DataFrame\nColumns: []\nIndex: []\nEmpty DataFrame\nColumns: [7, 385]\nIndex: []\nEmpty DataFrame\nColumns: []\nIndex: []\nEmpty DataFrame\nColumns: [7, 386]\nIndex: []\n     386\n386  NaN\nEmpty DataFrame\nColumns: [7, 387]\nIndex: []\n     387\n387  NaN\nEmpty DataFrame\nColumns: [7, 388]\nIndex: []\nEmpty DataFrame\nColumns: []\nIndex: []\nEmpty DataFrame\nColumns: [7, 389]\nIndex: []\nEmpty DataFrame\nColumns: []\nIndex: []\nEmpty DataFrame\nColumns: [7, 390]\nIndex: []\nEmpty DataFrame\nColumns: []\nIndex: []\nEmpty DataFrame\nColumns: [7, 391]\nIndex: []\nEmpty DataFrame\nColumns: []\nIndex: []\nEmpty DataFrame\nColumns: [7, 392]\nIndex: []\nEmpty DataFrame\nColumns: []\nIndex: []\nEmpty DataFrame\nColumns: [7, 393]\nIndex: []\nEmpty DataFrame\nColumns: []\nIndex: []\n"
     ]
    },
    {
     "name": "stdout",
     "output_type": "stream",
     "text": [
      "Empty DataFrame\nColumns: [7, 394]\nIndex: []\nEmpty DataFrame\nColumns: []\nIndex: []\nEmpty DataFrame\nColumns: [7, 395]\nIndex: []\nEmpty DataFrame\nColumns: []\nIndex: []\nEmpty DataFrame\nColumns: [7, 396]\nIndex: []\nEmpty DataFrame\nColumns: []\nIndex: []\nEmpty DataFrame\nColumns: [7, 397]\nIndex: []\nEmpty DataFrame\nColumns: []\nIndex: []\nEmpty DataFrame\nColumns: [7, 398]\nIndex: []\nEmpty DataFrame\nColumns: []\nIndex: []\nEmpty DataFrame\nColumns: [7, 399]\nIndex: []\n     399\n399  NaN\nEmpty DataFrame\nColumns: [7, 400]\nIndex: []\n     400\n400  NaN\nEmpty DataFrame\nColumns: [7, 401]\nIndex: []\nEmpty DataFrame\nColumns: []\nIndex: []\nEmpty DataFrame\nColumns: [7, 402]\nIndex: []\n     402\n402  NaN\nEmpty DataFrame\nColumns: [7, 403]\nIndex: []\n     403\n403  NaN\nEmpty DataFrame\nColumns: [7, 404]\nIndex: []\nEmpty DataFrame\nColumns: []\nIndex: []\nEmpty DataFrame\nColumns: [7, 405]\nIndex: []\nEmpty DataFrame\nColumns: []\nIndex: []\nEmpty DataFrame\nColumns: [7, 406]\nIndex: []\nEmpty DataFrame\nColumns: []\nIndex: []\nEmpty DataFrame\nColumns: [7, 407]\nIndex: []\n     407\n407  NaN\nEmpty DataFrame\nColumns: [7, 408]\nIndex: []\n     408\n408  NaN\n"
     ]
    },
    {
     "name": "stdout",
     "output_type": "stream",
     "text": [
      "Empty DataFrame\nColumns: [7, 409]\nIndex: []\n     409\n409  NaN\nEmpty DataFrame\nColumns: [7, 410]\nIndex: []\n     410\n410  NaN\nEmpty DataFrame\nColumns: [7, 411]\nIndex: []\n     411\n411  NaN\nEmpty DataFrame\nColumns: [7, 412]\nIndex: []\n     412\n412  NaN\nEmpty DataFrame\nColumns: [7, 413]\nIndex: []\n     413\n413  NaN\nEmpty DataFrame\nColumns: [7, 414]\nIndex: []\n     414\n414  NaN\nEmpty DataFrame\nColumns: [7, 415]\nIndex: []\n     415\n415  NaN\nEmpty DataFrame\nColumns: [7, 416]\nIndex: []\n     416\n416  NaN\nEmpty DataFrame\nColumns: [7, 417]\nIndex: []\n     417\n417  NaN\nEmpty DataFrame\nColumns: [7, 418]\nIndex: []\nEmpty DataFrame\nColumns: []\nIndex: []\nEmpty DataFrame\nColumns: [7, 419]\nIndex: []\nEmpty DataFrame\nColumns: []\nIndex: []\nEmpty DataFrame\nColumns: [7, 420]\nIndex: []\nEmpty DataFrame\nColumns: []\nIndex: []\nEmpty DataFrame\nColumns: [7, 421]\nIndex: []\n     421\n421  NaN\nEmpty DataFrame\nColumns: [7, 422]\nIndex: []\n     422\n422  NaN\nEmpty DataFrame\nColumns: [7, 423]\nIndex: []\n     423\n423  NaN\n"
     ]
    },
    {
     "name": "stdout",
     "output_type": "stream",
     "text": [
      "Empty DataFrame\nColumns: [7, 424]\nIndex: []\n     424\n424  NaN\nEmpty DataFrame\nColumns: [7, 425]\nIndex: []\nEmpty DataFrame\nColumns: []\nIndex: []\nEmpty DataFrame\nColumns: [7, 426]\nIndex: []\n     426\n426  NaN\nEmpty DataFrame\nColumns: [7, 427]\nIndex: []\nEmpty DataFrame\nColumns: []\nIndex: []\nEmpty DataFrame\nColumns: [7, 428]\nIndex: []\n     428\n428  NaN\nEmpty DataFrame\nColumns: [7, 429]\nIndex: []\n     429\n429  NaN\nEmpty DataFrame\nColumns: [7, 430]\nIndex: []\n     430\n430  NaN\nEmpty DataFrame\nColumns: [7, 431]\nIndex: []\nEmpty DataFrame\nColumns: []\nIndex: []\nEmpty DataFrame\nColumns: [7, 432]\nIndex: []\nEmpty DataFrame\nColumns: []\nIndex: []\nEmpty DataFrame\nColumns: [7, 433]\nIndex: []\n     433\n433  NaN\nEmpty DataFrame\nColumns: [7, 434]\nIndex: []\nEmpty DataFrame\nColumns: []\nIndex: []\nEmpty DataFrame\nColumns: [7, 435]\nIndex: []\n     435\n435  NaN\nEmpty DataFrame\nColumns: [7, 436]\nIndex: []\n     436\n436  NaN\nEmpty DataFrame\nColumns: [7, 437]\nIndex: []\nEmpty DataFrame\nColumns: []\nIndex: []\nEmpty DataFrame\nColumns: [7, 438]\nIndex: []\n     438\n438  NaN\n"
     ]
    },
    {
     "name": "stdout",
     "output_type": "stream",
     "text": [
      "Empty DataFrame\nColumns: [7, 439]\nIndex: []\nEmpty DataFrame\nColumns: []\nIndex: []\nEmpty DataFrame\nColumns: [7, 440]\nIndex: []\nEmpty DataFrame\nColumns: []\nIndex: []\nEmpty DataFrame\nColumns: [7, 441]\nIndex: []\n     441\n441  NaN\nEmpty DataFrame\nColumns: [7, 442]\nIndex: []\nEmpty DataFrame\nColumns: []\nIndex: []\nEmpty DataFrame\nColumns: [7, 443]\nIndex: []\nEmpty DataFrame\nColumns: []\nIndex: []\nEmpty DataFrame\nColumns: [7, 444]\nIndex: []\nEmpty DataFrame\nColumns: []\nIndex: []\nEmpty DataFrame\nColumns: [7, 445]\nIndex: []\nEmpty DataFrame\nColumns: []\nIndex: []\nEmpty DataFrame\nColumns: [7, 446]\nIndex: []\nEmpty DataFrame\nColumns: []\nIndex: []\nEmpty DataFrame\nColumns: [7, 447]\nIndex: []\nEmpty DataFrame\nColumns: []\nIndex: []\nEmpty DataFrame\nColumns: [7, 448]\nIndex: []\nEmpty DataFrame\nColumns: []\nIndex: []\nEmpty DataFrame\nColumns: [7, 449]\nIndex: []\n     449\n449  NaN\nEmpty DataFrame\nColumns: [7, 450]\nIndex: []\nEmpty DataFrame\nColumns: []\nIndex: []\nEmpty DataFrame\nColumns: [7, 451]\nIndex: []\nEmpty DataFrame\nColumns: []\nIndex: []\nEmpty DataFrame\nColumns: [7, 452]\nIndex: []\nEmpty DataFrame\nColumns: []\nIndex: []\n"
     ]
    }
   ],
   "source": [
    "CorrCoef = []\n",
    "\n",
    "for i in range(0, len(rdata.columns)-1):\n",
    "    for j in range (i+1, len(rdata.columns)):\n",
    "        f = pd.DataFrame()\n",
    "        f[i] = rdata.iloc[:,i].copy()\n",
    "        f[j] = rdata.iloc[:,j].copy()\n",
    "        f = f.dropna(axis=0, how='any')\n",
    "        print(f)\n",
    "        print(f.corr())\n",
    "        CorrCoef.append(f.corr())"
   ]
  },
  {
   "cell_type": "code",
   "execution_count": 1,
   "metadata": {},
   "outputs": [
    {
     "ename": "NameError",
     "evalue": "name 'CorrCoef' is not defined",
     "traceback": [
      "\u001b[0;31m---------------------------------------------------------------------------\u001b[0m",
      "\u001b[0;31mNameError\u001b[0m                                 Traceback (most recent call last)",
      "\u001b[0;32m<ipython-input-1-efa4034ca180>\u001b[0m in \u001b[0;36m<module>\u001b[0;34m()\u001b[0m\n\u001b[0;32m----> 1\u001b[0;31m \u001b[0;32mfor\u001b[0m \u001b[0mi\u001b[0m \u001b[0;32min\u001b[0m \u001b[0mCorrCoef\u001b[0m\u001b[0;34m:\u001b[0m\u001b[0;34m\u001b[0m\u001b[0m\n\u001b[0m\u001b[1;32m      2\u001b[0m     \u001b[0mprint\u001b[0m\u001b[0;34m(\u001b[0m\u001b[0mi\u001b[0m\u001b[0;34m)\u001b[0m\u001b[0;34m\u001b[0m\u001b[0m\n\u001b[1;32m      3\u001b[0m     \u001b[0mprint\u001b[0m\u001b[0;34m(\u001b[0m\u001b[0;34m'\\n'\u001b[0m\u001b[0;34m)\u001b[0m\u001b[0;34m\u001b[0m\u001b[0m\n",
      "\u001b[0;31mNameError\u001b[0m: name 'CorrCoef' is not defined"
     ],
     "output_type": "error"
    }
   ],
   "source": [
    "for i in CorrCoef:\n",
    "    print(i)\n",
    "    print('\\n')"
   ]
  },
  {
   "cell_type": "code",
   "execution_count": null,
   "metadata": {},
   "outputs": [],
   "source": []
  }
 ],
 "metadata": {
  "kernelspec": {
   "display_name": "Python 2",
   "language": "python",
   "name": "python2"
  },
  "language_info": {
   "codemirror_mode": {
    "name": "ipython",
    "version": 2
   },
   "file_extension": ".py",
   "mimetype": "text/x-python",
   "name": "python",
   "nbconvert_exporter": "python",
   "pygments_lexer": "ipython2",
   "version": "2.7.6"
  }
 },
 "nbformat": 4,
 "nbformat_minor": 0
}
